{
 "cells": [
  {
   "cell_type": "code",
   "execution_count": 1,
   "metadata": {},
   "outputs": [],
   "source": [
    "# Importamos las librerías que necesitamos\n",
    "\n",
    "# Librerías de extracción de datos\n",
    "# -----------------------------------------------------------------------\n",
    "\n",
    "# Importaciones:\n",
    "# Beautifulsoup\n",
    "from bs4 import BeautifulSoup\n",
    "\n",
    "# Requests\n",
    "import requests\n",
    "\n",
    "import pandas as pd\n",
    "import numpy as np\n",
    "\n",
    "from time import sleep\n",
    "\n",
    "# Importar librerías para automatización de navegadores web con Selenium\n",
    "# -----------------------------------------------------------------------\n",
    "from selenium import webdriver  # Selenium es una herramienta para automatizar la interacción con navegadores web.\n",
    "from webdriver_manager.chrome import ChromeDriverManager  # ChromeDriverManager gestiona la instalación del controlador de Chrome.\n",
    "from selenium.webdriver.common.keys import Keys  # Keys es útil para simular eventos de teclado en Selenium.\n",
    "from selenium.webdriver.support.ui import Select  # Select se utiliza para interactuar con elementos <select> en páginas web.\n",
    "from selenium.webdriver.support.ui import WebDriverWait\n",
    "from selenium.webdriver.support import expected_conditions as EC\n",
    "from selenium.common.exceptions import NoSuchElementException # Excepciones comunes de selenium que nos podemos encontrar "
   ]
  },
  {
   "cell_type": "code",
   "execution_count": 16,
   "metadata": {},
   "outputs": [],
   "source": [
    "driver = webdriver.Chrome()\n",
    "url_accidentes = \"https://www.one.gob.do/datos-y-estadisticas/\"\n",
    "driver.get(url_accidentes)\n",
    "driver.maximize_window()\n",
    "\n",
    "sleep(1)  # Esperar un segundo entre cada scroll\n",
    "\n",
    "try: \n",
    "    driver.find_element(\"xpath\", '/html/body/div[7]/section/div/ul/li[2]/a').click()\n",
    "except:\n",
    "    print('No encuentro el botón')\n",
    "\n",
    "sleep(2)\n",
    "\n",
    "for i in range(2):\n",
    "    try:\n",
    "        driver.execute_script(\"window.scrollBy(0, 500);\")  # Desplazarse 1000 píxeles hacia abajo\n",
    "    except:\n",
    "        print('No he podido descender')\n",
    "\n",
    "try: \n",
    "    driver.find_element(\"xpath\", '/html/body/div[7]/section/div/div[3]/div[2]/div/div[2]/div[2]/div/div/div[2]/header/div[2]').click()\n",
    "except:\n",
    "    print('No encuentro el botón para ampliar')\n",
    "sleep(2)\n",
    "try: \n",
    "    driver.find_element(\"xpath\", '/html/body/div[7]/section/div/div[3]/div[2]/div/div[2]/div[2]/div/div/div[2]/div/header/div[1]').click()\n",
    "except:\n",
    "    print('No encuentro el botón para abrir pestañas')\n",
    "sleep(2)\n",
    "try:\n",
    "    driver.execute_script(\"window.scrollBy(0, 700);\")\n",
    "except:\n",
    "    print('No he podido descender')\n",
    "\n",
    "try: \n",
    "    driver.find_element(\"xpath\", '/html/body/div[7]/section/div/div[3]/div[2]/div/div[2]/div[2]/div/div/div[2]/div/div/div/div/div[2]/div/table/tbody/tr[1]/td/a').click()\n",
    "except:\n",
    "    print('No encuentro el botón para descargar') #descargo el libro de códigos de accidentes de tráfico\n",
    "\n",
    "try: \n",
    "    driver.find_element(\"xpath\", '/html/body/div[7]/section/div/div[3]/div[2]/div/div[2]/div[2]/div/div/div[2]/div/div/div/div/div[2]/div/table/tbody/tr[8]/td/a').click()\n",
    "except:\n",
    "    print('No encuentro el botón para descargar') #descargo los accidentes de tráfico\n",
    "\n",
    "    "
   ]
  },
  {
   "cell_type": "code",
   "execution_count": 2,
   "metadata": {},
   "outputs": [],
   "source": [
    "driver = webdriver.Chrome()\n",
    "url_accidentes = \"file:///C:/Users/DELL/Downloads/Libro%20de%20c%C3%B3digos%20de%20defunciones%20en%20accidentes%20de%20tr%C3%A1nsito%202007_2023.htm\"\n",
    "driver.get(url_accidentes)\n",
    "driver.maximize_window()\n",
    "\n",
    "sleep(1)  # Esperar un segundo entre cada scroll\n",
    "#descargo el excel completo\n"
   ]
  },
  {
   "cell_type": "code",
   "execution_count": null,
   "metadata": {},
   "outputs": [],
   "source": []
  }
 ],
 "metadata": {
  "kernelspec": {
   "display_name": "Python 3",
   "language": "python",
   "name": "python3"
  },
  "language_info": {
   "codemirror_mode": {
    "name": "ipython",
    "version": 3
   },
   "file_extension": ".py",
   "mimetype": "text/x-python",
   "name": "python",
   "nbconvert_exporter": "python",
   "pygments_lexer": "ipython3",
   "version": "3.11.9"
  }
 },
 "nbformat": 4,
 "nbformat_minor": 2
}
