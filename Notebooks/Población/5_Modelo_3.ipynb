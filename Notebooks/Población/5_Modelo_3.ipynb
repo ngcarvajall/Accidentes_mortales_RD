{
 "cells": [
  {
   "cell_type": "markdown",
   "metadata": {},
   "source": [
    "# Notebook #5: Series temporales: predicción a futuro de la población"
   ]
  },
  {
   "cell_type": "code",
   "execution_count": 13,
   "metadata": {},
   "outputs": [
    {
     "name": "stdout",
     "output_type": "stream",
     "text": [
      "The autoreload extension is already loaded. To reload it, use:\n",
      "  %reload_ext autoreload\n"
     ]
    }
   ],
   "source": [
    "# Tratamiento de datos\n",
    "# -----------------------------------------------------------------------\n",
    "import pandas as pd\n",
    "from prophet import Prophet\n",
    "\n",
    "# Importar las clases\n",
    "# -----------------------------------------------------------------------\n",
    "import sys\n",
    "sys.path.append('../..')\n",
    "from src import soporte_funciones_BBDD as sfbd\n",
    "from src import soporte_sarima as ss\n",
    "from src import soporte_temporales as st\n",
    "from src import soporte_variables_poblacion as svp\n",
    "\n",
    "# Modelo Series Temporales\n",
    "# -----------------------------------------------------------------------\n",
    "from statsmodels.tsa.statespace.sarimax import SARIMAX\n",
    "from statsmodels.tsa.arima.model import ARIMA\n",
    "\n",
    "\n",
    "# Visualizar las métricas de error en y_test\n",
    "from sklearn.metrics import mean_absolute_error, mean_squared_error, mean_absolute_percentage_error\n",
    "import numpy as np\n",
    "\n",
    "# Visualizaciones\n",
    "# -----------------------------------------------------------------------\n",
    "import seaborn as sns\n",
    "import matplotlib.pyplot as plt\n",
    "# Configuraciones\n",
    "# -----------------------------------------------------------------------\n",
    "pd.options.display.float_format = '{:.0f}'.format\n",
    "from itertools import product\n",
    "\n",
    "%load_ext autoreload\n",
    "%autoreload 2"
   ]
  },
  {
   "cell_type": "code",
   "execution_count": 14,
   "metadata": {},
   "outputs": [],
   "source": [
    "df_poblacion = sfbd.dbeaver_fetch(sfbd.dbeaver_conexion(\"proyecto_final\"),svp.query_poblacion)"
   ]
  },
  {
   "cell_type": "code",
   "execution_count": 15,
   "metadata": {},
   "outputs": [
    {
     "data": {
      "text/html": [
       "<div>\n",
       "<style scoped>\n",
       "    .dataframe tbody tr th:only-of-type {\n",
       "        vertical-align: middle;\n",
       "    }\n",
       "\n",
       "    .dataframe tbody tr th {\n",
       "        vertical-align: top;\n",
       "    }\n",
       "\n",
       "    .dataframe thead th {\n",
       "        text-align: right;\n",
       "    }\n",
       "</style>\n",
       "<table border=\"1\" class=\"dataframe\">\n",
       "  <thead>\n",
       "    <tr style=\"text-align: right;\">\n",
       "      <th></th>\n",
       "      <th>anio</th>\n",
       "      <th>poblacion</th>\n",
       "    </tr>\n",
       "  </thead>\n",
       "  <tbody>\n",
       "    <tr>\n",
       "      <th>0</th>\n",
       "      <td>1960</td>\n",
       "      <td>3298021</td>\n",
       "    </tr>\n",
       "    <tr>\n",
       "      <th>1</th>\n",
       "      <td>1961</td>\n",
       "      <td>3408415</td>\n",
       "    </tr>\n",
       "    <tr>\n",
       "      <th>2</th>\n",
       "      <td>1962</td>\n",
       "      <td>3521164</td>\n",
       "    </tr>\n",
       "    <tr>\n",
       "      <th>3</th>\n",
       "      <td>1963</td>\n",
       "      <td>3635798</td>\n",
       "    </tr>\n",
       "    <tr>\n",
       "      <th>4</th>\n",
       "      <td>1964</td>\n",
       "      <td>3752313</td>\n",
       "    </tr>\n",
       "  </tbody>\n",
       "</table>\n",
       "</div>"
      ],
      "text/plain": [
       "   anio  poblacion\n",
       "0  1960    3298021\n",
       "1  1961    3408415\n",
       "2  1962    3521164\n",
       "3  1963    3635798\n",
       "4  1964    3752313"
      ]
     },
     "execution_count": 15,
     "metadata": {},
     "output_type": "execute_result"
    }
   ],
   "source": [
    "df_poblacion.head()"
   ]
  },
  {
   "cell_type": "code",
   "execution_count": 16,
   "metadata": {},
   "outputs": [
    {
     "data": {
      "text/html": [
       "<div>\n",
       "<style scoped>\n",
       "    .dataframe tbody tr th:only-of-type {\n",
       "        vertical-align: middle;\n",
       "    }\n",
       "\n",
       "    .dataframe tbody tr th {\n",
       "        vertical-align: top;\n",
       "    }\n",
       "\n",
       "    .dataframe thead th {\n",
       "        text-align: right;\n",
       "    }\n",
       "</style>\n",
       "<table border=\"1\" class=\"dataframe\">\n",
       "  <thead>\n",
       "    <tr style=\"text-align: right;\">\n",
       "      <th></th>\n",
       "      <th>anio</th>\n",
       "      <th>poblacion</th>\n",
       "    </tr>\n",
       "  </thead>\n",
       "  <tbody>\n",
       "    <tr>\n",
       "      <th>59</th>\n",
       "      <td>2019</td>\n",
       "      <td>10881882</td>\n",
       "    </tr>\n",
       "    <tr>\n",
       "      <th>60</th>\n",
       "      <td>2020</td>\n",
       "      <td>10999664</td>\n",
       "    </tr>\n",
       "    <tr>\n",
       "      <th>61</th>\n",
       "      <td>2021</td>\n",
       "      <td>11117873</td>\n",
       "    </tr>\n",
       "    <tr>\n",
       "      <th>62</th>\n",
       "      <td>2022</td>\n",
       "      <td>11228821</td>\n",
       "    </tr>\n",
       "    <tr>\n",
       "      <th>63</th>\n",
       "      <td>2023</td>\n",
       "      <td>11332972</td>\n",
       "    </tr>\n",
       "  </tbody>\n",
       "</table>\n",
       "</div>"
      ],
      "text/plain": [
       "    anio  poblacion\n",
       "59  2019   10881882\n",
       "60  2020   10999664\n",
       "61  2021   11117873\n",
       "62  2022   11228821\n",
       "63  2023   11332972"
      ]
     },
     "execution_count": 16,
     "metadata": {},
     "output_type": "execute_result"
    }
   ],
   "source": [
    "df_poblacion.tail()"
   ]
  },
  {
   "cell_type": "code",
   "execution_count": 17,
   "metadata": {},
   "outputs": [],
   "source": [
    "df_poblacion.columns = ['FECHA', 'Población']\n",
    "df_poblacion['FECHA'] = pd.to_datetime(df_poblacion['FECHA'].astype(str) + '-12-31')"
   ]
  },
  {
   "cell_type": "code",
   "execution_count": 18,
   "metadata": {},
   "outputs": [
    {
     "name": "stdout",
     "output_type": "stream",
     "text": [
      "El número de filas es 64 y el número de columnas es 1\n",
      "\n",
      "----------\n",
      "\n",
      "No hay duplicados\n",
      "\n",
      "----------\n",
      "\n",
      "No hay valores nulos\n",
      "\n",
      "----------\n",
      "\n",
      "Estadísticas de las variables numéricas:\n"
     ]
    },
    {
     "data": {
      "text/html": [
       "<div>\n",
       "<style scoped>\n",
       "    .dataframe tbody tr th:only-of-type {\n",
       "        vertical-align: middle;\n",
       "    }\n",
       "\n",
       "    .dataframe tbody tr th {\n",
       "        vertical-align: top;\n",
       "    }\n",
       "\n",
       "    .dataframe thead th {\n",
       "        text-align: right;\n",
       "    }\n",
       "</style>\n",
       "<table border=\"1\" class=\"dataframe\">\n",
       "  <thead>\n",
       "    <tr style=\"text-align: right;\">\n",
       "      <th></th>\n",
       "      <th>count</th>\n",
       "      <th>mean</th>\n",
       "      <th>std</th>\n",
       "      <th>min</th>\n",
       "      <th>25%</th>\n",
       "      <th>50%</th>\n",
       "      <th>75%</th>\n",
       "      <th>max</th>\n",
       "    </tr>\n",
       "  </thead>\n",
       "  <tbody>\n",
       "    <tr>\n",
       "      <th>Población</th>\n",
       "      <td>64</td>\n",
       "      <td>7329602</td>\n",
       "      <td>2443551</td>\n",
       "      <td>3298021</td>\n",
       "      <td>5203102</td>\n",
       "      <td>7352871</td>\n",
       "      <td>9432392</td>\n",
       "      <td>11332972</td>\n",
       "    </tr>\n",
       "  </tbody>\n",
       "</table>\n",
       "</div>"
      ],
      "text/plain": [
       "           count    mean     std     min     25%     50%     75%      max\n",
       "Población     64 7329602 2443551 3298021 5203102 7352871 9432392 11332972"
      ]
     },
     "metadata": {},
     "output_type": "display_data"
    }
   ],
   "source": [
    "# instanciamos la clase\n",
    "analisis_st = st.TimeSeriesAnalysis(df_poblacion, temporal_column=\"FECHA\", value_column=\"Población\")\n",
    "\n",
    "analisis_st.exploracion_datos()"
   ]
  },
  {
   "cell_type": "code",
   "execution_count": 19,
   "metadata": {},
   "outputs": [
    {
     "name": "stdout",
     "output_type": "stream",
     "text": [
      "La serie temporal es continua para la frecuencia 'A', no faltan periodos.\n"
     ]
    }
   ],
   "source": [
    "analisis_st.comprobar_serie_continua('A')"
   ]
  },
  {
   "cell_type": "code",
   "execution_count": 20,
   "metadata": {},
   "outputs": [
    {
     "data": {
      "application/vnd.plotly.v1+json": {
       "config": {
        "plotlyServerURL": "https://plot.ly"
       },
       "data": [
        {
         "hovertemplate": "Fecha=%{x}<br>Valores=%{y}<extra></extra>",
         "legendgroup": "",
         "line": {
          "color": "#636efa",
          "dash": "solid"
         },
         "marker": {
          "symbol": "circle"
         },
         "mode": "lines",
         "name": "",
         "orientation": "v",
         "showlegend": false,
         "type": "scatter",
         "x": [
          "1960-12-31T00:00:00",
          "1961-12-31T00:00:00",
          "1962-12-31T00:00:00",
          "1963-12-31T00:00:00",
          "1964-12-31T00:00:00",
          "1965-12-31T00:00:00",
          "1966-12-31T00:00:00",
          "1967-12-31T00:00:00",
          "1968-12-31T00:00:00",
          "1969-12-31T00:00:00",
          "1970-12-31T00:00:00",
          "1971-12-31T00:00:00",
          "1972-12-31T00:00:00",
          "1973-12-31T00:00:00",
          "1974-12-31T00:00:00",
          "1975-12-31T00:00:00",
          "1976-12-31T00:00:00",
          "1977-12-31T00:00:00",
          "1978-12-31T00:00:00",
          "1979-12-31T00:00:00",
          "1980-12-31T00:00:00",
          "1981-12-31T00:00:00",
          "1982-12-31T00:00:00",
          "1983-12-31T00:00:00",
          "1984-12-31T00:00:00",
          "1985-12-31T00:00:00",
          "1986-12-31T00:00:00",
          "1987-12-31T00:00:00",
          "1988-12-31T00:00:00",
          "1989-12-31T00:00:00",
          "1990-12-31T00:00:00",
          "1991-12-31T00:00:00",
          "1992-12-31T00:00:00",
          "1993-12-31T00:00:00",
          "1994-12-31T00:00:00",
          "1995-12-31T00:00:00",
          "1996-12-31T00:00:00",
          "1997-12-31T00:00:00",
          "1998-12-31T00:00:00",
          "1999-12-31T00:00:00",
          "2000-12-31T00:00:00",
          "2001-12-31T00:00:00",
          "2002-12-31T00:00:00",
          "2003-12-31T00:00:00",
          "2004-12-31T00:00:00",
          "2005-12-31T00:00:00",
          "2006-12-31T00:00:00",
          "2007-12-31T00:00:00",
          "2008-12-31T00:00:00",
          "2009-12-31T00:00:00",
          "2010-12-31T00:00:00",
          "2011-12-31T00:00:00",
          "2012-12-31T00:00:00",
          "2013-12-31T00:00:00",
          "2014-12-31T00:00:00",
          "2015-12-31T00:00:00",
          "2016-12-31T00:00:00",
          "2017-12-31T00:00:00",
          "2018-12-31T00:00:00",
          "2019-12-31T00:00:00",
          "2020-12-31T00:00:00",
          "2021-12-31T00:00:00",
          "2022-12-31T00:00:00",
          "2023-12-31T00:00:00"
         ],
         "xaxis": "x",
         "y": [
          3298021,
          3408415,
          3521164,
          3635798,
          3752313,
          3868712,
          3987090,
          4108916,
          4230877,
          4352954,
          4475871,
          4599841,
          4724801,
          4851183,
          4978582,
          5106453,
          5235318,
          5365074,
          5495443,
          5625864,
          5755800,
          5885244,
          6014979,
          6147213,
          6282104,
          6417798,
          6554325,
          6692720,
          6834207,
          6980033,
          7129004,
          7278402,
          7427340,
          7576074,
          7723934,
          7869753,
          8012314,
          8150076,
          8282126,
          8411374,
          8540791,
          8669040,
          8795101,
          8919852,
          9043127,
          9164768,
          9284168,
          9402206,
          9522948,
          9648061,
          9775755,
          9903737,
          10030882,
          10157051,
          10282115,
          10405832,
          10527592,
          10647244,
          10765531,
          10881882,
          10999664,
          11117873,
          11228821,
          11332972
         ],
         "yaxis": "y"
        }
       ],
       "layout": {
        "legend": {
         "tracegroupgap": 0
        },
        "template": {
         "data": {
          "bar": [
           {
            "error_x": {
             "color": "#2a3f5f"
            },
            "error_y": {
             "color": "#2a3f5f"
            },
            "marker": {
             "line": {
              "color": "white",
              "width": 0.5
             },
             "pattern": {
              "fillmode": "overlay",
              "size": 10,
              "solidity": 0.2
             }
            },
            "type": "bar"
           }
          ],
          "barpolar": [
           {
            "marker": {
             "line": {
              "color": "white",
              "width": 0.5
             },
             "pattern": {
              "fillmode": "overlay",
              "size": 10,
              "solidity": 0.2
             }
            },
            "type": "barpolar"
           }
          ],
          "carpet": [
           {
            "aaxis": {
             "endlinecolor": "#2a3f5f",
             "gridcolor": "#C8D4E3",
             "linecolor": "#C8D4E3",
             "minorgridcolor": "#C8D4E3",
             "startlinecolor": "#2a3f5f"
            },
            "baxis": {
             "endlinecolor": "#2a3f5f",
             "gridcolor": "#C8D4E3",
             "linecolor": "#C8D4E3",
             "minorgridcolor": "#C8D4E3",
             "startlinecolor": "#2a3f5f"
            },
            "type": "carpet"
           }
          ],
          "choropleth": [
           {
            "colorbar": {
             "outlinewidth": 0,
             "ticks": ""
            },
            "type": "choropleth"
           }
          ],
          "contour": [
           {
            "colorbar": {
             "outlinewidth": 0,
             "ticks": ""
            },
            "colorscale": [
             [
              0,
              "#0d0887"
             ],
             [
              0.1111111111111111,
              "#46039f"
             ],
             [
              0.2222222222222222,
              "#7201a8"
             ],
             [
              0.3333333333333333,
              "#9c179e"
             ],
             [
              0.4444444444444444,
              "#bd3786"
             ],
             [
              0.5555555555555556,
              "#d8576b"
             ],
             [
              0.6666666666666666,
              "#ed7953"
             ],
             [
              0.7777777777777778,
              "#fb9f3a"
             ],
             [
              0.8888888888888888,
              "#fdca26"
             ],
             [
              1,
              "#f0f921"
             ]
            ],
            "type": "contour"
           }
          ],
          "contourcarpet": [
           {
            "colorbar": {
             "outlinewidth": 0,
             "ticks": ""
            },
            "type": "contourcarpet"
           }
          ],
          "heatmap": [
           {
            "colorbar": {
             "outlinewidth": 0,
             "ticks": ""
            },
            "colorscale": [
             [
              0,
              "#0d0887"
             ],
             [
              0.1111111111111111,
              "#46039f"
             ],
             [
              0.2222222222222222,
              "#7201a8"
             ],
             [
              0.3333333333333333,
              "#9c179e"
             ],
             [
              0.4444444444444444,
              "#bd3786"
             ],
             [
              0.5555555555555556,
              "#d8576b"
             ],
             [
              0.6666666666666666,
              "#ed7953"
             ],
             [
              0.7777777777777778,
              "#fb9f3a"
             ],
             [
              0.8888888888888888,
              "#fdca26"
             ],
             [
              1,
              "#f0f921"
             ]
            ],
            "type": "heatmap"
           }
          ],
          "heatmapgl": [
           {
            "colorbar": {
             "outlinewidth": 0,
             "ticks": ""
            },
            "colorscale": [
             [
              0,
              "#0d0887"
             ],
             [
              0.1111111111111111,
              "#46039f"
             ],
             [
              0.2222222222222222,
              "#7201a8"
             ],
             [
              0.3333333333333333,
              "#9c179e"
             ],
             [
              0.4444444444444444,
              "#bd3786"
             ],
             [
              0.5555555555555556,
              "#d8576b"
             ],
             [
              0.6666666666666666,
              "#ed7953"
             ],
             [
              0.7777777777777778,
              "#fb9f3a"
             ],
             [
              0.8888888888888888,
              "#fdca26"
             ],
             [
              1,
              "#f0f921"
             ]
            ],
            "type": "heatmapgl"
           }
          ],
          "histogram": [
           {
            "marker": {
             "pattern": {
              "fillmode": "overlay",
              "size": 10,
              "solidity": 0.2
             }
            },
            "type": "histogram"
           }
          ],
          "histogram2d": [
           {
            "colorbar": {
             "outlinewidth": 0,
             "ticks": ""
            },
            "colorscale": [
             [
              0,
              "#0d0887"
             ],
             [
              0.1111111111111111,
              "#46039f"
             ],
             [
              0.2222222222222222,
              "#7201a8"
             ],
             [
              0.3333333333333333,
              "#9c179e"
             ],
             [
              0.4444444444444444,
              "#bd3786"
             ],
             [
              0.5555555555555556,
              "#d8576b"
             ],
             [
              0.6666666666666666,
              "#ed7953"
             ],
             [
              0.7777777777777778,
              "#fb9f3a"
             ],
             [
              0.8888888888888888,
              "#fdca26"
             ],
             [
              1,
              "#f0f921"
             ]
            ],
            "type": "histogram2d"
           }
          ],
          "histogram2dcontour": [
           {
            "colorbar": {
             "outlinewidth": 0,
             "ticks": ""
            },
            "colorscale": [
             [
              0,
              "#0d0887"
             ],
             [
              0.1111111111111111,
              "#46039f"
             ],
             [
              0.2222222222222222,
              "#7201a8"
             ],
             [
              0.3333333333333333,
              "#9c179e"
             ],
             [
              0.4444444444444444,
              "#bd3786"
             ],
             [
              0.5555555555555556,
              "#d8576b"
             ],
             [
              0.6666666666666666,
              "#ed7953"
             ],
             [
              0.7777777777777778,
              "#fb9f3a"
             ],
             [
              0.8888888888888888,
              "#fdca26"
             ],
             [
              1,
              "#f0f921"
             ]
            ],
            "type": "histogram2dcontour"
           }
          ],
          "mesh3d": [
           {
            "colorbar": {
             "outlinewidth": 0,
             "ticks": ""
            },
            "type": "mesh3d"
           }
          ],
          "parcoords": [
           {
            "line": {
             "colorbar": {
              "outlinewidth": 0,
              "ticks": ""
             }
            },
            "type": "parcoords"
           }
          ],
          "pie": [
           {
            "automargin": true,
            "type": "pie"
           }
          ],
          "scatter": [
           {
            "fillpattern": {
             "fillmode": "overlay",
             "size": 10,
             "solidity": 0.2
            },
            "type": "scatter"
           }
          ],
          "scatter3d": [
           {
            "line": {
             "colorbar": {
              "outlinewidth": 0,
              "ticks": ""
             }
            },
            "marker": {
             "colorbar": {
              "outlinewidth": 0,
              "ticks": ""
             }
            },
            "type": "scatter3d"
           }
          ],
          "scattercarpet": [
           {
            "marker": {
             "colorbar": {
              "outlinewidth": 0,
              "ticks": ""
             }
            },
            "type": "scattercarpet"
           }
          ],
          "scattergeo": [
           {
            "marker": {
             "colorbar": {
              "outlinewidth": 0,
              "ticks": ""
             }
            },
            "type": "scattergeo"
           }
          ],
          "scattergl": [
           {
            "marker": {
             "colorbar": {
              "outlinewidth": 0,
              "ticks": ""
             }
            },
            "type": "scattergl"
           }
          ],
          "scattermapbox": [
           {
            "marker": {
             "colorbar": {
              "outlinewidth": 0,
              "ticks": ""
             }
            },
            "type": "scattermapbox"
           }
          ],
          "scatterpolar": [
           {
            "marker": {
             "colorbar": {
              "outlinewidth": 0,
              "ticks": ""
             }
            },
            "type": "scatterpolar"
           }
          ],
          "scatterpolargl": [
           {
            "marker": {
             "colorbar": {
              "outlinewidth": 0,
              "ticks": ""
             }
            },
            "type": "scatterpolargl"
           }
          ],
          "scatterternary": [
           {
            "marker": {
             "colorbar": {
              "outlinewidth": 0,
              "ticks": ""
             }
            },
            "type": "scatterternary"
           }
          ],
          "surface": [
           {
            "colorbar": {
             "outlinewidth": 0,
             "ticks": ""
            },
            "colorscale": [
             [
              0,
              "#0d0887"
             ],
             [
              0.1111111111111111,
              "#46039f"
             ],
             [
              0.2222222222222222,
              "#7201a8"
             ],
             [
              0.3333333333333333,
              "#9c179e"
             ],
             [
              0.4444444444444444,
              "#bd3786"
             ],
             [
              0.5555555555555556,
              "#d8576b"
             ],
             [
              0.6666666666666666,
              "#ed7953"
             ],
             [
              0.7777777777777778,
              "#fb9f3a"
             ],
             [
              0.8888888888888888,
              "#fdca26"
             ],
             [
              1,
              "#f0f921"
             ]
            ],
            "type": "surface"
           }
          ],
          "table": [
           {
            "cells": {
             "fill": {
              "color": "#EBF0F8"
             },
             "line": {
              "color": "white"
             }
            },
            "header": {
             "fill": {
              "color": "#C8D4E3"
             },
             "line": {
              "color": "white"
             }
            },
            "type": "table"
           }
          ]
         },
         "layout": {
          "annotationdefaults": {
           "arrowcolor": "#2a3f5f",
           "arrowhead": 0,
           "arrowwidth": 1
          },
          "autotypenumbers": "strict",
          "coloraxis": {
           "colorbar": {
            "outlinewidth": 0,
            "ticks": ""
           }
          },
          "colorscale": {
           "diverging": [
            [
             0,
             "#8e0152"
            ],
            [
             0.1,
             "#c51b7d"
            ],
            [
             0.2,
             "#de77ae"
            ],
            [
             0.3,
             "#f1b6da"
            ],
            [
             0.4,
             "#fde0ef"
            ],
            [
             0.5,
             "#f7f7f7"
            ],
            [
             0.6,
             "#e6f5d0"
            ],
            [
             0.7,
             "#b8e186"
            ],
            [
             0.8,
             "#7fbc41"
            ],
            [
             0.9,
             "#4d9221"
            ],
            [
             1,
             "#276419"
            ]
           ],
           "sequential": [
            [
             0,
             "#0d0887"
            ],
            [
             0.1111111111111111,
             "#46039f"
            ],
            [
             0.2222222222222222,
             "#7201a8"
            ],
            [
             0.3333333333333333,
             "#9c179e"
            ],
            [
             0.4444444444444444,
             "#bd3786"
            ],
            [
             0.5555555555555556,
             "#d8576b"
            ],
            [
             0.6666666666666666,
             "#ed7953"
            ],
            [
             0.7777777777777778,
             "#fb9f3a"
            ],
            [
             0.8888888888888888,
             "#fdca26"
            ],
            [
             1,
             "#f0f921"
            ]
           ],
           "sequentialminus": [
            [
             0,
             "#0d0887"
            ],
            [
             0.1111111111111111,
             "#46039f"
            ],
            [
             0.2222222222222222,
             "#7201a8"
            ],
            [
             0.3333333333333333,
             "#9c179e"
            ],
            [
             0.4444444444444444,
             "#bd3786"
            ],
            [
             0.5555555555555556,
             "#d8576b"
            ],
            [
             0.6666666666666666,
             "#ed7953"
            ],
            [
             0.7777777777777778,
             "#fb9f3a"
            ],
            [
             0.8888888888888888,
             "#fdca26"
            ],
            [
             1,
             "#f0f921"
            ]
           ]
          },
          "colorway": [
           "#636efa",
           "#EF553B",
           "#00cc96",
           "#ab63fa",
           "#FFA15A",
           "#19d3f3",
           "#FF6692",
           "#B6E880",
           "#FF97FF",
           "#FECB52"
          ],
          "font": {
           "color": "#2a3f5f"
          },
          "geo": {
           "bgcolor": "white",
           "lakecolor": "white",
           "landcolor": "white",
           "showlakes": true,
           "showland": true,
           "subunitcolor": "#C8D4E3"
          },
          "hoverlabel": {
           "align": "left"
          },
          "hovermode": "closest",
          "mapbox": {
           "style": "light"
          },
          "paper_bgcolor": "white",
          "plot_bgcolor": "white",
          "polar": {
           "angularaxis": {
            "gridcolor": "#EBF0F8",
            "linecolor": "#EBF0F8",
            "ticks": ""
           },
           "bgcolor": "white",
           "radialaxis": {
            "gridcolor": "#EBF0F8",
            "linecolor": "#EBF0F8",
            "ticks": ""
           }
          },
          "scene": {
           "xaxis": {
            "backgroundcolor": "white",
            "gridcolor": "#DFE8F3",
            "gridwidth": 2,
            "linecolor": "#EBF0F8",
            "showbackground": true,
            "ticks": "",
            "zerolinecolor": "#EBF0F8"
           },
           "yaxis": {
            "backgroundcolor": "white",
            "gridcolor": "#DFE8F3",
            "gridwidth": 2,
            "linecolor": "#EBF0F8",
            "showbackground": true,
            "ticks": "",
            "zerolinecolor": "#EBF0F8"
           },
           "zaxis": {
            "backgroundcolor": "white",
            "gridcolor": "#DFE8F3",
            "gridwidth": 2,
            "linecolor": "#EBF0F8",
            "showbackground": true,
            "ticks": "",
            "zerolinecolor": "#EBF0F8"
           }
          },
          "shapedefaults": {
           "line": {
            "color": "#2a3f5f"
           }
          },
          "ternary": {
           "aaxis": {
            "gridcolor": "#DFE8F3",
            "linecolor": "#A2B1C6",
            "ticks": ""
           },
           "baxis": {
            "gridcolor": "#DFE8F3",
            "linecolor": "#A2B1C6",
            "ticks": ""
           },
           "bgcolor": "white",
           "caxis": {
            "gridcolor": "#DFE8F3",
            "linecolor": "#A2B1C6",
            "ticks": ""
           }
          },
          "title": {
           "x": 0.05
          },
          "xaxis": {
           "automargin": true,
           "gridcolor": "#EBF0F8",
           "linecolor": "#EBF0F8",
           "ticks": "",
           "title": {
            "standoff": 15
           },
           "zerolinecolor": "#EBF0F8",
           "zerolinewidth": 2
          },
          "yaxis": {
           "automargin": true,
           "gridcolor": "#EBF0F8",
           "linecolor": "#EBF0F8",
           "ticks": "",
           "title": {
            "standoff": 15
           },
           "zerolinecolor": "#EBF0F8",
           "zerolinewidth": 2
          }
         }
        },
        "title": {
         "text": "Serie Temporal Original"
        },
        "xaxis": {
         "anchor": "y",
         "domain": [
          0,
          1
         ],
         "title": {
          "text": "Fecha"
         }
        },
        "yaxis": {
         "anchor": "x",
         "domain": [
          0,
          1
         ],
         "title": {
          "text": "Valores"
         }
        }
       }
      }
     },
     "metadata": {},
     "output_type": "display_data"
    }
   ],
   "source": [
    "analisis_st.graficar_serie()"
   ]
  },
  {
   "cell_type": "markdown",
   "metadata": {},
   "source": [
    "## Análisis de la serie temporal del parque vehicular"
   ]
  },
  {
   "cell_type": "markdown",
   "metadata": {},
   "source": [
    "- Se puede observar una tendencia en ascenso, lo que indica que ha tenido un crecimiento uniforme en el transcurso del tiempo. Sin embargo, entre el 1990-2000 esta línea que muestra un ascenso casi lineal empieza a mostrar un cambio en su fuerza de aumento. Lo cuál queda más claro a partir del 2010."
   ]
  },
  {
   "cell_type": "code",
   "execution_count": 21,
   "metadata": {},
   "outputs": [
    {
     "data": {
      "image/png": "[encoded data removed]",
      "text/plain": [
       "<Figure size 1200x1000 with 4 Axes>"
      ]
     },
     "metadata": {},
     "output_type": "display_data"
    }
   ],
   "source": [
    "analisis_st.detectar_estacionalidad()"
   ]
  },
  {
   "cell_type": "code",
   "execution_count": 22,
   "metadata": {},
   "outputs": [
    {
     "data": {
      "text/plain": [
       "<Figure size 1200x1000 with 0 Axes>"
      ]
     },
     "metadata": {},
     "output_type": "display_data"
    },
    {
     "data": {
      "image/png": "[encoded data removed]",
      "text/plain": [
       "<Figure size 640x480 with 1 Axes>"
      ]
     },
     "metadata": {},
     "output_type": "display_data"
    },
    {
     "data": {
      "text/plain": [
       "<Figure size 1200x1000 with 0 Axes>"
      ]
     },
     "metadata": {},
     "output_type": "display_data"
    },
    {
     "data": {
      "image/png": "[encoded data removed]",
      "text/plain": [
       "<Figure size 640x480 with 1 Axes>"
      ]
     },
     "metadata": {},
     "output_type": "display_data"
    }
   ],
   "source": [
    "analisis_st.graficar_acf_pacf(lags=12)"
   ]
  },
  {
   "cell_type": "markdown",
   "metadata": {},
   "source": [
    "## Análisis de las gráficas ACF y PACF"
   ]
  },
  {
   "cell_type": "markdown",
   "metadata": {},
   "source": [
    "### **Gráfica ACF (Función de Autocorrelación)**\n",
    "1. **Lag 1**:\n",
    "   - La correlación en el primer lag es muy alta, lo que indica que la variable tiene una fuerte relación con su valor del periodo inmediatamente anterior.\n",
    "   \n",
    "2. **Lags significativos**:\n",
    "   - Hasta el lag número 6 tienen correlaciones significativas que sobresalen del intervalo de confianza, lo que sugiere que también tienen impacto en la serie.\n",
    "   - Después del sexto lag, las correlaciones se adentran al intervalo de confianza.\n",
    "\n",
    "3. **Estacionalidad**:\n",
    "   - No tiene estacionalidad ya que son datos anuales   \n",
    "---\n",
    "\n",
    "### **Gráfica PACF (Función de Autocorrelación Parcial)**\n",
    "1. **Lag 1**:\n",
    "   - El primer lag muestra una correlación significativa, indicando que el valor actual está altamente influenciado por el valor del periodo inmediatamente anterior.\n",
    "\n",
    "2. **Lags significativos**:\n",
    "   - El segundo lag también tiene una fuerte conexión, sin embargo pasado este todos caen dentro del intervalo de confianza. De manera que los lags más lejanos no tienen influencia directa significativa.\n",
    "---"
   ]
  },
  {
   "cell_type": "code",
   "execution_count": 23,
   "metadata": {},
   "outputs": [
    {
     "name": "stdout",
     "output_type": "stream",
     "text": [
      "ADF Statistic: -2.019568708932497\n",
      "p-value: 0.27805935885765015\n",
      "Valores Críticos:\n",
      "1%: -3.552928203580539\n",
      "5%: -2.9147306250000002\n",
      "10%: -2.595137155612245\n",
      "No podemos rechazar la hipótesis nula. La serie NO es estacionaria.\n"
     ]
    }
   ],
   "source": [
    "analisis_st.prueba_estacionariedad()"
   ]
  },
  {
   "cell_type": "markdown",
   "metadata": {},
   "source": [
    "## Prophet"
   ]
  },
  {
   "cell_type": "code",
   "execution_count": 24,
   "metadata": {},
   "outputs": [],
   "source": [
    "df_poblacion.columns = ['ds', 'y']"
   ]
  },
  {
   "cell_type": "code",
   "execution_count": 25,
   "metadata": {},
   "outputs": [
    {
     "data": {
      "text/html": [
       "<div>\n",
       "<style scoped>\n",
       "    .dataframe tbody tr th:only-of-type {\n",
       "        vertical-align: middle;\n",
       "    }\n",
       "\n",
       "    .dataframe tbody tr th {\n",
       "        vertical-align: top;\n",
       "    }\n",
       "\n",
       "    .dataframe thead th {\n",
       "        text-align: right;\n",
       "    }\n",
       "</style>\n",
       "<table border=\"1\" class=\"dataframe\">\n",
       "  <thead>\n",
       "    <tr style=\"text-align: right;\">\n",
       "      <th></th>\n",
       "      <th>ds</th>\n",
       "      <th>y</th>\n",
       "    </tr>\n",
       "  </thead>\n",
       "  <tbody>\n",
       "    <tr>\n",
       "      <th>0</th>\n",
       "      <td>1960-12-31</td>\n",
       "      <td>3298021</td>\n",
       "    </tr>\n",
       "    <tr>\n",
       "      <th>1</th>\n",
       "      <td>1961-12-31</td>\n",
       "      <td>3408415</td>\n",
       "    </tr>\n",
       "    <tr>\n",
       "      <th>2</th>\n",
       "      <td>1962-12-31</td>\n",
       "      <td>3521164</td>\n",
       "    </tr>\n",
       "    <tr>\n",
       "      <th>3</th>\n",
       "      <td>1963-12-31</td>\n",
       "      <td>3635798</td>\n",
       "    </tr>\n",
       "    <tr>\n",
       "      <th>4</th>\n",
       "      <td>1964-12-31</td>\n",
       "      <td>3752313</td>\n",
       "    </tr>\n",
       "  </tbody>\n",
       "</table>\n",
       "</div>"
      ],
      "text/plain": [
       "          ds        y\n",
       "0 1960-12-31  3298021\n",
       "1 1961-12-31  3408415\n",
       "2 1962-12-31  3521164\n",
       "3 1963-12-31  3635798\n",
       "4 1964-12-31  3752313"
      ]
     },
     "execution_count": 25,
     "metadata": {},
     "output_type": "execute_result"
    }
   ],
   "source": [
    "df_poblacion.head()"
   ]
  },
  {
   "cell_type": "code",
   "execution_count": 26,
   "metadata": {},
   "outputs": [
    {
     "data": {
      "text/html": [
       "<div>\n",
       "<style scoped>\n",
       "    .dataframe tbody tr th:only-of-type {\n",
       "        vertical-align: middle;\n",
       "    }\n",
       "\n",
       "    .dataframe tbody tr th {\n",
       "        vertical-align: top;\n",
       "    }\n",
       "\n",
       "    .dataframe thead th {\n",
       "        text-align: right;\n",
       "    }\n",
       "</style>\n",
       "<table border=\"1\" class=\"dataframe\">\n",
       "  <thead>\n",
       "    <tr style=\"text-align: right;\">\n",
       "      <th></th>\n",
       "      <th>ds</th>\n",
       "      <th>y</th>\n",
       "    </tr>\n",
       "  </thead>\n",
       "  <tbody>\n",
       "    <tr>\n",
       "      <th>59</th>\n",
       "      <td>2019-12-31</td>\n",
       "      <td>10881882</td>\n",
       "    </tr>\n",
       "    <tr>\n",
       "      <th>60</th>\n",
       "      <td>2020-12-31</td>\n",
       "      <td>10999664</td>\n",
       "    </tr>\n",
       "    <tr>\n",
       "      <th>61</th>\n",
       "      <td>2021-12-31</td>\n",
       "      <td>11117873</td>\n",
       "    </tr>\n",
       "    <tr>\n",
       "      <th>62</th>\n",
       "      <td>2022-12-31</td>\n",
       "      <td>11228821</td>\n",
       "    </tr>\n",
       "    <tr>\n",
       "      <th>63</th>\n",
       "      <td>2023-12-31</td>\n",
       "      <td>11332972</td>\n",
       "    </tr>\n",
       "  </tbody>\n",
       "</table>\n",
       "</div>"
      ],
      "text/plain": [
       "           ds         y\n",
       "59 2019-12-31  10881882\n",
       "60 2020-12-31  10999664\n",
       "61 2021-12-31  11117873\n",
       "62 2022-12-31  11228821\n",
       "63 2023-12-31  11332972"
      ]
     },
     "execution_count": 26,
     "metadata": {},
     "output_type": "execute_result"
    }
   ],
   "source": [
    "df_poblacion.tail()"
   ]
  },
  {
   "cell_type": "code",
   "execution_count": 27,
   "metadata": {},
   "outputs": [
    {
     "name": "stderr",
     "output_type": "stream",
     "text": [
      "23:38:20 - cmdstanpy - INFO - Chain [1] start processing\n",
      "23:38:20 - cmdstanpy - INFO - Chain [1] done processing\n"
     ]
    },
    {
     "data": {
      "text/html": [
       "<div>\n",
       "<style scoped>\n",
       "    .dataframe tbody tr th:only-of-type {\n",
       "        vertical-align: middle;\n",
       "    }\n",
       "\n",
       "    .dataframe tbody tr th {\n",
       "        vertical-align: top;\n",
       "    }\n",
       "\n",
       "    .dataframe thead th {\n",
       "        text-align: right;\n",
       "    }\n",
       "</style>\n",
       "<table border=\"1\" class=\"dataframe\">\n",
       "  <thead>\n",
       "    <tr style=\"text-align: right;\">\n",
       "      <th></th>\n",
       "      <th>ds</th>\n",
       "      <th>trend</th>\n",
       "      <th>yhat_lower</th>\n",
       "      <th>yhat_upper</th>\n",
       "      <th>trend_lower</th>\n",
       "      <th>trend_upper</th>\n",
       "      <th>additive_terms</th>\n",
       "      <th>additive_terms_lower</th>\n",
       "      <th>additive_terms_upper</th>\n",
       "      <th>yearly</th>\n",
       "      <th>yearly_lower</th>\n",
       "      <th>yearly_upper</th>\n",
       "      <th>multiplicative_terms</th>\n",
       "      <th>multiplicative_terms_lower</th>\n",
       "      <th>multiplicative_terms_upper</th>\n",
       "      <th>yhat</th>\n",
       "    </tr>\n",
       "  </thead>\n",
       "  <tbody>\n",
       "    <tr>\n",
       "      <th>0</th>\n",
       "      <td>1960-12-31</td>\n",
       "      <td>207291</td>\n",
       "      <td>3289957</td>\n",
       "      <td>3302779</td>\n",
       "      <td>207291</td>\n",
       "      <td>207291</td>\n",
       "      <td>3089154</td>\n",
       "      <td>3089154</td>\n",
       "      <td>3089154</td>\n",
       "      <td>3089154</td>\n",
       "      <td>3089154</td>\n",
       "      <td>3089154</td>\n",
       "      <td>0</td>\n",
       "      <td>0</td>\n",
       "      <td>0</td>\n",
       "      <td>3296446</td>\n",
       "    </tr>\n",
       "    <tr>\n",
       "      <th>1</th>\n",
       "      <td>1961-12-31</td>\n",
       "      <td>321164</td>\n",
       "      <td>3402249</td>\n",
       "      <td>3416061</td>\n",
       "      <td>321164</td>\n",
       "      <td>321164</td>\n",
       "      <td>3087991</td>\n",
       "      <td>3087991</td>\n",
       "      <td>3087991</td>\n",
       "      <td>3087991</td>\n",
       "      <td>3087991</td>\n",
       "      <td>3087991</td>\n",
       "      <td>0</td>\n",
       "      <td>0</td>\n",
       "      <td>0</td>\n",
       "      <td>3409155</td>\n",
       "    </tr>\n",
       "    <tr>\n",
       "      <th>2</th>\n",
       "      <td>1962-12-31</td>\n",
       "      <td>435036</td>\n",
       "      <td>3514932</td>\n",
       "      <td>3528505</td>\n",
       "      <td>435036</td>\n",
       "      <td>435036</td>\n",
       "      <td>3086860</td>\n",
       "      <td>3086860</td>\n",
       "      <td>3086860</td>\n",
       "      <td>3086860</td>\n",
       "      <td>3086860</td>\n",
       "      <td>3086860</td>\n",
       "      <td>0</td>\n",
       "      <td>0</td>\n",
       "      <td>0</td>\n",
       "      <td>3521896</td>\n",
       "    </tr>\n",
       "    <tr>\n",
       "      <th>3</th>\n",
       "      <td>1963-12-31</td>\n",
       "      <td>548939</td>\n",
       "      <td>3628417</td>\n",
       "      <td>3642051</td>\n",
       "      <td>548939</td>\n",
       "      <td>548939</td>\n",
       "      <td>3086464</td>\n",
       "      <td>3086464</td>\n",
       "      <td>3086464</td>\n",
       "      <td>3086464</td>\n",
       "      <td>3086464</td>\n",
       "      <td>3086464</td>\n",
       "      <td>0</td>\n",
       "      <td>0</td>\n",
       "      <td>0</td>\n",
       "      <td>3635403</td>\n",
       "    </tr>\n",
       "    <tr>\n",
       "      <th>4</th>\n",
       "      <td>1964-12-31</td>\n",
       "      <td>663154</td>\n",
       "      <td>3746079</td>\n",
       "      <td>3759619</td>\n",
       "      <td>663154</td>\n",
       "      <td>663154</td>\n",
       "      <td>3089154</td>\n",
       "      <td>3089154</td>\n",
       "      <td>3089154</td>\n",
       "      <td>3089154</td>\n",
       "      <td>3089154</td>\n",
       "      <td>3089154</td>\n",
       "      <td>0</td>\n",
       "      <td>0</td>\n",
       "      <td>0</td>\n",
       "      <td>3752309</td>\n",
       "    </tr>\n",
       "    <tr>\n",
       "      <th>...</th>\n",
       "      <td>...</td>\n",
       "      <td>...</td>\n",
       "      <td>...</td>\n",
       "      <td>...</td>\n",
       "      <td>...</td>\n",
       "      <td>...</td>\n",
       "      <td>...</td>\n",
       "      <td>...</td>\n",
       "      <td>...</td>\n",
       "      <td>...</td>\n",
       "      <td>...</td>\n",
       "      <td>...</td>\n",
       "      <td>...</td>\n",
       "      <td>...</td>\n",
       "      <td>...</td>\n",
       "      <td>...</td>\n",
       "    </tr>\n",
       "    <tr>\n",
       "      <th>61</th>\n",
       "      <td>2021-12-31</td>\n",
       "      <td>8029613</td>\n",
       "      <td>11110402</td>\n",
       "      <td>11124214</td>\n",
       "      <td>8029613</td>\n",
       "      <td>8029613</td>\n",
       "      <td>3087991</td>\n",
       "      <td>3087991</td>\n",
       "      <td>3087991</td>\n",
       "      <td>3087991</td>\n",
       "      <td>3087991</td>\n",
       "      <td>3087991</td>\n",
       "      <td>0</td>\n",
       "      <td>0</td>\n",
       "      <td>0</td>\n",
       "      <td>11117604</td>\n",
       "    </tr>\n",
       "    <tr>\n",
       "      <th>62</th>\n",
       "      <td>2022-12-31</td>\n",
       "      <td>8150000</td>\n",
       "      <td>11229951</td>\n",
       "      <td>11243499</td>\n",
       "      <td>8150000</td>\n",
       "      <td>8150000</td>\n",
       "      <td>3086860</td>\n",
       "      <td>3086860</td>\n",
       "      <td>3086860</td>\n",
       "      <td>3086860</td>\n",
       "      <td>3086860</td>\n",
       "      <td>3086860</td>\n",
       "      <td>0</td>\n",
       "      <td>0</td>\n",
       "      <td>0</td>\n",
       "      <td>11236860</td>\n",
       "    </tr>\n",
       "    <tr>\n",
       "      <th>63</th>\n",
       "      <td>2023-12-31</td>\n",
       "      <td>8270387</td>\n",
       "      <td>11350381</td>\n",
       "      <td>11363718</td>\n",
       "      <td>8270387</td>\n",
       "      <td>8270387</td>\n",
       "      <td>3086464</td>\n",
       "      <td>3086464</td>\n",
       "      <td>3086464</td>\n",
       "      <td>3086464</td>\n",
       "      <td>3086464</td>\n",
       "      <td>3086464</td>\n",
       "      <td>0</td>\n",
       "      <td>0</td>\n",
       "      <td>0</td>\n",
       "      <td>11356851</td>\n",
       "    </tr>\n",
       "    <tr>\n",
       "      <th>64</th>\n",
       "      <td>2024-12-31</td>\n",
       "      <td>8391104</td>\n",
       "      <td>11473016</td>\n",
       "      <td>11486851</td>\n",
       "      <td>8389747</td>\n",
       "      <td>8392048</td>\n",
       "      <td>3089154</td>\n",
       "      <td>3089154</td>\n",
       "      <td>3089154</td>\n",
       "      <td>3089154</td>\n",
       "      <td>3089154</td>\n",
       "      <td>3089154</td>\n",
       "      <td>0</td>\n",
       "      <td>0</td>\n",
       "      <td>0</td>\n",
       "      <td>11480258</td>\n",
       "    </tr>\n",
       "    <tr>\n",
       "      <th>65</th>\n",
       "      <td>2025-12-31</td>\n",
       "      <td>8511491</td>\n",
       "      <td>11590858</td>\n",
       "      <td>11607916</td>\n",
       "      <td>8506879</td>\n",
       "      <td>8515238</td>\n",
       "      <td>3087991</td>\n",
       "      <td>3087991</td>\n",
       "      <td>3087991</td>\n",
       "      <td>3087991</td>\n",
       "      <td>3087991</td>\n",
       "      <td>3087991</td>\n",
       "      <td>0</td>\n",
       "      <td>0</td>\n",
       "      <td>0</td>\n",
       "      <td>11599481</td>\n",
       "    </tr>\n",
       "  </tbody>\n",
       "</table>\n",
       "<p>66 rows × 16 columns</p>\n",
       "</div>"
      ],
      "text/plain": [
       "           ds   trend  yhat_lower  yhat_upper  trend_lower  trend_upper  \\\n",
       "0  1960-12-31  207291     3289957     3302779       207291       207291   \n",
       "1  1961-12-31  321164     3402249     3416061       321164       321164   \n",
       "2  1962-12-31  435036     3514932     3528505       435036       435036   \n",
       "3  1963-12-31  548939     3628417     3642051       548939       548939   \n",
       "4  1964-12-31  663154     3746079     3759619       663154       663154   \n",
       "..        ...     ...         ...         ...          ...          ...   \n",
       "61 2021-12-31 8029613    11110402    11124214      8029613      8029613   \n",
       "62 2022-12-31 8150000    11229951    11243499      8150000      8150000   \n",
       "63 2023-12-31 8270387    11350381    11363718      8270387      8270387   \n",
       "64 2024-12-31 8391104    11473016    11486851      8389747      8392048   \n",
       "65 2025-12-31 8511491    11590858    11607916      8506879      8515238   \n",
       "\n",
       "    additive_terms  additive_terms_lower  additive_terms_upper  yearly  \\\n",
       "0          3089154               3089154               3089154 3089154   \n",
       "1          3087991               3087991               3087991 3087991   \n",
       "2          3086860               3086860               3086860 3086860   \n",
       "3          3086464               3086464               3086464 3086464   \n",
       "4          3089154               3089154               3089154 3089154   \n",
       "..             ...                   ...                   ...     ...   \n",
       "61         3087991               3087991               3087991 3087991   \n",
       "62         3086860               3086860               3086860 3086860   \n",
       "63         3086464               3086464               3086464 3086464   \n",
       "64         3089154               3089154               3089154 3089154   \n",
       "65         3087991               3087991               3087991 3087991   \n",
       "\n",
       "    yearly_lower  yearly_upper  multiplicative_terms  \\\n",
       "0        3089154       3089154                     0   \n",
       "1        3087991       3087991                     0   \n",
       "2        3086860       3086860                     0   \n",
       "3        3086464       3086464                     0   \n",
       "4        3089154       3089154                     0   \n",
       "..           ...           ...                   ...   \n",
       "61       3087991       3087991                     0   \n",
       "62       3086860       3086860                     0   \n",
       "63       3086464       3086464                     0   \n",
       "64       3089154       3089154                     0   \n",
       "65       3087991       3087991                     0   \n",
       "\n",
       "    multiplicative_terms_lower  multiplicative_terms_upper     yhat  \n",
       "0                            0                           0  3296446  \n",
       "1                            0                           0  3409155  \n",
       "2                            0                           0  3521896  \n",
       "3                            0                           0  3635403  \n",
       "4                            0                           0  3752309  \n",
       "..                         ...                         ...      ...  \n",
       "61                           0                           0 11117604  \n",
       "62                           0                           0 11236860  \n",
       "63                           0                           0 11356851  \n",
       "64                           0                           0 11480258  \n",
       "65                           0                           0 11599481  \n",
       "\n",
       "[66 rows x 16 columns]"
      ]
     },
     "execution_count": 27,
     "metadata": {},
     "output_type": "execute_result"
    }
   ],
   "source": [
    "m = Prophet()\n",
    "m.fit(df_poblacion)  # df is a pandas.DataFrame with 'y' and 'ds' columns\n",
    "future = m.make_future_dataframe(periods=2, freq='Y') \n",
    "m.predict(future)"
   ]
  },
  {
   "cell_type": "code",
   "execution_count": 28,
   "metadata": {},
   "outputs": [
    {
     "data": {
      "text/html": [
       "<div>\n",
       "<style scoped>\n",
       "    .dataframe tbody tr th:only-of-type {\n",
       "        vertical-align: middle;\n",
       "    }\n",
       "\n",
       "    .dataframe tbody tr th {\n",
       "        vertical-align: top;\n",
       "    }\n",
       "\n",
       "    .dataframe thead th {\n",
       "        text-align: right;\n",
       "    }\n",
       "</style>\n",
       "<table border=\"1\" class=\"dataframe\">\n",
       "  <thead>\n",
       "    <tr style=\"text-align: right;\">\n",
       "      <th></th>\n",
       "      <th>ds</th>\n",
       "      <th>yhat</th>\n",
       "      <th>yhat_lower</th>\n",
       "      <th>yhat_upper</th>\n",
       "    </tr>\n",
       "  </thead>\n",
       "  <tbody>\n",
       "    <tr>\n",
       "      <th>61</th>\n",
       "      <td>2021-12-31</td>\n",
       "      <td>11117604</td>\n",
       "      <td>11110615</td>\n",
       "      <td>11124129</td>\n",
       "    </tr>\n",
       "    <tr>\n",
       "      <th>62</th>\n",
       "      <td>2022-12-31</td>\n",
       "      <td>11236860</td>\n",
       "      <td>11230002</td>\n",
       "      <td>11243284</td>\n",
       "    </tr>\n",
       "    <tr>\n",
       "      <th>63</th>\n",
       "      <td>2023-12-31</td>\n",
       "      <td>11356851</td>\n",
       "      <td>11349958</td>\n",
       "      <td>11363700</td>\n",
       "    </tr>\n",
       "    <tr>\n",
       "      <th>64</th>\n",
       "      <td>2024-12-31</td>\n",
       "      <td>11480258</td>\n",
       "      <td>11473699</td>\n",
       "      <td>11487338</td>\n",
       "    </tr>\n",
       "    <tr>\n",
       "      <th>65</th>\n",
       "      <td>2025-12-31</td>\n",
       "      <td>11599481</td>\n",
       "      <td>11591540</td>\n",
       "      <td>11607525</td>\n",
       "    </tr>\n",
       "  </tbody>\n",
       "</table>\n",
       "</div>"
      ],
      "text/plain": [
       "           ds     yhat  yhat_lower  yhat_upper\n",
       "61 2021-12-31 11117604    11110615    11124129\n",
       "62 2022-12-31 11236860    11230002    11243284\n",
       "63 2023-12-31 11356851    11349958    11363700\n",
       "64 2024-12-31 11480258    11473699    11487338\n",
       "65 2025-12-31 11599481    11591540    11607525"
      ]
     },
     "execution_count": 28,
     "metadata": {},
     "output_type": "execute_result"
    }
   ],
   "source": [
    "forecast = m.predict(future)\n",
    "forecast[['ds', 'yhat', 'yhat_lower', 'yhat_upper']].tail()"
   ]
  },
  {
   "cell_type": "code",
   "execution_count": 29,
   "metadata": {},
   "outputs": [
    {
     "data": {
      "text/html": [
       "<div>\n",
       "<style scoped>\n",
       "    .dataframe tbody tr th:only-of-type {\n",
       "        vertical-align: middle;\n",
       "    }\n",
       "\n",
       "    .dataframe tbody tr th {\n",
       "        vertical-align: top;\n",
       "    }\n",
       "\n",
       "    .dataframe thead th {\n",
       "        text-align: right;\n",
       "    }\n",
       "</style>\n",
       "<table border=\"1\" class=\"dataframe\">\n",
       "  <thead>\n",
       "    <tr style=\"text-align: right;\">\n",
       "      <th></th>\n",
       "      <th>ds</th>\n",
       "      <th>yhat</th>\n",
       "      <th>yhat_lower</th>\n",
       "      <th>yhat_upper</th>\n",
       "      <th>poblacion</th>\n",
       "    </tr>\n",
       "  </thead>\n",
       "  <tbody>\n",
       "    <tr>\n",
       "      <th>59</th>\n",
       "      <td>2019-12-31</td>\n",
       "      <td>10874974</td>\n",
       "      <td>10868264</td>\n",
       "      <td>10881653</td>\n",
       "      <td>10881882</td>\n",
       "    </tr>\n",
       "    <tr>\n",
       "      <th>60</th>\n",
       "      <td>2020-12-31</td>\n",
       "      <td>10998381</td>\n",
       "      <td>10991530</td>\n",
       "      <td>11004934</td>\n",
       "      <td>10999664</td>\n",
       "    </tr>\n",
       "    <tr>\n",
       "      <th>61</th>\n",
       "      <td>2021-12-31</td>\n",
       "      <td>11117604</td>\n",
       "      <td>11110615</td>\n",
       "      <td>11124129</td>\n",
       "      <td>11117873</td>\n",
       "    </tr>\n",
       "    <tr>\n",
       "      <th>62</th>\n",
       "      <td>2022-12-31</td>\n",
       "      <td>11236860</td>\n",
       "      <td>11230002</td>\n",
       "      <td>11243284</td>\n",
       "      <td>11228821</td>\n",
       "    </tr>\n",
       "    <tr>\n",
       "      <th>63</th>\n",
       "      <td>2023-12-31</td>\n",
       "      <td>11356851</td>\n",
       "      <td>11349958</td>\n",
       "      <td>11363700</td>\n",
       "      <td>11332972</td>\n",
       "    </tr>\n",
       "  </tbody>\n",
       "</table>\n",
       "</div>"
      ],
      "text/plain": [
       "           ds     yhat  yhat_lower  yhat_upper  poblacion\n",
       "59 2019-12-31 10874974    10868264    10881653   10881882\n",
       "60 2020-12-31 10998381    10991530    11004934   10999664\n",
       "61 2021-12-31 11117604    11110615    11124129   11117873\n",
       "62 2022-12-31 11236860    11230002    11243284   11228821\n",
       "63 2023-12-31 11356851    11349958    11363700   11332972"
      ]
     },
     "execution_count": 29,
     "metadata": {},
     "output_type": "execute_result"
    }
   ],
   "source": [
    "df = forecast[['ds', 'yhat', 'yhat_lower', 'yhat_upper']]\n",
    "df['poblacion'] = df_poblacion['y']\n",
    "df = df[df['poblacion'].notnull() & df['yhat'].notnull()]\n",
    "df.tail(5)"
   ]
  },
  {
   "cell_type": "code",
   "execution_count": 30,
   "metadata": {},
   "outputs": [
    {
     "data": {
      "image/png": "[encoded data removed]",
      "text/plain": [
       "<Figure size 1400x700 with 1 Axes>"
      ]
     },
     "metadata": {},
     "output_type": "display_data"
    }
   ],
   "source": [
    "plt.figure(figsize=(14, 7))\n",
    "sns.lineplot(data=df[1:], x=\"ds\", y=\"poblacion\", label=\"Valores Reales\", color=\"blue\", linewidth=2) # valores reales\n",
    "sns.lineplot(data=df[1:], x=\"ds\", y=\"yhat\", label=\"Predicciones PROPHET\", color=\"red\", linestyle=\"--\", linewidth=2) # predicciones\n",
    "plt.title(\"Comparación de Predicciones vs Valores Reales en Parque Vehicular\", fontsize=16)\n",
    "plt.xlabel(\"Fecha\", fontsize=14)\n",
    "plt.ylabel(\"Vehículos\", fontsize=14)\n",
    "plt.legend(fontsize=12)\n",
    "plt.grid(True, linestyle=\"--\", alpha=0.6) # formato cuadriculado\n",
    "plt.tight_layout()\n",
    "plt.show()"
   ]
  },
  {
   "cell_type": "code",
   "execution_count": 31,
   "metadata": {},
   "outputs": [
    {
     "name": "stdout",
     "output_type": "stream",
     "text": [
      "MAE: 2742.6311766910076\n",
      "MAPE: 0.03%\n",
      "RMSE: 5247.101222229977\n"
     ]
    }
   ],
   "source": [
    "# Seleccionar las columnas relevantes\n",
    "y_real = df['poblacion']\n",
    "y_pred = df['yhat']\n",
    "\n",
    "# Cálculo de MAE\n",
    "mae = mean_absolute_error(y_real, y_pred)\n",
    "mape = mean_absolute_percentage_error(y_real, y_pred)\n",
    "rmse = np.sqrt(mean_squared_error(y_real, y_pred))\n",
    "\n",
    "# Imprimir los resultados\n",
    "print(f\"MAE: {mae}\")\n",
    "print(f\"MAPE: {mape * 100:.2f}%\")               \n",
    "print(f\"RMSE: {rmse}\")"
   ]
  },
  {
   "cell_type": "code",
   "execution_count": 32,
   "metadata": {},
   "outputs": [
    {
     "data": {
      "application/vnd.plotly.v1+json": {
       "config": {
        "plotlyServerURL": "https://plot.ly"
       },
       "data": [
        {
         "marker": {
          "color": "black",
          "size": 4
         },
         "mode": "markers",
         "name": "Actual",
         "type": "scatter",
         "x": [
          "1960-12-31T00:00:00",
          "1961-12-31T00:00:00",
          "1962-12-31T00:00:00",
          "1963-12-31T00:00:00",
          "1964-12-31T00:00:00",
          "1965-12-31T00:00:00",
          "1966-12-31T00:00:00",
          "1967-12-31T00:00:00",
          "1968-12-31T00:00:00",
          "1969-12-31T00:00:00",
          "1970-12-31T00:00:00",
          "1971-12-31T00:00:00",
          "1972-12-31T00:00:00",
          "1973-12-31T00:00:00",
          "1974-12-31T00:00:00",
          "1975-12-31T00:00:00",
          "1976-12-31T00:00:00",
          "1977-12-31T00:00:00",
          "1978-12-31T00:00:00",
          "1979-12-31T00:00:00",
          "1980-12-31T00:00:00",
          "1981-12-31T00:00:00",
          "1982-12-31T00:00:00",
          "1983-12-31T00:00:00",
          "1984-12-31T00:00:00",
          "1985-12-31T00:00:00",
          "1986-12-31T00:00:00",
          "1987-12-31T00:00:00",
          "1988-12-31T00:00:00",
          "1989-12-31T00:00:00",
          "1990-12-31T00:00:00",
          "1991-12-31T00:00:00",
          "1992-12-31T00:00:00",
          "1993-12-31T00:00:00",
          "1994-12-31T00:00:00",
          "1995-12-31T00:00:00",
          "1996-12-31T00:00:00",
          "1997-12-31T00:00:00",
          "1998-12-31T00:00:00",
          "1999-12-31T00:00:00",
          "2000-12-31T00:00:00",
          "2001-12-31T00:00:00",
          "2002-12-31T00:00:00",
          "2003-12-31T00:00:00",
          "2004-12-31T00:00:00",
          "2005-12-31T00:00:00",
          "2006-12-31T00:00:00",
          "2007-12-31T00:00:00",
          "2008-12-31T00:00:00",
          "2009-12-31T00:00:00",
          "2010-12-31T00:00:00",
          "2011-12-31T00:00:00",
          "2012-12-31T00:00:00",
          "2013-12-31T00:00:00",
          "2014-12-31T00:00:00",
          "2015-12-31T00:00:00",
          "2016-12-31T00:00:00",
          "2017-12-31T00:00:00",
          "2018-12-31T00:00:00",
          "2019-12-31T00:00:00",
          "2020-12-31T00:00:00",
          "2021-12-31T00:00:00",
          "2022-12-31T00:00:00",
          "2023-12-31T00:00:00"
         ],
         "y": [
          3298021,
          3408415,
          3521164,
          3635798,
          3752313,
          3868712,
          3987090,
          4108916,
          4230877,
          4352954,
          4475871,
          4599841,
          4724801,
          4851183,
          4978582,
          5106453,
          5235318,
          5365074,
          5495443,
          5625864,
          5755800,
          5885244,
          6014979,
          6147213,
          6282104,
          6417798,
          6554325,
          6692720,
          6834207,
          6980033,
          7129004,
          7278402,
          7427340,
          7576074,
          7723934,
          7869753,
          8012314,
          8150076,
          8282126,
          8411374,
          8540791,
          8669040,
          8795101,
          8919852,
          9043127,
          9164768,
          9284168,
          9402206,
          9522948,
          9648061,
          9775755,
          9903737,
          10030882,
          10157051,
          10282115,
          10405832,
          10527592,
          10647244,
          10765531,
          10881882,
          10999664,
          11117873,
          11228821,
          11332972
         ]
        },
        {
         "hoverinfo": "skip",
         "line": {
          "width": 0
         },
         "mode": "lines",
         "type": "scatter",
         "x": [
          "1960-12-31T00:00:00",
          "1961-12-31T00:00:00",
          "1962-12-31T00:00:00",
          "1963-12-31T00:00:00",
          "1964-12-31T00:00:00",
          "1965-12-31T00:00:00",
          "1966-12-31T00:00:00",
          "1967-12-31T00:00:00",
          "1968-12-31T00:00:00",
          "1969-12-31T00:00:00",
          "1970-12-31T00:00:00",
          "1971-12-31T00:00:00",
          "1972-12-31T00:00:00",
          "1973-12-31T00:00:00",
          "1974-12-31T00:00:00",
          "1975-12-31T00:00:00",
          "1976-12-31T00:00:00",
          "1977-12-31T00:00:00",
          "1978-12-31T00:00:00",
          "1979-12-31T00:00:00",
          "1980-12-31T00:00:00",
          "1981-12-31T00:00:00",
          "1982-12-31T00:00:00",
          "1983-12-31T00:00:00",
          "1984-12-31T00:00:00",
          "1985-12-31T00:00:00",
          "1986-12-31T00:00:00",
          "1987-12-31T00:00:00",
          "1988-12-31T00:00:00",
          "1989-12-31T00:00:00",
          "1990-12-31T00:00:00",
          "1991-12-31T00:00:00",
          "1992-12-31T00:00:00",
          "1993-12-31T00:00:00",
          "1994-12-31T00:00:00",
          "1995-12-31T00:00:00",
          "1996-12-31T00:00:00",
          "1997-12-31T00:00:00",
          "1998-12-31T00:00:00",
          "1999-12-31T00:00:00",
          "2000-12-31T00:00:00",
          "2001-12-31T00:00:00",
          "2002-12-31T00:00:00",
          "2003-12-31T00:00:00",
          "2004-12-31T00:00:00",
          "2005-12-31T00:00:00",
          "2006-12-31T00:00:00",
          "2007-12-31T00:00:00",
          "2008-12-31T00:00:00",
          "2009-12-31T00:00:00",
          "2010-12-31T00:00:00",
          "2011-12-31T00:00:00",
          "2012-12-31T00:00:00",
          "2013-12-31T00:00:00",
          "2014-12-31T00:00:00",
          "2015-12-31T00:00:00",
          "2016-12-31T00:00:00",
          "2017-12-31T00:00:00",
          "2018-12-31T00:00:00",
          "2019-12-31T00:00:00",
          "2020-12-31T00:00:00",
          "2021-12-31T00:00:00",
          "2022-12-31T00:00:00",
          "2023-12-31T00:00:00",
          "2024-12-31T00:00:00",
          "2025-12-31T00:00:00"
         ],
         "y": [
          3289841.041966684,
          3402096.8978125146,
          3515025.2148444746,
          3628680.9305049633,
          3745422.1830259324,
          3863196.8733004574,
          3980701.2110669357,
          4100125.1663670745,
          4224891.057851768,
          4346859.568026964,
          4469039.958204051,
          4592479.568318972,
          4718520.458117411,
          4845510.208631834,
          4972044.081357266,
          5098911.4241597345,
          5230199.183645782,
          5358722.367519911,
          5487793.10025777,
          5617391.560384675,
          5750835.212834744,
          5878586.203848854,
          6008138.656911943,
          6140034.520267107,
          6275088.492405407,
          6411323.434774723,
          6547965.3786901,
          6686065.904708101,
          6827141.953951497,
          6974797.447166126,
          7122400.337526163,
          7270495.527675954,
          7422156.824269373,
          7568974.15787604,
          7717029.97663482,
          7860128.922114009,
          8008204.901513886,
          8141746.611416567,
          8276439.41870764,
          8403829.403897695,
          8535298.935644407,
          8662219.47221509,
          8789330.741397692,
          8911844.549065106,
          9038173.0365998,
          9156525.60606909,
          9275397.429876957,
          9394771.8396428,
          9517734.352985833,
          9650715.562913248,
          9784137.387815896,
          9903999.007769147,
          10027479.288338948,
          10147141.803694654,
          10266275.254496008,
          10386113.662241424,
          10510107.791688608,
          10628752.434976207,
          10748229.283938264,
          10868264.232470969,
          10991529.596920816,
          11110614.614690011,
          11230001.860580385,
          11349958.403944233,
          11473699.15099241,
          11591539.683678797
         ]
        },
        {
         "fill": "tonexty",
         "fillcolor": "rgba(0, 114, 178, 0.2)",
         "line": {
          "color": "#0072B2",
          "width": 2
         },
         "mode": "lines",
         "name": "Predicted",
         "type": "scatter",
         "x": [
          "1960-12-31T00:00:00",
          "1961-12-31T00:00:00",
          "1962-12-31T00:00:00",
          "1963-12-31T00:00:00",
          "1964-12-31T00:00:00",
          "1965-12-31T00:00:00",
          "1966-12-31T00:00:00",
          "1967-12-31T00:00:00",
          "1968-12-31T00:00:00",
          "1969-12-31T00:00:00",
          "1970-12-31T00:00:00",
          "1971-12-31T00:00:00",
          "1972-12-31T00:00:00",
          "1973-12-31T00:00:00",
          "1974-12-31T00:00:00",
          "1975-12-31T00:00:00",
          "1976-12-31T00:00:00",
          "1977-12-31T00:00:00",
          "1978-12-31T00:00:00",
          "1979-12-31T00:00:00",
          "1980-12-31T00:00:00",
          "1981-12-31T00:00:00",
          "1982-12-31T00:00:00",
          "1983-12-31T00:00:00",
          "1984-12-31T00:00:00",
          "1985-12-31T00:00:00",
          "1986-12-31T00:00:00",
          "1987-12-31T00:00:00",
          "1988-12-31T00:00:00",
          "1989-12-31T00:00:00",
          "1990-12-31T00:00:00",
          "1991-12-31T00:00:00",
          "1992-12-31T00:00:00",
          "1993-12-31T00:00:00",
          "1994-12-31T00:00:00",
          "1995-12-31T00:00:00",
          "1996-12-31T00:00:00",
          "1997-12-31T00:00:00",
          "1998-12-31T00:00:00",
          "1999-12-31T00:00:00",
          "2000-12-31T00:00:00",
          "2001-12-31T00:00:00",
          "2002-12-31T00:00:00",
          "2003-12-31T00:00:00",
          "2004-12-31T00:00:00",
          "2005-12-31T00:00:00",
          "2006-12-31T00:00:00",
          "2007-12-31T00:00:00",
          "2008-12-31T00:00:00",
          "2009-12-31T00:00:00",
          "2010-12-31T00:00:00",
          "2011-12-31T00:00:00",
          "2012-12-31T00:00:00",
          "2013-12-31T00:00:00",
          "2014-12-31T00:00:00",
          "2015-12-31T00:00:00",
          "2016-12-31T00:00:00",
          "2017-12-31T00:00:00",
          "2018-12-31T00:00:00",
          "2019-12-31T00:00:00",
          "2020-12-31T00:00:00",
          "2021-12-31T00:00:00",
          "2022-12-31T00:00:00",
          "2023-12-31T00:00:00",
          "2024-12-31T00:00:00",
          "2025-12-31T00:00:00"
         ],
         "y": [
          3296445.7902613804,
          3409154.5517174727,
          3521895.9046663935,
          3635402.984393744,
          3752308.677728341,
          3869750.3565739444,
          3987224.6269122404,
          4107603.8733498454,
          4231400.561247477,
          4353562.18627365,
          4475756.402792521,
          4598827.463733226,
          4725323.340968605,
          4851813.147635811,
          4978335.545795502,
          5105747.651903607,
          5236596.467580253,
          5365463.80469005,
          5494363.733291283,
          5623998.530393876,
          5757076.126629869,
          5885995.215352174,
          6014946.8955652565,
          6146806.931574683,
          6282115.86326465,
          6418169.908199553,
          6554256.544630099,
          6692496.990489002,
          6834203.8125955835,
          6981580.806231309,
          7128990.391361829,
          7277134.8446201645,
          7428772.808402469,
          7576149.802103575,
          7723559.387296796,
          7867198.541432506,
          8014318.862802628,
          8148618.977510788,
          8282951.6837112345,
          8410664.693562746,
          8541815.237372437,
          8668747.196876196,
          8795711.747866444,
          8918407.596030662,
          9044527.232509404,
          9163341.60653866,
          9282188.572057432,
          9401611.022589954,
          9524448.293227103,
          9657821.815333795,
          9791227.928937413,
          9911218.761998154,
          10034625.972370146,
          10153849.34560803,
          10273105.310333751,
          10393096.143394139,
          10516503.353771918,
          10635726.727004245,
          10754982.691730358,
          10874973.524793047,
          10998380.735167127,
          11117604.108403677,
          11236860.073125623,
          11356850.906186318,
          11480258.116566878,
          11599481.489799142
         ]
        },
        {
         "fill": "tonexty",
         "fillcolor": "rgba(0, 114, 178, 0.2)",
         "hoverinfo": "skip",
         "line": {
          "width": 0
         },
         "mode": "lines",
         "type": "scatter",
         "x": [
          "1960-12-31T00:00:00",
          "1961-12-31T00:00:00",
          "1962-12-31T00:00:00",
          "1963-12-31T00:00:00",
          "1964-12-31T00:00:00",
          "1965-12-31T00:00:00",
          "1966-12-31T00:00:00",
          "1967-12-31T00:00:00",
          "1968-12-31T00:00:00",
          "1969-12-31T00:00:00",
          "1970-12-31T00:00:00",
          "1971-12-31T00:00:00",
          "1972-12-31T00:00:00",
          "1973-12-31T00:00:00",
          "1974-12-31T00:00:00",
          "1975-12-31T00:00:00",
          "1976-12-31T00:00:00",
          "1977-12-31T00:00:00",
          "1978-12-31T00:00:00",
          "1979-12-31T00:00:00",
          "1980-12-31T00:00:00",
          "1981-12-31T00:00:00",
          "1982-12-31T00:00:00",
          "1983-12-31T00:00:00",
          "1984-12-31T00:00:00",
          "1985-12-31T00:00:00",
          "1986-12-31T00:00:00",
          "1987-12-31T00:00:00",
          "1988-12-31T00:00:00",
          "1989-12-31T00:00:00",
          "1990-12-31T00:00:00",
          "1991-12-31T00:00:00",
          "1992-12-31T00:00:00",
          "1993-12-31T00:00:00",
          "1994-12-31T00:00:00",
          "1995-12-31T00:00:00",
          "1996-12-31T00:00:00",
          "1997-12-31T00:00:00",
          "1998-12-31T00:00:00",
          "1999-12-31T00:00:00",
          "2000-12-31T00:00:00",
          "2001-12-31T00:00:00",
          "2002-12-31T00:00:00",
          "2003-12-31T00:00:00",
          "2004-12-31T00:00:00",
          "2005-12-31T00:00:00",
          "2006-12-31T00:00:00",
          "2007-12-31T00:00:00",
          "2008-12-31T00:00:00",
          "2009-12-31T00:00:00",
          "2010-12-31T00:00:00",
          "2011-12-31T00:00:00",
          "2012-12-31T00:00:00",
          "2013-12-31T00:00:00",
          "2014-12-31T00:00:00",
          "2015-12-31T00:00:00",
          "2016-12-31T00:00:00",
          "2017-12-31T00:00:00",
          "2018-12-31T00:00:00",
          "2019-12-31T00:00:00",
          "2020-12-31T00:00:00",
          "2021-12-31T00:00:00",
          "2022-12-31T00:00:00",
          "2023-12-31T00:00:00",
          "2024-12-31T00:00:00",
          "2025-12-31T00:00:00"
         ],
         "y": [
          3303104.4872659836,
          3416010.9387907684,
          3528884.807297246,
          3641994.484713996,
          3759502.5060413624,
          3876995.7873952733,
          3994153.3995798584,
          4113998.4451103443,
          4238014.854181078,
          4360109.801113402,
          4482535.205306512,
          4605253.340849785,
          4732300.570686905,
          4858918.117880444,
          4985220.22166134,
          5112561.509099241,
          5243027.850297102,
          5372326.354527853,
          5500977.915471737,
          5631322.298543704,
          5764038.826773247,
          5892523.457205932,
          6021632.6616005525,
          6153575.629030363,
          6288622.00601652,
          6424930.327013888,
          6561259.364561868,
          6698515.565827306,
          6840553.949901991,
          6987973.446744133,
          7135204.693386216,
          7283967.18390309,
          7436064.479670255,
          7582728.58862629,
          7729814.063545715,
          7873805.650441392,
          8020943.683738242,
          8155343.832303711,
          8289650.159169264,
          8417669.383368783,
          8547567.810451517,
          8675477.05304602,
          8802469.760062959,
          8925295.958627537,
          9051122.773761515,
          9170613.066971943,
          9289018.542440467,
          9408336.863609087,
          9530751.465566443,
          9664497.9854184,
          9798526.876266297,
          9917448.850137807,
          10040918.90204616,
          10160722.803233933,
          10279982.754341599,
          10399654.671350103,
          10523204.768743273,
          10642208.106744206,
          10761553.654341923,
          10881652.966586953,
          11004934.42317042,
          11124129.49961411,
          11243284.166687667,
          11363699.852643881,
          11487338.309625566,
          11607525.291547207
         ]
        }
       ],
       "layout": {
        "height": 600,
        "showlegend": false,
        "template": {
         "data": {
          "bar": [
           {
            "error_x": {
             "color": "#2a3f5f"
            },
            "error_y": {
             "color": "#2a3f5f"
            },
            "marker": {
             "line": {
              "color": "#E5ECF6",
              "width": 0.5
             },
             "pattern": {
              "fillmode": "overlay",
              "size": 10,
              "solidity": 0.2
             }
            },
            "type": "bar"
           }
          ],
          "barpolar": [
           {
            "marker": {
             "line": {
              "color": "#E5ECF6",
              "width": 0.5
             },
             "pattern": {
              "fillmode": "overlay",
              "size": 10,
              "solidity": 0.2
             }
            },
            "type": "barpolar"
           }
          ],
          "carpet": [
           {
            "aaxis": {
             "endlinecolor": "#2a3f5f",
             "gridcolor": "white",
             "linecolor": "white",
             "minorgridcolor": "white",
             "startlinecolor": "#2a3f5f"
            },
            "baxis": {
             "endlinecolor": "#2a3f5f",
             "gridcolor": "white",
             "linecolor": "white",
             "minorgridcolor": "white",
             "startlinecolor": "#2a3f5f"
            },
            "type": "carpet"
           }
          ],
          "choropleth": [
           {
            "colorbar": {
             "outlinewidth": 0,
             "ticks": ""
            },
            "type": "choropleth"
           }
          ],
          "contour": [
           {
            "colorbar": {
             "outlinewidth": 0,
             "ticks": ""
            },
            "colorscale": [
             [
              0,
              "#0d0887"
             ],
             [
              0.1111111111111111,
              "#46039f"
             ],
             [
              0.2222222222222222,
              "#7201a8"
             ],
             [
              0.3333333333333333,
              "#9c179e"
             ],
             [
              0.4444444444444444,
              "#bd3786"
             ],
             [
              0.5555555555555556,
              "#d8576b"
             ],
             [
              0.6666666666666666,
              "#ed7953"
             ],
             [
              0.7777777777777778,
              "#fb9f3a"
             ],
             [
              0.8888888888888888,
              "#fdca26"
             ],
             [
              1,
              "#f0f921"
             ]
            ],
            "type": "contour"
           }
          ],
          "contourcarpet": [
           {
            "colorbar": {
             "outlinewidth": 0,
             "ticks": ""
            },
            "type": "contourcarpet"
           }
          ],
          "heatmap": [
           {
            "colorbar": {
             "outlinewidth": 0,
             "ticks": ""
            },
            "colorscale": [
             [
              0,
              "#0d0887"
             ],
             [
              0.1111111111111111,
              "#46039f"
             ],
             [
              0.2222222222222222,
              "#7201a8"
             ],
             [
              0.3333333333333333,
              "#9c179e"
             ],
             [
              0.4444444444444444,
              "#bd3786"
             ],
             [
              0.5555555555555556,
              "#d8576b"
             ],
             [
              0.6666666666666666,
              "#ed7953"
             ],
             [
              0.7777777777777778,
              "#fb9f3a"
             ],
             [
              0.8888888888888888,
              "#fdca26"
             ],
             [
              1,
              "#f0f921"
             ]
            ],
            "type": "heatmap"
           }
          ],
          "heatmapgl": [
           {
            "colorbar": {
             "outlinewidth": 0,
             "ticks": ""
            },
            "colorscale": [
             [
              0,
              "#0d0887"
             ],
             [
              0.1111111111111111,
              "#46039f"
             ],
             [
              0.2222222222222222,
              "#7201a8"
             ],
             [
              0.3333333333333333,
              "#9c179e"
             ],
             [
              0.4444444444444444,
              "#bd3786"
             ],
             [
              0.5555555555555556,
              "#d8576b"
             ],
             [
              0.6666666666666666,
              "#ed7953"
             ],
             [
              0.7777777777777778,
              "#fb9f3a"
             ],
             [
              0.8888888888888888,
              "#fdca26"
             ],
             [
              1,
              "#f0f921"
             ]
            ],
            "type": "heatmapgl"
           }
          ],
          "histogram": [
           {
            "marker": {
             "pattern": {
              "fillmode": "overlay",
              "size": 10,
              "solidity": 0.2
             }
            },
            "type": "histogram"
           }
          ],
          "histogram2d": [
           {
            "colorbar": {
             "outlinewidth": 0,
             "ticks": ""
            },
            "colorscale": [
             [
              0,
              "#0d0887"
             ],
             [
              0.1111111111111111,
              "#46039f"
             ],
             [
              0.2222222222222222,
              "#7201a8"
             ],
             [
              0.3333333333333333,
              "#9c179e"
             ],
             [
              0.4444444444444444,
              "#bd3786"
             ],
             [
              0.5555555555555556,
              "#d8576b"
             ],
             [
              0.6666666666666666,
              "#ed7953"
             ],
             [
              0.7777777777777778,
              "#fb9f3a"
             ],
             [
              0.8888888888888888,
              "#fdca26"
             ],
             [
              1,
              "#f0f921"
             ]
            ],
            "type": "histogram2d"
           }
          ],
          "histogram2dcontour": [
           {
            "colorbar": {
             "outlinewidth": 0,
             "ticks": ""
            },
            "colorscale": [
             [
              0,
              "#0d0887"
             ],
             [
              0.1111111111111111,
              "#46039f"
             ],
             [
              0.2222222222222222,
              "#7201a8"
             ],
             [
              0.3333333333333333,
              "#9c179e"
             ],
             [
              0.4444444444444444,
              "#bd3786"
             ],
             [
              0.5555555555555556,
              "#d8576b"
             ],
             [
              0.6666666666666666,
              "#ed7953"
             ],
             [
              0.7777777777777778,
              "#fb9f3a"
             ],
             [
              0.8888888888888888,
              "#fdca26"
             ],
             [
              1,
              "#f0f921"
             ]
            ],
            "type": "histogram2dcontour"
           }
          ],
          "mesh3d": [
           {
            "colorbar": {
             "outlinewidth": 0,
             "ticks": ""
            },
            "type": "mesh3d"
           }
          ],
          "parcoords": [
           {
            "line": {
             "colorbar": {
              "outlinewidth": 0,
              "ticks": ""
             }
            },
            "type": "parcoords"
           }
          ],
          "pie": [
           {
            "automargin": true,
            "type": "pie"
           }
          ],
          "scatter": [
           {
            "fillpattern": {
             "fillmode": "overlay",
             "size": 10,
             "solidity": 0.2
            },
            "type": "scatter"
           }
          ],
          "scatter3d": [
           {
            "line": {
             "colorbar": {
              "outlinewidth": 0,
              "ticks": ""
             }
            },
            "marker": {
             "colorbar": {
              "outlinewidth": 0,
              "ticks": ""
             }
            },
            "type": "scatter3d"
           }
          ],
          "scattercarpet": [
           {
            "marker": {
             "colorbar": {
              "outlinewidth": 0,
              "ticks": ""
             }
            },
            "type": "scattercarpet"
           }
          ],
          "scattergeo": [
           {
            "marker": {
             "colorbar": {
              "outlinewidth": 0,
              "ticks": ""
             }
            },
            "type": "scattergeo"
           }
          ],
          "scattergl": [
           {
            "marker": {
             "colorbar": {
              "outlinewidth": 0,
              "ticks": ""
             }
            },
            "type": "scattergl"
           }
          ],
          "scattermapbox": [
           {
            "marker": {
             "colorbar": {
              "outlinewidth": 0,
              "ticks": ""
             }
            },
            "type": "scattermapbox"
           }
          ],
          "scatterpolar": [
           {
            "marker": {
             "colorbar": {
              "outlinewidth": 0,
              "ticks": ""
             }
            },
            "type": "scatterpolar"
           }
          ],
          "scatterpolargl": [
           {
            "marker": {
             "colorbar": {
              "outlinewidth": 0,
              "ticks": ""
             }
            },
            "type": "scatterpolargl"
           }
          ],
          "scatterternary": [
           {
            "marker": {
             "colorbar": {
              "outlinewidth": 0,
              "ticks": ""
             }
            },
            "type": "scatterternary"
           }
          ],
          "surface": [
           {
            "colorbar": {
             "outlinewidth": 0,
             "ticks": ""
            },
            "colorscale": [
             [
              0,
              "#0d0887"
             ],
             [
              0.1111111111111111,
              "#46039f"
             ],
             [
              0.2222222222222222,
              "#7201a8"
             ],
             [
              0.3333333333333333,
              "#9c179e"
             ],
             [
              0.4444444444444444,
              "#bd3786"
             ],
             [
              0.5555555555555556,
              "#d8576b"
             ],
             [
              0.6666666666666666,
              "#ed7953"
             ],
             [
              0.7777777777777778,
              "#fb9f3a"
             ],
             [
              0.8888888888888888,
              "#fdca26"
             ],
             [
              1,
              "#f0f921"
             ]
            ],
            "type": "surface"
           }
          ],
          "table": [
           {
            "cells": {
             "fill": {
              "color": "#EBF0F8"
             },
             "line": {
              "color": "white"
             }
            },
            "header": {
             "fill": {
              "color": "#C8D4E3"
             },
             "line": {
              "color": "white"
             }
            },
            "type": "table"
           }
          ]
         },
         "layout": {
          "annotationdefaults": {
           "arrowcolor": "#2a3f5f",
           "arrowhead": 0,
           "arrowwidth": 1
          },
          "autotypenumbers": "strict",
          "coloraxis": {
           "colorbar": {
            "outlinewidth": 0,
            "ticks": ""
           }
          },
          "colorscale": {
           "diverging": [
            [
             0,
             "#8e0152"
            ],
            [
             0.1,
             "#c51b7d"
            ],
            [
             0.2,
             "#de77ae"
            ],
            [
             0.3,
             "#f1b6da"
            ],
            [
             0.4,
             "#fde0ef"
            ],
            [
             0.5,
             "#f7f7f7"
            ],
            [
             0.6,
             "#e6f5d0"
            ],
            [
             0.7,
             "#b8e186"
            ],
            [
             0.8,
             "#7fbc41"
            ],
            [
             0.9,
             "#4d9221"
            ],
            [
             1,
             "#276419"
            ]
           ],
           "sequential": [
            [
             0,
             "#0d0887"
            ],
            [
             0.1111111111111111,
             "#46039f"
            ],
            [
             0.2222222222222222,
             "#7201a8"
            ],
            [
             0.3333333333333333,
             "#9c179e"
            ],
            [
             0.4444444444444444,
             "#bd3786"
            ],
            [
             0.5555555555555556,
             "#d8576b"
            ],
            [
             0.6666666666666666,
             "#ed7953"
            ],
            [
             0.7777777777777778,
             "#fb9f3a"
            ],
            [
             0.8888888888888888,
             "#fdca26"
            ],
            [
             1,
             "#f0f921"
            ]
           ],
           "sequentialminus": [
            [
             0,
             "#0d0887"
            ],
            [
             0.1111111111111111,
             "#46039f"
            ],
            [
             0.2222222222222222,
             "#7201a8"
            ],
            [
             0.3333333333333333,
             "#9c179e"
            ],
            [
             0.4444444444444444,
             "#bd3786"
            ],
            [
             0.5555555555555556,
             "#d8576b"
            ],
            [
             0.6666666666666666,
             "#ed7953"
            ],
            [
             0.7777777777777778,
             "#fb9f3a"
            ],
            [
             0.8888888888888888,
             "#fdca26"
            ],
            [
             1,
             "#f0f921"
            ]
           ]
          },
          "colorway": [
           "#636efa",
           "#EF553B",
           "#00cc96",
           "#ab63fa",
           "#FFA15A",
           "#19d3f3",
           "#FF6692",
           "#B6E880",
           "#FF97FF",
           "#FECB52"
          ],
          "font": {
           "color": "#2a3f5f"
          },
          "geo": {
           "bgcolor": "white",
           "lakecolor": "white",
           "landcolor": "#E5ECF6",
           "showlakes": true,
           "showland": true,
           "subunitcolor": "white"
          },
          "hoverlabel": {
           "align": "left"
          },
          "hovermode": "closest",
          "mapbox": {
           "style": "light"
          },
          "paper_bgcolor": "white",
          "plot_bgcolor": "#E5ECF6",
          "polar": {
           "angularaxis": {
            "gridcolor": "white",
            "linecolor": "white",
            "ticks": ""
           },
           "bgcolor": "#E5ECF6",
           "radialaxis": {
            "gridcolor": "white",
            "linecolor": "white",
            "ticks": ""
           }
          },
          "scene": {
           "xaxis": {
            "backgroundcolor": "#E5ECF6",
            "gridcolor": "white",
            "gridwidth": 2,
            "linecolor": "white",
            "showbackground": true,
            "ticks": "",
            "zerolinecolor": "white"
           },
           "yaxis": {
            "backgroundcolor": "#E5ECF6",
            "gridcolor": "white",
            "gridwidth": 2,
            "linecolor": "white",
            "showbackground": true,
            "ticks": "",
            "zerolinecolor": "white"
           },
           "zaxis": {
            "backgroundcolor": "#E5ECF6",
            "gridcolor": "white",
            "gridwidth": 2,
            "linecolor": "white",
            "showbackground": true,
            "ticks": "",
            "zerolinecolor": "white"
           }
          },
          "shapedefaults": {
           "line": {
            "color": "#2a3f5f"
           }
          },
          "ternary": {
           "aaxis": {
            "gridcolor": "white",
            "linecolor": "white",
            "ticks": ""
           },
           "baxis": {
            "gridcolor": "white",
            "linecolor": "white",
            "ticks": ""
           },
           "bgcolor": "#E5ECF6",
           "caxis": {
            "gridcolor": "white",
            "linecolor": "white",
            "ticks": ""
           }
          },
          "title": {
           "x": 0.05
          },
          "xaxis": {
           "automargin": true,
           "gridcolor": "white",
           "linecolor": "white",
           "ticks": "",
           "title": {
            "standoff": 15
           },
           "zerolinecolor": "white",
           "zerolinewidth": 2
          },
          "yaxis": {
           "automargin": true,
           "gridcolor": "white",
           "linecolor": "white",
           "ticks": "",
           "title": {
            "standoff": 15
           },
           "zerolinecolor": "white",
           "zerolinewidth": 2
          }
         }
        },
        "width": 900,
        "xaxis": {
         "rangeselector": {
          "buttons": [
           {
            "count": 7,
            "label": "1w",
            "step": "day",
            "stepmode": "backward"
           },
           {
            "count": 1,
            "label": "1m",
            "step": "month",
            "stepmode": "backward"
           },
           {
            "count": 6,
            "label": "6m",
            "step": "month",
            "stepmode": "backward"
           },
           {
            "count": 1,
            "label": "1y",
            "step": "year",
            "stepmode": "backward"
           },
           {
            "step": "all"
           }
          ]
         },
         "rangeslider": {
          "visible": true
         },
         "title": {
          "text": "ds"
         },
         "type": "date"
        },
        "yaxis": {
         "title": {
          "text": "y"
         }
        }
       }
      }
     },
     "metadata": {},
     "output_type": "display_data"
    }
   ],
   "source": [
    "from prophet.plot import plot_plotly, plot_components_plotly\n",
    "\n",
    "plot_plotly(m, forecast)"
   ]
  },
  {
   "cell_type": "code",
   "execution_count": 33,
   "metadata": {},
   "outputs": [
    {
     "data": {
      "application/vnd.plotly.v1+json": {
       "config": {
        "plotlyServerURL": "https://plot.ly"
       },
       "data": [
        {
         "line": {
          "color": "#0072B2",
          "width": 2
         },
         "mode": "lines",
         "name": "trend",
         "type": "scatter",
         "x": [
          "1960-12-31T00:00:00",
          "1961-12-31T00:00:00",
          "1962-12-31T00:00:00",
          "1963-12-31T00:00:00",
          "1964-12-31T00:00:00",
          "1965-12-31T00:00:00",
          "1966-12-31T00:00:00",
          "1967-12-31T00:00:00",
          "1968-12-31T00:00:00",
          "1969-12-31T00:00:00",
          "1970-12-31T00:00:00",
          "1971-12-31T00:00:00",
          "1972-12-31T00:00:00",
          "1973-12-31T00:00:00",
          "1974-12-31T00:00:00",
          "1975-12-31T00:00:00",
          "1976-12-31T00:00:00",
          "1977-12-31T00:00:00",
          "1978-12-31T00:00:00",
          "1979-12-31T00:00:00",
          "1980-12-31T00:00:00",
          "1981-12-31T00:00:00",
          "1982-12-31T00:00:00",
          "1983-12-31T00:00:00",
          "1984-12-31T00:00:00",
          "1985-12-31T00:00:00",
          "1986-12-31T00:00:00",
          "1987-12-31T00:00:00",
          "1988-12-31T00:00:00",
          "1989-12-31T00:00:00",
          "1990-12-31T00:00:00",
          "1991-12-31T00:00:00",
          "1992-12-31T00:00:00",
          "1993-12-31T00:00:00",
          "1994-12-31T00:00:00",
          "1995-12-31T00:00:00",
          "1996-12-31T00:00:00",
          "1997-12-31T00:00:00",
          "1998-12-31T00:00:00",
          "1999-12-31T00:00:00",
          "2000-12-31T00:00:00",
          "2001-12-31T00:00:00",
          "2002-12-31T00:00:00",
          "2003-12-31T00:00:00",
          "2004-12-31T00:00:00",
          "2005-12-31T00:00:00",
          "2006-12-31T00:00:00",
          "2007-12-31T00:00:00",
          "2008-12-31T00:00:00",
          "2009-12-31T00:00:00",
          "2010-12-31T00:00:00",
          "2011-12-31T00:00:00",
          "2012-12-31T00:00:00",
          "2013-12-31T00:00:00",
          "2014-12-31T00:00:00",
          "2015-12-31T00:00:00",
          "2016-12-31T00:00:00",
          "2017-12-31T00:00:00",
          "2018-12-31T00:00:00",
          "2019-12-31T00:00:00",
          "2020-12-31T00:00:00",
          "2021-12-31T00:00:00",
          "2022-12-31T00:00:00",
          "2023-12-31T00:00:00",
          "2024-12-31T00:00:00",
          "2025-12-31T00:00:00"
         ],
         "xaxis": "x",
         "y": [
          207291.390852,
          321163.6676516793,
          435035.9444513586,
          548939.0796926339,
          663154.278318132,
          781759.4725076352,
          900364.6666971386,
          1021139.968648344,
          1142246.161837772,
          1265571.3022076027,
          1388896.4425774335,
          1512363.5590319165,
          1636168.941558878,
          1763822.2635695327,
          1891475.585580188,
          2019283.7472020572,
          2147442.068170835,
          2277472.920623644,
          2407503.773076453,
          2537534.625693026,
          2667921.7272208775,
          2798004.331285224,
          2928086.9353495706,
          3060343.026873745,
          3192961.4638541485,
          3330179.0241347877,
          3467396.5844154274,
          3606033.0857860236,
          3745049.4131877744,
          3893589.9221663764,
          4042130.431144978,
          4190670.939920074,
          4339618.408993184,
          4488158.918037896,
          4636699.427082609,
          4780734.636732188,
          4925164.463394508,
          5060628.093444878,
          5196091.723495249,
          5324200.788859652,
          5452660.837964778,
          5580756.312807979,
          5708851.78765118,
          5831943.691328292,
          5955372.833097668,
          6075350.722471753,
          6195328.611845837,
          6315147.117892213,
          6435293.893818165,
          6569830.93126903,
          6704367.968719893,
          6824754.857296208,
          6945471.572964513,
          7065858.461540828,
          7186245.350117143,
          7306632.238693458,
          7427348.954361763,
          7547735.842938078,
          7668122.731514393,
          7788509.620090708,
          7909226.335759013,
          8029613.224335328,
          8150000.112911643,
          8270387.001487958,
          8391103.717156263,
          8511490.605732579
         ],
         "yaxis": "y"
        },
        {
         "line": {
          "color": "rgba(0, 114, 178, 0.2)",
          "width": 0
         },
         "mode": "lines",
         "name": "trend_upper",
         "type": "scatter",
         "x": [
          "1960-12-31T00:00:00",
          "1961-12-31T00:00:00",
          "1962-12-31T00:00:00",
          "1963-12-31T00:00:00",
          "1964-12-31T00:00:00",
          "1965-12-31T00:00:00",
          "1966-12-31T00:00:00",
          "1967-12-31T00:00:00",
          "1968-12-31T00:00:00",
          "1969-12-31T00:00:00",
          "1970-12-31T00:00:00",
          "1971-12-31T00:00:00",
          "1972-12-31T00:00:00",
          "1973-12-31T00:00:00",
          "1974-12-31T00:00:00",
          "1975-12-31T00:00:00",
          "1976-12-31T00:00:00",
          "1977-12-31T00:00:00",
          "1978-12-31T00:00:00",
          "1979-12-31T00:00:00",
          "1980-12-31T00:00:00",
          "1981-12-31T00:00:00",
          "1982-12-31T00:00:00",
          "1983-12-31T00:00:00",
          "1984-12-31T00:00:00",
          "1985-12-31T00:00:00",
          "1986-12-31T00:00:00",
          "1987-12-31T00:00:00",
          "1988-12-31T00:00:00",
          "1989-12-31T00:00:00",
          "1990-12-31T00:00:00",
          "1991-12-31T00:00:00",
          "1992-12-31T00:00:00",
          "1993-12-31T00:00:00",
          "1994-12-31T00:00:00",
          "1995-12-31T00:00:00",
          "1996-12-31T00:00:00",
          "1997-12-31T00:00:00",
          "1998-12-31T00:00:00",
          "1999-12-31T00:00:00",
          "2000-12-31T00:00:00",
          "2001-12-31T00:00:00",
          "2002-12-31T00:00:00",
          "2003-12-31T00:00:00",
          "2004-12-31T00:00:00",
          "2005-12-31T00:00:00",
          "2006-12-31T00:00:00",
          "2007-12-31T00:00:00",
          "2008-12-31T00:00:00",
          "2009-12-31T00:00:00",
          "2010-12-31T00:00:00",
          "2011-12-31T00:00:00",
          "2012-12-31T00:00:00",
          "2013-12-31T00:00:00",
          "2014-12-31T00:00:00",
          "2015-12-31T00:00:00",
          "2016-12-31T00:00:00",
          "2017-12-31T00:00:00",
          "2018-12-31T00:00:00",
          "2019-12-31T00:00:00",
          "2020-12-31T00:00:00",
          "2021-12-31T00:00:00",
          "2022-12-31T00:00:00",
          "2023-12-31T00:00:00",
          "2024-12-31T00:00:00",
          "2025-12-31T00:00:00"
         ],
         "xaxis": "x",
         "y": [
          207291.390852,
          321163.6676516793,
          435035.9444513586,
          548939.0796926339,
          663154.278318132,
          781759.4725076352,
          900364.6666971386,
          1021139.968648344,
          1142246.161837772,
          1265571.3022076027,
          1388896.4425774335,
          1512363.5590319165,
          1636168.941558878,
          1763822.2635695327,
          1891475.585580188,
          2019283.7472020572,
          2147442.068170835,
          2277472.920623644,
          2407503.773076453,
          2537534.625693026,
          2667921.7272208775,
          2798004.331285224,
          2928086.9353495706,
          3060343.026873745,
          3192961.4638541485,
          3330179.0241347877,
          3467396.5844154274,
          3606033.0857860236,
          3745049.4131877744,
          3893589.9221663764,
          4042130.431144978,
          4190670.939920074,
          4339618.408993184,
          4488158.918037896,
          4636699.427082609,
          4780734.636732188,
          4925164.463394508,
          5060628.093444878,
          5196091.723495249,
          5324200.788859652,
          5452660.837964778,
          5580756.312807979,
          5708851.78765118,
          5831943.691328292,
          5955372.833097668,
          6075350.722471753,
          6195328.611845837,
          6315147.117892213,
          6435293.893818165,
          6569830.93126903,
          6704367.968719893,
          6824754.857296208,
          6945471.572964513,
          7065858.461540828,
          7186245.350117143,
          7306632.238693458,
          7427348.954361763,
          7547735.842938078,
          7668122.731514393,
          7788509.620090708,
          7909226.335759013,
          8029613.224335328,
          8150000.112911643,
          8270387.001487958,
          8392162.658504128,
          8515483.183038615
         ],
         "yaxis": "y"
        },
        {
         "fill": "tonexty",
         "fillcolor": "rgba(0, 114, 178, 0.2)",
         "line": {
          "color": "rgba(0, 114, 178, 0.2)",
          "width": 0
         },
         "mode": "lines",
         "name": "trend_lower",
         "type": "scatter",
         "x": [
          "1960-12-31T00:00:00",
          "1961-12-31T00:00:00",
          "1962-12-31T00:00:00",
          "1963-12-31T00:00:00",
          "1964-12-31T00:00:00",
          "1965-12-31T00:00:00",
          "1966-12-31T00:00:00",
          "1967-12-31T00:00:00",
          "1968-12-31T00:00:00",
          "1969-12-31T00:00:00",
          "1970-12-31T00:00:00",
          "1971-12-31T00:00:00",
          "1972-12-31T00:00:00",
          "1973-12-31T00:00:00",
          "1974-12-31T00:00:00",
          "1975-12-31T00:00:00",
          "1976-12-31T00:00:00",
          "1977-12-31T00:00:00",
          "1978-12-31T00:00:00",
          "1979-12-31T00:00:00",
          "1980-12-31T00:00:00",
          "1981-12-31T00:00:00",
          "1982-12-31T00:00:00",
          "1983-12-31T00:00:00",
          "1984-12-31T00:00:00",
          "1985-12-31T00:00:00",
          "1986-12-31T00:00:00",
          "1987-12-31T00:00:00",
          "1988-12-31T00:00:00",
          "1989-12-31T00:00:00",
          "1990-12-31T00:00:00",
          "1991-12-31T00:00:00",
          "1992-12-31T00:00:00",
          "1993-12-31T00:00:00",
          "1994-12-31T00:00:00",
          "1995-12-31T00:00:00",
          "1996-12-31T00:00:00",
          "1997-12-31T00:00:00",
          "1998-12-31T00:00:00",
          "1999-12-31T00:00:00",
          "2000-12-31T00:00:00",
          "2001-12-31T00:00:00",
          "2002-12-31T00:00:00",
          "2003-12-31T00:00:00",
          "2004-12-31T00:00:00",
          "2005-12-31T00:00:00",
          "2006-12-31T00:00:00",
          "2007-12-31T00:00:00",
          "2008-12-31T00:00:00",
          "2009-12-31T00:00:00",
          "2010-12-31T00:00:00",
          "2011-12-31T00:00:00",
          "2012-12-31T00:00:00",
          "2013-12-31T00:00:00",
          "2014-12-31T00:00:00",
          "2015-12-31T00:00:00",
          "2016-12-31T00:00:00",
          "2017-12-31T00:00:00",
          "2018-12-31T00:00:00",
          "2019-12-31T00:00:00",
          "2020-12-31T00:00:00",
          "2021-12-31T00:00:00",
          "2022-12-31T00:00:00",
          "2023-12-31T00:00:00",
          "2024-12-31T00:00:00",
          "2025-12-31T00:00:00"
         ],
         "xaxis": "x",
         "y": [
          207291.390852,
          321163.6676516793,
          435035.9444513586,
          548939.0796926339,
          663154.278318132,
          781759.4725076352,
          900364.6666971386,
          1021139.968648344,
          1142246.161837772,
          1265571.3022076027,
          1388896.4425774335,
          1512363.5590319165,
          1636168.941558878,
          1763822.2635695327,
          1891475.585580188,
          2019283.7472020572,
          2147442.068170835,
          2277472.920623644,
          2407503.773076453,
          2537534.625693026,
          2667921.7272208775,
          2798004.331285224,
          2928086.9353495706,
          3060343.026873745,
          3192961.4638541485,
          3330179.0241347877,
          3467396.5844154274,
          3606033.0857860236,
          3745049.4131877744,
          3893589.9221663764,
          4042130.431144978,
          4190670.939920074,
          4339618.408993184,
          4488158.918037896,
          4636699.427082609,
          4780734.636732188,
          4925164.463394508,
          5060628.093444878,
          5196091.723495249,
          5324200.788859652,
          5452660.837964778,
          5580756.312807979,
          5708851.78765118,
          5831943.691328292,
          5955372.833097668,
          6075350.722471753,
          6195328.611845837,
          6315147.117892213,
          6435293.893818165,
          6569830.93126903,
          6704367.968719893,
          6824754.857296208,
          6945471.572964513,
          7065858.461540828,
          7186245.350117143,
          7306632.238693458,
          7427348.954361763,
          7547735.842938078,
          7668122.731514393,
          7788509.620090708,
          7909226.335759013,
          8029613.224335328,
          8150000.112911643,
          8270387.001487958,
          8389860.469894538,
          8506855.013286212
         ],
         "yaxis": "y"
        },
        {
         "line": {
          "color": "#0072B2",
          "width": 2
         },
         "mode": "lines",
         "name": "yearly",
         "type": "scatter",
         "x": [
          "2017-01-01T00:00:00",
          "2017-01-02T00:00:59.178082",
          "2017-01-03T00:01:58.356164",
          "2017-01-04T00:02:57.534246",
          "2017-01-05T00:03:56.712328",
          "2017-01-06T00:04:55.890411",
          "2017-01-07T00:05:55.068493",
          "2017-01-08T00:06:54.246575",
          "2017-01-09T00:07:53.424657",
          "2017-01-10T00:08:52.602739",
          "2017-01-11T00:09:51.780822",
          "2017-01-12T00:10:50.958904",
          "2017-01-13T00:11:50.136986",
          "2017-01-14T00:12:49.315068",
          "2017-01-15T00:13:48.493150",
          "2017-01-16T00:14:47.671232",
          "2017-01-17T00:15:46.849315",
          "2017-01-18T00:16:46.027397",
          "2017-01-19T00:17:45.205479",
          "2017-01-20T00:18:44.383561",
          "2017-01-21T00:19:43.561643",
          "2017-01-22T00:20:42.739726",
          "2017-01-23T00:21:41.917808",
          "2017-01-24T00:22:41.095890",
          "2017-01-25T00:23:40.273972",
          "2017-01-26T00:24:39.452054",
          "2017-01-27T00:25:38.630137",
          "2017-01-28T00:26:37.808219",
          "2017-01-29T00:27:36.986301",
          "2017-01-30T00:28:36.164383",
          "2017-01-31T00:29:35.342465",
          "2017-02-01T00:30:34.520547",
          "2017-02-02T00:31:33.698630",
          "2017-02-03T00:32:32.876712",
          "2017-02-04T00:33:32.054794",
          "2017-02-05T00:34:31.232876",
          "2017-02-06T00:35:30.410958",
          "2017-02-07T00:36:29.589041",
          "2017-02-08T00:37:28.767123",
          "2017-02-09T00:38:27.945205",
          "2017-02-10T00:39:27.123287",
          "2017-02-11T00:40:26.301369",
          "2017-02-12T00:41:25.479452",
          "2017-02-13T00:42:24.657534",
          "2017-02-14T00:43:23.835616",
          "2017-02-15T00:44:23.013698",
          "2017-02-16T00:45:22.191780",
          "2017-02-17T00:46:21.369862",
          "2017-02-18T00:47:20.547945",
          "2017-02-19T00:48:19.726027",
          "2017-02-20T00:49:18.904109",
          "2017-02-21T00:50:18.082191",
          "2017-02-22T00:51:17.260273",
          "2017-02-23T00:52:16.438356",
          "2017-02-24T00:53:15.616438",
          "2017-02-25T00:54:14.794520",
          "2017-02-26T00:55:13.972602",
          "2017-02-27T00:56:13.150684",
          "2017-02-28T00:57:12.328767",
          "2017-03-01T00:58:11.506849",
          "2017-03-02T00:59:10.684931",
          "2017-03-03T01:00:09.863013",
          "2017-03-04T01:01:09.041095",
          "2017-03-05T01:02:08.219177",
          "2017-03-06T01:03:07.397260",
          "2017-03-07T01:04:06.575342",
          "2017-03-08T01:05:05.753424",
          "2017-03-09T01:06:04.931506",
          "2017-03-10T01:07:04.109588",
          "2017-03-11T01:08:03.287671",
          "2017-03-12T01:09:02.465753",
          "2017-03-13T01:10:01.643835",
          "2017-03-14T01:11:00.821917",
          "2017-03-15T01:12:00",
          "2017-03-16T01:12:59.178082",
          "2017-03-17T01:13:58.356164",
          "2017-03-18T01:14:57.534246",
          "2017-03-19T01:15:56.712328",
          "2017-03-20T01:16:55.890411",
          "2017-03-21T01:17:55.068493",
          "2017-03-22T01:18:54.246575",
          "2017-03-23T01:19:53.424657",
          "2017-03-24T01:20:52.602739",
          "2017-03-25T01:21:51.780822",
          "2017-03-26T01:22:50.958904",
          "2017-03-27T01:23:50.136986",
          "2017-03-28T01:24:49.315068",
          "2017-03-29T01:25:48.493150",
          "2017-03-30T01:26:47.671232",
          "2017-03-31T01:27:46.849315",
          "2017-04-01T01:28:46.027397",
          "2017-04-02T01:29:45.205479",
          "2017-04-03T01:30:44.383561",
          "2017-04-04T01:31:43.561643",
          "2017-04-05T01:32:42.739726",
          "2017-04-06T01:33:41.917808",
          "2017-04-07T01:34:41.095890",
          "2017-04-08T01:35:40.273972",
          "2017-04-09T01:36:39.452054",
          "2017-04-10T01:37:38.630137",
          "2017-04-11T01:38:37.808219",
          "2017-04-12T01:39:36.986301",
          "2017-04-13T01:40:36.164383",
          "2017-04-14T01:41:35.342465",
          "2017-04-15T01:42:34.520547",
          "2017-04-16T01:43:33.698630",
          "2017-04-17T01:44:32.876712",
          "2017-04-18T01:45:32.054794",
          "2017-04-19T01:46:31.232876",
          "2017-04-20T01:47:30.410958",
          "2017-04-21T01:48:29.589041",
          "2017-04-22T01:49:28.767123",
          "2017-04-23T01:50:27.945205",
          "2017-04-24T01:51:27.123287",
          "2017-04-25T01:52:26.301369",
          "2017-04-26T01:53:25.479452",
          "2017-04-27T01:54:24.657534",
          "2017-04-28T01:55:23.835616",
          "2017-04-29T01:56:23.013698",
          "2017-04-30T01:57:22.191780",
          "2017-05-01T01:58:21.369862",
          "2017-05-02T01:59:20.547945",
          "2017-05-03T02:00:19.726027",
          "2017-05-04T02:01:18.904109",
          "2017-05-05T02:02:18.082191",
          "2017-05-06T02:03:17.260273",
          "2017-05-07T02:04:16.438356",
          "2017-05-08T02:05:15.616438",
          "2017-05-09T02:06:14.794520",
          "2017-05-10T02:07:13.972602",
          "2017-05-11T02:08:13.150684",
          "2017-05-12T02:09:12.328767",
          "2017-05-13T02:10:11.506849",
          "2017-05-14T02:11:10.684931",
          "2017-05-15T02:12:09.863013",
          "2017-05-16T02:13:09.041095",
          "2017-05-17T02:14:08.219177",
          "2017-05-18T02:15:07.397260",
          "2017-05-19T02:16:06.575342",
          "2017-05-20T02:17:05.753424",
          "2017-05-21T02:18:04.931506",
          "2017-05-22T02:19:04.109588",
          "2017-05-23T02:20:03.287671",
          "2017-05-24T02:21:02.465753",
          "2017-05-25T02:22:01.643835",
          "2017-05-26T02:23:00.821917",
          "2017-05-27T02:24:00",
          "2017-05-28T02:24:59.178082",
          "2017-05-29T02:25:58.356164",
          "2017-05-30T02:26:57.534246",
          "2017-05-31T02:27:56.712328",
          "2017-06-01T02:28:55.890411",
          "2017-06-02T02:29:55.068493",
          "2017-06-03T02:30:54.246575",
          "2017-06-04T02:31:53.424657",
          "2017-06-05T02:32:52.602739",
          "2017-06-06T02:33:51.780822",
          "2017-06-07T02:34:50.958904",
          "2017-06-08T02:35:50.136986",
          "2017-06-09T02:36:49.315068",
          "2017-06-10T02:37:48.493150",
          "2017-06-11T02:38:47.671232",
          "2017-06-12T02:39:46.849315",
          "2017-06-13T02:40:46.027397",
          "2017-06-14T02:41:45.205479",
          "2017-06-15T02:42:44.383561",
          "2017-06-16T02:43:43.561643",
          "2017-06-17T02:44:42.739726",
          "2017-06-18T02:45:41.917808",
          "2017-06-19T02:46:41.095890",
          "2017-06-20T02:47:40.273972",
          "2017-06-21T02:48:39.452054",
          "2017-06-22T02:49:38.630137",
          "2017-06-23T02:50:37.808219",
          "2017-06-24T02:51:36.986301",
          "2017-06-25T02:52:36.164383",
          "2017-06-26T02:53:35.342465",
          "2017-06-27T02:54:34.520547",
          "2017-06-28T02:55:33.698630",
          "2017-06-29T02:56:32.876712",
          "2017-06-30T02:57:32.054794",
          "2017-07-01T02:58:31.232876",
          "2017-07-02T02:59:30.410958",
          "2017-07-03T03:00:29.589041",
          "2017-07-04T03:01:28.767123",
          "2017-07-05T03:02:27.945205",
          "2017-07-06T03:03:27.123287",
          "2017-07-07T03:04:26.301369",
          "2017-07-08T03:05:25.479452",
          "2017-07-09T03:06:24.657534",
          "2017-07-10T03:07:23.835616",
          "2017-07-11T03:08:23.013698",
          "2017-07-12T03:09:22.191780",
          "2017-07-13T03:10:21.369862",
          "2017-07-14T03:11:20.547945",
          "2017-07-15T03:12:19.726027",
          "2017-07-16T03:13:18.904109",
          "2017-07-17T03:14:18.082191",
          "2017-07-18T03:15:17.260273",
          "2017-07-19T03:16:16.438356",
          "2017-07-20T03:17:15.616438",
          "2017-07-21T03:18:14.794520",
          "2017-07-22T03:19:13.972602",
          "2017-07-23T03:20:13.150684",
          "2017-07-24T03:21:12.328767",
          "2017-07-25T03:22:11.506849",
          "2017-07-26T03:23:10.684931",
          "2017-07-27T03:24:09.863013",
          "2017-07-28T03:25:09.041095",
          "2017-07-29T03:26:08.219177",
          "2017-07-30T03:27:07.397260",
          "2017-07-31T03:28:06.575342",
          "2017-08-01T03:29:05.753424",
          "2017-08-02T03:30:04.931506",
          "2017-08-03T03:31:04.109588",
          "2017-08-04T03:32:03.287671",
          "2017-08-05T03:33:02.465753",
          "2017-08-06T03:34:01.643835",
          "2017-08-07T03:35:00.821917",
          "2017-08-08T03:36:00",
          "2017-08-09T03:36:59.178082",
          "2017-08-10T03:37:58.356164",
          "2017-08-11T03:38:57.534246",
          "2017-08-12T03:39:56.712328",
          "2017-08-13T03:40:55.890411",
          "2017-08-14T03:41:55.068493",
          "2017-08-15T03:42:54.246575",
          "2017-08-16T03:43:53.424657",
          "2017-08-17T03:44:52.602739",
          "2017-08-18T03:45:51.780822",
          "2017-08-19T03:46:50.958904",
          "2017-08-20T03:47:50.136986",
          "2017-08-21T03:48:49.315068",
          "2017-08-22T03:49:48.493150",
          "2017-08-23T03:50:47.671232",
          "2017-08-24T03:51:46.849315",
          "2017-08-25T03:52:46.027397",
          "2017-08-26T03:53:45.205479",
          "2017-08-27T03:54:44.383561",
          "2017-08-28T03:55:43.561643",
          "2017-08-29T03:56:42.739726",
          "2017-08-30T03:57:41.917808",
          "2017-08-31T03:58:41.095890",
          "2017-09-01T03:59:40.273972",
          "2017-09-02T04:00:39.452054",
          "2017-09-03T04:01:38.630137",
          "2017-09-04T04:02:37.808219",
          "2017-09-05T04:03:36.986301",
          "2017-09-06T04:04:36.164383",
          "2017-09-07T04:05:35.342465",
          "2017-09-08T04:06:34.520547",
          "2017-09-09T04:07:33.698630",
          "2017-09-10T04:08:32.876712",
          "2017-09-11T04:09:32.054794",
          "2017-09-12T04:10:31.232876",
          "2017-09-13T04:11:30.410958",
          "2017-09-14T04:12:29.589041",
          "2017-09-15T04:13:28.767123",
          "2017-09-16T04:14:27.945205",
          "2017-09-17T04:15:27.123287",
          "2017-09-18T04:16:26.301369",
          "2017-09-19T04:17:25.479452",
          "2017-09-20T04:18:24.657534",
          "2017-09-21T04:19:23.835616",
          "2017-09-22T04:20:23.013698",
          "2017-09-23T04:21:22.191780",
          "2017-09-24T04:22:21.369862",
          "2017-09-25T04:23:20.547945",
          "2017-09-26T04:24:19.726027",
          "2017-09-27T04:25:18.904109",
          "2017-09-28T04:26:18.082191",
          "2017-09-29T04:27:17.260273",
          "2017-09-30T04:28:16.438356",
          "2017-10-01T04:29:15.616438",
          "2017-10-02T04:30:14.794520",
          "2017-10-03T04:31:13.972602",
          "2017-10-04T04:32:13.150684",
          "2017-10-05T04:33:12.328767",
          "2017-10-06T04:34:11.506849",
          "2017-10-07T04:35:10.684931",
          "2017-10-08T04:36:09.863013",
          "2017-10-09T04:37:09.041095",
          "2017-10-10T04:38:08.219177",
          "2017-10-11T04:39:07.397260",
          "2017-10-12T04:40:06.575342",
          "2017-10-13T04:41:05.753424",
          "2017-10-14T04:42:04.931506",
          "2017-10-15T04:43:04.109588",
          "2017-10-16T04:44:03.287671",
          "2017-10-17T04:45:02.465753",
          "2017-10-18T04:46:01.643835",
          "2017-10-19T04:47:00.821917",
          "2017-10-20T04:48:00",
          "2017-10-21T04:48:59.178082",
          "2017-10-22T04:49:58.356164",
          "2017-10-23T04:50:57.534246",
          "2017-10-24T04:51:56.712328",
          "2017-10-25T04:52:55.890411",
          "2017-10-26T04:53:55.068493",
          "2017-10-27T04:54:54.246575",
          "2017-10-28T04:55:53.424657",
          "2017-10-29T04:56:52.602739",
          "2017-10-30T04:57:51.780822",
          "2017-10-31T04:58:50.958904",
          "2017-11-01T04:59:50.136986",
          "2017-11-02T05:00:49.315068",
          "2017-11-03T05:01:48.493150",
          "2017-11-04T05:02:47.671232",
          "2017-11-05T05:03:46.849315",
          "2017-11-06T05:04:46.027397",
          "2017-11-07T05:05:45.205479",
          "2017-11-08T05:06:44.383561",
          "2017-11-09T05:07:43.561643",
          "2017-11-10T05:08:42.739726",
          "2017-11-11T05:09:41.917808",
          "2017-11-12T05:10:41.095890",
          "2017-11-13T05:11:40.273972",
          "2017-11-14T05:12:39.452054",
          "2017-11-15T05:13:38.630137",
          "2017-11-16T05:14:37.808219",
          "2017-11-17T05:15:36.986301",
          "2017-11-18T05:16:36.164383",
          "2017-11-19T05:17:35.342465",
          "2017-11-20T05:18:34.520547",
          "2017-11-21T05:19:33.698630",
          "2017-11-22T05:20:32.876712",
          "2017-11-23T05:21:32.054794",
          "2017-11-24T05:22:31.232876",
          "2017-11-25T05:23:30.410958",
          "2017-11-26T05:24:29.589041",
          "2017-11-27T05:25:28.767123",
          "2017-11-28T05:26:27.945205",
          "2017-11-29T05:27:27.123287",
          "2017-11-30T05:28:26.301369",
          "2017-12-01T05:29:25.479452",
          "2017-12-02T05:30:24.657534",
          "2017-12-03T05:31:23.835616",
          "2017-12-04T05:32:23.013698",
          "2017-12-05T05:33:22.191780",
          "2017-12-06T05:34:21.369862",
          "2017-12-07T05:35:20.547945",
          "2017-12-08T05:36:19.726027",
          "2017-12-09T05:37:18.904109",
          "2017-12-10T05:38:18.082191",
          "2017-12-11T05:39:17.260273",
          "2017-12-12T05:40:16.438356",
          "2017-12-13T05:41:15.616438",
          "2017-12-14T05:42:14.794520",
          "2017-12-15T05:43:13.972602",
          "2017-12-16T05:44:13.150684",
          "2017-12-17T05:45:12.328767",
          "2017-12-18T05:46:11.506849",
          "2017-12-19T05:47:10.684931",
          "2017-12-20T05:48:09.863013",
          "2017-12-21T05:49:09.041095",
          "2017-12-22T05:50:08.219177",
          "2017-12-23T05:51:07.397260",
          "2017-12-24T05:52:06.575342",
          "2017-12-25T05:53:05.753424",
          "2017-12-26T05:54:04.931506",
          "2017-12-27T05:55:04.109588",
          "2017-12-28T05:56:03.287671",
          "2017-12-29T05:57:02.465753",
          "2017-12-30T05:58:01.643835",
          "2017-12-31T05:59:00.821917"
         ],
         "xaxis": "x2",
         "y": [
          3080083.252990944,
          3015649.611815269,
          2852904.4170741327,
          2552154.358576169,
          2078402.6024435705,
          1402649.474021002,
          502998.7172258783,
          -634397.5512907711,
          -2014745.8962593034,
          -3634184.2400112795,
          -5479682.135916014,
          -7529216.598056751,
          -9752255.613082513,
          -12110379.352526415,
          -14558410.727228492,
          -17045511.83813044,
          -19516594.725353234,
          -21913883.05276956,
          -24178441.079151914,
          -26252037.365691066,
          -28078736.463107303,
          -29606589.66435081,
          -30789207.041796107,
          -31587199.625319313,
          -31969402.97361017,
          -31913972.320623763,
          -31409131.673734296,
          -30453703.57803105,
          -29057337.931015942,
          -27240419.540074386,
          -25033790.14772933,
          -22477965.33158319,
          -19622284.884565286,
          -16523716.917933568,
          -13245425.457116002,
          -9855352.083000077,
          -6424279.441858876,
          -3024185.327129857,
          273629.7943037022,
          3400366.6404456683,
          6291520.789146494,
          8888402.677957384,
          11139833.995179243,
          13003307.473785777,
          14446085.62836672,
          15446011.084812608,
          15991982.68980871,
          16084244.302028643,
          15734248.985393278,
          14964288.66877843,
          13806820.81119554,
          12303506.552645417,
          10504099.456829527,
          8464946.733077837,
          6247492.6072950065,
          3916574.833411918,
          1538658.7684341168,
          -819984.1064417288,
          -3094940.5486242976,
          -5225523.541234796,
          -7156248.305205025,
          -8838285.942945553,
          -10230705.320412124,
          -11301408.464480437,
          -12027967.221176444,
          -12398019.031134462,
          -12409462.894559823,
          -12070349.202233749,
          -11398477.51833944,
          -10420770.367333679,
          -9172317.550271401,
          -7695275.962723206,
          -6037551.069443036,
          -4251317.348598864,
          -2391541.4724250766,
          -514239.218220985,
          1325071.079519248,
          3072980.511218872,
          4679699.82947658,
          6100460.6582058435,
          7296675.128316514,
          8237062.119721445,
          8898381.994063111,
          9266012.800922051,
          9334250.822335161,
          9106342.844708977,
          8594274.675071882,
          7818276.897770626,
          6806117.927659203,
          5592176.426470159,
          4216314.941174438,
          2722687.362998668,
          1158274.5590364516,
          -428489.8904872907,
          -1989196.79296228,
          -3476905.4020634806,
          -4847542.020508123,
          -6061120.698247288,
          -7082984.0781908175,
          -7884712.741425435,
          -8444918.926748445,
          -8749804.920870807,
          -8793487.259397915,
          -8578082.398411226,
          -8113553.514116392,
          -7417315.4035215145,
          -6513626.52493478,
          -5432765.987024657,
          -4210102.553511033,
          -2884893.399986241,
          -1499099.5159205906,
          -96071.79605309272,
          1280780.9193221286,
          2589327.6250268924,
          3789926.070187227,
          4846696.610382224,
          5728519.346863162,
          6409954.4653681405,
          6871970.59078303,
          7102449.4441351835,
          7096526.435261231,
          6856652.026025144,
          6392460.145729956,
          5720412.108585173,
          4863224.207105778,
          3849161.176986797,
          2711064.964252421,
          1485347.3630828664,
          210834.66398582084,
          -1072444.451712341,
          -2324513.4485942037,
          -3506620.9845407745,
          -4582511.960439076,
          -5519469.159952277,
          -6289312.341278734,
          -6869242.644959185,
          -7242486.5783688985,
          -7398815.420910783,
          -7334791.47026159,
          -7053840.802331138,
          -6566106.701452911,
          -5888088.345505748,
          -5042127.980890146,
          -4055640.6999662137,
          -2960267.8216677196,
          -1790868.4112928312,
          -584409.2316789115,
          621135.2091988366,
          1788047.7841334555,
          2879981.6606403496,
          3863095.1198960035,
          4707090.484396936,
          5386146.147069129,
          5879670.530666089,
          6172967.692214919,
          6257638.007432061,
          6131824.815558267,
          5800248.99768017,
          5274032.769202758,
          4570359.492865288,
          3711884.0814523874,
          2726034.1498151477,
          1644138.2407327192,
          500427.0446443597,
          -668986.0830139386,
          -1827312.8485123203,
          -2938184.6710788677,
          -3966797.0885849446,
          -4880990.459453309,
          -5652254.613380733,
          -6256576.780484737,
          -6675235.747602379,
          -6895339.955210136,
          -6910231.099695084,
          -6719684.001390152,
          -6329900.9549235795,
          -5753332.404340832,
          -5008256.588172761,
          -4118221.2483828766,
          -3111302.931421812,
          -2019216.3722498603,
          -876375.3633291204,
          281256.78316237446,
          1417239.607164629,
          2495804.5489856233,
          3482971.1109826555,
          4347616.977915603,
          5062412.280774814,
          5604734.732569563,
          5957337.727508808,
          6108904.223500608,
          6054404.289081818,
          5795264.388625903,
          5339327.566489797,
          4700618.085444687,
          3898914.0891802195,
          2959140.232784287,
          1910586.729196008,
          786053.435930458,
          -379238.9216768167,
          -1548694.971941269,
          -2685494.9214847237,
          -3753742.864886713,
          -4719599.694225041,
          -5552301.382365479,
          -6225194.730491436,
          -6716535.410752929,
          -7010193.86609302,
          -7096176.982843488,
          -6970959.628128794,
          -6637624.028451359,
          -6105782.147689171,
          -5391303.765728808,
          -4515847.120492898,
          -3506195.7760227243,
          -2393494.1633901973,
          -1212226.6133947184,
          796.1966891939851,
          1207583.8014231937,
          2370156.3686762433,
          3451674.3690916416,
          4417672.054266456,
          5237088.2728097495,
          5883265.5446596,
          6334804.173365392,
          6576259.727018098,
          6598649.853762898,
          6399789.467468491,
          5984387.133534732,
          5363946.611346013,
          4556453.675502341,
          3585848.6087077553,
          2481370.0351467235,
          1276616.8820099928,
          8580.185622220195,
          -1283490.0187288471,
          -2559299.4191587274,
          -3778691.8415580494,
          -4902983.103046407,
          -5896111.004827004,
          -6725787.828711043,
          -7364530.361174478,
          -7790553.691995893,
          -7988476.03456897,
          -7949879.15417311,
          -7673607.414553729,
          -7165874.908738737,
          -6440141.063348396,
          -5516751.204511621,
          -4422419.458245434,
          -3189402.899744805,
          -1854603.4527507883,
          -458469.01305173244,
          956230.72703427,
          2345629.278791556,
          3666197.436653239,
          4876016.826056607,
          5936099.254437084,
          6811613.534047391,
          7473004.569197156,
          7896929.222459724,
          8067087.2588183535,
          7974767.774272705,
          7619213.757781082,
          7007732.049611557,
          6155600.062146785,
          5085656.700628277,
          3827728.274753075,
          2417805.760866077,
          897032.3871852485,
          -689494.3172841646,
          -2293961.107207169,
          -3867358.4289478646,
          -5360870.2133169705,
          -6727366.553940617,
          -7922846.105046537,
          -8907813.05817154,
          -9648484.057838166,
          -10117951.986709291,
          -10297042.932651598,
          -10175016.104164014,
          -9750003.450950697,
          -9029222.360660043,
          -8028870.190507066,
          -6773798.538430962,
          -5296909.104708684,
          -3638308.3145754673,
          -1844218.110889134,
          34201.09742765633,
          1942396.9579727878,
          3823884.112945302,
          5621881.899007359,
          7280980.866004746,
          8748699.38963591,
          9977167.909240859,
          10924508.630085124,
          11556162.075666737,
          11846002.243325254,
          11777223.765244711,
          11342986.663956841,
          10546775.741039453,
          9402477.19151028,
          7934166.461941146,
          6175606.958376782,
          4169448.007166711,
          1966286.2604239967,
          -376738.7925283289,
          -2797315.034063299,
          -5229597.456005389,
          -7605966.057614308,
          -9858713.148892153,
          -11922022.390180629,
          -13733636.24698111,
          -15236579.4388319,
          -16380723.658365523,
          -17124183.792917043,
          -17434464.49516907,
          -17289441.655472144,
          -16677978.728457037,
          -15600301.317744564,
          -14068057.800069848,
          -12104049.643680636,
          -9741783.904017914,
          -7024508.587922522,
          -4004209.525892463,
          -740269.080911646,
          2702090.646274289,
          6253315.838358961,
          9841537.675117947,
          13394248.801362026,
          16840184.07479422,
          20111118.837807372,
          23143607.59080981,
          25880411.76767385,
          28272093.995110046,
          30278037.02757657,
          31867392.019168828,
          33019725.965733904,
          33725319.167846896,
          33985292.28922009,
          33811296.79715739,
          33224991.28819572,
          32257230.869582072,
          30946993.716931395,
          29340175.58304064,
          27488052.26390515,
          25445758.43678212,
          23270610.062508747,
          21020402.989533495,
          18751698.11260449,
          16518299.750480067,
          14369579.348864898,
          12349215.756739736,
          10493995.532197243,
          8832846.547302894,
          7386215.790236107,
          6165527.624072301,
          5173118.7974178465,
          4402357.963582653,
          3838064.153713889,
          3457186.3731082086,
          3229744.81766375,
          3119944.602157906,
          3087513.314475102,
          3089151.770808679
         ],
         "yaxis": "y2"
        }
       ],
       "layout": {
        "height": 400,
        "showlegend": false,
        "template": {
         "data": {
          "bar": [
           {
            "error_x": {
             "color": "#2a3f5f"
            },
            "error_y": {
             "color": "#2a3f5f"
            },
            "marker": {
             "line": {
              "color": "#E5ECF6",
              "width": 0.5
             },
             "pattern": {
              "fillmode": "overlay",
              "size": 10,
              "solidity": 0.2
             }
            },
            "type": "bar"
           }
          ],
          "barpolar": [
           {
            "marker": {
             "line": {
              "color": "#E5ECF6",
              "width": 0.5
             },
             "pattern": {
              "fillmode": "overlay",
              "size": 10,
              "solidity": 0.2
             }
            },
            "type": "barpolar"
           }
          ],
          "carpet": [
           {
            "aaxis": {
             "endlinecolor": "#2a3f5f",
             "gridcolor": "white",
             "linecolor": "white",
             "minorgridcolor": "white",
             "startlinecolor": "#2a3f5f"
            },
            "baxis": {
             "endlinecolor": "#2a3f5f",
             "gridcolor": "white",
             "linecolor": "white",
             "minorgridcolor": "white",
             "startlinecolor": "#2a3f5f"
            },
            "type": "carpet"
           }
          ],
          "choropleth": [
           {
            "colorbar": {
             "outlinewidth": 0,
             "ticks": ""
            },
            "type": "choropleth"
           }
          ],
          "contour": [
           {
            "colorbar": {
             "outlinewidth": 0,
             "ticks": ""
            },
            "colorscale": [
             [
              0,
              "#0d0887"
             ],
             [
              0.1111111111111111,
              "#46039f"
             ],
             [
              0.2222222222222222,
              "#7201a8"
             ],
             [
              0.3333333333333333,
              "#9c179e"
             ],
             [
              0.4444444444444444,
              "#bd3786"
             ],
             [
              0.5555555555555556,
              "#d8576b"
             ],
             [
              0.6666666666666666,
              "#ed7953"
             ],
             [
              0.7777777777777778,
              "#fb9f3a"
             ],
             [
              0.8888888888888888,
              "#fdca26"
             ],
             [
              1,
              "#f0f921"
             ]
            ],
            "type": "contour"
           }
          ],
          "contourcarpet": [
           {
            "colorbar": {
             "outlinewidth": 0,
             "ticks": ""
            },
            "type": "contourcarpet"
           }
          ],
          "heatmap": [
           {
            "colorbar": {
             "outlinewidth": 0,
             "ticks": ""
            },
            "colorscale": [
             [
              0,
              "#0d0887"
             ],
             [
              0.1111111111111111,
              "#46039f"
             ],
             [
              0.2222222222222222,
              "#7201a8"
             ],
             [
              0.3333333333333333,
              "#9c179e"
             ],
             [
              0.4444444444444444,
              "#bd3786"
             ],
             [
              0.5555555555555556,
              "#d8576b"
             ],
             [
              0.6666666666666666,
              "#ed7953"
             ],
             [
              0.7777777777777778,
              "#fb9f3a"
             ],
             [
              0.8888888888888888,
              "#fdca26"
             ],
             [
              1,
              "#f0f921"
             ]
            ],
            "type": "heatmap"
           }
          ],
          "heatmapgl": [
           {
            "colorbar": {
             "outlinewidth": 0,
             "ticks": ""
            },
            "colorscale": [
             [
              0,
              "#0d0887"
             ],
             [
              0.1111111111111111,
              "#46039f"
             ],
             [
              0.2222222222222222,
              "#7201a8"
             ],
             [
              0.3333333333333333,
              "#9c179e"
             ],
             [
              0.4444444444444444,
              "#bd3786"
             ],
             [
              0.5555555555555556,
              "#d8576b"
             ],
             [
              0.6666666666666666,
              "#ed7953"
             ],
             [
              0.7777777777777778,
              "#fb9f3a"
             ],
             [
              0.8888888888888888,
              "#fdca26"
             ],
             [
              1,
              "#f0f921"
             ]
            ],
            "type": "heatmapgl"
           }
          ],
          "histogram": [
           {
            "marker": {
             "pattern": {
              "fillmode": "overlay",
              "size": 10,
              "solidity": 0.2
             }
            },
            "type": "histogram"
           }
          ],
          "histogram2d": [
           {
            "colorbar": {
             "outlinewidth": 0,
             "ticks": ""
            },
            "colorscale": [
             [
              0,
              "#0d0887"
             ],
             [
              0.1111111111111111,
              "#46039f"
             ],
             [
              0.2222222222222222,
              "#7201a8"
             ],
             [
              0.3333333333333333,
              "#9c179e"
             ],
             [
              0.4444444444444444,
              "#bd3786"
             ],
             [
              0.5555555555555556,
              "#d8576b"
             ],
             [
              0.6666666666666666,
              "#ed7953"
             ],
             [
              0.7777777777777778,
              "#fb9f3a"
             ],
             [
              0.8888888888888888,
              "#fdca26"
             ],
             [
              1,
              "#f0f921"
             ]
            ],
            "type": "histogram2d"
           }
          ],
          "histogram2dcontour": [
           {
            "colorbar": {
             "outlinewidth": 0,
             "ticks": ""
            },
            "colorscale": [
             [
              0,
              "#0d0887"
             ],
             [
              0.1111111111111111,
              "#46039f"
             ],
             [
              0.2222222222222222,
              "#7201a8"
             ],
             [
              0.3333333333333333,
              "#9c179e"
             ],
             [
              0.4444444444444444,
              "#bd3786"
             ],
             [
              0.5555555555555556,
              "#d8576b"
             ],
             [
              0.6666666666666666,
              "#ed7953"
             ],
             [
              0.7777777777777778,
              "#fb9f3a"
             ],
             [
              0.8888888888888888,
              "#fdca26"
             ],
             [
              1,
              "#f0f921"
             ]
            ],
            "type": "histogram2dcontour"
           }
          ],
          "mesh3d": [
           {
            "colorbar": {
             "outlinewidth": 0,
             "ticks": ""
            },
            "type": "mesh3d"
           }
          ],
          "parcoords": [
           {
            "line": {
             "colorbar": {
              "outlinewidth": 0,
              "ticks": ""
             }
            },
            "type": "parcoords"
           }
          ],
          "pie": [
           {
            "automargin": true,
            "type": "pie"
           }
          ],
          "scatter": [
           {
            "fillpattern": {
             "fillmode": "overlay",
             "size": 10,
             "solidity": 0.2
            },
            "type": "scatter"
           }
          ],
          "scatter3d": [
           {
            "line": {
             "colorbar": {
              "outlinewidth": 0,
              "ticks": ""
             }
            },
            "marker": {
             "colorbar": {
              "outlinewidth": 0,
              "ticks": ""
             }
            },
            "type": "scatter3d"
           }
          ],
          "scattercarpet": [
           {
            "marker": {
             "colorbar": {
              "outlinewidth": 0,
              "ticks": ""
             }
            },
            "type": "scattercarpet"
           }
          ],
          "scattergeo": [
           {
            "marker": {
             "colorbar": {
              "outlinewidth": 0,
              "ticks": ""
             }
            },
            "type": "scattergeo"
           }
          ],
          "scattergl": [
           {
            "marker": {
             "colorbar": {
              "outlinewidth": 0,
              "ticks": ""
             }
            },
            "type": "scattergl"
           }
          ],
          "scattermapbox": [
           {
            "marker": {
             "colorbar": {
              "outlinewidth": 0,
              "ticks": ""
             }
            },
            "type": "scattermapbox"
           }
          ],
          "scatterpolar": [
           {
            "marker": {
             "colorbar": {
              "outlinewidth": 0,
              "ticks": ""
             }
            },
            "type": "scatterpolar"
           }
          ],
          "scatterpolargl": [
           {
            "marker": {
             "colorbar": {
              "outlinewidth": 0,
              "ticks": ""
             }
            },
            "type": "scatterpolargl"
           }
          ],
          "scatterternary": [
           {
            "marker": {
             "colorbar": {
              "outlinewidth": 0,
              "ticks": ""
             }
            },
            "type": "scatterternary"
           }
          ],
          "surface": [
           {
            "colorbar": {
             "outlinewidth": 0,
             "ticks": ""
            },
            "colorscale": [
             [
              0,
              "#0d0887"
             ],
             [
              0.1111111111111111,
              "#46039f"
             ],
             [
              0.2222222222222222,
              "#7201a8"
             ],
             [
              0.3333333333333333,
              "#9c179e"
             ],
             [
              0.4444444444444444,
              "#bd3786"
             ],
             [
              0.5555555555555556,
              "#d8576b"
             ],
             [
              0.6666666666666666,
              "#ed7953"
             ],
             [
              0.7777777777777778,
              "#fb9f3a"
             ],
             [
              0.8888888888888888,
              "#fdca26"
             ],
             [
              1,
              "#f0f921"
             ]
            ],
            "type": "surface"
           }
          ],
          "table": [
           {
            "cells": {
             "fill": {
              "color": "#EBF0F8"
             },
             "line": {
              "color": "white"
             }
            },
            "header": {
             "fill": {
              "color": "#C8D4E3"
             },
             "line": {
              "color": "white"
             }
            },
            "type": "table"
           }
          ]
         },
         "layout": {
          "annotationdefaults": {
           "arrowcolor": "#2a3f5f",
           "arrowhead": 0,
           "arrowwidth": 1
          },
          "autotypenumbers": "strict",
          "coloraxis": {
           "colorbar": {
            "outlinewidth": 0,
            "ticks": ""
           }
          },
          "colorscale": {
           "diverging": [
            [
             0,
             "#8e0152"
            ],
            [
             0.1,
             "#c51b7d"
            ],
            [
             0.2,
             "#de77ae"
            ],
            [
             0.3,
             "#f1b6da"
            ],
            [
             0.4,
             "#fde0ef"
            ],
            [
             0.5,
             "#f7f7f7"
            ],
            [
             0.6,
             "#e6f5d0"
            ],
            [
             0.7,
             "#b8e186"
            ],
            [
             0.8,
             "#7fbc41"
            ],
            [
             0.9,
             "#4d9221"
            ],
            [
             1,
             "#276419"
            ]
           ],
           "sequential": [
            [
             0,
             "#0d0887"
            ],
            [
             0.1111111111111111,
             "#46039f"
            ],
            [
             0.2222222222222222,
             "#7201a8"
            ],
            [
             0.3333333333333333,
             "#9c179e"
            ],
            [
             0.4444444444444444,
             "#bd3786"
            ],
            [
             0.5555555555555556,
             "#d8576b"
            ],
            [
             0.6666666666666666,
             "#ed7953"
            ],
            [
             0.7777777777777778,
             "#fb9f3a"
            ],
            [
             0.8888888888888888,
             "#fdca26"
            ],
            [
             1,
             "#f0f921"
            ]
           ],
           "sequentialminus": [
            [
             0,
             "#0d0887"
            ],
            [
             0.1111111111111111,
             "#46039f"
            ],
            [
             0.2222222222222222,
             "#7201a8"
            ],
            [
             0.3333333333333333,
             "#9c179e"
            ],
            [
             0.4444444444444444,
             "#bd3786"
            ],
            [
             0.5555555555555556,
             "#d8576b"
            ],
            [
             0.6666666666666666,
             "#ed7953"
            ],
            [
             0.7777777777777778,
             "#fb9f3a"
            ],
            [
             0.8888888888888888,
             "#fdca26"
            ],
            [
             1,
             "#f0f921"
            ]
           ]
          },
          "colorway": [
           "#636efa",
           "#EF553B",
           "#00cc96",
           "#ab63fa",
           "#FFA15A",
           "#19d3f3",
           "#FF6692",
           "#B6E880",
           "#FF97FF",
           "#FECB52"
          ],
          "font": {
           "color": "#2a3f5f"
          },
          "geo": {
           "bgcolor": "white",
           "lakecolor": "white",
           "landcolor": "#E5ECF6",
           "showlakes": true,
           "showland": true,
           "subunitcolor": "white"
          },
          "hoverlabel": {
           "align": "left"
          },
          "hovermode": "closest",
          "mapbox": {
           "style": "light"
          },
          "paper_bgcolor": "white",
          "plot_bgcolor": "#E5ECF6",
          "polar": {
           "angularaxis": {
            "gridcolor": "white",
            "linecolor": "white",
            "ticks": ""
           },
           "bgcolor": "#E5ECF6",
           "radialaxis": {
            "gridcolor": "white",
            "linecolor": "white",
            "ticks": ""
           }
          },
          "scene": {
           "xaxis": {
            "backgroundcolor": "#E5ECF6",
            "gridcolor": "white",
            "gridwidth": 2,
            "linecolor": "white",
            "showbackground": true,
            "ticks": "",
            "zerolinecolor": "white"
           },
           "yaxis": {
            "backgroundcolor": "#E5ECF6",
            "gridcolor": "white",
            "gridwidth": 2,
            "linecolor": "white",
            "showbackground": true,
            "ticks": "",
            "zerolinecolor": "white"
           },
           "zaxis": {
            "backgroundcolor": "#E5ECF6",
            "gridcolor": "white",
            "gridwidth": 2,
            "linecolor": "white",
            "showbackground": true,
            "ticks": "",
            "zerolinecolor": "white"
           }
          },
          "shapedefaults": {
           "line": {
            "color": "#2a3f5f"
           }
          },
          "ternary": {
           "aaxis": {
            "gridcolor": "white",
            "linecolor": "white",
            "ticks": ""
           },
           "baxis": {
            "gridcolor": "white",
            "linecolor": "white",
            "ticks": ""
           },
           "bgcolor": "#E5ECF6",
           "caxis": {
            "gridcolor": "white",
            "linecolor": "white",
            "ticks": ""
           }
          },
          "title": {
           "x": 0.05
          },
          "xaxis": {
           "automargin": true,
           "gridcolor": "white",
           "linecolor": "white",
           "ticks": "",
           "title": {
            "standoff": 15
           },
           "zerolinecolor": "white",
           "zerolinewidth": 2
          },
          "yaxis": {
           "automargin": true,
           "gridcolor": "white",
           "linecolor": "white",
           "ticks": "",
           "title": {
            "standoff": 15
           },
           "zerolinecolor": "white",
           "zerolinewidth": 2
          }
         }
        },
        "width": 900,
        "xaxis": {
         "anchor": "y",
         "domain": [
          0,
          1
         ],
         "range": [
          "1957-09-30T22:48:00",
          "2029-04-01T01:12:00"
         ],
         "type": "date"
        },
        "xaxis2": {
         "anchor": "y2",
         "domain": [
          0,
          1
         ],
         "range": [
          "2016-12-13T18:54:02.958904",
          "2018-01-18T11:04:57.863013"
         ],
         "tickformat": "%B %e",
         "type": "date"
        },
        "yaxis": {
         "anchor": "x",
         "domain": [
          0.575,
          1
         ],
         "rangemode": "normal",
         "title": {
          "text": "trend"
         },
         "zerolinecolor": "#AAA"
        },
        "yaxis2": {
         "anchor": "x2",
         "domain": [
          0,
          0.425
         ],
         "title": {
          "text": "yearly"
         },
         "zerolinecolor": "#AAA"
        }
       }
      }
     },
     "metadata": {},
     "output_type": "display_data"
    }
   ],
   "source": [
    "plot_components_plotly(m, forecast)"
   ]
  },
  {
   "cell_type": "code",
   "execution_count": 34,
   "metadata": {},
   "outputs": [],
   "source": [
    "predicciones = forecast[['ds', 'yhat']]\n",
    "predicciones.columns = ['fecha', 'predicciones']"
   ]
  },
  {
   "cell_type": "code",
   "execution_count": 35,
   "metadata": {},
   "outputs": [],
   "source": [
    "predicciones.to_csv('../../Datos/datos_predichos/df_poblacion_predicciones.csv')"
   ]
  }
 ],
 "metadata": {
  "kernelspec": {
   "display_name": "Python 3",
   "language": "python",
   "name": "python3"
  },
  "language_info": {
   "codemirror_mode": {
    "name": "ipython",
    "version": 3
   },
   "file_extension": ".py",
   "mimetype": "text/x-python",
   "name": "python",
   "nbconvert_exporter": "python",
   "pygments_lexer": "ipython3",
   "version": "3.11.9"
  }
 },
 "nbformat": 4,
 "nbformat_minor": 2
}
