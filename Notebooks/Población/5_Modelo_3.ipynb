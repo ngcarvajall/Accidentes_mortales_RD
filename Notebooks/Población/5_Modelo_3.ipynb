{
 "cells": [
  {
   "cell_type": "markdown",
   "metadata": {},
   "source": [
    "# Notebook #5: Series temporales: predicción a futuro de la población"
   ]
  },
  {
   "cell_type": "code",
   "execution_count": 1,
   "metadata": {},
   "outputs": [],
   "source": [
    "# Tratamiento de datos\n",
    "# -----------------------------------------------------------------------\n",
    "import pandas as pd\n",
    "from prophet import Prophet\n",
    "\n",
    "# Importar las clases\n",
    "# -----------------------------------------------------------------------\n",
    "import sys\n",
    "sys.path.append('../..')\n",
    "from src import soporte_funciones_BBDD as sfbd\n",
    "from src import soporte_sarima as ss\n",
    "from src import soporte_temporales as st\n",
    "from src import soporte_variables_poblacion as svp\n",
    "\n",
    "# Modelo Series Temporales\n",
    "# -----------------------------------------------------------------------\n",
    "from statsmodels.tsa.statespace.sarimax import SARIMAX\n",
    "from statsmodels.tsa.arima.model import ARIMA\n",
    "\n",
    "\n",
    "# Visualizar las métricas de error en y_test\n",
    "from sklearn.metrics import mean_absolute_error, mean_squared_error, mean_absolute_percentage_error\n",
    "import numpy as np\n",
    "\n",
    "# Visualizaciones\n",
    "# -----------------------------------------------------------------------\n",
    "import seaborn as sns\n",
    "import matplotlib.pyplot as plt\n",
    "# Configuraciones\n",
    "# -----------------------------------------------------------------------\n",
    "pd.options.display.float_format = '{:.0f}'.format\n",
    "from itertools import product\n",
    "\n",
    "%load_ext autoreload\n",
    "%autoreload 2"
   ]
  },
  {
   "cell_type": "markdown",
   "metadata": {},
   "source": [
    "## Query llamando a BBDD"
   ]
  },
  {
   "cell_type": "code",
   "execution_count": 2,
   "metadata": {},
   "outputs": [],
   "source": [
    "df_poblacion = sfbd.dbeaver_fetch(sfbd.dbeaver_conexion(\"proyecto_final\"),svp.query_poblacion)"
   ]
  },
  {
   "cell_type": "code",
   "execution_count": 3,
   "metadata": {},
   "outputs": [],
   "source": [
    "df_poblacion.columns = ['FECHA', 'Población']\n",
    "df_poblacion['FECHA'] = pd.to_datetime(df_poblacion['FECHA'].astype(str) + '-12-31')"
   ]
  },
  {
   "cell_type": "code",
   "execution_count": 4,
   "metadata": {},
   "outputs": [
    {
     "name": "stdout",
     "output_type": "stream",
     "text": [
      "El número de filas es 64 y el número de columnas es 1\n",
      "\n",
      "----------\n",
      "\n",
      "No hay duplicados\n",
      "\n",
      "----------\n",
      "\n",
      "No hay valores nulos\n",
      "\n",
      "----------\n",
      "\n",
      "Estadísticas de las variables numéricas:\n"
     ]
    },
    {
     "data": {
      "text/html": [
       "<div>\n",
       "<style scoped>\n",
       "    .dataframe tbody tr th:only-of-type {\n",
       "        vertical-align: middle;\n",
       "    }\n",
       "\n",
       "    .dataframe tbody tr th {\n",
       "        vertical-align: top;\n",
       "    }\n",
       "\n",
       "    .dataframe thead th {\n",
       "        text-align: right;\n",
       "    }\n",
       "</style>\n",
       "<table border=\"1\" class=\"dataframe\">\n",
       "  <thead>\n",
       "    <tr style=\"text-align: right;\">\n",
       "      <th></th>\n",
       "      <th>count</th>\n",
       "      <th>mean</th>\n",
       "      <th>std</th>\n",
       "      <th>min</th>\n",
       "      <th>25%</th>\n",
       "      <th>50%</th>\n",
       "      <th>75%</th>\n",
       "      <th>max</th>\n",
       "    </tr>\n",
       "  </thead>\n",
       "  <tbody>\n",
       "    <tr>\n",
       "      <th>Población</th>\n",
       "      <td>64</td>\n",
       "      <td>7329201</td>\n",
       "      <td>2478189</td>\n",
       "      <td>3268336</td>\n",
       "      <td>5146997</td>\n",
       "      <td>7373664</td>\n",
       "      <td>9485026</td>\n",
       "      <td>11331265</td>\n",
       "    </tr>\n",
       "  </tbody>\n",
       "</table>\n",
       "</div>"
      ],
      "text/plain": [
       "           count    mean     std     min     25%     50%     75%      max\n",
       "Población     64 7329201 2478189 3268336 5146997 7373664 9485026 11331265"
      ]
     },
     "metadata": {},
     "output_type": "display_data"
    }
   ],
   "source": [
    "# instanciamos la clase\n",
    "analisis_st = st.TimeSeriesAnalysis(df_poblacion, temporal_column=\"FECHA\", value_column=\"Población\")\n",
    "\n",
    "analisis_st.exploracion_datos()"
   ]
  },
  {
   "cell_type": "code",
   "execution_count": 5,
   "metadata": {},
   "outputs": [
    {
     "name": "stdout",
     "output_type": "stream",
     "text": [
      "La serie temporal es continua para la frecuencia 'A', no faltan periodos.\n"
     ]
    }
   ],
   "source": [
    "analisis_st.comprobar_serie_continua('A') #comprobamos que no faltan años"
   ]
  },
  {
   "cell_type": "code",
   "execution_count": 6,
   "metadata": {},
   "outputs": [
    {
     "data": {
      "application/vnd.plotly.v1+json": {
       "config": {
        "plotlyServerURL": "https://plot.ly"
       },
       "data": [
        {
         "hovertemplate": "Fecha=%{x}<br>Valores=%{y}<extra></extra>",
         "legendgroup": "",
         "line": {
          "color": "#636efa",
          "dash": "solid"
         },
         "marker": {
          "symbol": "circle"
         },
         "mode": "lines",
         "name": "",
         "orientation": "v",
         "showlegend": false,
         "type": "scatter",
         "x": [
          "1960-12-31T00:00:00",
          "1961-12-31T00:00:00",
          "1962-12-31T00:00:00",
          "1963-12-31T00:00:00",
          "1964-12-31T00:00:00",
          "1965-12-31T00:00:00",
          "1966-12-31T00:00:00",
          "1967-12-31T00:00:00",
          "1968-12-31T00:00:00",
          "1969-12-31T00:00:00",
          "1970-12-31T00:00:00",
          "1971-12-31T00:00:00",
          "1972-12-31T00:00:00",
          "1973-12-31T00:00:00",
          "1974-12-31T00:00:00",
          "1975-12-31T00:00:00",
          "1976-12-31T00:00:00",
          "1977-12-31T00:00:00",
          "1978-12-31T00:00:00",
          "1979-12-31T00:00:00",
          "1980-12-31T00:00:00",
          "1981-12-31T00:00:00",
          "1982-12-31T00:00:00",
          "1983-12-31T00:00:00",
          "1984-12-31T00:00:00",
          "1985-12-31T00:00:00",
          "1986-12-31T00:00:00",
          "1987-12-31T00:00:00",
          "1988-12-31T00:00:00",
          "1989-12-31T00:00:00",
          "1990-12-31T00:00:00",
          "1991-12-31T00:00:00",
          "1992-12-31T00:00:00",
          "1993-12-31T00:00:00",
          "1994-12-31T00:00:00",
          "1995-12-31T00:00:00",
          "1996-12-31T00:00:00",
          "1997-12-31T00:00:00",
          "1998-12-31T00:00:00",
          "1999-12-31T00:00:00",
          "2000-12-31T00:00:00",
          "2001-12-31T00:00:00",
          "2002-12-31T00:00:00",
          "2003-12-31T00:00:00",
          "2004-12-31T00:00:00",
          "2005-12-31T00:00:00",
          "2006-12-31T00:00:00",
          "2007-12-31T00:00:00",
          "2008-12-31T00:00:00",
          "2009-12-31T00:00:00",
          "2010-12-31T00:00:00",
          "2011-12-31T00:00:00",
          "2012-12-31T00:00:00",
          "2013-12-31T00:00:00",
          "2014-12-31T00:00:00",
          "2015-12-31T00:00:00",
          "2016-12-31T00:00:00",
          "2017-12-31T00:00:00",
          "2018-12-31T00:00:00",
          "2019-12-31T00:00:00",
          "2020-12-31T00:00:00",
          "2021-12-31T00:00:00",
          "2022-12-31T00:00:00",
          "2023-12-31T00:00:00"
         ],
         "xaxis": "x",
         "y": [
          3268336,
          3373233,
          3479936,
          3588287,
          3698559,
          3808963,
          3921847,
          4038928,
          4157189,
          4277035,
          4399290,
          4524234,
          4651883,
          4782227,
          4914197,
          5046776,
          5180404,
          5315443,
          5451882,
          5589690,
          5729037,
          5868453,
          6007114,
          6147248,
          6289040,
          6430404,
          6571208,
          6712515,
          6855734,
          7002295,
          7151166,
          7299853,
          7447474,
          7594572,
          7741694,
          7888115,
          8032894,
          8174078,
          8310362,
          8446208,
          8584190,
          8720283,
          8852235,
          8980620,
          9104892,
          9225034,
          9341183,
          9455658,
          9573130,
          9695265,
          9820175,
          9945621,
          10070411,
          10193833,
          10315528,
          10434829,
          10551430,
          10666843,
          10782053,
          10894043,
          11008300,
          11123476,
          11230734,
          11331265
         ],
         "yaxis": "y"
        }
       ],
       "layout": {
        "legend": {
         "tracegroupgap": 0
        },
        "template": {
         "data": {
          "bar": [
           {
            "error_x": {
             "color": "#2a3f5f"
            },
            "error_y": {
             "color": "#2a3f5f"
            },
            "marker": {
             "line": {
              "color": "white",
              "width": 0.5
             },
             "pattern": {
              "fillmode": "overlay",
              "size": 10,
              "solidity": 0.2
             }
            },
            "type": "bar"
           }
          ],
          "barpolar": [
           {
            "marker": {
             "line": {
              "color": "white",
              "width": 0.5
             },
             "pattern": {
              "fillmode": "overlay",
              "size": 10,
              "solidity": 0.2
             }
            },
            "type": "barpolar"
           }
          ],
          "carpet": [
           {
            "aaxis": {
             "endlinecolor": "#2a3f5f",
             "gridcolor": "#C8D4E3",
             "linecolor": "#C8D4E3",
             "minorgridcolor": "#C8D4E3",
             "startlinecolor": "#2a3f5f"
            },
            "baxis": {
             "endlinecolor": "#2a3f5f",
             "gridcolor": "#C8D4E3",
             "linecolor": "#C8D4E3",
             "minorgridcolor": "#C8D4E3",
             "startlinecolor": "#2a3f5f"
            },
            "type": "carpet"
           }
          ],
          "choropleth": [
           {
            "colorbar": {
             "outlinewidth": 0,
             "ticks": ""
            },
            "type": "choropleth"
           }
          ],
          "contour": [
           {
            "colorbar": {
             "outlinewidth": 0,
             "ticks": ""
            },
            "colorscale": [
             [
              0,
              "#0d0887"
             ],
             [
              0.1111111111111111,
              "#46039f"
             ],
             [
              0.2222222222222222,
              "#7201a8"
             ],
             [
              0.3333333333333333,
              "#9c179e"
             ],
             [
              0.4444444444444444,
              "#bd3786"
             ],
             [
              0.5555555555555556,
              "#d8576b"
             ],
             [
              0.6666666666666666,
              "#ed7953"
             ],
             [
              0.7777777777777778,
              "#fb9f3a"
             ],
             [
              0.8888888888888888,
              "#fdca26"
             ],
             [
              1,
              "#f0f921"
             ]
            ],
            "type": "contour"
           }
          ],
          "contourcarpet": [
           {
            "colorbar": {
             "outlinewidth": 0,
             "ticks": ""
            },
            "type": "contourcarpet"
           }
          ],
          "heatmap": [
           {
            "colorbar": {
             "outlinewidth": 0,
             "ticks": ""
            },
            "colorscale": [
             [
              0,
              "#0d0887"
             ],
             [
              0.1111111111111111,
              "#46039f"
             ],
             [
              0.2222222222222222,
              "#7201a8"
             ],
             [
              0.3333333333333333,
              "#9c179e"
             ],
             [
              0.4444444444444444,
              "#bd3786"
             ],
             [
              0.5555555555555556,
              "#d8576b"
             ],
             [
              0.6666666666666666,
              "#ed7953"
             ],
             [
              0.7777777777777778,
              "#fb9f3a"
             ],
             [
              0.8888888888888888,
              "#fdca26"
             ],
             [
              1,
              "#f0f921"
             ]
            ],
            "type": "heatmap"
           }
          ],
          "heatmapgl": [
           {
            "colorbar": {
             "outlinewidth": 0,
             "ticks": ""
            },
            "colorscale": [
             [
              0,
              "#0d0887"
             ],
             [
              0.1111111111111111,
              "#46039f"
             ],
             [
              0.2222222222222222,
              "#7201a8"
             ],
             [
              0.3333333333333333,
              "#9c179e"
             ],
             [
              0.4444444444444444,
              "#bd3786"
             ],
             [
              0.5555555555555556,
              "#d8576b"
             ],
             [
              0.6666666666666666,
              "#ed7953"
             ],
             [
              0.7777777777777778,
              "#fb9f3a"
             ],
             [
              0.8888888888888888,
              "#fdca26"
             ],
             [
              1,
              "#f0f921"
             ]
            ],
            "type": "heatmapgl"
           }
          ],
          "histogram": [
           {
            "marker": {
             "pattern": {
              "fillmode": "overlay",
              "size": 10,
              "solidity": 0.2
             }
            },
            "type": "histogram"
           }
          ],
          "histogram2d": [
           {
            "colorbar": {
             "outlinewidth": 0,
             "ticks": ""
            },
            "colorscale": [
             [
              0,
              "#0d0887"
             ],
             [
              0.1111111111111111,
              "#46039f"
             ],
             [
              0.2222222222222222,
              "#7201a8"
             ],
             [
              0.3333333333333333,
              "#9c179e"
             ],
             [
              0.4444444444444444,
              "#bd3786"
             ],
             [
              0.5555555555555556,
              "#d8576b"
             ],
             [
              0.6666666666666666,
              "#ed7953"
             ],
             [
              0.7777777777777778,
              "#fb9f3a"
             ],
             [
              0.8888888888888888,
              "#fdca26"
             ],
             [
              1,
              "#f0f921"
             ]
            ],
            "type": "histogram2d"
           }
          ],
          "histogram2dcontour": [
           {
            "colorbar": {
             "outlinewidth": 0,
             "ticks": ""
            },
            "colorscale": [
             [
              0,
              "#0d0887"
             ],
             [
              0.1111111111111111,
              "#46039f"
             ],
             [
              0.2222222222222222,
              "#7201a8"
             ],
             [
              0.3333333333333333,
              "#9c179e"
             ],
             [
              0.4444444444444444,
              "#bd3786"
             ],
             [
              0.5555555555555556,
              "#d8576b"
             ],
             [
              0.6666666666666666,
              "#ed7953"
             ],
             [
              0.7777777777777778,
              "#fb9f3a"
             ],
             [
              0.8888888888888888,
              "#fdca26"
             ],
             [
              1,
              "#f0f921"
             ]
            ],
            "type": "histogram2dcontour"
           }
          ],
          "mesh3d": [
           {
            "colorbar": {
             "outlinewidth": 0,
             "ticks": ""
            },
            "type": "mesh3d"
           }
          ],
          "parcoords": [
           {
            "line": {
             "colorbar": {
              "outlinewidth": 0,
              "ticks": ""
             }
            },
            "type": "parcoords"
           }
          ],
          "pie": [
           {
            "automargin": true,
            "type": "pie"
           }
          ],
          "scatter": [
           {
            "fillpattern": {
             "fillmode": "overlay",
             "size": 10,
             "solidity": 0.2
            },
            "type": "scatter"
           }
          ],
          "scatter3d": [
           {
            "line": {
             "colorbar": {
              "outlinewidth": 0,
              "ticks": ""
             }
            },
            "marker": {
             "colorbar": {
              "outlinewidth": 0,
              "ticks": ""
             }
            },
            "type": "scatter3d"
           }
          ],
          "scattercarpet": [
           {
            "marker": {
             "colorbar": {
              "outlinewidth": 0,
              "ticks": ""
             }
            },
            "type": "scattercarpet"
           }
          ],
          "scattergeo": [
           {
            "marker": {
             "colorbar": {
              "outlinewidth": 0,
              "ticks": ""
             }
            },
            "type": "scattergeo"
           }
          ],
          "scattergl": [
           {
            "marker": {
             "colorbar": {
              "outlinewidth": 0,
              "ticks": ""
             }
            },
            "type": "scattergl"
           }
          ],
          "scattermapbox": [
           {
            "marker": {
             "colorbar": {
              "outlinewidth": 0,
              "ticks": ""
             }
            },
            "type": "scattermapbox"
           }
          ],
          "scatterpolar": [
           {
            "marker": {
             "colorbar": {
              "outlinewidth": 0,
              "ticks": ""
             }
            },
            "type": "scatterpolar"
           }
          ],
          "scatterpolargl": [
           {
            "marker": {
             "colorbar": {
              "outlinewidth": 0,
              "ticks": ""
             }
            },
            "type": "scatterpolargl"
           }
          ],
          "scatterternary": [
           {
            "marker": {
             "colorbar": {
              "outlinewidth": 0,
              "ticks": ""
             }
            },
            "type": "scatterternary"
           }
          ],
          "surface": [
           {
            "colorbar": {
             "outlinewidth": 0,
             "ticks": ""
            },
            "colorscale": [
             [
              0,
              "#0d0887"
             ],
             [
              0.1111111111111111,
              "#46039f"
             ],
             [
              0.2222222222222222,
              "#7201a8"
             ],
             [
              0.3333333333333333,
              "#9c179e"
             ],
             [
              0.4444444444444444,
              "#bd3786"
             ],
             [
              0.5555555555555556,
              "#d8576b"
             ],
             [
              0.6666666666666666,
              "#ed7953"
             ],
             [
              0.7777777777777778,
              "#fb9f3a"
             ],
             [
              0.8888888888888888,
              "#fdca26"
             ],
             [
              1,
              "#f0f921"
             ]
            ],
            "type": "surface"
           }
          ],
          "table": [
           {
            "cells": {
             "fill": {
              "color": "#EBF0F8"
             },
             "line": {
              "color": "white"
             }
            },
            "header": {
             "fill": {
              "color": "#C8D4E3"
             },
             "line": {
              "color": "white"
             }
            },
            "type": "table"
           }
          ]
         },
         "layout": {
          "annotationdefaults": {
           "arrowcolor": "#2a3f5f",
           "arrowhead": 0,
           "arrowwidth": 1
          },
          "autotypenumbers": "strict",
          "coloraxis": {
           "colorbar": {
            "outlinewidth": 0,
            "ticks": ""
           }
          },
          "colorscale": {
           "diverging": [
            [
             0,
             "#8e0152"
            ],
            [
             0.1,
             "#c51b7d"
            ],
            [
             0.2,
             "#de77ae"
            ],
            [
             0.3,
             "#f1b6da"
            ],
            [
             0.4,
             "#fde0ef"
            ],
            [
             0.5,
             "#f7f7f7"
            ],
            [
             0.6,
             "#e6f5d0"
            ],
            [
             0.7,
             "#b8e186"
            ],
            [
             0.8,
             "#7fbc41"
            ],
            [
             0.9,
             "#4d9221"
            ],
            [
             1,
             "#276419"
            ]
           ],
           "sequential": [
            [
             0,
             "#0d0887"
            ],
            [
             0.1111111111111111,
             "#46039f"
            ],
            [
             0.2222222222222222,
             "#7201a8"
            ],
            [
             0.3333333333333333,
             "#9c179e"
            ],
            [
             0.4444444444444444,
             "#bd3786"
            ],
            [
             0.5555555555555556,
             "#d8576b"
            ],
            [
             0.6666666666666666,
             "#ed7953"
            ],
            [
             0.7777777777777778,
             "#fb9f3a"
            ],
            [
             0.8888888888888888,
             "#fdca26"
            ],
            [
             1,
             "#f0f921"
            ]
           ],
           "sequentialminus": [
            [
             0,
             "#0d0887"
            ],
            [
             0.1111111111111111,
             "#46039f"
            ],
            [
             0.2222222222222222,
             "#7201a8"
            ],
            [
             0.3333333333333333,
             "#9c179e"
            ],
            [
             0.4444444444444444,
             "#bd3786"
            ],
            [
             0.5555555555555556,
             "#d8576b"
            ],
            [
             0.6666666666666666,
             "#ed7953"
            ],
            [
             0.7777777777777778,
             "#fb9f3a"
            ],
            [
             0.8888888888888888,
             "#fdca26"
            ],
            [
             1,
             "#f0f921"
            ]
           ]
          },
          "colorway": [
           "#636efa",
           "#EF553B",
           "#00cc96",
           "#ab63fa",
           "#FFA15A",
           "#19d3f3",
           "#FF6692",
           "#B6E880",
           "#FF97FF",
           "#FECB52"
          ],
          "font": {
           "color": "#2a3f5f"
          },
          "geo": {
           "bgcolor": "white",
           "lakecolor": "white",
           "landcolor": "white",
           "showlakes": true,
           "showland": true,
           "subunitcolor": "#C8D4E3"
          },
          "hoverlabel": {
           "align": "left"
          },
          "hovermode": "closest",
          "mapbox": {
           "style": "light"
          },
          "paper_bgcolor": "white",
          "plot_bgcolor": "white",
          "polar": {
           "angularaxis": {
            "gridcolor": "#EBF0F8",
            "linecolor": "#EBF0F8",
            "ticks": ""
           },
           "bgcolor": "white",
           "radialaxis": {
            "gridcolor": "#EBF0F8",
            "linecolor": "#EBF0F8",
            "ticks": ""
           }
          },
          "scene": {
           "xaxis": {
            "backgroundcolor": "white",
            "gridcolor": "#DFE8F3",
            "gridwidth": 2,
            "linecolor": "#EBF0F8",
            "showbackground": true,
            "ticks": "",
            "zerolinecolor": "#EBF0F8"
           },
           "yaxis": {
            "backgroundcolor": "white",
            "gridcolor": "#DFE8F3",
            "gridwidth": 2,
            "linecolor": "#EBF0F8",
            "showbackground": true,
            "ticks": "",
            "zerolinecolor": "#EBF0F8"
           },
           "zaxis": {
            "backgroundcolor": "white",
            "gridcolor": "#DFE8F3",
            "gridwidth": 2,
            "linecolor": "#EBF0F8",
            "showbackground": true,
            "ticks": "",
            "zerolinecolor": "#EBF0F8"
           }
          },
          "shapedefaults": {
           "line": {
            "color": "#2a3f5f"
           }
          },
          "ternary": {
           "aaxis": {
            "gridcolor": "#DFE8F3",
            "linecolor": "#A2B1C6",
            "ticks": ""
           },
           "baxis": {
            "gridcolor": "#DFE8F3",
            "linecolor": "#A2B1C6",
            "ticks": ""
           },
           "bgcolor": "white",
           "caxis": {
            "gridcolor": "#DFE8F3",
            "linecolor": "#A2B1C6",
            "ticks": ""
           }
          },
          "title": {
           "x": 0.05
          },
          "xaxis": {
           "automargin": true,
           "gridcolor": "#EBF0F8",
           "linecolor": "#EBF0F8",
           "ticks": "",
           "title": {
            "standoff": 15
           },
           "zerolinecolor": "#EBF0F8",
           "zerolinewidth": 2
          },
          "yaxis": {
           "automargin": true,
           "gridcolor": "#EBF0F8",
           "linecolor": "#EBF0F8",
           "ticks": "",
           "title": {
            "standoff": 15
           },
           "zerolinecolor": "#EBF0F8",
           "zerolinewidth": 2
          }
         }
        },
        "title": {
         "text": "Serie Temporal Original"
        },
        "xaxis": {
         "anchor": "y",
         "domain": [
          0,
          1
         ],
         "title": {
          "text": "Fecha"
         }
        },
        "yaxis": {
         "anchor": "x",
         "domain": [
          0,
          1
         ],
         "title": {
          "text": "Valores"
         }
        }
       }
      }
     },
     "metadata": {},
     "output_type": "display_data"
    }
   ],
   "source": [
    "analisis_st.graficar_serie()"
   ]
  },
  {
   "cell_type": "markdown",
   "metadata": {},
   "source": [
    "## Análisis de la serie temporal del parque vehicular"
   ]
  },
  {
   "cell_type": "markdown",
   "metadata": {},
   "source": [
    "- Se puede observar una tendencia en ascenso, lo que indica que ha tenido un crecimiento uniforme en el transcurso del tiempo. Sin embargo, entre el 1990-2000 esta línea que muestra un ascenso casi lineal empieza a mostrar un cambio en su fuerza de aumento. Lo cuál queda más claro a partir del 2010."
   ]
  },
  {
   "cell_type": "code",
   "execution_count": 7,
   "metadata": {},
   "outputs": [
    {
     "data": {
      "image/png": "[encoded data removed]",
      "text/plain": [
       "<Figure size 1200x1000 with 4 Axes>"
      ]
     },
     "metadata": {},
     "output_type": "display_data"
    }
   ],
   "source": [
    "analisis_st.detectar_estacionalidad()"
   ]
  },
  {
   "cell_type": "code",
   "execution_count": 8,
   "metadata": {},
   "outputs": [
    {
     "data": {
      "text/plain": [
       "<Figure size 1200x1000 with 0 Axes>"
      ]
     },
     "metadata": {},
     "output_type": "display_data"
    },
    {
     "data": {
      "image/png": "[encoded data removed]",
      "text/plain": [
       "<Figure size 640x480 with 1 Axes>"
      ]
     },
     "metadata": {},
     "output_type": "display_data"
    },
    {
     "data": {
      "text/plain": [
       "<Figure size 1200x1000 with 0 Axes>"
      ]
     },
     "metadata": {},
     "output_type": "display_data"
    },
    {
     "data": {
      "image/png": "[encoded data removed]",
      "text/plain": [
       "<Figure size 640x480 with 1 Axes>"
      ]
     },
     "metadata": {},
     "output_type": "display_data"
    }
   ],
   "source": [
    "analisis_st.graficar_acf_pacf(lags=12)"
   ]
  },
  {
   "cell_type": "markdown",
   "metadata": {},
   "source": [
    "## Análisis de las gráficas ACF y PACF"
   ]
  },
  {
   "cell_type": "markdown",
   "metadata": {},
   "source": [
    "### **Gráfica ACF (Función de Autocorrelación)**\n",
    "1. **Lag 1**:\n",
    "   - La correlación en el primer lag es muy alta, lo que indica que la variable tiene una fuerte relación con su valor del periodo inmediatamente anterior.\n",
    "   \n",
    "2. **Lags significativos**:\n",
    "   - Hasta el lag número 6 tienen correlaciones significativas que sobresalen del intervalo de confianza, lo que sugiere que también tienen impacto en la serie.\n",
    "   - Después del sexto lag, las correlaciones se adentran al intervalo de confianza.\n",
    "\n",
    "3. **Estacionalidad**:\n",
    "   - No tiene estacionalidad ya que son datos anuales   \n",
    "---\n",
    "\n",
    "### **Gráfica PACF (Función de Autocorrelación Parcial)**\n",
    "1. **Lag 1**:\n",
    "   - El primer lag muestra una correlación significativa, indicando que el valor actual está altamente influenciado por el valor del periodo inmediatamente anterior.\n",
    "\n",
    "2. **Lags significativos**:\n",
    "   - El segundo lag también tiene una fuerte conexión, sin embargo pasado este todos caen dentro del intervalo de confianza. De manera que los lags más lejanos no tienen influencia directa significativa.\n",
    "---"
   ]
  },
  {
   "cell_type": "code",
   "execution_count": 9,
   "metadata": {},
   "outputs": [
    {
     "name": "stdout",
     "output_type": "stream",
     "text": [
      "ADF Statistic: -3.7268586635941947\n",
      "p-value: 0.0037508380967098305\n",
      "Valores Críticos:\n",
      "1%: -3.548493559596539\n",
      "5%: -2.912836594776334\n",
      "10%: -2.594129155766944\n",
      "Rechazamos la hipótesis nula. La serie es estacionaria.\n"
     ]
    }
   ],
   "source": [
    "analisis_st.prueba_estacionariedad()"
   ]
  },
  {
   "cell_type": "markdown",
   "metadata": {},
   "source": [
    "## Prophet"
   ]
  },
  {
   "cell_type": "code",
   "execution_count": 10,
   "metadata": {},
   "outputs": [],
   "source": [
    "df_poblacion.columns = ['ds', 'y'] #convertimos las columnas en estas específicas para procesarlas en Prophet"
   ]
  },
  {
   "cell_type": "code",
   "execution_count": 11,
   "metadata": {},
   "outputs": [],
   "source": [
    "df_poblacion.set_index('ds', inplace=True)"
   ]
  },
  {
   "cell_type": "markdown",
   "metadata": {},
   "source": [
    "### Cálculo de baseline"
   ]
  },
  {
   "cell_type": "code",
   "execution_count": 12,
   "metadata": {},
   "outputs": [],
   "source": [
    "df_poblacion['prev'] = df_poblacion['y'].shift(1)\n",
    "df_poblacion['ape'] = (df_poblacion['prev'] - df_poblacion['y']).abs() / df_poblacion['y'].astype(float)"
   ]
  },
  {
   "cell_type": "code",
   "execution_count": 13,
   "metadata": {},
   "outputs": [],
   "source": [
    "train_size = int(0.7 * len(df_poblacion))\n",
    "y_train, y_test = df_poblacion[:train_size], df_poblacion[train_size:]"
   ]
  },
  {
   "cell_type": "code",
   "execution_count": 14,
   "metadata": {},
   "outputs": [
    {
     "data": {
      "text/plain": [
       "0.011556774208749083"
      ]
     },
     "execution_count": 14,
     "metadata": {},
     "output_type": "execute_result"
    }
   ],
   "source": [
    "y_test['ape'].mean()"
   ]
  },
  {
   "cell_type": "markdown",
   "metadata": {},
   "source": [
    "    - El MAPE ofrecido por como baseline es de 1.1%. Esto viene de tomar como referencia para la predicción del siguiente año, al año actual."
   ]
  },
  {
   "cell_type": "code",
   "execution_count": 15,
   "metadata": {},
   "outputs": [],
   "source": [
    "df_poblacion.drop(columns=['prev', 'ape'], inplace=True)\n",
    "y_train.drop(columns=['prev', 'ape'], inplace=True)\n",
    "y_test.drop(columns=['prev', 'ape'], inplace=True)"
   ]
  },
  {
   "cell_type": "code",
   "execution_count": 16,
   "metadata": {},
   "outputs": [],
   "source": [
    "df_poblacion.reset_index(inplace=True)"
   ]
  },
  {
   "cell_type": "code",
   "execution_count": 17,
   "metadata": {},
   "outputs": [
    {
     "name": "stderr",
     "output_type": "stream",
     "text": [
      "12:21:59 - cmdstanpy - INFO - Chain [1] start processing\n",
      "12:21:59 - cmdstanpy - INFO - Chain [1] done processing\n"
     ]
    },
    {
     "data": {
      "text/html": [
       "<div>\n",
       "<style scoped>\n",
       "    .dataframe tbody tr th:only-of-type {\n",
       "        vertical-align: middle;\n",
       "    }\n",
       "\n",
       "    .dataframe tbody tr th {\n",
       "        vertical-align: top;\n",
       "    }\n",
       "\n",
       "    .dataframe thead th {\n",
       "        text-align: right;\n",
       "    }\n",
       "</style>\n",
       "<table border=\"1\" class=\"dataframe\">\n",
       "  <thead>\n",
       "    <tr style=\"text-align: right;\">\n",
       "      <th></th>\n",
       "      <th>ds</th>\n",
       "      <th>trend</th>\n",
       "      <th>yhat_lower</th>\n",
       "      <th>yhat_upper</th>\n",
       "      <th>trend_lower</th>\n",
       "      <th>trend_upper</th>\n",
       "      <th>additive_terms</th>\n",
       "      <th>additive_terms_lower</th>\n",
       "      <th>additive_terms_upper</th>\n",
       "      <th>yearly</th>\n",
       "      <th>yearly_lower</th>\n",
       "      <th>yearly_upper</th>\n",
       "      <th>multiplicative_terms</th>\n",
       "      <th>multiplicative_terms_lower</th>\n",
       "      <th>multiplicative_terms_upper</th>\n",
       "      <th>yhat</th>\n",
       "    </tr>\n",
       "  </thead>\n",
       "  <tbody>\n",
       "    <tr>\n",
       "      <th>0</th>\n",
       "      <td>1960-12-31</td>\n",
       "      <td>200337</td>\n",
       "      <td>3260067</td>\n",
       "      <td>3274087</td>\n",
       "      <td>200337</td>\n",
       "      <td>200337</td>\n",
       "      <td>3066690</td>\n",
       "      <td>3066690</td>\n",
       "      <td>3066690</td>\n",
       "      <td>3066690</td>\n",
       "      <td>3066690</td>\n",
       "      <td>3066690</td>\n",
       "      <td>0</td>\n",
       "      <td>0</td>\n",
       "      <td>0</td>\n",
       "      <td>3267027</td>\n",
       "    </tr>\n",
       "    <tr>\n",
       "      <th>1</th>\n",
       "      <td>1961-12-31</td>\n",
       "      <td>308191</td>\n",
       "      <td>3366853</td>\n",
       "      <td>3380395</td>\n",
       "      <td>308191</td>\n",
       "      <td>308191</td>\n",
       "      <td>3065559</td>\n",
       "      <td>3065559</td>\n",
       "      <td>3065559</td>\n",
       "      <td>3065559</td>\n",
       "      <td>3065559</td>\n",
       "      <td>3065559</td>\n",
       "      <td>0</td>\n",
       "      <td>0</td>\n",
       "      <td>0</td>\n",
       "      <td>3373750</td>\n",
       "    </tr>\n",
       "    <tr>\n",
       "      <th>2</th>\n",
       "      <td>1962-12-31</td>\n",
       "      <td>416046</td>\n",
       "      <td>3473626</td>\n",
       "      <td>3487378</td>\n",
       "      <td>416046</td>\n",
       "      <td>416046</td>\n",
       "      <td>3064376</td>\n",
       "      <td>3064376</td>\n",
       "      <td>3064376</td>\n",
       "      <td>3064376</td>\n",
       "      <td>3064376</td>\n",
       "      <td>3064376</td>\n",
       "      <td>0</td>\n",
       "      <td>0</td>\n",
       "      <td>0</td>\n",
       "      <td>3480422</td>\n",
       "    </tr>\n",
       "    <tr>\n",
       "      <th>3</th>\n",
       "      <td>1963-12-31</td>\n",
       "      <td>523900</td>\n",
       "      <td>3580791</td>\n",
       "      <td>3595474</td>\n",
       "      <td>523900</td>\n",
       "      <td>523900</td>\n",
       "      <td>3063875</td>\n",
       "      <td>3063875</td>\n",
       "      <td>3063875</td>\n",
       "      <td>3063875</td>\n",
       "      <td>3063875</td>\n",
       "      <td>3063875</td>\n",
       "      <td>0</td>\n",
       "      <td>0</td>\n",
       "      <td>0</td>\n",
       "      <td>3587775</td>\n",
       "    </tr>\n",
       "    <tr>\n",
       "      <th>4</th>\n",
       "      <td>1964-12-31</td>\n",
       "      <td>632050</td>\n",
       "      <td>3691860</td>\n",
       "      <td>3706000</td>\n",
       "      <td>632050</td>\n",
       "      <td>632050</td>\n",
       "      <td>3066690</td>\n",
       "      <td>3066690</td>\n",
       "      <td>3066690</td>\n",
       "      <td>3066690</td>\n",
       "      <td>3066690</td>\n",
       "      <td>3066690</td>\n",
       "      <td>0</td>\n",
       "      <td>0</td>\n",
       "      <td>0</td>\n",
       "      <td>3698740</td>\n",
       "    </tr>\n",
       "    <tr>\n",
       "      <th>...</th>\n",
       "      <td>...</td>\n",
       "      <td>...</td>\n",
       "      <td>...</td>\n",
       "      <td>...</td>\n",
       "      <td>...</td>\n",
       "      <td>...</td>\n",
       "      <td>...</td>\n",
       "      <td>...</td>\n",
       "      <td>...</td>\n",
       "      <td>...</td>\n",
       "      <td>...</td>\n",
       "      <td>...</td>\n",
       "      <td>...</td>\n",
       "      <td>...</td>\n",
       "      <td>...</td>\n",
       "      <td>...</td>\n",
       "    </tr>\n",
       "    <tr>\n",
       "      <th>61</th>\n",
       "      <td>2021-12-31</td>\n",
       "      <td>8057709</td>\n",
       "      <td>11115934</td>\n",
       "      <td>11130274</td>\n",
       "      <td>8057709</td>\n",
       "      <td>8057709</td>\n",
       "      <td>3065559</td>\n",
       "      <td>3065559</td>\n",
       "      <td>3065559</td>\n",
       "      <td>3065559</td>\n",
       "      <td>3065559</td>\n",
       "      <td>3065559</td>\n",
       "      <td>0</td>\n",
       "      <td>0</td>\n",
       "      <td>0</td>\n",
       "      <td>11123268</td>\n",
       "    </tr>\n",
       "    <tr>\n",
       "      <th>62</th>\n",
       "      <td>2022-12-31</td>\n",
       "      <td>8174407</td>\n",
       "      <td>11231854</td>\n",
       "      <td>11245928</td>\n",
       "      <td>8174407</td>\n",
       "      <td>8174407</td>\n",
       "      <td>3064376</td>\n",
       "      <td>3064376</td>\n",
       "      <td>3064376</td>\n",
       "      <td>3064376</td>\n",
       "      <td>3064376</td>\n",
       "      <td>3064376</td>\n",
       "      <td>0</td>\n",
       "      <td>0</td>\n",
       "      <td>0</td>\n",
       "      <td>11238784</td>\n",
       "    </tr>\n",
       "    <tr>\n",
       "      <th>63</th>\n",
       "      <td>2023-12-31</td>\n",
       "      <td>8291106</td>\n",
       "      <td>11347718</td>\n",
       "      <td>11361959</td>\n",
       "      <td>8291106</td>\n",
       "      <td>8291106</td>\n",
       "      <td>3063875</td>\n",
       "      <td>3063875</td>\n",
       "      <td>3063875</td>\n",
       "      <td>3063875</td>\n",
       "      <td>3063875</td>\n",
       "      <td>3063875</td>\n",
       "      <td>0</td>\n",
       "      <td>0</td>\n",
       "      <td>0</td>\n",
       "      <td>11354982</td>\n",
       "    </tr>\n",
       "    <tr>\n",
       "      <th>64</th>\n",
       "      <td>2024-12-31</td>\n",
       "      <td>8408125</td>\n",
       "      <td>11467290</td>\n",
       "      <td>11482417</td>\n",
       "      <td>8406840</td>\n",
       "      <td>8409735</td>\n",
       "      <td>3066690</td>\n",
       "      <td>3066690</td>\n",
       "      <td>3066690</td>\n",
       "      <td>3066690</td>\n",
       "      <td>3066690</td>\n",
       "      <td>3066690</td>\n",
       "      <td>0</td>\n",
       "      <td>0</td>\n",
       "      <td>0</td>\n",
       "      <td>11474815</td>\n",
       "    </tr>\n",
       "    <tr>\n",
       "      <th>65</th>\n",
       "      <td>2025-12-31</td>\n",
       "      <td>8524823</td>\n",
       "      <td>11581346</td>\n",
       "      <td>11600073</td>\n",
       "      <td>8520086</td>\n",
       "      <td>8530255</td>\n",
       "      <td>3065559</td>\n",
       "      <td>3065559</td>\n",
       "      <td>3065559</td>\n",
       "      <td>3065559</td>\n",
       "      <td>3065559</td>\n",
       "      <td>3065559</td>\n",
       "      <td>0</td>\n",
       "      <td>0</td>\n",
       "      <td>0</td>\n",
       "      <td>11590382</td>\n",
       "    </tr>\n",
       "  </tbody>\n",
       "</table>\n",
       "<p>66 rows × 16 columns</p>\n",
       "</div>"
      ],
      "text/plain": [
       "           ds   trend  yhat_lower  yhat_upper  trend_lower  trend_upper  \\\n",
       "0  1960-12-31  200337     3260067     3274087       200337       200337   \n",
       "1  1961-12-31  308191     3366853     3380395       308191       308191   \n",
       "2  1962-12-31  416046     3473626     3487378       416046       416046   \n",
       "3  1963-12-31  523900     3580791     3595474       523900       523900   \n",
       "4  1964-12-31  632050     3691860     3706000       632050       632050   \n",
       "..        ...     ...         ...         ...          ...          ...   \n",
       "61 2021-12-31 8057709    11115934    11130274      8057709      8057709   \n",
       "62 2022-12-31 8174407    11231854    11245928      8174407      8174407   \n",
       "63 2023-12-31 8291106    11347718    11361959      8291106      8291106   \n",
       "64 2024-12-31 8408125    11467290    11482417      8406840      8409735   \n",
       "65 2025-12-31 8524823    11581346    11600073      8520086      8530255   \n",
       "\n",
       "    additive_terms  additive_terms_lower  additive_terms_upper  yearly  \\\n",
       "0          3066690               3066690               3066690 3066690   \n",
       "1          3065559               3065559               3065559 3065559   \n",
       "2          3064376               3064376               3064376 3064376   \n",
       "3          3063875               3063875               3063875 3063875   \n",
       "4          3066690               3066690               3066690 3066690   \n",
       "..             ...                   ...                   ...     ...   \n",
       "61         3065559               3065559               3065559 3065559   \n",
       "62         3064376               3064376               3064376 3064376   \n",
       "63         3063875               3063875               3063875 3063875   \n",
       "64         3066690               3066690               3066690 3066690   \n",
       "65         3065559               3065559               3065559 3065559   \n",
       "\n",
       "    yearly_lower  yearly_upper  multiplicative_terms  \\\n",
       "0        3066690       3066690                     0   \n",
       "1        3065559       3065559                     0   \n",
       "2        3064376       3064376                     0   \n",
       "3        3063875       3063875                     0   \n",
       "4        3066690       3066690                     0   \n",
       "..           ...           ...                   ...   \n",
       "61       3065559       3065559                     0   \n",
       "62       3064376       3064376                     0   \n",
       "63       3063875       3063875                     0   \n",
       "64       3066690       3066690                     0   \n",
       "65       3065559       3065559                     0   \n",
       "\n",
       "    multiplicative_terms_lower  multiplicative_terms_upper     yhat  \n",
       "0                            0                           0  3267027  \n",
       "1                            0                           0  3373750  \n",
       "2                            0                           0  3480422  \n",
       "3                            0                           0  3587775  \n",
       "4                            0                           0  3698740  \n",
       "..                         ...                         ...      ...  \n",
       "61                           0                           0 11123268  \n",
       "62                           0                           0 11238784  \n",
       "63                           0                           0 11354982  \n",
       "64                           0                           0 11474815  \n",
       "65                           0                           0 11590382  \n",
       "\n",
       "[66 rows x 16 columns]"
      ]
     },
     "execution_count": 17,
     "metadata": {},
     "output_type": "execute_result"
    }
   ],
   "source": [
    "m = Prophet()\n",
    "m.fit(df_poblacion)  # df is a pandas.DataFrame with 'y' and 'ds' columns\n",
    "future = m.make_future_dataframe(periods=2, freq='Y') # predicción a 2 años en el futuro\n",
    "m.predict(future)"
   ]
  },
  {
   "cell_type": "code",
   "execution_count": 18,
   "metadata": {},
   "outputs": [
    {
     "data": {
      "text/html": [
       "<div>\n",
       "<style scoped>\n",
       "    .dataframe tbody tr th:only-of-type {\n",
       "        vertical-align: middle;\n",
       "    }\n",
       "\n",
       "    .dataframe tbody tr th {\n",
       "        vertical-align: top;\n",
       "    }\n",
       "\n",
       "    .dataframe thead th {\n",
       "        text-align: right;\n",
       "    }\n",
       "</style>\n",
       "<table border=\"1\" class=\"dataframe\">\n",
       "  <thead>\n",
       "    <tr style=\"text-align: right;\">\n",
       "      <th></th>\n",
       "      <th>ds</th>\n",
       "      <th>yhat</th>\n",
       "      <th>yhat_lower</th>\n",
       "      <th>yhat_upper</th>\n",
       "    </tr>\n",
       "  </thead>\n",
       "  <tbody>\n",
       "    <tr>\n",
       "      <th>61</th>\n",
       "      <td>2021-12-31</td>\n",
       "      <td>11123268</td>\n",
       "      <td>11116209</td>\n",
       "      <td>11130146</td>\n",
       "    </tr>\n",
       "    <tr>\n",
       "      <th>62</th>\n",
       "      <td>2022-12-31</td>\n",
       "      <td>11238784</td>\n",
       "      <td>11232122</td>\n",
       "      <td>11245818</td>\n",
       "    </tr>\n",
       "    <tr>\n",
       "      <th>63</th>\n",
       "      <td>2023-12-31</td>\n",
       "      <td>11354982</td>\n",
       "      <td>11347665</td>\n",
       "      <td>11361829</td>\n",
       "    </tr>\n",
       "    <tr>\n",
       "      <th>64</th>\n",
       "      <td>2024-12-31</td>\n",
       "      <td>11474815</td>\n",
       "      <td>11467593</td>\n",
       "      <td>11482112</td>\n",
       "    </tr>\n",
       "    <tr>\n",
       "      <th>65</th>\n",
       "      <td>2025-12-31</td>\n",
       "      <td>11590382</td>\n",
       "      <td>11580977</td>\n",
       "      <td>11599694</td>\n",
       "    </tr>\n",
       "  </tbody>\n",
       "</table>\n",
       "</div>"
      ],
      "text/plain": [
       "           ds     yhat  yhat_lower  yhat_upper\n",
       "61 2021-12-31 11123268    11116209    11130146\n",
       "62 2022-12-31 11238784    11232122    11245818\n",
       "63 2023-12-31 11354982    11347665    11361829\n",
       "64 2024-12-31 11474815    11467593    11482112\n",
       "65 2025-12-31 11590382    11580977    11599694"
      ]
     },
     "execution_count": 18,
     "metadata": {},
     "output_type": "execute_result"
    }
   ],
   "source": [
    "forecast = m.predict(future)\n",
    "forecast[['ds', 'yhat', 'yhat_lower', 'yhat_upper']].tail() #filtro solo por las columnas que me interesan, la predicción y el umbral superior e inferior"
   ]
  },
  {
   "cell_type": "code",
   "execution_count": 19,
   "metadata": {},
   "outputs": [
    {
     "data": {
      "text/html": [
       "<div>\n",
       "<style scoped>\n",
       "    .dataframe tbody tr th:only-of-type {\n",
       "        vertical-align: middle;\n",
       "    }\n",
       "\n",
       "    .dataframe tbody tr th {\n",
       "        vertical-align: top;\n",
       "    }\n",
       "\n",
       "    .dataframe thead th {\n",
       "        text-align: right;\n",
       "    }\n",
       "</style>\n",
       "<table border=\"1\" class=\"dataframe\">\n",
       "  <thead>\n",
       "    <tr style=\"text-align: right;\">\n",
       "      <th></th>\n",
       "      <th>ds</th>\n",
       "      <th>yhat</th>\n",
       "      <th>yhat_lower</th>\n",
       "      <th>yhat_upper</th>\n",
       "      <th>poblacion</th>\n",
       "    </tr>\n",
       "  </thead>\n",
       "  <tbody>\n",
       "    <tr>\n",
       "      <th>59</th>\n",
       "      <td>2019-12-31</td>\n",
       "      <td>10887867</td>\n",
       "      <td>10881073</td>\n",
       "      <td>10894421</td>\n",
       "      <td>10894043</td>\n",
       "    </tr>\n",
       "    <tr>\n",
       "      <th>60</th>\n",
       "      <td>2020-12-31</td>\n",
       "      <td>11007700</td>\n",
       "      <td>11000637</td>\n",
       "      <td>11014635</td>\n",
       "      <td>11008300</td>\n",
       "    </tr>\n",
       "    <tr>\n",
       "      <th>61</th>\n",
       "      <td>2021-12-31</td>\n",
       "      <td>11123268</td>\n",
       "      <td>11116209</td>\n",
       "      <td>11130146</td>\n",
       "      <td>11123476</td>\n",
       "    </tr>\n",
       "    <tr>\n",
       "      <th>62</th>\n",
       "      <td>2022-12-31</td>\n",
       "      <td>11238784</td>\n",
       "      <td>11232122</td>\n",
       "      <td>11245818</td>\n",
       "      <td>11230734</td>\n",
       "    </tr>\n",
       "    <tr>\n",
       "      <th>63</th>\n",
       "      <td>2023-12-31</td>\n",
       "      <td>11354982</td>\n",
       "      <td>11347665</td>\n",
       "      <td>11361829</td>\n",
       "      <td>11331265</td>\n",
       "    </tr>\n",
       "  </tbody>\n",
       "</table>\n",
       "</div>"
      ],
      "text/plain": [
       "           ds     yhat  yhat_lower  yhat_upper  poblacion\n",
       "59 2019-12-31 10887867    10881073    10894421   10894043\n",
       "60 2020-12-31 11007700    11000637    11014635   11008300\n",
       "61 2021-12-31 11123268    11116209    11130146   11123476\n",
       "62 2022-12-31 11238784    11232122    11245818   11230734\n",
       "63 2023-12-31 11354982    11347665    11361829   11331265"
      ]
     },
     "execution_count": 19,
     "metadata": {},
     "output_type": "execute_result"
    }
   ],
   "source": [
    "df = forecast[['ds', 'yhat', 'yhat_lower', 'yhat_upper']]\n",
    "df['poblacion'] = df_poblacion['y']\n",
    "df = df[df['poblacion'].notnull() & df['yhat'].notnull()]\n",
    "df.tail(5) # creo un df con los valores reales y predichos para ver el comportamiento del modelo"
   ]
  },
  {
   "cell_type": "code",
   "execution_count": 27,
   "metadata": {},
   "outputs": [
    {
     "data": {
      "image/png": "[encoded data removed]",
      "text/plain": [
       "<Figure size 1400x700 with 1 Axes>"
      ]
     },
     "metadata": {},
     "output_type": "display_data"
    }
   ],
   "source": [
    "plt.figure(figsize=(14, 7))\n",
    "sns.lineplot(data=df, x=\"ds\", y=\"poblacion\", label=\"Valores Reales\", color=\"blue\", linewidth=2) # valores reales\n",
    "sns.lineplot(data=df, x=\"ds\", y=\"yhat\", label=\"Predicciones PROPHET\", color=\"red\", linestyle=\"--\", linewidth=2) # predicciones\n",
    "plt.title(\"Comparación de Predicciones vs Valores Reales en Población\", fontsize=16)\n",
    "plt.ylabel(\"Población\", fontsize=14)\n",
    "plt.legend(fontsize=12)\n",
    "plt.grid(True, linestyle=\"--\", alpha=0.6) # formato cuadriculado\n",
    "plt.tight_layout()\n",
    "plt.show()"
   ]
  },
  {
   "cell_type": "code",
   "execution_count": null,
   "metadata": {},
   "outputs": [
    {
     "name": "stdout",
     "output_type": "stream",
     "text": [
      "MAE: 2831.8361744950307\n",
      "MAPE: 0.03%\n",
      "RMSE: 5435.27222720849\n"
     ]
    }
   ],
   "source": [
    "# Selecciono las columnas relevantes\n",
    "y_real = df['poblacion']\n",
    "y_pred = df['yhat']\n",
    "\n",
    "# Cálculo de estadísticas\n",
    "mae = mean_absolute_error(y_real, y_pred)\n",
    "mape = mean_absolute_percentage_error(y_real, y_pred)\n",
    "rmse = np.sqrt(mean_squared_error(y_real, y_pred))\n",
    "\n",
    "# Imprimo los resultados\n",
    "print(f\"MAE: {mae}\")\n",
    "print(f\"MAPE: {mape * 100:.2f}%\")               \n",
    "print(f\"RMSE: {rmse}\")"
   ]
  },
  {
   "cell_type": "code",
   "execution_count": 22,
   "metadata": {},
   "outputs": [
    {
     "data": {
      "image/png": "[encoded data removed]",
      "text/plain": [
       "<Figure size 1000x600 with 1 Axes>"
      ]
     },
     "metadata": {},
     "output_type": "display_data"
    }
   ],
   "source": [
    "fig1 = m.plot(forecast)"
   ]
  },
  {
   "cell_type": "code",
   "execution_count": 23,
   "metadata": {},
   "outputs": [
    {
     "data": {
      "application/vnd.plotly.v1+json": {
       "config": {
        "plotlyServerURL": "https://plot.ly"
       },
       "data": [
        {
         "marker": {
          "color": "black",
          "size": 4
         },
         "mode": "markers",
         "name": "Actual",
         "type": "scatter",
         "x": [
          "1960-12-31T00:00:00",
          "1961-12-31T00:00:00",
          "1962-12-31T00:00:00",
          "1963-12-31T00:00:00",
          "1964-12-31T00:00:00",
          "1965-12-31T00:00:00",
          "1966-12-31T00:00:00",
          "1967-12-31T00:00:00",
          "1968-12-31T00:00:00",
          "1969-12-31T00:00:00",
          "1970-12-31T00:00:00",
          "1971-12-31T00:00:00",
          "1972-12-31T00:00:00",
          "1973-12-31T00:00:00",
          "1974-12-31T00:00:00",
          "1975-12-31T00:00:00",
          "1976-12-31T00:00:00",
          "1977-12-31T00:00:00",
          "1978-12-31T00:00:00",
          "1979-12-31T00:00:00",
          "1980-12-31T00:00:00",
          "1981-12-31T00:00:00",
          "1982-12-31T00:00:00",
          "1983-12-31T00:00:00",
          "1984-12-31T00:00:00",
          "1985-12-31T00:00:00",
          "1986-12-31T00:00:00",
          "1987-12-31T00:00:00",
          "1988-12-31T00:00:00",
          "1989-12-31T00:00:00",
          "1990-12-31T00:00:00",
          "1991-12-31T00:00:00",
          "1992-12-31T00:00:00",
          "1993-12-31T00:00:00",
          "1994-12-31T00:00:00",
          "1995-12-31T00:00:00",
          "1996-12-31T00:00:00",
          "1997-12-31T00:00:00",
          "1998-12-31T00:00:00",
          "1999-12-31T00:00:00",
          "2000-12-31T00:00:00",
          "2001-12-31T00:00:00",
          "2002-12-31T00:00:00",
          "2003-12-31T00:00:00",
          "2004-12-31T00:00:00",
          "2005-12-31T00:00:00",
          "2006-12-31T00:00:00",
          "2007-12-31T00:00:00",
          "2008-12-31T00:00:00",
          "2009-12-31T00:00:00",
          "2010-12-31T00:00:00",
          "2011-12-31T00:00:00",
          "2012-12-31T00:00:00",
          "2013-12-31T00:00:00",
          "2014-12-31T00:00:00",
          "2015-12-31T00:00:00",
          "2016-12-31T00:00:00",
          "2017-12-31T00:00:00",
          "2018-12-31T00:00:00",
          "2019-12-31T00:00:00",
          "2020-12-31T00:00:00",
          "2021-12-31T00:00:00",
          "2022-12-31T00:00:00",
          "2023-12-31T00:00:00"
         ],
         "y": [
          3268336,
          3373233,
          3479936,
          3588287,
          3698559,
          3808963,
          3921847,
          4038928,
          4157189,
          4277035,
          4399290,
          4524234,
          4651883,
          4782227,
          4914197,
          5046776,
          5180404,
          5315443,
          5451882,
          5589690,
          5729037,
          5868453,
          6007114,
          6147248,
          6289040,
          6430404,
          6571208,
          6712515,
          6855734,
          7002295,
          7151166,
          7299853,
          7447474,
          7594572,
          7741694,
          7888115,
          8032894,
          8174078,
          8310362,
          8446208,
          8584190,
          8720283,
          8852235,
          8980620,
          9104892,
          9225034,
          9341183,
          9455658,
          9573130,
          9695265,
          9820175,
          9945621,
          10070411,
          10193833,
          10315528,
          10434829,
          10551430,
          10666843,
          10782053,
          10894043,
          11008300,
          11123476,
          11230734,
          11331265
         ]
        },
        {
         "hoverinfo": "skip",
         "line": {
          "width": 0
         },
         "mode": "lines",
         "type": "scatter",
         "x": [
          "1960-12-31T00:00:00",
          "1961-12-31T00:00:00",
          "1962-12-31T00:00:00",
          "1963-12-31T00:00:00",
          "1964-12-31T00:00:00",
          "1965-12-31T00:00:00",
          "1966-12-31T00:00:00",
          "1967-12-31T00:00:00",
          "1968-12-31T00:00:00",
          "1969-12-31T00:00:00",
          "1970-12-31T00:00:00",
          "1971-12-31T00:00:00",
          "1972-12-31T00:00:00",
          "1973-12-31T00:00:00",
          "1974-12-31T00:00:00",
          "1975-12-31T00:00:00",
          "1976-12-31T00:00:00",
          "1977-12-31T00:00:00",
          "1978-12-31T00:00:00",
          "1979-12-31T00:00:00",
          "1980-12-31T00:00:00",
          "1981-12-31T00:00:00",
          "1982-12-31T00:00:00",
          "1983-12-31T00:00:00",
          "1984-12-31T00:00:00",
          "1985-12-31T00:00:00",
          "1986-12-31T00:00:00",
          "1987-12-31T00:00:00",
          "1988-12-31T00:00:00",
          "1989-12-31T00:00:00",
          "1990-12-31T00:00:00",
          "1991-12-31T00:00:00",
          "1992-12-31T00:00:00",
          "1993-12-31T00:00:00",
          "1994-12-31T00:00:00",
          "1995-12-31T00:00:00",
          "1996-12-31T00:00:00",
          "1997-12-31T00:00:00",
          "1998-12-31T00:00:00",
          "1999-12-31T00:00:00",
          "2000-12-31T00:00:00",
          "2001-12-31T00:00:00",
          "2002-12-31T00:00:00",
          "2003-12-31T00:00:00",
          "2004-12-31T00:00:00",
          "2005-12-31T00:00:00",
          "2006-12-31T00:00:00",
          "2007-12-31T00:00:00",
          "2008-12-31T00:00:00",
          "2009-12-31T00:00:00",
          "2010-12-31T00:00:00",
          "2011-12-31T00:00:00",
          "2012-12-31T00:00:00",
          "2013-12-31T00:00:00",
          "2014-12-31T00:00:00",
          "2015-12-31T00:00:00",
          "2016-12-31T00:00:00",
          "2017-12-31T00:00:00",
          "2018-12-31T00:00:00",
          "2019-12-31T00:00:00",
          "2020-12-31T00:00:00",
          "2021-12-31T00:00:00",
          "2022-12-31T00:00:00",
          "2023-12-31T00:00:00",
          "2024-12-31T00:00:00",
          "2025-12-31T00:00:00"
         ],
         "y": [
          3260768.897789738,
          3366845.1998654557,
          3472944.7115076827,
          3580976.9822430112,
          3691557.3960399074,
          3803216.489749207,
          3914546.193860026,
          4030979.142752035,
          4149960.2912890147,
          4271388.883339932,
          4391993.77561468,
          4516286.921524198,
          4645424.817315576,
          4776197.823934323,
          4907161.735854088,
          5038652.031161973,
          5173755.7382215345,
          5309387.417326523,
          5445077.100111724,
          5581758.666019013,
          5722902.89200482,
          5861684.022409973,
          6000199.612721707,
          6139247.933766136,
          6282876.426589247,
          6423209.01900909,
          6564057.18617863,
          6705012.161555375,
          6850004.2622480495,
          6996864.257107418,
          7142731.787084628,
          7290918.627179939,
          7441228.910853275,
          7588235.896234988,
          7734854.922362534,
          7879142.898913907,
          8026925.89875861,
          8165989.064579129,
          8304248.046891051,
          8438978.142482206,
          8578452.229030775,
          8712767.531471472,
          8846850.117200812,
          8971745.563210415,
          9099664.479572989,
          9216011.15468452,
          9332429.219762802,
          9448335.25108674,
          9567467.178362919,
          9698922.48708078,
          9830226.014243074,
          9946872.660698779,
          10066419.935470363,
          10182418.119570017,
          10297772.197923064,
          10413868.778727584,
          10533838.17721887,
          10649226.838468501,
          10764382.175370365,
          10881073.285872938,
          11000637.308811218,
          11116208.922096422,
          11232122.250017446,
          11347664.726193808,
          11467592.697232915,
          11580977.39950292
         ]
        },
        {
         "fill": "tonexty",
         "fillcolor": "rgba(0, 114, 178, 0.2)",
         "line": {
          "color": "#0072B2",
          "width": 2
         },
         "mode": "lines",
         "name": "Predicted",
         "type": "scatter",
         "x": [
          "1960-12-31T00:00:00",
          "1961-12-31T00:00:00",
          "1962-12-31T00:00:00",
          "1963-12-31T00:00:00",
          "1964-12-31T00:00:00",
          "1965-12-31T00:00:00",
          "1966-12-31T00:00:00",
          "1967-12-31T00:00:00",
          "1968-12-31T00:00:00",
          "1969-12-31T00:00:00",
          "1970-12-31T00:00:00",
          "1971-12-31T00:00:00",
          "1972-12-31T00:00:00",
          "1973-12-31T00:00:00",
          "1974-12-31T00:00:00",
          "1975-12-31T00:00:00",
          "1976-12-31T00:00:00",
          "1977-12-31T00:00:00",
          "1978-12-31T00:00:00",
          "1979-12-31T00:00:00",
          "1980-12-31T00:00:00",
          "1981-12-31T00:00:00",
          "1982-12-31T00:00:00",
          "1983-12-31T00:00:00",
          "1984-12-31T00:00:00",
          "1985-12-31T00:00:00",
          "1986-12-31T00:00:00",
          "1987-12-31T00:00:00",
          "1988-12-31T00:00:00",
          "1989-12-31T00:00:00",
          "1990-12-31T00:00:00",
          "1991-12-31T00:00:00",
          "1992-12-31T00:00:00",
          "1993-12-31T00:00:00",
          "1994-12-31T00:00:00",
          "1995-12-31T00:00:00",
          "1996-12-31T00:00:00",
          "1997-12-31T00:00:00",
          "1998-12-31T00:00:00",
          "1999-12-31T00:00:00",
          "2000-12-31T00:00:00",
          "2001-12-31T00:00:00",
          "2002-12-31T00:00:00",
          "2003-12-31T00:00:00",
          "2004-12-31T00:00:00",
          "2005-12-31T00:00:00",
          "2006-12-31T00:00:00",
          "2007-12-31T00:00:00",
          "2008-12-31T00:00:00",
          "2009-12-31T00:00:00",
          "2010-12-31T00:00:00",
          "2011-12-31T00:00:00",
          "2012-12-31T00:00:00",
          "2013-12-31T00:00:00",
          "2014-12-31T00:00:00",
          "2015-12-31T00:00:00",
          "2016-12-31T00:00:00",
          "2017-12-31T00:00:00",
          "2018-12-31T00:00:00",
          "2019-12-31T00:00:00",
          "2020-12-31T00:00:00",
          "2021-12-31T00:00:00",
          "2022-12-31T00:00:00",
          "2023-12-31T00:00:00",
          "2024-12-31T00:00:00",
          "2025-12-31T00:00:00"
         ],
         "y": [
          3267026.682166908,
          3373750.0697220676,
          3480421.9040524955,
          3587775.228172774,
          3698739.6476095244,
          3810296.4262563265,
          3921801.651678254,
          4037707.883071366,
          4157248.6424023365,
          4278154.792400313,
          4399009.38917342,
          4523701.206575389,
          4652051.622014283,
          4782995.095929075,
          4913887.016618779,
          5045530.208966108,
          5180851.044212637,
          5316365.883479929,
          5451829.169521035,
          5588895.09575144,
          5729653.521686716,
          5868403.609149782,
          6007102.143385978,
          6146599.149180841,
          6289795.315174822,
          6430383.752665106,
          6570920.636933595,
          6712219.077818327,
          6857221.614332636,
          7003809.218025656,
          7150345.268495997,
          7297562.806545309,
          7448500.656938623,
          7595087.362932604,
          7741622.5157011105,
          7886208.279463566,
          8034507.145225031,
          8172766.918229623,
          8310975.138008919,
          8446106.847458038,
          8584925.757383099,
          8719332.013361787,
          8853686.716109132,
          8978483.120615615,
          9106938.40969909,
          9223083.779596226,
          9339177.59626517,
          9455073.642761875,
          9574604.189296009,
          9706047.91560711,
          9837440.088697761,
          9953637.763765715,
          10073470.765244702,
          10189038.504118662,
          10304554.689762685,
          10420752.364830269,
          10540585.366315296,
          10656153.105183462,
          10771669.29082789,
          10887866.96589788,
          11007699.967379047,
          11123267.706251614,
          11238783.891891696,
          11354981.5669596,
          11474814.56844753,
          11590382.307315627
         ]
        },
        {
         "fill": "tonexty",
         "fillcolor": "rgba(0, 114, 178, 0.2)",
         "hoverinfo": "skip",
         "line": {
          "width": 0
         },
         "mode": "lines",
         "type": "scatter",
         "x": [
          "1960-12-31T00:00:00",
          "1961-12-31T00:00:00",
          "1962-12-31T00:00:00",
          "1963-12-31T00:00:00",
          "1964-12-31T00:00:00",
          "1965-12-31T00:00:00",
          "1966-12-31T00:00:00",
          "1967-12-31T00:00:00",
          "1968-12-31T00:00:00",
          "1969-12-31T00:00:00",
          "1970-12-31T00:00:00",
          "1971-12-31T00:00:00",
          "1972-12-31T00:00:00",
          "1973-12-31T00:00:00",
          "1974-12-31T00:00:00",
          "1975-12-31T00:00:00",
          "1976-12-31T00:00:00",
          "1977-12-31T00:00:00",
          "1978-12-31T00:00:00",
          "1979-12-31T00:00:00",
          "1980-12-31T00:00:00",
          "1981-12-31T00:00:00",
          "1982-12-31T00:00:00",
          "1983-12-31T00:00:00",
          "1984-12-31T00:00:00",
          "1985-12-31T00:00:00",
          "1986-12-31T00:00:00",
          "1987-12-31T00:00:00",
          "1988-12-31T00:00:00",
          "1989-12-31T00:00:00",
          "1990-12-31T00:00:00",
          "1991-12-31T00:00:00",
          "1992-12-31T00:00:00",
          "1993-12-31T00:00:00",
          "1994-12-31T00:00:00",
          "1995-12-31T00:00:00",
          "1996-12-31T00:00:00",
          "1997-12-31T00:00:00",
          "1998-12-31T00:00:00",
          "1999-12-31T00:00:00",
          "2000-12-31T00:00:00",
          "2001-12-31T00:00:00",
          "2002-12-31T00:00:00",
          "2003-12-31T00:00:00",
          "2004-12-31T00:00:00",
          "2005-12-31T00:00:00",
          "2006-12-31T00:00:00",
          "2007-12-31T00:00:00",
          "2008-12-31T00:00:00",
          "2009-12-31T00:00:00",
          "2010-12-31T00:00:00",
          "2011-12-31T00:00:00",
          "2012-12-31T00:00:00",
          "2013-12-31T00:00:00",
          "2014-12-31T00:00:00",
          "2015-12-31T00:00:00",
          "2016-12-31T00:00:00",
          "2017-12-31T00:00:00",
          "2018-12-31T00:00:00",
          "2019-12-31T00:00:00",
          "2020-12-31T00:00:00",
          "2021-12-31T00:00:00",
          "2022-12-31T00:00:00",
          "2023-12-31T00:00:00",
          "2024-12-31T00:00:00",
          "2025-12-31T00:00:00"
         ],
         "y": [
          3274144.3250666643,
          3380298.3056891393,
          3487312.1536179394,
          3594682.0060578203,
          3706144.2392258937,
          3817802.2839435586,
          3929211.1291617504,
          4044870.2686263355,
          4164281.403389827,
          4285449.152424365,
          4405708.006903272,
          4529971.293968257,
          4659427.92723279,
          4790027.6903803935,
          4920946.599383914,
          5052334.261818281,
          5187768.997732742,
          5322764.509926957,
          5458841.783714796,
          5595664.164707919,
          5736496.757610468,
          5875225.253628412,
          6014188.193516542,
          6153289.358389749,
          6296837.488805553,
          6436959.036517411,
          6577595.122410195,
          6719662.079057823,
          6864345.279135387,
          7010396.7117435755,
          7156981.105464814,
          7304153.208779277,
          7456300.8861815035,
          7602208.825535161,
          7748549.190309261,
          7892662.327201905,
          8041306.186366775,
          8179231.613592067,
          8318608.419584751,
          8453158.842989814,
          8591583.132745905,
          8726196.392658403,
          8860661.212008787,
          8985614.813806282,
          9113757.83952488,
          9230201.892703794,
          9346205.110900508,
          9462540.686312782,
          9581444.550930196,
          9712883.155971467,
          9844135.178233432,
          9960418.55811636,
          10080353.415524347,
          10196163.023330674,
          10311459.18792516,
          10427592.60246641,
          10547353.494204486,
          10663438.061587937,
          10778867.80330407,
          10894421.202893717,
          11014635.163428355,
          11130146.476057187,
          11245818.422336802,
          11361829.47828432,
          11482111.72038016,
          11599693.964853944
         ]
        }
       ],
       "layout": {
        "height": 600,
        "showlegend": false,
        "template": {
         "data": {
          "bar": [
           {
            "error_x": {
             "color": "#2a3f5f"
            },
            "error_y": {
             "color": "#2a3f5f"
            },
            "marker": {
             "line": {
              "color": "#E5ECF6",
              "width": 0.5
             },
             "pattern": {
              "fillmode": "overlay",
              "size": 10,
              "solidity": 0.2
             }
            },
            "type": "bar"
           }
          ],
          "barpolar": [
           {
            "marker": {
             "line": {
              "color": "#E5ECF6",
              "width": 0.5
             },
             "pattern": {
              "fillmode": "overlay",
              "size": 10,
              "solidity": 0.2
             }
            },
            "type": "barpolar"
           }
          ],
          "carpet": [
           {
            "aaxis": {
             "endlinecolor": "#2a3f5f",
             "gridcolor": "white",
             "linecolor": "white",
             "minorgridcolor": "white",
             "startlinecolor": "#2a3f5f"
            },
            "baxis": {
             "endlinecolor": "#2a3f5f",
             "gridcolor": "white",
             "linecolor": "white",
             "minorgridcolor": "white",
             "startlinecolor": "#2a3f5f"
            },
            "type": "carpet"
           }
          ],
          "choropleth": [
           {
            "colorbar": {
             "outlinewidth": 0,
             "ticks": ""
            },
            "type": "choropleth"
           }
          ],
          "contour": [
           {
            "colorbar": {
             "outlinewidth": 0,
             "ticks": ""
            },
            "colorscale": [
             [
              0,
              "#0d0887"
             ],
             [
              0.1111111111111111,
              "#46039f"
             ],
             [
              0.2222222222222222,
              "#7201a8"
             ],
             [
              0.3333333333333333,
              "#9c179e"
             ],
             [
              0.4444444444444444,
              "#bd3786"
             ],
             [
              0.5555555555555556,
              "#d8576b"
             ],
             [
              0.6666666666666666,
              "#ed7953"
             ],
             [
              0.7777777777777778,
              "#fb9f3a"
             ],
             [
              0.8888888888888888,
              "#fdca26"
             ],
             [
              1,
              "#f0f921"
             ]
            ],
            "type": "contour"
           }
          ],
          "contourcarpet": [
           {
            "colorbar": {
             "outlinewidth": 0,
             "ticks": ""
            },
            "type": "contourcarpet"
           }
          ],
          "heatmap": [
           {
            "colorbar": {
             "outlinewidth": 0,
             "ticks": ""
            },
            "colorscale": [
             [
              0,
              "#0d0887"
             ],
             [
              0.1111111111111111,
              "#46039f"
             ],
             [
              0.2222222222222222,
              "#7201a8"
             ],
             [
              0.3333333333333333,
              "#9c179e"
             ],
             [
              0.4444444444444444,
              "#bd3786"
             ],
             [
              0.5555555555555556,
              "#d8576b"
             ],
             [
              0.6666666666666666,
              "#ed7953"
             ],
             [
              0.7777777777777778,
              "#fb9f3a"
             ],
             [
              0.8888888888888888,
              "#fdca26"
             ],
             [
              1,
              "#f0f921"
             ]
            ],
            "type": "heatmap"
           }
          ],
          "heatmapgl": [
           {
            "colorbar": {
             "outlinewidth": 0,
             "ticks": ""
            },
            "colorscale": [
             [
              0,
              "#0d0887"
             ],
             [
              0.1111111111111111,
              "#46039f"
             ],
             [
              0.2222222222222222,
              "#7201a8"
             ],
             [
              0.3333333333333333,
              "#9c179e"
             ],
             [
              0.4444444444444444,
              "#bd3786"
             ],
             [
              0.5555555555555556,
              "#d8576b"
             ],
             [
              0.6666666666666666,
              "#ed7953"
             ],
             [
              0.7777777777777778,
              "#fb9f3a"
             ],
             [
              0.8888888888888888,
              "#fdca26"
             ],
             [
              1,
              "#f0f921"
             ]
            ],
            "type": "heatmapgl"
           }
          ],
          "histogram": [
           {
            "marker": {
             "pattern": {
              "fillmode": "overlay",
              "size": 10,
              "solidity": 0.2
             }
            },
            "type": "histogram"
           }
          ],
          "histogram2d": [
           {
            "colorbar": {
             "outlinewidth": 0,
             "ticks": ""
            },
            "colorscale": [
             [
              0,
              "#0d0887"
             ],
             [
              0.1111111111111111,
              "#46039f"
             ],
             [
              0.2222222222222222,
              "#7201a8"
             ],
             [
              0.3333333333333333,
              "#9c179e"
             ],
             [
              0.4444444444444444,
              "#bd3786"
             ],
             [
              0.5555555555555556,
              "#d8576b"
             ],
             [
              0.6666666666666666,
              "#ed7953"
             ],
             [
              0.7777777777777778,
              "#fb9f3a"
             ],
             [
              0.8888888888888888,
              "#fdca26"
             ],
             [
              1,
              "#f0f921"
             ]
            ],
            "type": "histogram2d"
           }
          ],
          "histogram2dcontour": [
           {
            "colorbar": {
             "outlinewidth": 0,
             "ticks": ""
            },
            "colorscale": [
             [
              0,
              "#0d0887"
             ],
             [
              0.1111111111111111,
              "#46039f"
             ],
             [
              0.2222222222222222,
              "#7201a8"
             ],
             [
              0.3333333333333333,
              "#9c179e"
             ],
             [
              0.4444444444444444,
              "#bd3786"
             ],
             [
              0.5555555555555556,
              "#d8576b"
             ],
             [
              0.6666666666666666,
              "#ed7953"
             ],
             [
              0.7777777777777778,
              "#fb9f3a"
             ],
             [
              0.8888888888888888,
              "#fdca26"
             ],
             [
              1,
              "#f0f921"
             ]
            ],
            "type": "histogram2dcontour"
           }
          ],
          "mesh3d": [
           {
            "colorbar": {
             "outlinewidth": 0,
             "ticks": ""
            },
            "type": "mesh3d"
           }
          ],
          "parcoords": [
           {
            "line": {
             "colorbar": {
              "outlinewidth": 0,
              "ticks": ""
             }
            },
            "type": "parcoords"
           }
          ],
          "pie": [
           {
            "automargin": true,
            "type": "pie"
           }
          ],
          "scatter": [
           {
            "fillpattern": {
             "fillmode": "overlay",
             "size": 10,
             "solidity": 0.2
            },
            "type": "scatter"
           }
          ],
          "scatter3d": [
           {
            "line": {
             "colorbar": {
              "outlinewidth": 0,
              "ticks": ""
             }
            },
            "marker": {
             "colorbar": {
              "outlinewidth": 0,
              "ticks": ""
             }
            },
            "type": "scatter3d"
           }
          ],
          "scattercarpet": [
           {
            "marker": {
             "colorbar": {
              "outlinewidth": 0,
              "ticks": ""
             }
            },
            "type": "scattercarpet"
           }
          ],
          "scattergeo": [
           {
            "marker": {
             "colorbar": {
              "outlinewidth": 0,
              "ticks": ""
             }
            },
            "type": "scattergeo"
           }
          ],
          "scattergl": [
           {
            "marker": {
             "colorbar": {
              "outlinewidth": 0,
              "ticks": ""
             }
            },
            "type": "scattergl"
           }
          ],
          "scattermapbox": [
           {
            "marker": {
             "colorbar": {
              "outlinewidth": 0,
              "ticks": ""
             }
            },
            "type": "scattermapbox"
           }
          ],
          "scatterpolar": [
           {
            "marker": {
             "colorbar": {
              "outlinewidth": 0,
              "ticks": ""
             }
            },
            "type": "scatterpolar"
           }
          ],
          "scatterpolargl": [
           {
            "marker": {
             "colorbar": {
              "outlinewidth": 0,
              "ticks": ""
             }
            },
            "type": "scatterpolargl"
           }
          ],
          "scatterternary": [
           {
            "marker": {
             "colorbar": {
              "outlinewidth": 0,
              "ticks": ""
             }
            },
            "type": "scatterternary"
           }
          ],
          "surface": [
           {
            "colorbar": {
             "outlinewidth": 0,
             "ticks": ""
            },
            "colorscale": [
             [
              0,
              "#0d0887"
             ],
             [
              0.1111111111111111,
              "#46039f"
             ],
             [
              0.2222222222222222,
              "#7201a8"
             ],
             [
              0.3333333333333333,
              "#9c179e"
             ],
             [
              0.4444444444444444,
              "#bd3786"
             ],
             [
              0.5555555555555556,
              "#d8576b"
             ],
             [
              0.6666666666666666,
              "#ed7953"
             ],
             [
              0.7777777777777778,
              "#fb9f3a"
             ],
             [
              0.8888888888888888,
              "#fdca26"
             ],
             [
              1,
              "#f0f921"
             ]
            ],
            "type": "surface"
           }
          ],
          "table": [
           {
            "cells": {
             "fill": {
              "color": "#EBF0F8"
             },
             "line": {
              "color": "white"
             }
            },
            "header": {
             "fill": {
              "color": "#C8D4E3"
             },
             "line": {
              "color": "white"
             }
            },
            "type": "table"
           }
          ]
         },
         "layout": {
          "annotationdefaults": {
           "arrowcolor": "#2a3f5f",
           "arrowhead": 0,
           "arrowwidth": 1
          },
          "autotypenumbers": "strict",
          "coloraxis": {
           "colorbar": {
            "outlinewidth": 0,
            "ticks": ""
           }
          },
          "colorscale": {
           "diverging": [
            [
             0,
             "#8e0152"
            ],
            [
             0.1,
             "#c51b7d"
            ],
            [
             0.2,
             "#de77ae"
            ],
            [
             0.3,
             "#f1b6da"
            ],
            [
             0.4,
             "#fde0ef"
            ],
            [
             0.5,
             "#f7f7f7"
            ],
            [
             0.6,
             "#e6f5d0"
            ],
            [
             0.7,
             "#b8e186"
            ],
            [
             0.8,
             "#7fbc41"
            ],
            [
             0.9,
             "#4d9221"
            ],
            [
             1,
             "#276419"
            ]
           ],
           "sequential": [
            [
             0,
             "#0d0887"
            ],
            [
             0.1111111111111111,
             "#46039f"
            ],
            [
             0.2222222222222222,
             "#7201a8"
            ],
            [
             0.3333333333333333,
             "#9c179e"
            ],
            [
             0.4444444444444444,
             "#bd3786"
            ],
            [
             0.5555555555555556,
             "#d8576b"
            ],
            [
             0.6666666666666666,
             "#ed7953"
            ],
            [
             0.7777777777777778,
             "#fb9f3a"
            ],
            [
             0.8888888888888888,
             "#fdca26"
            ],
            [
             1,
             "#f0f921"
            ]
           ],
           "sequentialminus": [
            [
             0,
             "#0d0887"
            ],
            [
             0.1111111111111111,
             "#46039f"
            ],
            [
             0.2222222222222222,
             "#7201a8"
            ],
            [
             0.3333333333333333,
             "#9c179e"
            ],
            [
             0.4444444444444444,
             "#bd3786"
            ],
            [
             0.5555555555555556,
             "#d8576b"
            ],
            [
             0.6666666666666666,
             "#ed7953"
            ],
            [
             0.7777777777777778,
             "#fb9f3a"
            ],
            [
             0.8888888888888888,
             "#fdca26"
            ],
            [
             1,
             "#f0f921"
            ]
           ]
          },
          "colorway": [
           "#636efa",
           "#EF553B",
           "#00cc96",
           "#ab63fa",
           "#FFA15A",
           "#19d3f3",
           "#FF6692",
           "#B6E880",
           "#FF97FF",
           "#FECB52"
          ],
          "font": {
           "color": "#2a3f5f"
          },
          "geo": {
           "bgcolor": "white",
           "lakecolor": "white",
           "landcolor": "#E5ECF6",
           "showlakes": true,
           "showland": true,
           "subunitcolor": "white"
          },
          "hoverlabel": {
           "align": "left"
          },
          "hovermode": "closest",
          "mapbox": {
           "style": "light"
          },
          "paper_bgcolor": "white",
          "plot_bgcolor": "#E5ECF6",
          "polar": {
           "angularaxis": {
            "gridcolor": "white",
            "linecolor": "white",
            "ticks": ""
           },
           "bgcolor": "#E5ECF6",
           "radialaxis": {
            "gridcolor": "white",
            "linecolor": "white",
            "ticks": ""
           }
          },
          "scene": {
           "xaxis": {
            "backgroundcolor": "#E5ECF6",
            "gridcolor": "white",
            "gridwidth": 2,
            "linecolor": "white",
            "showbackground": true,
            "ticks": "",
            "zerolinecolor": "white"
           },
           "yaxis": {
            "backgroundcolor": "#E5ECF6",
            "gridcolor": "white",
            "gridwidth": 2,
            "linecolor": "white",
            "showbackground": true,
            "ticks": "",
            "zerolinecolor": "white"
           },
           "zaxis": {
            "backgroundcolor": "#E5ECF6",
            "gridcolor": "white",
            "gridwidth": 2,
            "linecolor": "white",
            "showbackground": true,
            "ticks": "",
            "zerolinecolor": "white"
           }
          },
          "shapedefaults": {
           "line": {
            "color": "#2a3f5f"
           }
          },
          "ternary": {
           "aaxis": {
            "gridcolor": "white",
            "linecolor": "white",
            "ticks": ""
           },
           "baxis": {
            "gridcolor": "white",
            "linecolor": "white",
            "ticks": ""
           },
           "bgcolor": "#E5ECF6",
           "caxis": {
            "gridcolor": "white",
            "linecolor": "white",
            "ticks": ""
           }
          },
          "title": {
           "x": 0.05
          },
          "xaxis": {
           "automargin": true,
           "gridcolor": "white",
           "linecolor": "white",
           "ticks": "",
           "title": {
            "standoff": 15
           },
           "zerolinecolor": "white",
           "zerolinewidth": 2
          },
          "yaxis": {
           "automargin": true,
           "gridcolor": "white",
           "linecolor": "white",
           "ticks": "",
           "title": {
            "standoff": 15
           },
           "zerolinecolor": "white",
           "zerolinewidth": 2
          }
         }
        },
        "width": 900,
        "xaxis": {
         "rangeselector": {
          "buttons": [
           {
            "count": 7,
            "label": "1w",
            "step": "day",
            "stepmode": "backward"
           },
           {
            "count": 1,
            "label": "1m",
            "step": "month",
            "stepmode": "backward"
           },
           {
            "count": 6,
            "label": "6m",
            "step": "month",
            "stepmode": "backward"
           },
           {
            "count": 1,
            "label": "1y",
            "step": "year",
            "stepmode": "backward"
           },
           {
            "step": "all"
           }
          ]
         },
         "rangeslider": {
          "visible": true
         },
         "title": {
          "text": "ds"
         },
         "type": "date"
        },
        "yaxis": {
         "title": {
          "text": "y"
         }
        }
       }
      }
     },
     "metadata": {},
     "output_type": "display_data"
    }
   ],
   "source": [
    "from prophet.plot import plot_plotly, plot_components_plotly\n",
    "\n",
    "plot_plotly(m, forecast)"
   ]
  },
  {
   "cell_type": "code",
   "execution_count": 24,
   "metadata": {},
   "outputs": [
    {
     "data": {
      "application/vnd.plotly.v1+json": {
       "config": {
        "plotlyServerURL": "https://plot.ly"
       },
       "data": [
        {
         "line": {
          "color": "#0072B2",
          "width": 2
         },
         "mode": "lines",
         "name": "trend",
         "type": "scatter",
         "x": [
          "1960-12-31T00:00:00",
          "1961-12-31T00:00:00",
          "1962-12-31T00:00:00",
          "1963-12-31T00:00:00",
          "1964-12-31T00:00:00",
          "1965-12-31T00:00:00",
          "1966-12-31T00:00:00",
          "1967-12-31T00:00:00",
          "1968-12-31T00:00:00",
          "1969-12-31T00:00:00",
          "1970-12-31T00:00:00",
          "1971-12-31T00:00:00",
          "1972-12-31T00:00:00",
          "1973-12-31T00:00:00",
          "1974-12-31T00:00:00",
          "1975-12-31T00:00:00",
          "1976-12-31T00:00:00",
          "1977-12-31T00:00:00",
          "1978-12-31T00:00:00",
          "1979-12-31T00:00:00",
          "1980-12-31T00:00:00",
          "1981-12-31T00:00:00",
          "1982-12-31T00:00:00",
          "1983-12-31T00:00:00",
          "1984-12-31T00:00:00",
          "1985-12-31T00:00:00",
          "1986-12-31T00:00:00",
          "1987-12-31T00:00:00",
          "1988-12-31T00:00:00",
          "1989-12-31T00:00:00",
          "1990-12-31T00:00:00",
          "1991-12-31T00:00:00",
          "1992-12-31T00:00:00",
          "1993-12-31T00:00:00",
          "1994-12-31T00:00:00",
          "1995-12-31T00:00:00",
          "1996-12-31T00:00:00",
          "1997-12-31T00:00:00",
          "1998-12-31T00:00:00",
          "1999-12-31T00:00:00",
          "2000-12-31T00:00:00",
          "2001-12-31T00:00:00",
          "2002-12-31T00:00:00",
          "2003-12-31T00:00:00",
          "2004-12-31T00:00:00",
          "2005-12-31T00:00:00",
          "2006-12-31T00:00:00",
          "2007-12-31T00:00:00",
          "2008-12-31T00:00:00",
          "2009-12-31T00:00:00",
          "2010-12-31T00:00:00",
          "2011-12-31T00:00:00",
          "2012-12-31T00:00:00",
          "2013-12-31T00:00:00",
          "2014-12-31T00:00:00",
          "2015-12-31T00:00:00",
          "2016-12-31T00:00:00",
          "2017-12-31T00:00:00",
          "2018-12-31T00:00:00",
          "2019-12-31T00:00:00",
          "2020-12-31T00:00:00",
          "2021-12-31T00:00:00",
          "2022-12-31T00:00:00",
          "2023-12-31T00:00:00",
          "2024-12-31T00:00:00",
          "2025-12-31T00:00:00"
         ],
         "xaxis": "x",
         "y": [
          200336.76520000002,
          308191.1335231595,
          416045.50184631895,
          523899.87053350516,
          632049.7306417522,
          744737.4900568802,
          857425.2494720083,
          973832.5254316871,
          1090558.7254350912,
          1212595.8562011404,
          1334632.98696719,
          1459825.8489359114,
          1585361.7050470128,
          1717436.1597296624,
          1849510.614412312,
          1981654.8513263788,
          2114161.127245689,
          2250806.9472803813,
          2387452.767315073,
          2525019.738112441,
          2662963.604720212,
          2802844.672949667,
          2942725.741179122,
          3082723.791541752,
          3223105.3982067443,
          3364824.816467271,
          3506544.234727799,
          3648343.7201771047,
          3790531.6973673683,
          3938250.281827647,
          4085968.866287925,
          4233687.448907102,
          4381810.739971812,
          4529528.426733816,
          4677246.113495821,
          4822332.921825122,
          4967817.228259437,
          5107207.982030594,
          5246598.735801751,
          5382231.489816697,
          5518235.840417985,
          5653773.077160351,
          5789310.313902717,
          5914607.762975027,
          6040248.492729725,
          6157524.843396156,
          6274801.194062586,
          6391198.2851261245,
          6507914.272329561,
          6640488.979409276,
          6773063.68648899,
          6889762.406125572,
          7006780.848281705,
          7123479.567918286,
          7240178.287554868,
          7356877.007191448,
          7473895.449347581,
          7590594.168984163,
          7707292.8886207435,
          7823991.608257325,
          7941010.050413459,
          8057708.770050039,
          8174407.48968662,
          8291106.209323202,
          8408124.651479336,
          8524823.371115917
         ],
         "yaxis": "y"
        },
        {
         "line": {
          "color": "rgba(0, 114, 178, 0.2)",
          "width": 0
         },
         "mode": "lines",
         "name": "trend_upper",
         "type": "scatter",
         "x": [
          "1960-12-31T00:00:00",
          "1961-12-31T00:00:00",
          "1962-12-31T00:00:00",
          "1963-12-31T00:00:00",
          "1964-12-31T00:00:00",
          "1965-12-31T00:00:00",
          "1966-12-31T00:00:00",
          "1967-12-31T00:00:00",
          "1968-12-31T00:00:00",
          "1969-12-31T00:00:00",
          "1970-12-31T00:00:00",
          "1971-12-31T00:00:00",
          "1972-12-31T00:00:00",
          "1973-12-31T00:00:00",
          "1974-12-31T00:00:00",
          "1975-12-31T00:00:00",
          "1976-12-31T00:00:00",
          "1977-12-31T00:00:00",
          "1978-12-31T00:00:00",
          "1979-12-31T00:00:00",
          "1980-12-31T00:00:00",
          "1981-12-31T00:00:00",
          "1982-12-31T00:00:00",
          "1983-12-31T00:00:00",
          "1984-12-31T00:00:00",
          "1985-12-31T00:00:00",
          "1986-12-31T00:00:00",
          "1987-12-31T00:00:00",
          "1988-12-31T00:00:00",
          "1989-12-31T00:00:00",
          "1990-12-31T00:00:00",
          "1991-12-31T00:00:00",
          "1992-12-31T00:00:00",
          "1993-12-31T00:00:00",
          "1994-12-31T00:00:00",
          "1995-12-31T00:00:00",
          "1996-12-31T00:00:00",
          "1997-12-31T00:00:00",
          "1998-12-31T00:00:00",
          "1999-12-31T00:00:00",
          "2000-12-31T00:00:00",
          "2001-12-31T00:00:00",
          "2002-12-31T00:00:00",
          "2003-12-31T00:00:00",
          "2004-12-31T00:00:00",
          "2005-12-31T00:00:00",
          "2006-12-31T00:00:00",
          "2007-12-31T00:00:00",
          "2008-12-31T00:00:00",
          "2009-12-31T00:00:00",
          "2010-12-31T00:00:00",
          "2011-12-31T00:00:00",
          "2012-12-31T00:00:00",
          "2013-12-31T00:00:00",
          "2014-12-31T00:00:00",
          "2015-12-31T00:00:00",
          "2016-12-31T00:00:00",
          "2017-12-31T00:00:00",
          "2018-12-31T00:00:00",
          "2019-12-31T00:00:00",
          "2020-12-31T00:00:00",
          "2021-12-31T00:00:00",
          "2022-12-31T00:00:00",
          "2023-12-31T00:00:00",
          "2024-12-31T00:00:00",
          "2025-12-31T00:00:00"
         ],
         "xaxis": "x",
         "y": [
          200336.76520000002,
          308191.1335231595,
          416045.50184631895,
          523899.87053350516,
          632049.7306417522,
          744737.4900568802,
          857425.2494720083,
          973832.5254316871,
          1090558.7254350912,
          1212595.8562011404,
          1334632.98696719,
          1459825.8489359114,
          1585361.7050470128,
          1717436.1597296624,
          1849510.614412312,
          1981654.8513263788,
          2114161.127245689,
          2250806.9472803813,
          2387452.767315073,
          2525019.738112441,
          2662963.604720212,
          2802844.672949667,
          2942725.741179122,
          3082723.791541752,
          3223105.3982067443,
          3364824.816467271,
          3506544.234727799,
          3648343.7201771047,
          3790531.6973673683,
          3938250.281827647,
          4085968.866287925,
          4233687.448907102,
          4381810.739971812,
          4529528.426733816,
          4677246.113495821,
          4822332.921825122,
          4967817.228259437,
          5107207.982030594,
          5246598.735801751,
          5382231.489816697,
          5518235.840417985,
          5653773.077160351,
          5789310.313902717,
          5914607.762975027,
          6040248.492729725,
          6157524.843396156,
          6274801.194062586,
          6391198.2851261245,
          6507914.272329561,
          6640488.979409276,
          6773063.68648899,
          6889762.406125572,
          7006780.848281705,
          7123479.567918286,
          7240178.287554868,
          7356877.007191448,
          7473895.449347581,
          7590594.168984163,
          7707292.8886207435,
          7823991.608257325,
          7941010.050413459,
          8057708.770050039,
          8174407.48968662,
          8291106.209323202,
          8409707.667608066,
          8530017.86982087
         ],
         "yaxis": "y"
        },
        {
         "fill": "tonexty",
         "fillcolor": "rgba(0, 114, 178, 0.2)",
         "line": {
          "color": "rgba(0, 114, 178, 0.2)",
          "width": 0
         },
         "mode": "lines",
         "name": "trend_lower",
         "type": "scatter",
         "x": [
          "1960-12-31T00:00:00",
          "1961-12-31T00:00:00",
          "1962-12-31T00:00:00",
          "1963-12-31T00:00:00",
          "1964-12-31T00:00:00",
          "1965-12-31T00:00:00",
          "1966-12-31T00:00:00",
          "1967-12-31T00:00:00",
          "1968-12-31T00:00:00",
          "1969-12-31T00:00:00",
          "1970-12-31T00:00:00",
          "1971-12-31T00:00:00",
          "1972-12-31T00:00:00",
          "1973-12-31T00:00:00",
          "1974-12-31T00:00:00",
          "1975-12-31T00:00:00",
          "1976-12-31T00:00:00",
          "1977-12-31T00:00:00",
          "1978-12-31T00:00:00",
          "1979-12-31T00:00:00",
          "1980-12-31T00:00:00",
          "1981-12-31T00:00:00",
          "1982-12-31T00:00:00",
          "1983-12-31T00:00:00",
          "1984-12-31T00:00:00",
          "1985-12-31T00:00:00",
          "1986-12-31T00:00:00",
          "1987-12-31T00:00:00",
          "1988-12-31T00:00:00",
          "1989-12-31T00:00:00",
          "1990-12-31T00:00:00",
          "1991-12-31T00:00:00",
          "1992-12-31T00:00:00",
          "1993-12-31T00:00:00",
          "1994-12-31T00:00:00",
          "1995-12-31T00:00:00",
          "1996-12-31T00:00:00",
          "1997-12-31T00:00:00",
          "1998-12-31T00:00:00",
          "1999-12-31T00:00:00",
          "2000-12-31T00:00:00",
          "2001-12-31T00:00:00",
          "2002-12-31T00:00:00",
          "2003-12-31T00:00:00",
          "2004-12-31T00:00:00",
          "2005-12-31T00:00:00",
          "2006-12-31T00:00:00",
          "2007-12-31T00:00:00",
          "2008-12-31T00:00:00",
          "2009-12-31T00:00:00",
          "2010-12-31T00:00:00",
          "2011-12-31T00:00:00",
          "2012-12-31T00:00:00",
          "2013-12-31T00:00:00",
          "2014-12-31T00:00:00",
          "2015-12-31T00:00:00",
          "2016-12-31T00:00:00",
          "2017-12-31T00:00:00",
          "2018-12-31T00:00:00",
          "2019-12-31T00:00:00",
          "2020-12-31T00:00:00",
          "2021-12-31T00:00:00",
          "2022-12-31T00:00:00",
          "2023-12-31T00:00:00",
          "2024-12-31T00:00:00",
          "2025-12-31T00:00:00"
         ],
         "xaxis": "x",
         "y": [
          200336.76520000002,
          308191.1335231595,
          416045.50184631895,
          523899.87053350516,
          632049.7306417522,
          744737.4900568802,
          857425.2494720083,
          973832.5254316871,
          1090558.7254350912,
          1212595.8562011404,
          1334632.98696719,
          1459825.8489359114,
          1585361.7050470128,
          1717436.1597296624,
          1849510.614412312,
          1981654.8513263788,
          2114161.127245689,
          2250806.9472803813,
          2387452.767315073,
          2525019.738112441,
          2662963.604720212,
          2802844.672949667,
          2942725.741179122,
          3082723.791541752,
          3223105.3982067443,
          3364824.816467271,
          3506544.234727799,
          3648343.7201771047,
          3790531.6973673683,
          3938250.281827647,
          4085968.866287925,
          4233687.448907102,
          4381810.739971812,
          4529528.426733816,
          4677246.113495821,
          4822332.921825122,
          4967817.228259437,
          5107207.982030594,
          5246598.735801751,
          5382231.489816697,
          5518235.840417985,
          5653773.077160351,
          5789310.313902717,
          5914607.762975027,
          6040248.492729725,
          6157524.843396156,
          6274801.194062586,
          6391198.2851261245,
          6507914.272329561,
          6640488.979409276,
          6773063.68648899,
          6889762.406125572,
          7006780.848281705,
          7123479.567918286,
          7240178.287554868,
          7356877.007191448,
          7473895.449347581,
          7590594.168984163,
          7707292.8886207435,
          7823991.608257325,
          7941010.050413459,
          8057708.770050039,
          8174407.48968662,
          8291106.209323202,
          8406695.185271341,
          8519491.84745893
         ],
         "yaxis": "y"
        },
        {
         "line": {
          "color": "#0072B2",
          "width": 2
         },
         "mode": "lines",
         "name": "yearly",
         "type": "scatter",
         "x": [
          "2017-01-01T00:00:00",
          "2017-01-02T00:00:59.178082",
          "2017-01-03T00:01:58.356164",
          "2017-01-04T00:02:57.534246",
          "2017-01-05T00:03:56.712328",
          "2017-01-06T00:04:55.890411",
          "2017-01-07T00:05:55.068493",
          "2017-01-08T00:06:54.246575",
          "2017-01-09T00:07:53.424657",
          "2017-01-10T00:08:52.602739",
          "2017-01-11T00:09:51.780822",
          "2017-01-12T00:10:50.958904",
          "2017-01-13T00:11:50.136986",
          "2017-01-14T00:12:49.315068",
          "2017-01-15T00:13:48.493150",
          "2017-01-16T00:14:47.671232",
          "2017-01-17T00:15:46.849315",
          "2017-01-18T00:16:46.027397",
          "2017-01-19T00:17:45.205479",
          "2017-01-20T00:18:44.383561",
          "2017-01-21T00:19:43.561643",
          "2017-01-22T00:20:42.739726",
          "2017-01-23T00:21:41.917808",
          "2017-01-24T00:22:41.095890",
          "2017-01-25T00:23:40.273972",
          "2017-01-26T00:24:39.452054",
          "2017-01-27T00:25:38.630137",
          "2017-01-28T00:26:37.808219",
          "2017-01-29T00:27:36.986301",
          "2017-01-30T00:28:36.164383",
          "2017-01-31T00:29:35.342465",
          "2017-02-01T00:30:34.520547",
          "2017-02-02T00:31:33.698630",
          "2017-02-03T00:32:32.876712",
          "2017-02-04T00:33:32.054794",
          "2017-02-05T00:34:31.232876",
          "2017-02-06T00:35:30.410958",
          "2017-02-07T00:36:29.589041",
          "2017-02-08T00:37:28.767123",
          "2017-02-09T00:38:27.945205",
          "2017-02-10T00:39:27.123287",
          "2017-02-11T00:40:26.301369",
          "2017-02-12T00:41:25.479452",
          "2017-02-13T00:42:24.657534",
          "2017-02-14T00:43:23.835616",
          "2017-02-15T00:44:23.013698",
          "2017-02-16T00:45:22.191780",
          "2017-02-17T00:46:21.369862",
          "2017-02-18T00:47:20.547945",
          "2017-02-19T00:48:19.726027",
          "2017-02-20T00:49:18.904109",
          "2017-02-21T00:50:18.082191",
          "2017-02-22T00:51:17.260273",
          "2017-02-23T00:52:16.438356",
          "2017-02-24T00:53:15.616438",
          "2017-02-25T00:54:14.794520",
          "2017-02-26T00:55:13.972602",
          "2017-02-27T00:56:13.150684",
          "2017-02-28T00:57:12.328767",
          "2017-03-01T00:58:11.506849",
          "2017-03-02T00:59:10.684931",
          "2017-03-03T01:00:09.863013",
          "2017-03-04T01:01:09.041095",
          "2017-03-05T01:02:08.219177",
          "2017-03-06T01:03:07.397260",
          "2017-03-07T01:04:06.575342",
          "2017-03-08T01:05:05.753424",
          "2017-03-09T01:06:04.931506",
          "2017-03-10T01:07:04.109588",
          "2017-03-11T01:08:03.287671",
          "2017-03-12T01:09:02.465753",
          "2017-03-13T01:10:01.643835",
          "2017-03-14T01:11:00.821917",
          "2017-03-15T01:12:00",
          "2017-03-16T01:12:59.178082",
          "2017-03-17T01:13:58.356164",
          "2017-03-18T01:14:57.534246",
          "2017-03-19T01:15:56.712328",
          "2017-03-20T01:16:55.890411",
          "2017-03-21T01:17:55.068493",
          "2017-03-22T01:18:54.246575",
          "2017-03-23T01:19:53.424657",
          "2017-03-24T01:20:52.602739",
          "2017-03-25T01:21:51.780822",
          "2017-03-26T01:22:50.958904",
          "2017-03-27T01:23:50.136986",
          "2017-03-28T01:24:49.315068",
          "2017-03-29T01:25:48.493150",
          "2017-03-30T01:26:47.671232",
          "2017-03-31T01:27:46.849315",
          "2017-04-01T01:28:46.027397",
          "2017-04-02T01:29:45.205479",
          "2017-04-03T01:30:44.383561",
          "2017-04-04T01:31:43.561643",
          "2017-04-05T01:32:42.739726",
          "2017-04-06T01:33:41.917808",
          "2017-04-07T01:34:41.095890",
          "2017-04-08T01:35:40.273972",
          "2017-04-09T01:36:39.452054",
          "2017-04-10T01:37:38.630137",
          "2017-04-11T01:38:37.808219",
          "2017-04-12T01:39:36.986301",
          "2017-04-13T01:40:36.164383",
          "2017-04-14T01:41:35.342465",
          "2017-04-15T01:42:34.520547",
          "2017-04-16T01:43:33.698630",
          "2017-04-17T01:44:32.876712",
          "2017-04-18T01:45:32.054794",
          "2017-04-19T01:46:31.232876",
          "2017-04-20T01:47:30.410958",
          "2017-04-21T01:48:29.589041",
          "2017-04-22T01:49:28.767123",
          "2017-04-23T01:50:27.945205",
          "2017-04-24T01:51:27.123287",
          "2017-04-25T01:52:26.301369",
          "2017-04-26T01:53:25.479452",
          "2017-04-27T01:54:24.657534",
          "2017-04-28T01:55:23.835616",
          "2017-04-29T01:56:23.013698",
          "2017-04-30T01:57:22.191780",
          "2017-05-01T01:58:21.369862",
          "2017-05-02T01:59:20.547945",
          "2017-05-03T02:00:19.726027",
          "2017-05-04T02:01:18.904109",
          "2017-05-05T02:02:18.082191",
          "2017-05-06T02:03:17.260273",
          "2017-05-07T02:04:16.438356",
          "2017-05-08T02:05:15.616438",
          "2017-05-09T02:06:14.794520",
          "2017-05-10T02:07:13.972602",
          "2017-05-11T02:08:13.150684",
          "2017-05-12T02:09:12.328767",
          "2017-05-13T02:10:11.506849",
          "2017-05-14T02:11:10.684931",
          "2017-05-15T02:12:09.863013",
          "2017-05-16T02:13:09.041095",
          "2017-05-17T02:14:08.219177",
          "2017-05-18T02:15:07.397260",
          "2017-05-19T02:16:06.575342",
          "2017-05-20T02:17:05.753424",
          "2017-05-21T02:18:04.931506",
          "2017-05-22T02:19:04.109588",
          "2017-05-23T02:20:03.287671",
          "2017-05-24T02:21:02.465753",
          "2017-05-25T02:22:01.643835",
          "2017-05-26T02:23:00.821917",
          "2017-05-27T02:24:00",
          "2017-05-28T02:24:59.178082",
          "2017-05-29T02:25:58.356164",
          "2017-05-30T02:26:57.534246",
          "2017-05-31T02:27:56.712328",
          "2017-06-01T02:28:55.890411",
          "2017-06-02T02:29:55.068493",
          "2017-06-03T02:30:54.246575",
          "2017-06-04T02:31:53.424657",
          "2017-06-05T02:32:52.602739",
          "2017-06-06T02:33:51.780822",
          "2017-06-07T02:34:50.958904",
          "2017-06-08T02:35:50.136986",
          "2017-06-09T02:36:49.315068",
          "2017-06-10T02:37:48.493150",
          "2017-06-11T02:38:47.671232",
          "2017-06-12T02:39:46.849315",
          "2017-06-13T02:40:46.027397",
          "2017-06-14T02:41:45.205479",
          "2017-06-15T02:42:44.383561",
          "2017-06-16T02:43:43.561643",
          "2017-06-17T02:44:42.739726",
          "2017-06-18T02:45:41.917808",
          "2017-06-19T02:46:41.095890",
          "2017-06-20T02:47:40.273972",
          "2017-06-21T02:48:39.452054",
          "2017-06-22T02:49:38.630137",
          "2017-06-23T02:50:37.808219",
          "2017-06-24T02:51:36.986301",
          "2017-06-25T02:52:36.164383",
          "2017-06-26T02:53:35.342465",
          "2017-06-27T02:54:34.520547",
          "2017-06-28T02:55:33.698630",
          "2017-06-29T02:56:32.876712",
          "2017-06-30T02:57:32.054794",
          "2017-07-01T02:58:31.232876",
          "2017-07-02T02:59:30.410958",
          "2017-07-03T03:00:29.589041",
          "2017-07-04T03:01:28.767123",
          "2017-07-05T03:02:27.945205",
          "2017-07-06T03:03:27.123287",
          "2017-07-07T03:04:26.301369",
          "2017-07-08T03:05:25.479452",
          "2017-07-09T03:06:24.657534",
          "2017-07-10T03:07:23.835616",
          "2017-07-11T03:08:23.013698",
          "2017-07-12T03:09:22.191780",
          "2017-07-13T03:10:21.369862",
          "2017-07-14T03:11:20.547945",
          "2017-07-15T03:12:19.726027",
          "2017-07-16T03:13:18.904109",
          "2017-07-17T03:14:18.082191",
          "2017-07-18T03:15:17.260273",
          "2017-07-19T03:16:16.438356",
          "2017-07-20T03:17:15.616438",
          "2017-07-21T03:18:14.794520",
          "2017-07-22T03:19:13.972602",
          "2017-07-23T03:20:13.150684",
          "2017-07-24T03:21:12.328767",
          "2017-07-25T03:22:11.506849",
          "2017-07-26T03:23:10.684931",
          "2017-07-27T03:24:09.863013",
          "2017-07-28T03:25:09.041095",
          "2017-07-29T03:26:08.219177",
          "2017-07-30T03:27:07.397260",
          "2017-07-31T03:28:06.575342",
          "2017-08-01T03:29:05.753424",
          "2017-08-02T03:30:04.931506",
          "2017-08-03T03:31:04.109588",
          "2017-08-04T03:32:03.287671",
          "2017-08-05T03:33:02.465753",
          "2017-08-06T03:34:01.643835",
          "2017-08-07T03:35:00.821917",
          "2017-08-08T03:36:00",
          "2017-08-09T03:36:59.178082",
          "2017-08-10T03:37:58.356164",
          "2017-08-11T03:38:57.534246",
          "2017-08-12T03:39:56.712328",
          "2017-08-13T03:40:55.890411",
          "2017-08-14T03:41:55.068493",
          "2017-08-15T03:42:54.246575",
          "2017-08-16T03:43:53.424657",
          "2017-08-17T03:44:52.602739",
          "2017-08-18T03:45:51.780822",
          "2017-08-19T03:46:50.958904",
          "2017-08-20T03:47:50.136986",
          "2017-08-21T03:48:49.315068",
          "2017-08-22T03:49:48.493150",
          "2017-08-23T03:50:47.671232",
          "2017-08-24T03:51:46.849315",
          "2017-08-25T03:52:46.027397",
          "2017-08-26T03:53:45.205479",
          "2017-08-27T03:54:44.383561",
          "2017-08-28T03:55:43.561643",
          "2017-08-29T03:56:42.739726",
          "2017-08-30T03:57:41.917808",
          "2017-08-31T03:58:41.095890",
          "2017-09-01T03:59:40.273972",
          "2017-09-02T04:00:39.452054",
          "2017-09-03T04:01:38.630137",
          "2017-09-04T04:02:37.808219",
          "2017-09-05T04:03:36.986301",
          "2017-09-06T04:04:36.164383",
          "2017-09-07T04:05:35.342465",
          "2017-09-08T04:06:34.520547",
          "2017-09-09T04:07:33.698630",
          "2017-09-10T04:08:32.876712",
          "2017-09-11T04:09:32.054794",
          "2017-09-12T04:10:31.232876",
          "2017-09-13T04:11:30.410958",
          "2017-09-14T04:12:29.589041",
          "2017-09-15T04:13:28.767123",
          "2017-09-16T04:14:27.945205",
          "2017-09-17T04:15:27.123287",
          "2017-09-18T04:16:26.301369",
          "2017-09-19T04:17:25.479452",
          "2017-09-20T04:18:24.657534",
          "2017-09-21T04:19:23.835616",
          "2017-09-22T04:20:23.013698",
          "2017-09-23T04:21:22.191780",
          "2017-09-24T04:22:21.369862",
          "2017-09-25T04:23:20.547945",
          "2017-09-26T04:24:19.726027",
          "2017-09-27T04:25:18.904109",
          "2017-09-28T04:26:18.082191",
          "2017-09-29T04:27:17.260273",
          "2017-09-30T04:28:16.438356",
          "2017-10-01T04:29:15.616438",
          "2017-10-02T04:30:14.794520",
          "2017-10-03T04:31:13.972602",
          "2017-10-04T04:32:13.150684",
          "2017-10-05T04:33:12.328767",
          "2017-10-06T04:34:11.506849",
          "2017-10-07T04:35:10.684931",
          "2017-10-08T04:36:09.863013",
          "2017-10-09T04:37:09.041095",
          "2017-10-10T04:38:08.219177",
          "2017-10-11T04:39:07.397260",
          "2017-10-12T04:40:06.575342",
          "2017-10-13T04:41:05.753424",
          "2017-10-14T04:42:04.931506",
          "2017-10-15T04:43:04.109588",
          "2017-10-16T04:44:03.287671",
          "2017-10-17T04:45:02.465753",
          "2017-10-18T04:46:01.643835",
          "2017-10-19T04:47:00.821917",
          "2017-10-20T04:48:00",
          "2017-10-21T04:48:59.178082",
          "2017-10-22T04:49:58.356164",
          "2017-10-23T04:50:57.534246",
          "2017-10-24T04:51:56.712328",
          "2017-10-25T04:52:55.890411",
          "2017-10-26T04:53:55.068493",
          "2017-10-27T04:54:54.246575",
          "2017-10-28T04:55:53.424657",
          "2017-10-29T04:56:52.602739",
          "2017-10-30T04:57:51.780822",
          "2017-10-31T04:58:50.958904",
          "2017-11-01T04:59:50.136986",
          "2017-11-02T05:00:49.315068",
          "2017-11-03T05:01:48.493150",
          "2017-11-04T05:02:47.671232",
          "2017-11-05T05:03:46.849315",
          "2017-11-06T05:04:46.027397",
          "2017-11-07T05:05:45.205479",
          "2017-11-08T05:06:44.383561",
          "2017-11-09T05:07:43.561643",
          "2017-11-10T05:08:42.739726",
          "2017-11-11T05:09:41.917808",
          "2017-11-12T05:10:41.095890",
          "2017-11-13T05:11:40.273972",
          "2017-11-14T05:12:39.452054",
          "2017-11-15T05:13:38.630137",
          "2017-11-16T05:14:37.808219",
          "2017-11-17T05:15:36.986301",
          "2017-11-18T05:16:36.164383",
          "2017-11-19T05:17:35.342465",
          "2017-11-20T05:18:34.520547",
          "2017-11-21T05:19:33.698630",
          "2017-11-22T05:20:32.876712",
          "2017-11-23T05:21:32.054794",
          "2017-11-24T05:22:31.232876",
          "2017-11-25T05:23:30.410958",
          "2017-11-26T05:24:29.589041",
          "2017-11-27T05:25:28.767123",
          "2017-11-28T05:26:27.945205",
          "2017-11-29T05:27:27.123287",
          "2017-11-30T05:28:26.301369",
          "2017-12-01T05:29:25.479452",
          "2017-12-02T05:30:24.657534",
          "2017-12-03T05:31:23.835616",
          "2017-12-04T05:32:23.013698",
          "2017-12-05T05:33:22.191780",
          "2017-12-06T05:34:21.369862",
          "2017-12-07T05:35:20.547945",
          "2017-12-08T05:36:19.726027",
          "2017-12-09T05:37:18.904109",
          "2017-12-10T05:38:18.082191",
          "2017-12-11T05:39:17.260273",
          "2017-12-12T05:40:16.438356",
          "2017-12-13T05:41:15.616438",
          "2017-12-14T05:42:14.794520",
          "2017-12-15T05:43:13.972602",
          "2017-12-16T05:44:13.150684",
          "2017-12-17T05:45:12.328767",
          "2017-12-18T05:46:11.506849",
          "2017-12-19T05:47:10.684931",
          "2017-12-20T05:48:09.863013",
          "2017-12-21T05:49:09.041095",
          "2017-12-22T05:50:08.219177",
          "2017-12-23T05:51:07.397260",
          "2017-12-24T05:52:06.575342",
          "2017-12-25T05:53:05.753424",
          "2017-12-26T05:54:04.931506",
          "2017-12-27T05:55:04.109588",
          "2017-12-28T05:56:03.287671",
          "2017-12-29T05:57:02.465753",
          "2017-12-30T05:58:01.643835",
          "2017-12-31T05:59:00.821917"
         ],
         "xaxis": "x2",
         "y": [
          3056039.0524558476,
          2986283.9650599686,
          2812694.570623759,
          2493988.6714810543,
          1993831.7117371643,
          1282188.6591213315,
          336471.6833519036,
          -857481.1328569343,
          -2304796.0518979384,
          -4001126.555134721,
          -5932558.797969797,
          -8075804.597419621,
          -10398715.310953885,
          -12860938.77969173,
          -15415107.405835766,
          -18007989.30043488,
          -20581966.45623266,
          -23076668.954107985,
          -25430574.004915576,
          -27582951.90842746,
          -29475527.315421212,
          -31054241.891739495,
          -32270891.592554633,
          -33084626.708747204,
          -33463223.553899582,
          -33384218.718335364,
          -32835683.400441658,
          -31816767.00770804,
          -30337926.393251255,
          -28420819.347315967,
          -26098005.69347163,
          -23412119.103024323,
          -20414972.485126916,
          -17166301.56670345,
          -13732262.78018435,
          -10183947.71746722,
          -6595356.766001246,
          -3041678.9827011814,
          402663.6864510661,
          3665919.694566026,
          6680878.05686333,
          9386451.54635967,
          11729442.242327645,
          13665746.020422658,
          15161492.101965109,
          16193880.567564147,
          16751671.035957785,
          16835474.08540331,
          16457600.639650417,
          15641666.015102988,
          14421878.188912299,
          12842025.400377912,
          10954309.225133326,
          8817772.944702936,
          6496734.602702171,
          4059004.821544003,
          1574040.991063151,
          -888955.0645248571,
          -3262773.9151458745,
          -5484146.545864589,
          -7495281.713617991,
          -9245378.777735654,
          -10691918.257440558,
          -11801631.944917904,
          -12551368.3847554,
          -12928498.408401398,
          -12931111.419529805,
          -12567892.137795711,
          -11857692.567020241,
          -10828871.05684228,
          -9518287.039871445,
          -7970146.784442194,
          -6234621.686386545,
          -4366299.6561374,
          -2422640.776409988,
          -462155.8809513216,
          1457207.9373104165,
          3279749.057490704,
          4953585.544750909,
          6432114.320620428,
          7675217.390344348,
          8650431.757593315,
          9333710.435205653,
          9710017.182874938,
          9773633.194137946,
          9528183.526183067,
          8986409.598976258,
          8169645.946831948,
          7107076.305885681,
          5834759.6151947025,
          4394449.396286956,
          2832345.2301514545,
          1197561.0830370996,
          -459310.6868663453,
          -2087741.7598994444,
          -3638774.571753376,
          -5066480.405265253,
          -6329230.904417667,
          -7390989.284911669,
          -8222255.007474906,
          -8800886.906949785,
          -9112680.180354578,
          -9151698.502801843,
          -8920357.390658183,
          -8429257.500156997,
          -7696766.424896983,
          -6748378.338363145,
          -5615849.77451827,
          -4336223.657417121,
          -2950571.605517907,
          -1502755.0754983993,
          -38052.286207907346,
          1398232.5861237012,
          2762163.1096282373,
          4012433.0622913176,
          5111693.372215179,
          6027589.548140706,
          6733718.075631436,
          7210381.730701488,
          7445111.243837242,
          7433014.742584403,
          7176836.241887936,
          6686812.457246654,
          5980295.566302214,
          5081150.510259312,
          4019013.077485076,
          2828271.8697349085,
          1547013.874358283,
          215816.1837265574,
          -1123520.5196764553,
          -2429281.7650167267,
          -3661063.13298385,
          -4781095.2848085305,
          -5755328.751713747,
          -6554473.443076189,
          -7154875.931898381,
          -7539187.249927462,
          -7696899.632250007,
          -7624598.431351548,
          -7326032.558291599,
          -6811956.101669942,
          -6099745.973400506,
          -5212862.044209972,
          -4180038.6216346915,
          -3034397.3745656274,
          -1812391.8042614076,
          -552646.6045229512,
          705191.522571167,
          1921774.5627561628,
          3059214.008050574,
          4082263.675290404,
          4959401.573234905,
          5663799.369082061,
          6174105.590615187,
          6475135.552047833,
          6558284.872713953,
          6421781.726714548,
          6070717.710364026,
          5516858.728722502,
          4778285.226538447,
          3878771.953585004,
          2847054.7716652364,
          1715917.345580251,
          521146.07431116526,
          -699535.7103802604,
          -1907729.2489128965,
          -3065502.7971880357,
          -4136585.170200829,
          -5087491.903165699,
          -5888571.169451031,
          -6514885.626311189,
          -6947037.044934265,
          -7171723.628796909,
          -7182156.376176039,
          -6978262.62958519,
          -6566675.014060397,
          -5960539.4821720915,
          -5179071.500775249,
          -4246969.238085066,
          -3193636.629213599,
          -2052250.6758542683,
          -858778.9438939042,
          349221.88251280977,
          1533725.8352494896,
          2657436.7292231573,
          3684951.9881323245,
          4583877.512903919,
          5325800.173367236,
          5887239.20775844,
          6250339.586737893,
          6403445.501006429,
          6341468.577232796,
          6066059.717901941,
          5585562.086383563,
          4914760.731129853,
          4074431.838864773,
          3090704.5852201963,
          1994242.3672217247,
          819346.5930079359,
          -397182.0207496623,
          -1617136.632718854,
          -2802105.249975022,
          -3914668.762542459,
          -4919581.965386089,
          -5784834.282130395,
          -6482727.548668218,
          -6990705.362289127,
          -7292085.504903607,
          -7376599.605640543,
          -7240734.355754754,
          -6887871.4075187165,
          -6328201.40905716,
          -5578435.119423794,
          -4661308.849756545,
          -3604888.1148743583,
          -2441766.2805792876,
          -1207995.9206455753,
          57970.9512424534,
          1316480.7483308157,
          2527920.967877454,
          3653898.6307411836,
          4658525.908620169,
          5509493.572133266,
          6179110.411169179,
          6645190.671796326,
          6891777.370803467,
          6909666.486585779,
          6696751.097674843,
          6258116.789860382,
          5605933.43629281,
          4759123.145965768,
          3742804.858091549,
          2587605.3579636533,
          1328676.3907226736,
          4681.47490075547,
          -1343388.7394283449,
          -2673485.285616632,
          -3943735.0990160042,
          -5113832.122908396,
          -6146235.712294617,
          -7007370.669153797,
          -7668698.630799884,
          -8107646.485523085,
          -8308337.289685341,
          -8262169.368696283,
          -7968122.9896723945,
          -7432866.296359894,
          -6670619.733010677,
          -5702775.36307452,
          -4557352.276325403,
          -3268129.863314395,
          -1873706.8934056885,
          -416351.6383310884,
          1059277.7653438987,
          2507412.870328373,
          3882671.5176794543,
          5141385.91736737,
          6242977.463688188,
          7151234.002281208,
          7835473.687680554,
          8271517.194248276,
          8442549.072032876,
          8339682.376645671,
          7962332.8418759275,
          7318327.214614507,
          6423799.879813795,
          5302759.490339601,
          3986484.520471244,
          2512659.5933892457,
          924314.7058752561,
          -731428.2549925811,
          -2404650.3966467567,
          -4044222.6599859837,
          -5599256.217925865,
          -7020659.100871504,
          -8262639.192741328,
          -9284137.781238148,
          -10050085.01082086,
          -10532608.683406798,
          -10711922.86276201,
          -10577051.652191332,
          -10126280.939974306,
          -9367373.565740796,
          -8317451.65062746,
          -7002650.160949496,
          -5457479.955692938,
          -3723939.818432433,
          -1850374.85762212,
          109755.72629346041,
          2099495.4608716234,
          4059914.6340336143,
          5931819.694943578,
          7657491.32256523,
          9182306.851797465,
          10456493.954272324,
          11436565.998693954,
          12086700.5894055,
          12379896.663291909,
          12298892.840079984,
          11836832.828375394,
          10997631.670052659,
          9796047.908962054,
          8257454.061796146,
          6417305.85980739,
          4320298.245619765,
          2019379.88137282,
          -425717.8876064971,
          -2949914.684861356,
          -5484494.937679047,
          -7958943.490150721,
          -10302706.432710452,
          -12447254.254045518,
          -14327819.006421847,
          -15885188.251253668,
          -17067332.155745,
          -17830853.498127628,
          -18142176.937613733,
          -17978563.8342987,
          -17328746.95508712,
          -16193311.951085482,
          -14584751.345922943,
          -12527174.01094511,
          -10055830.021338904,
          -7216095.691743628,
          -4062420.367659074,
          -656920.9906137366,
          2932246.7498601372,
          6632465.142466022,
          10368760.103812661,
          14065550.515184658,
          17648609.02251477,
          21046935.255326144,
          24194565.198599998,
          27032055.817732595,
          29508140.277154416,
          31580783.76503818,
          33218163.893167667,
          34399336.61652479,
          35114537.93957728,
          35365305.35668866,
          35164146.44242292,
          34533983.32640485,
          33507298.778593175,
          32125008.887131732,
          30435199.988375854,
          28491518.751609612,
          26351582.60395016,
          24075227.577237394,
          21722733.10986325,
          19353034.3980092,
          17022138.008442655,
          14781377.292434145,
          12676104.086535431,
          10744444.01689914,
          9016296.279259726,
          7512692.958987486,
          6245243.372763915,
          5216075.46882237,
          4417969.958083998,
          3834805.9859917494,
          3442278.719349491,
          3208888.805591164,
          3097111.3398808516,
          3064796.5534659824,
          3066687.523547247
         ],
         "yaxis": "y2"
        }
       ],
       "layout": {
        "height": 400,
        "showlegend": false,
        "template": {
         "data": {
          "bar": [
           {
            "error_x": {
             "color": "#2a3f5f"
            },
            "error_y": {
             "color": "#2a3f5f"
            },
            "marker": {
             "line": {
              "color": "#E5ECF6",
              "width": 0.5
             },
             "pattern": {
              "fillmode": "overlay",
              "size": 10,
              "solidity": 0.2
             }
            },
            "type": "bar"
           }
          ],
          "barpolar": [
           {
            "marker": {
             "line": {
              "color": "#E5ECF6",
              "width": 0.5
             },
             "pattern": {
              "fillmode": "overlay",
              "size": 10,
              "solidity": 0.2
             }
            },
            "type": "barpolar"
           }
          ],
          "carpet": [
           {
            "aaxis": {
             "endlinecolor": "#2a3f5f",
             "gridcolor": "white",
             "linecolor": "white",
             "minorgridcolor": "white",
             "startlinecolor": "#2a3f5f"
            },
            "baxis": {
             "endlinecolor": "#2a3f5f",
             "gridcolor": "white",
             "linecolor": "white",
             "minorgridcolor": "white",
             "startlinecolor": "#2a3f5f"
            },
            "type": "carpet"
           }
          ],
          "choropleth": [
           {
            "colorbar": {
             "outlinewidth": 0,
             "ticks": ""
            },
            "type": "choropleth"
           }
          ],
          "contour": [
           {
            "colorbar": {
             "outlinewidth": 0,
             "ticks": ""
            },
            "colorscale": [
             [
              0,
              "#0d0887"
             ],
             [
              0.1111111111111111,
              "#46039f"
             ],
             [
              0.2222222222222222,
              "#7201a8"
             ],
             [
              0.3333333333333333,
              "#9c179e"
             ],
             [
              0.4444444444444444,
              "#bd3786"
             ],
             [
              0.5555555555555556,
              "#d8576b"
             ],
             [
              0.6666666666666666,
              "#ed7953"
             ],
             [
              0.7777777777777778,
              "#fb9f3a"
             ],
             [
              0.8888888888888888,
              "#fdca26"
             ],
             [
              1,
              "#f0f921"
             ]
            ],
            "type": "contour"
           }
          ],
          "contourcarpet": [
           {
            "colorbar": {
             "outlinewidth": 0,
             "ticks": ""
            },
            "type": "contourcarpet"
           }
          ],
          "heatmap": [
           {
            "colorbar": {
             "outlinewidth": 0,
             "ticks": ""
            },
            "colorscale": [
             [
              0,
              "#0d0887"
             ],
             [
              0.1111111111111111,
              "#46039f"
             ],
             [
              0.2222222222222222,
              "#7201a8"
             ],
             [
              0.3333333333333333,
              "#9c179e"
             ],
             [
              0.4444444444444444,
              "#bd3786"
             ],
             [
              0.5555555555555556,
              "#d8576b"
             ],
             [
              0.6666666666666666,
              "#ed7953"
             ],
             [
              0.7777777777777778,
              "#fb9f3a"
             ],
             [
              0.8888888888888888,
              "#fdca26"
             ],
             [
              1,
              "#f0f921"
             ]
            ],
            "type": "heatmap"
           }
          ],
          "heatmapgl": [
           {
            "colorbar": {
             "outlinewidth": 0,
             "ticks": ""
            },
            "colorscale": [
             [
              0,
              "#0d0887"
             ],
             [
              0.1111111111111111,
              "#46039f"
             ],
             [
              0.2222222222222222,
              "#7201a8"
             ],
             [
              0.3333333333333333,
              "#9c179e"
             ],
             [
              0.4444444444444444,
              "#bd3786"
             ],
             [
              0.5555555555555556,
              "#d8576b"
             ],
             [
              0.6666666666666666,
              "#ed7953"
             ],
             [
              0.7777777777777778,
              "#fb9f3a"
             ],
             [
              0.8888888888888888,
              "#fdca26"
             ],
             [
              1,
              "#f0f921"
             ]
            ],
            "type": "heatmapgl"
           }
          ],
          "histogram": [
           {
            "marker": {
             "pattern": {
              "fillmode": "overlay",
              "size": 10,
              "solidity": 0.2
             }
            },
            "type": "histogram"
           }
          ],
          "histogram2d": [
           {
            "colorbar": {
             "outlinewidth": 0,
             "ticks": ""
            },
            "colorscale": [
             [
              0,
              "#0d0887"
             ],
             [
              0.1111111111111111,
              "#46039f"
             ],
             [
              0.2222222222222222,
              "#7201a8"
             ],
             [
              0.3333333333333333,
              "#9c179e"
             ],
             [
              0.4444444444444444,
              "#bd3786"
             ],
             [
              0.5555555555555556,
              "#d8576b"
             ],
             [
              0.6666666666666666,
              "#ed7953"
             ],
             [
              0.7777777777777778,
              "#fb9f3a"
             ],
             [
              0.8888888888888888,
              "#fdca26"
             ],
             [
              1,
              "#f0f921"
             ]
            ],
            "type": "histogram2d"
           }
          ],
          "histogram2dcontour": [
           {
            "colorbar": {
             "outlinewidth": 0,
             "ticks": ""
            },
            "colorscale": [
             [
              0,
              "#0d0887"
             ],
             [
              0.1111111111111111,
              "#46039f"
             ],
             [
              0.2222222222222222,
              "#7201a8"
             ],
             [
              0.3333333333333333,
              "#9c179e"
             ],
             [
              0.4444444444444444,
              "#bd3786"
             ],
             [
              0.5555555555555556,
              "#d8576b"
             ],
             [
              0.6666666666666666,
              "#ed7953"
             ],
             [
              0.7777777777777778,
              "#fb9f3a"
             ],
             [
              0.8888888888888888,
              "#fdca26"
             ],
             [
              1,
              "#f0f921"
             ]
            ],
            "type": "histogram2dcontour"
           }
          ],
          "mesh3d": [
           {
            "colorbar": {
             "outlinewidth": 0,
             "ticks": ""
            },
            "type": "mesh3d"
           }
          ],
          "parcoords": [
           {
            "line": {
             "colorbar": {
              "outlinewidth": 0,
              "ticks": ""
             }
            },
            "type": "parcoords"
           }
          ],
          "pie": [
           {
            "automargin": true,
            "type": "pie"
           }
          ],
          "scatter": [
           {
            "fillpattern": {
             "fillmode": "overlay",
             "size": 10,
             "solidity": 0.2
            },
            "type": "scatter"
           }
          ],
          "scatter3d": [
           {
            "line": {
             "colorbar": {
              "outlinewidth": 0,
              "ticks": ""
             }
            },
            "marker": {
             "colorbar": {
              "outlinewidth": 0,
              "ticks": ""
             }
            },
            "type": "scatter3d"
           }
          ],
          "scattercarpet": [
           {
            "marker": {
             "colorbar": {
              "outlinewidth": 0,
              "ticks": ""
             }
            },
            "type": "scattercarpet"
           }
          ],
          "scattergeo": [
           {
            "marker": {
             "colorbar": {
              "outlinewidth": 0,
              "ticks": ""
             }
            },
            "type": "scattergeo"
           }
          ],
          "scattergl": [
           {
            "marker": {
             "colorbar": {
              "outlinewidth": 0,
              "ticks": ""
             }
            },
            "type": "scattergl"
           }
          ],
          "scattermapbox": [
           {
            "marker": {
             "colorbar": {
              "outlinewidth": 0,
              "ticks": ""
             }
            },
            "type": "scattermapbox"
           }
          ],
          "scatterpolar": [
           {
            "marker": {
             "colorbar": {
              "outlinewidth": 0,
              "ticks": ""
             }
            },
            "type": "scatterpolar"
           }
          ],
          "scatterpolargl": [
           {
            "marker": {
             "colorbar": {
              "outlinewidth": 0,
              "ticks": ""
             }
            },
            "type": "scatterpolargl"
           }
          ],
          "scatterternary": [
           {
            "marker": {
             "colorbar": {
              "outlinewidth": 0,
              "ticks": ""
             }
            },
            "type": "scatterternary"
           }
          ],
          "surface": [
           {
            "colorbar": {
             "outlinewidth": 0,
             "ticks": ""
            },
            "colorscale": [
             [
              0,
              "#0d0887"
             ],
             [
              0.1111111111111111,
              "#46039f"
             ],
             [
              0.2222222222222222,
              "#7201a8"
             ],
             [
              0.3333333333333333,
              "#9c179e"
             ],
             [
              0.4444444444444444,
              "#bd3786"
             ],
             [
              0.5555555555555556,
              "#d8576b"
             ],
             [
              0.6666666666666666,
              "#ed7953"
             ],
             [
              0.7777777777777778,
              "#fb9f3a"
             ],
             [
              0.8888888888888888,
              "#fdca26"
             ],
             [
              1,
              "#f0f921"
             ]
            ],
            "type": "surface"
           }
          ],
          "table": [
           {
            "cells": {
             "fill": {
              "color": "#EBF0F8"
             },
             "line": {
              "color": "white"
             }
            },
            "header": {
             "fill": {
              "color": "#C8D4E3"
             },
             "line": {
              "color": "white"
             }
            },
            "type": "table"
           }
          ]
         },
         "layout": {
          "annotationdefaults": {
           "arrowcolor": "#2a3f5f",
           "arrowhead": 0,
           "arrowwidth": 1
          },
          "autotypenumbers": "strict",
          "coloraxis": {
           "colorbar": {
            "outlinewidth": 0,
            "ticks": ""
           }
          },
          "colorscale": {
           "diverging": [
            [
             0,
             "#8e0152"
            ],
            [
             0.1,
             "#c51b7d"
            ],
            [
             0.2,
             "#de77ae"
            ],
            [
             0.3,
             "#f1b6da"
            ],
            [
             0.4,
             "#fde0ef"
            ],
            [
             0.5,
             "#f7f7f7"
            ],
            [
             0.6,
             "#e6f5d0"
            ],
            [
             0.7,
             "#b8e186"
            ],
            [
             0.8,
             "#7fbc41"
            ],
            [
             0.9,
             "#4d9221"
            ],
            [
             1,
             "#276419"
            ]
           ],
           "sequential": [
            [
             0,
             "#0d0887"
            ],
            [
             0.1111111111111111,
             "#46039f"
            ],
            [
             0.2222222222222222,
             "#7201a8"
            ],
            [
             0.3333333333333333,
             "#9c179e"
            ],
            [
             0.4444444444444444,
             "#bd3786"
            ],
            [
             0.5555555555555556,
             "#d8576b"
            ],
            [
             0.6666666666666666,
             "#ed7953"
            ],
            [
             0.7777777777777778,
             "#fb9f3a"
            ],
            [
             0.8888888888888888,
             "#fdca26"
            ],
            [
             1,
             "#f0f921"
            ]
           ],
           "sequentialminus": [
            [
             0,
             "#0d0887"
            ],
            [
             0.1111111111111111,
             "#46039f"
            ],
            [
             0.2222222222222222,
             "#7201a8"
            ],
            [
             0.3333333333333333,
             "#9c179e"
            ],
            [
             0.4444444444444444,
             "#bd3786"
            ],
            [
             0.5555555555555556,
             "#d8576b"
            ],
            [
             0.6666666666666666,
             "#ed7953"
            ],
            [
             0.7777777777777778,
             "#fb9f3a"
            ],
            [
             0.8888888888888888,
             "#fdca26"
            ],
            [
             1,
             "#f0f921"
            ]
           ]
          },
          "colorway": [
           "#636efa",
           "#EF553B",
           "#00cc96",
           "#ab63fa",
           "#FFA15A",
           "#19d3f3",
           "#FF6692",
           "#B6E880",
           "#FF97FF",
           "#FECB52"
          ],
          "font": {
           "color": "#2a3f5f"
          },
          "geo": {
           "bgcolor": "white",
           "lakecolor": "white",
           "landcolor": "#E5ECF6",
           "showlakes": true,
           "showland": true,
           "subunitcolor": "white"
          },
          "hoverlabel": {
           "align": "left"
          },
          "hovermode": "closest",
          "mapbox": {
           "style": "light"
          },
          "paper_bgcolor": "white",
          "plot_bgcolor": "#E5ECF6",
          "polar": {
           "angularaxis": {
            "gridcolor": "white",
            "linecolor": "white",
            "ticks": ""
           },
           "bgcolor": "#E5ECF6",
           "radialaxis": {
            "gridcolor": "white",
            "linecolor": "white",
            "ticks": ""
           }
          },
          "scene": {
           "xaxis": {
            "backgroundcolor": "#E5ECF6",
            "gridcolor": "white",
            "gridwidth": 2,
            "linecolor": "white",
            "showbackground": true,
            "ticks": "",
            "zerolinecolor": "white"
           },
           "yaxis": {
            "backgroundcolor": "#E5ECF6",
            "gridcolor": "white",
            "gridwidth": 2,
            "linecolor": "white",
            "showbackground": true,
            "ticks": "",
            "zerolinecolor": "white"
           },
           "zaxis": {
            "backgroundcolor": "#E5ECF6",
            "gridcolor": "white",
            "gridwidth": 2,
            "linecolor": "white",
            "showbackground": true,
            "ticks": "",
            "zerolinecolor": "white"
           }
          },
          "shapedefaults": {
           "line": {
            "color": "#2a3f5f"
           }
          },
          "ternary": {
           "aaxis": {
            "gridcolor": "white",
            "linecolor": "white",
            "ticks": ""
           },
           "baxis": {
            "gridcolor": "white",
            "linecolor": "white",
            "ticks": ""
           },
           "bgcolor": "#E5ECF6",
           "caxis": {
            "gridcolor": "white",
            "linecolor": "white",
            "ticks": ""
           }
          },
          "title": {
           "x": 0.05
          },
          "xaxis": {
           "automargin": true,
           "gridcolor": "white",
           "linecolor": "white",
           "ticks": "",
           "title": {
            "standoff": 15
           },
           "zerolinecolor": "white",
           "zerolinewidth": 2
          },
          "yaxis": {
           "automargin": true,
           "gridcolor": "white",
           "linecolor": "white",
           "ticks": "",
           "title": {
            "standoff": 15
           },
           "zerolinecolor": "white",
           "zerolinewidth": 2
          }
         }
        },
        "width": 900,
        "xaxis": {
         "anchor": "y",
         "domain": [
          0,
          1
         ],
         "range": [
          "1957-09-30T22:48:00",
          "2029-04-01T01:12:00"
         ],
         "type": "date"
        },
        "xaxis2": {
         "anchor": "y2",
         "domain": [
          0,
          1
         ],
         "range": [
          "2016-12-13T18:54:02.958904",
          "2018-01-18T11:04:57.863013"
         ],
         "tickformat": "%B %e",
         "type": "date"
        },
        "yaxis": {
         "anchor": "x",
         "domain": [
          0.575,
          1
         ],
         "rangemode": "normal",
         "title": {
          "text": "trend"
         },
         "zerolinecolor": "#AAA"
        },
        "yaxis2": {
         "anchor": "x2",
         "domain": [
          0,
          0.425
         ],
         "title": {
          "text": "yearly"
         },
         "zerolinecolor": "#AAA"
        }
       }
      }
     },
     "metadata": {},
     "output_type": "display_data"
    }
   ],
   "source": [
    "plot_components_plotly(m, forecast)"
   ]
  },
  {
   "cell_type": "code",
   "execution_count": 25,
   "metadata": {},
   "outputs": [],
   "source": [
    "predicciones = forecast[['ds', 'yhat']]\n",
    "predicciones.columns = ['fecha', 'predicciones']\n",
    "predicciones['year'] = predicciones['fecha'].dt.year\n",
    "predicciones = predicciones[['year', 'predicciones']]"
   ]
  },
  {
   "cell_type": "code",
   "execution_count": 26,
   "metadata": {},
   "outputs": [],
   "source": [
    "predicciones.to_csv('../../Datos/datos_predichos/df_poblacion_predicciones.csv')"
   ]
  }
 ],
 "metadata": {
  "kernelspec": {
   "display_name": "Python 3",
   "language": "python",
   "name": "python3"
  },
  "language_info": {
   "codemirror_mode": {
    "name": "ipython",
    "version": 3
   },
   "file_extension": ".py",
   "mimetype": "text/x-python",
   "name": "python",
   "nbconvert_exporter": "python",
   "pygments_lexer": "ipython3",
   "version": "3.11.9"
  }
 },
 "nbformat": 4,
 "nbformat_minor": 2
}
