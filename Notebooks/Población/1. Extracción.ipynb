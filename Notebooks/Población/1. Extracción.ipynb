{
 "cells": [
  {
   "cell_type": "code",
   "execution_count": null,
   "metadata": {},
   "outputs": [],
   "source": [
    "# Importamos las librerías que necesitamos\n",
    "\n",
    "# Librerías de extracción de datos\n",
    "# -----------------------------------------------------------------------\n",
    "\n",
    "%load_ext autoreload\n",
    "%autoreload 2\n",
    "\n",
    "\n",
    "# Importaciones:\n",
    "# Beautifulsoup\n",
    "from bs4 import BeautifulSoup\n",
    "\n",
    "# Requests\n",
    "import requests\n",
    "\n",
    "import pandas as pd\n",
    "import numpy as np\n",
    "\n",
    "from time import sleep\n",
    "\n",
    "# Importar librerías para automatización de navegadores web con Selenium\n",
    "# -----------------------------------------------------------------------\n",
    "from selenium import webdriver  # Selenium es una herramienta para automatizar la interacción con navegadores web.\n",
    "from webdriver_manager.chrome import ChromeDriverManager  # ChromeDriverManager gestiona la instalación del controlador de Chrome.\n",
    "from selenium.webdriver.common.keys import Keys  # Keys es útil para simular eventos de teclado en Selenium.\n",
    "from selenium.webdriver.support.ui import Select  # Select se utiliza para interactuar con elementos <select> en páginas web.\n",
    "from selenium.webdriver.support.ui import WebDriverWait\n",
    "from selenium.webdriver.support import expected_conditions as EC\n",
    "from selenium.common.exceptions import NoSuchElementException # Excepciones comunes de selenium que nos podemos encontrar \n",
    "\n",
    "import warnings\n",
    "warnings.filterwarnings('ignore')\n",
    "pd.options.display.float_format = '{:.2f}'.format\n",
    "pd.set_option('display.max_columns', None)"
   ]
  },
  {
   "cell_type": "code",
   "execution_count": null,
   "metadata": {},
   "outputs": [],
   "source": [
    "driver = webdriver.Chrome()\n",
    "url_pvehicular = \"https://www.google.com/\"\n",
    "driver.get(url_pvehicular)\n",
    "driver.maximize_window()\n",
    "\n",
    "sleep(1)  # Esperar un segundo entre cada scroll\n",
    "#descargo el excel completo\n"
   ]
  },
  {
   "cell_type": "code",
   "execution_count": null,
   "metadata": {},
   "outputs": [],
   "source": [
    "try: \n",
    "    driver.find_element(\"xpath\", '/html/body/div[2]/div[2]/div[3]/span/div/div/div/div[3]/div[1]/button[2]/div').click()\n",
    "except:\n",
    "    print('No encuentro el botón para buscar')\n"
   ]
  },
  {
   "cell_type": "code",
   "execution_count": null,
   "metadata": {},
   "outputs": [],
   "source": [
    "driver.find_element('css selector', '#APjFqb').send_keys('poblacion republica dominicana', Keys.ENTER)\n",
    "sleep(3) \n",
    "\n",
    "try:\n",
    "    driver.execute_script(\"window.scrollBy(0, 100);\")  \n",
    "except:\n",
    "    print('No he podido descender')\n",
    "\n",
    "try: \n",
    "    driver.find_element(\"xpath\", '/html/body/div[3]/div/div[13]/div/div[1]/div[2]/div[2]/div/div/div[1]/div/div[4]/block-component/div/div/div[1]/div/div/div[1]/div[1]/div/div[2]/div/div/g-more-link/a/div').click()\n",
    "except:\n",
    "    print('No encuentro el botón para abrir el explorar')"
   ]
  },
  {
   "cell_type": "code",
   "execution_count": null,
   "metadata": {},
   "outputs": [
    {
     "name": "stdout",
     "output_type": "stream",
     "text": [
      "Botón encontrado\n",
      "Botón clicado exitosamente\n"
     ]
    }
   ],
   "source": [
    "export_button_selector = \"/html/body/div[4]/main/div[1]/div[2]/div[2]/div[4]/section[4]/div/div[1]/div/footer/div[2]/a\"  \n",
    "\n",
    "max_attempts = 20\n",
    "attempts = 0\n",
    "\n",
    "while attempts < max_attempts:\n",
    "    try:\n",
    "        export_button = WebDriverWait(driver, 10).until(\n",
    "            EC.presence_of_element_located((By.XPATH, export_button_selector))\n",
    "        )\n",
    "        print(\"Botón encontrado\")\n",
    "        export_button.click()\n",
    "        print(\"Botón clicado exitosamente\")\n",
    "        break\n",
    "    except:\n",
    "        driver.execute_script(\"window.scrollBy(0, 750);\")\n",
    "        time.sleep(0.5)  \n",
    "        attempts += 1\n",
    "\n",
    "if attempts == max_attempts:\n",
    "    print(\"No se encontró el botón 'Exportar' después de múltiples intentos\")"
   ]
  },
  {
   "cell_type": "code",
   "execution_count": null,
   "metadata": {},
   "outputs": [],
   "source": [
    "try:\n",
    "    driver.find_element(\"xpath\", '/html/body/div[5]/div/div[1]/div/div/div[3]/button[2]').click()  \n",
    "except:\n",
    "    print('No he podido clicar')"
   ]
  }
 ],
 "metadata": {
  "kernelspec": {
   "display_name": "Python 3",
   "language": "python",
   "name": "python3"
  },
  "language_info": {
   "name": "python",
   "version": "3.11.9"
  }
 },
 "nbformat": 4,
 "nbformat_minor": 2
}
