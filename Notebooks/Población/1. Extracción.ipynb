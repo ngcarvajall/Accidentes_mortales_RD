{
 "cells": [
  {
   "cell_type": "markdown",
   "metadata": {},
   "source": [
    "# Notebook #1: Extracción: extraer los datos de la web"
   ]
  },
  {
   "cell_type": "code",
   "execution_count": 33,
   "metadata": {},
   "outputs": [
    {
     "name": "stdout",
     "output_type": "stream",
     "text": [
      "The autoreload extension is already loaded. To reload it, use:\n",
      "  %reload_ext autoreload\n"
     ]
    }
   ],
   "source": [
    "# Importamos las librerías que necesitamos\n",
    "\n",
    "# Librerías de extracción de datos\n",
    "# -----------------------------------------------------------------------\n",
    "\n",
    "%load_ext autoreload\n",
    "%autoreload 2\n",
    "\n",
    "\n",
    "# Importaciones:\n",
    "# Beautifulsoup\n",
    "from bs4 import BeautifulSoup\n",
    "\n",
    "# Requests\n",
    "import requests\n",
    "\n",
    "import pandas as pd\n",
    "import numpy as np\n",
    "\n",
    "from time import sleep\n",
    "\n",
    "# Importar librerías para automatización de navegadores web con Selenium\n",
    "# -----------------------------------------------------------------------\n",
    "from selenium import webdriver  # Selenium es una herramienta para automatizar la interacción con navegadores web.\n",
    "from webdriver_manager.chrome import ChromeDriverManager  # ChromeDriverManager gestiona la instalación del controlador de Chrome.\n",
    "from selenium.webdriver.common.keys import Keys  # Keys es útil para simular eventos de teclado en Selenium.\n",
    "from selenium.webdriver.support.ui import Select  # Select se utiliza para interactuar con elementos <select> en páginas web.\n",
    "from selenium.webdriver.support.ui import WebDriverWait\n",
    "from selenium.webdriver.support import expected_conditions as EC\n",
    "from selenium.common.exceptions import NoSuchElementException # Excepciones comunes de selenium que nos podemos encontrar \n",
    "\n",
    "import warnings\n",
    "warnings.filterwarnings('ignore')\n",
    "pd.options.display.float_format = '{:.2f}'.format\n",
    "pd.set_option('display.max_columns', None)"
   ]
  },
  {
   "cell_type": "code",
   "execution_count": 34,
   "metadata": {},
   "outputs": [],
   "source": [
    "driver = webdriver.Chrome()\n",
    "url_pvehicular = \"https://datos.bancomundial.org/\"\n",
    "driver.get(url_pvehicular)\n",
    "driver.maximize_window()\n",
    "\n",
    "sleep(1)  # Esperar un segundo entre cada scroll\n",
    "#descargo el excel completo\n"
   ]
  },
  {
   "cell_type": "code",
   "execution_count": 35,
   "metadata": {},
   "outputs": [],
   "source": [
    "try: \n",
    "    driver.find_element(\"xpath\", '/html/body/div[1]/div/div/div/div[3]/div/div/div[2]/p/a[1]/span').click()\n",
    "except:\n",
    "    print('No encuentro el botón para país')\n",
    "\n",
    "sleep(2)\n",
    "\n",
    "try: \n",
    "    driver.find_element(\"xpath\", '/html/body/div[1]/div/div/div/div[3]/div/div[2]/ul/li[19]').click()\n",
    "except:\n",
    "    print('No encuentro el botón para buscar la R')\n",
    "\n",
    "sleep(2)\n",
    "\n",
    "try: \n",
    "    driver.find_element(\"xpath\", '/html/body/div[1]/div/div/div/div[3]/div/div[2]/section/ul/li[7]/a').click()\n",
    "except:\n",
    "    print('No encuentro el botón para abrir Rep. Dom.')\n",
    "\n",
    "sleep(3)\n",
    "\n",
    "try:\n",
    "    driver.execute_script(\"window.scrollBy(0, 200);\")  \n",
    "except:\n",
    "    print('No he podido descender')\n",
    "\n",
    "sleep(3)"
   ]
  },
  {
   "cell_type": "code",
   "execution_count": 37,
   "metadata": {},
   "outputs": [],
   "source": [
    "try:\n",
    "    driver.find_element(\"xpath\", '/html/body/div[1]/div/div/div/div[3]/div[1]/div/article/div[2]/section/div/div[2]/div/div[1]/div[4]/div/div[2]/div/a[1]').click()  \n",
    "except:\n",
    "    print('No he podido clicar')"
   ]
  },
  {
   "cell_type": "code",
   "execution_count": 38,
   "metadata": {},
   "outputs": [],
   "source": [
    "try:\n",
    "    driver.execute_script(\"window.scrollBy(0, 200);\")  \n",
    "except:\n",
    "    print('No he podido descender')\n",
    "\n",
    "sleep(3)"
   ]
  },
  {
   "cell_type": "code",
   "execution_count": 39,
   "metadata": {},
   "outputs": [],
   "source": [
    "try:\n",
    "    driver.find_element(\"xpath\", '/html/body/div[1]/div/div/div/div[3]/article/aside/div/div[2]/div/p/a[1]').click()  \n",
    "except:\n",
    "    print('No he podido descargar')"
   ]
  }
 ],
 "metadata": {
  "kernelspec": {
   "display_name": "Python 3",
   "language": "python",
   "name": "python3"
  },
  "language_info": {
   "codemirror_mode": {
    "name": "ipython",
    "version": 3
   },
   "file_extension": ".py",
   "mimetype": "text/x-python",
   "name": "python",
   "nbconvert_exporter": "python",
   "pygments_lexer": "ipython3",
   "version": "3.11.9"
  }
 },
 "nbformat": 4,
 "nbformat_minor": 2
}
