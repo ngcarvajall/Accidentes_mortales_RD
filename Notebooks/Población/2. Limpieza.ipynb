{
 "cells": [
  {
   "cell_type": "markdown",
   "metadata": {},
   "source": [
    "# Notebook #2: Limpieza: limpieza y tratamiento de los datos"
   ]
  },
  {
   "cell_type": "code",
   "execution_count": 42,
   "metadata": {},
   "outputs": [
    {
     "name": "stdout",
     "output_type": "stream",
     "text": [
      "The autoreload extension is already loaded. To reload it, use:\n",
      "  %reload_ext autoreload\n"
     ]
    }
   ],
   "source": [
    "%load_ext autoreload\n",
    "%autoreload 2\n",
    "\n",
    "import sys\n",
    "sys.path.append('../../src')\n",
    "import funciones as f\n",
    "import soporte_prep as sp\n",
    "\n",
    "import pandas as pd\n",
    "import numpy as np\n",
    "\n",
    "import warnings\n",
    "warnings.filterwarnings('ignore')\n",
    "pd.options.display.float_format = '{:.2f}'.format\n",
    "pd.set_option('display.max_columns', None)"
   ]
  },
  {
   "cell_type": "code",
   "execution_count": null,
   "metadata": {},
   "outputs": [],
   "source": [
    "# Intenta con delimitador detectado (coma, como primera opción)\n",
    "try:\n",
    "    df_poblacional = pd.read_csv(\n",
    "        \"C:\\\\Users\\\\DELL\\\\Downloads\\\\API_SP.POP.TOTL_DS2_en_csv_v2_900\\\\API_SP.POP.TOTL_DS2_en_csv_v2_900.csv\",\n",
    "        sep=',',  \n",
    "        skiprows=3,  # Omitir las primeras filas con metadatos\n",
    "        on_bad_lines='skip'  # Saltar líneas problemáticas\n",
    "    )\n",
    "\n",
    "except Exception as e:\n",
    "    print(f\"Error al cargar el archivo: {e}\")\n"
   ]
  },
  {
   "cell_type": "code",
   "execution_count": null,
   "metadata": {},
   "outputs": [],
   "source": [
    "df_poblacional = df_poblacional[df_poblacional['Country Name'] == 'Dominican Republic'] #filtra solo por RD\n",
    "df_poblacional.drop(columns=['Country Code', 'Indicator Name', 'Indicator Code'], inplace=True)\n",
    "df_poblacional = df_poblacional.iloc[:,:-1]"
   ]
  },
  {
   "cell_type": "code",
   "execution_count": 45,
   "metadata": {},
   "outputs": [],
   "source": [
    "df_poblacional = df_poblacional.T.reset_index()"
   ]
  },
  {
   "cell_type": "code",
   "execution_count": 46,
   "metadata": {},
   "outputs": [],
   "source": [
    "df_poblacional.columns = ['anio', 'poblacion']\n",
    "df_poblacional = df_poblacional.iloc[1:]"
   ]
  },
  {
   "cell_type": "code",
   "execution_count": 47,
   "metadata": {},
   "outputs": [],
   "source": [
    "columns = df_poblacional.columns.tolist()\n",
    "df_poblacional[columns] = df_poblacional[columns].astype('int64')"
   ]
  },
  {
   "cell_type": "code",
   "execution_count": 48,
   "metadata": {},
   "outputs": [],
   "source": [
    "df_poblacional.to_csv('../../Datos/datos_poblacion/datos_poblacion.csv')"
   ]
  }
 ],
 "metadata": {
  "kernelspec": {
   "display_name": "Python 3",
   "language": "python",
   "name": "python3"
  },
  "language_info": {
   "codemirror_mode": {
    "name": "ipython",
    "version": 3
   },
   "file_extension": ".py",
   "mimetype": "text/x-python",
   "name": "python",
   "nbconvert_exporter": "python",
   "pygments_lexer": "ipython3",
   "version": "3.11.9"
  }
 },
 "nbformat": 4,
 "nbformat_minor": 2
}
