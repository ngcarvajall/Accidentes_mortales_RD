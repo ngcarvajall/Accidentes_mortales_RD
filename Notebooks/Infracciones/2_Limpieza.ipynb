{
 "cells": [
  {
   "cell_type": "markdown",
   "metadata": {},
   "source": [
    "# Notebook #2: Limpieza: limpieza y transformación de los datos"
   ]
  },
  {
   "cell_type": "code",
   "execution_count": 1,
   "metadata": {},
   "outputs": [],
   "source": [
    "%load_ext autoreload\n",
    "%autoreload 2\n",
    "\n",
    "import sys\n",
    "sys.path.append('../../src')\n",
    "import funciones as f\n",
    "import soporte_prep as sp\n",
    "\n",
    "import pandas as pd\n",
    "import numpy as np\n",
    "\n",
    "import warnings\n",
    "warnings.filterwarnings('ignore')\n",
    "pd.options.display.float_format = '{:.2f}'.format\n",
    "pd.set_option('display.max_columns', None)"
   ]
  },
  {
   "cell_type": "code",
   "execution_count": 2,
   "metadata": {},
   "outputs": [],
   "source": [
    "df_infracciones_2 = pd.read_excel(\"../../Datos/infracciones/Infracciones de Tránsito, DIGESETT, 2018 - 2024.xlsx\")\n",
    "df_infracciones_1 = pd.read_excel(\"../../Datos/infracciones/Infracciones de Tránsito, DIGESETT, 2010 - 2017.xlsx\")"
   ]
  },
  {
   "cell_type": "code",
   "execution_count": 3,
   "metadata": {},
   "outputs": [],
   "source": [
    "df_infracciones_1.columns = ['infracciones', 'total', 'anio']\n",
    "df_infracciones_2.columns = df_infracciones_2.columns.str.lower() #pongo los nombres en minúsculas\n",
    "df_infracciones_2.rename(columns={'año':'anio'}, inplace=True)"
   ]
  },
  {
   "cell_type": "code",
   "execution_count": 4,
   "metadata": {},
   "outputs": [],
   "source": [
    "df_infracciones_2['total'] = df_infracciones_2.iloc[:,1:13].sum(axis=1) # creo la columna de total"
   ]
  },
  {
   "cell_type": "code",
   "execution_count": 5,
   "metadata": {},
   "outputs": [],
   "source": [
    "df_infracciones_2.reset_index(drop=True, inplace=True)"
   ]
  },
  {
   "cell_type": "code",
   "execution_count": 6,
   "metadata": {},
   "outputs": [],
   "source": [
    "df_infracciones_2.columns = df_infracciones_2.columns.str.strip() # quito posibles espacios no vistos"
   ]
  },
  {
   "cell_type": "code",
   "execution_count": 7,
   "metadata": {},
   "outputs": [],
   "source": [
    "df_infracciones_1['infracciones'] = df_infracciones_1['infracciones'].replace({\n",
    "    'TRANSITAR EN VIA CONTRARIA': 'VIA CONTRARIA'\n",
    "})"
   ]
  },
  {
   "cell_type": "code",
   "execution_count": 8,
   "metadata": {},
   "outputs": [],
   "source": [
    "# Calculo el porcentaje dentro de cada año usando transform\n",
    "df_infracciones_1['porcentaje'] = df_infracciones_1.groupby('anio')['total'].transform(lambda x: (x / x.sum()) * 100)"
   ]
  },
  {
   "cell_type": "code",
   "execution_count": 9,
   "metadata": {},
   "outputs": [],
   "source": [
    "df_infracciones_1['infracciones'] = df_infracciones_1['infracciones'].str.strip()\n",
    "df_infracciones_1['infracciones'] = df_infracciones_1['infracciones'].str.lower()"
   ]
  },
  {
   "cell_type": "code",
   "execution_count": 10,
   "metadata": {},
   "outputs": [],
   "source": [
    "df_infracciones_1= df_infracciones_1[['anio', 'infracciones', 'total', 'porcentaje']]"
   ]
  },
  {
   "cell_type": "code",
   "execution_count": 11,
   "metadata": {},
   "outputs": [],
   "source": [
    "df_infracciones_1['infracciones'] = df_infracciones_1['infracciones'].replace({\n",
    "    'estacionarse en lugares prohibido': 'estacionarse en lugares prohibidos'})"
   ]
  },
  {
   "cell_type": "code",
   "execution_count": 12,
   "metadata": {},
   "outputs": [],
   "source": [
    "df_infracciones_1['infracciones'] = df_infracciones_1['infracciones'].replace({\n",
    "    'licencia vencida': 'conducir sin licencia y/o vencida', \n",
    "    'conducir sin licencia': 'conducir sin licencia y/o vencida'})"
   ]
  },
  {
   "cell_type": "code",
   "execution_count": 13,
   "metadata": {},
   "outputs": [],
   "source": [
    "# calculo el porcentaje dentro de cada año usando transform\n",
    "df_infracciones_2['porcentaje'] = df_infracciones_2.groupby('anio')['total'].transform(lambda x: (x / x.sum()) * 100)\n",
    "\n",
    "# Filtro para quedarme con los valores totales a nivel anual\n",
    "df_infracciones_2 = df_infracciones_2[['anio', 'infracciones', 'total', 'porcentaje']]"
   ]
  },
  {
   "cell_type": "code",
   "execution_count": 14,
   "metadata": {},
   "outputs": [],
   "source": [
    "# Quito posibles elementos que no me permitan trabajar la columna correctamente\n",
    "df_infracciones_2['infracciones'] = df_infracciones_2['infracciones'].str.replace(\n",
    "    r'^\\d+\\.?\\s*|\\(.*?\\)', '', regex=True\n",
    ").str.strip()"
   ]
  },
  {
   "cell_type": "code",
   "execution_count": 15,
   "metadata": {},
   "outputs": [],
   "source": [
    "df_infracciones_2['porcentaje'] = df_infracciones_2['porcentaje'].round(2)\n",
    "df_infracciones_2['infracciones']=df_infracciones_2['infracciones'].str.replace('-', '')\n",
    "df_infracciones_2['infracciones'] = df_infracciones_2['infracciones'].str.lower()"
   ]
  },
  {
   "cell_type": "code",
   "execution_count": 16,
   "metadata": {},
   "outputs": [],
   "source": [
    "mapeo_multiple = {\n",
    "    # Estacionarse en lugares prohibidos\n",
    "    'estacionarse en lugar prohibido': 'estacionarse en lugares prohibidos',\n",
    "    'estacionarse en lugares prohibido': 'estacionarse en lugares prohibidos',\n",
    "    'estacionarse en lugares prohibidos': 'estacionarse en lugares prohibidos',\n",
    "    \n",
    "    # Obstruir el tránsito\n",
    "    'parar en la intersecciones / obstruir el tránsito': 'obstruir el transito',\n",
    "    'obstruir el tránsito': 'obstruir el transito',\n",
    "    \n",
    "    # Conducir sin licencia y/o vencida\n",
    "    'transitar sin licencia y/o vencida': 'conducir sin licencia y/o vencida',\n",
    "    'transitar sin permiso': 'conducir sin licencia y/o vencida',\n",
    "    'conducir sin licencia': 'conducir sin licencia y/o vencida',\n",
    "    'licencia vencida': 'conducir sin licencia y/o vencida',\n",
    "    'transitar sin licencia o vencida': 'conducir sin licencia y/o vencida',\n",
    "    \n",
    "    # Vía contraria\n",
    "    'transitar en vía contraria': 'via contraria',\n",
    "    'vía contraria': 'via contraria',\n",
    "    \n",
    "    # Hablar por celular\n",
    "    'uso de celular o dispositivos electrónicos': 'hablar por celular',\n",
    "    'uso del celular o dispositivos electrónicos  art. 221)': 'hablar por celular',\n",
    "    \n",
    "    # Transitar sin cinturón\n",
    "    'transitar sin cinturón': 'transitar sin cinturon',\n",
    "    'no uso del cinturón de seguridad': 'transitar sin cinturon',\n",
    "    \n",
    "    # Transitar sin casco\n",
    "    'transitar sin casco protector': 'transitar sin casco',\n",
    "    'no uso del casco protector': 'transitar sin casco',\n",
    "    \n",
    "    # Violar la luz roja\n",
    "    'violar luz roja': 'violar la luz roja',\n",
    "    'respeto a las señales del semáforo': 'violar la luz roja',\n",
    "    \n",
    "    # Giro prohibido\n",
    "    'realizar giro prohibido': 'giro prohibido'\n",
    "}"
   ]
  },
  {
   "cell_type": "code",
   "execution_count": 17,
   "metadata": {},
   "outputs": [],
   "source": [
    "# Quito espacios y mapeo la columna para reemplazar esos valores a su categoría correspondiente\n",
    "df_infracciones_2['infracciones'] = df_infracciones_2['infracciones'].str.strip()\n",
    "df_infracciones_2 = f.reemplazar_valores(\n",
    "    dataframe=df_infracciones_2, \n",
    "    columna='infracciones', \n",
    "    mapeo=mapeo_multiple\n",
    ")"
   ]
  },
  {
   "cell_type": "code",
   "execution_count": 18,
   "metadata": {},
   "outputs": [],
   "source": [
    "df_infracciones_2_dirt = df_infracciones_2.copy()"
   ]
  },
  {
   "cell_type": "code",
   "execution_count": 19,
   "metadata": {},
   "outputs": [],
   "source": [
    "infracciones_validas = ['violar la luz roja', 'transitar sin casco',\n",
    "       'transitar sin cinturon', 'hablar por celular', 'via contraria',\n",
    "       'conducir sin licencia y/o vencida',\n",
    "       'obstruir el transito', 'estacionarse en lugares prohibidos',\n",
    "       'giro prohibido']\n",
    "\n",
    "# Convertir todas las infracciones que no están en la lista de infracciones válidas a 'otros'\n",
    "df_infracciones_2['infracciones'] = df_infracciones_2['infracciones'].apply(\n",
    "    lambda x: x if x in infracciones_validas else 'otros'\n",
    ")"
   ]
  },
  {
   "cell_type": "code",
   "execution_count": 20,
   "metadata": {},
   "outputs": [],
   "source": [
    "df_infracciones_1.to_csv('../../Datos/infracciones/df_infracciones_1.csv')\n",
    "df_infracciones_2.to_csv('../../Datos/infracciones/df_infracciones_2.csv')"
   ]
  },
  {
   "cell_type": "markdown",
   "metadata": {},
   "source": [
    "## Datos curiosos"
   ]
  },
  {
   "cell_type": "code",
   "execution_count": 21,
   "metadata": {},
   "outputs": [
    {
     "data": {
      "application/vnd.microsoft.datawrangler.viewer.v0+json": {
       "columns": [
        {
         "name": "index",
         "rawType": "int64",
         "type": "integer"
        },
        {
         "name": "anio",
         "rawType": "int64",
         "type": "integer"
        },
        {
         "name": "infracciones",
         "rawType": "object",
         "type": "string"
        },
        {
         "name": "total",
         "rawType": "int64",
         "type": "integer"
        },
        {
         "name": "porcentaje",
         "rawType": "float64",
         "type": "float"
        }
       ],
       "ref": "e02798c4-37bf-4c37-bcb6-518da0608e51",
       "rows": [
        [
         "0",
         "2018",
         "transitar sin tablilla",
         "527",
         "0.06"
        ],
        [
         "1",
         "2018",
         "exceso de pasajeros",
         "4153",
         "0.51"
        ],
        [
         "2",
         "2018",
         "niños en el asiento delantero",
         "2601",
         "0.32"
        ],
        [
         "3",
         "2018",
         "pasajeros en vehículos de carga",
         "11393",
         "1.4"
        ],
        [
         "4",
         "2018",
         "violar señales de tránsito",
         "12044",
         "1.48"
        ],
        [
         "5",
         "2018",
         "violar la luz roja",
         "61911",
         "7.62"
        ],
        [
         "6",
         "2018",
         "violar señales de tránsito",
         "8258",
         "1.02"
        ],
        [
         "7",
         "2018",
         "transitar sin casco",
         "209670",
         "25.79"
        ],
        [
         "8",
         "2018",
         "transitar sin marbete de placa",
         "7060",
         "0.87"
        ],
        [
         "9",
         "2018",
         "transitar sin marbete de revista",
         "1202",
         "0.15"
        ],
        [
         "10",
         "2018",
         "aditamientos en placa",
         "3174",
         "0.39"
        ],
        [
         "11",
         "2018",
         "placa vencida",
         "2576",
         "0.32"
        ],
        [
         "12",
         "2018",
         "transitar sin placa",
         "15072",
         "1.85"
        ],
        [
         "13",
         "2018",
         "conducir sin licencia y/o vencida",
         "64565",
         "7.94"
        ],
        [
         "14",
         "2018",
         "transitar sin seguro",
         "47822",
         "5.88"
        ],
        [
         "15",
         "2018",
         "vehiculos retenidos por transitar sin documentos",
         "4732",
         "0.58"
        ],
        [
         "16",
         "2018",
         "manejo  temeraria",
         "7958",
         "0.98"
        ],
        [
         "17",
         "2018",
         "transitar sin cinturon",
         "72964",
         "8.98"
        ],
        [
         "18",
         "2018",
         "transitar sin matrícula",
         "15930",
         "1.96"
        ],
        [
         "19",
         "2018",
         "tirar desperdicios en la vía",
         "15649",
         "1.93"
        ],
        [
         "20",
         "2018",
         "tomar o dejar pasajeros en zona prohibida",
         "16096",
         "1.98"
        ],
        [
         "21",
         "2018",
         "obligación de detener la marcha ante un agente",
         "3641",
         "0.45"
        ],
        [
         "22",
         "2018",
         "tirar o empujar un vehículo por otro de motor no diseñado para tales fines",
         "657",
         "0.08"
        ],
        [
         "23",
         "2018",
         "hablar por celular",
         "30882",
         "3.8"
        ],
        [
         "24",
         "2018",
         "giro prohibido",
         "24103",
         "2.96"
        ],
        [
         "25",
         "2018",
         "estacionarse en lugares prohibidos",
         "38677",
         "4.76"
        ],
        [
         "26",
         "2018",
         "obstruir el paso peatonal",
         "14799",
         "1.82"
        ],
        [
         "27",
         "2018",
         "obstruir el transito",
         "29631",
         "3.64"
        ],
        [
         "28",
         "2018",
         "via contraria",
         "33762",
         "4.15"
        ],
        [
         "29",
         "2018",
         "manejo en estado de embriaguez",
         "1358",
         "0.17"
        ],
        [
         "30",
         "2018",
         "conducción bajo los efectos de drogas o sustancias controladas",
         "439",
         "0.05"
        ],
        [
         "31",
         "2018",
         "exceso de velocidad",
         "19366",
         "2.38"
        ],
        [
         "32",
         "2018",
         "obstruir el transito",
         "777",
         "0.1"
        ],
        [
         "33",
         "2018",
         "vehículos pesados por transitar por el carril izquierdo",
         "4894",
         "0.6"
        ],
        [
         "34",
         "2018",
         "competencia de velocidad en las vías públicas",
         "361",
         "0.04"
        ],
        [
         "35",
         "2018",
         "puestos de ventas en las vías públicas",
         "351",
         "0.04"
        ],
        [
         "36",
         "2018",
         "prohibición de niños menores de 8 años en motocicletas y de más de dos pasajeros",
         "639",
         "0.08"
        ],
        [
         "37",
         "2018",
         "transitar con gomas lisas",
         "2171",
         "0.27"
        ],
        [
         "38",
         "2018",
         "transitar sin luces",
         "17184",
         "2.11"
        ],
        [
         "39",
         "2018",
         "vehículos con exceso de carga",
         "2009",
         "0.25"
        ],
        [
         "40",
         "2018",
         "conducir sin licencia y/o vencida",
         "1872",
         "0.23"
        ],
        [
         "41",
         "2019",
         "transitar sin tablilla",
         "321",
         "0.03"
        ],
        [
         "42",
         "2019",
         "transitar sin rótulo autorizado",
         "61",
         "0.01"
        ],
        [
         "43",
         "2019",
         "transporte de carga en vehículos de transporte público de pasajeros",
         "660",
         "0.07"
        ],
        [
         "44",
         "2019",
         "uso de animales como medio de tracción en las vías públicas",
         "71",
         "0.01"
        ],
        [
         "45",
         "2019",
         "luces de las motocicletas",
         "901",
         "0.09"
        ],
        [
         "46",
         "2019",
         "franjas reflectivas",
         "6387",
         "0.64"
        ],
        [
         "47",
         "2019",
         "luces que indiquen el largo total del vehículo",
         "3402",
         "0.34"
        ],
        [
         "48",
         "2019",
         "exceso de pasajeros",
         "4432",
         "0.44"
        ],
        [
         "49",
         "2019",
         "capacidad de asientos",
         "42",
         "0.0"
        ]
       ],
       "shape": {
        "columns": 4,
        "rows": 647
       }
      },
      "text/html": [
       "<div>\n",
       "<style scoped>\n",
       "    .dataframe tbody tr th:only-of-type {\n",
       "        vertical-align: middle;\n",
       "    }\n",
       "\n",
       "    .dataframe tbody tr th {\n",
       "        vertical-align: top;\n",
       "    }\n",
       "\n",
       "    .dataframe thead th {\n",
       "        text-align: right;\n",
       "    }\n",
       "</style>\n",
       "<table border=\"1\" class=\"dataframe\">\n",
       "  <thead>\n",
       "    <tr style=\"text-align: right;\">\n",
       "      <th></th>\n",
       "      <th>anio</th>\n",
       "      <th>infracciones</th>\n",
       "      <th>total</th>\n",
       "      <th>porcentaje</th>\n",
       "    </tr>\n",
       "  </thead>\n",
       "  <tbody>\n",
       "    <tr>\n",
       "      <th>0</th>\n",
       "      <td>2018</td>\n",
       "      <td>transitar sin tablilla</td>\n",
       "      <td>527</td>\n",
       "      <td>0.06</td>\n",
       "    </tr>\n",
       "    <tr>\n",
       "      <th>1</th>\n",
       "      <td>2018</td>\n",
       "      <td>exceso de pasajeros</td>\n",
       "      <td>4153</td>\n",
       "      <td>0.51</td>\n",
       "    </tr>\n",
       "    <tr>\n",
       "      <th>2</th>\n",
       "      <td>2018</td>\n",
       "      <td>niños en el asiento delantero</td>\n",
       "      <td>2601</td>\n",
       "      <td>0.32</td>\n",
       "    </tr>\n",
       "    <tr>\n",
       "      <th>3</th>\n",
       "      <td>2018</td>\n",
       "      <td>pasajeros en vehículos de carga</td>\n",
       "      <td>11393</td>\n",
       "      <td>1.40</td>\n",
       "    </tr>\n",
       "    <tr>\n",
       "      <th>4</th>\n",
       "      <td>2018</td>\n",
       "      <td>violar señales de tránsito</td>\n",
       "      <td>12044</td>\n",
       "      <td>1.48</td>\n",
       "    </tr>\n",
       "    <tr>\n",
       "      <th>...</th>\n",
       "      <td>...</td>\n",
       "      <td>...</td>\n",
       "      <td>...</td>\n",
       "      <td>...</td>\n",
       "    </tr>\n",
       "    <tr>\n",
       "      <th>642</th>\n",
       "      <td>2024</td>\n",
       "      <td>transitar sin luces</td>\n",
       "      <td>74975</td>\n",
       "      <td>3.85</td>\n",
       "    </tr>\n",
       "    <tr>\n",
       "      <th>643</th>\n",
       "      <td>2024</td>\n",
       "      <td>transitar con luces led</td>\n",
       "      <td>4132</td>\n",
       "      <td>0.21</td>\n",
       "    </tr>\n",
       "    <tr>\n",
       "      <th>644</th>\n",
       "      <td>2024</td>\n",
       "      <td>transitar con gomas lisas</td>\n",
       "      <td>8995</td>\n",
       "      <td>0.46</td>\n",
       "    </tr>\n",
       "    <tr>\n",
       "      <th>645</th>\n",
       "      <td>2024</td>\n",
       "      <td>a. aditamentos en las placas</td>\n",
       "      <td>2936</td>\n",
       "      <td>0.15</td>\n",
       "    </tr>\n",
       "    <tr>\n",
       "      <th>646</th>\n",
       "      <td>2024</td>\n",
       "      <td>obligación a detener la marcha ante el agente</td>\n",
       "      <td>2070</td>\n",
       "      <td>0.11</td>\n",
       "    </tr>\n",
       "  </tbody>\n",
       "</table>\n",
       "<p>647 rows × 4 columns</p>\n",
       "</div>"
      ],
      "text/plain": [
       "     anio                                   infracciones  total  porcentaje\n",
       "0    2018                         transitar sin tablilla    527        0.06\n",
       "1    2018                            exceso de pasajeros   4153        0.51\n",
       "2    2018                  niños en el asiento delantero   2601        0.32\n",
       "3    2018                pasajeros en vehículos de carga  11393        1.40\n",
       "4    2018                     violar señales de tránsito  12044        1.48\n",
       "..    ...                                            ...    ...         ...\n",
       "642  2024                            transitar sin luces  74975        3.85\n",
       "643  2024                        transitar con luces led   4132        0.21\n",
       "644  2024                      transitar con gomas lisas   8995        0.46\n",
       "645  2024                   a. aditamentos en las placas   2936        0.15\n",
       "646  2024  obligación a detener la marcha ante el agente   2070        0.11\n",
       "\n",
       "[647 rows x 4 columns]"
      ]
     },
     "execution_count": 21,
     "metadata": {},
     "output_type": "execute_result"
    }
   ],
   "source": [
    "df_infracciones_2_dirt"
   ]
  },
  {
   "cell_type": "code",
   "execution_count": 22,
   "metadata": {},
   "outputs": [
    {
     "data": {
      "application/vnd.microsoft.datawrangler.viewer.v0+json": {
       "columns": [
        {
         "name": "index",
         "rawType": "int64",
         "type": "integer"
        },
        {
         "name": "anio",
         "rawType": "int64",
         "type": "integer"
        },
        {
         "name": "infracciones",
         "rawType": "object",
         "type": "string"
        },
        {
         "name": "total",
         "rawType": "int64",
         "type": "integer"
        },
        {
         "name": "porcentaje",
         "rawType": "float64",
         "type": "float"
        }
       ],
       "ref": "5778921a-b494-44c7-9e12-eb17e3f22f2c",
       "rows": [
        [
         "427",
         "2022",
         "transitar sin casco",
         "447986",
         "22.11"
        ],
        [
         "359",
         "2022",
         "violar la luz roja",
         "178461",
         "8.81"
        ],
        [
         "399",
         "2022",
         "transitar sin seguro o vencido",
         "176513",
         "8.71"
        ],
        [
         "398",
         "2022",
         "conducir sin licencia y/o vencida",
         "172724",
         "8.52"
        ],
        [
         "435",
         "2022",
         "exceso de velocidad",
         "170879",
         "8.43"
        ],
        [
         "410",
         "2022",
         "transitar sin cinturon",
         "144291",
         "7.12"
        ],
        [
         "402",
         "2022",
         "hablar por celular",
         "72092",
         "3.56"
        ],
        [
         "440",
         "2022",
         "transitar sin luces",
         "59098",
         "2.92"
        ],
        [
         "429",
         "2022",
         "via contraria",
         "58488",
         "2.89"
        ],
        [
         "381",
         "2022",
         "transitar sin placa",
         "53237",
         "2.63"
        ],
        [
         "376",
         "2022",
         "falta o pérdida de medidas de seguridad",
         "51465",
         "2.54"
        ],
        [
         "415",
         "2022",
         "giro prohibido",
         "48219",
         "2.38"
        ],
        [
         "417",
         "2022",
         "estacionarse en lugares prohibidos",
         "45144",
         "2.23"
        ],
        [
         "371",
         "2022",
         "obstruir el transito",
         "42895",
         "2.12"
        ],
        [
         "379",
         "2022",
         "transitar sin matrícula",
         "41373",
         "2.04"
        ],
        [
         "412",
         "2022",
         "tirar desperdicios en la vía pública",
         "31175",
         "1.54"
        ],
        [
         "365",
         "2022",
         "señales o marcas no autorizadas",
         "24931",
         "1.23"
        ],
        [
         "428",
         "2022",
         "transitar por túneles y pasos a desnivel",
         "23030",
         "1.14"
        ],
        [
         "413",
         "2022",
         "tomar o dejar pasajeros en zona prohibida y/o agarrarse de un vehículo en movimiento",
         "20858",
         "1.03"
        ],
        [
         "423",
         "2022",
         "vehículos pesados por el carril izquierdo",
         "19397",
         "0.96"
        ],
        [
         "401",
         "2022",
         "manejo temerario",
         "16666",
         "0.82"
        ],
        [
         "358",
         "2022",
         "pasajeros sobre la carga",
         "16412",
         "0.81"
        ],
        [
         "430",
         "2022",
         "cruzarse en sentidos opuestos",
         "12885",
         "0.64"
        ],
        [
         "441",
         "2022",
         "transitar con luces led",
         "8211",
         "0.41"
        ],
        [
         "349",
         "2022",
         "franjas reflectivas",
         "7393",
         "0.36"
        ],
        [
         "442",
         "2022",
         "transitar con gomas lisas",
         "6716",
         "0.33"
        ],
        [
         "374",
         "2022",
         "uso de las ciclovías",
         "6599",
         "0.33"
        ],
        [
         "386",
         "2022",
         "transitar sin marbete",
         "6396",
         "0.32"
        ],
        [
         "368",
         "2022",
         "conservación de las señales de tránsito",
         "6085",
         "0.3"
        ],
        [
         "357",
         "2022",
         "exceso de carga",
         "4162",
         "0.21"
        ],
        [
         "389",
         "2022",
         "transitar con placa vencida, suspendida o cancelada",
         "4072",
         "0.2"
        ],
        [
         "370",
         "2022",
         "uso de las vías públicas y paseos",
         "3513",
         "0.17"
        ],
        [
         "348",
         "2022",
         "luces de las motocicletas",
         "3132",
         "0.15"
        ],
        [
         "363",
         "2022",
         "señales de tránsito ante intersecciones",
         "2779",
         "0.14"
        ],
        [
         "438",
         "2022",
         "límites máximos de velocidad",
         "2916",
         "0.14"
        ],
        [
         "350",
         "2022",
         "luces que indiquen el largo total del vehículo",
         "2594",
         "0.13"
        ],
        [
         "443",
         "2022",
         "a. aditamentos en las placas",
         "2590",
         "0.13"
        ],
        [
         "353",
         "2022",
         "niños menores de 12 años en asiento trasero, sin cinturón o sin asiento especial",
         "2474",
         "0.12"
        ],
        [
         "393",
         "2022",
         "requisitos de equipamiento",
         "2435",
         "0.12"
        ],
        [
         "444",
         "2022",
         "obligación a detener la marcha ante el agente",
         "2204",
         "0.11"
        ],
        [
         "426",
         "2022",
         "conducción entre carriles",
         "1945",
         "0.1"
        ],
        [
         "351",
         "2022",
         "exceso de pasajeros",
         "1879",
         "0.09"
        ],
        [
         "383",
         "2022",
         "placas mutiladas, alteradas o fotocopiadas",
         "1399",
         "0.07"
        ],
        [
         "424",
         "2022",
         "alcanzar y pasar por la izquierda",
         "1407",
         "0.07"
        ],
        [
         "362",
         "2022",
         "zonas y horarios de circulación de cargas",
         "1120",
         "0.06"
        ],
        [
         "400",
         "2022",
         "circulación de los peatones",
         "1233",
         "0.06"
        ],
        [
         "366",
         "2022",
         "transitar sin revista de inspección técnica",
         "936",
         "0.05"
        ],
        [
         "354",
         "2022",
         "niños menores de 8 años en motocicletas",
         "801",
         "0.04"
        ],
        [
         "360",
         "2022",
         "semáforo para peatones",
         "743",
         "0.04"
        ],
        [
         "409",
         "2022",
         "deslizamiento en neutro por cuestas",
         "582",
         "0.03"
        ]
       ],
       "shape": {
        "columns": 4,
        "rows": 101
       }
      },
      "text/html": [
       "<div>\n",
       "<style scoped>\n",
       "    .dataframe tbody tr th:only-of-type {\n",
       "        vertical-align: middle;\n",
       "    }\n",
       "\n",
       "    .dataframe tbody tr th {\n",
       "        vertical-align: top;\n",
       "    }\n",
       "\n",
       "    .dataframe thead th {\n",
       "        text-align: right;\n",
       "    }\n",
       "</style>\n",
       "<table border=\"1\" class=\"dataframe\">\n",
       "  <thead>\n",
       "    <tr style=\"text-align: right;\">\n",
       "      <th></th>\n",
       "      <th>anio</th>\n",
       "      <th>infracciones</th>\n",
       "      <th>total</th>\n",
       "      <th>porcentaje</th>\n",
       "    </tr>\n",
       "  </thead>\n",
       "  <tbody>\n",
       "    <tr>\n",
       "      <th>427</th>\n",
       "      <td>2022</td>\n",
       "      <td>transitar sin casco</td>\n",
       "      <td>447986</td>\n",
       "      <td>22.11</td>\n",
       "    </tr>\n",
       "    <tr>\n",
       "      <th>359</th>\n",
       "      <td>2022</td>\n",
       "      <td>violar la luz roja</td>\n",
       "      <td>178461</td>\n",
       "      <td>8.81</td>\n",
       "    </tr>\n",
       "    <tr>\n",
       "      <th>399</th>\n",
       "      <td>2022</td>\n",
       "      <td>transitar sin seguro o vencido</td>\n",
       "      <td>176513</td>\n",
       "      <td>8.71</td>\n",
       "    </tr>\n",
       "    <tr>\n",
       "      <th>398</th>\n",
       "      <td>2022</td>\n",
       "      <td>conducir sin licencia y/o vencida</td>\n",
       "      <td>172724</td>\n",
       "      <td>8.52</td>\n",
       "    </tr>\n",
       "    <tr>\n",
       "      <th>435</th>\n",
       "      <td>2022</td>\n",
       "      <td>exceso de velocidad</td>\n",
       "      <td>170879</td>\n",
       "      <td>8.43</td>\n",
       "    </tr>\n",
       "    <tr>\n",
       "      <th>...</th>\n",
       "      <td>...</td>\n",
       "      <td>...</td>\n",
       "      <td>...</td>\n",
       "      <td>...</td>\n",
       "    </tr>\n",
       "    <tr>\n",
       "      <th>419</th>\n",
       "      <td>2022</td>\n",
       "      <td>uso del freno de emergencia</td>\n",
       "      <td>60</td>\n",
       "      <td>0.00</td>\n",
       "    </tr>\n",
       "    <tr>\n",
       "      <th>356</th>\n",
       "      <td>2022</td>\n",
       "      <td>transportar pasajeros en vehículos fúnebres</td>\n",
       "      <td>79</td>\n",
       "      <td>0.00</td>\n",
       "    </tr>\n",
       "    <tr>\n",
       "      <th>392</th>\n",
       "      <td>2022</td>\n",
       "      <td>emisiones contaminantes y conversión de vehícu...</td>\n",
       "      <td>67</td>\n",
       "      <td>0.00</td>\n",
       "    </tr>\n",
       "    <tr>\n",
       "      <th>352</th>\n",
       "      <td>2022</td>\n",
       "      <td>capacidad de asientos</td>\n",
       "      <td>60</td>\n",
       "      <td>0.00</td>\n",
       "    </tr>\n",
       "    <tr>\n",
       "      <th>390</th>\n",
       "      <td>2022</td>\n",
       "      <td>modificar el color consignado en la matrícula</td>\n",
       "      <td>57</td>\n",
       "      <td>0.00</td>\n",
       "    </tr>\n",
       "  </tbody>\n",
       "</table>\n",
       "<p>101 rows × 4 columns</p>\n",
       "</div>"
      ],
      "text/plain": [
       "     anio                                       infracciones   total  \\\n",
       "427  2022                                transitar sin casco  447986   \n",
       "359  2022                                 violar la luz roja  178461   \n",
       "399  2022                     transitar sin seguro o vencido  176513   \n",
       "398  2022                  conducir sin licencia y/o vencida  172724   \n",
       "435  2022                                exceso de velocidad  170879   \n",
       "..    ...                                                ...     ...   \n",
       "419  2022                        uso del freno de emergencia      60   \n",
       "356  2022        transportar pasajeros en vehículos fúnebres      79   \n",
       "392  2022  emisiones contaminantes y conversión de vehícu...      67   \n",
       "352  2022                              capacidad de asientos      60   \n",
       "390  2022      modificar el color consignado en la matrícula      57   \n",
       "\n",
       "     porcentaje  \n",
       "427       22.11  \n",
       "359        8.81  \n",
       "399        8.71  \n",
       "398        8.52  \n",
       "435        8.43  \n",
       "..          ...  \n",
       "419        0.00  \n",
       "356        0.00  \n",
       "392        0.00  \n",
       "352        0.00  \n",
       "390        0.00  \n",
       "\n",
       "[101 rows x 4 columns]"
      ]
     },
     "execution_count": 22,
     "metadata": {},
     "output_type": "execute_result"
    }
   ],
   "source": [
    "df_infracciones_2_dirt[df_infracciones_2_dirt['anio'] == 2022].sort_values(by='porcentaje', ascending=False)"
   ]
  },
  {
   "cell_type": "code",
   "execution_count": 23,
   "metadata": {},
   "outputs": [
    {
     "data": {
      "application/vnd.microsoft.datawrangler.viewer.v0+json": {
       "columns": [
        {
         "name": "index",
         "rawType": "int64",
         "type": "integer"
        },
        {
         "name": "anio",
         "rawType": "int64",
         "type": "integer"
        },
        {
         "name": "infracciones",
         "rawType": "object",
         "type": "string"
        },
        {
         "name": "total",
         "rawType": "int64",
         "type": "integer"
        },
        {
         "name": "porcentaje",
         "rawType": "float64",
         "type": "float"
        }
       ],
       "ref": "e83d247d-7e4e-4589-9e6b-181be24f9e5c",
       "rows": [
        [
         "29",
         "2018",
         "manejo en estado de embriaguez",
         "1358",
         "0.17"
        ],
        [
         "134",
         "2019",
         "conducir en estado de embriaguez",
         "777",
         "0.08"
        ],
        [
         "231",
         "2020",
         "conducir en estado de embriaguez",
         "214",
         "0.03"
        ],
        [
         "332",
         "2021",
         "conducir en estado de embriaguez",
         "212",
         "0.01"
        ],
        [
         "433",
         "2022",
         "conducir en estado de embriaguez",
         "335",
         "0.02"
        ],
        [
         "534",
         "2023",
         "conducir en estado de embriaguez",
         "244",
         "0.02"
        ],
        [
         "635",
         "2024",
         "conducir en estado de embriaguez",
         "285",
         "0.01"
        ]
       ],
       "shape": {
        "columns": 4,
        "rows": 7
       }
      },
      "text/html": [
       "<div>\n",
       "<style scoped>\n",
       "    .dataframe tbody tr th:only-of-type {\n",
       "        vertical-align: middle;\n",
       "    }\n",
       "\n",
       "    .dataframe tbody tr th {\n",
       "        vertical-align: top;\n",
       "    }\n",
       "\n",
       "    .dataframe thead th {\n",
       "        text-align: right;\n",
       "    }\n",
       "</style>\n",
       "<table border=\"1\" class=\"dataframe\">\n",
       "  <thead>\n",
       "    <tr style=\"text-align: right;\">\n",
       "      <th></th>\n",
       "      <th>anio</th>\n",
       "      <th>infracciones</th>\n",
       "      <th>total</th>\n",
       "      <th>porcentaje</th>\n",
       "    </tr>\n",
       "  </thead>\n",
       "  <tbody>\n",
       "    <tr>\n",
       "      <th>29</th>\n",
       "      <td>2018</td>\n",
       "      <td>manejo en estado de embriaguez</td>\n",
       "      <td>1358</td>\n",
       "      <td>0.17</td>\n",
       "    </tr>\n",
       "    <tr>\n",
       "      <th>134</th>\n",
       "      <td>2019</td>\n",
       "      <td>conducir en estado de embriaguez</td>\n",
       "      <td>777</td>\n",
       "      <td>0.08</td>\n",
       "    </tr>\n",
       "    <tr>\n",
       "      <th>231</th>\n",
       "      <td>2020</td>\n",
       "      <td>conducir en estado de embriaguez</td>\n",
       "      <td>214</td>\n",
       "      <td>0.03</td>\n",
       "    </tr>\n",
       "    <tr>\n",
       "      <th>332</th>\n",
       "      <td>2021</td>\n",
       "      <td>conducir en estado de embriaguez</td>\n",
       "      <td>212</td>\n",
       "      <td>0.01</td>\n",
       "    </tr>\n",
       "    <tr>\n",
       "      <th>433</th>\n",
       "      <td>2022</td>\n",
       "      <td>conducir en estado de embriaguez</td>\n",
       "      <td>335</td>\n",
       "      <td>0.02</td>\n",
       "    </tr>\n",
       "    <tr>\n",
       "      <th>534</th>\n",
       "      <td>2023</td>\n",
       "      <td>conducir en estado de embriaguez</td>\n",
       "      <td>244</td>\n",
       "      <td>0.02</td>\n",
       "    </tr>\n",
       "    <tr>\n",
       "      <th>635</th>\n",
       "      <td>2024</td>\n",
       "      <td>conducir en estado de embriaguez</td>\n",
       "      <td>285</td>\n",
       "      <td>0.01</td>\n",
       "    </tr>\n",
       "  </tbody>\n",
       "</table>\n",
       "</div>"
      ],
      "text/plain": [
       "     anio                      infracciones  total  porcentaje\n",
       "29   2018    manejo en estado de embriaguez   1358        0.17\n",
       "134  2019  conducir en estado de embriaguez    777        0.08\n",
       "231  2020  conducir en estado de embriaguez    214        0.03\n",
       "332  2021  conducir en estado de embriaguez    212        0.01\n",
       "433  2022  conducir en estado de embriaguez    335        0.02\n",
       "534  2023  conducir en estado de embriaguez    244        0.02\n",
       "635  2024  conducir en estado de embriaguez    285        0.01"
      ]
     },
     "execution_count": 23,
     "metadata": {},
     "output_type": "execute_result"
    }
   ],
   "source": [
    "# Filtrar filas donde la columna 'infracciones' contiene la palabra 'alcohol' (sin importar mayúsculas o minúsculas)\n",
    "infracciones_alcohol = df_infracciones_2_dirt[df_infracciones_2_dirt['infracciones'].str.contains('embriaguez', case=False, na=False)]\n",
    "\n",
    "# Mostrar el resultado\n",
    "infracciones_alcohol"
   ]
  }
 ],
 "metadata": {
  "kernelspec": {
   "display_name": "Python 3",
   "language": "python",
   "name": "python3"
  },
  "language_info": {
   "codemirror_mode": {
    "name": "ipython",
    "version": 3
   },
   "file_extension": ".py",
   "mimetype": "text/x-python",
   "name": "python",
   "nbconvert_exporter": "python",
   "pygments_lexer": "ipython3",
   "version": "3.11.9"
  }
 },
 "nbformat": 4,
 "nbformat_minor": 2
}
