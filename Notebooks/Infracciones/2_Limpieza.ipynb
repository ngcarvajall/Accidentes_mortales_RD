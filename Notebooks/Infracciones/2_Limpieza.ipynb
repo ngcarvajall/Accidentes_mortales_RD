{
 "cells": [
  {
   "cell_type": "markdown",
   "metadata": {},
   "source": [
    "# Notebook #2: Limpieza: limpieza y transformación de los datos"
   ]
  },
  {
   "cell_type": "code",
   "execution_count": 1,
   "metadata": {},
   "outputs": [],
   "source": [
    "%load_ext autoreload\n",
    "%autoreload 2\n",
    "\n",
    "import sys\n",
    "sys.path.append('../../src')\n",
    "import funciones as f\n",
    "import soporte_prep as sp\n",
    "\n",
    "import pandas as pd\n",
    "import numpy as np\n",
    "\n",
    "import warnings\n",
    "warnings.filterwarnings('ignore')\n",
    "pd.options.display.float_format = '{:.2f}'.format\n",
    "pd.set_option('display.max_columns', None)"
   ]
  },
  {
   "cell_type": "code",
   "execution_count": 2,
   "metadata": {},
   "outputs": [],
   "source": [
    "df_infracciones_1 = pd.read_excel(\"C:\\\\Users\\\\DELL\\\\Downloads\\\\Infracciones de Tránsito, DIGESETT, 2010 - 2017.xlsx\")\n",
    "df_infracciones_2 = pd.read_excel(\"C:\\\\Users\\\\DELL\\\\Downloads\\\\Infracciones de Tránsito, DIGESETT, 2018 - 2024.xlsx\")"
   ]
  },
  {
   "cell_type": "code",
   "execution_count": null,
   "metadata": {},
   "outputs": [],
   "source": [
    "df_infracciones_1.columns = ['infracciones', 'total', 'anio']\n",
    "df_infracciones_2.columns = df_infracciones_2.columns.str.lower() #pongo los nombres en minúsculas\n",
    "df_infracciones_2.rename(columns={'año':'anio'}, inplace=True)"
   ]
  },
  {
   "cell_type": "code",
   "execution_count": 10,
   "metadata": {},
   "outputs": [],
   "source": [
    "df_infracciones_2['total'] = df_infracciones_2.iloc[:,1:13].sum(axis=1) # creo la columna de total"
   ]
  },
  {
   "cell_type": "code",
   "execution_count": 11,
   "metadata": {},
   "outputs": [],
   "source": [
    "df_infracciones_2.reset_index(drop=True, inplace=True)"
   ]
  },
  {
   "cell_type": "code",
   "execution_count": null,
   "metadata": {},
   "outputs": [],
   "source": [
    "df_infracciones_2.columns = df_infracciones_2.columns.str.strip() # quito posibles espacios no vistos"
   ]
  },
  {
   "cell_type": "code",
   "execution_count": 27,
   "metadata": {},
   "outputs": [],
   "source": [
    "df_infracciones_1['infracciones'] = df_infracciones_1['infracciones'].replace({\n",
    "    'TRANSITAR EN VIA CONTRARIA': 'VIA CONTRARIA'\n",
    "})"
   ]
  },
  {
   "cell_type": "code",
   "execution_count": null,
   "metadata": {},
   "outputs": [],
   "source": [
    "# Calculo el porcentaje dentro de cada año usando transform\n",
    "df_infracciones_1['porcentaje'] = df_infracciones_1.groupby('anio')['total'].transform(lambda x: (x / x.sum()) * 100)"
   ]
  },
  {
   "cell_type": "code",
   "execution_count": 29,
   "metadata": {},
   "outputs": [],
   "source": [
    "df_infracciones_1['infracciones'] = df_infracciones_1['infracciones'].str.strip()\n",
    "df_infracciones_1['infracciones'] = df_infracciones_1['infracciones'].str.lower()"
   ]
  },
  {
   "cell_type": "code",
   "execution_count": 30,
   "metadata": {},
   "outputs": [],
   "source": [
    "df_infracciones_1= df_infracciones_1[['anio', 'infracciones', 'total', 'porcentaje']]"
   ]
  },
  {
   "cell_type": "code",
   "execution_count": 31,
   "metadata": {},
   "outputs": [],
   "source": [
    "df_infracciones_1['infracciones'] = df_infracciones_1['infracciones'].replace({\n",
    "    'estacionarse en lugares prohibido': 'estacionarse en lugares prohibidos'})"
   ]
  },
  {
   "cell_type": "code",
   "execution_count": 32,
   "metadata": {},
   "outputs": [],
   "source": [
    "df_infracciones_1['infracciones'] = df_infracciones_1['infracciones'].replace({\n",
    "    'licencia vencida': 'conducir sin licencia y/o vencida', \n",
    "    'conducir sin licencia': 'conducir sin licencia y/o vencida'})"
   ]
  },
  {
   "cell_type": "code",
   "execution_count": null,
   "metadata": {},
   "outputs": [],
   "source": [
    "# calculo el porcentaje dentro de cada año usando transform\n",
    "df_infracciones_2['porcentaje'] = df_infracciones_2.groupby('anio')['total'].transform(lambda x: (x / x.sum()) * 100)\n",
    "\n",
    "# Filtro para quedarme con los valores totales a nivel anual\n",
    "df_infracciones_2 = df_infracciones_2[['anio', 'infracciones', 'total', 'porcentaje']]"
   ]
  },
  {
   "cell_type": "code",
   "execution_count": null,
   "metadata": {},
   "outputs": [],
   "source": [
    "# Quito posibles elementos que no me permitan trabajar la columna correctamente\n",
    "df_infracciones_2['infracciones'] = df_infracciones_2['infracciones'].str.replace(\n",
    "    r'^\\d+\\.?\\s*|\\(.*?\\)', '', regex=True\n",
    ").str.strip()"
   ]
  },
  {
   "cell_type": "code",
   "execution_count": null,
   "metadata": {},
   "outputs": [],
   "source": [
    "df_infracciones_2['porcentaje'] = df_infracciones_2['porcentaje'].round(2)\n",
    "df_infracciones_2['infracciones']=df_infracciones_2['infracciones'].str.replace('-', '')\n",
    "df_infracciones_2['infracciones'] = df_infracciones_2['infracciones'].str.lower()"
   ]
  },
  {
   "cell_type": "code",
   "execution_count": null,
   "metadata": {},
   "outputs": [],
   "source": [
    "mapeo_multiple = {\n",
    "    # Estacionarse en lugares prohibidos\n",
    "    'estacionarse en lugar prohibido': 'estacionarse en lugares prohibidos',\n",
    "    'estacionarse en lugares prohibido': 'estacionarse en lugares prohibidos',\n",
    "    'estacionarse en lugares prohibidos': 'estacionarse en lugares prohibidos',\n",
    "    \n",
    "    # Obstruir el tránsito\n",
    "    'parar en la intersecciones / obstruir el tránsito': 'obstruir el transito',\n",
    "    'obstruir el tránsito': 'obstruir el transito',\n",
    "    \n",
    "    # Conducir sin licencia y/o vencida\n",
    "    'transitar sin licencia y/o vencida': 'conducir sin licencia y/o vencida',\n",
    "    'transitar sin permiso': 'conducir sin licencia y/o vencida',\n",
    "    'conducir sin licencia': 'conducir sin licencia y/o vencida',\n",
    "    'licencia vencida': 'conducir sin licencia y/o vencida',\n",
    "    'transitar sin licencia o vencida': 'conducir sin licencia y/o vencida',\n",
    "    \n",
    "    # Vía contraria\n",
    "    'transitar en vía contraria': 'via contraria',\n",
    "    'vía contraria': 'via contraria',\n",
    "    \n",
    "    # Hablar por celular\n",
    "    'uso de celular o dispositivos electrónicos': 'hablar por celular',\n",
    "    'uso del celular o dispositivos electrónicos  art. 221)': 'hablar por celular',\n",
    "    \n",
    "    # Transitar sin cinturón\n",
    "    'transitar sin cinturón': 'transitar sin cinturon',\n",
    "    'no uso del cinturón de seguridad': 'transitar sin cinturon',\n",
    "    \n",
    "    # Transitar sin casco\n",
    "    'transitar sin casco protector': 'transitar sin casco',\n",
    "    'no uso del casco protector': 'transitar sin casco',\n",
    "    \n",
    "    # Violar la luz roja\n",
    "    'violar luz roja': 'violar la luz roja',\n",
    "    'respeto a las señales del semáforo': 'violar la luz roja',\n",
    "    \n",
    "    # Giro prohibido\n",
    "    'realizar giro prohibido': 'giro prohibido'\n",
    "}"
   ]
  },
  {
   "cell_type": "code",
   "execution_count": null,
   "metadata": {},
   "outputs": [],
   "source": [
    "# Quito espacios y mapeo la columna para reemplazar esos valores a su categoría correspondiente\n",
    "df_infracciones_2['infracciones'] = df_infracciones_2['infracciones'].str.strip()\n",
    "df_infracciones_2 = f.reemplazar_valores(\n",
    "    dataframe=df_infracciones_2, \n",
    "    columna='infracciones', \n",
    "    mapeo=mapeo_multiple\n",
    ")"
   ]
  },
  {
   "cell_type": "code",
   "execution_count": null,
   "metadata": {},
   "outputs": [],
   "source": [
    "infracciones_validas = ['violar la luz roja', 'transitar sin casco',\n",
    "       'transitar sin cinturon', 'hablar por celular', 'via contraria',\n",
    "       'conducir sin licencia y/o vencida',\n",
    "       'obstruir el transito', 'estacionarse en lugares prohibidos',\n",
    "       'giro prohibido']\n",
    "\n",
    "# Convertir todas las infracciones que no están en la lista de infracciones válidas a 'otros'\n",
    "df_infracciones_2['infracciones'] = df_infracciones_2['infracciones'].apply(\n",
    "    lambda x: x if x in infracciones_validas else 'otros'\n",
    ")"
   ]
  },
  {
   "cell_type": "code",
   "execution_count": 41,
   "metadata": {},
   "outputs": [],
   "source": [
    "df_infracciones_1.to_csv('../../Datos/infracciones/df_infracciones_1.csv')\n",
    "df_infracciones_2.to_csv('../../Datos/infracciones/df_infracciones_2.csv')"
   ]
  }
 ],
 "metadata": {
  "kernelspec": {
   "display_name": "Python 3",
   "language": "python",
   "name": "python3"
  },
  "language_info": {
   "codemirror_mode": {
    "name": "ipython",
    "version": 3
   },
   "file_extension": ".py",
   "mimetype": "text/x-python",
   "name": "python",
   "nbconvert_exporter": "python",
   "pygments_lexer": "ipython3",
   "version": "3.11.9"
  }
 },
 "nbformat": 4,
 "nbformat_minor": 2
}
