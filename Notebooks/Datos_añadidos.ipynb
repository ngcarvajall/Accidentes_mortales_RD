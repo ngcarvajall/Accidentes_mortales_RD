{
 "cells": [
  {
   "cell_type": "code",
   "execution_count": 144,
   "metadata": {},
   "outputs": [
    {
     "name": "stdout",
     "output_type": "stream",
     "text": [
      "The autoreload extension is already loaded. To reload it, use:\n",
      "  %reload_ext autoreload\n"
     ]
    }
   ],
   "source": [
    "# Importamos las librerías que necesitamos\n",
    "\n",
    "# Librerías de extracción de datos\n",
    "# -----------------------------------------------------------------------\n",
    "\n",
    "%load_ext autoreload\n",
    "%autoreload 2\n",
    "\n",
    "# Visualizaciones\n",
    "# -----------------------------------------------------------------------\n",
    "import seaborn as sns\n",
    "import matplotlib.pyplot as plt\n",
    "import plotly_express as px\n",
    "\n",
    "import sys\n",
    "sys.path.append('../')\n",
    "from src import funciones as f\n",
    "from src import soporte_prep as sp\n",
    "\n",
    "import pandas as pd\n",
    "import numpy as np\n",
    "\n",
    "\n",
    "import warnings\n",
    "warnings.filterwarnings('ignore')\n",
    "pd.options.display.float_format = '{:.2f}'.format\n",
    "pd.set_option('display.max_columns', None)"
   ]
  },
  {
   "cell_type": "markdown",
   "metadata": {},
   "source": [
    "## Parque Vehicular España"
   ]
  },
  {
   "cell_type": "code",
   "execution_count": 145,
   "metadata": {},
   "outputs": [],
   "source": [
    "df_parque_vehicular_es = pd.read_excel(\"C:\\\\Users\\\\DELL\\\\Downloads\\\\Parque-de-vehiculos-Series-historicas-2023.xlsx\", sheet_name='parque_ciclomotores', skiprows=2)"
   ]
  },
  {
   "cell_type": "code",
   "execution_count": 146,
   "metadata": {},
   "outputs": [],
   "source": [
    "df_parque_vehicular_es.columns = ['anio', 'camiones_furgonetas', 'autobuses', 'turismos', 'motocicletas', 'tractores', 'remolques', 'otros', 'ciclomotores', 'total']"
   ]
  },
  {
   "cell_type": "code",
   "execution_count": 147,
   "metadata": {},
   "outputs": [],
   "source": [
    "df_parque_vehicular_es.to_csv('../Datos/datos_plus/parque_vehicular_esp.csv')"
   ]
  },
  {
   "cell_type": "code",
   "execution_count": 272,
   "metadata": {},
   "outputs": [
    {
     "data": {
      "text/html": [
       "<div>\n",
       "<style scoped>\n",
       "    .dataframe tbody tr th:only-of-type {\n",
       "        vertical-align: middle;\n",
       "    }\n",
       "\n",
       "    .dataframe tbody tr th {\n",
       "        vertical-align: top;\n",
       "    }\n",
       "\n",
       "    .dataframe thead th {\n",
       "        text-align: right;\n",
       "    }\n",
       "</style>\n",
       "<table border=\"1\" class=\"dataframe\">\n",
       "  <thead>\n",
       "    <tr style=\"text-align: right;\">\n",
       "      <th></th>\n",
       "      <th>anio</th>\n",
       "      <th>camiones_furgonetas</th>\n",
       "      <th>autobuses</th>\n",
       "      <th>turismos</th>\n",
       "      <th>motocicletas</th>\n",
       "      <th>tractores</th>\n",
       "      <th>remolques</th>\n",
       "      <th>otros</th>\n",
       "      <th>ciclomotores</th>\n",
       "      <th>total</th>\n",
       "    </tr>\n",
       "  </thead>\n",
       "  <tbody>\n",
       "    <tr>\n",
       "      <th>17</th>\n",
       "      <td>2019</td>\n",
       "      <td>5015973</td>\n",
       "      <td>65470</td>\n",
       "      <td>24558126</td>\n",
       "      <td>3607226</td>\n",
       "      <td>232680</td>\n",
       "      <td>487823</td>\n",
       "      <td>467493</td>\n",
       "      <td>1908492</td>\n",
       "      <td>36343283</td>\n",
       "    </tr>\n",
       "    <tr>\n",
       "      <th>18</th>\n",
       "      <td>2020</td>\n",
       "      <td>5030927</td>\n",
       "      <td>63387</td>\n",
       "      <td>24716898</td>\n",
       "      <td>3735920</td>\n",
       "      <td>235511</td>\n",
       "      <td>498492</td>\n",
       "      <td>484068</td>\n",
       "      <td>1891754</td>\n",
       "      <td>36656957</td>\n",
       "    </tr>\n",
       "    <tr>\n",
       "      <th>19</th>\n",
       "      <td>2021</td>\n",
       "      <td>5050416</td>\n",
       "      <td>64447</td>\n",
       "      <td>24940969</td>\n",
       "      <td>3866220</td>\n",
       "      <td>238456</td>\n",
       "      <td>512500</td>\n",
       "      <td>505800</td>\n",
       "      <td>1868056</td>\n",
       "      <td>37046864</td>\n",
       "    </tr>\n",
       "    <tr>\n",
       "      <th>20</th>\n",
       "      <td>2022</td>\n",
       "      <td>5075068</td>\n",
       "      <td>65377</td>\n",
       "      <td>25222554</td>\n",
       "      <td>4006804</td>\n",
       "      <td>245075</td>\n",
       "      <td>526546</td>\n",
       "      <td>527019</td>\n",
       "      <td>1842501</td>\n",
       "      <td>37510944</td>\n",
       "    </tr>\n",
       "    <tr>\n",
       "      <th>21</th>\n",
       "      <td>2023</td>\n",
       "      <td>5148231</td>\n",
       "      <td>66638</td>\n",
       "      <td>25356594</td>\n",
       "      <td>4162850</td>\n",
       "      <td>253334</td>\n",
       "      <td>540907</td>\n",
       "      <td>546684</td>\n",
       "      <td>1815623</td>\n",
       "      <td>37890861</td>\n",
       "    </tr>\n",
       "  </tbody>\n",
       "</table>\n",
       "</div>"
      ],
      "text/plain": [
       "    anio  camiones_furgonetas  autobuses  turismos  motocicletas  tractores  \\\n",
       "17  2019              5015973      65470  24558126       3607226     232680   \n",
       "18  2020              5030927      63387  24716898       3735920     235511   \n",
       "19  2021              5050416      64447  24940969       3866220     238456   \n",
       "20  2022              5075068      65377  25222554       4006804     245075   \n",
       "21  2023              5148231      66638  25356594       4162850     253334   \n",
       "\n",
       "    remolques   otros  ciclomotores     total  \n",
       "17     487823  467493       1908492  36343283  \n",
       "18     498492  484068       1891754  36656957  \n",
       "19     512500  505800       1868056  37046864  \n",
       "20     526546  527019       1842501  37510944  \n",
       "21     540907  546684       1815623  37890861  "
      ]
     },
     "execution_count": 272,
     "metadata": {},
     "output_type": "execute_result"
    }
   ],
   "source": [
    "df_parque_vehicular_es.tail()"
   ]
  },
  {
   "cell_type": "code",
   "execution_count": null,
   "metadata": {},
   "outputs": [
    {
     "data": {
      "image/png": "[encoded data removed]",
      "text/plain": [
       "<Figure size 1200x600 with 1 Axes>"
      ]
     },
     "metadata": {},
     "output_type": "display_data"
    }
   ],
   "source": [
    "# Configuración general de estilo\n",
    "sns.set_theme(style=\"whitegrid\")\n",
    "\n",
    "# Crear la visualización\n",
    "plt.figure(figsize=(12, 6))  # Ajustar el tamaño de la figura\n",
    "sns.lineplot(x='anio', y='total', data=df_parque_vehicular_es, color=\"blue\", marker=\"o\", linewidth=2.5)\n",
    "\n",
    "# Títulos y etiquetas\n",
    "plt.title(\"Evolución del Parque Vehicular (Año vs Total)\", fontsize=16, fontweight='bold')\n",
    "plt.xlabel(\"Año\", fontsize=14)\n",
    "plt.ylabel(\"Total de Vehículos\", fontsize=14)\n",
    "\n",
    "# Personalización de ejes\n",
    "plt.xticks(fontsize=12, rotation=45)  # Girar etiquetas en el eje X si es necesario\n",
    "plt.yticks(fontsize=12)\n",
    "\n",
    "# Líneas de cuadrícula ajustadas\n",
    "plt.grid(visible=True, linestyle=\"--\", alpha=0.7)\n",
    "\n",
    "# Mostrar gráfico\n",
    "plt.tight_layout()\n",
    "plt.show()\n"
   ]
  },
  {
   "cell_type": "markdown",
   "metadata": {},
   "source": [
    "## Defunciones España"
   ]
  },
  {
   "cell_type": "code",
   "execution_count": 148,
   "metadata": {},
   "outputs": [],
   "source": [
    "df_defunciones_es = pd.read_csv(\"C:\\\\Users\\\\DELL\\\\Downloads\\\\muertes_transito_espana.csv\", sep=';')"
   ]
  },
  {
   "cell_type": "code",
   "execution_count": 180,
   "metadata": {},
   "outputs": [],
   "source": [
    "df_defunciones_es.columns = ['anio', 'fallecidos']"
   ]
  },
  {
   "cell_type": "code",
   "execution_count": 181,
   "metadata": {},
   "outputs": [],
   "source": [
    "df_defunciones_es.to_csv('../Datos/datos_plus/defunciones_esp.csv')"
   ]
  },
  {
   "cell_type": "code",
   "execution_count": 270,
   "metadata": {},
   "outputs": [
    {
     "data": {
      "text/html": [
       "<div>\n",
       "<style scoped>\n",
       "    .dataframe tbody tr th:only-of-type {\n",
       "        vertical-align: middle;\n",
       "    }\n",
       "\n",
       "    .dataframe tbody tr th {\n",
       "        vertical-align: top;\n",
       "    }\n",
       "\n",
       "    .dataframe thead th {\n",
       "        text-align: right;\n",
       "    }\n",
       "</style>\n",
       "<table border=\"1\" class=\"dataframe\">\n",
       "  <thead>\n",
       "    <tr style=\"text-align: right;\">\n",
       "      <th></th>\n",
       "      <th>anio</th>\n",
       "      <th>fallecidos</th>\n",
       "    </tr>\n",
       "  </thead>\n",
       "  <tbody>\n",
       "    <tr>\n",
       "      <th>0</th>\n",
       "      <td>2000</td>\n",
       "      <td>5776</td>\n",
       "    </tr>\n",
       "    <tr>\n",
       "      <th>1</th>\n",
       "      <td>2001</td>\n",
       "      <td>5517</td>\n",
       "    </tr>\n",
       "    <tr>\n",
       "      <th>2</th>\n",
       "      <td>2002</td>\n",
       "      <td>5347</td>\n",
       "    </tr>\n",
       "    <tr>\n",
       "      <th>3</th>\n",
       "      <td>2003</td>\n",
       "      <td>5399</td>\n",
       "    </tr>\n",
       "    <tr>\n",
       "      <th>4</th>\n",
       "      <td>2004</td>\n",
       "      <td>4741</td>\n",
       "    </tr>\n",
       "    <tr>\n",
       "      <th>5</th>\n",
       "      <td>2005</td>\n",
       "      <td>4442</td>\n",
       "    </tr>\n",
       "    <tr>\n",
       "      <th>6</th>\n",
       "      <td>2006</td>\n",
       "      <td>4104</td>\n",
       "    </tr>\n",
       "    <tr>\n",
       "      <th>7</th>\n",
       "      <td>2007</td>\n",
       "      <td>3823</td>\n",
       "    </tr>\n",
       "    <tr>\n",
       "      <th>8</th>\n",
       "      <td>2008</td>\n",
       "      <td>3100</td>\n",
       "    </tr>\n",
       "    <tr>\n",
       "      <th>9</th>\n",
       "      <td>2009</td>\n",
       "      <td>2714</td>\n",
       "    </tr>\n",
       "    <tr>\n",
       "      <th>10</th>\n",
       "      <td>2010</td>\n",
       "      <td>2478</td>\n",
       "    </tr>\n",
       "    <tr>\n",
       "      <th>11</th>\n",
       "      <td>2011</td>\n",
       "      <td>2060</td>\n",
       "    </tr>\n",
       "    <tr>\n",
       "      <th>12</th>\n",
       "      <td>2012</td>\n",
       "      <td>1903</td>\n",
       "    </tr>\n",
       "    <tr>\n",
       "      <th>13</th>\n",
       "      <td>2013</td>\n",
       "      <td>1680</td>\n",
       "    </tr>\n",
       "    <tr>\n",
       "      <th>14</th>\n",
       "      <td>2014</td>\n",
       "      <td>1688</td>\n",
       "    </tr>\n",
       "    <tr>\n",
       "      <th>15</th>\n",
       "      <td>2015</td>\n",
       "      <td>1689</td>\n",
       "    </tr>\n",
       "    <tr>\n",
       "      <th>16</th>\n",
       "      <td>2016</td>\n",
       "      <td>1810</td>\n",
       "    </tr>\n",
       "    <tr>\n",
       "      <th>17</th>\n",
       "      <td>2017</td>\n",
       "      <td>1830</td>\n",
       "    </tr>\n",
       "    <tr>\n",
       "      <th>18</th>\n",
       "      <td>2018</td>\n",
       "      <td>1806</td>\n",
       "    </tr>\n",
       "    <tr>\n",
       "      <th>19</th>\n",
       "      <td>2019</td>\n",
       "      <td>1755</td>\n",
       "    </tr>\n",
       "    <tr>\n",
       "      <th>20</th>\n",
       "      <td>2020</td>\n",
       "      <td>1370</td>\n",
       "    </tr>\n",
       "    <tr>\n",
       "      <th>21</th>\n",
       "      <td>2021</td>\n",
       "      <td>1533</td>\n",
       "    </tr>\n",
       "    <tr>\n",
       "      <th>22</th>\n",
       "      <td>2022</td>\n",
       "      <td>1746</td>\n",
       "    </tr>\n",
       "    <tr>\n",
       "      <th>23</th>\n",
       "      <td>2023</td>\n",
       "      <td>1806</td>\n",
       "    </tr>\n",
       "  </tbody>\n",
       "</table>\n",
       "</div>"
      ],
      "text/plain": [
       "    anio  fallecidos\n",
       "0   2000        5776\n",
       "1   2001        5517\n",
       "2   2002        5347\n",
       "3   2003        5399\n",
       "4   2004        4741\n",
       "5   2005        4442\n",
       "6   2006        4104\n",
       "7   2007        3823\n",
       "8   2008        3100\n",
       "9   2009        2714\n",
       "10  2010        2478\n",
       "11  2011        2060\n",
       "12  2012        1903\n",
       "13  2013        1680\n",
       "14  2014        1688\n",
       "15  2015        1689\n",
       "16  2016        1810\n",
       "17  2017        1830\n",
       "18  2018        1806\n",
       "19  2019        1755\n",
       "20  2020        1370\n",
       "21  2021        1533\n",
       "22  2022        1746\n",
       "23  2023        1806"
      ]
     },
     "execution_count": 270,
     "metadata": {},
     "output_type": "execute_result"
    }
   ],
   "source": [
    "df_defunciones_es"
   ]
  },
  {
   "cell_type": "code",
   "execution_count": 269,
   "metadata": {},
   "outputs": [
    {
     "data": {
      "image/png": "[encoded data removed]",
      "text/plain": [
       "<Figure size 1200x600 with 1 Axes>"
      ]
     },
     "metadata": {},
     "output_type": "display_data"
    }
   ],
   "source": [
    "# Configuración general de estilo\n",
    "sns.set_theme(style=\"whitegrid\")\n",
    "\n",
    "# Crear la visualización\n",
    "plt.figure(figsize=(12, 6))  # Ajustar el tamaño de la figura\n",
    "sns.lineplot(x='anio', y='fallecidos', data=df_defunciones_es, color=\"red\", marker=\"o\", linewidth=2.5)\n",
    "\n",
    "# Títulos y etiquetas\n",
    "plt.title(\"Evolución de las defunciones\", fontsize=16, fontweight='bold')\n",
    "plt.xlabel(\"Año\", fontsize=14)\n",
    "plt.ylabel(\"Defunciones\", fontsize=14)\n",
    "\n",
    "# Personalización de ejes\n",
    "plt.xticks(fontsize=12, rotation=45)  # Girar etiquetas en el eje X si es necesario\n",
    "plt.yticks(fontsize=12)\n",
    "\n",
    "# Líneas de cuadrícula ajustadas\n",
    "plt.grid(visible=True, linestyle=\"--\", alpha=0.7)\n",
    "\n",
    "# Mostrar gráfico\n",
    "plt.tight_layout()\n",
    "plt.show()\n"
   ]
  },
  {
   "cell_type": "markdown",
   "metadata": {},
   "source": [
    "## Parque vehicular RD - Antiguedad"
   ]
  },
  {
   "cell_type": "code",
   "execution_count": 316,
   "metadata": {},
   "outputs": [],
   "source": [
    "df_pvehicular_antiguo_rd = pd.read_excel('C:\\\\Users\\\\DELL\\\\Downloads\\\\ParqueVehicular2023\\\\ParqueVehicular2023.xlsx', sheet_name='2.9', skiprows=9, index_col=0)"
   ]
  },
  {
   "cell_type": "code",
   "execution_count": 317,
   "metadata": {},
   "outputs": [
    {
     "data": {
      "text/html": [
       "<div>\n",
       "<style scoped>\n",
       "    .dataframe tbody tr th:only-of-type {\n",
       "        vertical-align: middle;\n",
       "    }\n",
       "\n",
       "    .dataframe tbody tr th {\n",
       "        vertical-align: top;\n",
       "    }\n",
       "\n",
       "    .dataframe thead th {\n",
       "        text-align: right;\n",
       "    }\n",
       "</style>\n",
       "<table border=\"1\" class=\"dataframe\">\n",
       "  <thead>\n",
       "    <tr style=\"text-align: right;\">\n",
       "      <th></th>\n",
       "      <th>Año de Fabricación</th>\n",
       "      <th>Tipo de Vehículo</th>\n",
       "      <th>Unnamed: 3</th>\n",
       "      <th>Unnamed: 4</th>\n",
       "      <th>Unnamed: 5</th>\n",
       "      <th>Unnamed: 6</th>\n",
       "      <th>Unnamed: 7</th>\n",
       "      <th>Unnamed: 8</th>\n",
       "      <th>Unnamed: 9</th>\n",
       "      <th>Unnamed: 10</th>\n",
       "      <th>Participación \\n%</th>\n",
       "      <th>Unnamed: 12</th>\n",
       "      <th>Unnamed: 13</th>\n",
       "      <th>Unnamed: 14</th>\n",
       "    </tr>\n",
       "  </thead>\n",
       "  <tbody>\n",
       "    <tr>\n",
       "      <th>NaN</th>\n",
       "      <td>NaN</td>\n",
       "      <td>Motocicletas</td>\n",
       "      <td>Automóviles</td>\n",
       "      <td>Jeeps</td>\n",
       "      <td>Carga</td>\n",
       "      <td>Autobuses</td>\n",
       "      <td>Máquinas Pesadas</td>\n",
       "      <td>Volteo</td>\n",
       "      <td>Otros</td>\n",
       "      <td>Total</td>\n",
       "      <td>NaN</td>\n",
       "      <td>NaN</td>\n",
       "      <td>NaN</td>\n",
       "      <td>NaN</td>\n",
       "    </tr>\n",
       "    <tr>\n",
       "      <th>NaN</th>\n",
       "      <td>2000a/</td>\n",
       "      <td>1169602</td>\n",
       "      <td>543452</td>\n",
       "      <td>92937</td>\n",
       "      <td>252007</td>\n",
       "      <td>54525</td>\n",
       "      <td>14435</td>\n",
       "      <td>13374</td>\n",
       "      <td>15138</td>\n",
       "      <td>2155470</td>\n",
       "      <td>0.37</td>\n",
       "      <td>NaN</td>\n",
       "      <td>NaN</td>\n",
       "      <td>NaN</td>\n",
       "    </tr>\n",
       "    <tr>\n",
       "      <th>NaN</th>\n",
       "      <td>2001</td>\n",
       "      <td>20732</td>\n",
       "      <td>25730</td>\n",
       "      <td>28700</td>\n",
       "      <td>15234</td>\n",
       "      <td>3159</td>\n",
       "      <td>841</td>\n",
       "      <td>743</td>\n",
       "      <td>574</td>\n",
       "      <td>95713</td>\n",
       "      <td>0.02</td>\n",
       "      <td>NaN</td>\n",
       "      <td>NaN</td>\n",
       "      <td>0.89</td>\n",
       "    </tr>\n",
       "    <tr>\n",
       "      <th>NaN</th>\n",
       "      <td>2002</td>\n",
       "      <td>28244</td>\n",
       "      <td>21865</td>\n",
       "      <td>29723</td>\n",
       "      <td>15052</td>\n",
       "      <td>5057</td>\n",
       "      <td>803</td>\n",
       "      <td>881</td>\n",
       "      <td>553</td>\n",
       "      <td>102178</td>\n",
       "      <td>0.02</td>\n",
       "      <td>NaN</td>\n",
       "      <td>NaN</td>\n",
       "      <td>NaN</td>\n",
       "    </tr>\n",
       "    <tr>\n",
       "      <th>NaN</th>\n",
       "      <td>2003</td>\n",
       "      <td>25871</td>\n",
       "      <td>18397</td>\n",
       "      <td>19079</td>\n",
       "      <td>11691</td>\n",
       "      <td>4125</td>\n",
       "      <td>429</td>\n",
       "      <td>792</td>\n",
       "      <td>418</td>\n",
       "      <td>80802</td>\n",
       "      <td>0.01</td>\n",
       "      <td>NaN</td>\n",
       "      <td>NaN</td>\n",
       "      <td>NaN</td>\n",
       "    </tr>\n",
       "  </tbody>\n",
       "</table>\n",
       "</div>"
      ],
      "text/plain": [
       "    Año de Fabricación Tipo de Vehículo   Unnamed: 3 Unnamed: 4 Unnamed: 5  \\\n",
       "NaN                NaN     Motocicletas  Automóviles      Jeeps      Carga   \n",
       "NaN             2000a/          1169602       543452      92937     252007   \n",
       "NaN               2001            20732        25730      28700      15234   \n",
       "NaN               2002            28244        21865      29723      15052   \n",
       "NaN               2003            25871        18397      19079      11691   \n",
       "\n",
       "    Unnamed: 6        Unnamed: 7 Unnamed: 8 Unnamed: 9 Unnamed: 10  \\\n",
       "NaN  Autobuses  Máquinas Pesadas     Volteo      Otros       Total   \n",
       "NaN      54525             14435      13374      15138     2155470   \n",
       "NaN       3159               841        743        574       95713   \n",
       "NaN       5057               803        881        553      102178   \n",
       "NaN       4125               429        792        418       80802   \n",
       "\n",
       "     Participación \\n%  Unnamed: 12  Unnamed: 13  Unnamed: 14  \n",
       "NaN                NaN          NaN          NaN          NaN  \n",
       "NaN               0.37          NaN          NaN          NaN  \n",
       "NaN               0.02          NaN          NaN         0.89  \n",
       "NaN               0.02          NaN          NaN          NaN  \n",
       "NaN               0.01          NaN          NaN          NaN  "
      ]
     },
     "execution_count": 317,
     "metadata": {},
     "output_type": "execute_result"
    }
   ],
   "source": [
    "df_pvehicular_antiguo_rd.head()"
   ]
  },
  {
   "cell_type": "code",
   "execution_count": 318,
   "metadata": {},
   "outputs": [],
   "source": [
    "df_pvehicular_antiguo_rd = df_pvehicular_antiguo_rd.iloc[1:, :11]\n",
    "df_pvehicular_antiguo_rd.columns = ['anio', 'motocicletas', 'automóviles', 'jeeps', 'carga', 'autobuses', 'máquinas_pesadas', 'volteo', 'otros', 'total', 'participacion %']"
   ]
  },
  {
   "cell_type": "code",
   "execution_count": 319,
   "metadata": {},
   "outputs": [],
   "source": [
    "df_pvehicular_antiguo_rd.reset_index(drop=True, inplace=True)\n",
    "df_pvehicular_antiguo_rd = df_pvehicular_antiguo_rd[df_pvehicular_antiguo_rd['motocicletas'].notnull()]\n",
    "df_pvehicular_antiguo_rd['participacion %'] = df_pvehicular_antiguo_rd['participacion %'] * 100"
   ]
  },
  {
   "cell_type": "code",
   "execution_count": 320,
   "metadata": {},
   "outputs": [],
   "source": [
    "df_pvehicular_antiguo_rd['anio'] = df_pvehicular_antiguo_rd['anio'].apply(lambda x: x.replace('a/', '') if 'a/' in str(x) else x)"
   ]
  },
  {
   "cell_type": "code",
   "execution_count": 321,
   "metadata": {},
   "outputs": [
    {
     "data": {
      "text/html": [
       "<div>\n",
       "<style scoped>\n",
       "    .dataframe tbody tr th:only-of-type {\n",
       "        vertical-align: middle;\n",
       "    }\n",
       "\n",
       "    .dataframe tbody tr th {\n",
       "        vertical-align: top;\n",
       "    }\n",
       "\n",
       "    .dataframe thead th {\n",
       "        text-align: right;\n",
       "    }\n",
       "</style>\n",
       "<table border=\"1\" class=\"dataframe\">\n",
       "  <thead>\n",
       "    <tr style=\"text-align: right;\">\n",
       "      <th></th>\n",
       "      <th>anio</th>\n",
       "      <th>motocicletas</th>\n",
       "      <th>automóviles</th>\n",
       "      <th>jeeps</th>\n",
       "      <th>carga</th>\n",
       "      <th>autobuses</th>\n",
       "      <th>máquinas_pesadas</th>\n",
       "      <th>volteo</th>\n",
       "      <th>otros</th>\n",
       "      <th>total</th>\n",
       "      <th>participacion %</th>\n",
       "    </tr>\n",
       "  </thead>\n",
       "  <tbody>\n",
       "    <tr>\n",
       "      <th>0</th>\n",
       "      <td>2000</td>\n",
       "      <td>1169602</td>\n",
       "      <td>543452</td>\n",
       "      <td>92937</td>\n",
       "      <td>252007</td>\n",
       "      <td>54525</td>\n",
       "      <td>14435</td>\n",
       "      <td>13374</td>\n",
       "      <td>15138</td>\n",
       "      <td>2155470</td>\n",
       "      <td>37.09</td>\n",
       "    </tr>\n",
       "    <tr>\n",
       "      <th>15</th>\n",
       "      <td>2015</td>\n",
       "      <td>137948</td>\n",
       "      <td>47087</td>\n",
       "      <td>36744</td>\n",
       "      <td>11163</td>\n",
       "      <td>5980</td>\n",
       "      <td>490</td>\n",
       "      <td>182</td>\n",
       "      <td>365</td>\n",
       "      <td>239959</td>\n",
       "      <td>4.13</td>\n",
       "    </tr>\n",
       "    <tr>\n",
       "      <th>16</th>\n",
       "      <td>2016</td>\n",
       "      <td>124465</td>\n",
       "      <td>48158</td>\n",
       "      <td>44587</td>\n",
       "      <td>13258</td>\n",
       "      <td>5882</td>\n",
       "      <td>592</td>\n",
       "      <td>195</td>\n",
       "      <td>341</td>\n",
       "      <td>237478</td>\n",
       "      <td>4.09</td>\n",
       "    </tr>\n",
       "    <tr>\n",
       "      <th>17</th>\n",
       "      <td>2017</td>\n",
       "      <td>118017</td>\n",
       "      <td>37229</td>\n",
       "      <td>44357</td>\n",
       "      <td>11688</td>\n",
       "      <td>5334</td>\n",
       "      <td>760</td>\n",
       "      <td>366</td>\n",
       "      <td>317</td>\n",
       "      <td>218068</td>\n",
       "      <td>3.75</td>\n",
       "    </tr>\n",
       "    <tr>\n",
       "      <th>14</th>\n",
       "      <td>2014</td>\n",
       "      <td>109288</td>\n",
       "      <td>53738</td>\n",
       "      <td>36209</td>\n",
       "      <td>8872</td>\n",
       "      <td>5545</td>\n",
       "      <td>386</td>\n",
       "      <td>163</td>\n",
       "      <td>244</td>\n",
       "      <td>214445</td>\n",
       "      <td>3.69</td>\n",
       "    </tr>\n",
       "  </tbody>\n",
       "</table>\n",
       "</div>"
      ],
      "text/plain": [
       "    anio motocicletas automóviles  jeeps   carga autobuses máquinas_pesadas  \\\n",
       "0   2000      1169602      543452  92937  252007     54525            14435   \n",
       "15  2015       137948       47087  36744   11163      5980              490   \n",
       "16  2016       124465       48158  44587   13258      5882              592   \n",
       "17  2017       118017       37229  44357   11688      5334              760   \n",
       "14  2014       109288       53738  36209    8872      5545              386   \n",
       "\n",
       "   volteo  otros    total  participacion %  \n",
       "0   13374  15138  2155470            37.09  \n",
       "15    182    365   239959             4.13  \n",
       "16    195    341   237478             4.09  \n",
       "17    366    317   218068             3.75  \n",
       "14    163    244   214445             3.69  "
      ]
     },
     "execution_count": 321,
     "metadata": {},
     "output_type": "execute_result"
    }
   ],
   "source": [
    "df_pvehicular_antiguo_rd.sort_values(by='participacion %', ascending=False)[1:6]"
   ]
  },
  {
   "cell_type": "markdown",
   "metadata": {},
   "source": [
    "Ten pendiente que no cargaste la columna porcentaje"
   ]
  },
  {
   "cell_type": "code",
   "execution_count": 322,
   "metadata": {},
   "outputs": [],
   "source": [
    "df_pvehicular_antiguo_rd = df_pvehicular_antiguo_rd[:-1]"
   ]
  },
  {
   "cell_type": "code",
   "execution_count": 323,
   "metadata": {},
   "outputs": [],
   "source": [
    "df_pvehicular_antiguo_rd_copia = df_pvehicular_antiguo_rd.copy()"
   ]
  },
  {
   "cell_type": "code",
   "execution_count": 324,
   "metadata": {},
   "outputs": [],
   "source": [
    "df_pvehicular_antiguo_rd = df_pvehicular_antiguo_rd.iloc[:,:-1]"
   ]
  },
  {
   "cell_type": "code",
   "execution_count": 325,
   "metadata": {},
   "outputs": [],
   "source": [
    "df_pvehicular_antiguo_rd.to_csv('../Datos/datos_plus/antiguedad_pvehicular.csv')"
   ]
  },
  {
   "cell_type": "code",
   "execution_count": 326,
   "metadata": {},
   "outputs": [],
   "source": [
    "sencillo = df_pvehicular_antiguo_rd_copia[['anio', 'total', 'participacion %']]\n"
   ]
  },
  {
   "cell_type": "code",
   "execution_count": 327,
   "metadata": {},
   "outputs": [],
   "source": [
    "s_col = df_pvehicular_antiguo_rd.columns.tolist()\n",
    "df_pvehicular_antiguo_rd[s_col] = df_pvehicular_antiguo_rd[s_col].astype(float)"
   ]
  },
  {
   "cell_type": "code",
   "execution_count": 328,
   "metadata": {},
   "outputs": [
    {
     "name": "stdout",
     "output_type": "stream",
     "text": [
      "<class 'pandas.core.frame.DataFrame'>\n",
      "Index: 25 entries, 0 to 24\n",
      "Data columns (total 11 columns):\n",
      " #   Column            Non-Null Count  Dtype  \n",
      "---  ------            --------------  -----  \n",
      " 0   anio              25 non-null     float64\n",
      " 1   motocicletas      25 non-null     float64\n",
      " 2   automóviles       25 non-null     float64\n",
      " 3   jeeps             25 non-null     float64\n",
      " 4   carga             25 non-null     float64\n",
      " 5   autobuses         25 non-null     float64\n",
      " 6   máquinas_pesadas  25 non-null     float64\n",
      " 7   volteo            25 non-null     float64\n",
      " 8   otros             25 non-null     float64\n",
      " 9   total             25 non-null     float64\n",
      " 10  participacion %   25 non-null     float64\n",
      "dtypes: float64(11)\n",
      "memory usage: 2.3 KB\n"
     ]
    }
   ],
   "source": [
    "df_pvehicular_antiguo_rd.info()"
   ]
  },
  {
   "cell_type": "code",
   "execution_count": 331,
   "metadata": {},
   "outputs": [
    {
     "data": {
      "text/plain": [
       "45.10591152333344"
      ]
     },
     "execution_count": 331,
     "metadata": {},
     "output_type": "execute_result"
    }
   ],
   "source": [
    "df_pvehicular_antiguo_rd[df_pvehicular_antiguo_rd['anio'].between(2000, 2005)]['participacion %'].sum()"
   ]
  },
  {
   "cell_type": "markdown",
   "metadata": {},
   "source": [
    "## Vehículos por género de su propietario por propietario privado - jurídico"
   ]
  },
  {
   "cell_type": "code",
   "execution_count": 250,
   "metadata": {},
   "outputs": [],
   "source": [
    "df_pveh_genero_pais = pd.read_excel('C:\\\\Users\\\\DELL\\\\Downloads\\\\ParqueVehicular2023\\\\ParqueVehicular2023.xlsx', sheet_name='2.5', skiprows=34, index_col=0)"
   ]
  },
  {
   "cell_type": "code",
   "execution_count": 251,
   "metadata": {},
   "outputs": [],
   "source": [
    "df_pveh_genero_pais = df_pveh_genero_pais.dropna(how='all')"
   ]
  },
  {
   "cell_type": "code",
   "execution_count": 252,
   "metadata": {},
   "outputs": [],
   "source": [
    "df_pveh_genero_pais = df_pveh_genero_pais.iloc[:,1:]"
   ]
  },
  {
   "cell_type": "code",
   "execution_count": 253,
   "metadata": {},
   "outputs": [],
   "source": [
    "df_pveh_genero_pais.reset_index(drop=True, inplace=True)"
   ]
  },
  {
   "cell_type": "code",
   "execution_count": 254,
   "metadata": {},
   "outputs": [],
   "source": [
    "df_pveh_genero_pais['Tipo'] = df_pveh_genero_pais['Tipo'].str.replace(r'\\d+/.*', '', regex=True).str.strip()"
   ]
  },
  {
   "cell_type": "code",
   "execution_count": 255,
   "metadata": {},
   "outputs": [],
   "source": [
    "df_pveh_genero_pais.columns = ['tipo', 'femenino', 'masculino', 'persona_juridica', 'total']"
   ]
  },
  {
   "cell_type": "code",
   "execution_count": 256,
   "metadata": {},
   "outputs": [],
   "source": [
    "columnas_int = df_pveh_genero_pais.columns.tolist()[1:5]"
   ]
  },
  {
   "cell_type": "code",
   "execution_count": 257,
   "metadata": {},
   "outputs": [],
   "source": [
    "df_pveh_genero_pais[columnas_int] = df_pveh_genero_pais[columnas_int].astype(int)"
   ]
  },
  {
   "cell_type": "code",
   "execution_count": 258,
   "metadata": {},
   "outputs": [],
   "source": [
    "df_pveh_genero_pais = df_pveh_genero_pais.T[1:]\n",
    "df_pveh_genero_pais.reset_index(inplace=True)\n",
    "df_pveh_genero_pais.columns = ['propietario','motocicletas', 'automoviles', 'jeep', 'carga', 'autobuses', 'maquinas_pesadas', 'volteo', 'otros', 'total']\n",
    "df_pveh_genero_pais = df_pveh_genero_pais[:-1]"
   ]
  },
  {
   "cell_type": "code",
   "execution_count": 259,
   "metadata": {},
   "outputs": [
    {
     "data": {
      "text/html": [
       "<div>\n",
       "<style scoped>\n",
       "    .dataframe tbody tr th:only-of-type {\n",
       "        vertical-align: middle;\n",
       "    }\n",
       "\n",
       "    .dataframe tbody tr th {\n",
       "        vertical-align: top;\n",
       "    }\n",
       "\n",
       "    .dataframe thead th {\n",
       "        text-align: right;\n",
       "    }\n",
       "</style>\n",
       "<table border=\"1\" class=\"dataframe\">\n",
       "  <thead>\n",
       "    <tr style=\"text-align: right;\">\n",
       "      <th></th>\n",
       "      <th>propietario</th>\n",
       "      <th>motocicletas</th>\n",
       "      <th>automoviles</th>\n",
       "      <th>jeep</th>\n",
       "      <th>carga</th>\n",
       "      <th>autobuses</th>\n",
       "      <th>maquinas_pesadas</th>\n",
       "      <th>volteo</th>\n",
       "      <th>otros</th>\n",
       "      <th>total</th>\n",
       "    </tr>\n",
       "  </thead>\n",
       "  <tbody>\n",
       "    <tr>\n",
       "      <th>0</th>\n",
       "      <td>femenino</td>\n",
       "      <td>409307</td>\n",
       "      <td>302093</td>\n",
       "      <td>226092</td>\n",
       "      <td>40883</td>\n",
       "      <td>18414</td>\n",
       "      <td>1236</td>\n",
       "      <td>1746</td>\n",
       "      <td>959</td>\n",
       "      <td>1000734</td>\n",
       "    </tr>\n",
       "    <tr>\n",
       "      <th>1</th>\n",
       "      <td>masculino</td>\n",
       "      <td>1831819</td>\n",
       "      <td>693906</td>\n",
       "      <td>392251</td>\n",
       "      <td>297969</td>\n",
       "      <td>75255</td>\n",
       "      <td>10588</td>\n",
       "      <td>12703</td>\n",
       "      <td>7764</td>\n",
       "      <td>3322258</td>\n",
       "    </tr>\n",
       "    <tr>\n",
       "      <th>2</th>\n",
       "      <td>persona_juridica</td>\n",
       "      <td>1039891</td>\n",
       "      <td>126335</td>\n",
       "      <td>60125</td>\n",
       "      <td>182425</td>\n",
       "      <td>37021</td>\n",
       "      <td>15757</td>\n",
       "      <td>11095</td>\n",
       "      <td>15244</td>\n",
       "      <td>1487894</td>\n",
       "    </tr>\n",
       "  </tbody>\n",
       "</table>\n",
       "</div>"
      ],
      "text/plain": [
       "        propietario motocicletas automoviles    jeep   carga autobuses  \\\n",
       "0          femenino       409307      302093  226092   40883     18414   \n",
       "1         masculino      1831819      693906  392251  297969     75255   \n",
       "2  persona_juridica      1039891      126335   60125  182425     37021   \n",
       "\n",
       "  maquinas_pesadas volteo  otros    total  \n",
       "0             1236   1746    959  1000734  \n",
       "1            10588  12703   7764  3322258  \n",
       "2            15757  11095  15244  1487894  "
      ]
     },
     "execution_count": 259,
     "metadata": {},
     "output_type": "execute_result"
    }
   ],
   "source": [
    "df_pveh_genero_pais"
   ]
  },
  {
   "cell_type": "code",
   "execution_count": 260,
   "metadata": {},
   "outputs": [],
   "source": [
    "df_pveh_genero_pais.to_csv('../Datos/datos_plus/parquev_privado_publico.csv')"
   ]
  },
  {
   "cell_type": "markdown",
   "metadata": {},
   "source": [
    "## Vehículos por género de su propietario por provincia"
   ]
  },
  {
   "cell_type": "code",
   "execution_count": 167,
   "metadata": {},
   "outputs": [],
   "source": [
    "df_pveh_genero_rd_prov = pd.read_excel('C:\\\\Users\\\\DELL\\\\Downloads\\\\ParqueVehicular2023\\\\ParqueVehicular2023.xlsx', sheet_name='2.6', skiprows=7, index_col=0)"
   ]
  },
  {
   "cell_type": "code",
   "execution_count": 168,
   "metadata": {},
   "outputs": [],
   "source": [
    "df_pveh_genero_rd_prov = df_pveh_genero_rd_prov[['Provincia', 'Género', 'Unnamed: 4', 'Total', 'Género.1', 'Unnamed: 11', 'Total.1']]"
   ]
  },
  {
   "cell_type": "code",
   "execution_count": 169,
   "metadata": {},
   "outputs": [],
   "source": [
    "df_pveh_genero_rd_prov.columns = ['provincia', 'femenino', 'masculino', 'total', '%_fem', '%_masc', 'total_%']\n",
    "df_pveh_genero_rd_prov = df_pveh_genero_rd_prov.iloc[1:]\n",
    "df_pveh_genero_rd_prov = df_pveh_genero_rd_prov[df_pveh_genero_rd_prov['femenino'].notnull()]"
   ]
  },
  {
   "cell_type": "code",
   "execution_count": 170,
   "metadata": {},
   "outputs": [],
   "source": [
    "df_pveh_genero_rd_prov.reset_index(drop=True, inplace=True)"
   ]
  },
  {
   "cell_type": "code",
   "execution_count": 185,
   "metadata": {},
   "outputs": [],
   "source": [
    "df_pveh_genero_rd_prov['total'] = df_pveh_genero_rd_prov['total'].astype(int)"
   ]
  },
  {
   "cell_type": "code",
   "execution_count": 192,
   "metadata": {},
   "outputs": [],
   "source": [
    "df_pveh_genero_rd_prov_copia = df_pveh_genero_rd_prov.copy()\n",
    "df_pveh_genero_rd_prov = df_pveh_genero_rd_prov[['provincia', 'femenino', 'masculino', 'total']]"
   ]
  },
  {
   "cell_type": "code",
   "execution_count": 193,
   "metadata": {},
   "outputs": [],
   "source": [
    "df_pveh_genero_rd_prov.to_csv('../Datos/datos_plus/parquev_genero_prov.csv')"
   ]
  },
  {
   "cell_type": "code",
   "execution_count": 195,
   "metadata": {},
   "outputs": [
    {
     "data": {
      "text/html": [
       "<div>\n",
       "<style scoped>\n",
       "    .dataframe tbody tr th:only-of-type {\n",
       "        vertical-align: middle;\n",
       "    }\n",
       "\n",
       "    .dataframe tbody tr th {\n",
       "        vertical-align: top;\n",
       "    }\n",
       "\n",
       "    .dataframe thead th {\n",
       "        text-align: right;\n",
       "    }\n",
       "</style>\n",
       "<table border=\"1\" class=\"dataframe\">\n",
       "  <thead>\n",
       "    <tr style=\"text-align: right;\">\n",
       "      <th></th>\n",
       "      <th>provincia</th>\n",
       "      <th>femenino</th>\n",
       "      <th>masculino</th>\n",
       "      <th>total</th>\n",
       "      <th>%_fem</th>\n",
       "      <th>%_masc</th>\n",
       "      <th>total_%</th>\n",
       "    </tr>\n",
       "  </thead>\n",
       "  <tbody>\n",
       "    <tr>\n",
       "      <th>0</th>\n",
       "      <td>Azua</td>\n",
       "      <td>11977</td>\n",
       "      <td>54694</td>\n",
       "      <td>66671</td>\n",
       "      <td>0.18</td>\n",
       "      <td>0.82</td>\n",
       "      <td>1.00</td>\n",
       "    </tr>\n",
       "    <tr>\n",
       "      <th>1</th>\n",
       "      <td>Bahoruco</td>\n",
       "      <td>3191</td>\n",
       "      <td>12020</td>\n",
       "      <td>15211</td>\n",
       "      <td>0.21</td>\n",
       "      <td>0.79</td>\n",
       "      <td>1.00</td>\n",
       "    </tr>\n",
       "    <tr>\n",
       "      <th>2</th>\n",
       "      <td>Barahona</td>\n",
       "      <td>10933</td>\n",
       "      <td>41140</td>\n",
       "      <td>52073</td>\n",
       "      <td>0.21</td>\n",
       "      <td>0.79</td>\n",
       "      <td>1.00</td>\n",
       "    </tr>\n",
       "    <tr>\n",
       "      <th>3</th>\n",
       "      <td>Dajabón</td>\n",
       "      <td>6001</td>\n",
       "      <td>16761</td>\n",
       "      <td>22762</td>\n",
       "      <td>0.26</td>\n",
       "      <td>0.74</td>\n",
       "      <td>1.00</td>\n",
       "    </tr>\n",
       "    <tr>\n",
       "      <th>4</th>\n",
       "      <td>Distrito Nacional</td>\n",
       "      <td>242930</td>\n",
       "      <td>891466</td>\n",
       "      <td>1134396</td>\n",
       "      <td>0.21</td>\n",
       "      <td>0.79</td>\n",
       "      <td>1.00</td>\n",
       "    </tr>\n",
       "  </tbody>\n",
       "</table>\n",
       "</div>"
      ],
      "text/plain": [
       "           provincia femenino masculino    total %_fem %_masc  total_%\n",
       "0               Azua    11977     54694    66671  0.18   0.82     1.00\n",
       "1           Bahoruco     3191     12020    15211  0.21   0.79     1.00\n",
       "2           Barahona    10933     41140    52073  0.21   0.79     1.00\n",
       "3            Dajabón     6001     16761    22762  0.26   0.74     1.00\n",
       "4  Distrito Nacional   242930    891466  1134396  0.21   0.79     1.00"
      ]
     },
     "execution_count": 195,
     "metadata": {},
     "output_type": "execute_result"
    }
   ],
   "source": [
    "df_pveh_genero_rd_prov_copia.head()"
   ]
  },
  {
   "cell_type": "code",
   "execution_count": null,
   "metadata": {},
   "outputs": [],
   "source": []
  }
 ],
 "metadata": {
  "kernelspec": {
   "display_name": "Python 3",
   "language": "python",
   "name": "python3"
  },
  "language_info": {
   "codemirror_mode": {
    "name": "ipython",
    "version": 3
   },
   "file_extension": ".py",
   "mimetype": "text/x-python",
   "name": "python",
   "nbconvert_exporter": "python",
   "pygments_lexer": "ipython3",
   "version": "3.11.9"
  }
 },
 "nbformat": 4,
 "nbformat_minor": 2
}
