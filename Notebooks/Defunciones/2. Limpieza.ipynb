{
 "cells": [
  {
   "cell_type": "code",
   "execution_count": null,
   "metadata": {},
   "outputs": [],
   "source": [
    "%load_ext autoreload\n",
    "%autoreload 2\n",
    "\n",
    "import sys\n",
    "sys.path.append('../../src')\n",
    "import funciones as f\n",
    "import soporte_prep as sp\n",
    "\n",
    "import pandas as pd\n",
    "import numpy as np\n",
    "\n",
    "import warnings\n",
    "warnings.filterwarnings('ignore')\n",
    "pd.options.display.float_format = '{:.2f}'.format\n",
    "pd.set_option('display.max_columns', None)"
   ]
  },
  {
   "cell_type": "code",
   "execution_count": null,
   "metadata": {},
   "outputs": [],
   "source": [
    "df_principal = pd.read_csv('C:\\\\Users\\\\DELL\\\\Downloads\\\\BD_MUERTES_ACCIDENTES_2007-2023.csv', sep=';')"
   ]
  },
  {
   "cell_type": "code",
   "execution_count": null,
   "metadata": {},
   "outputs": [],
   "source": [
    "# Lista de nombres de archivos\n",
    "filenames = [\n",
    "    'df_diasem.csv',\n",
    "    'df_mes.csv',\n",
    "    'df_rhora.csv',\n",
    "    'df_region.csv',\n",
    "    'df_provincia.csv',\n",
    "    'df_tipovia.csv',\n",
    "    'df_accidente.csv',\n",
    "    'df_mediot.csv',\n",
    "    'df_genero.csv',\n",
    "    'df_gedad.csv',\n",
    "    'df_victima.csv'\n",
    "]\n",
    "\n",
    "# Crear un diccionario para almacenar los DataFrames leídos\n",
    "df_dict = {}\n",
    "\n",
    "# Leer cada archivo y almacenarlo en el diccionario\n",
    "for filename in filenames:\n",
    "    df_name = filename.split('.')[0]  # Usar el nombre del archivo (sin extensión) como clave\n",
    "    df_dict[df_name] = pd.read_csv(f'../Datos/datos_defunciones/{filename}')\n",
    "\n",
    "# Acceso a los DataFrames\n",
    "print(df_dict['df_diasem'])  # Accede al DataFrame de df_diasem"
   ]
  },
  {
   "cell_type": "code",
   "execution_count": null,
   "metadata": {},
   "outputs": [],
   "source": [
    "df_principal.drop(columns='CAUSA_M', inplace=True)"
   ]
  },
  {
   "cell_type": "code",
   "execution_count": null,
   "metadata": {},
   "outputs": [],
   "source": [
    "df_principal['FECHA'] = pd.to_datetime(df_principal['ANOOCU'].astype(str) + '-' + \n",
    "                                    df_principal['MESOCU'].astype(str) + '-' + \n",
    "                                    '01', \n",
    "                                    format='%Y-%m-%d')\n",
    "# creo la columna de fecha completa\n",
    "df_principal.head()"
   ]
  },
  {
   "cell_type": "code",
   "execution_count": null,
   "metadata": {},
   "outputs": [],
   "source": [
    "df_llena = df_principal.copy()"
   ]
  },
  {
   "cell_type": "code",
   "execution_count": null,
   "metadata": {},
   "outputs": [],
   "source": [
    "ultima_columna = df_llena.columns[-1] \n",
    "columnas = [ultima_columna] + [col for col in df_llena.columns if col != ultima_columna]\n",
    "df_llena = df_llena[columnas]"
   ]
  },
  {
   "cell_type": "code",
   "execution_count": null,
   "metadata": {},
   "outputs": [],
   "source": [
    "df_llena = df_llena.iloc[:,0:13] #corto las columnas que quiero"
   ]
  },
  {
   "cell_type": "code",
   "execution_count": null,
   "metadata": {},
   "outputs": [],
   "source": [
    "# lista de tuplas con las columnas a mapear, el df correspondiente y la columna única\n",
    "mapeos = [\n",
    "    ('TIPOACCIDENTE', df_accidente), ('REGION', df_region), ('PROVINCIA', df_provincia), ('DIASEMANA', df_diasem), ('MESOCU', df_mes), ('RHORA', df_rhora),\n",
    "    ('TVIA', df_tipovia), ('SEXO', df_genero),('GRUPOEDAD', df_gedad), ('CONDIVICTIMA', df_victima), ('MEDIOTRANS', df_mediot),\n",
    "]\n",
    "\n",
    "for columna, df_mapeado in mapeos:\n",
    "    mapeo = dict(zip(df_mapeado['Valor'], df_mapeado['Significado']))\n",
    "    valores = df_llena[columna].unique()\n",
    "    mapeo_filtrado = {k: v for k, v in mapeo.items() if k in valores}\n",
    "    df_llena[columna] = df_llena[columna].map(mapeo_filtrado)"
   ]
  }
 ],
 "metadata": {
  "kernelspec": {
   "display_name": "Python 3",
   "language": "python",
   "name": "python3"
  },
  "language_info": {
   "name": "python",
   "version": "3.11.9"
  }
 },
 "nbformat": 4,
 "nbformat_minor": 2
}
