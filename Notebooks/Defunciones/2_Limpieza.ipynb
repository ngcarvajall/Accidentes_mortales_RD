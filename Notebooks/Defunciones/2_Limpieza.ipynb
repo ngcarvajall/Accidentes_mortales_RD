{
 "cells": [
  {
   "cell_type": "markdown",
   "metadata": {},
   "source": [
    "# Notebook #2: Limpieza: limpieza de datos, organización de columnas y formato"
   ]
  },
  {
   "cell_type": "code",
   "execution_count": 1,
   "metadata": {},
   "outputs": [],
   "source": [
    "%load_ext autoreload\n",
    "%autoreload 2\n",
    "\n",
    "import sys\n",
    "sys.path.append('../../src')\n",
    "import funciones as f\n",
    "import soporte_prep as sp\n",
    "\n",
    "import pandas as pd\n",
    "import numpy as np\n",
    "\n",
    "import warnings\n",
    "warnings.filterwarnings('ignore')\n",
    "pd.options.display.float_format = '{:.2f}'.format\n",
    "pd.set_option('display.max_columns', None)"
   ]
  },
  {
   "cell_type": "code",
   "execution_count": 2,
   "metadata": {},
   "outputs": [],
   "source": [
    "df_principal = pd.read_csv(\"../../Datos/datos_defunciones/BD_MUERTES_ACCIDENTES_2007-2023.csv\", sep='\\t')"
   ]
  },
  {
   "cell_type": "code",
   "execution_count": 3,
   "metadata": {},
   "outputs": [],
   "source": [
    "# Lista de nombres de archivos\n",
    "filenames = [\n",
    "    'df_diasem.csv',\n",
    "    'df_mes.csv',\n",
    "    'df_rhora.csv',\n",
    "    'df_region.csv',\n",
    "    'df_provincia.csv',\n",
    "    'df_tipovia.csv',\n",
    "    'df_accidente.csv',\n",
    "    'df_mediot.csv',\n",
    "    'df_genero.csv',\n",
    "    'df_gedad.csv',\n",
    "    'df_victima.csv'\n",
    "]\n",
    "\n",
    "# Crear un diccionario para almacenar los DataFrames leídos\n",
    "df_dict = {}\n",
    "\n",
    "# Leer cada archivo y almacenarlo en el diccionario\n",
    "for filename in filenames:\n",
    "    df_name = filename.split('.')[0]  # Usar el nombre del archivo (sin extensión) como clave\n",
    "    df_dict[df_name] = pd.read_csv(f'../../Datos/datos_defunciones/{filename}', index_col=0)"
   ]
  },
  {
   "cell_type": "code",
   "execution_count": 4,
   "metadata": {},
   "outputs": [],
   "source": [
    "df_principal.drop(columns='CAUSA_M', inplace=True)"
   ]
  },
  {
   "cell_type": "code",
   "execution_count": 5,
   "metadata": {},
   "outputs": [
    {
     "data": {
      "application/vnd.microsoft.datawrangler.viewer.v0+json": {
       "columns": [
        {
         "name": "index",
         "rawType": "int64",
         "type": "integer"
        },
        {
         "name": "REGION",
         "rawType": "int64",
         "type": "integer"
        },
        {
         "name": "PROVINCIA",
         "rawType": "int64",
         "type": "integer"
        },
        {
         "name": "DIASEMANA",
         "rawType": "int64",
         "type": "integer"
        },
        {
         "name": "MESOCU",
         "rawType": "int64",
         "type": "integer"
        },
        {
         "name": "ANOOCU",
         "rawType": "int64",
         "type": "integer"
        },
        {
         "name": "RHORA",
         "rawType": "int64",
         "type": "integer"
        },
        {
         "name": "TVIA",
         "rawType": "int64",
         "type": "integer"
        },
        {
         "name": "SEXO",
         "rawType": "int64",
         "type": "integer"
        },
        {
         "name": "GRUPOEDAD",
         "rawType": "int64",
         "type": "integer"
        },
        {
         "name": "CONDIVICTIMA",
         "rawType": "int64",
         "type": "integer"
        },
        {
         "name": "TIPOACCIDENTE",
         "rawType": "int64",
         "type": "integer"
        },
        {
         "name": "MEDIOTRANS",
         "rawType": "int64",
         "type": "integer"
        },
        {
         "name": "ESTRECON",
         "rawType": "object",
         "type": "string"
        },
        {
         "name": "VEHICHOQUE",
         "rawType": "object",
         "type": "string"
        },
        {
         "name": "VEHICUVOLC",
         "rawType": "object",
         "type": "string"
        },
        {
         "name": "VEHICUATRO",
         "rawType": "object",
         "type": "string"
        },
        {
         "name": "VEHICAIDA",
         "rawType": "object",
         "type": "string"
        },
        {
         "name": "VEHIDESLI",
         "rawType": "object",
         "type": "string"
        },
        {
         "name": "APLASTAM",
         "rawType": "object",
         "type": "string"
        },
        {
         "name": "OTROACCIDEN",
         "rawType": "object",
         "type": "string"
        },
        {
         "name": "FECHA",
         "rawType": "datetime64[ns]",
         "type": "datetime"
        }
       ],
       "ref": "9ee4d165-b7ca-421b-8bdf-24ba1c576f57",
       "rows": [
        [
         "0",
         "1",
         "9",
         "6",
         "1",
         "2007",
         "10",
         "99",
         "1",
         "5",
         "9",
         "1",
         "2",
         " ",
         "8",
         " ",
         " ",
         " ",
         " ",
         " ",
         " ",
         "2007-01-28 00:00:00"
        ],
        [
         "1",
         "1",
         "9",
         "7",
         "1",
         "2007",
         "1",
         "4",
         "1",
         "12",
         "9",
         "1",
         "2",
         " ",
         "1",
         " ",
         " ",
         " ",
         " ",
         " ",
         " ",
         "2007-01-28 00:00:00"
        ],
        [
         "2",
         "1",
         "9",
         "4",
         "2",
         "2007",
         "11",
         "4",
         "1",
         "4",
         "9",
         "1",
         "2",
         " ",
         "1",
         " ",
         " ",
         " ",
         " ",
         " ",
         " ",
         "2007-02-28 00:00:00"
        ],
        [
         "3",
         "1",
         "9",
         "1",
         "2",
         "2007",
         "6",
         "99",
         "1",
         "1",
         "9",
         "3",
         "25",
         " ",
         " ",
         " ",
         "3",
         " ",
         " ",
         " ",
         " ",
         "2007-02-28 00:00:00"
        ],
        [
         "4",
         "1",
         "9",
         "4",
         "3",
         "2007",
         "10",
         "4",
         "1",
         "5",
         "9",
         "1",
         "2",
         " ",
         "4",
         " ",
         " ",
         " ",
         " ",
         " ",
         " ",
         "2007-03-28 00:00:00"
        ]
       ],
       "shape": {
        "columns": 21,
        "rows": 5
       }
      },
      "text/html": [
       "<div>\n",
       "<style scoped>\n",
       "    .dataframe tbody tr th:only-of-type {\n",
       "        vertical-align: middle;\n",
       "    }\n",
       "\n",
       "    .dataframe tbody tr th {\n",
       "        vertical-align: top;\n",
       "    }\n",
       "\n",
       "    .dataframe thead th {\n",
       "        text-align: right;\n",
       "    }\n",
       "</style>\n",
       "<table border=\"1\" class=\"dataframe\">\n",
       "  <thead>\n",
       "    <tr style=\"text-align: right;\">\n",
       "      <th></th>\n",
       "      <th>REGION</th>\n",
       "      <th>PROVINCIA</th>\n",
       "      <th>DIASEMANA</th>\n",
       "      <th>MESOCU</th>\n",
       "      <th>ANOOCU</th>\n",
       "      <th>RHORA</th>\n",
       "      <th>TVIA</th>\n",
       "      <th>SEXO</th>\n",
       "      <th>GRUPOEDAD</th>\n",
       "      <th>CONDIVICTIMA</th>\n",
       "      <th>TIPOACCIDENTE</th>\n",
       "      <th>MEDIOTRANS</th>\n",
       "      <th>ESTRECON</th>\n",
       "      <th>VEHICHOQUE</th>\n",
       "      <th>VEHICUVOLC</th>\n",
       "      <th>VEHICUATRO</th>\n",
       "      <th>VEHICAIDA</th>\n",
       "      <th>VEHIDESLI</th>\n",
       "      <th>APLASTAM</th>\n",
       "      <th>OTROACCIDEN</th>\n",
       "      <th>FECHA</th>\n",
       "    </tr>\n",
       "  </thead>\n",
       "  <tbody>\n",
       "    <tr>\n",
       "      <th>0</th>\n",
       "      <td>1</td>\n",
       "      <td>9</td>\n",
       "      <td>6</td>\n",
       "      <td>1</td>\n",
       "      <td>2007</td>\n",
       "      <td>10</td>\n",
       "      <td>99</td>\n",
       "      <td>1</td>\n",
       "      <td>5</td>\n",
       "      <td>9</td>\n",
       "      <td>1</td>\n",
       "      <td>2</td>\n",
       "      <td></td>\n",
       "      <td>8</td>\n",
       "      <td></td>\n",
       "      <td></td>\n",
       "      <td></td>\n",
       "      <td></td>\n",
       "      <td></td>\n",
       "      <td></td>\n",
       "      <td>2007-01-28</td>\n",
       "    </tr>\n",
       "    <tr>\n",
       "      <th>1</th>\n",
       "      <td>1</td>\n",
       "      <td>9</td>\n",
       "      <td>7</td>\n",
       "      <td>1</td>\n",
       "      <td>2007</td>\n",
       "      <td>1</td>\n",
       "      <td>4</td>\n",
       "      <td>1</td>\n",
       "      <td>12</td>\n",
       "      <td>9</td>\n",
       "      <td>1</td>\n",
       "      <td>2</td>\n",
       "      <td></td>\n",
       "      <td>1</td>\n",
       "      <td></td>\n",
       "      <td></td>\n",
       "      <td></td>\n",
       "      <td></td>\n",
       "      <td></td>\n",
       "      <td></td>\n",
       "      <td>2007-01-28</td>\n",
       "    </tr>\n",
       "    <tr>\n",
       "      <th>2</th>\n",
       "      <td>1</td>\n",
       "      <td>9</td>\n",
       "      <td>4</td>\n",
       "      <td>2</td>\n",
       "      <td>2007</td>\n",
       "      <td>11</td>\n",
       "      <td>4</td>\n",
       "      <td>1</td>\n",
       "      <td>4</td>\n",
       "      <td>9</td>\n",
       "      <td>1</td>\n",
       "      <td>2</td>\n",
       "      <td></td>\n",
       "      <td>1</td>\n",
       "      <td></td>\n",
       "      <td></td>\n",
       "      <td></td>\n",
       "      <td></td>\n",
       "      <td></td>\n",
       "      <td></td>\n",
       "      <td>2007-02-28</td>\n",
       "    </tr>\n",
       "    <tr>\n",
       "      <th>3</th>\n",
       "      <td>1</td>\n",
       "      <td>9</td>\n",
       "      <td>1</td>\n",
       "      <td>2</td>\n",
       "      <td>2007</td>\n",
       "      <td>6</td>\n",
       "      <td>99</td>\n",
       "      <td>1</td>\n",
       "      <td>1</td>\n",
       "      <td>9</td>\n",
       "      <td>3</td>\n",
       "      <td>25</td>\n",
       "      <td></td>\n",
       "      <td></td>\n",
       "      <td></td>\n",
       "      <td>3</td>\n",
       "      <td></td>\n",
       "      <td></td>\n",
       "      <td></td>\n",
       "      <td></td>\n",
       "      <td>2007-02-28</td>\n",
       "    </tr>\n",
       "    <tr>\n",
       "      <th>4</th>\n",
       "      <td>1</td>\n",
       "      <td>9</td>\n",
       "      <td>4</td>\n",
       "      <td>3</td>\n",
       "      <td>2007</td>\n",
       "      <td>10</td>\n",
       "      <td>4</td>\n",
       "      <td>1</td>\n",
       "      <td>5</td>\n",
       "      <td>9</td>\n",
       "      <td>1</td>\n",
       "      <td>2</td>\n",
       "      <td></td>\n",
       "      <td>4</td>\n",
       "      <td></td>\n",
       "      <td></td>\n",
       "      <td></td>\n",
       "      <td></td>\n",
       "      <td></td>\n",
       "      <td></td>\n",
       "      <td>2007-03-28</td>\n",
       "    </tr>\n",
       "  </tbody>\n",
       "</table>\n",
       "</div>"
      ],
      "text/plain": [
       "   REGION  PROVINCIA  DIASEMANA  MESOCU  ANOOCU  RHORA  TVIA  SEXO  GRUPOEDAD  \\\n",
       "0       1          9          6       1    2007     10    99     1          5   \n",
       "1       1          9          7       1    2007      1     4     1         12   \n",
       "2       1          9          4       2    2007     11     4     1          4   \n",
       "3       1          9          1       2    2007      6    99     1          1   \n",
       "4       1          9          4       3    2007     10     4     1          5   \n",
       "\n",
       "   CONDIVICTIMA  TIPOACCIDENTE  MEDIOTRANS ESTRECON VEHICHOQUE VEHICUVOLC  \\\n",
       "0             9              1           2                   8              \n",
       "1             9              1           2                   1              \n",
       "2             9              1           2                   1              \n",
       "3             9              3          25                                  \n",
       "4             9              1           2                   4              \n",
       "\n",
       "  VEHICUATRO VEHICAIDA VEHIDESLI APLASTAM OTROACCIDEN      FECHA  \n",
       "0                                                     2007-01-28  \n",
       "1                                                     2007-01-28  \n",
       "2                                                     2007-02-28  \n",
       "3          3                                          2007-02-28  \n",
       "4                                                     2007-03-28  "
      ]
     },
     "execution_count": 5,
     "metadata": {},
     "output_type": "execute_result"
    }
   ],
   "source": [
    "df_principal['FECHA'] = pd.to_datetime(df_principal['ANOOCU'].astype(str) + '-' + \n",
    "                                    df_principal['MESOCU'].astype(str) + '-' + \n",
    "                                    '28', \n",
    "                                    format='%Y-%m-%d')\n",
    "# creo la columna de fecha completa\n",
    "df_principal.head()"
   ]
  },
  {
   "cell_type": "code",
   "execution_count": 6,
   "metadata": {},
   "outputs": [],
   "source": [
    "df_llena = df_principal.copy()"
   ]
  },
  {
   "cell_type": "code",
   "execution_count": 7,
   "metadata": {},
   "outputs": [],
   "source": [
    "ultima_columna = df_llena.columns[-1] \n",
    "columnas = [ultima_columna] + [col for col in df_llena.columns if col != ultima_columna]\n",
    "df_llena = df_llena[columnas]"
   ]
  },
  {
   "cell_type": "code",
   "execution_count": 8,
   "metadata": {},
   "outputs": [],
   "source": [
    "df_llena = df_llena.iloc[:,0:13] #corto las columnas que quiero"
   ]
  },
  {
   "cell_type": "code",
   "execution_count": 9,
   "metadata": {},
   "outputs": [],
   "source": [
    "df_codificada = df_llena.copy()"
   ]
  },
  {
   "cell_type": "code",
   "execution_count": 10,
   "metadata": {},
   "outputs": [],
   "source": [
    "# lista de tuplas con las columnas a mapear, el df correspondiente y la columna única\n",
    "mapeos = [\n",
    "    ('TIPOACCIDENTE', df_dict['df_accidente']), ('REGION', df_dict['df_region']), ('PROVINCIA', df_dict['df_provincia']), ('DIASEMANA', df_dict['df_diasem']), ('MESOCU', df_dict['df_mes']), ('RHORA', df_dict['df_rhora']),\n",
    "    ('TVIA', df_dict['df_tipovia']), ('SEXO', df_dict['df_genero']),('GRUPOEDAD', df_dict['df_gedad']), ('CONDIVICTIMA', df_dict['df_victima']), ('MEDIOTRANS', df_dict['df_mediot']),\n",
    "]\n",
    "\n",
    "for columna, df_mapeado in mapeos:\n",
    "    mapeo = dict(zip(df_mapeado['Valor'], df_mapeado['Significado']))\n",
    "    valores = df_llena[columna].unique()\n",
    "    mapeo_filtrado = {k: v for k, v in mapeo.items() if k in valores}\n",
    "    df_llena[columna] = df_llena[columna].map(mapeo_filtrado)"
   ]
  },
  {
   "cell_type": "code",
   "execution_count": 11,
   "metadata": {},
   "outputs": [],
   "source": [
    "df_llena.columns = ['fecha', 'region', 'provincia', 'dia_semana', 'mes', 'anio', 'rango_hora', 'tipo_via', 'sexo', 'grupo_edad', 'condicion_victima', 'tipo_accidente', 'medio_trans']\n",
    "df_codificada.columns = ['fecha', 'region', 'provincia', 'dia_semana', 'mes', 'anio', 'rango_hora', 'tipo_via', 'sexo', 'grupo_edad', 'condicion_victima', 'tipo_accidente', 'medio_trans']"
   ]
  },
  {
   "cell_type": "code",
   "execution_count": 12,
   "metadata": {},
   "outputs": [],
   "source": [
    "df_descodificada = df_llena.copy()"
   ]
  },
  {
   "cell_type": "code",
   "execution_count": 13,
   "metadata": {},
   "outputs": [],
   "source": [
    "df_descodificada.to_csv('../../Datos/datos_defunciones/df_descodificada.csv')\n",
    "df_codificada.to_csv('../../Datos/datos_defunciones/df_codificada.csv')"
   ]
  },
  {
   "cell_type": "code",
   "execution_count": 14,
   "metadata": {},
   "outputs": [
    {
     "data": {
      "application/vnd.microsoft.datawrangler.viewer.v0+json": {
       "columns": [
        {
         "name": "index",
         "rawType": "int64",
         "type": "integer"
        },
        {
         "name": "fecha",
         "rawType": "datetime64[ns]",
         "type": "datetime"
        },
        {
         "name": "region",
         "rawType": "object",
         "type": "string"
        },
        {
         "name": "provincia",
         "rawType": "object",
         "type": "string"
        },
        {
         "name": "dia_semana",
         "rawType": "object",
         "type": "string"
        },
        {
         "name": "mes",
         "rawType": "object",
         "type": "string"
        },
        {
         "name": "anio",
         "rawType": "int64",
         "type": "integer"
        },
        {
         "name": "rango_hora",
         "rawType": "object",
         "type": "string"
        },
        {
         "name": "tipo_via",
         "rawType": "object",
         "type": "string"
        },
        {
         "name": "sexo",
         "rawType": "object",
         "type": "string"
        },
        {
         "name": "grupo_edad",
         "rawType": "object",
         "type": "string"
        },
        {
         "name": "condicion_victima",
         "rawType": "object",
         "type": "string"
        },
        {
         "name": "tipo_accidente",
         "rawType": "object",
         "type": "string"
        },
        {
         "name": "medio_trans",
         "rawType": "object",
         "type": "string"
        }
       ],
       "ref": "652fe6d0-4716-49d5-ace1-e13dab199204",
       "rows": [
        [
         "0",
         "2007-01-28 00:00:00",
         "Región Cibao Norte",
         "Espaillat",
         "Sábado",
         "Enero",
         "2007",
         "18:01-20:00",
         "No declarada",
         "Hombres",
         "20-24",
         "No declarada",
         "Choque o colisión",
         "Motocicleta, ciclomotor (passola)"
        ],
        [
         "1",
         "2007-01-28 00:00:00",
         "Región Cibao Norte",
         "Espaillat",
         "Domingo",
         "Enero",
         "2007",
         "00:01-02:00",
         "Carretera",
         "Hombres",
         "55-59",
         "No declarada",
         "Choque o colisión",
         "Motocicleta, ciclomotor (passola)"
        ],
        [
         "2",
         "2007-02-28 00:00:00",
         "Región Cibao Norte",
         "Espaillat",
         "Jueves",
         "Febrero",
         "2007",
         "20:01-22:00",
         "Carretera",
         "Hombres",
         "15-19",
         "No declarada",
         "Choque o colisión",
         "Motocicleta, ciclomotor (passola)"
        ],
        [
         "3",
         "2007-02-28 00:00:00",
         "Región Cibao Norte",
         "Espaillat",
         "Lunes",
         "Febrero",
         "2007",
         "10:01-12:00",
         "No declarada",
         "Hombres",
         "0-4",
         "No declarada",
         "Atropellamiento",
         "Peatón atropellado"
        ],
        [
         "4",
         "2007-03-28 00:00:00",
         "Región Cibao Norte",
         "Espaillat",
         "Jueves",
         "Marzo",
         "2007",
         "18:01-20:00",
         "Carretera",
         "Hombres",
         "20-24",
         "No declarada",
         "Choque o colisión",
         "Motocicleta, ciclomotor (passola)"
        ]
       ],
       "shape": {
        "columns": 13,
        "rows": 5
       }
      },
      "text/html": [
       "<div>\n",
       "<style scoped>\n",
       "    .dataframe tbody tr th:only-of-type {\n",
       "        vertical-align: middle;\n",
       "    }\n",
       "\n",
       "    .dataframe tbody tr th {\n",
       "        vertical-align: top;\n",
       "    }\n",
       "\n",
       "    .dataframe thead th {\n",
       "        text-align: right;\n",
       "    }\n",
       "</style>\n",
       "<table border=\"1\" class=\"dataframe\">\n",
       "  <thead>\n",
       "    <tr style=\"text-align: right;\">\n",
       "      <th></th>\n",
       "      <th>fecha</th>\n",
       "      <th>region</th>\n",
       "      <th>provincia</th>\n",
       "      <th>dia_semana</th>\n",
       "      <th>mes</th>\n",
       "      <th>anio</th>\n",
       "      <th>rango_hora</th>\n",
       "      <th>tipo_via</th>\n",
       "      <th>sexo</th>\n",
       "      <th>grupo_edad</th>\n",
       "      <th>condicion_victima</th>\n",
       "      <th>tipo_accidente</th>\n",
       "      <th>medio_trans</th>\n",
       "    </tr>\n",
       "  </thead>\n",
       "  <tbody>\n",
       "    <tr>\n",
       "      <th>0</th>\n",
       "      <td>2007-01-28</td>\n",
       "      <td>Región Cibao Norte</td>\n",
       "      <td>Espaillat</td>\n",
       "      <td>Sábado</td>\n",
       "      <td>Enero</td>\n",
       "      <td>2007</td>\n",
       "      <td>18:01-20:00</td>\n",
       "      <td>No declarada</td>\n",
       "      <td>Hombres</td>\n",
       "      <td>20-24</td>\n",
       "      <td>No declarada</td>\n",
       "      <td>Choque o colisión</td>\n",
       "      <td>Motocicleta, ciclomotor (passola)</td>\n",
       "    </tr>\n",
       "    <tr>\n",
       "      <th>1</th>\n",
       "      <td>2007-01-28</td>\n",
       "      <td>Región Cibao Norte</td>\n",
       "      <td>Espaillat</td>\n",
       "      <td>Domingo</td>\n",
       "      <td>Enero</td>\n",
       "      <td>2007</td>\n",
       "      <td>00:01-02:00</td>\n",
       "      <td>Carretera</td>\n",
       "      <td>Hombres</td>\n",
       "      <td>55-59</td>\n",
       "      <td>No declarada</td>\n",
       "      <td>Choque o colisión</td>\n",
       "      <td>Motocicleta, ciclomotor (passola)</td>\n",
       "    </tr>\n",
       "    <tr>\n",
       "      <th>2</th>\n",
       "      <td>2007-02-28</td>\n",
       "      <td>Región Cibao Norte</td>\n",
       "      <td>Espaillat</td>\n",
       "      <td>Jueves</td>\n",
       "      <td>Febrero</td>\n",
       "      <td>2007</td>\n",
       "      <td>20:01-22:00</td>\n",
       "      <td>Carretera</td>\n",
       "      <td>Hombres</td>\n",
       "      <td>15-19</td>\n",
       "      <td>No declarada</td>\n",
       "      <td>Choque o colisión</td>\n",
       "      <td>Motocicleta, ciclomotor (passola)</td>\n",
       "    </tr>\n",
       "    <tr>\n",
       "      <th>3</th>\n",
       "      <td>2007-02-28</td>\n",
       "      <td>Región Cibao Norte</td>\n",
       "      <td>Espaillat</td>\n",
       "      <td>Lunes</td>\n",
       "      <td>Febrero</td>\n",
       "      <td>2007</td>\n",
       "      <td>10:01-12:00</td>\n",
       "      <td>No declarada</td>\n",
       "      <td>Hombres</td>\n",
       "      <td>0-4</td>\n",
       "      <td>No declarada</td>\n",
       "      <td>Atropellamiento</td>\n",
       "      <td>Peatón atropellado</td>\n",
       "    </tr>\n",
       "    <tr>\n",
       "      <th>4</th>\n",
       "      <td>2007-03-28</td>\n",
       "      <td>Región Cibao Norte</td>\n",
       "      <td>Espaillat</td>\n",
       "      <td>Jueves</td>\n",
       "      <td>Marzo</td>\n",
       "      <td>2007</td>\n",
       "      <td>18:01-20:00</td>\n",
       "      <td>Carretera</td>\n",
       "      <td>Hombres</td>\n",
       "      <td>20-24</td>\n",
       "      <td>No declarada</td>\n",
       "      <td>Choque o colisión</td>\n",
       "      <td>Motocicleta, ciclomotor (passola)</td>\n",
       "    </tr>\n",
       "  </tbody>\n",
       "</table>\n",
       "</div>"
      ],
      "text/plain": [
       "       fecha              region  provincia dia_semana      mes  anio  \\\n",
       "0 2007-01-28  Región Cibao Norte  Espaillat     Sábado    Enero  2007   \n",
       "1 2007-01-28  Región Cibao Norte  Espaillat    Domingo    Enero  2007   \n",
       "2 2007-02-28  Región Cibao Norte  Espaillat     Jueves  Febrero  2007   \n",
       "3 2007-02-28  Región Cibao Norte  Espaillat      Lunes  Febrero  2007   \n",
       "4 2007-03-28  Región Cibao Norte  Espaillat     Jueves    Marzo  2007   \n",
       "\n",
       "    rango_hora      tipo_via     sexo grupo_edad condicion_victima  \\\n",
       "0  18:01-20:00  No declarada  Hombres      20-24      No declarada   \n",
       "1  00:01-02:00     Carretera  Hombres      55-59      No declarada   \n",
       "2  20:01-22:00     Carretera  Hombres      15-19      No declarada   \n",
       "3  10:01-12:00  No declarada  Hombres        0-4      No declarada   \n",
       "4  18:01-20:00     Carretera  Hombres      20-24      No declarada   \n",
       "\n",
       "      tipo_accidente                        medio_trans  \n",
       "0  Choque o colisión  Motocicleta, ciclomotor (passola)  \n",
       "1  Choque o colisión  Motocicleta, ciclomotor (passola)  \n",
       "2  Choque o colisión  Motocicleta, ciclomotor (passola)  \n",
       "3    Atropellamiento                 Peatón atropellado  \n",
       "4  Choque o colisión  Motocicleta, ciclomotor (passola)  "
      ]
     },
     "execution_count": 14,
     "metadata": {},
     "output_type": "execute_result"
    }
   ],
   "source": [
    "df_descodificada.head()"
   ]
  },
  {
   "cell_type": "code",
   "execution_count": null,
   "metadata": {},
   "outputs": [
    {
     "name": "stdout",
     "output_type": "stream",
     "text": [
      "<class 'pandas.core.frame.DataFrame'>\n",
      "RangeIndex: 31351 entries, 0 to 31350\n",
      "Data columns (total 13 columns):\n",
      " #   Column             Non-Null Count  Dtype         \n",
      "---  ------             --------------  -----         \n",
      " 0   fecha              31351 non-null  datetime64[ns]\n",
      " 1   region             31351 non-null  object        \n",
      " 2   provincia          31351 non-null  object        \n",
      " 3   dia_semana         31351 non-null  object        \n",
      " 4   mes                31351 non-null  object        \n",
      " 5   anio               31351 non-null  int64         \n",
      " 6   rango_hora         31351 non-null  object        \n",
      " 7   tipo_via           31351 non-null  object        \n",
      " 8   sexo               31351 non-null  object        \n",
      " 9   grupo_edad         31351 non-null  object        \n",
      " 10  condicion_victima  31351 non-null  object        \n",
      " 11  tipo_accidente     31351 non-null  object        \n",
      " 12  medio_trans        31351 non-null  object        \n",
      "dtypes: datetime64[ns](1), int64(1), object(11)\n",
      "memory usage: 3.1+ MB\n"
     ]
    }
   ],
   "source": [
    "df_descodificada.info()"
   ]
  }
 ],
 "metadata": {
  "kernelspec": {
   "display_name": "Python 3",
   "language": "python",
   "name": "python3"
  },
  "language_info": {
   "codemirror_mode": {
    "name": "ipython",
    "version": 3
   },
   "file_extension": ".py",
   "mimetype": "text/x-python",
   "name": "python",
   "nbconvert_exporter": "python",
   "pygments_lexer": "ipython3",
   "version": "3.11.9"
  }
 },
 "nbformat": 4,
 "nbformat_minor": 2
}
