{
 "cells": [
  {
   "cell_type": "code",
   "execution_count": 94,
   "id": "abb5408e",
   "metadata": {},
   "outputs": [
    {
     "name": "stdout",
     "output_type": "stream",
     "text": [
      "The autoreload extension is already loaded. To reload it, use:\n",
      "  %reload_ext autoreload\n"
     ]
    }
   ],
   "source": [
    "# Importamos las librerías que necesitamos\n",
    "\n",
    "# Librerías de extracción de datos\n",
    "# -----------------------------------------------------------------------\n",
    "\n",
    "%load_ext autoreload\n",
    "%autoreload 2\n",
    "\n",
    "# Visualizaciones\n",
    "# -----------------------------------------------------------------------\n",
    "import seaborn as sns\n",
    "import matplotlib.pyplot as plt\n",
    "import plotly_express as px\n",
    "\n",
    "import sys\n",
    "sys.path.append('../..')\n",
    "from src import funciones as f\n",
    "from src import soporte_prep as sp\n",
    "\n",
    "import pandas as pd\n",
    "import numpy as np\n",
    "\n",
    "\n",
    "import warnings\n",
    "warnings.filterwarnings('ignore')\n",
    "pd.options.display.float_format = '{:.2f}'.format\n",
    "pd.set_option('display.max_columns', None)"
   ]
  },
  {
   "cell_type": "code",
   "execution_count": 95,
   "id": "62dc8961",
   "metadata": {},
   "outputs": [],
   "source": [
    "df_descodificada = pd.read_csv('../../Datos/datos_defunciones/df_descodificado_2024.csv', sep=\";\", encoding= \"latin-1\")"
   ]
  },
  {
   "cell_type": "code",
   "execution_count": 96,
   "id": "6200a2a9",
   "metadata": {},
   "outputs": [
    {
     "data": {
      "application/vnd.microsoft.datawrangler.viewer.v0+json": {
       "columns": [
        {
         "name": "index",
         "rawType": "int64",
         "type": "integer"
        },
        {
         "name": "REGION",
         "rawType": "object",
         "type": "string"
        },
        {
         "name": "PROVINCIA",
         "rawType": "object",
         "type": "string"
        },
        {
         "name": "DIASEMANA",
         "rawType": "object",
         "type": "string"
        },
        {
         "name": "MESOCU",
         "rawType": "object",
         "type": "string"
        },
        {
         "name": "ANOOCU",
         "rawType": "int64",
         "type": "integer"
        },
        {
         "name": "RHORA",
         "rawType": "object",
         "type": "string"
        },
        {
         "name": "TVIA",
         "rawType": "object",
         "type": "string"
        },
        {
         "name": "SEXO",
         "rawType": "object",
         "type": "string"
        },
        {
         "name": "GRUPOEDAD",
         "rawType": "object",
         "type": "string"
        },
        {
         "name": "CONDIVICTIMA",
         "rawType": "object",
         "type": "string"
        },
        {
         "name": "TIPOACCIDENTE",
         "rawType": "object",
         "type": "string"
        },
        {
         "name": "MEDIOTRANS",
         "rawType": "object",
         "type": "string"
        }
       ],
       "ref": "cd7b4b15-e797-45b4-844f-e66eec32ba64",
       "rows": [
        [
         "0",
         "Región Ozama",
         "Distrito Nacional",
         "Viernes",
         "Enero",
         "2007",
         "06:01-08:00",
         "Avenida",
         "Hombres",
         "No declarada",
         "Peatón",
         "Atropellamiento",
         "Peatón atropellado"
        ],
        [
         "1",
         "Región Ozama",
         "Distrito Nacional",
         "Jueves",
         "Enero",
         "2007",
         "10:01-12:00",
         "Avenida",
         "Mujeres",
         "65 y más",
         "Peatón",
         "Atropellamiento",
         "Peatón atropellado"
        ],
        [
         "2",
         "Región Ozama",
         "Distrito Nacional",
         "Domingo",
         "Enero",
         "2007",
         "22:01-24:00",
         "Avenida",
         "Hombres",
         "20 - 24",
         "No declarada",
         "Choque o colisión",
         "Motocicleta, ciclomotor (passola)"
        ],
        [
         "3",
         "Región Ozama",
         "Distrito Nacional",
         "Martes",
         "Enero",
         "2007",
         "10:01-12:00",
         "Autopista",
         "Mujeres",
         "40 - 44",
         "Peatón",
         "Atropellamiento",
         "Peatón atropellado"
        ],
        [
         "4",
         "Región Ozama",
         "Distrito Nacional",
         "Miércoles",
         "Enero",
         "2007",
         "22:01-24:00",
         "Autopista",
         "Hombres",
         "30 - 34",
         "No declarada",
         "Choque o colisión",
         "Automóvil (carro)"
        ]
       ],
       "shape": {
        "columns": 12,
        "rows": 5
       }
      },
      "text/html": [
       "<div>\n",
       "<style scoped>\n",
       "    .dataframe tbody tr th:only-of-type {\n",
       "        vertical-align: middle;\n",
       "    }\n",
       "\n",
       "    .dataframe tbody tr th {\n",
       "        vertical-align: top;\n",
       "    }\n",
       "\n",
       "    .dataframe thead th {\n",
       "        text-align: right;\n",
       "    }\n",
       "</style>\n",
       "<table border=\"1\" class=\"dataframe\">\n",
       "  <thead>\n",
       "    <tr style=\"text-align: right;\">\n",
       "      <th></th>\n",
       "      <th>REGION</th>\n",
       "      <th>PROVINCIA</th>\n",
       "      <th>DIASEMANA</th>\n",
       "      <th>MESOCU</th>\n",
       "      <th>ANOOCU</th>\n",
       "      <th>RHORA</th>\n",
       "      <th>TVIA</th>\n",
       "      <th>SEXO</th>\n",
       "      <th>GRUPOEDAD</th>\n",
       "      <th>CONDIVICTIMA</th>\n",
       "      <th>TIPOACCIDENTE</th>\n",
       "      <th>MEDIOTRANS</th>\n",
       "    </tr>\n",
       "  </thead>\n",
       "  <tbody>\n",
       "    <tr>\n",
       "      <th>0</th>\n",
       "      <td>Región Ozama</td>\n",
       "      <td>Distrito Nacional</td>\n",
       "      <td>Viernes</td>\n",
       "      <td>Enero</td>\n",
       "      <td>2007</td>\n",
       "      <td>06:01-08:00</td>\n",
       "      <td>Avenida</td>\n",
       "      <td>Hombres</td>\n",
       "      <td>No declarada</td>\n",
       "      <td>Peatón</td>\n",
       "      <td>Atropellamiento</td>\n",
       "      <td>Peatón atropellado</td>\n",
       "    </tr>\n",
       "    <tr>\n",
       "      <th>1</th>\n",
       "      <td>Región Ozama</td>\n",
       "      <td>Distrito Nacional</td>\n",
       "      <td>Jueves</td>\n",
       "      <td>Enero</td>\n",
       "      <td>2007</td>\n",
       "      <td>10:01-12:00</td>\n",
       "      <td>Avenida</td>\n",
       "      <td>Mujeres</td>\n",
       "      <td>65 y más</td>\n",
       "      <td>Peatón</td>\n",
       "      <td>Atropellamiento</td>\n",
       "      <td>Peatón atropellado</td>\n",
       "    </tr>\n",
       "    <tr>\n",
       "      <th>2</th>\n",
       "      <td>Región Ozama</td>\n",
       "      <td>Distrito Nacional</td>\n",
       "      <td>Domingo</td>\n",
       "      <td>Enero</td>\n",
       "      <td>2007</td>\n",
       "      <td>22:01-24:00</td>\n",
       "      <td>Avenida</td>\n",
       "      <td>Hombres</td>\n",
       "      <td>20 - 24</td>\n",
       "      <td>No declarada</td>\n",
       "      <td>Choque o colisión</td>\n",
       "      <td>Motocicleta, ciclomotor (passola)</td>\n",
       "    </tr>\n",
       "    <tr>\n",
       "      <th>3</th>\n",
       "      <td>Región Ozama</td>\n",
       "      <td>Distrito Nacional</td>\n",
       "      <td>Martes</td>\n",
       "      <td>Enero</td>\n",
       "      <td>2007</td>\n",
       "      <td>10:01-12:00</td>\n",
       "      <td>Autopista</td>\n",
       "      <td>Mujeres</td>\n",
       "      <td>40 - 44</td>\n",
       "      <td>Peatón</td>\n",
       "      <td>Atropellamiento</td>\n",
       "      <td>Peatón atropellado</td>\n",
       "    </tr>\n",
       "    <tr>\n",
       "      <th>4</th>\n",
       "      <td>Región Ozama</td>\n",
       "      <td>Distrito Nacional</td>\n",
       "      <td>Miércoles</td>\n",
       "      <td>Enero</td>\n",
       "      <td>2007</td>\n",
       "      <td>22:01-24:00</td>\n",
       "      <td>Autopista</td>\n",
       "      <td>Hombres</td>\n",
       "      <td>30 - 34</td>\n",
       "      <td>No declarada</td>\n",
       "      <td>Choque o colisión</td>\n",
       "      <td>Automóvil (carro)</td>\n",
       "    </tr>\n",
       "  </tbody>\n",
       "</table>\n",
       "</div>"
      ],
      "text/plain": [
       "         REGION          PROVINCIA  DIASEMANA MESOCU  ANOOCU        RHORA  \\\n",
       "0  Región Ozama  Distrito Nacional    Viernes  Enero    2007  06:01-08:00   \n",
       "1  Región Ozama  Distrito Nacional     Jueves  Enero    2007  10:01-12:00   \n",
       "2  Región Ozama  Distrito Nacional    Domingo  Enero    2007  22:01-24:00   \n",
       "3  Región Ozama  Distrito Nacional     Martes  Enero    2007  10:01-12:00   \n",
       "4  Región Ozama  Distrito Nacional  Miércoles  Enero    2007  22:01-24:00   \n",
       "\n",
       "        TVIA     SEXO     GRUPOEDAD  CONDIVICTIMA      TIPOACCIDENTE  \\\n",
       "0    Avenida  Hombres  No declarada        Peatón    Atropellamiento   \n",
       "1    Avenida  Mujeres      65 y más        Peatón    Atropellamiento   \n",
       "2    Avenida  Hombres       20 - 24  No declarada  Choque o colisión   \n",
       "3  Autopista  Mujeres       40 - 44        Peatón    Atropellamiento   \n",
       "4  Autopista  Hombres       30 - 34  No declarada  Choque o colisión   \n",
       "\n",
       "                          MEDIOTRANS  \n",
       "0                 Peatón atropellado  \n",
       "1                 Peatón atropellado  \n",
       "2  Motocicleta, ciclomotor (passola)  \n",
       "3                 Peatón atropellado  \n",
       "4                  Automóvil (carro)  "
      ]
     },
     "execution_count": 96,
     "metadata": {},
     "output_type": "execute_result"
    }
   ],
   "source": [
    "df_descodificada.head()"
   ]
  },
  {
   "cell_type": "code",
   "execution_count": 97,
   "id": "48d5e57c",
   "metadata": {},
   "outputs": [
    {
     "name": "stdout",
     "output_type": "stream",
     "text": [
      "El número de datos es 33512 y el de columnas es 12\n",
      "\n",
      " ..................... \n",
      "\n",
      "Los duplicados que tenemos en el conjunto de datos son: 745\n",
      "\n",
      " ..................... \n",
      "\n",
      "Los nulos que tenemos en el conjunto de datos son:\n"
     ]
    },
    {
     "data": {
      "application/vnd.microsoft.datawrangler.viewer.v0+json": {
       "columns": [
        {
         "name": "index",
         "rawType": "object",
         "type": "unknown"
        },
        {
         "name": "%_nulos",
         "rawType": "float64",
         "type": "float"
        }
       ],
       "ref": "d2e79d02-0ca9-4a30-a73a-f521b78b733d",
       "rows": [],
       "shape": {
        "columns": 1,
        "rows": 0
       }
      },
      "text/html": [
       "<div>\n",
       "<style scoped>\n",
       "    .dataframe tbody tr th:only-of-type {\n",
       "        vertical-align: middle;\n",
       "    }\n",
       "\n",
       "    .dataframe tbody tr th {\n",
       "        vertical-align: top;\n",
       "    }\n",
       "\n",
       "    .dataframe thead th {\n",
       "        text-align: right;\n",
       "    }\n",
       "</style>\n",
       "<table border=\"1\" class=\"dataframe\">\n",
       "  <thead>\n",
       "    <tr style=\"text-align: right;\">\n",
       "      <th></th>\n",
       "      <th>%_nulos</th>\n",
       "    </tr>\n",
       "  </thead>\n",
       "  <tbody>\n",
       "  </tbody>\n",
       "</table>\n",
       "</div>"
      ],
      "text/plain": [
       "Empty DataFrame\n",
       "Columns: [%_nulos]\n",
       "Index: []"
      ]
     },
     "metadata": {},
     "output_type": "display_data"
    },
    {
     "name": "stdout",
     "output_type": "stream",
     "text": [
      "\n",
      " ..................... \n",
      "\n",
      "Los tipos de las columnas son:\n"
     ]
    },
    {
     "data": {
      "application/vnd.microsoft.datawrangler.viewer.v0+json": {
       "columns": [
        {
         "name": "index",
         "rawType": "object",
         "type": "string"
        },
        {
         "name": "tipo_dato",
         "rawType": "object",
         "type": "unknown"
        }
       ],
       "ref": "044efe2f-f765-4781-b2e8-ad7ec185aa04",
       "rows": [
        [
         "REGION",
         "object"
        ],
        [
         "PROVINCIA",
         "object"
        ],
        [
         "DIASEMANA",
         "object"
        ],
        [
         "MESOCU",
         "object"
        ],
        [
         "ANOOCU",
         "int64"
        ],
        [
         "RHORA",
         "object"
        ],
        [
         "TVIA",
         "object"
        ],
        [
         "SEXO",
         "object"
        ],
        [
         "GRUPOEDAD",
         "object"
        ],
        [
         "CONDIVICTIMA",
         "object"
        ],
        [
         "TIPOACCIDENTE",
         "object"
        ],
        [
         "MEDIOTRANS",
         "object"
        ]
       ],
       "shape": {
        "columns": 1,
        "rows": 12
       }
      },
      "text/html": [
       "<div>\n",
       "<style scoped>\n",
       "    .dataframe tbody tr th:only-of-type {\n",
       "        vertical-align: middle;\n",
       "    }\n",
       "\n",
       "    .dataframe tbody tr th {\n",
       "        vertical-align: top;\n",
       "    }\n",
       "\n",
       "    .dataframe thead th {\n",
       "        text-align: right;\n",
       "    }\n",
       "</style>\n",
       "<table border=\"1\" class=\"dataframe\">\n",
       "  <thead>\n",
       "    <tr style=\"text-align: right;\">\n",
       "      <th></th>\n",
       "      <th>tipo_dato</th>\n",
       "    </tr>\n",
       "  </thead>\n",
       "  <tbody>\n",
       "    <tr>\n",
       "      <th>REGION</th>\n",
       "      <td>object</td>\n",
       "    </tr>\n",
       "    <tr>\n",
       "      <th>PROVINCIA</th>\n",
       "      <td>object</td>\n",
       "    </tr>\n",
       "    <tr>\n",
       "      <th>DIASEMANA</th>\n",
       "      <td>object</td>\n",
       "    </tr>\n",
       "    <tr>\n",
       "      <th>MESOCU</th>\n",
       "      <td>object</td>\n",
       "    </tr>\n",
       "    <tr>\n",
       "      <th>ANOOCU</th>\n",
       "      <td>int64</td>\n",
       "    </tr>\n",
       "    <tr>\n",
       "      <th>RHORA</th>\n",
       "      <td>object</td>\n",
       "    </tr>\n",
       "    <tr>\n",
       "      <th>TVIA</th>\n",
       "      <td>object</td>\n",
       "    </tr>\n",
       "    <tr>\n",
       "      <th>SEXO</th>\n",
       "      <td>object</td>\n",
       "    </tr>\n",
       "    <tr>\n",
       "      <th>GRUPOEDAD</th>\n",
       "      <td>object</td>\n",
       "    </tr>\n",
       "    <tr>\n",
       "      <th>CONDIVICTIMA</th>\n",
       "      <td>object</td>\n",
       "    </tr>\n",
       "    <tr>\n",
       "      <th>TIPOACCIDENTE</th>\n",
       "      <td>object</td>\n",
       "    </tr>\n",
       "    <tr>\n",
       "      <th>MEDIOTRANS</th>\n",
       "      <td>object</td>\n",
       "    </tr>\n",
       "  </tbody>\n",
       "</table>\n",
       "</div>"
      ],
      "text/plain": [
       "              tipo_dato\n",
       "REGION           object\n",
       "PROVINCIA        object\n",
       "DIASEMANA        object\n",
       "MESOCU           object\n",
       "ANOOCU            int64\n",
       "RHORA            object\n",
       "TVIA             object\n",
       "SEXO             object\n",
       "GRUPOEDAD        object\n",
       "CONDIVICTIMA     object\n",
       "TIPOACCIDENTE    object\n",
       "MEDIOTRANS       object"
      ]
     },
     "metadata": {},
     "output_type": "display_data"
    },
    {
     "name": "stdout",
     "output_type": "stream",
     "text": [
      "\n",
      " ..................... \n",
      "\n",
      "Los valores que tenemos para las columnas categóricas son: \n",
      "La columna REGION tiene los siguientes valores únicos:\n"
     ]
    },
    {
     "data": {
      "application/vnd.microsoft.datawrangler.viewer.v0+json": {
       "columns": [
        {
         "name": "REGION",
         "rawType": "object",
         "type": "string"
        },
        {
         "name": "count",
         "rawType": "int64",
         "type": "integer"
        }
       ],
       "ref": "998c6443-2bfa-4461-b391-e6efe204f7de",
       "rows": [
        [
         "Región Ozama",
         "6740"
        ],
        [
         "Región Cibao Norte",
         "4964"
        ],
        [
         "Región Cibao Sur",
         "4079"
        ],
        [
         "Región Valdesia",
         "3764"
        ],
        [
         "Región Yuma",
         "3181"
        ],
        [
         "Región Cibao Nordeste",
         "3141"
        ],
        [
         "Región El Valle",
         "2276"
        ],
        [
         "Región Higuamo",
         "2195"
        ],
        [
         "Región Cibao Noroeste",
         "1902"
        ],
        [
         "Región Enriquillo",
         "1265"
        ],
        [
         "No declarada",
         "5"
        ]
       ],
       "shape": {
        "columns": 1,
        "rows": 11
       }
      },
      "text/html": [
       "<div>\n",
       "<style scoped>\n",
       "    .dataframe tbody tr th:only-of-type {\n",
       "        vertical-align: middle;\n",
       "    }\n",
       "\n",
       "    .dataframe tbody tr th {\n",
       "        vertical-align: top;\n",
       "    }\n",
       "\n",
       "    .dataframe thead th {\n",
       "        text-align: right;\n",
       "    }\n",
       "</style>\n",
       "<table border=\"1\" class=\"dataframe\">\n",
       "  <thead>\n",
       "    <tr style=\"text-align: right;\">\n",
       "      <th></th>\n",
       "      <th>count</th>\n",
       "    </tr>\n",
       "    <tr>\n",
       "      <th>REGION</th>\n",
       "      <th></th>\n",
       "    </tr>\n",
       "  </thead>\n",
       "  <tbody>\n",
       "    <tr>\n",
       "      <th>Región Ozama</th>\n",
       "      <td>6740</td>\n",
       "    </tr>\n",
       "    <tr>\n",
       "      <th>Región Cibao Norte</th>\n",
       "      <td>4964</td>\n",
       "    </tr>\n",
       "    <tr>\n",
       "      <th>Región Cibao Sur</th>\n",
       "      <td>4079</td>\n",
       "    </tr>\n",
       "    <tr>\n",
       "      <th>Región Valdesia</th>\n",
       "      <td>3764</td>\n",
       "    </tr>\n",
       "    <tr>\n",
       "      <th>Región Yuma</th>\n",
       "      <td>3181</td>\n",
       "    </tr>\n",
       "    <tr>\n",
       "      <th>Región Cibao Nordeste</th>\n",
       "      <td>3141</td>\n",
       "    </tr>\n",
       "    <tr>\n",
       "      <th>Región El Valle</th>\n",
       "      <td>2276</td>\n",
       "    </tr>\n",
       "    <tr>\n",
       "      <th>Región Higuamo</th>\n",
       "      <td>2195</td>\n",
       "    </tr>\n",
       "    <tr>\n",
       "      <th>Región Cibao Noroeste</th>\n",
       "      <td>1902</td>\n",
       "    </tr>\n",
       "    <tr>\n",
       "      <th>Región Enriquillo</th>\n",
       "      <td>1265</td>\n",
       "    </tr>\n",
       "    <tr>\n",
       "      <th>No declarada</th>\n",
       "      <td>5</td>\n",
       "    </tr>\n",
       "  </tbody>\n",
       "</table>\n",
       "</div>"
      ],
      "text/plain": [
       "                       count\n",
       "REGION                      \n",
       "Región Ozama            6740\n",
       "Región Cibao Norte      4964\n",
       "Región Cibao Sur        4079\n",
       "Región Valdesia         3764\n",
       "Región Yuma             3181\n",
       "Región Cibao Nordeste   3141\n",
       "Región El Valle         2276\n",
       "Región Higuamo          2195\n",
       "Región Cibao Noroeste   1902\n",
       "Región Enriquillo       1265\n",
       "No declarada               5"
      ]
     },
     "metadata": {},
     "output_type": "display_data"
    },
    {
     "name": "stdout",
     "output_type": "stream",
     "text": [
      "La columna PROVINCIA tiene los siguientes valores únicos:\n"
     ]
    },
    {
     "data": {
      "application/vnd.microsoft.datawrangler.viewer.v0+json": {
       "columns": [
        {
         "name": "PROVINCIA",
         "rawType": "object",
         "type": "string"
        },
        {
         "name": "count",
         "rawType": "int64",
         "type": "integer"
        }
       ],
       "ref": "5cdaeb47-6e6c-4d15-9763-3f8253eb8f57",
       "rows": [
        [
         "Santo Domingo",
         "5032"
        ],
        [
         "San Cristóbal",
         "2559"
        ],
        [
         "Santiago",
         "2496"
        ],
        [
         "La Vega",
         "2304"
        ],
        [
         "La Altagracia",
         "2078"
        ],
        [
         "Distrito Nacional",
         "1708"
        ],
        [
         "Puerto Plata",
         "1478"
        ],
        [
         "Duarte",
         "1267"
        ],
        [
         "Monseñor Nouel",
         "1142"
        ],
        [
         "San Pedro de Macorís",
         "1119"
        ],
        [
         "Azua",
         "1088"
        ],
        [
         "San Juan",
         "1045"
        ],
        [
         "Espaillat",
         "990"
        ],
        [
         "Peravia",
         "978"
        ],
        [
         "María Trinidad Sánchez",
         "797"
        ],
        [
         "Monte Plata",
         "794"
        ],
        [
         "Valverde",
         "788"
        ],
        [
         "La Romana",
         "755"
        ],
        [
         "Samaná",
         "658"
        ],
        [
         "Sánchez Ramírez",
         "633"
        ],
        [
         "Barahona",
         "633"
        ],
        [
         "Monte Cristi",
         "569"
        ],
        [
         "Hermanas Mirabal",
         "419"
        ],
        [
         "Baoruco",
         "359"
        ],
        [
         "El Seibo",
         "348"
        ],
        [
         "Dajabón",
         "320"
        ],
        [
         "Hato Mayor",
         "282"
        ],
        [
         "San José de Ocoa",
         "227"
        ],
        [
         "Santiago Rodríguez",
         "225"
        ],
        [
         "Independencia",
         "170"
        ],
        [
         "Elías Piña",
         "143"
        ],
        [
         "Pedernales",
         "103"
        ],
        [
         "No declarado",
         "5"
        ]
       ],
       "shape": {
        "columns": 1,
        "rows": 33
       }
      },
      "text/html": [
       "<div>\n",
       "<style scoped>\n",
       "    .dataframe tbody tr th:only-of-type {\n",
       "        vertical-align: middle;\n",
       "    }\n",
       "\n",
       "    .dataframe tbody tr th {\n",
       "        vertical-align: top;\n",
       "    }\n",
       "\n",
       "    .dataframe thead th {\n",
       "        text-align: right;\n",
       "    }\n",
       "</style>\n",
       "<table border=\"1\" class=\"dataframe\">\n",
       "  <thead>\n",
       "    <tr style=\"text-align: right;\">\n",
       "      <th></th>\n",
       "      <th>count</th>\n",
       "    </tr>\n",
       "    <tr>\n",
       "      <th>PROVINCIA</th>\n",
       "      <th></th>\n",
       "    </tr>\n",
       "  </thead>\n",
       "  <tbody>\n",
       "    <tr>\n",
       "      <th>Santo Domingo</th>\n",
       "      <td>5032</td>\n",
       "    </tr>\n",
       "    <tr>\n",
       "      <th>San Cristóbal</th>\n",
       "      <td>2559</td>\n",
       "    </tr>\n",
       "    <tr>\n",
       "      <th>Santiago</th>\n",
       "      <td>2496</td>\n",
       "    </tr>\n",
       "    <tr>\n",
       "      <th>La Vega</th>\n",
       "      <td>2304</td>\n",
       "    </tr>\n",
       "    <tr>\n",
       "      <th>La Altagracia</th>\n",
       "      <td>2078</td>\n",
       "    </tr>\n",
       "    <tr>\n",
       "      <th>Distrito Nacional</th>\n",
       "      <td>1708</td>\n",
       "    </tr>\n",
       "    <tr>\n",
       "      <th>Puerto Plata</th>\n",
       "      <td>1478</td>\n",
       "    </tr>\n",
       "    <tr>\n",
       "      <th>Duarte</th>\n",
       "      <td>1267</td>\n",
       "    </tr>\n",
       "    <tr>\n",
       "      <th>Monseñor Nouel</th>\n",
       "      <td>1142</td>\n",
       "    </tr>\n",
       "    <tr>\n",
       "      <th>San Pedro de Macorís</th>\n",
       "      <td>1119</td>\n",
       "    </tr>\n",
       "    <tr>\n",
       "      <th>Azua</th>\n",
       "      <td>1088</td>\n",
       "    </tr>\n",
       "    <tr>\n",
       "      <th>San Juan</th>\n",
       "      <td>1045</td>\n",
       "    </tr>\n",
       "    <tr>\n",
       "      <th>Espaillat</th>\n",
       "      <td>990</td>\n",
       "    </tr>\n",
       "    <tr>\n",
       "      <th>Peravia</th>\n",
       "      <td>978</td>\n",
       "    </tr>\n",
       "    <tr>\n",
       "      <th>María Trinidad Sánchez</th>\n",
       "      <td>797</td>\n",
       "    </tr>\n",
       "    <tr>\n",
       "      <th>Monte Plata</th>\n",
       "      <td>794</td>\n",
       "    </tr>\n",
       "    <tr>\n",
       "      <th>Valverde</th>\n",
       "      <td>788</td>\n",
       "    </tr>\n",
       "    <tr>\n",
       "      <th>La Romana</th>\n",
       "      <td>755</td>\n",
       "    </tr>\n",
       "    <tr>\n",
       "      <th>Samaná</th>\n",
       "      <td>658</td>\n",
       "    </tr>\n",
       "    <tr>\n",
       "      <th>Sánchez Ramírez</th>\n",
       "      <td>633</td>\n",
       "    </tr>\n",
       "    <tr>\n",
       "      <th>Barahona</th>\n",
       "      <td>633</td>\n",
       "    </tr>\n",
       "    <tr>\n",
       "      <th>Monte Cristi</th>\n",
       "      <td>569</td>\n",
       "    </tr>\n",
       "    <tr>\n",
       "      <th>Hermanas Mirabal</th>\n",
       "      <td>419</td>\n",
       "    </tr>\n",
       "    <tr>\n",
       "      <th>Baoruco</th>\n",
       "      <td>359</td>\n",
       "    </tr>\n",
       "    <tr>\n",
       "      <th>El Seibo</th>\n",
       "      <td>348</td>\n",
       "    </tr>\n",
       "    <tr>\n",
       "      <th>Dajabón</th>\n",
       "      <td>320</td>\n",
       "    </tr>\n",
       "    <tr>\n",
       "      <th>Hato Mayor</th>\n",
       "      <td>282</td>\n",
       "    </tr>\n",
       "    <tr>\n",
       "      <th>San José de Ocoa</th>\n",
       "      <td>227</td>\n",
       "    </tr>\n",
       "    <tr>\n",
       "      <th>Santiago Rodríguez</th>\n",
       "      <td>225</td>\n",
       "    </tr>\n",
       "    <tr>\n",
       "      <th>Independencia</th>\n",
       "      <td>170</td>\n",
       "    </tr>\n",
       "    <tr>\n",
       "      <th>Elías Piña</th>\n",
       "      <td>143</td>\n",
       "    </tr>\n",
       "    <tr>\n",
       "      <th>Pedernales</th>\n",
       "      <td>103</td>\n",
       "    </tr>\n",
       "    <tr>\n",
       "      <th>No declarado</th>\n",
       "      <td>5</td>\n",
       "    </tr>\n",
       "  </tbody>\n",
       "</table>\n",
       "</div>"
      ],
      "text/plain": [
       "                        count\n",
       "PROVINCIA                    \n",
       "Santo Domingo            5032\n",
       "San Cristóbal            2559\n",
       "Santiago                 2496\n",
       "La Vega                  2304\n",
       "La Altagracia            2078\n",
       "Distrito Nacional        1708\n",
       "Puerto Plata             1478\n",
       "Duarte                   1267\n",
       "Monseñor Nouel           1142\n",
       "San Pedro de Macorís     1119\n",
       "Azua                     1088\n",
       "San Juan                 1045\n",
       "Espaillat                 990\n",
       "Peravia                   978\n",
       "María Trinidad Sánchez    797\n",
       "Monte Plata               794\n",
       "Valverde                  788\n",
       "La Romana                 755\n",
       "Samaná                    658\n",
       "Sánchez Ramírez           633\n",
       "Barahona                  633\n",
       "Monte Cristi              569\n",
       "Hermanas Mirabal          419\n",
       "Baoruco                   359\n",
       "El Seibo                  348\n",
       "Dajabón                   320\n",
       "Hato Mayor                282\n",
       "San José de Ocoa          227\n",
       "Santiago Rodríguez        225\n",
       "Independencia             170\n",
       "Elías Piña                143\n",
       "Pedernales                103\n",
       "No declarado                5"
      ]
     },
     "metadata": {},
     "output_type": "display_data"
    },
    {
     "name": "stdout",
     "output_type": "stream",
     "text": [
      "La columna DIASEMANA tiene los siguientes valores únicos:\n"
     ]
    },
    {
     "data": {
      "application/vnd.microsoft.datawrangler.viewer.v0+json": {
       "columns": [
        {
         "name": "DIASEMANA",
         "rawType": "object",
         "type": "string"
        },
        {
         "name": "count",
         "rawType": "int64",
         "type": "integer"
        }
       ],
       "ref": "b1716246-fbf7-4050-bfb2-f58d8e97748c",
       "rows": [
        [
         "Domingo",
         "8508"
        ],
        [
         "Sábado",
         "5441"
        ],
        [
         "Lunes",
         "5400"
        ],
        [
         "Viernes",
         "3885"
        ],
        [
         "Jueves",
         "3530"
        ],
        [
         "Martes",
         "3483"
        ],
        [
         "Miércoles",
         "3265"
        ]
       ],
       "shape": {
        "columns": 1,
        "rows": 7
       }
      },
      "text/html": [
       "<div>\n",
       "<style scoped>\n",
       "    .dataframe tbody tr th:only-of-type {\n",
       "        vertical-align: middle;\n",
       "    }\n",
       "\n",
       "    .dataframe tbody tr th {\n",
       "        vertical-align: top;\n",
       "    }\n",
       "\n",
       "    .dataframe thead th {\n",
       "        text-align: right;\n",
       "    }\n",
       "</style>\n",
       "<table border=\"1\" class=\"dataframe\">\n",
       "  <thead>\n",
       "    <tr style=\"text-align: right;\">\n",
       "      <th></th>\n",
       "      <th>count</th>\n",
       "    </tr>\n",
       "    <tr>\n",
       "      <th>DIASEMANA</th>\n",
       "      <th></th>\n",
       "    </tr>\n",
       "  </thead>\n",
       "  <tbody>\n",
       "    <tr>\n",
       "      <th>Domingo</th>\n",
       "      <td>8508</td>\n",
       "    </tr>\n",
       "    <tr>\n",
       "      <th>Sábado</th>\n",
       "      <td>5441</td>\n",
       "    </tr>\n",
       "    <tr>\n",
       "      <th>Lunes</th>\n",
       "      <td>5400</td>\n",
       "    </tr>\n",
       "    <tr>\n",
       "      <th>Viernes</th>\n",
       "      <td>3885</td>\n",
       "    </tr>\n",
       "    <tr>\n",
       "      <th>Jueves</th>\n",
       "      <td>3530</td>\n",
       "    </tr>\n",
       "    <tr>\n",
       "      <th>Martes</th>\n",
       "      <td>3483</td>\n",
       "    </tr>\n",
       "    <tr>\n",
       "      <th>Miércoles</th>\n",
       "      <td>3265</td>\n",
       "    </tr>\n",
       "  </tbody>\n",
       "</table>\n",
       "</div>"
      ],
      "text/plain": [
       "           count\n",
       "DIASEMANA       \n",
       "Domingo     8508\n",
       "Sábado      5441\n",
       "Lunes       5400\n",
       "Viernes     3885\n",
       "Jueves      3530\n",
       "Martes      3483\n",
       "Miércoles   3265"
      ]
     },
     "metadata": {},
     "output_type": "display_data"
    },
    {
     "name": "stdout",
     "output_type": "stream",
     "text": [
      "La columna MESOCU tiene los siguientes valores únicos:\n"
     ]
    },
    {
     "data": {
      "application/vnd.microsoft.datawrangler.viewer.v0+json": {
       "columns": [
        {
         "name": "MESOCU",
         "rawType": "object",
         "type": "string"
        },
        {
         "name": "count",
         "rawType": "int64",
         "type": "integer"
        }
       ],
       "ref": "63f45630-8422-4214-a43e-b2a1c0a21e68",
       "rows": [
        [
         "Diciembre",
         "3343"
        ],
        [
         "Marzo",
         "2900"
        ],
        [
         "Julio",
         "2869"
        ],
        [
         "Enero",
         "2867"
        ],
        [
         "Octubre",
         "2832"
        ],
        [
         "Noviembre",
         "2770"
        ],
        [
         "Febrero",
         "2730"
        ],
        [
         "Abril",
         "2730"
        ],
        [
         "Mayo",
         "2692"
        ],
        [
         "Agosto",
         "2635"
        ],
        [
         "Junio",
         "2613"
        ],
        [
         "Septiembre",
         "2531"
        ]
       ],
       "shape": {
        "columns": 1,
        "rows": 12
       }
      },
      "text/html": [
       "<div>\n",
       "<style scoped>\n",
       "    .dataframe tbody tr th:only-of-type {\n",
       "        vertical-align: middle;\n",
       "    }\n",
       "\n",
       "    .dataframe tbody tr th {\n",
       "        vertical-align: top;\n",
       "    }\n",
       "\n",
       "    .dataframe thead th {\n",
       "        text-align: right;\n",
       "    }\n",
       "</style>\n",
       "<table border=\"1\" class=\"dataframe\">\n",
       "  <thead>\n",
       "    <tr style=\"text-align: right;\">\n",
       "      <th></th>\n",
       "      <th>count</th>\n",
       "    </tr>\n",
       "    <tr>\n",
       "      <th>MESOCU</th>\n",
       "      <th></th>\n",
       "    </tr>\n",
       "  </thead>\n",
       "  <tbody>\n",
       "    <tr>\n",
       "      <th>Diciembre</th>\n",
       "      <td>3343</td>\n",
       "    </tr>\n",
       "    <tr>\n",
       "      <th>Marzo</th>\n",
       "      <td>2900</td>\n",
       "    </tr>\n",
       "    <tr>\n",
       "      <th>Julio</th>\n",
       "      <td>2869</td>\n",
       "    </tr>\n",
       "    <tr>\n",
       "      <th>Enero</th>\n",
       "      <td>2867</td>\n",
       "    </tr>\n",
       "    <tr>\n",
       "      <th>Octubre</th>\n",
       "      <td>2832</td>\n",
       "    </tr>\n",
       "    <tr>\n",
       "      <th>Noviembre</th>\n",
       "      <td>2770</td>\n",
       "    </tr>\n",
       "    <tr>\n",
       "      <th>Febrero</th>\n",
       "      <td>2730</td>\n",
       "    </tr>\n",
       "    <tr>\n",
       "      <th>Abril</th>\n",
       "      <td>2730</td>\n",
       "    </tr>\n",
       "    <tr>\n",
       "      <th>Mayo</th>\n",
       "      <td>2692</td>\n",
       "    </tr>\n",
       "    <tr>\n",
       "      <th>Agosto</th>\n",
       "      <td>2635</td>\n",
       "    </tr>\n",
       "    <tr>\n",
       "      <th>Junio</th>\n",
       "      <td>2613</td>\n",
       "    </tr>\n",
       "    <tr>\n",
       "      <th>Septiembre</th>\n",
       "      <td>2531</td>\n",
       "    </tr>\n",
       "  </tbody>\n",
       "</table>\n",
       "</div>"
      ],
      "text/plain": [
       "            count\n",
       "MESOCU           \n",
       "Diciembre    3343\n",
       "Marzo        2900\n",
       "Julio        2869\n",
       "Enero        2867\n",
       "Octubre      2832\n",
       "Noviembre    2770\n",
       "Febrero      2730\n",
       "Abril        2730\n",
       "Mayo         2692\n",
       "Agosto       2635\n",
       "Junio        2613\n",
       "Septiembre   2531"
      ]
     },
     "metadata": {},
     "output_type": "display_data"
    },
    {
     "name": "stdout",
     "output_type": "stream",
     "text": [
      "La columna RHORA tiene los siguientes valores únicos:\n"
     ]
    },
    {
     "data": {
      "application/vnd.microsoft.datawrangler.viewer.v0+json": {
       "columns": [
        {
         "name": "RHORA",
         "rawType": "object",
         "type": "string"
        },
        {
         "name": "count",
         "rawType": "int64",
         "type": "integer"
        }
       ],
       "ref": "e88e9d11-6fac-47b5-92c0-5da90ddb85bc",
       "rows": [
        [
         "18:01-20:00",
         "4063"
        ],
        [
         "20:01-22:00",
         "3844"
        ],
        [
         "16:01-18:00",
         "3148"
        ],
        [
         "10:01-12:00",
         "2700"
        ],
        [
         "22:01-24:00",
         "2663"
        ],
        [
         "14:01-16:00",
         "2662"
        ],
        [
         "00:01-02:00",
         "2630"
        ],
        [
         "08:01-10:00",
         "2480"
        ],
        [
         "12:01-14:00",
         "2476"
        ],
        [
         "06:01-08:00",
         "2433"
        ],
        [
         "02:01-04:00",
         "2084"
        ],
        [
         "04:01-06:00",
         "1860"
        ],
        [
         "No declarada",
         "469"
        ]
       ],
       "shape": {
        "columns": 1,
        "rows": 13
       }
      },
      "text/html": [
       "<div>\n",
       "<style scoped>\n",
       "    .dataframe tbody tr th:only-of-type {\n",
       "        vertical-align: middle;\n",
       "    }\n",
       "\n",
       "    .dataframe tbody tr th {\n",
       "        vertical-align: top;\n",
       "    }\n",
       "\n",
       "    .dataframe thead th {\n",
       "        text-align: right;\n",
       "    }\n",
       "</style>\n",
       "<table border=\"1\" class=\"dataframe\">\n",
       "  <thead>\n",
       "    <tr style=\"text-align: right;\">\n",
       "      <th></th>\n",
       "      <th>count</th>\n",
       "    </tr>\n",
       "    <tr>\n",
       "      <th>RHORA</th>\n",
       "      <th></th>\n",
       "    </tr>\n",
       "  </thead>\n",
       "  <tbody>\n",
       "    <tr>\n",
       "      <th>18:01-20:00</th>\n",
       "      <td>4063</td>\n",
       "    </tr>\n",
       "    <tr>\n",
       "      <th>20:01-22:00</th>\n",
       "      <td>3844</td>\n",
       "    </tr>\n",
       "    <tr>\n",
       "      <th>16:01-18:00</th>\n",
       "      <td>3148</td>\n",
       "    </tr>\n",
       "    <tr>\n",
       "      <th>10:01-12:00</th>\n",
       "      <td>2700</td>\n",
       "    </tr>\n",
       "    <tr>\n",
       "      <th>22:01-24:00</th>\n",
       "      <td>2663</td>\n",
       "    </tr>\n",
       "    <tr>\n",
       "      <th>14:01-16:00</th>\n",
       "      <td>2662</td>\n",
       "    </tr>\n",
       "    <tr>\n",
       "      <th>00:01-02:00</th>\n",
       "      <td>2630</td>\n",
       "    </tr>\n",
       "    <tr>\n",
       "      <th>08:01-10:00</th>\n",
       "      <td>2480</td>\n",
       "    </tr>\n",
       "    <tr>\n",
       "      <th>12:01-14:00</th>\n",
       "      <td>2476</td>\n",
       "    </tr>\n",
       "    <tr>\n",
       "      <th>06:01-08:00</th>\n",
       "      <td>2433</td>\n",
       "    </tr>\n",
       "    <tr>\n",
       "      <th>02:01-04:00</th>\n",
       "      <td>2084</td>\n",
       "    </tr>\n",
       "    <tr>\n",
       "      <th>04:01-06:00</th>\n",
       "      <td>1860</td>\n",
       "    </tr>\n",
       "    <tr>\n",
       "      <th>No declarada</th>\n",
       "      <td>469</td>\n",
       "    </tr>\n",
       "  </tbody>\n",
       "</table>\n",
       "</div>"
      ],
      "text/plain": [
       "              count\n",
       "RHORA              \n",
       "18:01-20:00    4063\n",
       "20:01-22:00    3844\n",
       "16:01-18:00    3148\n",
       "10:01-12:00    2700\n",
       "22:01-24:00    2663\n",
       "14:01-16:00    2662\n",
       "00:01-02:00    2630\n",
       "08:01-10:00    2480\n",
       "12:01-14:00    2476\n",
       "06:01-08:00    2433\n",
       "02:01-04:00    2084\n",
       "04:01-06:00    1860\n",
       "No declarada    469"
      ]
     },
     "metadata": {},
     "output_type": "display_data"
    },
    {
     "name": "stdout",
     "output_type": "stream",
     "text": [
      "La columna TVIA tiene los siguientes valores únicos:\n"
     ]
    },
    {
     "data": {
      "application/vnd.microsoft.datawrangler.viewer.v0+json": {
       "columns": [
        {
         "name": "TVIA",
         "rawType": "object",
         "type": "string"
        },
        {
         "name": "count",
         "rawType": "int64",
         "type": "integer"
        }
       ],
       "ref": "9ec34b64-a59b-4c67-8045-be3199f8fd00",
       "rows": [
        [
         "Carretera",
         "14702"
        ],
        [
         "Calle",
         "6550"
        ],
        [
         "Avenida",
         "5030"
        ],
        [
         "Autopista",
         "4851"
        ],
        [
         "No declarada",
         "1533"
        ],
        [
         "Autovía",
         "366"
        ],
        [
         "Bulevar",
         "159"
        ],
        [
         "Puente",
         "132"
        ],
        [
         "Camino vecinal",
         "85"
        ],
        [
         "Otras",
         "43"
        ],
        [
         "Elevado",
         "39"
        ],
        [
         "Cruce",
         "11"
        ],
        [
         "Tunel",
         "8"
        ],
        [
         "Vía férrea",
         "3"
        ]
       ],
       "shape": {
        "columns": 1,
        "rows": 14
       }
      },
      "text/html": [
       "<div>\n",
       "<style scoped>\n",
       "    .dataframe tbody tr th:only-of-type {\n",
       "        vertical-align: middle;\n",
       "    }\n",
       "\n",
       "    .dataframe tbody tr th {\n",
       "        vertical-align: top;\n",
       "    }\n",
       "\n",
       "    .dataframe thead th {\n",
       "        text-align: right;\n",
       "    }\n",
       "</style>\n",
       "<table border=\"1\" class=\"dataframe\">\n",
       "  <thead>\n",
       "    <tr style=\"text-align: right;\">\n",
       "      <th></th>\n",
       "      <th>count</th>\n",
       "    </tr>\n",
       "    <tr>\n",
       "      <th>TVIA</th>\n",
       "      <th></th>\n",
       "    </tr>\n",
       "  </thead>\n",
       "  <tbody>\n",
       "    <tr>\n",
       "      <th>Carretera</th>\n",
       "      <td>14702</td>\n",
       "    </tr>\n",
       "    <tr>\n",
       "      <th>Calle</th>\n",
       "      <td>6550</td>\n",
       "    </tr>\n",
       "    <tr>\n",
       "      <th>Avenida</th>\n",
       "      <td>5030</td>\n",
       "    </tr>\n",
       "    <tr>\n",
       "      <th>Autopista</th>\n",
       "      <td>4851</td>\n",
       "    </tr>\n",
       "    <tr>\n",
       "      <th>No declarada</th>\n",
       "      <td>1533</td>\n",
       "    </tr>\n",
       "    <tr>\n",
       "      <th>Autovía</th>\n",
       "      <td>366</td>\n",
       "    </tr>\n",
       "    <tr>\n",
       "      <th>Bulevar</th>\n",
       "      <td>159</td>\n",
       "    </tr>\n",
       "    <tr>\n",
       "      <th>Puente</th>\n",
       "      <td>132</td>\n",
       "    </tr>\n",
       "    <tr>\n",
       "      <th>Camino vecinal</th>\n",
       "      <td>85</td>\n",
       "    </tr>\n",
       "    <tr>\n",
       "      <th>Otras</th>\n",
       "      <td>43</td>\n",
       "    </tr>\n",
       "    <tr>\n",
       "      <th>Elevado</th>\n",
       "      <td>39</td>\n",
       "    </tr>\n",
       "    <tr>\n",
       "      <th>Cruce</th>\n",
       "      <td>11</td>\n",
       "    </tr>\n",
       "    <tr>\n",
       "      <th>Tunel</th>\n",
       "      <td>8</td>\n",
       "    </tr>\n",
       "    <tr>\n",
       "      <th>Vía férrea</th>\n",
       "      <td>3</td>\n",
       "    </tr>\n",
       "  </tbody>\n",
       "</table>\n",
       "</div>"
      ],
      "text/plain": [
       "                count\n",
       "TVIA                 \n",
       "Carretera       14702\n",
       "Calle            6550\n",
       "Avenida          5030\n",
       "Autopista        4851\n",
       "No declarada     1533\n",
       "Autovía           366\n",
       "Bulevar           159\n",
       "Puente            132\n",
       "Camino vecinal     85\n",
       "Otras              43\n",
       "Elevado            39\n",
       "Cruce              11\n",
       "Tunel               8\n",
       "Vía férrea          3"
      ]
     },
     "metadata": {},
     "output_type": "display_data"
    },
    {
     "name": "stdout",
     "output_type": "stream",
     "text": [
      "La columna SEXO tiene los siguientes valores únicos:\n"
     ]
    },
    {
     "data": {
      "application/vnd.microsoft.datawrangler.viewer.v0+json": {
       "columns": [
        {
         "name": "SEXO",
         "rawType": "object",
         "type": "string"
        },
        {
         "name": "count",
         "rawType": "int64",
         "type": "integer"
        }
       ],
       "ref": "d43daf52-bca5-4329-89de-bfc687a9e74e",
       "rows": [
        [
         "Hombres",
         "29279"
        ],
        [
         "Mujeres",
         "4151"
        ],
        [
         "No declarado",
         "82"
        ]
       ],
       "shape": {
        "columns": 1,
        "rows": 3
       }
      },
      "text/html": [
       "<div>\n",
       "<style scoped>\n",
       "    .dataframe tbody tr th:only-of-type {\n",
       "        vertical-align: middle;\n",
       "    }\n",
       "\n",
       "    .dataframe tbody tr th {\n",
       "        vertical-align: top;\n",
       "    }\n",
       "\n",
       "    .dataframe thead th {\n",
       "        text-align: right;\n",
       "    }\n",
       "</style>\n",
       "<table border=\"1\" class=\"dataframe\">\n",
       "  <thead>\n",
       "    <tr style=\"text-align: right;\">\n",
       "      <th></th>\n",
       "      <th>count</th>\n",
       "    </tr>\n",
       "    <tr>\n",
       "      <th>SEXO</th>\n",
       "      <th></th>\n",
       "    </tr>\n",
       "  </thead>\n",
       "  <tbody>\n",
       "    <tr>\n",
       "      <th>Hombres</th>\n",
       "      <td>29279</td>\n",
       "    </tr>\n",
       "    <tr>\n",
       "      <th>Mujeres</th>\n",
       "      <td>4151</td>\n",
       "    </tr>\n",
       "    <tr>\n",
       "      <th>No declarado</th>\n",
       "      <td>82</td>\n",
       "    </tr>\n",
       "  </tbody>\n",
       "</table>\n",
       "</div>"
      ],
      "text/plain": [
       "              count\n",
       "SEXO               \n",
       "Hombres       29279\n",
       "Mujeres        4151\n",
       "No declarado     82"
      ]
     },
     "metadata": {},
     "output_type": "display_data"
    },
    {
     "name": "stdout",
     "output_type": "stream",
     "text": [
      "La columna GRUPOEDAD tiene los siguientes valores únicos:\n"
     ]
    },
    {
     "data": {
      "application/vnd.microsoft.datawrangler.viewer.v0+json": {
       "columns": [
        {
         "name": "GRUPOEDAD",
         "rawType": "object",
         "type": "string"
        },
        {
         "name": "count",
         "rawType": "int64",
         "type": "integer"
        }
       ],
       "ref": "3057d77c-0eba-4e9e-8b1d-53c6419dbd1c",
       "rows": [
        [
         "No declarada",
         "8693"
        ],
        [
         "20 - 24",
         "4306"
        ],
        [
         "25 - 29",
         "3187"
        ],
        [
         "15 - 19",
         "2966"
        ],
        [
         "30 - 34",
         "2546"
        ],
        [
         "35 - 39",
         "2134"
        ],
        [
         "65 y más",
         "1906"
        ],
        [
         "40 - 44",
         "1719"
        ],
        [
         "45 - 49",
         "1471"
        ],
        [
         "50 - 54",
         "1372"
        ],
        [
         "55 - 59",
         "1079"
        ],
        [
         "60 - 64",
         "902"
        ],
        [
         "10 - 14",
         "482"
        ],
        [
         "0 - 4",
         "378"
        ],
        [
         "5 - 9",
         "371"
        ]
       ],
       "shape": {
        "columns": 1,
        "rows": 15
       }
      },
      "text/html": [
       "<div>\n",
       "<style scoped>\n",
       "    .dataframe tbody tr th:only-of-type {\n",
       "        vertical-align: middle;\n",
       "    }\n",
       "\n",
       "    .dataframe tbody tr th {\n",
       "        vertical-align: top;\n",
       "    }\n",
       "\n",
       "    .dataframe thead th {\n",
       "        text-align: right;\n",
       "    }\n",
       "</style>\n",
       "<table border=\"1\" class=\"dataframe\">\n",
       "  <thead>\n",
       "    <tr style=\"text-align: right;\">\n",
       "      <th></th>\n",
       "      <th>count</th>\n",
       "    </tr>\n",
       "    <tr>\n",
       "      <th>GRUPOEDAD</th>\n",
       "      <th></th>\n",
       "    </tr>\n",
       "  </thead>\n",
       "  <tbody>\n",
       "    <tr>\n",
       "      <th>No declarada</th>\n",
       "      <td>8693</td>\n",
       "    </tr>\n",
       "    <tr>\n",
       "      <th>20 - 24</th>\n",
       "      <td>4306</td>\n",
       "    </tr>\n",
       "    <tr>\n",
       "      <th>25 - 29</th>\n",
       "      <td>3187</td>\n",
       "    </tr>\n",
       "    <tr>\n",
       "      <th>15 - 19</th>\n",
       "      <td>2966</td>\n",
       "    </tr>\n",
       "    <tr>\n",
       "      <th>30 - 34</th>\n",
       "      <td>2546</td>\n",
       "    </tr>\n",
       "    <tr>\n",
       "      <th>35 - 39</th>\n",
       "      <td>2134</td>\n",
       "    </tr>\n",
       "    <tr>\n",
       "      <th>65 y más</th>\n",
       "      <td>1906</td>\n",
       "    </tr>\n",
       "    <tr>\n",
       "      <th>40 - 44</th>\n",
       "      <td>1719</td>\n",
       "    </tr>\n",
       "    <tr>\n",
       "      <th>45 - 49</th>\n",
       "      <td>1471</td>\n",
       "    </tr>\n",
       "    <tr>\n",
       "      <th>50 - 54</th>\n",
       "      <td>1372</td>\n",
       "    </tr>\n",
       "    <tr>\n",
       "      <th>55 - 59</th>\n",
       "      <td>1079</td>\n",
       "    </tr>\n",
       "    <tr>\n",
       "      <th>60 - 64</th>\n",
       "      <td>902</td>\n",
       "    </tr>\n",
       "    <tr>\n",
       "      <th>10 - 14</th>\n",
       "      <td>482</td>\n",
       "    </tr>\n",
       "    <tr>\n",
       "      <th>0 - 4</th>\n",
       "      <td>378</td>\n",
       "    </tr>\n",
       "    <tr>\n",
       "      <th>5 - 9</th>\n",
       "      <td>371</td>\n",
       "    </tr>\n",
       "  </tbody>\n",
       "</table>\n",
       "</div>"
      ],
      "text/plain": [
       "              count\n",
       "GRUPOEDAD          \n",
       "No declarada   8693\n",
       "20 - 24        4306\n",
       "25 - 29        3187\n",
       "15 - 19        2966\n",
       "30 - 34        2546\n",
       "35 - 39        2134\n",
       "65 y más       1906\n",
       "40 - 44        1719\n",
       "45 - 49        1471\n",
       "50 - 54        1372\n",
       "55 - 59        1079\n",
       "60 - 64         902\n",
       "10 - 14         482\n",
       "0 - 4           378\n",
       "5 - 9           371"
      ]
     },
     "metadata": {},
     "output_type": "display_data"
    },
    {
     "name": "stdout",
     "output_type": "stream",
     "text": [
      "La columna CONDIVICTIMA tiene los siguientes valores únicos:\n"
     ]
    },
    {
     "data": {
      "application/vnd.microsoft.datawrangler.viewer.v0+json": {
       "columns": [
        {
         "name": "CONDIVICTIMA",
         "rawType": "object",
         "type": "string"
        },
        {
         "name": "count",
         "rawType": "int64",
         "type": "integer"
        }
       ],
       "ref": "09eed3e8-e5fa-4f17-a51d-2ea01835b34d",
       "rows": [
        [
         "Conductor",
         "14103"
        ],
        [
         "No declarada",
         "10180"
        ],
        [
         "Peatón",
         "6048"
        ],
        [
         "Pasajero",
         "3181"
        ]
       ],
       "shape": {
        "columns": 1,
        "rows": 4
       }
      },
      "text/html": [
       "<div>\n",
       "<style scoped>\n",
       "    .dataframe tbody tr th:only-of-type {\n",
       "        vertical-align: middle;\n",
       "    }\n",
       "\n",
       "    .dataframe tbody tr th {\n",
       "        vertical-align: top;\n",
       "    }\n",
       "\n",
       "    .dataframe thead th {\n",
       "        text-align: right;\n",
       "    }\n",
       "</style>\n",
       "<table border=\"1\" class=\"dataframe\">\n",
       "  <thead>\n",
       "    <tr style=\"text-align: right;\">\n",
       "      <th></th>\n",
       "      <th>count</th>\n",
       "    </tr>\n",
       "    <tr>\n",
       "      <th>CONDIVICTIMA</th>\n",
       "      <th></th>\n",
       "    </tr>\n",
       "  </thead>\n",
       "  <tbody>\n",
       "    <tr>\n",
       "      <th>Conductor</th>\n",
       "      <td>14103</td>\n",
       "    </tr>\n",
       "    <tr>\n",
       "      <th>No declarada</th>\n",
       "      <td>10180</td>\n",
       "    </tr>\n",
       "    <tr>\n",
       "      <th>Peatón</th>\n",
       "      <td>6048</td>\n",
       "    </tr>\n",
       "    <tr>\n",
       "      <th>Pasajero</th>\n",
       "      <td>3181</td>\n",
       "    </tr>\n",
       "  </tbody>\n",
       "</table>\n",
       "</div>"
      ],
      "text/plain": [
       "              count\n",
       "CONDIVICTIMA       \n",
       "Conductor     14103\n",
       "No declarada  10180\n",
       "Peatón         6048\n",
       "Pasajero       3181"
      ]
     },
     "metadata": {},
     "output_type": "display_data"
    },
    {
     "name": "stdout",
     "output_type": "stream",
     "text": [
      "La columna TIPOACCIDENTE tiene los siguientes valores únicos:\n"
     ]
    },
    {
     "data": {
      "application/vnd.microsoft.datawrangler.viewer.v0+json": {
       "columns": [
        {
         "name": "TIPOACCIDENTE",
         "rawType": "object",
         "type": "string"
        },
        {
         "name": "count",
         "rawType": "int64",
         "type": "integer"
        }
       ],
       "ref": "9ea1d1fe-d680-4a1e-afc4-5d03f3b25f15",
       "rows": [
        [
         "Choque o colisión",
         "19244"
        ],
        [
         "Atropellamiento",
         "6069"
        ],
        [
         "Deslizamiento",
         "5667"
        ],
        [
         "Estrellamiento",
         "1354"
        ],
        [
         "Vuelco o volcadura",
         "851"
        ],
        [
         "Caída",
         "287"
        ],
        [
         "Aplastamiento",
         "24"
        ],
        [
         "No declarado",
         "13"
        ],
        [
         "Otros",
         "3"
        ]
       ],
       "shape": {
        "columns": 1,
        "rows": 9
       }
      },
      "text/html": [
       "<div>\n",
       "<style scoped>\n",
       "    .dataframe tbody tr th:only-of-type {\n",
       "        vertical-align: middle;\n",
       "    }\n",
       "\n",
       "    .dataframe tbody tr th {\n",
       "        vertical-align: top;\n",
       "    }\n",
       "\n",
       "    .dataframe thead th {\n",
       "        text-align: right;\n",
       "    }\n",
       "</style>\n",
       "<table border=\"1\" class=\"dataframe\">\n",
       "  <thead>\n",
       "    <tr style=\"text-align: right;\">\n",
       "      <th></th>\n",
       "      <th>count</th>\n",
       "    </tr>\n",
       "    <tr>\n",
       "      <th>TIPOACCIDENTE</th>\n",
       "      <th></th>\n",
       "    </tr>\n",
       "  </thead>\n",
       "  <tbody>\n",
       "    <tr>\n",
       "      <th>Choque o colisión</th>\n",
       "      <td>19244</td>\n",
       "    </tr>\n",
       "    <tr>\n",
       "      <th>Atropellamiento</th>\n",
       "      <td>6069</td>\n",
       "    </tr>\n",
       "    <tr>\n",
       "      <th>Deslizamiento</th>\n",
       "      <td>5667</td>\n",
       "    </tr>\n",
       "    <tr>\n",
       "      <th>Estrellamiento</th>\n",
       "      <td>1354</td>\n",
       "    </tr>\n",
       "    <tr>\n",
       "      <th>Vuelco o volcadura</th>\n",
       "      <td>851</td>\n",
       "    </tr>\n",
       "    <tr>\n",
       "      <th>Caída</th>\n",
       "      <td>287</td>\n",
       "    </tr>\n",
       "    <tr>\n",
       "      <th>Aplastamiento</th>\n",
       "      <td>24</td>\n",
       "    </tr>\n",
       "    <tr>\n",
       "      <th>No declarado</th>\n",
       "      <td>13</td>\n",
       "    </tr>\n",
       "    <tr>\n",
       "      <th>Otros</th>\n",
       "      <td>3</td>\n",
       "    </tr>\n",
       "  </tbody>\n",
       "</table>\n",
       "</div>"
      ],
      "text/plain": [
       "                    count\n",
       "TIPOACCIDENTE            \n",
       "Choque o colisión   19244\n",
       "Atropellamiento      6069\n",
       "Deslizamiento        5667\n",
       "Estrellamiento       1354\n",
       "Vuelco o volcadura    851\n",
       "Caída                 287\n",
       "Aplastamiento          24\n",
       "No declarado           13\n",
       "Otros                   3"
      ]
     },
     "metadata": {},
     "output_type": "display_data"
    },
    {
     "name": "stdout",
     "output_type": "stream",
     "text": [
      "La columna MEDIOTRANS tiene los siguientes valores únicos:\n"
     ]
    },
    {
     "data": {
      "application/vnd.microsoft.datawrangler.viewer.v0+json": {
       "columns": [
        {
         "name": "MEDIOTRANS",
         "rawType": "object",
         "type": "string"
        },
        {
         "name": "count",
         "rawType": "int64",
         "type": "integer"
        }
       ],
       "ref": "08673cfc-2297-461a-ae1d-e84a912b4eb4",
       "rows": [
        [
         "Motocicleta, ciclomotor (passola)",
         "21505"
        ],
        [
         "Peatón atropellado",
         "6054"
        ],
        [
         "Automóvil (carro)",
         "2216"
        ],
        [
         "Yipeta, yip",
         "1011"
        ],
        [
         "Camión",
         "882"
        ],
        [
         "Camioneta",
         "756"
        ],
        [
         "No declarado",
         "390"
        ],
        [
         "Autobús",
         "275"
        ],
        [
         "Minibús, miniván",
         "198"
        ],
        [
         "Bicicleta",
         "89"
        ],
        [
         "Otros",
         "55"
        ],
        [
         "Tractor",
         "19"
        ],
        [
         "Animal",
         "12"
        ],
        [
         "Patana",
         "10"
        ],
        [
         "Furgoneta",
         "6"
        ],
        [
         "Vehículo le cayó encima",
         "6"
        ],
        [
         "Ambulancia",
         "6"
        ],
        [
         "Triciclo",
         "5"
        ],
        [
         "Excavadora",
         "5"
        ],
        [
         "Pala mecánica",
         "3"
        ],
        [
         "Volteo",
         "3"
        ],
        [
         "Carreta",
         "2"
        ],
        [
         "Grúa",
         "2"
        ],
        [
         "Rodillo",
         "1"
        ],
        [
         "Gredar",
         "1"
        ]
       ],
       "shape": {
        "columns": 1,
        "rows": 25
       }
      },
      "text/html": [
       "<div>\n",
       "<style scoped>\n",
       "    .dataframe tbody tr th:only-of-type {\n",
       "        vertical-align: middle;\n",
       "    }\n",
       "\n",
       "    .dataframe tbody tr th {\n",
       "        vertical-align: top;\n",
       "    }\n",
       "\n",
       "    .dataframe thead th {\n",
       "        text-align: right;\n",
       "    }\n",
       "</style>\n",
       "<table border=\"1\" class=\"dataframe\">\n",
       "  <thead>\n",
       "    <tr style=\"text-align: right;\">\n",
       "      <th></th>\n",
       "      <th>count</th>\n",
       "    </tr>\n",
       "    <tr>\n",
       "      <th>MEDIOTRANS</th>\n",
       "      <th></th>\n",
       "    </tr>\n",
       "  </thead>\n",
       "  <tbody>\n",
       "    <tr>\n",
       "      <th>Motocicleta, ciclomotor (passola)</th>\n",
       "      <td>21505</td>\n",
       "    </tr>\n",
       "    <tr>\n",
       "      <th>Peatón atropellado</th>\n",
       "      <td>6054</td>\n",
       "    </tr>\n",
       "    <tr>\n",
       "      <th>Automóvil (carro)</th>\n",
       "      <td>2216</td>\n",
       "    </tr>\n",
       "    <tr>\n",
       "      <th>Yipeta, yip</th>\n",
       "      <td>1011</td>\n",
       "    </tr>\n",
       "    <tr>\n",
       "      <th>Camión</th>\n",
       "      <td>882</td>\n",
       "    </tr>\n",
       "    <tr>\n",
       "      <th>Camioneta</th>\n",
       "      <td>756</td>\n",
       "    </tr>\n",
       "    <tr>\n",
       "      <th>No declarado</th>\n",
       "      <td>390</td>\n",
       "    </tr>\n",
       "    <tr>\n",
       "      <th>Autobús</th>\n",
       "      <td>275</td>\n",
       "    </tr>\n",
       "    <tr>\n",
       "      <th>Minibús, miniván</th>\n",
       "      <td>198</td>\n",
       "    </tr>\n",
       "    <tr>\n",
       "      <th>Bicicleta</th>\n",
       "      <td>89</td>\n",
       "    </tr>\n",
       "    <tr>\n",
       "      <th>Otros</th>\n",
       "      <td>55</td>\n",
       "    </tr>\n",
       "    <tr>\n",
       "      <th>Tractor</th>\n",
       "      <td>19</td>\n",
       "    </tr>\n",
       "    <tr>\n",
       "      <th>Animal</th>\n",
       "      <td>12</td>\n",
       "    </tr>\n",
       "    <tr>\n",
       "      <th>Patana</th>\n",
       "      <td>10</td>\n",
       "    </tr>\n",
       "    <tr>\n",
       "      <th>Furgoneta</th>\n",
       "      <td>6</td>\n",
       "    </tr>\n",
       "    <tr>\n",
       "      <th>Vehículo le cayó encima</th>\n",
       "      <td>6</td>\n",
       "    </tr>\n",
       "    <tr>\n",
       "      <th>Ambulancia</th>\n",
       "      <td>6</td>\n",
       "    </tr>\n",
       "    <tr>\n",
       "      <th>Triciclo</th>\n",
       "      <td>5</td>\n",
       "    </tr>\n",
       "    <tr>\n",
       "      <th>Excavadora</th>\n",
       "      <td>5</td>\n",
       "    </tr>\n",
       "    <tr>\n",
       "      <th>Pala mecánica</th>\n",
       "      <td>3</td>\n",
       "    </tr>\n",
       "    <tr>\n",
       "      <th>Volteo</th>\n",
       "      <td>3</td>\n",
       "    </tr>\n",
       "    <tr>\n",
       "      <th>Carreta</th>\n",
       "      <td>2</td>\n",
       "    </tr>\n",
       "    <tr>\n",
       "      <th>Grúa</th>\n",
       "      <td>2</td>\n",
       "    </tr>\n",
       "    <tr>\n",
       "      <th>Rodillo</th>\n",
       "      <td>1</td>\n",
       "    </tr>\n",
       "    <tr>\n",
       "      <th>Gredar</th>\n",
       "      <td>1</td>\n",
       "    </tr>\n",
       "  </tbody>\n",
       "</table>\n",
       "</div>"
      ],
      "text/plain": [
       "                                   count\n",
       "MEDIOTRANS                              \n",
       "Motocicleta, ciclomotor (passola)  21505\n",
       "Peatón atropellado                  6054\n",
       "Automóvil (carro)                   2216\n",
       "Yipeta, yip                         1011\n",
       "Camión                               882\n",
       "Camioneta                            756\n",
       "No declarado                         390\n",
       "Autobús                              275\n",
       "Minibús, miniván                     198\n",
       "Bicicleta                             89\n",
       "Otros                                 55\n",
       "Tractor                               19\n",
       "Animal                                12\n",
       "Patana                                10\n",
       "Furgoneta                              6\n",
       "Vehículo le cayó encima                6\n",
       "Ambulancia                             6\n",
       "Triciclo                               5\n",
       "Excavadora                             5\n",
       "Pala mecánica                          3\n",
       "Volteo                                 3\n",
       "Carreta                                2\n",
       "Grúa                                   2\n",
       "Rodillo                                1\n",
       "Gredar                                 1"
      ]
     },
     "metadata": {},
     "output_type": "display_data"
    }
   ],
   "source": [
    "f.exploracion_dataframe(df_descodificada)"
   ]
  },
  {
   "cell_type": "code",
   "execution_count": 98,
   "id": "557e04a4",
   "metadata": {},
   "outputs": [],
   "source": [
    "df_descodificada.columns = ['region', 'provincia', 'dia_semana', 'mes', 'anio', 'rango_hora', 'tipo_via', 'sexo', 'grupo_edad', 'condicion_victima', 'tipo_accidente', 'medio_trans']\n"
   ]
  },
  {
   "cell_type": "code",
   "execution_count": 99,
   "id": "4d96d695",
   "metadata": {},
   "outputs": [
    {
     "data": {
      "application/vnd.microsoft.datawrangler.viewer.v0+json": {
       "columns": [
        {
         "name": "anio",
         "rawType": "int64",
         "type": "integer"
        },
        {
         "name": "count",
         "rawType": "int64",
         "type": "integer"
        }
       ],
       "ref": "7a1eec85-9cd9-4791-809b-513c073827bd",
       "rows": [
        [
         "2024",
         "2161"
        ],
        [
         "2010",
         "2132"
        ],
        [
         "2019",
         "2100"
        ],
        [
         "2016",
         "1991"
        ],
        [
         "2023",
         "1949"
        ]
       ],
       "shape": {
        "columns": 1,
        "rows": 5
       }
      },
      "text/plain": [
       "anio\n",
       "2024    2161\n",
       "2010    2132\n",
       "2019    2100\n",
       "2016    1991\n",
       "2023    1949\n",
       "Name: count, dtype: int64"
      ]
     },
     "execution_count": 99,
     "metadata": {},
     "output_type": "execute_result"
    }
   ],
   "source": [
    "df_descodificada['anio'].value_counts().head() # cantidad de muertes por accidentes en cada año, primeros 5"
   ]
  },
  {
   "cell_type": "code",
   "execution_count": 100,
   "id": "ebd645c3",
   "metadata": {},
   "outputs": [
    {
     "name": "stdout",
     "output_type": "stream",
     "text": [
      "grupo_edad\n",
      "No declarada   25.94\n",
      "20 - 24        12.85\n",
      "25 - 29         9.51\n",
      "15 - 19         8.85\n",
      "30 - 34         7.60\n",
      "35 - 39         6.37\n",
      "65 y más        5.69\n",
      "40 - 44         5.13\n",
      "45 - 49         4.39\n",
      "50 - 54         4.09\n",
      "55 - 59         3.22\n",
      "60 - 64         2.69\n",
      "10 - 14         1.44\n",
      "0 - 4           1.13\n",
      "5 - 9           1.11\n",
      "Name: proportion, dtype: float64\n"
     ]
    }
   ],
   "source": [
    "print(df_descodificada['grupo_edad'].value_counts(normalize=True) *100) # cantidad de muertes por grupo de edad"
   ]
  },
  {
   "cell_type": "code",
   "execution_count": 101,
   "id": "31cbc8a1",
   "metadata": {},
   "outputs": [
    {
     "data": {
      "application/vnd.microsoft.datawrangler.viewer.v0+json": {
       "columns": [
        {
         "name": "region",
         "rawType": "object",
         "type": "string"
        },
        {
         "name": "proportion",
         "rawType": "float64",
         "type": "float"
        }
       ],
       "ref": "7bc1475c-7302-4cc3-a282-3450b07d398c",
       "rows": [
        [
         "Región Ozama",
         "20.11219861542134"
        ],
        [
         "Región Cibao Norte",
         "14.812604440200525"
        ],
        [
         "Región Cibao Sur",
         "12.171759369777991"
        ],
        [
         "Región Valdesia",
         "11.231797565051325"
        ],
        [
         "Región Yuma",
         "9.492122224874672"
        ],
        [
         "Región Cibao Nordeste",
         "9.372761995703032"
        ],
        [
         "Región El Valle",
         "6.791597039866317"
        ],
        [
         "Región Higuamo",
         "6.549892575793745"
        ],
        [
         "Región Cibao Noroeste",
         "5.675578897111482"
        ],
        [
         "Región Enriquillo",
         "3.774767247553115"
        ],
        [
         "No declarada",
         "0.014920028646455002"
        ]
       ],
       "shape": {
        "columns": 1,
        "rows": 11
       }
      },
      "text/plain": [
       "region\n",
       "Región Ozama            20.11\n",
       "Región Cibao Norte      14.81\n",
       "Región Cibao Sur        12.17\n",
       "Región Valdesia         11.23\n",
       "Región Yuma              9.49\n",
       "Región Cibao Nordeste    9.37\n",
       "Región El Valle          6.79\n",
       "Región Higuamo           6.55\n",
       "Región Cibao Noroeste    5.68\n",
       "Región Enriquillo        3.77\n",
       "No declarada             0.01\n",
       "Name: proportion, dtype: float64"
      ]
     },
     "execution_count": 101,
     "metadata": {},
     "output_type": "execute_result"
    }
   ],
   "source": [
    "df_descodificada['region'].value_counts(normalize=True) *100 # cantidad de muertes por grupo de edad"
   ]
  },
  {
   "cell_type": "code",
   "execution_count": 102,
   "id": "59e578fd",
   "metadata": {},
   "outputs": [
    {
     "data": {
      "application/vnd.microsoft.datawrangler.viewer.v0+json": {
       "columns": [
        {
         "name": "provincia",
         "rawType": "object",
         "type": "string"
        },
        {
         "name": "proportion",
         "rawType": "float64",
         "type": "float"
        }
       ],
       "ref": "d01e5b55-a6f9-4783-bd85-9b77b428aea6",
       "rows": [
        [
         "Santo Domingo",
         "15.015516829792313"
        ],
        [
         "San Cristóbal",
         "7.63607066125567"
        ],
        [
         "Santiago",
         "7.448078300310336"
        ],
        [
         "La Vega",
         "6.875149200286465"
        ],
        [
         "La Altagracia",
         "6.200763905466698"
        ],
        [
         "Distrito Nacional",
         "5.096681785629029"
        ],
        [
         "Puerto Plata",
         "4.410360467892098"
        ],
        [
         "Duarte",
         "3.7807352590116974"
        ],
        [
         "Monseñor Nouel",
         "3.407734542850322"
        ],
        [
         "San Pedro de Macorís",
         "3.339102411076629"
        ],
        [
         "Azua",
         "3.246598233468608"
        ],
        [
         "San Juan",
         "3.118285987109095"
        ],
        [
         "Espaillat",
         "2.95416567199809"
        ],
        [
         "Peravia",
         "2.9183576032465983"
        ],
        [
         "María Trinidad Sánchez",
         "2.378252566244927"
        ],
        [
         "Monte Plata",
         "2.369300549057054"
        ],
        [
         "Valverde",
         "2.351396514681308"
        ],
        [
         "La Romana",
         "2.252924325614705"
        ],
        [
         "Samaná",
         "1.9634757698734782"
        ],
        [
         "Sánchez Ramírez",
         "1.888875626641203"
        ],
        [
         "Barahona",
         "1.888875626641203"
        ],
        [
         "Monte Cristi",
         "1.6978992599665792"
        ],
        [
         "Hermanas Mirabal",
         "1.250298400572929"
        ],
        [
         "Baoruco",
         "1.071258056815469"
        ],
        [
         "El Seibo",
         "1.038433993793268"
        ],
        [
         "Dajabón",
         "0.9548818333731202"
        ],
        [
         "Hato Mayor",
         "0.8414896156600621"
        ],
        [
         "San José de Ocoa",
         "0.6773693005490571"
        ],
        [
         "Santiago Rodríguez",
         "0.671401289090475"
        ],
        [
         "Independencia",
         "0.50728097397947"
        ],
        [
         "Elías Piña",
         "0.426712819288613"
        ],
        [
         "Pedernales",
         "0.307352590116973"
        ],
        [
         "No declarado",
         "0.014920028646455002"
        ]
       ],
       "shape": {
        "columns": 1,
        "rows": 33
       }
      },
      "text/plain": [
       "provincia\n",
       "Santo Domingo            15.02\n",
       "San Cristóbal             7.64\n",
       "Santiago                  7.45\n",
       "La Vega                   6.88\n",
       "La Altagracia             6.20\n",
       "Distrito Nacional         5.10\n",
       "Puerto Plata              4.41\n",
       "Duarte                    3.78\n",
       "Monseñor Nouel            3.41\n",
       "San Pedro de Macorís      3.34\n",
       "Azua                      3.25\n",
       "San Juan                  3.12\n",
       "Espaillat                 2.95\n",
       "Peravia                   2.92\n",
       "María Trinidad Sánchez    2.38\n",
       "Monte Plata               2.37\n",
       "Valverde                  2.35\n",
       "La Romana                 2.25\n",
       "Samaná                    1.96\n",
       "Sánchez Ramírez           1.89\n",
       "Barahona                  1.89\n",
       "Monte Cristi              1.70\n",
       "Hermanas Mirabal          1.25\n",
       "Baoruco                   1.07\n",
       "El Seibo                  1.04\n",
       "Dajabón                   0.95\n",
       "Hato Mayor                0.84\n",
       "San José de Ocoa          0.68\n",
       "Santiago Rodríguez        0.67\n",
       "Independencia             0.51\n",
       "Elías Piña                0.43\n",
       "Pedernales                0.31\n",
       "No declarado              0.01\n",
       "Name: proportion, dtype: float64"
      ]
     },
     "execution_count": 102,
     "metadata": {},
     "output_type": "execute_result"
    }
   ],
   "source": [
    "df_descodificada['provincia'].value_counts(normalize=True) *100 # cantidad de muertes por grupo de edad"
   ]
  },
  {
   "cell_type": "code",
   "execution_count": 103,
   "id": "90c3b073",
   "metadata": {},
   "outputs": [
    {
     "data": {
      "application/vnd.microsoft.datawrangler.viewer.v0+json": {
       "columns": [
        {
         "name": "tipo_via",
         "rawType": "object",
         "type": "string"
        },
        {
         "name": "proportion",
         "rawType": "float64",
         "type": "float"
        }
       ],
       "ref": "a7959410-17f5-4577-9340-72ac535f8601",
       "rows": [
        [
         "Carretera",
         "43.870852232036285"
        ],
        [
         "Calle",
         "19.545237526856052"
        ],
        [
         "Avenida",
         "15.009548818333732"
        ],
        [
         "Autopista",
         "14.475411792790643"
        ],
        [
         "No declarada",
         "4.574480783003104"
        ],
        [
         "Autovía",
         "1.0921460969205061"
        ],
        [
         "Bulevar",
         "0.474456910957269"
        ],
        [
         "Puente",
         "0.39388875626641207"
        ],
        [
         "Camino vecinal",
         "0.253640486989735"
        ],
        [
         "Otras",
         "0.12831224635951302"
        ],
        [
         "Elevado",
         "0.116376223442349"
        ],
        [
         "Cruce",
         "0.032824063022201005"
        ],
        [
         "Tunel",
         "0.023872045834328"
        ],
        [
         "Vía férrea",
         "0.008952017187873001"
        ]
       ],
       "shape": {
        "columns": 1,
        "rows": 14
       }
      },
      "text/plain": [
       "tipo_via\n",
       "Carretera        43.87\n",
       "Calle            19.55\n",
       "Avenida          15.01\n",
       "Autopista        14.48\n",
       "No declarada      4.57\n",
       "Autovía           1.09\n",
       "Bulevar           0.47\n",
       "Puente            0.39\n",
       "Camino vecinal    0.25\n",
       "Otras             0.13\n",
       "Elevado           0.12\n",
       "Cruce             0.03\n",
       "Tunel             0.02\n",
       "Vía férrea        0.01\n",
       "Name: proportion, dtype: float64"
      ]
     },
     "execution_count": 103,
     "metadata": {},
     "output_type": "execute_result"
    }
   ],
   "source": [
    "df_descodificada['tipo_via'].value_counts(normalize=True) *100 # cantidad de muertes por tipo de vía"
   ]
  },
  {
   "cell_type": "code",
   "execution_count": 104,
   "id": "313f8044",
   "metadata": {},
   "outputs": [
    {
     "data": {
      "application/vnd.microsoft.datawrangler.viewer.v0+json": {
       "columns": [
        {
         "name": "sexo",
         "rawType": "object",
         "type": "string"
        },
        {
         "name": "proportion",
         "rawType": "float64",
         "type": "float"
        }
       ],
       "ref": "1022cc89-d3ac-4c70-89c9-7e6bcdd83457",
       "rows": [
        [
         "Hombres",
         "87.3687037479112"
        ],
        [
         "Mujeres",
         "12.386607782286942"
        ],
        [
         "No declarado",
         "0.244688469801862"
        ]
       ],
       "shape": {
        "columns": 1,
        "rows": 3
       }
      },
      "text/plain": [
       "sexo\n",
       "Hombres        87.37\n",
       "Mujeres        12.39\n",
       "No declarado    0.24\n",
       "Name: proportion, dtype: float64"
      ]
     },
     "execution_count": 104,
     "metadata": {},
     "output_type": "execute_result"
    }
   ],
   "source": [
    "df_descodificada['sexo'].value_counts(normalize=True) *100 #cantidad de muertes según el género"
   ]
  },
  {
   "cell_type": "markdown",
   "id": "e119db69",
   "metadata": {},
   "source": [
    "- Los hombres son aquellos que más mueren, por encima de las mujeres."
   ]
  },
  {
   "cell_type": "code",
   "execution_count": 105,
   "id": "4d0e62f2",
   "metadata": {},
   "outputs": [
    {
     "data": {
      "application/vnd.microsoft.datawrangler.viewer.v0+json": {
       "columns": [
        {
         "name": "medio_trans",
         "rawType": "object",
         "type": "string"
        },
        {
         "name": "proportion",
         "rawType": "float64",
         "type": "float"
        }
       ],
       "ref": "643b2d10-ee21-4229-9bcd-204eb10bf551",
       "rows": [
        [
         "Motocicleta, ciclomotor (passola)",
         "64.17104320840295"
        ],
        [
         "Peatón atropellado",
         "18.065170685127715"
        ],
        [
         "Automóvil (carro)",
         "6.612556696108856"
        ],
        [
         "Yipeta, yip",
         "3.0168297923132013"
        ],
        [
         "Camión",
         "2.6318930532346623"
        ]
       ],
       "shape": {
        "columns": 1,
        "rows": 5
       }
      },
      "text/plain": [
       "medio_trans\n",
       "Motocicleta, ciclomotor (passola)   64.17\n",
       "Peatón atropellado                  18.07\n",
       "Automóvil (carro)                    6.61\n",
       "Yipeta, yip                          3.02\n",
       "Camión                               2.63\n",
       "Name: proportion, dtype: float64"
      ]
     },
     "execution_count": 105,
     "metadata": {},
     "output_type": "execute_result"
    }
   ],
   "source": [
    "df_descodificada['medio_trans'].value_counts(normalize=True).head() *100 #cantidad de muertes según el medio de transporte, primeros 5"
   ]
  },
  {
   "cell_type": "markdown",
   "id": "2c537cbd",
   "metadata": {},
   "source": [
    "- En los fallecidos por accidentes de tránsito, los principales medios involucrados fueron la moto (63.73%), un peatón (18.42%) y automóviles (6.62%)"
   ]
  },
  {
   "cell_type": "code",
   "execution_count": 106,
   "id": "185aba2b",
   "metadata": {},
   "outputs": [],
   "source": [
    "df_num, df_cat = f.separar_dataframes(df_descodificada)"
   ]
  },
  {
   "cell_type": "markdown",
   "id": "e51ac0ea",
   "metadata": {},
   "source": [
    "### Distribución gráfica de la cantidad de accidentes por años"
   ]
  },
  {
   "cell_type": "code",
   "execution_count": 107,
   "id": "55451d8d",
   "metadata": {},
   "outputs": [
    {
     "data": {
      "image/png": "[encoded data removed]",
      "text/plain": [
       "<Figure size 1000x800 with 1 Axes>"
      ]
     },
     "metadata": {},
     "output_type": "display_data"
    }
   ],
   "source": [
    "f.plot_numericas(df_num)"
   ]
  },
  {
   "cell_type": "code",
   "execution_count": 108,
   "id": "de3e8b93",
   "metadata": {},
   "outputs": [
    {
     "data": {
      "application/vnd.microsoft.datawrangler.viewer.v0+json": {
       "columns": [
        {
         "name": "index",
         "rawType": "object",
         "type": "unknown"
        },
        {
         "name": "count",
         "rawType": "int64",
         "type": "integer"
        }
       ],
       "ref": "793e33f9-1b64-45da-9ad2-0f5becc48d21",
       "rows": [
        [
         "(2024,)",
         "2161"
        ],
        [
         "(2010,)",
         "2132"
        ],
        [
         "(2019,)",
         "2100"
        ],
        [
         "(2016,)",
         "1991"
        ],
        [
         "(2023,)",
         "1949"
        ],
        [
         "(2015,)",
         "1946"
        ],
        [
         "(2013,)",
         "1892"
        ],
        [
         "(2021,)",
         "1874"
        ],
        [
         "(2009,)",
         "1873"
        ],
        [
         "(2014,)",
         "1855"
        ],
        [
         "(2008,)",
         "1846"
        ],
        [
         "(2011,)",
         "1833"
        ],
        [
         "(2022,)",
         "1794"
        ],
        [
         "(2012,)",
         "1768"
        ],
        [
         "(2007,)",
         "1747"
        ],
        [
         "(2020,)",
         "1737"
        ],
        [
         "(2017,)",
         "1587"
        ],
        [
         "(2018,)",
         "1427"
        ]
       ],
       "shape": {
        "columns": 1,
        "rows": 18
       }
      },
      "text/plain": [
       "anio\n",
       "2024    2161\n",
       "2010    2132\n",
       "2019    2100\n",
       "2016    1991\n",
       "2023    1949\n",
       "2015    1946\n",
       "2013    1892\n",
       "2021    1874\n",
       "2009    1873\n",
       "2014    1855\n",
       "2008    1846\n",
       "2011    1833\n",
       "2022    1794\n",
       "2012    1768\n",
       "2007    1747\n",
       "2020    1737\n",
       "2017    1587\n",
       "2018    1427\n",
       "Name: count, dtype: int64"
      ]
     },
     "execution_count": 108,
     "metadata": {},
     "output_type": "execute_result"
    }
   ],
   "source": [
    "df_num.value_counts()"
   ]
  },
  {
   "cell_type": "markdown",
   "id": "8f1086f4",
   "metadata": {},
   "source": [
    "### Distribución gráfica de columnas categóricas"
   ]
  },
  {
   "cell_type": "code",
   "execution_count": 109,
   "id": "526b703c",
   "metadata": {},
   "outputs": [
    {
     "data": {
      "image/png": "[encoded data removed]",
      "text/plain": [
       "<Figure size 1500x800 with 11 Axes>"
      ]
     },
     "metadata": {},
     "output_type": "display_data"
    }
   ],
   "source": [
    "f.plot_categoricas(df_cat)"
   ]
  },
  {
   "cell_type": "code",
   "execution_count": 110,
   "id": "1d531b6f",
   "metadata": {},
   "outputs": [
    {
     "data": {
      "image/png": "[encoded data removed]",
      "text/plain": [
       "<Figure size 1500x1000 with 2 Axes>"
      ]
     },
     "metadata": {},
     "output_type": "display_data"
    }
   ],
   "source": [
    "f.detectar_outliers(df_descodificada)"
   ]
  },
  {
   "cell_type": "markdown",
   "id": "d37713c3",
   "metadata": {},
   "source": [
    "### Diferencias geográficas"
   ]
  },
  {
   "cell_type": "code",
   "execution_count": 111,
   "id": "57481bd4",
   "metadata": {},
   "outputs": [
    {
     "data": {
      "application/vnd.microsoft.datawrangler.viewer.v0+json": {
       "columns": [
        {
         "name": "('region', 'provincia')",
         "rawType": "object",
         "type": "unknown"
        },
        {
         "name": "tipo_via",
         "rawType": "int64",
         "type": "integer"
        }
       ],
       "ref": "91358db0-e0e5-4337-aab2-a9f3fb543858",
       "rows": [
        [
         "('No declarada', 'No declarado')",
         "5"
        ],
        [
         "('Región Cibao Nordeste', 'Duarte')",
         "1267"
        ],
        [
         "('Región Cibao Nordeste', 'Hermanas Mirabal')",
         "419"
        ],
        [
         "('Región Cibao Nordeste', 'María Trinidad Sánchez')",
         "797"
        ],
        [
         "('Región Cibao Nordeste', 'Samaná')",
         "658"
        ],
        [
         "('Región Cibao Noroeste', 'Dajabón')",
         "320"
        ],
        [
         "('Región Cibao Noroeste', 'Monte Cristi')",
         "569"
        ],
        [
         "('Región Cibao Noroeste', 'Santiago Rodríguez')",
         "225"
        ],
        [
         "('Región Cibao Noroeste', 'Valverde')",
         "788"
        ],
        [
         "('Región Cibao Norte', 'Espaillat')",
         "990"
        ],
        [
         "('Región Cibao Norte', 'Puerto Plata')",
         "1478"
        ],
        [
         "('Región Cibao Norte', 'Santiago')",
         "2496"
        ],
        [
         "('Región Cibao Sur', 'La Vega')",
         "2304"
        ],
        [
         "('Región Cibao Sur', 'Monseñor Nouel')",
         "1142"
        ],
        [
         "('Región Cibao Sur', 'Sánchez Ramírez')",
         "633"
        ],
        [
         "('Región El Valle', 'Azua')",
         "1088"
        ],
        [
         "('Región El Valle', 'Elías Piña')",
         "143"
        ],
        [
         "('Región El Valle', 'San Juan')",
         "1045"
        ],
        [
         "('Región Enriquillo', 'Baoruco')",
         "359"
        ],
        [
         "('Región Enriquillo', 'Barahona')",
         "633"
        ],
        [
         "('Región Enriquillo', 'Independencia')",
         "170"
        ],
        [
         "('Región Enriquillo', 'Pedernales')",
         "103"
        ],
        [
         "('Región Higuamo', 'Hato Mayor')",
         "282"
        ],
        [
         "('Región Higuamo', 'Monte Plata')",
         "794"
        ],
        [
         "('Región Higuamo', 'San Pedro de Macorís')",
         "1119"
        ],
        [
         "('Región Ozama', 'Distrito Nacional')",
         "1708"
        ],
        [
         "('Región Ozama', 'Santo Domingo')",
         "5032"
        ],
        [
         "('Región Valdesia', 'Peravia')",
         "978"
        ],
        [
         "('Región Valdesia', 'San Cristóbal')",
         "2559"
        ],
        [
         "('Región Valdesia', 'San José de Ocoa')",
         "227"
        ],
        [
         "('Región Yuma', 'El Seibo')",
         "348"
        ],
        [
         "('Región Yuma', 'La Altagracia')",
         "2078"
        ],
        [
         "('Región Yuma', 'La Romana')",
         "755"
        ]
       ],
       "shape": {
        "columns": 1,
        "rows": 33
       }
      },
      "text/html": [
       "<div>\n",
       "<style scoped>\n",
       "    .dataframe tbody tr th:only-of-type {\n",
       "        vertical-align: middle;\n",
       "    }\n",
       "\n",
       "    .dataframe tbody tr th {\n",
       "        vertical-align: top;\n",
       "    }\n",
       "\n",
       "    .dataframe thead th {\n",
       "        text-align: right;\n",
       "    }\n",
       "</style>\n",
       "<table border=\"1\" class=\"dataframe\">\n",
       "  <thead>\n",
       "    <tr style=\"text-align: right;\">\n",
       "      <th></th>\n",
       "      <th></th>\n",
       "      <th>tipo_via</th>\n",
       "    </tr>\n",
       "    <tr>\n",
       "      <th>region</th>\n",
       "      <th>provincia</th>\n",
       "      <th></th>\n",
       "    </tr>\n",
       "  </thead>\n",
       "  <tbody>\n",
       "    <tr>\n",
       "      <th>No declarada</th>\n",
       "      <th>No declarado</th>\n",
       "      <td>5</td>\n",
       "    </tr>\n",
       "    <tr>\n",
       "      <th rowspan=\"4\" valign=\"top\">Región Cibao Nordeste</th>\n",
       "      <th>Duarte</th>\n",
       "      <td>1267</td>\n",
       "    </tr>\n",
       "    <tr>\n",
       "      <th>Hermanas Mirabal</th>\n",
       "      <td>419</td>\n",
       "    </tr>\n",
       "    <tr>\n",
       "      <th>María Trinidad Sánchez</th>\n",
       "      <td>797</td>\n",
       "    </tr>\n",
       "    <tr>\n",
       "      <th>Samaná</th>\n",
       "      <td>658</td>\n",
       "    </tr>\n",
       "    <tr>\n",
       "      <th rowspan=\"4\" valign=\"top\">Región Cibao Noroeste</th>\n",
       "      <th>Dajabón</th>\n",
       "      <td>320</td>\n",
       "    </tr>\n",
       "    <tr>\n",
       "      <th>Monte Cristi</th>\n",
       "      <td>569</td>\n",
       "    </tr>\n",
       "    <tr>\n",
       "      <th>Santiago Rodríguez</th>\n",
       "      <td>225</td>\n",
       "    </tr>\n",
       "    <tr>\n",
       "      <th>Valverde</th>\n",
       "      <td>788</td>\n",
       "    </tr>\n",
       "    <tr>\n",
       "      <th rowspan=\"3\" valign=\"top\">Región Cibao Norte</th>\n",
       "      <th>Espaillat</th>\n",
       "      <td>990</td>\n",
       "    </tr>\n",
       "    <tr>\n",
       "      <th>Puerto Plata</th>\n",
       "      <td>1478</td>\n",
       "    </tr>\n",
       "    <tr>\n",
       "      <th>Santiago</th>\n",
       "      <td>2496</td>\n",
       "    </tr>\n",
       "    <tr>\n",
       "      <th rowspan=\"3\" valign=\"top\">Región Cibao Sur</th>\n",
       "      <th>La Vega</th>\n",
       "      <td>2304</td>\n",
       "    </tr>\n",
       "    <tr>\n",
       "      <th>Monseñor Nouel</th>\n",
       "      <td>1142</td>\n",
       "    </tr>\n",
       "    <tr>\n",
       "      <th>Sánchez Ramírez</th>\n",
       "      <td>633</td>\n",
       "    </tr>\n",
       "    <tr>\n",
       "      <th rowspan=\"3\" valign=\"top\">Región El Valle</th>\n",
       "      <th>Azua</th>\n",
       "      <td>1088</td>\n",
       "    </tr>\n",
       "    <tr>\n",
       "      <th>Elías Piña</th>\n",
       "      <td>143</td>\n",
       "    </tr>\n",
       "    <tr>\n",
       "      <th>San Juan</th>\n",
       "      <td>1045</td>\n",
       "    </tr>\n",
       "    <tr>\n",
       "      <th rowspan=\"4\" valign=\"top\">Región Enriquillo</th>\n",
       "      <th>Baoruco</th>\n",
       "      <td>359</td>\n",
       "    </tr>\n",
       "    <tr>\n",
       "      <th>Barahona</th>\n",
       "      <td>633</td>\n",
       "    </tr>\n",
       "    <tr>\n",
       "      <th>Independencia</th>\n",
       "      <td>170</td>\n",
       "    </tr>\n",
       "    <tr>\n",
       "      <th>Pedernales</th>\n",
       "      <td>103</td>\n",
       "    </tr>\n",
       "    <tr>\n",
       "      <th rowspan=\"3\" valign=\"top\">Región Higuamo</th>\n",
       "      <th>Hato Mayor</th>\n",
       "      <td>282</td>\n",
       "    </tr>\n",
       "    <tr>\n",
       "      <th>Monte Plata</th>\n",
       "      <td>794</td>\n",
       "    </tr>\n",
       "    <tr>\n",
       "      <th>San Pedro de Macorís</th>\n",
       "      <td>1119</td>\n",
       "    </tr>\n",
       "    <tr>\n",
       "      <th rowspan=\"2\" valign=\"top\">Región Ozama</th>\n",
       "      <th>Distrito Nacional</th>\n",
       "      <td>1708</td>\n",
       "    </tr>\n",
       "    <tr>\n",
       "      <th>Santo Domingo</th>\n",
       "      <td>5032</td>\n",
       "    </tr>\n",
       "    <tr>\n",
       "      <th rowspan=\"3\" valign=\"top\">Región Valdesia</th>\n",
       "      <th>Peravia</th>\n",
       "      <td>978</td>\n",
       "    </tr>\n",
       "    <tr>\n",
       "      <th>San Cristóbal</th>\n",
       "      <td>2559</td>\n",
       "    </tr>\n",
       "    <tr>\n",
       "      <th>San José de Ocoa</th>\n",
       "      <td>227</td>\n",
       "    </tr>\n",
       "    <tr>\n",
       "      <th rowspan=\"3\" valign=\"top\">Región Yuma</th>\n",
       "      <th>El Seibo</th>\n",
       "      <td>348</td>\n",
       "    </tr>\n",
       "    <tr>\n",
       "      <th>La Altagracia</th>\n",
       "      <td>2078</td>\n",
       "    </tr>\n",
       "    <tr>\n",
       "      <th>La Romana</th>\n",
       "      <td>755</td>\n",
       "    </tr>\n",
       "  </tbody>\n",
       "</table>\n",
       "</div>"
      ],
      "text/plain": [
       "                                              tipo_via\n",
       "region                provincia                       \n",
       "No declarada          No declarado                   5\n",
       "Región Cibao Nordeste Duarte                      1267\n",
       "                      Hermanas Mirabal             419\n",
       "                      María Trinidad Sánchez       797\n",
       "                      Samaná                       658\n",
       "Región Cibao Noroeste Dajabón                      320\n",
       "                      Monte Cristi                 569\n",
       "                      Santiago Rodríguez           225\n",
       "                      Valverde                     788\n",
       "Región Cibao Norte    Espaillat                    990\n",
       "                      Puerto Plata                1478\n",
       "                      Santiago                    2496\n",
       "Región Cibao Sur      La Vega                     2304\n",
       "                      Monseñor Nouel              1142\n",
       "                      Sánchez Ramírez              633\n",
       "Región El Valle       Azua                        1088\n",
       "                      Elías Piña                   143\n",
       "                      San Juan                    1045\n",
       "Región Enriquillo     Baoruco                      359\n",
       "                      Barahona                     633\n",
       "                      Independencia                170\n",
       "                      Pedernales                   103\n",
       "Región Higuamo        Hato Mayor                   282\n",
       "                      Monte Plata                  794\n",
       "                      San Pedro de Macorís        1119\n",
       "Región Ozama          Distrito Nacional           1708\n",
       "                      Santo Domingo               5032\n",
       "Región Valdesia       Peravia                      978\n",
       "                      San Cristóbal               2559\n",
       "                      San José de Ocoa             227\n",
       "Región Yuma           El Seibo                     348\n",
       "                      La Altagracia               2078\n",
       "                      La Romana                    755"
      ]
     },
     "execution_count": 111,
     "metadata": {},
     "output_type": "execute_result"
    }
   ],
   "source": [
    "df_descodificada.groupby(['region', 'provincia'])[['tipo_via']].count().sort_index() #distribución de muertes por región y provincia"
   ]
  },
  {
   "cell_type": "markdown",
   "id": "bd4b0f6f",
   "metadata": {},
   "source": [
    "### Diferencias históricas por regiones"
   ]
  },
  {
   "cell_type": "markdown",
   "id": "6b64812a",
   "metadata": {},
   "source": [
    "### Análisis Temporal de Muertes por Accidentes de Tránsito\n",
    "\n",
    "- **Región Ozama**:  \n",
    "  - Se ha mantenido en el **primer lugar** en cuanto a muertes por accidentes de tránsito, salvo en **2015**, cuando fue superada por la **Región Cibao Norte** (segundo lugar).  \n",
    "  - Hasta **2013**, era común registrar más de **400 fallecidos** al año. Sin embargo, desde ese punto, el número de víctimas mostró reducciones.  \n",
    "  - A partir de **2018**, las cifras comenzaron a oscilar nuevamente entre **300 y 400 fallecidos** por año.\n",
    "\n",
    "- **Región Cibao Norte y Cibao Sur**:  \n",
    "  - Las muertes por accidentes de tránsito en ambas regiones suelen oscilar entre **200 y 300 casos** anuales.  \n",
    "  - En el caso de **Cibao Norte**, hubo años particulares (**2014, 2015, 2016, y 2019**) en los que las defunciones superaron las **300 víctimas**.\n",
    "\n",
    "- **Región Valdesia**:  \n",
    "  - Con frecuencia supera los **200 fallecidos** anualmente, aunque en ciertos años no alcanza esta cifra.  \n",
    "  - Su valor más alto de defunciones se registró en el año más reciente: **2023**.\n"
   ]
  },
  {
   "cell_type": "code",
   "execution_count": 112,
   "id": "7cd8ae49",
   "metadata": {},
   "outputs": [
    {
     "data": {
      "application/vnd.microsoft.datawrangler.viewer.v0+json": {
       "columns": [
        {
         "name": "region",
         "rawType": "object",
         "type": "string"
        },
        {
         "name": "2007",
         "rawType": "float64",
         "type": "float"
        },
        {
         "name": "2008",
         "rawType": "float64",
         "type": "float"
        },
        {
         "name": "2009",
         "rawType": "float64",
         "type": "float"
        },
        {
         "name": "2010",
         "rawType": "float64",
         "type": "float"
        },
        {
         "name": "2011",
         "rawType": "float64",
         "type": "float"
        },
        {
         "name": "2012",
         "rawType": "float64",
         "type": "float"
        },
        {
         "name": "2013",
         "rawType": "float64",
         "type": "float"
        },
        {
         "name": "2014",
         "rawType": "float64",
         "type": "float"
        },
        {
         "name": "2015",
         "rawType": "float64",
         "type": "float"
        },
        {
         "name": "2016",
         "rawType": "float64",
         "type": "float"
        },
        {
         "name": "2017",
         "rawType": "float64",
         "type": "float"
        },
        {
         "name": "2018",
         "rawType": "float64",
         "type": "float"
        },
        {
         "name": "2019",
         "rawType": "float64",
         "type": "float"
        },
        {
         "name": "2020",
         "rawType": "float64",
         "type": "float"
        },
        {
         "name": "2021",
         "rawType": "float64",
         "type": "float"
        },
        {
         "name": "2022",
         "rawType": "float64",
         "type": "float"
        },
        {
         "name": "2023",
         "rawType": "float64",
         "type": "float"
        },
        {
         "name": "2024",
         "rawType": "float64",
         "type": "float"
        },
        {
         "name": "Total",
         "rawType": "float64",
         "type": "float"
        }
       ],
       "ref": "29d7e1a5-974a-45b3-b519-d2d133d1d6e3",
       "rows": [
        [
         "Región Ozama",
         "446.0",
         "495.0",
         "455.0",
         "496.0",
         "418.0",
         "419.0",
         "426.0",
         "355.0",
         "299.0",
         "322.0",
         "271.0",
         "280.0",
         "392.0",
         "320.0",
         "308.0",
         "326.0",
         "348.0",
         "364.0",
         "6740.0"
        ],
        [
         "Región Cibao Norte",
         "247.0",
         "236.0",
         "293.0",
         "293.0",
         "237.0",
         "237.0",
         "298.0",
         "312.0",
         "349.0",
         "310.0",
         "236.0",
         "227.0",
         "333.0",
         "223.0",
         "291.0",
         "245.0",
         "276.0",
         "321.0",
         "4964.0"
        ],
        [
         "Región Cibao Sur",
         "179.0",
         "210.0",
         "233.0",
         "276.0",
         "224.0",
         "202.0",
         "214.0",
         "222.0",
         "253.0",
         "255.0",
         "218.0",
         "161.0",
         "281.0",
         "218.0",
         "239.0",
         "214.0",
         "228.0",
         "252.0",
         "4079.0"
        ],
        [
         "Región Valdesia",
         "197.0",
         "230.0",
         "228.0",
         "245.0",
         "223.0",
         "148.0",
         "175.0",
         "192.0",
         "152.0",
         "212.0",
         "179.0",
         "206.0",
         "227.0",
         "240.0",
         "185.0",
         "199.0",
         "251.0",
         "275.0",
         "3764.0"
        ],
        [
         "Región Yuma",
         "193.0",
         "191.0",
         "160.0",
         "154.0",
         "152.0",
         "148.0",
         "171.0",
         "164.0",
         "190.0",
         "199.0",
         "142.0",
         "117.0",
         "200.0",
         "144.0",
         "205.0",
         "193.0",
         "228.0",
         "230.0",
         "3181.0"
        ],
        [
         "Región Cibao Nordeste",
         "136.0",
         "135.0",
         "134.0",
         "190.0",
         "168.0",
         "185.0",
         "187.0",
         "189.0",
         "218.0",
         "233.0",
         "188.0",
         "116.0",
         "189.0",
         "166.0",
         "154.0",
         "175.0",
         "163.0",
         "215.0",
         "3141.0"
        ],
        [
         "Región El Valle",
         "79.0",
         "87.0",
         "124.0",
         "153.0",
         "130.0",
         "117.0",
         "111.0",
         "118.0",
         "137.0",
         "125.0",
         "129.0",
         "133.0",
         "151.0",
         "114.0",
         "134.0",
         "140.0",
         "129.0",
         "165.0",
         "2276.0"
        ],
        [
         "Región Higuamo",
         "123.0",
         "145.0",
         "112.0",
         "125.0",
         "115.0",
         "120.0",
         "120.0",
         "106.0",
         "133.0",
         "137.0",
         "102.0",
         "76.0",
         "124.0",
         "128.0",
         "144.0",
         "130.0",
         "116.0",
         "139.0",
         "2195.0"
        ],
        [
         "Región Cibao Noroeste",
         "77.0",
         "62.0",
         "75.0",
         "102.0",
         "96.0",
         "111.0",
         "121.0",
         "118.0",
         "132.0",
         "126.0",
         "70.0",
         "76.0",
         "123.0",
         "117.0",
         "140.0",
         "108.0",
         "122.0",
         "126.0",
         "1902.0"
        ],
        [
         "Región Enriquillo",
         "70.0",
         "55.0",
         "59.0",
         "98.0",
         "70.0",
         "81.0",
         "69.0",
         "79.0",
         "83.0",
         "72.0",
         "47.0",
         "35.0",
         "80.0",
         "67.0",
         "74.0",
         "64.0",
         "88.0",
         "74.0",
         "1265.0"
        ],
        [
         "No declarada",
         null,
         null,
         null,
         null,
         null,
         null,
         null,
         null,
         null,
         null,
         "5.0",
         null,
         null,
         null,
         null,
         null,
         null,
         null,
         "5.0"
        ]
       ],
       "shape": {
        "columns": 19,
        "rows": 11
       }
      },
      "text/html": [
       "<div>\n",
       "<style scoped>\n",
       "    .dataframe tbody tr th:only-of-type {\n",
       "        vertical-align: middle;\n",
       "    }\n",
       "\n",
       "    .dataframe tbody tr th {\n",
       "        vertical-align: top;\n",
       "    }\n",
       "\n",
       "    .dataframe thead th {\n",
       "        text-align: right;\n",
       "    }\n",
       "</style>\n",
       "<table border=\"1\" class=\"dataframe\">\n",
       "  <thead>\n",
       "    <tr style=\"text-align: right;\">\n",
       "      <th>anio</th>\n",
       "      <th>2007</th>\n",
       "      <th>2008</th>\n",
       "      <th>2009</th>\n",
       "      <th>2010</th>\n",
       "      <th>2011</th>\n",
       "      <th>2012</th>\n",
       "      <th>2013</th>\n",
       "      <th>2014</th>\n",
       "      <th>2015</th>\n",
       "      <th>2016</th>\n",
       "      <th>2017</th>\n",
       "      <th>2018</th>\n",
       "      <th>2019</th>\n",
       "      <th>2020</th>\n",
       "      <th>2021</th>\n",
       "      <th>2022</th>\n",
       "      <th>2023</th>\n",
       "      <th>2024</th>\n",
       "      <th>Total</th>\n",
       "    </tr>\n",
       "    <tr>\n",
       "      <th>region</th>\n",
       "      <th></th>\n",
       "      <th></th>\n",
       "      <th></th>\n",
       "      <th></th>\n",
       "      <th></th>\n",
       "      <th></th>\n",
       "      <th></th>\n",
       "      <th></th>\n",
       "      <th></th>\n",
       "      <th></th>\n",
       "      <th></th>\n",
       "      <th></th>\n",
       "      <th></th>\n",
       "      <th></th>\n",
       "      <th></th>\n",
       "      <th></th>\n",
       "      <th></th>\n",
       "      <th></th>\n",
       "      <th></th>\n",
       "    </tr>\n",
       "  </thead>\n",
       "  <tbody>\n",
       "    <tr>\n",
       "      <th>Región Ozama</th>\n",
       "      <td>446.00</td>\n",
       "      <td>495.00</td>\n",
       "      <td>455.00</td>\n",
       "      <td>496.00</td>\n",
       "      <td>418.00</td>\n",
       "      <td>419.00</td>\n",
       "      <td>426.00</td>\n",
       "      <td>355.00</td>\n",
       "      <td>299.00</td>\n",
       "      <td>322.00</td>\n",
       "      <td>271.00</td>\n",
       "      <td>280.00</td>\n",
       "      <td>392.00</td>\n",
       "      <td>320.00</td>\n",
       "      <td>308.00</td>\n",
       "      <td>326.00</td>\n",
       "      <td>348.00</td>\n",
       "      <td>364.00</td>\n",
       "      <td>6740.00</td>\n",
       "    </tr>\n",
       "    <tr>\n",
       "      <th>Región Cibao Norte</th>\n",
       "      <td>247.00</td>\n",
       "      <td>236.00</td>\n",
       "      <td>293.00</td>\n",
       "      <td>293.00</td>\n",
       "      <td>237.00</td>\n",
       "      <td>237.00</td>\n",
       "      <td>298.00</td>\n",
       "      <td>312.00</td>\n",
       "      <td>349.00</td>\n",
       "      <td>310.00</td>\n",
       "      <td>236.00</td>\n",
       "      <td>227.00</td>\n",
       "      <td>333.00</td>\n",
       "      <td>223.00</td>\n",
       "      <td>291.00</td>\n",
       "      <td>245.00</td>\n",
       "      <td>276.00</td>\n",
       "      <td>321.00</td>\n",
       "      <td>4964.00</td>\n",
       "    </tr>\n",
       "    <tr>\n",
       "      <th>Región Cibao Sur</th>\n",
       "      <td>179.00</td>\n",
       "      <td>210.00</td>\n",
       "      <td>233.00</td>\n",
       "      <td>276.00</td>\n",
       "      <td>224.00</td>\n",
       "      <td>202.00</td>\n",
       "      <td>214.00</td>\n",
       "      <td>222.00</td>\n",
       "      <td>253.00</td>\n",
       "      <td>255.00</td>\n",
       "      <td>218.00</td>\n",
       "      <td>161.00</td>\n",
       "      <td>281.00</td>\n",
       "      <td>218.00</td>\n",
       "      <td>239.00</td>\n",
       "      <td>214.00</td>\n",
       "      <td>228.00</td>\n",
       "      <td>252.00</td>\n",
       "      <td>4079.00</td>\n",
       "    </tr>\n",
       "    <tr>\n",
       "      <th>Región Valdesia</th>\n",
       "      <td>197.00</td>\n",
       "      <td>230.00</td>\n",
       "      <td>228.00</td>\n",
       "      <td>245.00</td>\n",
       "      <td>223.00</td>\n",
       "      <td>148.00</td>\n",
       "      <td>175.00</td>\n",
       "      <td>192.00</td>\n",
       "      <td>152.00</td>\n",
       "      <td>212.00</td>\n",
       "      <td>179.00</td>\n",
       "      <td>206.00</td>\n",
       "      <td>227.00</td>\n",
       "      <td>240.00</td>\n",
       "      <td>185.00</td>\n",
       "      <td>199.00</td>\n",
       "      <td>251.00</td>\n",
       "      <td>275.00</td>\n",
       "      <td>3764.00</td>\n",
       "    </tr>\n",
       "    <tr>\n",
       "      <th>Región Yuma</th>\n",
       "      <td>193.00</td>\n",
       "      <td>191.00</td>\n",
       "      <td>160.00</td>\n",
       "      <td>154.00</td>\n",
       "      <td>152.00</td>\n",
       "      <td>148.00</td>\n",
       "      <td>171.00</td>\n",
       "      <td>164.00</td>\n",
       "      <td>190.00</td>\n",
       "      <td>199.00</td>\n",
       "      <td>142.00</td>\n",
       "      <td>117.00</td>\n",
       "      <td>200.00</td>\n",
       "      <td>144.00</td>\n",
       "      <td>205.00</td>\n",
       "      <td>193.00</td>\n",
       "      <td>228.00</td>\n",
       "      <td>230.00</td>\n",
       "      <td>3181.00</td>\n",
       "    </tr>\n",
       "    <tr>\n",
       "      <th>Región Cibao Nordeste</th>\n",
       "      <td>136.00</td>\n",
       "      <td>135.00</td>\n",
       "      <td>134.00</td>\n",
       "      <td>190.00</td>\n",
       "      <td>168.00</td>\n",
       "      <td>185.00</td>\n",
       "      <td>187.00</td>\n",
       "      <td>189.00</td>\n",
       "      <td>218.00</td>\n",
       "      <td>233.00</td>\n",
       "      <td>188.00</td>\n",
       "      <td>116.00</td>\n",
       "      <td>189.00</td>\n",
       "      <td>166.00</td>\n",
       "      <td>154.00</td>\n",
       "      <td>175.00</td>\n",
       "      <td>163.00</td>\n",
       "      <td>215.00</td>\n",
       "      <td>3141.00</td>\n",
       "    </tr>\n",
       "    <tr>\n",
       "      <th>Región El Valle</th>\n",
       "      <td>79.00</td>\n",
       "      <td>87.00</td>\n",
       "      <td>124.00</td>\n",
       "      <td>153.00</td>\n",
       "      <td>130.00</td>\n",
       "      <td>117.00</td>\n",
       "      <td>111.00</td>\n",
       "      <td>118.00</td>\n",
       "      <td>137.00</td>\n",
       "      <td>125.00</td>\n",
       "      <td>129.00</td>\n",
       "      <td>133.00</td>\n",
       "      <td>151.00</td>\n",
       "      <td>114.00</td>\n",
       "      <td>134.00</td>\n",
       "      <td>140.00</td>\n",
       "      <td>129.00</td>\n",
       "      <td>165.00</td>\n",
       "      <td>2276.00</td>\n",
       "    </tr>\n",
       "    <tr>\n",
       "      <th>Región Higuamo</th>\n",
       "      <td>123.00</td>\n",
       "      <td>145.00</td>\n",
       "      <td>112.00</td>\n",
       "      <td>125.00</td>\n",
       "      <td>115.00</td>\n",
       "      <td>120.00</td>\n",
       "      <td>120.00</td>\n",
       "      <td>106.00</td>\n",
       "      <td>133.00</td>\n",
       "      <td>137.00</td>\n",
       "      <td>102.00</td>\n",
       "      <td>76.00</td>\n",
       "      <td>124.00</td>\n",
       "      <td>128.00</td>\n",
       "      <td>144.00</td>\n",
       "      <td>130.00</td>\n",
       "      <td>116.00</td>\n",
       "      <td>139.00</td>\n",
       "      <td>2195.00</td>\n",
       "    </tr>\n",
       "    <tr>\n",
       "      <th>Región Cibao Noroeste</th>\n",
       "      <td>77.00</td>\n",
       "      <td>62.00</td>\n",
       "      <td>75.00</td>\n",
       "      <td>102.00</td>\n",
       "      <td>96.00</td>\n",
       "      <td>111.00</td>\n",
       "      <td>121.00</td>\n",
       "      <td>118.00</td>\n",
       "      <td>132.00</td>\n",
       "      <td>126.00</td>\n",
       "      <td>70.00</td>\n",
       "      <td>76.00</td>\n",
       "      <td>123.00</td>\n",
       "      <td>117.00</td>\n",
       "      <td>140.00</td>\n",
       "      <td>108.00</td>\n",
       "      <td>122.00</td>\n",
       "      <td>126.00</td>\n",
       "      <td>1902.00</td>\n",
       "    </tr>\n",
       "    <tr>\n",
       "      <th>Región Enriquillo</th>\n",
       "      <td>70.00</td>\n",
       "      <td>55.00</td>\n",
       "      <td>59.00</td>\n",
       "      <td>98.00</td>\n",
       "      <td>70.00</td>\n",
       "      <td>81.00</td>\n",
       "      <td>69.00</td>\n",
       "      <td>79.00</td>\n",
       "      <td>83.00</td>\n",
       "      <td>72.00</td>\n",
       "      <td>47.00</td>\n",
       "      <td>35.00</td>\n",
       "      <td>80.00</td>\n",
       "      <td>67.00</td>\n",
       "      <td>74.00</td>\n",
       "      <td>64.00</td>\n",
       "      <td>88.00</td>\n",
       "      <td>74.00</td>\n",
       "      <td>1265.00</td>\n",
       "    </tr>\n",
       "    <tr>\n",
       "      <th>No declarada</th>\n",
       "      <td>NaN</td>\n",
       "      <td>NaN</td>\n",
       "      <td>NaN</td>\n",
       "      <td>NaN</td>\n",
       "      <td>NaN</td>\n",
       "      <td>NaN</td>\n",
       "      <td>NaN</td>\n",
       "      <td>NaN</td>\n",
       "      <td>NaN</td>\n",
       "      <td>NaN</td>\n",
       "      <td>5.00</td>\n",
       "      <td>NaN</td>\n",
       "      <td>NaN</td>\n",
       "      <td>NaN</td>\n",
       "      <td>NaN</td>\n",
       "      <td>NaN</td>\n",
       "      <td>NaN</td>\n",
       "      <td>NaN</td>\n",
       "      <td>5.00</td>\n",
       "    </tr>\n",
       "  </tbody>\n",
       "</table>\n",
       "</div>"
      ],
      "text/plain": [
       "anio                    2007   2008   2009   2010   2011   2012   2013   2014  \\\n",
       "region                                                                          \n",
       "Región Ozama          446.00 495.00 455.00 496.00 418.00 419.00 426.00 355.00   \n",
       "Región Cibao Norte    247.00 236.00 293.00 293.00 237.00 237.00 298.00 312.00   \n",
       "Región Cibao Sur      179.00 210.00 233.00 276.00 224.00 202.00 214.00 222.00   \n",
       "Región Valdesia       197.00 230.00 228.00 245.00 223.00 148.00 175.00 192.00   \n",
       "Región Yuma           193.00 191.00 160.00 154.00 152.00 148.00 171.00 164.00   \n",
       "Región Cibao Nordeste 136.00 135.00 134.00 190.00 168.00 185.00 187.00 189.00   \n",
       "Región El Valle        79.00  87.00 124.00 153.00 130.00 117.00 111.00 118.00   \n",
       "Región Higuamo        123.00 145.00 112.00 125.00 115.00 120.00 120.00 106.00   \n",
       "Región Cibao Noroeste  77.00  62.00  75.00 102.00  96.00 111.00 121.00 118.00   \n",
       "Región Enriquillo      70.00  55.00  59.00  98.00  70.00  81.00  69.00  79.00   \n",
       "No declarada             NaN    NaN    NaN    NaN    NaN    NaN    NaN    NaN   \n",
       "\n",
       "anio                    2015   2016   2017   2018   2019   2020   2021   2022  \\\n",
       "region                                                                          \n",
       "Región Ozama          299.00 322.00 271.00 280.00 392.00 320.00 308.00 326.00   \n",
       "Región Cibao Norte    349.00 310.00 236.00 227.00 333.00 223.00 291.00 245.00   \n",
       "Región Cibao Sur      253.00 255.00 218.00 161.00 281.00 218.00 239.00 214.00   \n",
       "Región Valdesia       152.00 212.00 179.00 206.00 227.00 240.00 185.00 199.00   \n",
       "Región Yuma           190.00 199.00 142.00 117.00 200.00 144.00 205.00 193.00   \n",
       "Región Cibao Nordeste 218.00 233.00 188.00 116.00 189.00 166.00 154.00 175.00   \n",
       "Región El Valle       137.00 125.00 129.00 133.00 151.00 114.00 134.00 140.00   \n",
       "Región Higuamo        133.00 137.00 102.00  76.00 124.00 128.00 144.00 130.00   \n",
       "Región Cibao Noroeste 132.00 126.00  70.00  76.00 123.00 117.00 140.00 108.00   \n",
       "Región Enriquillo      83.00  72.00  47.00  35.00  80.00  67.00  74.00  64.00   \n",
       "No declarada             NaN    NaN   5.00    NaN    NaN    NaN    NaN    NaN   \n",
       "\n",
       "anio                    2023   2024   Total  \n",
       "region                                       \n",
       "Región Ozama          348.00 364.00 6740.00  \n",
       "Región Cibao Norte    276.00 321.00 4964.00  \n",
       "Región Cibao Sur      228.00 252.00 4079.00  \n",
       "Región Valdesia       251.00 275.00 3764.00  \n",
       "Región Yuma           228.00 230.00 3181.00  \n",
       "Región Cibao Nordeste 163.00 215.00 3141.00  \n",
       "Región El Valle       129.00 165.00 2276.00  \n",
       "Región Higuamo        116.00 139.00 2195.00  \n",
       "Región Cibao Noroeste 122.00 126.00 1902.00  \n",
       "Región Enriquillo      88.00  74.00 1265.00  \n",
       "No declarada             NaN    NaN    5.00  "
      ]
     },
     "execution_count": 112,
     "metadata": {},
     "output_type": "execute_result"
    }
   ],
   "source": [
    "tabla_pivote_region = f.crear_tabla_pivote(df_descodificada, index='region', columns='anio', values='tipo_accidente', aggfunc='count')\n",
    "tabla_pivote_region['Total'] = tabla_pivote_region.sum(axis=1) # que sume las filas\n",
    "tabla_pivote_region = tabla_pivote_region.sort_values(by='Total', ascending=False)\n",
    "tabla_pivote_region"
   ]
  },
  {
   "cell_type": "markdown",
   "id": "107c33c3",
   "metadata": {},
   "source": [
    "### Diferencias históricas por provincias"
   ]
  },
  {
   "cell_type": "markdown",
   "id": "675eae19",
   "metadata": {},
   "source": [
    "### Provincias con Mayor Cantidad de Muertes\n",
    "\n",
    "- **Principales provincias**:  \n",
    "  - Las provincias con mayor cantidad de muertes son:  \n",
    "    - **Santo Domingo**  \n",
    "    - **San Cristóbal**  \n",
    "    - **Santiago**  \n",
    "    - **La Vega**  \n",
    "    - **La Altagracia**\n",
    "\n",
    "- **Santo Domingo**:  \n",
    "  - **Destaca** por duplicar el número de fallecidos en comparación con la provincia en segundo lugar.  \n",
    "    - **Santo Domingo**: **4,776 fallecidos**  \n",
    "    - **San Cristóbal**: **2,373 fallecidos**  \n",
    "  - Hasta **2013**, Santo Domingo registraba más de **300 fallecidos** al año.  \n",
    "  - Desde **2014**, el número de fallecidos no supera los **260 casos**, excepto en **2019**, cuando se registraron **301 defunciones**.\n",
    "\n",
    "- **San Cristóbal**:  \n",
    "  - Hasta **2010**, los fallecidos alcanzaron cifras más altas, llegando a **176 víctimas**.  \n",
    "  - Desde **2011**, las muertes oscilan entre **100 y 160 casos** anuales.  \n",
    "  - En los últimos cinco años, destaca **2020** con **163 fallecidos**.\n"
   ]
  },
  {
   "cell_type": "code",
   "execution_count": 113,
   "id": "37dc1bd7",
   "metadata": {},
   "outputs": [
    {
     "data": {
      "application/vnd.microsoft.datawrangler.viewer.v0+json": {
       "columns": [
        {
         "name": "provincia",
         "rawType": "object",
         "type": "string"
        },
        {
         "name": "2007",
         "rawType": "float64",
         "type": "float"
        },
        {
         "name": "2008",
         "rawType": "float64",
         "type": "float"
        },
        {
         "name": "2009",
         "rawType": "float64",
         "type": "float"
        },
        {
         "name": "2010",
         "rawType": "float64",
         "type": "float"
        },
        {
         "name": "2011",
         "rawType": "float64",
         "type": "float"
        },
        {
         "name": "2012",
         "rawType": "float64",
         "type": "float"
        },
        {
         "name": "2013",
         "rawType": "float64",
         "type": "float"
        },
        {
         "name": "2014",
         "rawType": "float64",
         "type": "float"
        },
        {
         "name": "2015",
         "rawType": "float64",
         "type": "float"
        },
        {
         "name": "2016",
         "rawType": "float64",
         "type": "float"
        },
        {
         "name": "2017",
         "rawType": "float64",
         "type": "float"
        },
        {
         "name": "2018",
         "rawType": "float64",
         "type": "float"
        },
        {
         "name": "2019",
         "rawType": "float64",
         "type": "float"
        },
        {
         "name": "2020",
         "rawType": "float64",
         "type": "float"
        },
        {
         "name": "2021",
         "rawType": "float64",
         "type": "float"
        },
        {
         "name": "2022",
         "rawType": "float64",
         "type": "float"
        },
        {
         "name": "2023",
         "rawType": "float64",
         "type": "float"
        },
        {
         "name": "2024",
         "rawType": "float64",
         "type": "float"
        },
        {
         "name": "Total",
         "rawType": "float64",
         "type": "float"
        }
       ],
       "ref": "cbee2489-b618-44ef-8bf1-b989756916cd",
       "rows": [
        [
         "Santo Domingo",
         "329.0",
         "372.0",
         "341.0",
         "393.0",
         "319.0",
         "313.0",
         "311.0",
         "243.0",
         "235.0",
         "254.0",
         "210.0",
         "197.0",
         "301.0",
         "244.0",
         "220.0",
         "237.0",
         "255.0",
         "258.0",
         "5032.0"
        ],
        [
         "San Cristóbal",
         "148.0",
         "174.0",
         "177.0",
         "178.0",
         "160.0",
         "100.0",
         "124.0",
         "132.0",
         "98.0",
         "121.0",
         "115.0",
         "145.0",
         "147.0",
         "166.0",
         "109.0",
         "116.0",
         "163.0",
         "186.0",
         "2559.0"
        ],
        [
         "Santiago",
         "117.0",
         "108.0",
         "153.0",
         "165.0",
         "101.0",
         "137.0",
         "135.0",
         "146.0",
         "164.0",
         "147.0",
         "118.0",
         "154.0",
         "164.0",
         "121.0",
         "155.0",
         "120.0",
         "120.0",
         "171.0",
         "2496.0"
        ],
        [
         "La Vega",
         "71.0",
         "85.0",
         "148.0",
         "166.0",
         "136.0",
         "115.0",
         "119.0",
         "135.0",
         "146.0",
         "153.0",
         "122.0",
         "97.0",
         "167.0",
         "127.0",
         "126.0",
         "123.0",
         "132.0",
         "136.0",
         "2304.0"
        ],
        [
         "La Altagracia",
         "131.0",
         "131.0",
         "94.0",
         "103.0",
         "105.0",
         "103.0",
         "96.0",
         "110.0",
         "125.0",
         "127.0",
         "84.0",
         "84.0",
         "140.0",
         "86.0",
         "126.0",
         "123.0",
         "151.0",
         "159.0",
         "2078.0"
        ],
        [
         "Distrito Nacional",
         "117.0",
         "123.0",
         "114.0",
         "103.0",
         "99.0",
         "106.0",
         "115.0",
         "112.0",
         "64.0",
         "68.0",
         "61.0",
         "83.0",
         "91.0",
         "76.0",
         "88.0",
         "89.0",
         "93.0",
         "106.0",
         "1708.0"
        ],
        [
         "Puerto Plata",
         "82.0",
         "88.0",
         "90.0",
         "78.0",
         "80.0",
         "75.0",
         "104.0",
         "94.0",
         "99.0",
         "88.0",
         "57.0",
         "39.0",
         "107.0",
         "64.0",
         "78.0",
         "73.0",
         "97.0",
         "85.0",
         "1478.0"
        ],
        [
         "Duarte",
         "61.0",
         "63.0",
         "60.0",
         "90.0",
         "66.0",
         "94.0",
         "68.0",
         "64.0",
         "104.0",
         "116.0",
         "74.0",
         "44.0",
         "64.0",
         "56.0",
         "52.0",
         "60.0",
         "50.0",
         "81.0",
         "1267.0"
        ],
        [
         "Monseñor Nouel",
         "89.0",
         "83.0",
         "52.0",
         "61.0",
         "56.0",
         "56.0",
         "40.0",
         "59.0",
         "69.0",
         "54.0",
         "69.0",
         "53.0",
         "73.0",
         "58.0",
         "75.0",
         "62.0",
         "65.0",
         "68.0",
         "1142.0"
        ],
        [
         "San Pedro de Macorís",
         "60.0",
         "82.0",
         "55.0",
         "56.0",
         "76.0",
         "65.0",
         "72.0",
         "67.0",
         "70.0",
         "71.0",
         "54.0",
         "29.0",
         "69.0",
         "49.0",
         "71.0",
         "63.0",
         "52.0",
         "58.0",
         "1119.0"
        ],
        [
         "Azua",
         "35.0",
         "50.0",
         "56.0",
         "56.0",
         "64.0",
         "53.0",
         "55.0",
         "53.0",
         "61.0",
         "64.0",
         "61.0",
         "51.0",
         "80.0",
         "69.0",
         "68.0",
         "75.0",
         "58.0",
         "79.0",
         "1088.0"
        ],
        [
         "San Juan",
         "39.0",
         "32.0",
         "60.0",
         "83.0",
         "55.0",
         "60.0",
         "50.0",
         "60.0",
         "75.0",
         "54.0",
         "59.0",
         "75.0",
         "64.0",
         "34.0",
         "58.0",
         "50.0",
         "62.0",
         "75.0",
         "1045.0"
        ],
        [
         "Espaillat",
         "48.0",
         "40.0",
         "50.0",
         "50.0",
         "56.0",
         "25.0",
         "59.0",
         "72.0",
         "86.0",
         "75.0",
         "61.0",
         "34.0",
         "62.0",
         "38.0",
         "58.0",
         "52.0",
         "59.0",
         "65.0",
         "990.0"
        ],
        [
         "Peravia",
         "45.0",
         "49.0",
         "43.0",
         "54.0",
         "54.0",
         "37.0",
         "42.0",
         "47.0",
         "45.0",
         "80.0",
         "50.0",
         "51.0",
         "57.0",
         "59.0",
         "61.0",
         "68.0",
         "68.0",
         "68.0",
         "978.0"
        ],
        [
         "María Trinidad Sánchez",
         "29.0",
         "30.0",
         "35.0",
         "48.0",
         "40.0",
         "44.0",
         "64.0",
         "58.0",
         "41.0",
         "52.0",
         "39.0",
         "31.0",
         "64.0",
         "28.0",
         "44.0",
         "46.0",
         "53.0",
         "51.0",
         "797.0"
        ],
        [
         "Monte Plata",
         "41.0",
         "46.0",
         "49.0",
         "51.0",
         "29.0",
         "37.0",
         "34.0",
         "21.0",
         "44.0",
         "45.0",
         "35.0",
         "37.0",
         "41.0",
         "61.0",
         "57.0",
         "53.0",
         "47.0",
         "66.0",
         "794.0"
        ],
        [
         "Valverde",
         "35.0",
         "23.0",
         "40.0",
         "44.0",
         "50.0",
         "52.0",
         "51.0",
         "45.0",
         "60.0",
         "52.0",
         "35.0",
         "38.0",
         "55.0",
         "39.0",
         "45.0",
         "30.0",
         "48.0",
         "46.0",
         "788.0"
        ],
        [
         "La Romana",
         "45.0",
         "45.0",
         "41.0",
         "30.0",
         "43.0",
         "31.0",
         "61.0",
         "35.0",
         "46.0",
         "53.0",
         "43.0",
         "2.0",
         "36.0",
         "41.0",
         "52.0",
         "49.0",
         "54.0",
         "48.0",
         "755.0"
        ],
        [
         "Samaná",
         "41.0",
         "34.0",
         "32.0",
         "35.0",
         "30.0",
         "28.0",
         "28.0",
         "34.0",
         "29.0",
         "47.0",
         "35.0",
         "27.0",
         "38.0",
         "53.0",
         "30.0",
         "49.0",
         "36.0",
         "52.0",
         "658.0"
        ],
        [
         "Barahona",
         "41.0",
         "30.0",
         "31.0",
         "63.0",
         "38.0",
         "47.0",
         "35.0",
         "39.0",
         "37.0",
         "34.0",
         "21.0",
         "15.0",
         "44.0",
         "23.0",
         "36.0",
         "33.0",
         "31.0",
         "35.0",
         "633.0"
        ],
        [
         "Sánchez Ramírez",
         "19.0",
         "42.0",
         "33.0",
         "49.0",
         "32.0",
         "31.0",
         "55.0",
         "28.0",
         "38.0",
         "48.0",
         "27.0",
         "11.0",
         "41.0",
         "33.0",
         "38.0",
         "29.0",
         "31.0",
         "48.0",
         "633.0"
        ],
        [
         "Monte Cristi",
         "15.0",
         "12.0",
         "17.0",
         "42.0",
         "29.0",
         "27.0",
         "42.0",
         "39.0",
         "26.0",
         "39.0",
         "24.0",
         "27.0",
         "30.0",
         "39.0",
         "52.0",
         "38.0",
         "38.0",
         "33.0",
         "569.0"
        ],
        [
         "Hermanas Mirabal",
         "5.0",
         "8.0",
         "7.0",
         "17.0",
         "32.0",
         "19.0",
         "27.0",
         "33.0",
         "44.0",
         "18.0",
         "40.0",
         "14.0",
         "23.0",
         "29.0",
         "28.0",
         "20.0",
         "24.0",
         "31.0",
         "419.0"
        ],
        [
         "Baoruco",
         "14.0",
         "12.0",
         "13.0",
         "23.0",
         "14.0",
         "25.0",
         "20.0",
         "21.0",
         "30.0",
         "21.0",
         "16.0",
         "13.0",
         "19.0",
         "30.0",
         "20.0",
         "16.0",
         "27.0",
         "25.0",
         "359.0"
        ],
        [
         "El Seibo",
         "17.0",
         "15.0",
         "25.0",
         "21.0",
         "4.0",
         "14.0",
         "14.0",
         "19.0",
         "19.0",
         "19.0",
         "15.0",
         "31.0",
         "24.0",
         "17.0",
         "27.0",
         "21.0",
         "23.0",
         "23.0",
         "348.0"
        ],
        [
         "Dajabón",
         "16.0",
         "19.0",
         "12.0",
         "9.0",
         "10.0",
         "19.0",
         "17.0",
         "21.0",
         "31.0",
         "28.0",
         "5.0",
         "4.0",
         "16.0",
         "22.0",
         "24.0",
         "20.0",
         "21.0",
         "26.0",
         "320.0"
        ],
        [
         "Hato Mayor",
         "22.0",
         "17.0",
         "8.0",
         "18.0",
         "10.0",
         "18.0",
         "14.0",
         "18.0",
         "19.0",
         "21.0",
         "13.0",
         "10.0",
         "14.0",
         "18.0",
         "16.0",
         "14.0",
         "17.0",
         "15.0",
         "282.0"
        ],
        [
         "San José de Ocoa",
         "4.0",
         "7.0",
         "8.0",
         "13.0",
         "9.0",
         "11.0",
         "9.0",
         "13.0",
         "9.0",
         "11.0",
         "14.0",
         "10.0",
         "23.0",
         "15.0",
         "15.0",
         "15.0",
         "20.0",
         "21.0",
         "227.0"
        ],
        [
         "Santiago Rodríguez",
         "11.0",
         "8.0",
         "6.0",
         "7.0",
         "7.0",
         "13.0",
         "11.0",
         "13.0",
         "15.0",
         "7.0",
         "6.0",
         "7.0",
         "22.0",
         "17.0",
         "19.0",
         "20.0",
         "15.0",
         "21.0",
         "225.0"
        ],
        [
         "Independencia",
         "13.0",
         "9.0",
         "11.0",
         "8.0",
         "10.0",
         "6.0",
         "6.0",
         "10.0",
         "13.0",
         "11.0",
         "6.0",
         "5.0",
         "12.0",
         "9.0",
         "12.0",
         "9.0",
         "17.0",
         "3.0",
         "170.0"
        ],
        [
         "Elías Piña",
         "5.0",
         "5.0",
         "8.0",
         "14.0",
         "11.0",
         "4.0",
         "6.0",
         "5.0",
         "1.0",
         "7.0",
         "9.0",
         "7.0",
         "7.0",
         "11.0",
         "8.0",
         "15.0",
         "9.0",
         "11.0",
         "143.0"
        ],
        [
         "Pedernales",
         "2.0",
         "4.0",
         "4.0",
         "4.0",
         "8.0",
         "3.0",
         "8.0",
         "9.0",
         "3.0",
         "6.0",
         "4.0",
         "2.0",
         "5.0",
         "5.0",
         "6.0",
         "6.0",
         "13.0",
         "11.0",
         "103.0"
        ],
        [
         "No declarado",
         null,
         null,
         null,
         null,
         null,
         null,
         null,
         null,
         null,
         null,
         "5.0",
         null,
         null,
         null,
         null,
         null,
         null,
         null,
         "5.0"
        ]
       ],
       "shape": {
        "columns": 19,
        "rows": 33
       }
      },
      "text/html": [
       "<div>\n",
       "<style scoped>\n",
       "    .dataframe tbody tr th:only-of-type {\n",
       "        vertical-align: middle;\n",
       "    }\n",
       "\n",
       "    .dataframe tbody tr th {\n",
       "        vertical-align: top;\n",
       "    }\n",
       "\n",
       "    .dataframe thead th {\n",
       "        text-align: right;\n",
       "    }\n",
       "</style>\n",
       "<table border=\"1\" class=\"dataframe\">\n",
       "  <thead>\n",
       "    <tr style=\"text-align: right;\">\n",
       "      <th>anio</th>\n",
       "      <th>2007</th>\n",
       "      <th>2008</th>\n",
       "      <th>2009</th>\n",
       "      <th>2010</th>\n",
       "      <th>2011</th>\n",
       "      <th>2012</th>\n",
       "      <th>2013</th>\n",
       "      <th>2014</th>\n",
       "      <th>2015</th>\n",
       "      <th>2016</th>\n",
       "      <th>2017</th>\n",
       "      <th>2018</th>\n",
       "      <th>2019</th>\n",
       "      <th>2020</th>\n",
       "      <th>2021</th>\n",
       "      <th>2022</th>\n",
       "      <th>2023</th>\n",
       "      <th>2024</th>\n",
       "      <th>Total</th>\n",
       "    </tr>\n",
       "    <tr>\n",
       "      <th>provincia</th>\n",
       "      <th></th>\n",
       "      <th></th>\n",
       "      <th></th>\n",
       "      <th></th>\n",
       "      <th></th>\n",
       "      <th></th>\n",
       "      <th></th>\n",
       "      <th></th>\n",
       "      <th></th>\n",
       "      <th></th>\n",
       "      <th></th>\n",
       "      <th></th>\n",
       "      <th></th>\n",
       "      <th></th>\n",
       "      <th></th>\n",
       "      <th></th>\n",
       "      <th></th>\n",
       "      <th></th>\n",
       "      <th></th>\n",
       "    </tr>\n",
       "  </thead>\n",
       "  <tbody>\n",
       "    <tr>\n",
       "      <th>Santo Domingo</th>\n",
       "      <td>329.00</td>\n",
       "      <td>372.00</td>\n",
       "      <td>341.00</td>\n",
       "      <td>393.00</td>\n",
       "      <td>319.00</td>\n",
       "      <td>313.00</td>\n",
       "      <td>311.00</td>\n",
       "      <td>243.00</td>\n",
       "      <td>235.00</td>\n",
       "      <td>254.00</td>\n",
       "      <td>210.00</td>\n",
       "      <td>197.00</td>\n",
       "      <td>301.00</td>\n",
       "      <td>244.00</td>\n",
       "      <td>220.00</td>\n",
       "      <td>237.00</td>\n",
       "      <td>255.00</td>\n",
       "      <td>258.00</td>\n",
       "      <td>5032.00</td>\n",
       "    </tr>\n",
       "    <tr>\n",
       "      <th>San Cristóbal</th>\n",
       "      <td>148.00</td>\n",
       "      <td>174.00</td>\n",
       "      <td>177.00</td>\n",
       "      <td>178.00</td>\n",
       "      <td>160.00</td>\n",
       "      <td>100.00</td>\n",
       "      <td>124.00</td>\n",
       "      <td>132.00</td>\n",
       "      <td>98.00</td>\n",
       "      <td>121.00</td>\n",
       "      <td>115.00</td>\n",
       "      <td>145.00</td>\n",
       "      <td>147.00</td>\n",
       "      <td>166.00</td>\n",
       "      <td>109.00</td>\n",
       "      <td>116.00</td>\n",
       "      <td>163.00</td>\n",
       "      <td>186.00</td>\n",
       "      <td>2559.00</td>\n",
       "    </tr>\n",
       "    <tr>\n",
       "      <th>Santiago</th>\n",
       "      <td>117.00</td>\n",
       "      <td>108.00</td>\n",
       "      <td>153.00</td>\n",
       "      <td>165.00</td>\n",
       "      <td>101.00</td>\n",
       "      <td>137.00</td>\n",
       "      <td>135.00</td>\n",
       "      <td>146.00</td>\n",
       "      <td>164.00</td>\n",
       "      <td>147.00</td>\n",
       "      <td>118.00</td>\n",
       "      <td>154.00</td>\n",
       "      <td>164.00</td>\n",
       "      <td>121.00</td>\n",
       "      <td>155.00</td>\n",
       "      <td>120.00</td>\n",
       "      <td>120.00</td>\n",
       "      <td>171.00</td>\n",
       "      <td>2496.00</td>\n",
       "    </tr>\n",
       "    <tr>\n",
       "      <th>La Vega</th>\n",
       "      <td>71.00</td>\n",
       "      <td>85.00</td>\n",
       "      <td>148.00</td>\n",
       "      <td>166.00</td>\n",
       "      <td>136.00</td>\n",
       "      <td>115.00</td>\n",
       "      <td>119.00</td>\n",
       "      <td>135.00</td>\n",
       "      <td>146.00</td>\n",
       "      <td>153.00</td>\n",
       "      <td>122.00</td>\n",
       "      <td>97.00</td>\n",
       "      <td>167.00</td>\n",
       "      <td>127.00</td>\n",
       "      <td>126.00</td>\n",
       "      <td>123.00</td>\n",
       "      <td>132.00</td>\n",
       "      <td>136.00</td>\n",
       "      <td>2304.00</td>\n",
       "    </tr>\n",
       "    <tr>\n",
       "      <th>La Altagracia</th>\n",
       "      <td>131.00</td>\n",
       "      <td>131.00</td>\n",
       "      <td>94.00</td>\n",
       "      <td>103.00</td>\n",
       "      <td>105.00</td>\n",
       "      <td>103.00</td>\n",
       "      <td>96.00</td>\n",
       "      <td>110.00</td>\n",
       "      <td>125.00</td>\n",
       "      <td>127.00</td>\n",
       "      <td>84.00</td>\n",
       "      <td>84.00</td>\n",
       "      <td>140.00</td>\n",
       "      <td>86.00</td>\n",
       "      <td>126.00</td>\n",
       "      <td>123.00</td>\n",
       "      <td>151.00</td>\n",
       "      <td>159.00</td>\n",
       "      <td>2078.00</td>\n",
       "    </tr>\n",
       "    <tr>\n",
       "      <th>Distrito Nacional</th>\n",
       "      <td>117.00</td>\n",
       "      <td>123.00</td>\n",
       "      <td>114.00</td>\n",
       "      <td>103.00</td>\n",
       "      <td>99.00</td>\n",
       "      <td>106.00</td>\n",
       "      <td>115.00</td>\n",
       "      <td>112.00</td>\n",
       "      <td>64.00</td>\n",
       "      <td>68.00</td>\n",
       "      <td>61.00</td>\n",
       "      <td>83.00</td>\n",
       "      <td>91.00</td>\n",
       "      <td>76.00</td>\n",
       "      <td>88.00</td>\n",
       "      <td>89.00</td>\n",
       "      <td>93.00</td>\n",
       "      <td>106.00</td>\n",
       "      <td>1708.00</td>\n",
       "    </tr>\n",
       "    <tr>\n",
       "      <th>Puerto Plata</th>\n",
       "      <td>82.00</td>\n",
       "      <td>88.00</td>\n",
       "      <td>90.00</td>\n",
       "      <td>78.00</td>\n",
       "      <td>80.00</td>\n",
       "      <td>75.00</td>\n",
       "      <td>104.00</td>\n",
       "      <td>94.00</td>\n",
       "      <td>99.00</td>\n",
       "      <td>88.00</td>\n",
       "      <td>57.00</td>\n",
       "      <td>39.00</td>\n",
       "      <td>107.00</td>\n",
       "      <td>64.00</td>\n",
       "      <td>78.00</td>\n",
       "      <td>73.00</td>\n",
       "      <td>97.00</td>\n",
       "      <td>85.00</td>\n",
       "      <td>1478.00</td>\n",
       "    </tr>\n",
       "    <tr>\n",
       "      <th>Duarte</th>\n",
       "      <td>61.00</td>\n",
       "      <td>63.00</td>\n",
       "      <td>60.00</td>\n",
       "      <td>90.00</td>\n",
       "      <td>66.00</td>\n",
       "      <td>94.00</td>\n",
       "      <td>68.00</td>\n",
       "      <td>64.00</td>\n",
       "      <td>104.00</td>\n",
       "      <td>116.00</td>\n",
       "      <td>74.00</td>\n",
       "      <td>44.00</td>\n",
       "      <td>64.00</td>\n",
       "      <td>56.00</td>\n",
       "      <td>52.00</td>\n",
       "      <td>60.00</td>\n",
       "      <td>50.00</td>\n",
       "      <td>81.00</td>\n",
       "      <td>1267.00</td>\n",
       "    </tr>\n",
       "    <tr>\n",
       "      <th>Monseñor Nouel</th>\n",
       "      <td>89.00</td>\n",
       "      <td>83.00</td>\n",
       "      <td>52.00</td>\n",
       "      <td>61.00</td>\n",
       "      <td>56.00</td>\n",
       "      <td>56.00</td>\n",
       "      <td>40.00</td>\n",
       "      <td>59.00</td>\n",
       "      <td>69.00</td>\n",
       "      <td>54.00</td>\n",
       "      <td>69.00</td>\n",
       "      <td>53.00</td>\n",
       "      <td>73.00</td>\n",
       "      <td>58.00</td>\n",
       "      <td>75.00</td>\n",
       "      <td>62.00</td>\n",
       "      <td>65.00</td>\n",
       "      <td>68.00</td>\n",
       "      <td>1142.00</td>\n",
       "    </tr>\n",
       "    <tr>\n",
       "      <th>San Pedro de Macorís</th>\n",
       "      <td>60.00</td>\n",
       "      <td>82.00</td>\n",
       "      <td>55.00</td>\n",
       "      <td>56.00</td>\n",
       "      <td>76.00</td>\n",
       "      <td>65.00</td>\n",
       "      <td>72.00</td>\n",
       "      <td>67.00</td>\n",
       "      <td>70.00</td>\n",
       "      <td>71.00</td>\n",
       "      <td>54.00</td>\n",
       "      <td>29.00</td>\n",
       "      <td>69.00</td>\n",
       "      <td>49.00</td>\n",
       "      <td>71.00</td>\n",
       "      <td>63.00</td>\n",
       "      <td>52.00</td>\n",
       "      <td>58.00</td>\n",
       "      <td>1119.00</td>\n",
       "    </tr>\n",
       "    <tr>\n",
       "      <th>Azua</th>\n",
       "      <td>35.00</td>\n",
       "      <td>50.00</td>\n",
       "      <td>56.00</td>\n",
       "      <td>56.00</td>\n",
       "      <td>64.00</td>\n",
       "      <td>53.00</td>\n",
       "      <td>55.00</td>\n",
       "      <td>53.00</td>\n",
       "      <td>61.00</td>\n",
       "      <td>64.00</td>\n",
       "      <td>61.00</td>\n",
       "      <td>51.00</td>\n",
       "      <td>80.00</td>\n",
       "      <td>69.00</td>\n",
       "      <td>68.00</td>\n",
       "      <td>75.00</td>\n",
       "      <td>58.00</td>\n",
       "      <td>79.00</td>\n",
       "      <td>1088.00</td>\n",
       "    </tr>\n",
       "    <tr>\n",
       "      <th>San Juan</th>\n",
       "      <td>39.00</td>\n",
       "      <td>32.00</td>\n",
       "      <td>60.00</td>\n",
       "      <td>83.00</td>\n",
       "      <td>55.00</td>\n",
       "      <td>60.00</td>\n",
       "      <td>50.00</td>\n",
       "      <td>60.00</td>\n",
       "      <td>75.00</td>\n",
       "      <td>54.00</td>\n",
       "      <td>59.00</td>\n",
       "      <td>75.00</td>\n",
       "      <td>64.00</td>\n",
       "      <td>34.00</td>\n",
       "      <td>58.00</td>\n",
       "      <td>50.00</td>\n",
       "      <td>62.00</td>\n",
       "      <td>75.00</td>\n",
       "      <td>1045.00</td>\n",
       "    </tr>\n",
       "    <tr>\n",
       "      <th>Espaillat</th>\n",
       "      <td>48.00</td>\n",
       "      <td>40.00</td>\n",
       "      <td>50.00</td>\n",
       "      <td>50.00</td>\n",
       "      <td>56.00</td>\n",
       "      <td>25.00</td>\n",
       "      <td>59.00</td>\n",
       "      <td>72.00</td>\n",
       "      <td>86.00</td>\n",
       "      <td>75.00</td>\n",
       "      <td>61.00</td>\n",
       "      <td>34.00</td>\n",
       "      <td>62.00</td>\n",
       "      <td>38.00</td>\n",
       "      <td>58.00</td>\n",
       "      <td>52.00</td>\n",
       "      <td>59.00</td>\n",
       "      <td>65.00</td>\n",
       "      <td>990.00</td>\n",
       "    </tr>\n",
       "    <tr>\n",
       "      <th>Peravia</th>\n",
       "      <td>45.00</td>\n",
       "      <td>49.00</td>\n",
       "      <td>43.00</td>\n",
       "      <td>54.00</td>\n",
       "      <td>54.00</td>\n",
       "      <td>37.00</td>\n",
       "      <td>42.00</td>\n",
       "      <td>47.00</td>\n",
       "      <td>45.00</td>\n",
       "      <td>80.00</td>\n",
       "      <td>50.00</td>\n",
       "      <td>51.00</td>\n",
       "      <td>57.00</td>\n",
       "      <td>59.00</td>\n",
       "      <td>61.00</td>\n",
       "      <td>68.00</td>\n",
       "      <td>68.00</td>\n",
       "      <td>68.00</td>\n",
       "      <td>978.00</td>\n",
       "    </tr>\n",
       "    <tr>\n",
       "      <th>María Trinidad Sánchez</th>\n",
       "      <td>29.00</td>\n",
       "      <td>30.00</td>\n",
       "      <td>35.00</td>\n",
       "      <td>48.00</td>\n",
       "      <td>40.00</td>\n",
       "      <td>44.00</td>\n",
       "      <td>64.00</td>\n",
       "      <td>58.00</td>\n",
       "      <td>41.00</td>\n",
       "      <td>52.00</td>\n",
       "      <td>39.00</td>\n",
       "      <td>31.00</td>\n",
       "      <td>64.00</td>\n",
       "      <td>28.00</td>\n",
       "      <td>44.00</td>\n",
       "      <td>46.00</td>\n",
       "      <td>53.00</td>\n",
       "      <td>51.00</td>\n",
       "      <td>797.00</td>\n",
       "    </tr>\n",
       "    <tr>\n",
       "      <th>Monte Plata</th>\n",
       "      <td>41.00</td>\n",
       "      <td>46.00</td>\n",
       "      <td>49.00</td>\n",
       "      <td>51.00</td>\n",
       "      <td>29.00</td>\n",
       "      <td>37.00</td>\n",
       "      <td>34.00</td>\n",
       "      <td>21.00</td>\n",
       "      <td>44.00</td>\n",
       "      <td>45.00</td>\n",
       "      <td>35.00</td>\n",
       "      <td>37.00</td>\n",
       "      <td>41.00</td>\n",
       "      <td>61.00</td>\n",
       "      <td>57.00</td>\n",
       "      <td>53.00</td>\n",
       "      <td>47.00</td>\n",
       "      <td>66.00</td>\n",
       "      <td>794.00</td>\n",
       "    </tr>\n",
       "    <tr>\n",
       "      <th>Valverde</th>\n",
       "      <td>35.00</td>\n",
       "      <td>23.00</td>\n",
       "      <td>40.00</td>\n",
       "      <td>44.00</td>\n",
       "      <td>50.00</td>\n",
       "      <td>52.00</td>\n",
       "      <td>51.00</td>\n",
       "      <td>45.00</td>\n",
       "      <td>60.00</td>\n",
       "      <td>52.00</td>\n",
       "      <td>35.00</td>\n",
       "      <td>38.00</td>\n",
       "      <td>55.00</td>\n",
       "      <td>39.00</td>\n",
       "      <td>45.00</td>\n",
       "      <td>30.00</td>\n",
       "      <td>48.00</td>\n",
       "      <td>46.00</td>\n",
       "      <td>788.00</td>\n",
       "    </tr>\n",
       "    <tr>\n",
       "      <th>La Romana</th>\n",
       "      <td>45.00</td>\n",
       "      <td>45.00</td>\n",
       "      <td>41.00</td>\n",
       "      <td>30.00</td>\n",
       "      <td>43.00</td>\n",
       "      <td>31.00</td>\n",
       "      <td>61.00</td>\n",
       "      <td>35.00</td>\n",
       "      <td>46.00</td>\n",
       "      <td>53.00</td>\n",
       "      <td>43.00</td>\n",
       "      <td>2.00</td>\n",
       "      <td>36.00</td>\n",
       "      <td>41.00</td>\n",
       "      <td>52.00</td>\n",
       "      <td>49.00</td>\n",
       "      <td>54.00</td>\n",
       "      <td>48.00</td>\n",
       "      <td>755.00</td>\n",
       "    </tr>\n",
       "    <tr>\n",
       "      <th>Samaná</th>\n",
       "      <td>41.00</td>\n",
       "      <td>34.00</td>\n",
       "      <td>32.00</td>\n",
       "      <td>35.00</td>\n",
       "      <td>30.00</td>\n",
       "      <td>28.00</td>\n",
       "      <td>28.00</td>\n",
       "      <td>34.00</td>\n",
       "      <td>29.00</td>\n",
       "      <td>47.00</td>\n",
       "      <td>35.00</td>\n",
       "      <td>27.00</td>\n",
       "      <td>38.00</td>\n",
       "      <td>53.00</td>\n",
       "      <td>30.00</td>\n",
       "      <td>49.00</td>\n",
       "      <td>36.00</td>\n",
       "      <td>52.00</td>\n",
       "      <td>658.00</td>\n",
       "    </tr>\n",
       "    <tr>\n",
       "      <th>Barahona</th>\n",
       "      <td>41.00</td>\n",
       "      <td>30.00</td>\n",
       "      <td>31.00</td>\n",
       "      <td>63.00</td>\n",
       "      <td>38.00</td>\n",
       "      <td>47.00</td>\n",
       "      <td>35.00</td>\n",
       "      <td>39.00</td>\n",
       "      <td>37.00</td>\n",
       "      <td>34.00</td>\n",
       "      <td>21.00</td>\n",
       "      <td>15.00</td>\n",
       "      <td>44.00</td>\n",
       "      <td>23.00</td>\n",
       "      <td>36.00</td>\n",
       "      <td>33.00</td>\n",
       "      <td>31.00</td>\n",
       "      <td>35.00</td>\n",
       "      <td>633.00</td>\n",
       "    </tr>\n",
       "    <tr>\n",
       "      <th>Sánchez Ramírez</th>\n",
       "      <td>19.00</td>\n",
       "      <td>42.00</td>\n",
       "      <td>33.00</td>\n",
       "      <td>49.00</td>\n",
       "      <td>32.00</td>\n",
       "      <td>31.00</td>\n",
       "      <td>55.00</td>\n",
       "      <td>28.00</td>\n",
       "      <td>38.00</td>\n",
       "      <td>48.00</td>\n",
       "      <td>27.00</td>\n",
       "      <td>11.00</td>\n",
       "      <td>41.00</td>\n",
       "      <td>33.00</td>\n",
       "      <td>38.00</td>\n",
       "      <td>29.00</td>\n",
       "      <td>31.00</td>\n",
       "      <td>48.00</td>\n",
       "      <td>633.00</td>\n",
       "    </tr>\n",
       "    <tr>\n",
       "      <th>Monte Cristi</th>\n",
       "      <td>15.00</td>\n",
       "      <td>12.00</td>\n",
       "      <td>17.00</td>\n",
       "      <td>42.00</td>\n",
       "      <td>29.00</td>\n",
       "      <td>27.00</td>\n",
       "      <td>42.00</td>\n",
       "      <td>39.00</td>\n",
       "      <td>26.00</td>\n",
       "      <td>39.00</td>\n",
       "      <td>24.00</td>\n",
       "      <td>27.00</td>\n",
       "      <td>30.00</td>\n",
       "      <td>39.00</td>\n",
       "      <td>52.00</td>\n",
       "      <td>38.00</td>\n",
       "      <td>38.00</td>\n",
       "      <td>33.00</td>\n",
       "      <td>569.00</td>\n",
       "    </tr>\n",
       "    <tr>\n",
       "      <th>Hermanas Mirabal</th>\n",
       "      <td>5.00</td>\n",
       "      <td>8.00</td>\n",
       "      <td>7.00</td>\n",
       "      <td>17.00</td>\n",
       "      <td>32.00</td>\n",
       "      <td>19.00</td>\n",
       "      <td>27.00</td>\n",
       "      <td>33.00</td>\n",
       "      <td>44.00</td>\n",
       "      <td>18.00</td>\n",
       "      <td>40.00</td>\n",
       "      <td>14.00</td>\n",
       "      <td>23.00</td>\n",
       "      <td>29.00</td>\n",
       "      <td>28.00</td>\n",
       "      <td>20.00</td>\n",
       "      <td>24.00</td>\n",
       "      <td>31.00</td>\n",
       "      <td>419.00</td>\n",
       "    </tr>\n",
       "    <tr>\n",
       "      <th>Baoruco</th>\n",
       "      <td>14.00</td>\n",
       "      <td>12.00</td>\n",
       "      <td>13.00</td>\n",
       "      <td>23.00</td>\n",
       "      <td>14.00</td>\n",
       "      <td>25.00</td>\n",
       "      <td>20.00</td>\n",
       "      <td>21.00</td>\n",
       "      <td>30.00</td>\n",
       "      <td>21.00</td>\n",
       "      <td>16.00</td>\n",
       "      <td>13.00</td>\n",
       "      <td>19.00</td>\n",
       "      <td>30.00</td>\n",
       "      <td>20.00</td>\n",
       "      <td>16.00</td>\n",
       "      <td>27.00</td>\n",
       "      <td>25.00</td>\n",
       "      <td>359.00</td>\n",
       "    </tr>\n",
       "    <tr>\n",
       "      <th>El Seibo</th>\n",
       "      <td>17.00</td>\n",
       "      <td>15.00</td>\n",
       "      <td>25.00</td>\n",
       "      <td>21.00</td>\n",
       "      <td>4.00</td>\n",
       "      <td>14.00</td>\n",
       "      <td>14.00</td>\n",
       "      <td>19.00</td>\n",
       "      <td>19.00</td>\n",
       "      <td>19.00</td>\n",
       "      <td>15.00</td>\n",
       "      <td>31.00</td>\n",
       "      <td>24.00</td>\n",
       "      <td>17.00</td>\n",
       "      <td>27.00</td>\n",
       "      <td>21.00</td>\n",
       "      <td>23.00</td>\n",
       "      <td>23.00</td>\n",
       "      <td>348.00</td>\n",
       "    </tr>\n",
       "    <tr>\n",
       "      <th>Dajabón</th>\n",
       "      <td>16.00</td>\n",
       "      <td>19.00</td>\n",
       "      <td>12.00</td>\n",
       "      <td>9.00</td>\n",
       "      <td>10.00</td>\n",
       "      <td>19.00</td>\n",
       "      <td>17.00</td>\n",
       "      <td>21.00</td>\n",
       "      <td>31.00</td>\n",
       "      <td>28.00</td>\n",
       "      <td>5.00</td>\n",
       "      <td>4.00</td>\n",
       "      <td>16.00</td>\n",
       "      <td>22.00</td>\n",
       "      <td>24.00</td>\n",
       "      <td>20.00</td>\n",
       "      <td>21.00</td>\n",
       "      <td>26.00</td>\n",
       "      <td>320.00</td>\n",
       "    </tr>\n",
       "    <tr>\n",
       "      <th>Hato Mayor</th>\n",
       "      <td>22.00</td>\n",
       "      <td>17.00</td>\n",
       "      <td>8.00</td>\n",
       "      <td>18.00</td>\n",
       "      <td>10.00</td>\n",
       "      <td>18.00</td>\n",
       "      <td>14.00</td>\n",
       "      <td>18.00</td>\n",
       "      <td>19.00</td>\n",
       "      <td>21.00</td>\n",
       "      <td>13.00</td>\n",
       "      <td>10.00</td>\n",
       "      <td>14.00</td>\n",
       "      <td>18.00</td>\n",
       "      <td>16.00</td>\n",
       "      <td>14.00</td>\n",
       "      <td>17.00</td>\n",
       "      <td>15.00</td>\n",
       "      <td>282.00</td>\n",
       "    </tr>\n",
       "    <tr>\n",
       "      <th>San José de Ocoa</th>\n",
       "      <td>4.00</td>\n",
       "      <td>7.00</td>\n",
       "      <td>8.00</td>\n",
       "      <td>13.00</td>\n",
       "      <td>9.00</td>\n",
       "      <td>11.00</td>\n",
       "      <td>9.00</td>\n",
       "      <td>13.00</td>\n",
       "      <td>9.00</td>\n",
       "      <td>11.00</td>\n",
       "      <td>14.00</td>\n",
       "      <td>10.00</td>\n",
       "      <td>23.00</td>\n",
       "      <td>15.00</td>\n",
       "      <td>15.00</td>\n",
       "      <td>15.00</td>\n",
       "      <td>20.00</td>\n",
       "      <td>21.00</td>\n",
       "      <td>227.00</td>\n",
       "    </tr>\n",
       "    <tr>\n",
       "      <th>Santiago Rodríguez</th>\n",
       "      <td>11.00</td>\n",
       "      <td>8.00</td>\n",
       "      <td>6.00</td>\n",
       "      <td>7.00</td>\n",
       "      <td>7.00</td>\n",
       "      <td>13.00</td>\n",
       "      <td>11.00</td>\n",
       "      <td>13.00</td>\n",
       "      <td>15.00</td>\n",
       "      <td>7.00</td>\n",
       "      <td>6.00</td>\n",
       "      <td>7.00</td>\n",
       "      <td>22.00</td>\n",
       "      <td>17.00</td>\n",
       "      <td>19.00</td>\n",
       "      <td>20.00</td>\n",
       "      <td>15.00</td>\n",
       "      <td>21.00</td>\n",
       "      <td>225.00</td>\n",
       "    </tr>\n",
       "    <tr>\n",
       "      <th>Independencia</th>\n",
       "      <td>13.00</td>\n",
       "      <td>9.00</td>\n",
       "      <td>11.00</td>\n",
       "      <td>8.00</td>\n",
       "      <td>10.00</td>\n",
       "      <td>6.00</td>\n",
       "      <td>6.00</td>\n",
       "      <td>10.00</td>\n",
       "      <td>13.00</td>\n",
       "      <td>11.00</td>\n",
       "      <td>6.00</td>\n",
       "      <td>5.00</td>\n",
       "      <td>12.00</td>\n",
       "      <td>9.00</td>\n",
       "      <td>12.00</td>\n",
       "      <td>9.00</td>\n",
       "      <td>17.00</td>\n",
       "      <td>3.00</td>\n",
       "      <td>170.00</td>\n",
       "    </tr>\n",
       "    <tr>\n",
       "      <th>Elías Piña</th>\n",
       "      <td>5.00</td>\n",
       "      <td>5.00</td>\n",
       "      <td>8.00</td>\n",
       "      <td>14.00</td>\n",
       "      <td>11.00</td>\n",
       "      <td>4.00</td>\n",
       "      <td>6.00</td>\n",
       "      <td>5.00</td>\n",
       "      <td>1.00</td>\n",
       "      <td>7.00</td>\n",
       "      <td>9.00</td>\n",
       "      <td>7.00</td>\n",
       "      <td>7.00</td>\n",
       "      <td>11.00</td>\n",
       "      <td>8.00</td>\n",
       "      <td>15.00</td>\n",
       "      <td>9.00</td>\n",
       "      <td>11.00</td>\n",
       "      <td>143.00</td>\n",
       "    </tr>\n",
       "    <tr>\n",
       "      <th>Pedernales</th>\n",
       "      <td>2.00</td>\n",
       "      <td>4.00</td>\n",
       "      <td>4.00</td>\n",
       "      <td>4.00</td>\n",
       "      <td>8.00</td>\n",
       "      <td>3.00</td>\n",
       "      <td>8.00</td>\n",
       "      <td>9.00</td>\n",
       "      <td>3.00</td>\n",
       "      <td>6.00</td>\n",
       "      <td>4.00</td>\n",
       "      <td>2.00</td>\n",
       "      <td>5.00</td>\n",
       "      <td>5.00</td>\n",
       "      <td>6.00</td>\n",
       "      <td>6.00</td>\n",
       "      <td>13.00</td>\n",
       "      <td>11.00</td>\n",
       "      <td>103.00</td>\n",
       "    </tr>\n",
       "    <tr>\n",
       "      <th>No declarado</th>\n",
       "      <td>NaN</td>\n",
       "      <td>NaN</td>\n",
       "      <td>NaN</td>\n",
       "      <td>NaN</td>\n",
       "      <td>NaN</td>\n",
       "      <td>NaN</td>\n",
       "      <td>NaN</td>\n",
       "      <td>NaN</td>\n",
       "      <td>NaN</td>\n",
       "      <td>NaN</td>\n",
       "      <td>5.00</td>\n",
       "      <td>NaN</td>\n",
       "      <td>NaN</td>\n",
       "      <td>NaN</td>\n",
       "      <td>NaN</td>\n",
       "      <td>NaN</td>\n",
       "      <td>NaN</td>\n",
       "      <td>NaN</td>\n",
       "      <td>5.00</td>\n",
       "    </tr>\n",
       "  </tbody>\n",
       "</table>\n",
       "</div>"
      ],
      "text/plain": [
       "anio                     2007   2008   2009   2010   2011   2012   2013  \\\n",
       "provincia                                                                 \n",
       "Santo Domingo          329.00 372.00 341.00 393.00 319.00 313.00 311.00   \n",
       "San Cristóbal          148.00 174.00 177.00 178.00 160.00 100.00 124.00   \n",
       "Santiago               117.00 108.00 153.00 165.00 101.00 137.00 135.00   \n",
       "La Vega                 71.00  85.00 148.00 166.00 136.00 115.00 119.00   \n",
       "La Altagracia          131.00 131.00  94.00 103.00 105.00 103.00  96.00   \n",
       "Distrito Nacional      117.00 123.00 114.00 103.00  99.00 106.00 115.00   \n",
       "Puerto Plata            82.00  88.00  90.00  78.00  80.00  75.00 104.00   \n",
       "Duarte                  61.00  63.00  60.00  90.00  66.00  94.00  68.00   \n",
       "Monseñor Nouel          89.00  83.00  52.00  61.00  56.00  56.00  40.00   \n",
       "San Pedro de Macorís    60.00  82.00  55.00  56.00  76.00  65.00  72.00   \n",
       "Azua                    35.00  50.00  56.00  56.00  64.00  53.00  55.00   \n",
       "San Juan                39.00  32.00  60.00  83.00  55.00  60.00  50.00   \n",
       "Espaillat               48.00  40.00  50.00  50.00  56.00  25.00  59.00   \n",
       "Peravia                 45.00  49.00  43.00  54.00  54.00  37.00  42.00   \n",
       "María Trinidad Sánchez  29.00  30.00  35.00  48.00  40.00  44.00  64.00   \n",
       "Monte Plata             41.00  46.00  49.00  51.00  29.00  37.00  34.00   \n",
       "Valverde                35.00  23.00  40.00  44.00  50.00  52.00  51.00   \n",
       "La Romana               45.00  45.00  41.00  30.00  43.00  31.00  61.00   \n",
       "Samaná                  41.00  34.00  32.00  35.00  30.00  28.00  28.00   \n",
       "Barahona                41.00  30.00  31.00  63.00  38.00  47.00  35.00   \n",
       "Sánchez Ramírez         19.00  42.00  33.00  49.00  32.00  31.00  55.00   \n",
       "Monte Cristi            15.00  12.00  17.00  42.00  29.00  27.00  42.00   \n",
       "Hermanas Mirabal         5.00   8.00   7.00  17.00  32.00  19.00  27.00   \n",
       "Baoruco                 14.00  12.00  13.00  23.00  14.00  25.00  20.00   \n",
       "El Seibo                17.00  15.00  25.00  21.00   4.00  14.00  14.00   \n",
       "Dajabón                 16.00  19.00  12.00   9.00  10.00  19.00  17.00   \n",
       "Hato Mayor              22.00  17.00   8.00  18.00  10.00  18.00  14.00   \n",
       "San José de Ocoa         4.00   7.00   8.00  13.00   9.00  11.00   9.00   \n",
       "Santiago Rodríguez      11.00   8.00   6.00   7.00   7.00  13.00  11.00   \n",
       "Independencia           13.00   9.00  11.00   8.00  10.00   6.00   6.00   \n",
       "Elías Piña               5.00   5.00   8.00  14.00  11.00   4.00   6.00   \n",
       "Pedernales               2.00   4.00   4.00   4.00   8.00   3.00   8.00   \n",
       "No declarado              NaN    NaN    NaN    NaN    NaN    NaN    NaN   \n",
       "\n",
       "anio                     2014   2015   2016   2017   2018   2019   2020  \\\n",
       "provincia                                                                 \n",
       "Santo Domingo          243.00 235.00 254.00 210.00 197.00 301.00 244.00   \n",
       "San Cristóbal          132.00  98.00 121.00 115.00 145.00 147.00 166.00   \n",
       "Santiago               146.00 164.00 147.00 118.00 154.00 164.00 121.00   \n",
       "La Vega                135.00 146.00 153.00 122.00  97.00 167.00 127.00   \n",
       "La Altagracia          110.00 125.00 127.00  84.00  84.00 140.00  86.00   \n",
       "Distrito Nacional      112.00  64.00  68.00  61.00  83.00  91.00  76.00   \n",
       "Puerto Plata            94.00  99.00  88.00  57.00  39.00 107.00  64.00   \n",
       "Duarte                  64.00 104.00 116.00  74.00  44.00  64.00  56.00   \n",
       "Monseñor Nouel          59.00  69.00  54.00  69.00  53.00  73.00  58.00   \n",
       "San Pedro de Macorís    67.00  70.00  71.00  54.00  29.00  69.00  49.00   \n",
       "Azua                    53.00  61.00  64.00  61.00  51.00  80.00  69.00   \n",
       "San Juan                60.00  75.00  54.00  59.00  75.00  64.00  34.00   \n",
       "Espaillat               72.00  86.00  75.00  61.00  34.00  62.00  38.00   \n",
       "Peravia                 47.00  45.00  80.00  50.00  51.00  57.00  59.00   \n",
       "María Trinidad Sánchez  58.00  41.00  52.00  39.00  31.00  64.00  28.00   \n",
       "Monte Plata             21.00  44.00  45.00  35.00  37.00  41.00  61.00   \n",
       "Valverde                45.00  60.00  52.00  35.00  38.00  55.00  39.00   \n",
       "La Romana               35.00  46.00  53.00  43.00   2.00  36.00  41.00   \n",
       "Samaná                  34.00  29.00  47.00  35.00  27.00  38.00  53.00   \n",
       "Barahona                39.00  37.00  34.00  21.00  15.00  44.00  23.00   \n",
       "Sánchez Ramírez         28.00  38.00  48.00  27.00  11.00  41.00  33.00   \n",
       "Monte Cristi            39.00  26.00  39.00  24.00  27.00  30.00  39.00   \n",
       "Hermanas Mirabal        33.00  44.00  18.00  40.00  14.00  23.00  29.00   \n",
       "Baoruco                 21.00  30.00  21.00  16.00  13.00  19.00  30.00   \n",
       "El Seibo                19.00  19.00  19.00  15.00  31.00  24.00  17.00   \n",
       "Dajabón                 21.00  31.00  28.00   5.00   4.00  16.00  22.00   \n",
       "Hato Mayor              18.00  19.00  21.00  13.00  10.00  14.00  18.00   \n",
       "San José de Ocoa        13.00   9.00  11.00  14.00  10.00  23.00  15.00   \n",
       "Santiago Rodríguez      13.00  15.00   7.00   6.00   7.00  22.00  17.00   \n",
       "Independencia           10.00  13.00  11.00   6.00   5.00  12.00   9.00   \n",
       "Elías Piña               5.00   1.00   7.00   9.00   7.00   7.00  11.00   \n",
       "Pedernales               9.00   3.00   6.00   4.00   2.00   5.00   5.00   \n",
       "No declarado              NaN    NaN    NaN   5.00    NaN    NaN    NaN   \n",
       "\n",
       "anio                     2021   2022   2023   2024   Total  \n",
       "provincia                                                   \n",
       "Santo Domingo          220.00 237.00 255.00 258.00 5032.00  \n",
       "San Cristóbal          109.00 116.00 163.00 186.00 2559.00  \n",
       "Santiago               155.00 120.00 120.00 171.00 2496.00  \n",
       "La Vega                126.00 123.00 132.00 136.00 2304.00  \n",
       "La Altagracia          126.00 123.00 151.00 159.00 2078.00  \n",
       "Distrito Nacional       88.00  89.00  93.00 106.00 1708.00  \n",
       "Puerto Plata            78.00  73.00  97.00  85.00 1478.00  \n",
       "Duarte                  52.00  60.00  50.00  81.00 1267.00  \n",
       "Monseñor Nouel          75.00  62.00  65.00  68.00 1142.00  \n",
       "San Pedro de Macorís    71.00  63.00  52.00  58.00 1119.00  \n",
       "Azua                    68.00  75.00  58.00  79.00 1088.00  \n",
       "San Juan                58.00  50.00  62.00  75.00 1045.00  \n",
       "Espaillat               58.00  52.00  59.00  65.00  990.00  \n",
       "Peravia                 61.00  68.00  68.00  68.00  978.00  \n",
       "María Trinidad Sánchez  44.00  46.00  53.00  51.00  797.00  \n",
       "Monte Plata             57.00  53.00  47.00  66.00  794.00  \n",
       "Valverde                45.00  30.00  48.00  46.00  788.00  \n",
       "La Romana               52.00  49.00  54.00  48.00  755.00  \n",
       "Samaná                  30.00  49.00  36.00  52.00  658.00  \n",
       "Barahona                36.00  33.00  31.00  35.00  633.00  \n",
       "Sánchez Ramírez         38.00  29.00  31.00  48.00  633.00  \n",
       "Monte Cristi            52.00  38.00  38.00  33.00  569.00  \n",
       "Hermanas Mirabal        28.00  20.00  24.00  31.00  419.00  \n",
       "Baoruco                 20.00  16.00  27.00  25.00  359.00  \n",
       "El Seibo                27.00  21.00  23.00  23.00  348.00  \n",
       "Dajabón                 24.00  20.00  21.00  26.00  320.00  \n",
       "Hato Mayor              16.00  14.00  17.00  15.00  282.00  \n",
       "San José de Ocoa        15.00  15.00  20.00  21.00  227.00  \n",
       "Santiago Rodríguez      19.00  20.00  15.00  21.00  225.00  \n",
       "Independencia           12.00   9.00  17.00   3.00  170.00  \n",
       "Elías Piña               8.00  15.00   9.00  11.00  143.00  \n",
       "Pedernales               6.00   6.00  13.00  11.00  103.00  \n",
       "No declarado              NaN    NaN    NaN    NaN    5.00  "
      ]
     },
     "execution_count": 113,
     "metadata": {},
     "output_type": "execute_result"
    }
   ],
   "source": [
    "tabla_pivote_provincia = f.crear_tabla_pivote(df_descodificada, index='provincia',\n",
    "                                              columns='anio', \n",
    "                                              values='tipo_accidente', \n",
    "                                              aggfunc='count')\n",
    "tabla_pivote_provincia['Total'] = tabla_pivote_provincia.sum(axis=1)  \n",
    "tabla_pivote_provincia = tabla_pivote_provincia.sort_values(by='Total', ascending=False)\n",
    "tabla_pivote_provincia"
   ]
  },
  {
   "cell_type": "markdown",
   "id": "15251aef",
   "metadata": {},
   "source": [
    "### Diferencias por género"
   ]
  },
  {
   "cell_type": "markdown",
   "id": "8a596b16",
   "metadata": {},
   "source": [
    "- **Fallecimientos por género (2007-2023)**:  \n",
    "  - Han fallecido **27,389 hombres** en accidentes de tránsito a nivel nacional.  \n",
    "  - En el caso del género femenino, se han registrado **3,891 casos** de fallecimientos en el mismo periodo.\n",
    "\n",
    "- **Hombres**:  \n",
    "  - Los hombres tienden a perder la vida principalmente en:\n",
    "    - **Motocicletas**: **67.25%**  \n",
    "    - **Atropellamientos en la calle**: **16.43%**  \n",
    "    - **Automóviles**: **5.80%**\n",
    "\n",
    "- **Mujeres**:  \n",
    "  - Aunque las mujeres pierden la vida en los mismos medios, las proporciones difieren significativamente:\n",
    "    - **Motocicletas**: **39.45%**  \n",
    "    - **Peatones atropellados**: **32.30%**  \n",
    "    - **Automóviles**: **12.20%**\n"
   ]
  },
  {
   "cell_type": "code",
   "execution_count": 114,
   "id": "2c8a7a1d",
   "metadata": {},
   "outputs": [
    {
     "data": {
      "application/vnd.microsoft.datawrangler.viewer.v0+json": {
       "columns": [
        {
         "name": "('sexo', 'medio_trans')",
         "rawType": "object",
         "type": "unknown"
        },
        {
         "name": "Conteo",
         "rawType": "int64",
         "type": "integer"
        },
        {
         "name": "Total por Sexo",
         "rawType": "int64",
         "type": "integer"
        },
        {
         "name": "Porcentaje (%)",
         "rawType": "float64",
         "type": "float"
        }
       ],
       "ref": "ad0d5a0d-c6f6-4146-a8c8-f50b689fc8df",
       "rows": [
        [
         "('Hombres', 'Motocicleta, ciclomotor (passola)')",
         "19816",
         "29279",
         "67.67990710065234"
        ],
        [
         "('Hombres', 'Peatón atropellado')",
         "4721",
         "29279",
         "16.12418456914512"
        ],
        [
         "('Hombres', 'Automóvil (carro)')",
         "1694",
         "29279",
         "5.785716725297995"
        ],
        [
         "('Hombres', 'Camión')",
         "812",
         "29279",
         "2.7733187608866423"
        ],
        [
         "('Hombres', 'Yipeta, yip')",
         "725",
         "29279",
         "2.476177465077359"
        ],
        [
         "('Hombres', 'Camioneta')",
         "647",
         "29279",
         "2.2097749240069677"
        ],
        [
         "('Hombres', 'No declarado')",
         "318",
         "29279",
         "1.0861026674408278"
        ],
        [
         "('Hombres', 'Autobús')",
         "182",
         "29279",
         "0.6216059291642474"
        ],
        [
         "('Hombres', 'Minibús, miniván')",
         "149",
         "29279",
         "0.5088971617883125"
        ],
        [
         "('Hombres', 'Bicicleta')",
         "87",
         "29279",
         "0.2971412958092831"
        ],
        [
         "('Hombres', 'Otros')",
         "50",
         "29279",
         "0.17077085966050753"
        ],
        [
         "('Hombres', 'Tractor')",
         "18",
         "29279",
         "0.06147750947778271"
        ],
        [
         "('Hombres', 'Animal')",
         "12",
         "29279",
         "0.04098500631852181"
        ],
        [
         "('Hombres', 'Patana')",
         "10",
         "29279",
         "0.03415417193210151"
        ],
        [
         "('Hombres', 'Furgoneta')",
         "6",
         "29279",
         "0.020492503159260905"
        ],
        [
         "('Hombres', 'Vehículo le cayó encima')",
         "6",
         "29279",
         "0.020492503159260905"
        ],
        [
         "('Hombres', 'Ambulancia')",
         "5",
         "29279",
         "0.017077085966050756"
        ],
        [
         "('Hombres', 'Triciclo')",
         "5",
         "29279",
         "0.017077085966050756"
        ],
        [
         "('Hombres', 'Excavadora')",
         "4",
         "29279",
         "0.013661668772840604"
        ],
        [
         "('Hombres', 'Pala mecánica')",
         "3",
         "29279",
         "0.010246251579630453"
        ],
        [
         "('Hombres', 'Volteo')",
         "3",
         "29279",
         "0.010246251579630453"
        ],
        [
         "('Hombres', 'Carreta')",
         "2",
         "29279",
         "0.006830834386420302"
        ],
        [
         "('Hombres', 'Grúa')",
         "2",
         "29279",
         "0.006830834386420302"
        ],
        [
         "('Hombres', 'Gredar')",
         "1",
         "29279",
         "0.003415417193210151"
        ],
        [
         "('Hombres', 'Rodillo')",
         "1",
         "29279",
         "0.003415417193210151"
        ],
        [
         "('Mujeres', 'Motocicleta, ciclomotor (passola)')",
         "1659",
         "4151",
         "39.96627318718381"
        ],
        [
         "('Mujeres', 'Peatón atropellado')",
         "1314",
         "4151",
         "31.655022886051555"
        ],
        [
         "('Mujeres', 'Automóvil (carro)')",
         "508",
         "4151",
         "12.238014936159962"
        ],
        [
         "('Mujeres', 'Yipeta, yip')",
         "285",
         "4151",
         "6.865815466152735"
        ],
        [
         "('Mujeres', 'Camioneta')",
         "107",
         "4151",
         "2.5776921223801494"
        ],
        [
         "('Mujeres', 'Autobús')",
         "92",
         "4151",
         "2.216333413635269"
        ],
        [
         "('Mujeres', 'No declarado')",
         "66",
         "4151",
         "1.5899783184774752"
        ],
        [
         "('Mujeres', 'Camión')",
         "63",
         "4151",
         "1.5177065767284992"
        ],
        [
         "('Mujeres', 'Minibús, miniván')",
         "48",
         "4151",
         "1.1563478679836183"
        ],
        [
         "('Mujeres', 'Otros')",
         "5",
         "4151",
         "0.12045290291496025"
        ],
        [
         "('Mujeres', 'Bicicleta')",
         "2",
         "4151",
         "0.0481811611659841"
        ],
        [
         "('Mujeres', 'Excavadora')",
         "1",
         "4151",
         "0.02409058058299205"
        ],
        [
         "('Mujeres', 'Tractor')",
         "1",
         "4151",
         "0.02409058058299205"
        ],
        [
         "('No declarado', 'Motocicleta, ciclomotor (passola)')",
         "30",
         "82",
         "36.58536585365854"
        ],
        [
         "('No declarado', 'Peatón atropellado')",
         "19",
         "82",
         "23.170731707317074"
        ],
        [
         "('No declarado', 'Automóvil (carro)')",
         "14",
         "82",
         "17.073170731707318"
        ],
        [
         "('No declarado', 'Camión')",
         "7",
         "82",
         "8.536585365853659"
        ],
        [
         "('No declarado', 'No declarado')",
         "6",
         "82",
         "7.317073170731707"
        ],
        [
         "('No declarado', 'Camioneta')",
         "2",
         "82",
         "2.4390243902439024"
        ],
        [
         "('No declarado', 'Ambulancia')",
         "1",
         "82",
         "1.2195121951219512"
        ],
        [
         "('No declarado', 'Autobús')",
         "1",
         "82",
         "1.2195121951219512"
        ],
        [
         "('No declarado', 'Minibús, miniván')",
         "1",
         "82",
         "1.2195121951219512"
        ],
        [
         "('No declarado', 'Yipeta, yip')",
         "1",
         "82",
         "1.2195121951219512"
        ]
       ],
       "shape": {
        "columns": 3,
        "rows": 48
       }
      },
      "text/html": [
       "<div>\n",
       "<style scoped>\n",
       "    .dataframe tbody tr th:only-of-type {\n",
       "        vertical-align: middle;\n",
       "    }\n",
       "\n",
       "    .dataframe tbody tr th {\n",
       "        vertical-align: top;\n",
       "    }\n",
       "\n",
       "    .dataframe thead th {\n",
       "        text-align: right;\n",
       "    }\n",
       "</style>\n",
       "<table border=\"1\" class=\"dataframe\">\n",
       "  <thead>\n",
       "    <tr style=\"text-align: right;\">\n",
       "      <th></th>\n",
       "      <th></th>\n",
       "      <th>Conteo</th>\n",
       "      <th>Total por Sexo</th>\n",
       "      <th>Porcentaje (%)</th>\n",
       "    </tr>\n",
       "    <tr>\n",
       "      <th>sexo</th>\n",
       "      <th>medio_trans</th>\n",
       "      <th></th>\n",
       "      <th></th>\n",
       "      <th></th>\n",
       "    </tr>\n",
       "  </thead>\n",
       "  <tbody>\n",
       "    <tr>\n",
       "      <th rowspan=\"25\" valign=\"top\">Hombres</th>\n",
       "      <th>Motocicleta, ciclomotor (passola)</th>\n",
       "      <td>19816</td>\n",
       "      <td>29279</td>\n",
       "      <td>67.68</td>\n",
       "    </tr>\n",
       "    <tr>\n",
       "      <th>Peatón atropellado</th>\n",
       "      <td>4721</td>\n",
       "      <td>29279</td>\n",
       "      <td>16.12</td>\n",
       "    </tr>\n",
       "    <tr>\n",
       "      <th>Automóvil (carro)</th>\n",
       "      <td>1694</td>\n",
       "      <td>29279</td>\n",
       "      <td>5.79</td>\n",
       "    </tr>\n",
       "    <tr>\n",
       "      <th>Camión</th>\n",
       "      <td>812</td>\n",
       "      <td>29279</td>\n",
       "      <td>2.77</td>\n",
       "    </tr>\n",
       "    <tr>\n",
       "      <th>Yipeta, yip</th>\n",
       "      <td>725</td>\n",
       "      <td>29279</td>\n",
       "      <td>2.48</td>\n",
       "    </tr>\n",
       "    <tr>\n",
       "      <th>Camioneta</th>\n",
       "      <td>647</td>\n",
       "      <td>29279</td>\n",
       "      <td>2.21</td>\n",
       "    </tr>\n",
       "    <tr>\n",
       "      <th>No declarado</th>\n",
       "      <td>318</td>\n",
       "      <td>29279</td>\n",
       "      <td>1.09</td>\n",
       "    </tr>\n",
       "    <tr>\n",
       "      <th>Autobús</th>\n",
       "      <td>182</td>\n",
       "      <td>29279</td>\n",
       "      <td>0.62</td>\n",
       "    </tr>\n",
       "    <tr>\n",
       "      <th>Minibús, miniván</th>\n",
       "      <td>149</td>\n",
       "      <td>29279</td>\n",
       "      <td>0.51</td>\n",
       "    </tr>\n",
       "    <tr>\n",
       "      <th>Bicicleta</th>\n",
       "      <td>87</td>\n",
       "      <td>29279</td>\n",
       "      <td>0.30</td>\n",
       "    </tr>\n",
       "    <tr>\n",
       "      <th>Otros</th>\n",
       "      <td>50</td>\n",
       "      <td>29279</td>\n",
       "      <td>0.17</td>\n",
       "    </tr>\n",
       "    <tr>\n",
       "      <th>Tractor</th>\n",
       "      <td>18</td>\n",
       "      <td>29279</td>\n",
       "      <td>0.06</td>\n",
       "    </tr>\n",
       "    <tr>\n",
       "      <th>Animal</th>\n",
       "      <td>12</td>\n",
       "      <td>29279</td>\n",
       "      <td>0.04</td>\n",
       "    </tr>\n",
       "    <tr>\n",
       "      <th>Patana</th>\n",
       "      <td>10</td>\n",
       "      <td>29279</td>\n",
       "      <td>0.03</td>\n",
       "    </tr>\n",
       "    <tr>\n",
       "      <th>Furgoneta</th>\n",
       "      <td>6</td>\n",
       "      <td>29279</td>\n",
       "      <td>0.02</td>\n",
       "    </tr>\n",
       "    <tr>\n",
       "      <th>Vehículo le cayó encima</th>\n",
       "      <td>6</td>\n",
       "      <td>29279</td>\n",
       "      <td>0.02</td>\n",
       "    </tr>\n",
       "    <tr>\n",
       "      <th>Ambulancia</th>\n",
       "      <td>5</td>\n",
       "      <td>29279</td>\n",
       "      <td>0.02</td>\n",
       "    </tr>\n",
       "    <tr>\n",
       "      <th>Triciclo</th>\n",
       "      <td>5</td>\n",
       "      <td>29279</td>\n",
       "      <td>0.02</td>\n",
       "    </tr>\n",
       "    <tr>\n",
       "      <th>Excavadora</th>\n",
       "      <td>4</td>\n",
       "      <td>29279</td>\n",
       "      <td>0.01</td>\n",
       "    </tr>\n",
       "    <tr>\n",
       "      <th>Pala mecánica</th>\n",
       "      <td>3</td>\n",
       "      <td>29279</td>\n",
       "      <td>0.01</td>\n",
       "    </tr>\n",
       "    <tr>\n",
       "      <th>Volteo</th>\n",
       "      <td>3</td>\n",
       "      <td>29279</td>\n",
       "      <td>0.01</td>\n",
       "    </tr>\n",
       "    <tr>\n",
       "      <th>Carreta</th>\n",
       "      <td>2</td>\n",
       "      <td>29279</td>\n",
       "      <td>0.01</td>\n",
       "    </tr>\n",
       "    <tr>\n",
       "      <th>Grúa</th>\n",
       "      <td>2</td>\n",
       "      <td>29279</td>\n",
       "      <td>0.01</td>\n",
       "    </tr>\n",
       "    <tr>\n",
       "      <th>Gredar</th>\n",
       "      <td>1</td>\n",
       "      <td>29279</td>\n",
       "      <td>0.00</td>\n",
       "    </tr>\n",
       "    <tr>\n",
       "      <th>Rodillo</th>\n",
       "      <td>1</td>\n",
       "      <td>29279</td>\n",
       "      <td>0.00</td>\n",
       "    </tr>\n",
       "    <tr>\n",
       "      <th rowspan=\"13\" valign=\"top\">Mujeres</th>\n",
       "      <th>Motocicleta, ciclomotor (passola)</th>\n",
       "      <td>1659</td>\n",
       "      <td>4151</td>\n",
       "      <td>39.97</td>\n",
       "    </tr>\n",
       "    <tr>\n",
       "      <th>Peatón atropellado</th>\n",
       "      <td>1314</td>\n",
       "      <td>4151</td>\n",
       "      <td>31.66</td>\n",
       "    </tr>\n",
       "    <tr>\n",
       "      <th>Automóvil (carro)</th>\n",
       "      <td>508</td>\n",
       "      <td>4151</td>\n",
       "      <td>12.24</td>\n",
       "    </tr>\n",
       "    <tr>\n",
       "      <th>Yipeta, yip</th>\n",
       "      <td>285</td>\n",
       "      <td>4151</td>\n",
       "      <td>6.87</td>\n",
       "    </tr>\n",
       "    <tr>\n",
       "      <th>Camioneta</th>\n",
       "      <td>107</td>\n",
       "      <td>4151</td>\n",
       "      <td>2.58</td>\n",
       "    </tr>\n",
       "    <tr>\n",
       "      <th>Autobús</th>\n",
       "      <td>92</td>\n",
       "      <td>4151</td>\n",
       "      <td>2.22</td>\n",
       "    </tr>\n",
       "    <tr>\n",
       "      <th>No declarado</th>\n",
       "      <td>66</td>\n",
       "      <td>4151</td>\n",
       "      <td>1.59</td>\n",
       "    </tr>\n",
       "    <tr>\n",
       "      <th>Camión</th>\n",
       "      <td>63</td>\n",
       "      <td>4151</td>\n",
       "      <td>1.52</td>\n",
       "    </tr>\n",
       "    <tr>\n",
       "      <th>Minibús, miniván</th>\n",
       "      <td>48</td>\n",
       "      <td>4151</td>\n",
       "      <td>1.16</td>\n",
       "    </tr>\n",
       "    <tr>\n",
       "      <th>Otros</th>\n",
       "      <td>5</td>\n",
       "      <td>4151</td>\n",
       "      <td>0.12</td>\n",
       "    </tr>\n",
       "    <tr>\n",
       "      <th>Bicicleta</th>\n",
       "      <td>2</td>\n",
       "      <td>4151</td>\n",
       "      <td>0.05</td>\n",
       "    </tr>\n",
       "    <tr>\n",
       "      <th>Excavadora</th>\n",
       "      <td>1</td>\n",
       "      <td>4151</td>\n",
       "      <td>0.02</td>\n",
       "    </tr>\n",
       "    <tr>\n",
       "      <th>Tractor</th>\n",
       "      <td>1</td>\n",
       "      <td>4151</td>\n",
       "      <td>0.02</td>\n",
       "    </tr>\n",
       "    <tr>\n",
       "      <th rowspan=\"10\" valign=\"top\">No declarado</th>\n",
       "      <th>Motocicleta, ciclomotor (passola)</th>\n",
       "      <td>30</td>\n",
       "      <td>82</td>\n",
       "      <td>36.59</td>\n",
       "    </tr>\n",
       "    <tr>\n",
       "      <th>Peatón atropellado</th>\n",
       "      <td>19</td>\n",
       "      <td>82</td>\n",
       "      <td>23.17</td>\n",
       "    </tr>\n",
       "    <tr>\n",
       "      <th>Automóvil (carro)</th>\n",
       "      <td>14</td>\n",
       "      <td>82</td>\n",
       "      <td>17.07</td>\n",
       "    </tr>\n",
       "    <tr>\n",
       "      <th>Camión</th>\n",
       "      <td>7</td>\n",
       "      <td>82</td>\n",
       "      <td>8.54</td>\n",
       "    </tr>\n",
       "    <tr>\n",
       "      <th>No declarado</th>\n",
       "      <td>6</td>\n",
       "      <td>82</td>\n",
       "      <td>7.32</td>\n",
       "    </tr>\n",
       "    <tr>\n",
       "      <th>Camioneta</th>\n",
       "      <td>2</td>\n",
       "      <td>82</td>\n",
       "      <td>2.44</td>\n",
       "    </tr>\n",
       "    <tr>\n",
       "      <th>Ambulancia</th>\n",
       "      <td>1</td>\n",
       "      <td>82</td>\n",
       "      <td>1.22</td>\n",
       "    </tr>\n",
       "    <tr>\n",
       "      <th>Autobús</th>\n",
       "      <td>1</td>\n",
       "      <td>82</td>\n",
       "      <td>1.22</td>\n",
       "    </tr>\n",
       "    <tr>\n",
       "      <th>Minibús, miniván</th>\n",
       "      <td>1</td>\n",
       "      <td>82</td>\n",
       "      <td>1.22</td>\n",
       "    </tr>\n",
       "    <tr>\n",
       "      <th>Yipeta, yip</th>\n",
       "      <td>1</td>\n",
       "      <td>82</td>\n",
       "      <td>1.22</td>\n",
       "    </tr>\n",
       "  </tbody>\n",
       "</table>\n",
       "</div>"
      ],
      "text/plain": [
       "                                                Conteo  Total por Sexo  \\\n",
       "sexo         medio_trans                                                 \n",
       "Hombres      Motocicleta, ciclomotor (passola)   19816           29279   \n",
       "             Peatón atropellado                   4721           29279   \n",
       "             Automóvil (carro)                    1694           29279   \n",
       "             Camión                                812           29279   \n",
       "             Yipeta, yip                           725           29279   \n",
       "             Camioneta                             647           29279   \n",
       "             No declarado                          318           29279   \n",
       "             Autobús                               182           29279   \n",
       "             Minibús, miniván                      149           29279   \n",
       "             Bicicleta                              87           29279   \n",
       "             Otros                                  50           29279   \n",
       "             Tractor                                18           29279   \n",
       "             Animal                                 12           29279   \n",
       "             Patana                                 10           29279   \n",
       "             Furgoneta                               6           29279   \n",
       "             Vehículo le cayó encima                 6           29279   \n",
       "             Ambulancia                              5           29279   \n",
       "             Triciclo                                5           29279   \n",
       "             Excavadora                              4           29279   \n",
       "             Pala mecánica                           3           29279   \n",
       "             Volteo                                  3           29279   \n",
       "             Carreta                                 2           29279   \n",
       "             Grúa                                    2           29279   \n",
       "             Gredar                                  1           29279   \n",
       "             Rodillo                                 1           29279   \n",
       "Mujeres      Motocicleta, ciclomotor (passola)    1659            4151   \n",
       "             Peatón atropellado                   1314            4151   \n",
       "             Automóvil (carro)                     508            4151   \n",
       "             Yipeta, yip                           285            4151   \n",
       "             Camioneta                             107            4151   \n",
       "             Autobús                                92            4151   \n",
       "             No declarado                           66            4151   \n",
       "             Camión                                 63            4151   \n",
       "             Minibús, miniván                       48            4151   \n",
       "             Otros                                   5            4151   \n",
       "             Bicicleta                               2            4151   \n",
       "             Excavadora                              1            4151   \n",
       "             Tractor                                 1            4151   \n",
       "No declarado Motocicleta, ciclomotor (passola)      30              82   \n",
       "             Peatón atropellado                     19              82   \n",
       "             Automóvil (carro)                      14              82   \n",
       "             Camión                                  7              82   \n",
       "             No declarado                            6              82   \n",
       "             Camioneta                               2              82   \n",
       "             Ambulancia                              1              82   \n",
       "             Autobús                                 1              82   \n",
       "             Minibús, miniván                        1              82   \n",
       "             Yipeta, yip                             1              82   \n",
       "\n",
       "                                                Porcentaje (%)  \n",
       "sexo         medio_trans                                        \n",
       "Hombres      Motocicleta, ciclomotor (passola)           67.68  \n",
       "             Peatón atropellado                          16.12  \n",
       "             Automóvil (carro)                            5.79  \n",
       "             Camión                                       2.77  \n",
       "             Yipeta, yip                                  2.48  \n",
       "             Camioneta                                    2.21  \n",
       "             No declarado                                 1.09  \n",
       "             Autobús                                      0.62  \n",
       "             Minibús, miniván                             0.51  \n",
       "             Bicicleta                                    0.30  \n",
       "             Otros                                        0.17  \n",
       "             Tractor                                      0.06  \n",
       "             Animal                                       0.04  \n",
       "             Patana                                       0.03  \n",
       "             Furgoneta                                    0.02  \n",
       "             Vehículo le cayó encima                      0.02  \n",
       "             Ambulancia                                   0.02  \n",
       "             Triciclo                                     0.02  \n",
       "             Excavadora                                   0.01  \n",
       "             Pala mecánica                                0.01  \n",
       "             Volteo                                       0.01  \n",
       "             Carreta                                      0.01  \n",
       "             Grúa                                         0.01  \n",
       "             Gredar                                       0.00  \n",
       "             Rodillo                                      0.00  \n",
       "Mujeres      Motocicleta, ciclomotor (passola)           39.97  \n",
       "             Peatón atropellado                          31.66  \n",
       "             Automóvil (carro)                           12.24  \n",
       "             Yipeta, yip                                  6.87  \n",
       "             Camioneta                                    2.58  \n",
       "             Autobús                                      2.22  \n",
       "             No declarado                                 1.59  \n",
       "             Camión                                       1.52  \n",
       "             Minibús, miniván                             1.16  \n",
       "             Otros                                        0.12  \n",
       "             Bicicleta                                    0.05  \n",
       "             Excavadora                                   0.02  \n",
       "             Tractor                                      0.02  \n",
       "No declarado Motocicleta, ciclomotor (passola)           36.59  \n",
       "             Peatón atropellado                          23.17  \n",
       "             Automóvil (carro)                           17.07  \n",
       "             Camión                                       8.54  \n",
       "             No declarado                                 7.32  \n",
       "             Camioneta                                    2.44  \n",
       "             Ambulancia                                   1.22  \n",
       "             Autobús                                      1.22  \n",
       "             Minibús, miniván                             1.22  \n",
       "             Yipeta, yip                                  1.22  "
      ]
     },
     "execution_count": 114,
     "metadata": {},
     "output_type": "execute_result"
    }
   ],
   "source": [
    "df_genero_medio = df_descodificada.groupby(['sexo', 'medio_trans'])[['tipo_via']].count().sort_values(by=['sexo', 'tipo_via'], ascending=[True, False]) # agrupo por género y tipo de medio\n",
    "df_genero_medio.rename(columns={'tipo_via': 'Conteo'}, inplace=True)\n",
    "df_genero_medio['Total por Sexo'] = df_genero_medio.groupby(level=0)['Conteo'].transform('sum') #comparo el conteo de cada medio con el total del género en sí\n",
    "df_genero_medio['Porcentaje (%)'] = (df_genero_medio['Conteo'] / df_genero_medio['Total por Sexo']) * 100 # busco el porcentaje de ese medio por el género agrupado\n",
    "df_genero_medio"
   ]
  },
  {
   "cell_type": "markdown",
   "id": "a781728b",
   "metadata": {},
   "source": [
    "### Causas de Fallecimientos por Género\n",
    "\n",
    "- **Hombres**:  \n",
    "  - La mayoría de los hombres pierde la vida como resultado de una **colisión** (**59.05%**).  \n",
    "  - Le siguen los casos de **deslizamientos** y **atropellamientos**, ambos con un **16%**, aunque con una diferencia muy pequeña entre ellos.\n",
    "\n",
    "- **Mujeres**:  \n",
    "  - Las mujeres también fallecen con mayor probabilidad en **choques** (**43.92%**).  \n",
    "  - Les siguen los casos de **atropellamientos** (**32.38%**) y **deslizamientos** (**14.77%**).\n"
   ]
  },
  {
   "cell_type": "code",
   "execution_count": 115,
   "id": "5cc3579b",
   "metadata": {},
   "outputs": [
    {
     "data": {
      "application/vnd.microsoft.datawrangler.viewer.v0+json": {
       "columns": [
        {
         "name": "('sexo', 'tipo_accidente')",
         "rawType": "object",
         "type": "unknown"
        },
        {
         "name": "Conteo",
         "rawType": "int64",
         "type": "integer"
        },
        {
         "name": "Total por Sexo",
         "rawType": "int64",
         "type": "integer"
        },
        {
         "name": "Porcentaje %",
         "rawType": "float64",
         "type": "float"
        }
       ],
       "ref": "83dc6b7f-c7e6-476f-b64c-8b01089f56b1",
       "rows": [
        [
         "('Hombres', 'Choque o colisión')",
         "17368",
         "29279",
         "59.3189658116739"
        ],
        [
         "('Hombres', 'Deslizamiento')",
         "5017",
         "29279",
         "17.135148058335325"
        ],
        [
         "('Hombres', 'Atropellamiento')",
         "4733",
         "29279",
         "16.165169575463644"
        ],
        [
         "('Hombres', 'Estrellamiento')",
         "1184",
         "29279",
         "4.0438539567608185"
        ],
        [
         "('Hombres', 'Vuelco o volcadura')",
         "694",
         "29279",
         "2.3702995320878446"
        ],
        [
         "('Hombres', 'Caída')",
         "246",
         "29279",
         "0.840192629529697"
        ],
        [
         "('Hombres', 'Aplastamiento')",
         "24",
         "29279",
         "0.08197001263704362"
        ],
        [
         "('Hombres', 'No declarado')",
         "12",
         "29279",
         "0.04098500631852181"
        ],
        [
         "('Hombres', 'Otros')",
         "1",
         "29279",
         "0.003415417193210151"
        ],
        [
         "('Mujeres', 'Choque o colisión')",
         "1841",
         "4151",
         "44.35075885328836"
        ],
        [
         "('Mujeres', 'Atropellamiento')",
         "1317",
         "4151",
         "31.72729462780053"
        ],
        [
         "('Mujeres', 'Deslizamiento')",
         "633",
         "4151",
         "15.249337509033968"
        ],
        [
         "('Mujeres', 'Estrellamiento')",
         "160",
         "4151",
         "3.854492893278728"
        ],
        [
         "('Mujeres', 'Vuelco o volcadura')",
         "156",
         "4151",
         "3.7581305709467596"
        ],
        [
         "('Mujeres', 'Caída')",
         "41",
         "4151",
         "0.987713803902674"
        ],
        [
         "('Mujeres', 'Otros')",
         "2",
         "4151",
         "0.0481811611659841"
        ],
        [
         "('Mujeres', 'No declarado')",
         "1",
         "4151",
         "0.02409058058299205"
        ],
        [
         "('No declarado', 'Choque o colisión')",
         "35",
         "82",
         "42.68292682926829"
        ],
        [
         "('No declarado', 'Atropellamiento')",
         "19",
         "82",
         "23.170731707317074"
        ],
        [
         "('No declarado', 'Deslizamiento')",
         "17",
         "82",
         "20.73170731707317"
        ],
        [
         "('No declarado', 'Estrellamiento')",
         "10",
         "82",
         "12.195121951219512"
        ],
        [
         "('No declarado', 'Vuelco o volcadura')",
         "1",
         "82",
         "1.2195121951219512"
        ]
       ],
       "shape": {
        "columns": 3,
        "rows": 22
       }
      },
      "text/html": [
       "<div>\n",
       "<style scoped>\n",
       "    .dataframe tbody tr th:only-of-type {\n",
       "        vertical-align: middle;\n",
       "    }\n",
       "\n",
       "    .dataframe tbody tr th {\n",
       "        vertical-align: top;\n",
       "    }\n",
       "\n",
       "    .dataframe thead th {\n",
       "        text-align: right;\n",
       "    }\n",
       "</style>\n",
       "<table border=\"1\" class=\"dataframe\">\n",
       "  <thead>\n",
       "    <tr style=\"text-align: right;\">\n",
       "      <th></th>\n",
       "      <th></th>\n",
       "      <th>Conteo</th>\n",
       "      <th>Total por Sexo</th>\n",
       "      <th>Porcentaje %</th>\n",
       "    </tr>\n",
       "    <tr>\n",
       "      <th>sexo</th>\n",
       "      <th>tipo_accidente</th>\n",
       "      <th></th>\n",
       "      <th></th>\n",
       "      <th></th>\n",
       "    </tr>\n",
       "  </thead>\n",
       "  <tbody>\n",
       "    <tr>\n",
       "      <th rowspan=\"9\" valign=\"top\">Hombres</th>\n",
       "      <th>Choque o colisión</th>\n",
       "      <td>17368</td>\n",
       "      <td>29279</td>\n",
       "      <td>59.32</td>\n",
       "    </tr>\n",
       "    <tr>\n",
       "      <th>Deslizamiento</th>\n",
       "      <td>5017</td>\n",
       "      <td>29279</td>\n",
       "      <td>17.14</td>\n",
       "    </tr>\n",
       "    <tr>\n",
       "      <th>Atropellamiento</th>\n",
       "      <td>4733</td>\n",
       "      <td>29279</td>\n",
       "      <td>16.17</td>\n",
       "    </tr>\n",
       "    <tr>\n",
       "      <th>Estrellamiento</th>\n",
       "      <td>1184</td>\n",
       "      <td>29279</td>\n",
       "      <td>4.04</td>\n",
       "    </tr>\n",
       "    <tr>\n",
       "      <th>Vuelco o volcadura</th>\n",
       "      <td>694</td>\n",
       "      <td>29279</td>\n",
       "      <td>2.37</td>\n",
       "    </tr>\n",
       "    <tr>\n",
       "      <th>Caída</th>\n",
       "      <td>246</td>\n",
       "      <td>29279</td>\n",
       "      <td>0.84</td>\n",
       "    </tr>\n",
       "    <tr>\n",
       "      <th>Aplastamiento</th>\n",
       "      <td>24</td>\n",
       "      <td>29279</td>\n",
       "      <td>0.08</td>\n",
       "    </tr>\n",
       "    <tr>\n",
       "      <th>No declarado</th>\n",
       "      <td>12</td>\n",
       "      <td>29279</td>\n",
       "      <td>0.04</td>\n",
       "    </tr>\n",
       "    <tr>\n",
       "      <th>Otros</th>\n",
       "      <td>1</td>\n",
       "      <td>29279</td>\n",
       "      <td>0.00</td>\n",
       "    </tr>\n",
       "    <tr>\n",
       "      <th rowspan=\"8\" valign=\"top\">Mujeres</th>\n",
       "      <th>Choque o colisión</th>\n",
       "      <td>1841</td>\n",
       "      <td>4151</td>\n",
       "      <td>44.35</td>\n",
       "    </tr>\n",
       "    <tr>\n",
       "      <th>Atropellamiento</th>\n",
       "      <td>1317</td>\n",
       "      <td>4151</td>\n",
       "      <td>31.73</td>\n",
       "    </tr>\n",
       "    <tr>\n",
       "      <th>Deslizamiento</th>\n",
       "      <td>633</td>\n",
       "      <td>4151</td>\n",
       "      <td>15.25</td>\n",
       "    </tr>\n",
       "    <tr>\n",
       "      <th>Estrellamiento</th>\n",
       "      <td>160</td>\n",
       "      <td>4151</td>\n",
       "      <td>3.85</td>\n",
       "    </tr>\n",
       "    <tr>\n",
       "      <th>Vuelco o volcadura</th>\n",
       "      <td>156</td>\n",
       "      <td>4151</td>\n",
       "      <td>3.76</td>\n",
       "    </tr>\n",
       "    <tr>\n",
       "      <th>Caída</th>\n",
       "      <td>41</td>\n",
       "      <td>4151</td>\n",
       "      <td>0.99</td>\n",
       "    </tr>\n",
       "    <tr>\n",
       "      <th>Otros</th>\n",
       "      <td>2</td>\n",
       "      <td>4151</td>\n",
       "      <td>0.05</td>\n",
       "    </tr>\n",
       "    <tr>\n",
       "      <th>No declarado</th>\n",
       "      <td>1</td>\n",
       "      <td>4151</td>\n",
       "      <td>0.02</td>\n",
       "    </tr>\n",
       "    <tr>\n",
       "      <th rowspan=\"5\" valign=\"top\">No declarado</th>\n",
       "      <th>Choque o colisión</th>\n",
       "      <td>35</td>\n",
       "      <td>82</td>\n",
       "      <td>42.68</td>\n",
       "    </tr>\n",
       "    <tr>\n",
       "      <th>Atropellamiento</th>\n",
       "      <td>19</td>\n",
       "      <td>82</td>\n",
       "      <td>23.17</td>\n",
       "    </tr>\n",
       "    <tr>\n",
       "      <th>Deslizamiento</th>\n",
       "      <td>17</td>\n",
       "      <td>82</td>\n",
       "      <td>20.73</td>\n",
       "    </tr>\n",
       "    <tr>\n",
       "      <th>Estrellamiento</th>\n",
       "      <td>10</td>\n",
       "      <td>82</td>\n",
       "      <td>12.20</td>\n",
       "    </tr>\n",
       "    <tr>\n",
       "      <th>Vuelco o volcadura</th>\n",
       "      <td>1</td>\n",
       "      <td>82</td>\n",
       "      <td>1.22</td>\n",
       "    </tr>\n",
       "  </tbody>\n",
       "</table>\n",
       "</div>"
      ],
      "text/plain": [
       "                                 Conteo  Total por Sexo  Porcentaje %\n",
       "sexo         tipo_accidente                                          \n",
       "Hombres      Choque o colisión    17368           29279         59.32\n",
       "             Deslizamiento         5017           29279         17.14\n",
       "             Atropellamiento       4733           29279         16.17\n",
       "             Estrellamiento        1184           29279          4.04\n",
       "             Vuelco o volcadura     694           29279          2.37\n",
       "             Caída                  246           29279          0.84\n",
       "             Aplastamiento           24           29279          0.08\n",
       "             No declarado            12           29279          0.04\n",
       "             Otros                    1           29279          0.00\n",
       "Mujeres      Choque o colisión     1841            4151         44.35\n",
       "             Atropellamiento       1317            4151         31.73\n",
       "             Deslizamiento          633            4151         15.25\n",
       "             Estrellamiento         160            4151          3.85\n",
       "             Vuelco o volcadura     156            4151          3.76\n",
       "             Caída                   41            4151          0.99\n",
       "             Otros                    2            4151          0.05\n",
       "             No declarado             1            4151          0.02\n",
       "No declarado Choque o colisión       35              82         42.68\n",
       "             Atropellamiento         19              82         23.17\n",
       "             Deslizamiento           17              82         20.73\n",
       "             Estrellamiento          10              82         12.20\n",
       "             Vuelco o volcadura       1              82          1.22"
      ]
     },
     "execution_count": 115,
     "metadata": {},
     "output_type": "execute_result"
    }
   ],
   "source": [
    "df_genero_acc = df_descodificada.groupby(['sexo', 'tipo_accidente'])[['tipo_via']].count().sort_values(by=['sexo', 'tipo_via'], ascending=[True, False])\n",
    "df_genero_acc.rename(columns={'tipo_via': 'Conteo'}, inplace=True)\n",
    "df_genero_acc['Total por Sexo'] = df_genero_acc.groupby(level=0)['Conteo'].transform('sum')\n",
    "df_genero_acc['Porcentaje %'] = df_genero_acc['Conteo'] / df_genero_acc['Total por Sexo'] * 100 # busco el porcentaje de ese tipo de accidente en consideración del total por sexo\n",
    "df_genero_acc"
   ]
  },
  {
   "cell_type": "markdown",
   "id": "0168551c",
   "metadata": {},
   "source": [
    "#### Distribución de edad por género:\n",
    "\n",
    "- Tanto para **hombres** como para **mujeres**, la categoría **No declarada** es la que presenta más casos:  \n",
    "  - **26%** para los hombres.  \n",
    "  - **25%** para las mujeres.\n",
    "\n",
    "- **Hombres**:  \n",
    "  - El grupo mayoritario es **20-24 años**, con un **13.20%** de los casos.  \n",
    "  - Le siguen:  \n",
    "    - **25-29 años**: **9.79%**.  \n",
    "    - **15-19 años**: **8.96%**.  \n",
    "  - Estos grupos más jóvenes (15-29 años) son los que presentan más fallecimientos.  \n",
    "  - Esto se explica porque gran parte de la juventud que no tiene recursos para un automóvil recurre a las **motocicletas** como medio de transporte económico. Estas suelen utilizarse para:\n",
    "    - Trabajos como **moto-taxi** o **mensajería**.\n",
    "    - En algunos casos, actividades delictivas.  \n",
    "\n",
    "- **Mujeres**:  \n",
    "  - Los grupos más destacados son:\n",
    "    - **20-24 años**: **10.30%**.  \n",
    "    - **15-19 años**: **8.81%**.  \n",
    "  - De manera sorprendente, el siguiente grupo más afectado es el de **65 años y más**, con un **7.63%**.\n"
   ]
  },
  {
   "cell_type": "code",
   "execution_count": 116,
   "id": "31ea74c5",
   "metadata": {},
   "outputs": [
    {
     "data": {
      "application/vnd.microsoft.datawrangler.viewer.v0+json": {
       "columns": [
        {
         "name": "('sexo', 'grupo_edad')",
         "rawType": "object",
         "type": "unknown"
        },
        {
         "name": "Conteo",
         "rawType": "int64",
         "type": "integer"
        },
        {
         "name": "Total por Sexo",
         "rawType": "int64",
         "type": "integer"
        },
        {
         "name": "Porcentaje (%)",
         "rawType": "float64",
         "type": "float"
        }
       ],
       "ref": "ef650625-d7b3-4913-a3eb-97d76513dd2a",
       "rows": [
        [
         "('Hombres', 'No declarada')",
         "7582",
         "29279",
         "25.895693158919364"
        ],
        [
         "('Hombres', '20 - 24')",
         "3885",
         "29279",
         "13.268895795621436"
        ],
        [
         "('Hombres', '25 - 29')",
         "2865",
         "29279",
         "9.785170258547081"
        ],
        [
         "('Hombres', '15 - 19')",
         "2602",
         "29279",
         "8.886915536732811"
        ],
        [
         "('Hombres', '30 - 34')",
         "2261",
         "29279",
         "7.722258273848151"
        ],
        [
         "('Hombres', '35 - 39')",
         "1910",
         "29279",
         "6.523446839031388"
        ],
        [
         "('Hombres', '65 y más')",
         "1583",
         "29279",
         "5.406605416851669"
        ],
        [
         "('Hombres', '40 - 44')",
         "1518",
         "29279",
         "5.184603299293008"
        ],
        [
         "('Hombres', '45 - 49')",
         "1299",
         "29279",
         "4.436626933979985"
        ],
        [
         "('Hombres', '50 - 54')",
         "1215",
         "29279",
         "4.149731889750333"
        ],
        [
         "('Hombres', '55 - 59')",
         "951",
         "29279",
         "3.2480617507428535"
        ],
        [
         "('Hombres', '60 - 64')",
         "774",
         "29279",
         "2.6435329075446568"
        ],
        [
         "('Hombres', '10 - 14')",
         "359",
         "29279",
         "1.226134772362444"
        ],
        [
         "('Hombres', '0 - 4')",
         "244",
         "29279",
         "0.8333617951432768"
        ],
        [
         "('Hombres', '5 - 9')",
         "231",
         "29279",
         "0.7889613716315448"
        ],
        [
         "('Mujeres', 'No declarada')",
         "1032",
         "4151",
         "24.861479161647797"
        ],
        [
         "('Mujeres', '20 - 24')",
         "421",
         "4151",
         "10.142134425439654"
        ],
        [
         "('Mujeres', '15 - 19')",
         "363",
         "4151",
         "8.744880751626114"
        ],
        [
         "('Mujeres', '25 - 29')",
         "322",
         "4151",
         "7.75716694772344"
        ],
        [
         "('Mujeres', '65 y más')",
         "322",
         "4151",
         "7.75716694772344"
        ],
        [
         "('Mujeres', '30 - 34')",
         "284",
         "4151",
         "6.841724885569741"
        ],
        [
         "('Mujeres', '35 - 39')",
         "224",
         "4151",
         "5.396290050590219"
        ],
        [
         "('Mujeres', '40 - 44')",
         "201",
         "4151",
         "4.8422066971814015"
        ],
        [
         "('Mujeres', '45 - 49')",
         "172",
         "4151",
         "4.143579860274633"
        ],
        [
         "('Mujeres', '50 - 54')",
         "157",
         "4151",
         "3.782221151529752"
        ],
        [
         "('Mujeres', '5 - 9')",
         "140",
         "4151",
         "3.372681281618887"
        ],
        [
         "('Mujeres', '0 - 4')",
         "134",
         "4151",
         "3.228137798120935"
        ],
        [
         "('Mujeres', '55 - 59')",
         "128",
         "4151",
         "3.0835943146229825"
        ],
        [
         "('Mujeres', '60 - 64')",
         "128",
         "4151",
         "3.0835943146229825"
        ],
        [
         "('Mujeres', '10 - 14')",
         "123",
         "4151",
         "2.963141411708022"
        ],
        [
         "('No declarado', 'No declarada')",
         "79",
         "82",
         "96.34146341463415"
        ],
        [
         "('No declarado', '15 - 19')",
         "1",
         "82",
         "1.2195121951219512"
        ],
        [
         "('No declarado', '30 - 34')",
         "1",
         "82",
         "1.2195121951219512"
        ],
        [
         "('No declarado', '65 y más')",
         "1",
         "82",
         "1.2195121951219512"
        ]
       ],
       "shape": {
        "columns": 3,
        "rows": 34
       }
      },
      "text/html": [
       "<div>\n",
       "<style scoped>\n",
       "    .dataframe tbody tr th:only-of-type {\n",
       "        vertical-align: middle;\n",
       "    }\n",
       "\n",
       "    .dataframe tbody tr th {\n",
       "        vertical-align: top;\n",
       "    }\n",
       "\n",
       "    .dataframe thead th {\n",
       "        text-align: right;\n",
       "    }\n",
       "</style>\n",
       "<table border=\"1\" class=\"dataframe\">\n",
       "  <thead>\n",
       "    <tr style=\"text-align: right;\">\n",
       "      <th></th>\n",
       "      <th></th>\n",
       "      <th>Conteo</th>\n",
       "      <th>Total por Sexo</th>\n",
       "      <th>Porcentaje (%)</th>\n",
       "    </tr>\n",
       "    <tr>\n",
       "      <th>sexo</th>\n",
       "      <th>grupo_edad</th>\n",
       "      <th></th>\n",
       "      <th></th>\n",
       "      <th></th>\n",
       "    </tr>\n",
       "  </thead>\n",
       "  <tbody>\n",
       "    <tr>\n",
       "      <th rowspan=\"15\" valign=\"top\">Hombres</th>\n",
       "      <th>No declarada</th>\n",
       "      <td>7582</td>\n",
       "      <td>29279</td>\n",
       "      <td>25.90</td>\n",
       "    </tr>\n",
       "    <tr>\n",
       "      <th>20 - 24</th>\n",
       "      <td>3885</td>\n",
       "      <td>29279</td>\n",
       "      <td>13.27</td>\n",
       "    </tr>\n",
       "    <tr>\n",
       "      <th>25 - 29</th>\n",
       "      <td>2865</td>\n",
       "      <td>29279</td>\n",
       "      <td>9.79</td>\n",
       "    </tr>\n",
       "    <tr>\n",
       "      <th>15 - 19</th>\n",
       "      <td>2602</td>\n",
       "      <td>29279</td>\n",
       "      <td>8.89</td>\n",
       "    </tr>\n",
       "    <tr>\n",
       "      <th>30 - 34</th>\n",
       "      <td>2261</td>\n",
       "      <td>29279</td>\n",
       "      <td>7.72</td>\n",
       "    </tr>\n",
       "    <tr>\n",
       "      <th>35 - 39</th>\n",
       "      <td>1910</td>\n",
       "      <td>29279</td>\n",
       "      <td>6.52</td>\n",
       "    </tr>\n",
       "    <tr>\n",
       "      <th>65 y más</th>\n",
       "      <td>1583</td>\n",
       "      <td>29279</td>\n",
       "      <td>5.41</td>\n",
       "    </tr>\n",
       "    <tr>\n",
       "      <th>40 - 44</th>\n",
       "      <td>1518</td>\n",
       "      <td>29279</td>\n",
       "      <td>5.18</td>\n",
       "    </tr>\n",
       "    <tr>\n",
       "      <th>45 - 49</th>\n",
       "      <td>1299</td>\n",
       "      <td>29279</td>\n",
       "      <td>4.44</td>\n",
       "    </tr>\n",
       "    <tr>\n",
       "      <th>50 - 54</th>\n",
       "      <td>1215</td>\n",
       "      <td>29279</td>\n",
       "      <td>4.15</td>\n",
       "    </tr>\n",
       "    <tr>\n",
       "      <th>55 - 59</th>\n",
       "      <td>951</td>\n",
       "      <td>29279</td>\n",
       "      <td>3.25</td>\n",
       "    </tr>\n",
       "    <tr>\n",
       "      <th>60 - 64</th>\n",
       "      <td>774</td>\n",
       "      <td>29279</td>\n",
       "      <td>2.64</td>\n",
       "    </tr>\n",
       "    <tr>\n",
       "      <th>10 - 14</th>\n",
       "      <td>359</td>\n",
       "      <td>29279</td>\n",
       "      <td>1.23</td>\n",
       "    </tr>\n",
       "    <tr>\n",
       "      <th>0 - 4</th>\n",
       "      <td>244</td>\n",
       "      <td>29279</td>\n",
       "      <td>0.83</td>\n",
       "    </tr>\n",
       "    <tr>\n",
       "      <th>5 - 9</th>\n",
       "      <td>231</td>\n",
       "      <td>29279</td>\n",
       "      <td>0.79</td>\n",
       "    </tr>\n",
       "    <tr>\n",
       "      <th rowspan=\"15\" valign=\"top\">Mujeres</th>\n",
       "      <th>No declarada</th>\n",
       "      <td>1032</td>\n",
       "      <td>4151</td>\n",
       "      <td>24.86</td>\n",
       "    </tr>\n",
       "    <tr>\n",
       "      <th>20 - 24</th>\n",
       "      <td>421</td>\n",
       "      <td>4151</td>\n",
       "      <td>10.14</td>\n",
       "    </tr>\n",
       "    <tr>\n",
       "      <th>15 - 19</th>\n",
       "      <td>363</td>\n",
       "      <td>4151</td>\n",
       "      <td>8.74</td>\n",
       "    </tr>\n",
       "    <tr>\n",
       "      <th>25 - 29</th>\n",
       "      <td>322</td>\n",
       "      <td>4151</td>\n",
       "      <td>7.76</td>\n",
       "    </tr>\n",
       "    <tr>\n",
       "      <th>65 y más</th>\n",
       "      <td>322</td>\n",
       "      <td>4151</td>\n",
       "      <td>7.76</td>\n",
       "    </tr>\n",
       "    <tr>\n",
       "      <th>30 - 34</th>\n",
       "      <td>284</td>\n",
       "      <td>4151</td>\n",
       "      <td>6.84</td>\n",
       "    </tr>\n",
       "    <tr>\n",
       "      <th>35 - 39</th>\n",
       "      <td>224</td>\n",
       "      <td>4151</td>\n",
       "      <td>5.40</td>\n",
       "    </tr>\n",
       "    <tr>\n",
       "      <th>40 - 44</th>\n",
       "      <td>201</td>\n",
       "      <td>4151</td>\n",
       "      <td>4.84</td>\n",
       "    </tr>\n",
       "    <tr>\n",
       "      <th>45 - 49</th>\n",
       "      <td>172</td>\n",
       "      <td>4151</td>\n",
       "      <td>4.14</td>\n",
       "    </tr>\n",
       "    <tr>\n",
       "      <th>50 - 54</th>\n",
       "      <td>157</td>\n",
       "      <td>4151</td>\n",
       "      <td>3.78</td>\n",
       "    </tr>\n",
       "    <tr>\n",
       "      <th>5 - 9</th>\n",
       "      <td>140</td>\n",
       "      <td>4151</td>\n",
       "      <td>3.37</td>\n",
       "    </tr>\n",
       "    <tr>\n",
       "      <th>0 - 4</th>\n",
       "      <td>134</td>\n",
       "      <td>4151</td>\n",
       "      <td>3.23</td>\n",
       "    </tr>\n",
       "    <tr>\n",
       "      <th>55 - 59</th>\n",
       "      <td>128</td>\n",
       "      <td>4151</td>\n",
       "      <td>3.08</td>\n",
       "    </tr>\n",
       "    <tr>\n",
       "      <th>60 - 64</th>\n",
       "      <td>128</td>\n",
       "      <td>4151</td>\n",
       "      <td>3.08</td>\n",
       "    </tr>\n",
       "    <tr>\n",
       "      <th>10 - 14</th>\n",
       "      <td>123</td>\n",
       "      <td>4151</td>\n",
       "      <td>2.96</td>\n",
       "    </tr>\n",
       "    <tr>\n",
       "      <th rowspan=\"4\" valign=\"top\">No declarado</th>\n",
       "      <th>No declarada</th>\n",
       "      <td>79</td>\n",
       "      <td>82</td>\n",
       "      <td>96.34</td>\n",
       "    </tr>\n",
       "    <tr>\n",
       "      <th>15 - 19</th>\n",
       "      <td>1</td>\n",
       "      <td>82</td>\n",
       "      <td>1.22</td>\n",
       "    </tr>\n",
       "    <tr>\n",
       "      <th>30 - 34</th>\n",
       "      <td>1</td>\n",
       "      <td>82</td>\n",
       "      <td>1.22</td>\n",
       "    </tr>\n",
       "    <tr>\n",
       "      <th>65 y más</th>\n",
       "      <td>1</td>\n",
       "      <td>82</td>\n",
       "      <td>1.22</td>\n",
       "    </tr>\n",
       "  </tbody>\n",
       "</table>\n",
       "</div>"
      ],
      "text/plain": [
       "                           Conteo  Total por Sexo  Porcentaje (%)\n",
       "sexo         grupo_edad                                          \n",
       "Hombres      No declarada    7582           29279           25.90\n",
       "             20 - 24         3885           29279           13.27\n",
       "             25 - 29         2865           29279            9.79\n",
       "             15 - 19         2602           29279            8.89\n",
       "             30 - 34         2261           29279            7.72\n",
       "             35 - 39         1910           29279            6.52\n",
       "             65 y más        1583           29279            5.41\n",
       "             40 - 44         1518           29279            5.18\n",
       "             45 - 49         1299           29279            4.44\n",
       "             50 - 54         1215           29279            4.15\n",
       "             55 - 59          951           29279            3.25\n",
       "             60 - 64          774           29279            2.64\n",
       "             10 - 14          359           29279            1.23\n",
       "             0 - 4            244           29279            0.83\n",
       "             5 - 9            231           29279            0.79\n",
       "Mujeres      No declarada    1032            4151           24.86\n",
       "             20 - 24          421            4151           10.14\n",
       "             15 - 19          363            4151            8.74\n",
       "             25 - 29          322            4151            7.76\n",
       "             65 y más         322            4151            7.76\n",
       "             30 - 34          284            4151            6.84\n",
       "             35 - 39          224            4151            5.40\n",
       "             40 - 44          201            4151            4.84\n",
       "             45 - 49          172            4151            4.14\n",
       "             50 - 54          157            4151            3.78\n",
       "             5 - 9            140            4151            3.37\n",
       "             0 - 4            134            4151            3.23\n",
       "             55 - 59          128            4151            3.08\n",
       "             60 - 64          128            4151            3.08\n",
       "             10 - 14          123            4151            2.96\n",
       "No declarado No declarada      79              82           96.34\n",
       "             15 - 19            1              82            1.22\n",
       "             30 - 34            1              82            1.22\n",
       "             65 y más           1              82            1.22"
      ]
     },
     "execution_count": 116,
     "metadata": {},
     "output_type": "execute_result"
    }
   ],
   "source": [
    "df_genero_edad = df_descodificada.groupby(['sexo', 'grupo_edad'])[['tipo_via']].count().sort_values(by=['sexo', 'tipo_via'], ascending=[True, False])\n",
    "df_genero_edad.rename(columns={'tipo_via': 'Conteo'}, inplace=True)\n",
    "df_genero_edad['Total por Sexo'] = df_genero_edad.groupby(level=0)['Conteo'].transform('sum')\n",
    "df_genero_edad['Porcentaje (%)'] = (df_genero_edad['Conteo'] / df_genero_edad['Total por Sexo']) * 100\n",
    "df_genero_edad"
   ]
  },
  {
   "cell_type": "markdown",
   "id": "82a90752",
   "metadata": {},
   "source": [
    "### Distribución de grupo_edad por medio de transporte\n",
    "\n",
    "- Las edades con mayor cantidad de fallecidos siguen un patrón similar al de los hombres.  \n",
    "- **Motocicletas**:  \n",
    "  - Predominan como el medio de transporte más involucrado en los accidentes fatales.  \n",
    "  - Los rangos de edad más afectados son:  \n",
    "    - **No declarado** (mayoritario).  \n",
    "    - **20-24 años**.  \n",
    "    - **15-19 años**.\n",
    "\n",
    "    - **Tipos de accidente**:  \n",
    "  - Los mismos grupos de edades predominantes se mantienen en relación con los tipos de accidente.  \n",
    "  - Destacan especialmente los **choques** y los **atropellamientos**, que son las principales causas de fallecimientos en estos grupos."
   ]
  },
  {
   "cell_type": "code",
   "execution_count": 117,
   "id": "4b538a8e",
   "metadata": {},
   "outputs": [
    {
     "data": {
      "application/vnd.microsoft.datawrangler.viewer.v0+json": {
       "columns": [
        {
         "name": "('grupo_edad', 'medio_trans')",
         "rawType": "object",
         "type": "unknown"
        },
        {
         "name": "tipo_via",
         "rawType": "int64",
         "type": "integer"
        }
       ],
       "ref": "35e5df34-d264-4ccd-935b-7c21b17dd285",
       "rows": [
        [
         "('No declarada', 'Motocicleta, ciclomotor (passola)')",
         "5321"
        ],
        [
         "('20 - 24', 'Motocicleta, ciclomotor (passola)')",
         "3462"
        ],
        [
         "('15 - 19', 'Motocicleta, ciclomotor (passola)')",
         "2424"
        ],
        [
         "('25 - 29', 'Motocicleta, ciclomotor (passola)')",
         "2376"
        ],
        [
         "('30 - 34', 'Motocicleta, ciclomotor (passola)')",
         "1793"
        ],
        [
         "('No declarada', 'Peatón atropellado')",
         "1503"
        ],
        [
         "('35 - 39', 'Motocicleta, ciclomotor (passola)')",
         "1452"
        ],
        [
         "('40 - 44', 'Motocicleta, ciclomotor (passola)')",
         "1099"
        ],
        [
         "('65 y más', 'Peatón atropellado')",
         "1094"
        ],
        [
         "('45 - 49', 'Motocicleta, ciclomotor (passola)')",
         "898"
        ]
       ],
       "shape": {
        "columns": 1,
        "rows": 10
       }
      },
      "text/html": [
       "<div>\n",
       "<style scoped>\n",
       "    .dataframe tbody tr th:only-of-type {\n",
       "        vertical-align: middle;\n",
       "    }\n",
       "\n",
       "    .dataframe tbody tr th {\n",
       "        vertical-align: top;\n",
       "    }\n",
       "\n",
       "    .dataframe thead th {\n",
       "        text-align: right;\n",
       "    }\n",
       "</style>\n",
       "<table border=\"1\" class=\"dataframe\">\n",
       "  <thead>\n",
       "    <tr style=\"text-align: right;\">\n",
       "      <th></th>\n",
       "      <th></th>\n",
       "      <th>tipo_via</th>\n",
       "    </tr>\n",
       "    <tr>\n",
       "      <th>grupo_edad</th>\n",
       "      <th>medio_trans</th>\n",
       "      <th></th>\n",
       "    </tr>\n",
       "  </thead>\n",
       "  <tbody>\n",
       "    <tr>\n",
       "      <th>No declarada</th>\n",
       "      <th>Motocicleta, ciclomotor (passola)</th>\n",
       "      <td>5321</td>\n",
       "    </tr>\n",
       "    <tr>\n",
       "      <th>20 - 24</th>\n",
       "      <th>Motocicleta, ciclomotor (passola)</th>\n",
       "      <td>3462</td>\n",
       "    </tr>\n",
       "    <tr>\n",
       "      <th>15 - 19</th>\n",
       "      <th>Motocicleta, ciclomotor (passola)</th>\n",
       "      <td>2424</td>\n",
       "    </tr>\n",
       "    <tr>\n",
       "      <th>25 - 29</th>\n",
       "      <th>Motocicleta, ciclomotor (passola)</th>\n",
       "      <td>2376</td>\n",
       "    </tr>\n",
       "    <tr>\n",
       "      <th>30 - 34</th>\n",
       "      <th>Motocicleta, ciclomotor (passola)</th>\n",
       "      <td>1793</td>\n",
       "    </tr>\n",
       "    <tr>\n",
       "      <th>No declarada</th>\n",
       "      <th>Peatón atropellado</th>\n",
       "      <td>1503</td>\n",
       "    </tr>\n",
       "    <tr>\n",
       "      <th>35 - 39</th>\n",
       "      <th>Motocicleta, ciclomotor (passola)</th>\n",
       "      <td>1452</td>\n",
       "    </tr>\n",
       "    <tr>\n",
       "      <th>40 - 44</th>\n",
       "      <th>Motocicleta, ciclomotor (passola)</th>\n",
       "      <td>1099</td>\n",
       "    </tr>\n",
       "    <tr>\n",
       "      <th>65 y más</th>\n",
       "      <th>Peatón atropellado</th>\n",
       "      <td>1094</td>\n",
       "    </tr>\n",
       "    <tr>\n",
       "      <th>45 - 49</th>\n",
       "      <th>Motocicleta, ciclomotor (passola)</th>\n",
       "      <td>898</td>\n",
       "    </tr>\n",
       "  </tbody>\n",
       "</table>\n",
       "</div>"
      ],
      "text/plain": [
       "                                                tipo_via\n",
       "grupo_edad   medio_trans                                \n",
       "No declarada Motocicleta, ciclomotor (passola)      5321\n",
       "20 - 24      Motocicleta, ciclomotor (passola)      3462\n",
       "15 - 19      Motocicleta, ciclomotor (passola)      2424\n",
       "25 - 29      Motocicleta, ciclomotor (passola)      2376\n",
       "30 - 34      Motocicleta, ciclomotor (passola)      1793\n",
       "No declarada Peatón atropellado                     1503\n",
       "35 - 39      Motocicleta, ciclomotor (passola)      1452\n",
       "40 - 44      Motocicleta, ciclomotor (passola)      1099\n",
       "65 y más     Peatón atropellado                     1094\n",
       "45 - 49      Motocicleta, ciclomotor (passola)       898"
      ]
     },
     "execution_count": 117,
     "metadata": {},
     "output_type": "execute_result"
    }
   ],
   "source": [
    "df_descodificada.groupby(['grupo_edad', 'medio_trans'])[['tipo_via']].count().sort_values(by='tipo_via', ascending=False).head(10)"
   ]
  },
  {
   "cell_type": "code",
   "execution_count": 118,
   "id": "cbcda86d",
   "metadata": {},
   "outputs": [
    {
     "data": {
      "application/vnd.microsoft.datawrangler.viewer.v0+json": {
       "columns": [
        {
         "name": "('grupo_edad', 'tipo_accidente')",
         "rawType": "object",
         "type": "unknown"
        },
        {
         "name": "tipo_via",
         "rawType": "int64",
         "type": "integer"
        }
       ],
       "ref": "830b3704-7a5c-4c03-a3b6-f58cc8d2c342",
       "rows": [
        [
         "('No declarada', 'Choque o colisión')",
         "5170"
        ],
        [
         "('20 - 24', 'Choque o colisión')",
         "2717"
        ],
        [
         "('15 - 19', 'Choque o colisión')",
         "1966"
        ],
        [
         "('25 - 29', 'Choque o colisión')",
         "1958"
        ],
        [
         "('30 - 34', 'Choque o colisión')",
         "1541"
        ],
        [
         "('No declarada', 'Atropellamiento')",
         "1506"
        ],
        [
         "('No declarada', 'Deslizamiento')",
         "1460"
        ],
        [
         "('35 - 39', 'Choque o colisión')",
         "1283"
        ],
        [
         "('65 y más', 'Atropellamiento')",
         "1096"
        ],
        [
         "('40 - 44', 'Choque o colisión')",
         "1030"
        ]
       ],
       "shape": {
        "columns": 1,
        "rows": 10
       }
      },
      "text/html": [
       "<div>\n",
       "<style scoped>\n",
       "    .dataframe tbody tr th:only-of-type {\n",
       "        vertical-align: middle;\n",
       "    }\n",
       "\n",
       "    .dataframe tbody tr th {\n",
       "        vertical-align: top;\n",
       "    }\n",
       "\n",
       "    .dataframe thead th {\n",
       "        text-align: right;\n",
       "    }\n",
       "</style>\n",
       "<table border=\"1\" class=\"dataframe\">\n",
       "  <thead>\n",
       "    <tr style=\"text-align: right;\">\n",
       "      <th></th>\n",
       "      <th></th>\n",
       "      <th>tipo_via</th>\n",
       "    </tr>\n",
       "    <tr>\n",
       "      <th>grupo_edad</th>\n",
       "      <th>tipo_accidente</th>\n",
       "      <th></th>\n",
       "    </tr>\n",
       "  </thead>\n",
       "  <tbody>\n",
       "    <tr>\n",
       "      <th>No declarada</th>\n",
       "      <th>Choque o colisión</th>\n",
       "      <td>5170</td>\n",
       "    </tr>\n",
       "    <tr>\n",
       "      <th>20 - 24</th>\n",
       "      <th>Choque o colisión</th>\n",
       "      <td>2717</td>\n",
       "    </tr>\n",
       "    <tr>\n",
       "      <th>15 - 19</th>\n",
       "      <th>Choque o colisión</th>\n",
       "      <td>1966</td>\n",
       "    </tr>\n",
       "    <tr>\n",
       "      <th>25 - 29</th>\n",
       "      <th>Choque o colisión</th>\n",
       "      <td>1958</td>\n",
       "    </tr>\n",
       "    <tr>\n",
       "      <th>30 - 34</th>\n",
       "      <th>Choque o colisión</th>\n",
       "      <td>1541</td>\n",
       "    </tr>\n",
       "    <tr>\n",
       "      <th rowspan=\"2\" valign=\"top\">No declarada</th>\n",
       "      <th>Atropellamiento</th>\n",
       "      <td>1506</td>\n",
       "    </tr>\n",
       "    <tr>\n",
       "      <th>Deslizamiento</th>\n",
       "      <td>1460</td>\n",
       "    </tr>\n",
       "    <tr>\n",
       "      <th>35 - 39</th>\n",
       "      <th>Choque o colisión</th>\n",
       "      <td>1283</td>\n",
       "    </tr>\n",
       "    <tr>\n",
       "      <th>65 y más</th>\n",
       "      <th>Atropellamiento</th>\n",
       "      <td>1096</td>\n",
       "    </tr>\n",
       "    <tr>\n",
       "      <th>40 - 44</th>\n",
       "      <th>Choque o colisión</th>\n",
       "      <td>1030</td>\n",
       "    </tr>\n",
       "  </tbody>\n",
       "</table>\n",
       "</div>"
      ],
      "text/plain": [
       "                                tipo_via\n",
       "grupo_edad   tipo_accidente             \n",
       "No declarada Choque o colisión      5170\n",
       "20 - 24      Choque o colisión      2717\n",
       "15 - 19      Choque o colisión      1966\n",
       "25 - 29      Choque o colisión      1958\n",
       "30 - 34      Choque o colisión      1541\n",
       "No declarada Atropellamiento        1506\n",
       "             Deslizamiento          1460\n",
       "35 - 39      Choque o colisión      1283\n",
       "65 y más     Atropellamiento        1096\n",
       "40 - 44      Choque o colisión      1030"
      ]
     },
     "execution_count": 118,
     "metadata": {},
     "output_type": "execute_result"
    }
   ],
   "source": [
    "df_descodificada.groupby(['grupo_edad', 'tipo_accidente'])[['tipo_via']].count().sort_values(by='tipo_via', ascending=False).head(10)"
   ]
  },
  {
   "cell_type": "markdown",
   "id": "6ec3d441",
   "metadata": {},
   "source": [
    "Defunciones 2024"
   ]
  },
  {
   "cell_type": "code",
   "execution_count": 121,
   "id": "ff2c0167",
   "metadata": {},
   "outputs": [],
   "source": [
    "df_2024 = df_descodificada[df_descodificada['anio'] == 2024]"
   ]
  },
  {
   "cell_type": "code",
   "execution_count": 122,
   "id": "c171b021",
   "metadata": {},
   "outputs": [
    {
     "data": {
      "application/vnd.microsoft.datawrangler.viewer.v0+json": {
       "columns": [
        {
         "name": "index",
         "rawType": "int64",
         "type": "integer"
        },
        {
         "name": "region",
         "rawType": "object",
         "type": "string"
        },
        {
         "name": "provincia",
         "rawType": "object",
         "type": "string"
        },
        {
         "name": "dia_semana",
         "rawType": "object",
         "type": "string"
        },
        {
         "name": "mes",
         "rawType": "object",
         "type": "string"
        },
        {
         "name": "anio",
         "rawType": "int64",
         "type": "integer"
        },
        {
         "name": "rango_hora",
         "rawType": "object",
         "type": "string"
        },
        {
         "name": "tipo_via",
         "rawType": "object",
         "type": "string"
        },
        {
         "name": "sexo",
         "rawType": "object",
         "type": "string"
        },
        {
         "name": "grupo_edad",
         "rawType": "object",
         "type": "string"
        },
        {
         "name": "condicion_victima",
         "rawType": "object",
         "type": "string"
        },
        {
         "name": "tipo_accidente",
         "rawType": "object",
         "type": "string"
        },
        {
         "name": "medio_trans",
         "rawType": "object",
         "type": "string"
        }
       ],
       "ref": "491f809e-f5ef-43a7-996c-8633bbb9d100",
       "rows": [
        [
         "31351",
         "Región El Valle",
         "San Juan",
         "Lunes",
         "Enero",
         "2024",
         "00:01-02:00",
         "Calle",
         "Hombres",
         "50 - 54",
         "Conductor",
         "Choque o colisión",
         "Motocicleta, ciclomotor (passola)"
        ],
        [
         "31352",
         "Región Ozama",
         "Distrito Nacional",
         "Lunes",
         "Enero",
         "2024",
         "00:01-02:00",
         "Avenida",
         "Hombres",
         "No declarada",
         "Peatón",
         "Atropellamiento",
         "Peatón atropellado"
        ],
        [
         "31353",
         "Región Cibao Norte",
         "Santiago",
         "Lunes",
         "Enero",
         "2024",
         "00:01-02:00",
         "Carretera",
         "Hombres",
         "60 - 64",
         "Conductor",
         "Choque o colisión",
         "Motocicleta, ciclomotor (passola)"
        ],
        [
         "31354",
         "Región Higuamo",
         "San Pedro de Macorís",
         "Lunes",
         "Enero",
         "2024",
         "04:01-06:00",
         "Avenida",
         "Hombres",
         "20 - 24",
         "Conductor",
         "Choque o colisión",
         "Motocicleta, ciclomotor (passola)"
        ],
        [
         "31355",
         "Región Enriquillo",
         "Barahona",
         "Lunes",
         "Enero",
         "2024",
         "06:01-08:00",
         "Carretera",
         "Hombres",
         "20 - 24",
         "Conductor",
         "Deslizamiento",
         "Motocicleta, ciclomotor (passola)"
        ],
        [
         "31356",
         "Región Cibao Sur",
         "La Vega",
         "Lunes",
         "Enero",
         "2024",
         "06:01-08:00",
         "Carretera",
         "Hombres",
         "No declarada",
         "Peatón",
         "Atropellamiento",
         "Peatón atropellado"
        ],
        [
         "31357",
         "Región Yuma",
         "La Altagracia",
         "Lunes",
         "Enero",
         "2024",
         "06:01-08:00",
         "Autopista",
         "Hombres",
         "55 - 59",
         "Conductor",
         "Choque o colisión",
         "Automóvil (carro)"
        ],
        [
         "31358",
         "Región Yuma",
         "La Altagracia",
         "Lunes",
         "Enero",
         "2024",
         "06:01-08:00",
         "Autopista",
         "Hombres",
         "No declarada",
         "Conductor",
         "Choque o colisión",
         "Motocicleta, ciclomotor (passola)"
        ],
        [
         "31359",
         "Región Higuamo",
         "Monte Plata",
         "Lunes",
         "Enero",
         "2024",
         "08:01-10:00",
         "Carretera",
         "Hombres",
         "15 - 19",
         "Conductor",
         "Choque o colisión",
         "Motocicleta, ciclomotor (passola)"
        ],
        [
         "31360",
         "Región Higuamo",
         "Monte Plata",
         "Lunes",
         "Enero",
         "2024",
         "08:01-10:00",
         "Carretera",
         "Hombres",
         "25 - 29",
         "Conductor",
         "Choque o colisión",
         "Motocicleta, ciclomotor (passola)"
        ],
        [
         "31361",
         "Región Yuma",
         "La Romana",
         "Lunes",
         "Enero",
         "2024",
         "08:01-10:00",
         "Calle",
         "Hombres",
         "40 - 44",
         "Conductor",
         "Deslizamiento",
         "Motocicleta, ciclomotor (passola)"
        ],
        [
         "31362",
         "Región Yuma",
         "El Seibo",
         "Lunes",
         "Enero",
         "2024",
         "10:01-12:00",
         "Carretera",
         "Hombres",
         "25 - 29",
         "Conductor",
         "Deslizamiento",
         "Motocicleta, ciclomotor (passola)"
        ],
        [
         "31363",
         "Región Valdesia",
         "San Cristóbal",
         "Lunes",
         "Enero",
         "2024",
         "12:01-14:00",
         "Calle",
         "Hombres",
         "60 - 64",
         "Peatón",
         "Atropellamiento",
         "Peatón atropellado"
        ],
        [
         "31364",
         "Región El Valle",
         "San Juan",
         "Lunes",
         "Enero",
         "2024",
         "12:01-14:00",
         "Carretera",
         "Hombres",
         "30 - 34",
         "Conductor",
         "Choque o colisión",
         "Motocicleta, ciclomotor (passola)"
        ],
        [
         "31365",
         "Región Yuma",
         "La Altagracia",
         "Lunes",
         "Enero",
         "2024",
         "14:01-16:00",
         "Carretera",
         "Hombres",
         "40 - 44",
         "Pasajero",
         "Choque o colisión",
         "Motocicleta, ciclomotor (passola)"
        ],
        [
         "31366",
         "Región Valdesia",
         "San Cristóbal",
         "Lunes",
         "Enero",
         "2024",
         "18:01-20:00",
         "Autopista",
         "Hombres",
         "No declarada",
         "Conductor",
         "Choque o colisión",
         "Motocicleta, ciclomotor (passola)"
        ],
        [
         "31367",
         "Región Cibao Norte",
         "Santiago",
         "Lunes",
         "Enero",
         "2024",
         "22:01-24:00",
         "Autopista",
         "Hombres",
         "No declarada",
         "Peatón",
         "Atropellamiento",
         "Peatón atropellado"
        ],
        [
         "31368",
         "Región Cibao Nordeste",
         "Samaná",
         "Martes",
         "Enero",
         "2024",
         "02:01-04:00",
         "Carretera",
         "Mujeres",
         "No declarada",
         "Peatón",
         "Atropellamiento",
         "Peatón atropellado"
        ],
        [
         "31369",
         "Región Enriquillo",
         "Barahona",
         "Martes",
         "Enero",
         "2024",
         "04:01-06:00",
         "Carretera",
         "Hombres",
         "No declarada",
         "Conductor",
         "Choque o colisión",
         "Motocicleta, ciclomotor (passola)"
        ],
        [
         "31370",
         "Región El Valle",
         "San Juan",
         "Martes",
         "Enero",
         "2024",
         "04:01-06:00",
         "Calle",
         "Hombres",
         "No declarada",
         "Conductor",
         "Deslizamiento",
         "Motocicleta, ciclomotor (passola)"
        ],
        [
         "31371",
         "Región Cibao Nordeste",
         "Samaná",
         "Martes",
         "Enero",
         "2024",
         "06:01-08:00",
         "Carretera",
         "Hombres",
         "55 - 59",
         "Conductor",
         "Choque o colisión",
         "Motocicleta, ciclomotor (passola)"
        ],
        [
         "31372",
         "Región Higuamo",
         "San Pedro de Macorís",
         "Martes",
         "Enero",
         "2024",
         "18:01-20:00",
         "Calle",
         "Hombres",
         "55 - 59",
         "Conductor",
         "Deslizamiento",
         "Motocicleta, ciclomotor (passola)"
        ],
        [
         "31373",
         "Región Cibao Norte",
         "Santiago",
         "Martes",
         "Enero",
         "2024",
         "18:01-20:00",
         "Carretera",
         "Hombres",
         "55 - 59",
         "Conductor",
         "Choque o colisión",
         "Motocicleta, ciclomotor (passola)"
        ],
        [
         "31374",
         "Región Ozama",
         "Distrito Nacional",
         "Miércoles",
         "Enero",
         "2024",
         "08:01-10:00",
         "Avenida",
         "Hombres",
         "45 - 49",
         "Conductor",
         "Choque o colisión",
         "Motocicleta, ciclomotor (passola)"
        ],
        [
         "31375",
         "Región Cibao Nordeste",
         "Samaná",
         "Miércoles",
         "Enero",
         "2024",
         "10:01-12:00",
         "Otras",
         "Hombres",
         "65 y más",
         "Peatón",
         "Atropellamiento",
         "Peatón atropellado"
        ],
        [
         "31376",
         "Región Cibao Sur",
         "La Vega",
         "Miércoles",
         "Enero",
         "2024",
         "18:01-20:00",
         "Calle",
         "Hombres",
         "50 - 54",
         "Conductor",
         "Choque o colisión",
         "Motocicleta, ciclomotor (passola)"
        ],
        [
         "31377",
         "Región Cibao Sur",
         "Sánchez Ramírez",
         "Miércoles",
         "Enero",
         "2024",
         "20:01-22:00",
         "Carretera",
         "Hombres",
         "40 - 44",
         "Conductor",
         "Choque o colisión",
         "Motocicleta, ciclomotor (passola)"
        ],
        [
         "31378",
         "Región Valdesia",
         "Peravia",
         "Viernes",
         "Enero",
         "2024",
         "08:01-10:00",
         "Calle",
         "Hombres",
         "40 - 44",
         "Conductor",
         "Choque o colisión",
         "Motocicleta, ciclomotor (passola)"
        ],
        [
         "31379",
         "Región Valdesia",
         "Peravia",
         "Viernes",
         "Enero",
         "2024",
         "20:01-22:00",
         "Carretera",
         "Hombres",
         "45 - 49",
         "Conductor",
         "Choque o colisión",
         "Motocicleta, ciclomotor (passola)"
        ],
        [
         "31380",
         "Región Cibao Norte",
         "Santiago",
         "Viernes",
         "Enero",
         "2024",
         "20:01-22:00",
         "Avenida",
         "Mujeres",
         "20 - 24",
         "Pasajero",
         "Choque o colisión",
         "Motocicleta, ciclomotor (passola)"
        ],
        [
         "31381",
         "Región Higuamo",
         "San Pedro de Macorís",
         "Viernes",
         "Enero",
         "2024",
         "22:01-24:00",
         "Calle",
         "Hombres",
         "20 - 24",
         "Conductor",
         "Choque o colisión",
         "Motocicleta, ciclomotor (passola)"
        ],
        [
         "31382",
         "Región Cibao Noroeste",
         "Valverde",
         "Sábado",
         "Enero",
         "2024",
         "00:01-02:00",
         "Avenida",
         "Hombres",
         "20 - 24",
         "Conductor",
         "Choque o colisión",
         "Motocicleta, ciclomotor (passola)"
        ],
        [
         "31383",
         "Región Ozama",
         "Santo Domingo",
         "Sábado",
         "Enero",
         "2024",
         "02:01-04:00",
         "Avenida",
         "Hombres",
         "No declarada",
         "Pasajero",
         "Estrellamiento",
         "Automóvil (carro)"
        ],
        [
         "31384",
         "Región Cibao Noroeste",
         "Valverde",
         "Sábado",
         "Enero",
         "2024",
         "08:01-10:00",
         "Calle",
         "Hombres",
         "20 - 24",
         "Conductor",
         "Choque o colisión",
         "Motocicleta, ciclomotor (passola)"
        ],
        [
         "31385",
         "Región Cibao Norte",
         "Santiago",
         "Sábado",
         "Enero",
         "2024",
         "10:01-12:00",
         "Avenida",
         "Hombres",
         "45 - 49",
         "Conductor",
         "Choque o colisión",
         "Motocicleta, ciclomotor (passola)"
        ],
        [
         "31386",
         "Región Ozama",
         "Santo Domingo",
         "Sábado",
         "Enero",
         "2024",
         "10:01-12:00",
         "Calle",
         "Hombres",
         "15 - 19",
         "Conductor",
         "Estrellamiento",
         "Motocicleta, ciclomotor (passola)"
        ],
        [
         "31387",
         "Región Valdesia",
         "San Cristóbal",
         "Sábado",
         "Enero",
         "2024",
         "12:01-14:00",
         "Calle",
         "Hombres",
         "35 - 39",
         "Conductor",
         "Choque o colisión",
         "Motocicleta, ciclomotor (passola)"
        ],
        [
         "31388",
         "Región Cibao Norte",
         "Santiago",
         "Sábado",
         "Enero",
         "2024",
         "18:01-20:00",
         "Calle",
         "Hombres",
         "40 - 44",
         "Conductor",
         "Choque o colisión",
         "Motocicleta, ciclomotor (passola)"
        ],
        [
         "31389",
         "Región Cibao Norte",
         "Santiago",
         "Sábado",
         "Enero",
         "2024",
         "18:01-20:00",
         "Calle",
         "Hombres",
         "25 - 29",
         "Pasajero",
         "Choque o colisión",
         "Motocicleta, ciclomotor (passola)"
        ],
        [
         "31390",
         "Región Cibao Norte",
         "Santiago",
         "Sábado",
         "Enero",
         "2024",
         "18:01-20:00",
         "Calle",
         "Hombres",
         "20 - 24",
         "Pasajero",
         "Choque o colisión",
         "Motocicleta, ciclomotor (passola)"
        ],
        [
         "31391",
         "Región Higuamo",
         "Hato Mayor",
         "Domingo",
         "Enero",
         "2024",
         "00:01-02:00",
         "Carretera",
         "Mujeres",
         "50 - 54",
         "Conductor",
         "Deslizamiento",
         "Motocicleta, ciclomotor (passola)"
        ],
        [
         "31392",
         "Región Ozama",
         "Santo Domingo",
         "Domingo",
         "Enero",
         "2024",
         "04:01-06:00",
         "Carretera",
         "Hombres",
         "50 - 54",
         "Conductor",
         "Deslizamiento",
         "Motocicleta, ciclomotor (passola)"
        ],
        [
         "31393",
         "Región Valdesia",
         "San Cristóbal",
         "Domingo",
         "Enero",
         "2024",
         "06:01-08:00",
         "Avenida",
         "Hombres",
         "35 - 39",
         "Conductor",
         "Deslizamiento",
         "Motocicleta, ciclomotor (passola)"
        ],
        [
         "31394",
         "Región Cibao Noroeste",
         "Valverde",
         "Domingo",
         "Enero",
         "2024",
         "18:01-20:00",
         "Carretera",
         "Hombres",
         "55 - 59",
         "Conductor",
         "Estrellamiento",
         "Motocicleta, ciclomotor (passola)"
        ],
        [
         "31395",
         "Región Valdesia",
         "Peravia",
         "Lunes",
         "Enero",
         "2024",
         "14:01-16:00",
         "Carretera",
         "Hombres",
         "60 - 64",
         "Conductor",
         "Choque o colisión",
         "Motocicleta, ciclomotor (passola)"
        ],
        [
         "31396",
         "Región Cibao Nordeste",
         "María Trinidad Sánchez",
         "Lunes",
         "Enero",
         "2024",
         "02:01-04:00",
         "Carretera",
         "Hombres",
         "20 - 24",
         "Conductor",
         "Choque o colisión",
         "Motocicleta, ciclomotor (passola)"
        ],
        [
         "31397",
         "Región Cibao Nordeste",
         "María Trinidad Sánchez",
         "Lunes",
         "Enero",
         "2024",
         "14:01-16:00",
         "Carretera",
         "Hombres",
         "65 y más",
         "Conductor",
         "Choque o colisión",
         "Motocicleta, ciclomotor (passola)"
        ],
        [
         "31398",
         "Región Ozama",
         "Santo Domingo",
         "Lunes",
         "Enero",
         "2024",
         "22:01-24:00",
         "Carretera",
         "Hombres",
         "No declarada",
         "Conductor",
         "Choque o colisión",
         "Motocicleta, ciclomotor (passola)"
        ],
        [
         "31399",
         "Región Ozama",
         "Santo Domingo",
         "Martes",
         "Enero",
         "2024",
         "08:01-10:00",
         "Avenida",
         "Hombres",
         "20 - 24",
         "Conductor",
         "Choque o colisión",
         "Motocicleta, ciclomotor (passola)"
        ],
        [
         "31400",
         "Región Valdesia",
         "Peravia",
         "Martes",
         "Enero",
         "2024",
         "18:01-20:00",
         "Carretera",
         "Hombres",
         "25 - 29",
         "Conductor",
         "Choque o colisión",
         "Motocicleta, ciclomotor (passola)"
        ]
       ],
       "shape": {
        "columns": 12,
        "rows": 2161
       }
      },
      "text/html": [
       "<div>\n",
       "<style scoped>\n",
       "    .dataframe tbody tr th:only-of-type {\n",
       "        vertical-align: middle;\n",
       "    }\n",
       "\n",
       "    .dataframe tbody tr th {\n",
       "        vertical-align: top;\n",
       "    }\n",
       "\n",
       "    .dataframe thead th {\n",
       "        text-align: right;\n",
       "    }\n",
       "</style>\n",
       "<table border=\"1\" class=\"dataframe\">\n",
       "  <thead>\n",
       "    <tr style=\"text-align: right;\">\n",
       "      <th></th>\n",
       "      <th>region</th>\n",
       "      <th>provincia</th>\n",
       "      <th>dia_semana</th>\n",
       "      <th>mes</th>\n",
       "      <th>anio</th>\n",
       "      <th>rango_hora</th>\n",
       "      <th>tipo_via</th>\n",
       "      <th>sexo</th>\n",
       "      <th>grupo_edad</th>\n",
       "      <th>condicion_victima</th>\n",
       "      <th>tipo_accidente</th>\n",
       "      <th>medio_trans</th>\n",
       "    </tr>\n",
       "  </thead>\n",
       "  <tbody>\n",
       "    <tr>\n",
       "      <th>31351</th>\n",
       "      <td>Región El Valle</td>\n",
       "      <td>San Juan</td>\n",
       "      <td>Lunes</td>\n",
       "      <td>Enero</td>\n",
       "      <td>2024</td>\n",
       "      <td>00:01-02:00</td>\n",
       "      <td>Calle</td>\n",
       "      <td>Hombres</td>\n",
       "      <td>50 - 54</td>\n",
       "      <td>Conductor</td>\n",
       "      <td>Choque o colisión</td>\n",
       "      <td>Motocicleta, ciclomotor (passola)</td>\n",
       "    </tr>\n",
       "    <tr>\n",
       "      <th>31352</th>\n",
       "      <td>Región Ozama</td>\n",
       "      <td>Distrito Nacional</td>\n",
       "      <td>Lunes</td>\n",
       "      <td>Enero</td>\n",
       "      <td>2024</td>\n",
       "      <td>00:01-02:00</td>\n",
       "      <td>Avenida</td>\n",
       "      <td>Hombres</td>\n",
       "      <td>No declarada</td>\n",
       "      <td>Peatón</td>\n",
       "      <td>Atropellamiento</td>\n",
       "      <td>Peatón atropellado</td>\n",
       "    </tr>\n",
       "    <tr>\n",
       "      <th>31353</th>\n",
       "      <td>Región Cibao Norte</td>\n",
       "      <td>Santiago</td>\n",
       "      <td>Lunes</td>\n",
       "      <td>Enero</td>\n",
       "      <td>2024</td>\n",
       "      <td>00:01-02:00</td>\n",
       "      <td>Carretera</td>\n",
       "      <td>Hombres</td>\n",
       "      <td>60 - 64</td>\n",
       "      <td>Conductor</td>\n",
       "      <td>Choque o colisión</td>\n",
       "      <td>Motocicleta, ciclomotor (passola)</td>\n",
       "    </tr>\n",
       "    <tr>\n",
       "      <th>31354</th>\n",
       "      <td>Región Higuamo</td>\n",
       "      <td>San Pedro de Macorís</td>\n",
       "      <td>Lunes</td>\n",
       "      <td>Enero</td>\n",
       "      <td>2024</td>\n",
       "      <td>04:01-06:00</td>\n",
       "      <td>Avenida</td>\n",
       "      <td>Hombres</td>\n",
       "      <td>20 - 24</td>\n",
       "      <td>Conductor</td>\n",
       "      <td>Choque o colisión</td>\n",
       "      <td>Motocicleta, ciclomotor (passola)</td>\n",
       "    </tr>\n",
       "    <tr>\n",
       "      <th>31355</th>\n",
       "      <td>Región Enriquillo</td>\n",
       "      <td>Barahona</td>\n",
       "      <td>Lunes</td>\n",
       "      <td>Enero</td>\n",
       "      <td>2024</td>\n",
       "      <td>06:01-08:00</td>\n",
       "      <td>Carretera</td>\n",
       "      <td>Hombres</td>\n",
       "      <td>20 - 24</td>\n",
       "      <td>Conductor</td>\n",
       "      <td>Deslizamiento</td>\n",
       "      <td>Motocicleta, ciclomotor (passola)</td>\n",
       "    </tr>\n",
       "    <tr>\n",
       "      <th>...</th>\n",
       "      <td>...</td>\n",
       "      <td>...</td>\n",
       "      <td>...</td>\n",
       "      <td>...</td>\n",
       "      <td>...</td>\n",
       "      <td>...</td>\n",
       "      <td>...</td>\n",
       "      <td>...</td>\n",
       "      <td>...</td>\n",
       "      <td>...</td>\n",
       "      <td>...</td>\n",
       "      <td>...</td>\n",
       "    </tr>\n",
       "    <tr>\n",
       "      <th>33507</th>\n",
       "      <td>Región Cibao Noroeste</td>\n",
       "      <td>Valverde</td>\n",
       "      <td>Martes</td>\n",
       "      <td>Diciembre</td>\n",
       "      <td>2024</td>\n",
       "      <td>22:01-24:00</td>\n",
       "      <td>Calle</td>\n",
       "      <td>Mujeres</td>\n",
       "      <td>15 - 19</td>\n",
       "      <td>Conductor</td>\n",
       "      <td>Choque o colisión</td>\n",
       "      <td>Motocicleta, ciclomotor (passola)</td>\n",
       "    </tr>\n",
       "    <tr>\n",
       "      <th>33508</th>\n",
       "      <td>Región Cibao Norte</td>\n",
       "      <td>Santiago</td>\n",
       "      <td>Martes</td>\n",
       "      <td>Diciembre</td>\n",
       "      <td>2024</td>\n",
       "      <td>04:01-06:00</td>\n",
       "      <td>Carretera</td>\n",
       "      <td>Hombres</td>\n",
       "      <td>50 - 54</td>\n",
       "      <td>Conductor</td>\n",
       "      <td>Choque o colisión</td>\n",
       "      <td>Motocicleta, ciclomotor (passola)</td>\n",
       "    </tr>\n",
       "    <tr>\n",
       "      <th>33509</th>\n",
       "      <td>Región Valdesia</td>\n",
       "      <td>Peravia</td>\n",
       "      <td>Martes</td>\n",
       "      <td>Diciembre</td>\n",
       "      <td>2024</td>\n",
       "      <td>06:01-08:00</td>\n",
       "      <td>Carretera</td>\n",
       "      <td>Hombres</td>\n",
       "      <td>45 - 49</td>\n",
       "      <td>Conductor</td>\n",
       "      <td>Choque o colisión</td>\n",
       "      <td>Yipeta, yip</td>\n",
       "    </tr>\n",
       "    <tr>\n",
       "      <th>33510</th>\n",
       "      <td>Región Valdesia</td>\n",
       "      <td>Peravia</td>\n",
       "      <td>Martes</td>\n",
       "      <td>Diciembre</td>\n",
       "      <td>2024</td>\n",
       "      <td>06:01-08:00</td>\n",
       "      <td>Carretera</td>\n",
       "      <td>Mujeres</td>\n",
       "      <td>45 - 49</td>\n",
       "      <td>Pasajero</td>\n",
       "      <td>Choque o colisión</td>\n",
       "      <td>Yipeta, yip</td>\n",
       "    </tr>\n",
       "    <tr>\n",
       "      <th>33511</th>\n",
       "      <td>Región Valdesia</td>\n",
       "      <td>Peravia</td>\n",
       "      <td>Martes</td>\n",
       "      <td>Diciembre</td>\n",
       "      <td>2024</td>\n",
       "      <td>06:01-08:00</td>\n",
       "      <td>Carretera</td>\n",
       "      <td>Hombres</td>\n",
       "      <td>65 y más</td>\n",
       "      <td>Pasajero</td>\n",
       "      <td>Choque o colisión</td>\n",
       "      <td>Yipeta, yip</td>\n",
       "    </tr>\n",
       "  </tbody>\n",
       "</table>\n",
       "<p>2161 rows × 12 columns</p>\n",
       "</div>"
      ],
      "text/plain": [
       "                      region             provincia dia_semana        mes  \\\n",
       "31351        Región El Valle              San Juan      Lunes      Enero   \n",
       "31352           Región Ozama     Distrito Nacional      Lunes      Enero   \n",
       "31353     Región Cibao Norte              Santiago      Lunes      Enero   \n",
       "31354         Región Higuamo  San Pedro de Macorís      Lunes      Enero   \n",
       "31355      Región Enriquillo              Barahona      Lunes      Enero   \n",
       "...                      ...                   ...        ...        ...   \n",
       "33507  Región Cibao Noroeste              Valverde     Martes  Diciembre   \n",
       "33508     Región Cibao Norte              Santiago     Martes  Diciembre   \n",
       "33509        Región Valdesia               Peravia     Martes  Diciembre   \n",
       "33510        Región Valdesia               Peravia     Martes  Diciembre   \n",
       "33511        Región Valdesia               Peravia     Martes  Diciembre   \n",
       "\n",
       "       anio   rango_hora   tipo_via     sexo    grupo_edad condicion_victima  \\\n",
       "31351  2024  00:01-02:00      Calle  Hombres       50 - 54         Conductor   \n",
       "31352  2024  00:01-02:00    Avenida  Hombres  No declarada            Peatón   \n",
       "31353  2024  00:01-02:00  Carretera  Hombres       60 - 64         Conductor   \n",
       "31354  2024  04:01-06:00    Avenida  Hombres       20 - 24         Conductor   \n",
       "31355  2024  06:01-08:00  Carretera  Hombres       20 - 24         Conductor   \n",
       "...     ...          ...        ...      ...           ...               ...   \n",
       "33507  2024  22:01-24:00      Calle  Mujeres       15 - 19         Conductor   \n",
       "33508  2024  04:01-06:00  Carretera  Hombres       50 - 54         Conductor   \n",
       "33509  2024  06:01-08:00  Carretera  Hombres       45 - 49         Conductor   \n",
       "33510  2024  06:01-08:00  Carretera  Mujeres       45 - 49          Pasajero   \n",
       "33511  2024  06:01-08:00  Carretera  Hombres      65 y más          Pasajero   \n",
       "\n",
       "          tipo_accidente                        medio_trans  \n",
       "31351  Choque o colisión  Motocicleta, ciclomotor (passola)  \n",
       "31352    Atropellamiento                 Peatón atropellado  \n",
       "31353  Choque o colisión  Motocicleta, ciclomotor (passola)  \n",
       "31354  Choque o colisión  Motocicleta, ciclomotor (passola)  \n",
       "31355      Deslizamiento  Motocicleta, ciclomotor (passola)  \n",
       "...                  ...                                ...  \n",
       "33507  Choque o colisión  Motocicleta, ciclomotor (passola)  \n",
       "33508  Choque o colisión  Motocicleta, ciclomotor (passola)  \n",
       "33509  Choque o colisión                        Yipeta, yip  \n",
       "33510  Choque o colisión                        Yipeta, yip  \n",
       "33511  Choque o colisión                        Yipeta, yip  \n",
       "\n",
       "[2161 rows x 12 columns]"
      ]
     },
     "execution_count": 122,
     "metadata": {},
     "output_type": "execute_result"
    }
   ],
   "source": [
    "df_2024"
   ]
  },
  {
   "cell_type": "code",
   "execution_count": 123,
   "id": "37d2638c",
   "metadata": {},
   "outputs": [
    {
     "name": "stdout",
     "output_type": "stream",
     "text": [
      "El número de datos es 2161 y el de columnas es 12\n",
      "\n",
      " ..................... \n",
      "\n",
      "Los duplicados que tenemos en el conjunto de datos son: 24\n",
      "\n",
      " ..................... \n",
      "\n",
      "Los nulos que tenemos en el conjunto de datos son:\n"
     ]
    },
    {
     "data": {
      "application/vnd.microsoft.datawrangler.viewer.v0+json": {
       "columns": [
        {
         "name": "index",
         "rawType": "object",
         "type": "unknown"
        },
        {
         "name": "%_nulos",
         "rawType": "float64",
         "type": "float"
        }
       ],
       "ref": "818cfa8e-8c06-4428-80fe-89b1cc036243",
       "rows": [],
       "shape": {
        "columns": 1,
        "rows": 0
       }
      },
      "text/html": [
       "<div>\n",
       "<style scoped>\n",
       "    .dataframe tbody tr th:only-of-type {\n",
       "        vertical-align: middle;\n",
       "    }\n",
       "\n",
       "    .dataframe tbody tr th {\n",
       "        vertical-align: top;\n",
       "    }\n",
       "\n",
       "    .dataframe thead th {\n",
       "        text-align: right;\n",
       "    }\n",
       "</style>\n",
       "<table border=\"1\" class=\"dataframe\">\n",
       "  <thead>\n",
       "    <tr style=\"text-align: right;\">\n",
       "      <th></th>\n",
       "      <th>%_nulos</th>\n",
       "    </tr>\n",
       "  </thead>\n",
       "  <tbody>\n",
       "  </tbody>\n",
       "</table>\n",
       "</div>"
      ],
      "text/plain": [
       "Empty DataFrame\n",
       "Columns: [%_nulos]\n",
       "Index: []"
      ]
     },
     "metadata": {},
     "output_type": "display_data"
    },
    {
     "name": "stdout",
     "output_type": "stream",
     "text": [
      "\n",
      " ..................... \n",
      "\n",
      "Los tipos de las columnas son:\n"
     ]
    },
    {
     "data": {
      "application/vnd.microsoft.datawrangler.viewer.v0+json": {
       "columns": [
        {
         "name": "index",
         "rawType": "object",
         "type": "string"
        },
        {
         "name": "tipo_dato",
         "rawType": "object",
         "type": "unknown"
        }
       ],
       "ref": "b4d67bbb-7a53-4013-8b63-ec8d926785ed",
       "rows": [
        [
         "region",
         "object"
        ],
        [
         "provincia",
         "object"
        ],
        [
         "dia_semana",
         "object"
        ],
        [
         "mes",
         "object"
        ],
        [
         "anio",
         "int64"
        ],
        [
         "rango_hora",
         "object"
        ],
        [
         "tipo_via",
         "object"
        ],
        [
         "sexo",
         "object"
        ],
        [
         "grupo_edad",
         "object"
        ],
        [
         "condicion_victima",
         "object"
        ],
        [
         "tipo_accidente",
         "object"
        ],
        [
         "medio_trans",
         "object"
        ]
       ],
       "shape": {
        "columns": 1,
        "rows": 12
       }
      },
      "text/html": [
       "<div>\n",
       "<style scoped>\n",
       "    .dataframe tbody tr th:only-of-type {\n",
       "        vertical-align: middle;\n",
       "    }\n",
       "\n",
       "    .dataframe tbody tr th {\n",
       "        vertical-align: top;\n",
       "    }\n",
       "\n",
       "    .dataframe thead th {\n",
       "        text-align: right;\n",
       "    }\n",
       "</style>\n",
       "<table border=\"1\" class=\"dataframe\">\n",
       "  <thead>\n",
       "    <tr style=\"text-align: right;\">\n",
       "      <th></th>\n",
       "      <th>tipo_dato</th>\n",
       "    </tr>\n",
       "  </thead>\n",
       "  <tbody>\n",
       "    <tr>\n",
       "      <th>region</th>\n",
       "      <td>object</td>\n",
       "    </tr>\n",
       "    <tr>\n",
       "      <th>provincia</th>\n",
       "      <td>object</td>\n",
       "    </tr>\n",
       "    <tr>\n",
       "      <th>dia_semana</th>\n",
       "      <td>object</td>\n",
       "    </tr>\n",
       "    <tr>\n",
       "      <th>mes</th>\n",
       "      <td>object</td>\n",
       "    </tr>\n",
       "    <tr>\n",
       "      <th>anio</th>\n",
       "      <td>int64</td>\n",
       "    </tr>\n",
       "    <tr>\n",
       "      <th>rango_hora</th>\n",
       "      <td>object</td>\n",
       "    </tr>\n",
       "    <tr>\n",
       "      <th>tipo_via</th>\n",
       "      <td>object</td>\n",
       "    </tr>\n",
       "    <tr>\n",
       "      <th>sexo</th>\n",
       "      <td>object</td>\n",
       "    </tr>\n",
       "    <tr>\n",
       "      <th>grupo_edad</th>\n",
       "      <td>object</td>\n",
       "    </tr>\n",
       "    <tr>\n",
       "      <th>condicion_victima</th>\n",
       "      <td>object</td>\n",
       "    </tr>\n",
       "    <tr>\n",
       "      <th>tipo_accidente</th>\n",
       "      <td>object</td>\n",
       "    </tr>\n",
       "    <tr>\n",
       "      <th>medio_trans</th>\n",
       "      <td>object</td>\n",
       "    </tr>\n",
       "  </tbody>\n",
       "</table>\n",
       "</div>"
      ],
      "text/plain": [
       "                  tipo_dato\n",
       "region               object\n",
       "provincia            object\n",
       "dia_semana           object\n",
       "mes                  object\n",
       "anio                  int64\n",
       "rango_hora           object\n",
       "tipo_via             object\n",
       "sexo                 object\n",
       "grupo_edad           object\n",
       "condicion_victima    object\n",
       "tipo_accidente       object\n",
       "medio_trans          object"
      ]
     },
     "metadata": {},
     "output_type": "display_data"
    },
    {
     "name": "stdout",
     "output_type": "stream",
     "text": [
      "\n",
      " ..................... \n",
      "\n",
      "Los valores que tenemos para las columnas categóricas son: \n",
      "La columna region tiene los siguientes valores únicos:\n"
     ]
    },
    {
     "data": {
      "application/vnd.microsoft.datawrangler.viewer.v0+json": {
       "columns": [
        {
         "name": "region",
         "rawType": "object",
         "type": "string"
        },
        {
         "name": "count",
         "rawType": "int64",
         "type": "integer"
        }
       ],
       "ref": "2e5a9f0d-34a0-4f38-8e4f-639226f1814a",
       "rows": [
        [
         "Región Ozama",
         "364"
        ],
        [
         "Región Cibao Norte",
         "321"
        ],
        [
         "Región Valdesia",
         "275"
        ],
        [
         "Región Cibao Sur",
         "252"
        ],
        [
         "Región Yuma",
         "230"
        ],
        [
         "Región Cibao Nordeste",
         "215"
        ],
        [
         "Región El Valle",
         "165"
        ],
        [
         "Región Higuamo",
         "139"
        ],
        [
         "Región Cibao Noroeste",
         "126"
        ],
        [
         "Región Enriquillo",
         "74"
        ]
       ],
       "shape": {
        "columns": 1,
        "rows": 10
       }
      },
      "text/html": [
       "<div>\n",
       "<style scoped>\n",
       "    .dataframe tbody tr th:only-of-type {\n",
       "        vertical-align: middle;\n",
       "    }\n",
       "\n",
       "    .dataframe tbody tr th {\n",
       "        vertical-align: top;\n",
       "    }\n",
       "\n",
       "    .dataframe thead th {\n",
       "        text-align: right;\n",
       "    }\n",
       "</style>\n",
       "<table border=\"1\" class=\"dataframe\">\n",
       "  <thead>\n",
       "    <tr style=\"text-align: right;\">\n",
       "      <th></th>\n",
       "      <th>count</th>\n",
       "    </tr>\n",
       "    <tr>\n",
       "      <th>region</th>\n",
       "      <th></th>\n",
       "    </tr>\n",
       "  </thead>\n",
       "  <tbody>\n",
       "    <tr>\n",
       "      <th>Región Ozama</th>\n",
       "      <td>364</td>\n",
       "    </tr>\n",
       "    <tr>\n",
       "      <th>Región Cibao Norte</th>\n",
       "      <td>321</td>\n",
       "    </tr>\n",
       "    <tr>\n",
       "      <th>Región Valdesia</th>\n",
       "      <td>275</td>\n",
       "    </tr>\n",
       "    <tr>\n",
       "      <th>Región Cibao Sur</th>\n",
       "      <td>252</td>\n",
       "    </tr>\n",
       "    <tr>\n",
       "      <th>Región Yuma</th>\n",
       "      <td>230</td>\n",
       "    </tr>\n",
       "    <tr>\n",
       "      <th>Región Cibao Nordeste</th>\n",
       "      <td>215</td>\n",
       "    </tr>\n",
       "    <tr>\n",
       "      <th>Región El Valle</th>\n",
       "      <td>165</td>\n",
       "    </tr>\n",
       "    <tr>\n",
       "      <th>Región Higuamo</th>\n",
       "      <td>139</td>\n",
       "    </tr>\n",
       "    <tr>\n",
       "      <th>Región Cibao Noroeste</th>\n",
       "      <td>126</td>\n",
       "    </tr>\n",
       "    <tr>\n",
       "      <th>Región Enriquillo</th>\n",
       "      <td>74</td>\n",
       "    </tr>\n",
       "  </tbody>\n",
       "</table>\n",
       "</div>"
      ],
      "text/plain": [
       "                       count\n",
       "region                      \n",
       "Región Ozama             364\n",
       "Región Cibao Norte       321\n",
       "Región Valdesia          275\n",
       "Región Cibao Sur         252\n",
       "Región Yuma              230\n",
       "Región Cibao Nordeste    215\n",
       "Región El Valle          165\n",
       "Región Higuamo           139\n",
       "Región Cibao Noroeste    126\n",
       "Región Enriquillo         74"
      ]
     },
     "metadata": {},
     "output_type": "display_data"
    },
    {
     "name": "stdout",
     "output_type": "stream",
     "text": [
      "La columna provincia tiene los siguientes valores únicos:\n"
     ]
    },
    {
     "data": {
      "application/vnd.microsoft.datawrangler.viewer.v0+json": {
       "columns": [
        {
         "name": "provincia",
         "rawType": "object",
         "type": "string"
        },
        {
         "name": "count",
         "rawType": "int64",
         "type": "integer"
        }
       ],
       "ref": "27c6d560-b272-49a9-893b-e15705c23e91",
       "rows": [
        [
         "Santo Domingo",
         "258"
        ],
        [
         "San Cristóbal",
         "186"
        ],
        [
         "Santiago",
         "171"
        ],
        [
         "La Altagracia",
         "159"
        ],
        [
         "La Vega",
         "136"
        ],
        [
         "Distrito Nacional",
         "106"
        ],
        [
         "Puerto Plata",
         "85"
        ],
        [
         "Duarte",
         "81"
        ],
        [
         "Azua",
         "79"
        ],
        [
         "San Juan",
         "75"
        ],
        [
         "Peravia",
         "68"
        ],
        [
         "Monseñor Nouel",
         "68"
        ],
        [
         "Monte Plata",
         "66"
        ],
        [
         "Espaillat",
         "65"
        ],
        [
         "San Pedro de Macorís",
         "58"
        ],
        [
         "Samaná",
         "52"
        ],
        [
         "María Trinidad Sánchez",
         "51"
        ],
        [
         "La Romana",
         "48"
        ],
        [
         "Sánchez Ramírez",
         "48"
        ],
        [
         "Valverde",
         "46"
        ],
        [
         "Barahona",
         "35"
        ],
        [
         "Monte Cristi",
         "33"
        ],
        [
         "Hermanas Mirabal",
         "31"
        ],
        [
         "Dajabón",
         "26"
        ],
        [
         "Baoruco",
         "25"
        ],
        [
         "El Seibo",
         "23"
        ],
        [
         "Santiago Rodríguez",
         "21"
        ],
        [
         "San José de Ocoa",
         "21"
        ],
        [
         "Hato Mayor",
         "15"
        ],
        [
         "Elías Piña",
         "11"
        ],
        [
         "Pedernales",
         "11"
        ],
        [
         "Independencia",
         "3"
        ]
       ],
       "shape": {
        "columns": 1,
        "rows": 32
       }
      },
      "text/html": [
       "<div>\n",
       "<style scoped>\n",
       "    .dataframe tbody tr th:only-of-type {\n",
       "        vertical-align: middle;\n",
       "    }\n",
       "\n",
       "    .dataframe tbody tr th {\n",
       "        vertical-align: top;\n",
       "    }\n",
       "\n",
       "    .dataframe thead th {\n",
       "        text-align: right;\n",
       "    }\n",
       "</style>\n",
       "<table border=\"1\" class=\"dataframe\">\n",
       "  <thead>\n",
       "    <tr style=\"text-align: right;\">\n",
       "      <th></th>\n",
       "      <th>count</th>\n",
       "    </tr>\n",
       "    <tr>\n",
       "      <th>provincia</th>\n",
       "      <th></th>\n",
       "    </tr>\n",
       "  </thead>\n",
       "  <tbody>\n",
       "    <tr>\n",
       "      <th>Santo Domingo</th>\n",
       "      <td>258</td>\n",
       "    </tr>\n",
       "    <tr>\n",
       "      <th>San Cristóbal</th>\n",
       "      <td>186</td>\n",
       "    </tr>\n",
       "    <tr>\n",
       "      <th>Santiago</th>\n",
       "      <td>171</td>\n",
       "    </tr>\n",
       "    <tr>\n",
       "      <th>La Altagracia</th>\n",
       "      <td>159</td>\n",
       "    </tr>\n",
       "    <tr>\n",
       "      <th>La Vega</th>\n",
       "      <td>136</td>\n",
       "    </tr>\n",
       "    <tr>\n",
       "      <th>Distrito Nacional</th>\n",
       "      <td>106</td>\n",
       "    </tr>\n",
       "    <tr>\n",
       "      <th>Puerto Plata</th>\n",
       "      <td>85</td>\n",
       "    </tr>\n",
       "    <tr>\n",
       "      <th>Duarte</th>\n",
       "      <td>81</td>\n",
       "    </tr>\n",
       "    <tr>\n",
       "      <th>Azua</th>\n",
       "      <td>79</td>\n",
       "    </tr>\n",
       "    <tr>\n",
       "      <th>San Juan</th>\n",
       "      <td>75</td>\n",
       "    </tr>\n",
       "    <tr>\n",
       "      <th>Peravia</th>\n",
       "      <td>68</td>\n",
       "    </tr>\n",
       "    <tr>\n",
       "      <th>Monseñor Nouel</th>\n",
       "      <td>68</td>\n",
       "    </tr>\n",
       "    <tr>\n",
       "      <th>Monte Plata</th>\n",
       "      <td>66</td>\n",
       "    </tr>\n",
       "    <tr>\n",
       "      <th>Espaillat</th>\n",
       "      <td>65</td>\n",
       "    </tr>\n",
       "    <tr>\n",
       "      <th>San Pedro de Macorís</th>\n",
       "      <td>58</td>\n",
       "    </tr>\n",
       "    <tr>\n",
       "      <th>Samaná</th>\n",
       "      <td>52</td>\n",
       "    </tr>\n",
       "    <tr>\n",
       "      <th>María Trinidad Sánchez</th>\n",
       "      <td>51</td>\n",
       "    </tr>\n",
       "    <tr>\n",
       "      <th>La Romana</th>\n",
       "      <td>48</td>\n",
       "    </tr>\n",
       "    <tr>\n",
       "      <th>Sánchez Ramírez</th>\n",
       "      <td>48</td>\n",
       "    </tr>\n",
       "    <tr>\n",
       "      <th>Valverde</th>\n",
       "      <td>46</td>\n",
       "    </tr>\n",
       "    <tr>\n",
       "      <th>Barahona</th>\n",
       "      <td>35</td>\n",
       "    </tr>\n",
       "    <tr>\n",
       "      <th>Monte Cristi</th>\n",
       "      <td>33</td>\n",
       "    </tr>\n",
       "    <tr>\n",
       "      <th>Hermanas Mirabal</th>\n",
       "      <td>31</td>\n",
       "    </tr>\n",
       "    <tr>\n",
       "      <th>Dajabón</th>\n",
       "      <td>26</td>\n",
       "    </tr>\n",
       "    <tr>\n",
       "      <th>Baoruco</th>\n",
       "      <td>25</td>\n",
       "    </tr>\n",
       "    <tr>\n",
       "      <th>El Seibo</th>\n",
       "      <td>23</td>\n",
       "    </tr>\n",
       "    <tr>\n",
       "      <th>Santiago Rodríguez</th>\n",
       "      <td>21</td>\n",
       "    </tr>\n",
       "    <tr>\n",
       "      <th>San José de Ocoa</th>\n",
       "      <td>21</td>\n",
       "    </tr>\n",
       "    <tr>\n",
       "      <th>Hato Mayor</th>\n",
       "      <td>15</td>\n",
       "    </tr>\n",
       "    <tr>\n",
       "      <th>Elías Piña</th>\n",
       "      <td>11</td>\n",
       "    </tr>\n",
       "    <tr>\n",
       "      <th>Pedernales</th>\n",
       "      <td>11</td>\n",
       "    </tr>\n",
       "    <tr>\n",
       "      <th>Independencia</th>\n",
       "      <td>3</td>\n",
       "    </tr>\n",
       "  </tbody>\n",
       "</table>\n",
       "</div>"
      ],
      "text/plain": [
       "                        count\n",
       "provincia                    \n",
       "Santo Domingo             258\n",
       "San Cristóbal             186\n",
       "Santiago                  171\n",
       "La Altagracia             159\n",
       "La Vega                   136\n",
       "Distrito Nacional         106\n",
       "Puerto Plata               85\n",
       "Duarte                     81\n",
       "Azua                       79\n",
       "San Juan                   75\n",
       "Peravia                    68\n",
       "Monseñor Nouel             68\n",
       "Monte Plata                66\n",
       "Espaillat                  65\n",
       "San Pedro de Macorís       58\n",
       "Samaná                     52\n",
       "María Trinidad Sánchez     51\n",
       "La Romana                  48\n",
       "Sánchez Ramírez            48\n",
       "Valverde                   46\n",
       "Barahona                   35\n",
       "Monte Cristi               33\n",
       "Hermanas Mirabal           31\n",
       "Dajabón                    26\n",
       "Baoruco                    25\n",
       "El Seibo                   23\n",
       "Santiago Rodríguez         21\n",
       "San José de Ocoa           21\n",
       "Hato Mayor                 15\n",
       "Elías Piña                 11\n",
       "Pedernales                 11\n",
       "Independencia               3"
      ]
     },
     "metadata": {},
     "output_type": "display_data"
    },
    {
     "name": "stdout",
     "output_type": "stream",
     "text": [
      "La columna dia_semana tiene los siguientes valores únicos:\n"
     ]
    },
    {
     "data": {
      "application/vnd.microsoft.datawrangler.viewer.v0+json": {
       "columns": [
        {
         "name": "dia_semana",
         "rawType": "object",
         "type": "string"
        },
        {
         "name": "count",
         "rawType": "int64",
         "type": "integer"
        }
       ],
       "ref": "f4eee571-f22c-4e5b-98c9-b4bc91e87017",
       "rows": [
        [
         "Domingo",
         "565"
        ],
        [
         "Lunes",
         "377"
        ],
        [
         "Sábado",
         "329"
        ],
        [
         "Viernes",
         "257"
        ],
        [
         "Martes",
         "229"
        ],
        [
         "Miércoles",
         "217"
        ],
        [
         "Jueves",
         "187"
        ]
       ],
       "shape": {
        "columns": 1,
        "rows": 7
       }
      },
      "text/html": [
       "<div>\n",
       "<style scoped>\n",
       "    .dataframe tbody tr th:only-of-type {\n",
       "        vertical-align: middle;\n",
       "    }\n",
       "\n",
       "    .dataframe tbody tr th {\n",
       "        vertical-align: top;\n",
       "    }\n",
       "\n",
       "    .dataframe thead th {\n",
       "        text-align: right;\n",
       "    }\n",
       "</style>\n",
       "<table border=\"1\" class=\"dataframe\">\n",
       "  <thead>\n",
       "    <tr style=\"text-align: right;\">\n",
       "      <th></th>\n",
       "      <th>count</th>\n",
       "    </tr>\n",
       "    <tr>\n",
       "      <th>dia_semana</th>\n",
       "      <th></th>\n",
       "    </tr>\n",
       "  </thead>\n",
       "  <tbody>\n",
       "    <tr>\n",
       "      <th>Domingo</th>\n",
       "      <td>565</td>\n",
       "    </tr>\n",
       "    <tr>\n",
       "      <th>Lunes</th>\n",
       "      <td>377</td>\n",
       "    </tr>\n",
       "    <tr>\n",
       "      <th>Sábado</th>\n",
       "      <td>329</td>\n",
       "    </tr>\n",
       "    <tr>\n",
       "      <th>Viernes</th>\n",
       "      <td>257</td>\n",
       "    </tr>\n",
       "    <tr>\n",
       "      <th>Martes</th>\n",
       "      <td>229</td>\n",
       "    </tr>\n",
       "    <tr>\n",
       "      <th>Miércoles</th>\n",
       "      <td>217</td>\n",
       "    </tr>\n",
       "    <tr>\n",
       "      <th>Jueves</th>\n",
       "      <td>187</td>\n",
       "    </tr>\n",
       "  </tbody>\n",
       "</table>\n",
       "</div>"
      ],
      "text/plain": [
       "            count\n",
       "dia_semana       \n",
       "Domingo       565\n",
       "Lunes         377\n",
       "Sábado        329\n",
       "Viernes       257\n",
       "Martes        229\n",
       "Miércoles     217\n",
       "Jueves        187"
      ]
     },
     "metadata": {},
     "output_type": "display_data"
    },
    {
     "name": "stdout",
     "output_type": "stream",
     "text": [
      "La columna mes tiene los siguientes valores únicos:\n"
     ]
    },
    {
     "data": {
      "application/vnd.microsoft.datawrangler.viewer.v0+json": {
       "columns": [
        {
         "name": "mes",
         "rawType": "object",
         "type": "string"
        },
        {
         "name": "count",
         "rawType": "int64",
         "type": "integer"
        }
       ],
       "ref": "be1912e4-ee41-4e3b-95e8-882754c75feb",
       "rows": [
        [
         "Marzo",
         "212"
        ],
        [
         "Enero",
         "192"
        ],
        [
         "Diciembre",
         "192"
        ],
        [
         "Septiembre",
         "187"
        ],
        [
         "Junio",
         "186"
        ],
        [
         "Julio",
         "183"
        ],
        [
         "Febrero",
         "179"
        ],
        [
         "Octubre",
         "174"
        ],
        [
         "Abril",
         "170"
        ],
        [
         "Agosto",
         "166"
        ],
        [
         "Noviembre",
         "165"
        ],
        [
         "Mayo",
         "155"
        ]
       ],
       "shape": {
        "columns": 1,
        "rows": 12
       }
      },
      "text/html": [
       "<div>\n",
       "<style scoped>\n",
       "    .dataframe tbody tr th:only-of-type {\n",
       "        vertical-align: middle;\n",
       "    }\n",
       "\n",
       "    .dataframe tbody tr th {\n",
       "        vertical-align: top;\n",
       "    }\n",
       "\n",
       "    .dataframe thead th {\n",
       "        text-align: right;\n",
       "    }\n",
       "</style>\n",
       "<table border=\"1\" class=\"dataframe\">\n",
       "  <thead>\n",
       "    <tr style=\"text-align: right;\">\n",
       "      <th></th>\n",
       "      <th>count</th>\n",
       "    </tr>\n",
       "    <tr>\n",
       "      <th>mes</th>\n",
       "      <th></th>\n",
       "    </tr>\n",
       "  </thead>\n",
       "  <tbody>\n",
       "    <tr>\n",
       "      <th>Marzo</th>\n",
       "      <td>212</td>\n",
       "    </tr>\n",
       "    <tr>\n",
       "      <th>Enero</th>\n",
       "      <td>192</td>\n",
       "    </tr>\n",
       "    <tr>\n",
       "      <th>Diciembre</th>\n",
       "      <td>192</td>\n",
       "    </tr>\n",
       "    <tr>\n",
       "      <th>Septiembre</th>\n",
       "      <td>187</td>\n",
       "    </tr>\n",
       "    <tr>\n",
       "      <th>Junio</th>\n",
       "      <td>186</td>\n",
       "    </tr>\n",
       "    <tr>\n",
       "      <th>Julio</th>\n",
       "      <td>183</td>\n",
       "    </tr>\n",
       "    <tr>\n",
       "      <th>Febrero</th>\n",
       "      <td>179</td>\n",
       "    </tr>\n",
       "    <tr>\n",
       "      <th>Octubre</th>\n",
       "      <td>174</td>\n",
       "    </tr>\n",
       "    <tr>\n",
       "      <th>Abril</th>\n",
       "      <td>170</td>\n",
       "    </tr>\n",
       "    <tr>\n",
       "      <th>Agosto</th>\n",
       "      <td>166</td>\n",
       "    </tr>\n",
       "    <tr>\n",
       "      <th>Noviembre</th>\n",
       "      <td>165</td>\n",
       "    </tr>\n",
       "    <tr>\n",
       "      <th>Mayo</th>\n",
       "      <td>155</td>\n",
       "    </tr>\n",
       "  </tbody>\n",
       "</table>\n",
       "</div>"
      ],
      "text/plain": [
       "            count\n",
       "mes              \n",
       "Marzo         212\n",
       "Enero         192\n",
       "Diciembre     192\n",
       "Septiembre    187\n",
       "Junio         186\n",
       "Julio         183\n",
       "Febrero       179\n",
       "Octubre       174\n",
       "Abril         170\n",
       "Agosto        166\n",
       "Noviembre     165\n",
       "Mayo          155"
      ]
     },
     "metadata": {},
     "output_type": "display_data"
    },
    {
     "name": "stdout",
     "output_type": "stream",
     "text": [
      "La columna rango_hora tiene los siguientes valores únicos:\n"
     ]
    },
    {
     "data": {
      "application/vnd.microsoft.datawrangler.viewer.v0+json": {
       "columns": [
        {
         "name": "rango_hora",
         "rawType": "object",
         "type": "string"
        },
        {
         "name": "count",
         "rawType": "int64",
         "type": "integer"
        }
       ],
       "ref": "0df46e58-af6f-42a5-b1c5-bf4c330fdc2b",
       "rows": [
        [
         "18:01-20:00",
         "284"
        ],
        [
         "20:01-22:00",
         "244"
        ],
        [
         "22:01-24:00",
         "221"
        ],
        [
         "00:01-02:00",
         "198"
        ],
        [
         "16:01-18:00",
         "175"
        ],
        [
         "06:01-08:00",
         "168"
        ],
        [
         "02:01-04:00",
         "163"
        ],
        [
         "14:01-16:00",
         "162"
        ],
        [
         "04:01-06:00",
         "149"
        ],
        [
         "12:01-14:00",
         "149"
        ],
        [
         "08:01-10:00",
         "126"
        ],
        [
         "10:01-12:00",
         "119"
        ],
        [
         "No declarada",
         "3"
        ]
       ],
       "shape": {
        "columns": 1,
        "rows": 13
       }
      },
      "text/html": [
       "<div>\n",
       "<style scoped>\n",
       "    .dataframe tbody tr th:only-of-type {\n",
       "        vertical-align: middle;\n",
       "    }\n",
       "\n",
       "    .dataframe tbody tr th {\n",
       "        vertical-align: top;\n",
       "    }\n",
       "\n",
       "    .dataframe thead th {\n",
       "        text-align: right;\n",
       "    }\n",
       "</style>\n",
       "<table border=\"1\" class=\"dataframe\">\n",
       "  <thead>\n",
       "    <tr style=\"text-align: right;\">\n",
       "      <th></th>\n",
       "      <th>count</th>\n",
       "    </tr>\n",
       "    <tr>\n",
       "      <th>rango_hora</th>\n",
       "      <th></th>\n",
       "    </tr>\n",
       "  </thead>\n",
       "  <tbody>\n",
       "    <tr>\n",
       "      <th>18:01-20:00</th>\n",
       "      <td>284</td>\n",
       "    </tr>\n",
       "    <tr>\n",
       "      <th>20:01-22:00</th>\n",
       "      <td>244</td>\n",
       "    </tr>\n",
       "    <tr>\n",
       "      <th>22:01-24:00</th>\n",
       "      <td>221</td>\n",
       "    </tr>\n",
       "    <tr>\n",
       "      <th>00:01-02:00</th>\n",
       "      <td>198</td>\n",
       "    </tr>\n",
       "    <tr>\n",
       "      <th>16:01-18:00</th>\n",
       "      <td>175</td>\n",
       "    </tr>\n",
       "    <tr>\n",
       "      <th>06:01-08:00</th>\n",
       "      <td>168</td>\n",
       "    </tr>\n",
       "    <tr>\n",
       "      <th>02:01-04:00</th>\n",
       "      <td>163</td>\n",
       "    </tr>\n",
       "    <tr>\n",
       "      <th>14:01-16:00</th>\n",
       "      <td>162</td>\n",
       "    </tr>\n",
       "    <tr>\n",
       "      <th>04:01-06:00</th>\n",
       "      <td>149</td>\n",
       "    </tr>\n",
       "    <tr>\n",
       "      <th>12:01-14:00</th>\n",
       "      <td>149</td>\n",
       "    </tr>\n",
       "    <tr>\n",
       "      <th>08:01-10:00</th>\n",
       "      <td>126</td>\n",
       "    </tr>\n",
       "    <tr>\n",
       "      <th>10:01-12:00</th>\n",
       "      <td>119</td>\n",
       "    </tr>\n",
       "    <tr>\n",
       "      <th>No declarada</th>\n",
       "      <td>3</td>\n",
       "    </tr>\n",
       "  </tbody>\n",
       "</table>\n",
       "</div>"
      ],
      "text/plain": [
       "              count\n",
       "rango_hora         \n",
       "18:01-20:00     284\n",
       "20:01-22:00     244\n",
       "22:01-24:00     221\n",
       "00:01-02:00     198\n",
       "16:01-18:00     175\n",
       "06:01-08:00     168\n",
       "02:01-04:00     163\n",
       "14:01-16:00     162\n",
       "04:01-06:00     149\n",
       "12:01-14:00     149\n",
       "08:01-10:00     126\n",
       "10:01-12:00     119\n",
       "No declarada      3"
      ]
     },
     "metadata": {},
     "output_type": "display_data"
    },
    {
     "name": "stdout",
     "output_type": "stream",
     "text": [
      "La columna tipo_via tiene los siguientes valores únicos:\n"
     ]
    },
    {
     "data": {
      "application/vnd.microsoft.datawrangler.viewer.v0+json": {
       "columns": [
        {
         "name": "tipo_via",
         "rawType": "object",
         "type": "string"
        },
        {
         "name": "count",
         "rawType": "int64",
         "type": "integer"
        }
       ],
       "ref": "ff7bf397-0517-4883-ab8d-a06047f85836",
       "rows": [
        [
         "Carretera",
         "866"
        ],
        [
         "Calle",
         "508"
        ],
        [
         "Avenida",
         "417"
        ],
        [
         "Autopista",
         "321"
        ],
        [
         "Autovía",
         "26"
        ],
        [
         "Otras",
         "10"
        ],
        [
         "Puente",
         "4"
        ],
        [
         "Elevado",
         "4"
        ],
        [
         "Bulevar",
         "3"
        ],
        [
         "Camino vecinal",
         "2"
        ]
       ],
       "shape": {
        "columns": 1,
        "rows": 10
       }
      },
      "text/html": [
       "<div>\n",
       "<style scoped>\n",
       "    .dataframe tbody tr th:only-of-type {\n",
       "        vertical-align: middle;\n",
       "    }\n",
       "\n",
       "    .dataframe tbody tr th {\n",
       "        vertical-align: top;\n",
       "    }\n",
       "\n",
       "    .dataframe thead th {\n",
       "        text-align: right;\n",
       "    }\n",
       "</style>\n",
       "<table border=\"1\" class=\"dataframe\">\n",
       "  <thead>\n",
       "    <tr style=\"text-align: right;\">\n",
       "      <th></th>\n",
       "      <th>count</th>\n",
       "    </tr>\n",
       "    <tr>\n",
       "      <th>tipo_via</th>\n",
       "      <th></th>\n",
       "    </tr>\n",
       "  </thead>\n",
       "  <tbody>\n",
       "    <tr>\n",
       "      <th>Carretera</th>\n",
       "      <td>866</td>\n",
       "    </tr>\n",
       "    <tr>\n",
       "      <th>Calle</th>\n",
       "      <td>508</td>\n",
       "    </tr>\n",
       "    <tr>\n",
       "      <th>Avenida</th>\n",
       "      <td>417</td>\n",
       "    </tr>\n",
       "    <tr>\n",
       "      <th>Autopista</th>\n",
       "      <td>321</td>\n",
       "    </tr>\n",
       "    <tr>\n",
       "      <th>Autovía</th>\n",
       "      <td>26</td>\n",
       "    </tr>\n",
       "    <tr>\n",
       "      <th>Otras</th>\n",
       "      <td>10</td>\n",
       "    </tr>\n",
       "    <tr>\n",
       "      <th>Puente</th>\n",
       "      <td>4</td>\n",
       "    </tr>\n",
       "    <tr>\n",
       "      <th>Elevado</th>\n",
       "      <td>4</td>\n",
       "    </tr>\n",
       "    <tr>\n",
       "      <th>Bulevar</th>\n",
       "      <td>3</td>\n",
       "    </tr>\n",
       "    <tr>\n",
       "      <th>Camino vecinal</th>\n",
       "      <td>2</td>\n",
       "    </tr>\n",
       "  </tbody>\n",
       "</table>\n",
       "</div>"
      ],
      "text/plain": [
       "                count\n",
       "tipo_via             \n",
       "Carretera         866\n",
       "Calle             508\n",
       "Avenida           417\n",
       "Autopista         321\n",
       "Autovía            26\n",
       "Otras              10\n",
       "Puente              4\n",
       "Elevado             4\n",
       "Bulevar             3\n",
       "Camino vecinal      2"
      ]
     },
     "metadata": {},
     "output_type": "display_data"
    },
    {
     "name": "stdout",
     "output_type": "stream",
     "text": [
      "La columna sexo tiene los siguientes valores únicos:\n"
     ]
    },
    {
     "data": {
      "application/vnd.microsoft.datawrangler.viewer.v0+json": {
       "columns": [
        {
         "name": "sexo",
         "rawType": "object",
         "type": "string"
        },
        {
         "name": "count",
         "rawType": "int64",
         "type": "integer"
        }
       ],
       "ref": "215fb791-44c9-461c-8036-07e6c0dd2f3f",
       "rows": [
        [
         "Hombres",
         "1890"
        ],
        [
         "Mujeres",
         "260"
        ],
        [
         "No declarado",
         "11"
        ]
       ],
       "shape": {
        "columns": 1,
        "rows": 3
       }
      },
      "text/html": [
       "<div>\n",
       "<style scoped>\n",
       "    .dataframe tbody tr th:only-of-type {\n",
       "        vertical-align: middle;\n",
       "    }\n",
       "\n",
       "    .dataframe tbody tr th {\n",
       "        vertical-align: top;\n",
       "    }\n",
       "\n",
       "    .dataframe thead th {\n",
       "        text-align: right;\n",
       "    }\n",
       "</style>\n",
       "<table border=\"1\" class=\"dataframe\">\n",
       "  <thead>\n",
       "    <tr style=\"text-align: right;\">\n",
       "      <th></th>\n",
       "      <th>count</th>\n",
       "    </tr>\n",
       "    <tr>\n",
       "      <th>sexo</th>\n",
       "      <th></th>\n",
       "    </tr>\n",
       "  </thead>\n",
       "  <tbody>\n",
       "    <tr>\n",
       "      <th>Hombres</th>\n",
       "      <td>1890</td>\n",
       "    </tr>\n",
       "    <tr>\n",
       "      <th>Mujeres</th>\n",
       "      <td>260</td>\n",
       "    </tr>\n",
       "    <tr>\n",
       "      <th>No declarado</th>\n",
       "      <td>11</td>\n",
       "    </tr>\n",
       "  </tbody>\n",
       "</table>\n",
       "</div>"
      ],
      "text/plain": [
       "              count\n",
       "sexo               \n",
       "Hombres        1890\n",
       "Mujeres         260\n",
       "No declarado     11"
      ]
     },
     "metadata": {},
     "output_type": "display_data"
    },
    {
     "name": "stdout",
     "output_type": "stream",
     "text": [
      "La columna grupo_edad tiene los siguientes valores únicos:\n"
     ]
    },
    {
     "data": {
      "application/vnd.microsoft.datawrangler.viewer.v0+json": {
       "columns": [
        {
         "name": "grupo_edad",
         "rawType": "object",
         "type": "string"
        },
        {
         "name": "count",
         "rawType": "int64",
         "type": "integer"
        }
       ],
       "ref": "5cdd616b-7527-482f-a1c4-aaa9f52c4e79",
       "rows": [
        [
         "No declarada",
         "559"
        ],
        [
         "20 - 24",
         "289"
        ],
        [
         "25 - 29",
         "213"
        ],
        [
         "30 - 34",
         "181"
        ],
        [
         "15 - 19",
         "166"
        ],
        [
         "65 y más",
         "150"
        ],
        [
         "35 - 39",
         "138"
        ],
        [
         "40 - 44",
         "120"
        ],
        [
         "45 - 49",
         "99"
        ],
        [
         "55 - 59",
         "84"
        ],
        [
         "50 - 54",
         "81"
        ],
        [
         "60 - 64",
         "40"
        ],
        [
         "10 - 14",
         "17"
        ],
        [
         "5 - 9",
         "14"
        ],
        [
         "0 - 4",
         "10"
        ]
       ],
       "shape": {
        "columns": 1,
        "rows": 15
       }
      },
      "text/html": [
       "<div>\n",
       "<style scoped>\n",
       "    .dataframe tbody tr th:only-of-type {\n",
       "        vertical-align: middle;\n",
       "    }\n",
       "\n",
       "    .dataframe tbody tr th {\n",
       "        vertical-align: top;\n",
       "    }\n",
       "\n",
       "    .dataframe thead th {\n",
       "        text-align: right;\n",
       "    }\n",
       "</style>\n",
       "<table border=\"1\" class=\"dataframe\">\n",
       "  <thead>\n",
       "    <tr style=\"text-align: right;\">\n",
       "      <th></th>\n",
       "      <th>count</th>\n",
       "    </tr>\n",
       "    <tr>\n",
       "      <th>grupo_edad</th>\n",
       "      <th></th>\n",
       "    </tr>\n",
       "  </thead>\n",
       "  <tbody>\n",
       "    <tr>\n",
       "      <th>No declarada</th>\n",
       "      <td>559</td>\n",
       "    </tr>\n",
       "    <tr>\n",
       "      <th>20 - 24</th>\n",
       "      <td>289</td>\n",
       "    </tr>\n",
       "    <tr>\n",
       "      <th>25 - 29</th>\n",
       "      <td>213</td>\n",
       "    </tr>\n",
       "    <tr>\n",
       "      <th>30 - 34</th>\n",
       "      <td>181</td>\n",
       "    </tr>\n",
       "    <tr>\n",
       "      <th>15 - 19</th>\n",
       "      <td>166</td>\n",
       "    </tr>\n",
       "    <tr>\n",
       "      <th>65 y más</th>\n",
       "      <td>150</td>\n",
       "    </tr>\n",
       "    <tr>\n",
       "      <th>35 - 39</th>\n",
       "      <td>138</td>\n",
       "    </tr>\n",
       "    <tr>\n",
       "      <th>40 - 44</th>\n",
       "      <td>120</td>\n",
       "    </tr>\n",
       "    <tr>\n",
       "      <th>45 - 49</th>\n",
       "      <td>99</td>\n",
       "    </tr>\n",
       "    <tr>\n",
       "      <th>55 - 59</th>\n",
       "      <td>84</td>\n",
       "    </tr>\n",
       "    <tr>\n",
       "      <th>50 - 54</th>\n",
       "      <td>81</td>\n",
       "    </tr>\n",
       "    <tr>\n",
       "      <th>60 - 64</th>\n",
       "      <td>40</td>\n",
       "    </tr>\n",
       "    <tr>\n",
       "      <th>10 - 14</th>\n",
       "      <td>17</td>\n",
       "    </tr>\n",
       "    <tr>\n",
       "      <th>5 - 9</th>\n",
       "      <td>14</td>\n",
       "    </tr>\n",
       "    <tr>\n",
       "      <th>0 - 4</th>\n",
       "      <td>10</td>\n",
       "    </tr>\n",
       "  </tbody>\n",
       "</table>\n",
       "</div>"
      ],
      "text/plain": [
       "              count\n",
       "grupo_edad         \n",
       "No declarada    559\n",
       "20 - 24         289\n",
       "25 - 29         213\n",
       "30 - 34         181\n",
       "15 - 19         166\n",
       "65 y más        150\n",
       "35 - 39         138\n",
       "40 - 44         120\n",
       "45 - 49          99\n",
       "55 - 59          84\n",
       "50 - 54          81\n",
       "60 - 64          40\n",
       "10 - 14          17\n",
       "5 - 9            14\n",
       "0 - 4            10"
      ]
     },
     "metadata": {},
     "output_type": "display_data"
    },
    {
     "name": "stdout",
     "output_type": "stream",
     "text": [
      "La columna condicion_victima tiene los siguientes valores únicos:\n"
     ]
    },
    {
     "data": {
      "application/vnd.microsoft.datawrangler.viewer.v0+json": {
       "columns": [
        {
         "name": "condicion_victima",
         "rawType": "object",
         "type": "string"
        },
        {
         "name": "count",
         "rawType": "int64",
         "type": "integer"
        }
       ],
       "ref": "223b4b9c-cb37-4326-a0f9-4ca13aa97552",
       "rows": [
        [
         "Conductor",
         "1503"
        ],
        [
         "Pasajero",
         "357"
        ],
        [
         "Peatón",
         "282"
        ],
        [
         "No declarada",
         "19"
        ]
       ],
       "shape": {
        "columns": 1,
        "rows": 4
       }
      },
      "text/html": [
       "<div>\n",
       "<style scoped>\n",
       "    .dataframe tbody tr th:only-of-type {\n",
       "        vertical-align: middle;\n",
       "    }\n",
       "\n",
       "    .dataframe tbody tr th {\n",
       "        vertical-align: top;\n",
       "    }\n",
       "\n",
       "    .dataframe thead th {\n",
       "        text-align: right;\n",
       "    }\n",
       "</style>\n",
       "<table border=\"1\" class=\"dataframe\">\n",
       "  <thead>\n",
       "    <tr style=\"text-align: right;\">\n",
       "      <th></th>\n",
       "      <th>count</th>\n",
       "    </tr>\n",
       "    <tr>\n",
       "      <th>condicion_victima</th>\n",
       "      <th></th>\n",
       "    </tr>\n",
       "  </thead>\n",
       "  <tbody>\n",
       "    <tr>\n",
       "      <th>Conductor</th>\n",
       "      <td>1503</td>\n",
       "    </tr>\n",
       "    <tr>\n",
       "      <th>Pasajero</th>\n",
       "      <td>357</td>\n",
       "    </tr>\n",
       "    <tr>\n",
       "      <th>Peatón</th>\n",
       "      <td>282</td>\n",
       "    </tr>\n",
       "    <tr>\n",
       "      <th>No declarada</th>\n",
       "      <td>19</td>\n",
       "    </tr>\n",
       "  </tbody>\n",
       "</table>\n",
       "</div>"
      ],
      "text/plain": [
       "                   count\n",
       "condicion_victima       \n",
       "Conductor           1503\n",
       "Pasajero             357\n",
       "Peatón               282\n",
       "No declarada          19"
      ]
     },
     "metadata": {},
     "output_type": "display_data"
    },
    {
     "name": "stdout",
     "output_type": "stream",
     "text": [
      "La columna tipo_accidente tiene los siguientes valores únicos:\n"
     ]
    },
    {
     "data": {
      "application/vnd.microsoft.datawrangler.viewer.v0+json": {
       "columns": [
        {
         "name": "tipo_accidente",
         "rawType": "object",
         "type": "string"
        },
        {
         "name": "count",
         "rawType": "int64",
         "type": "integer"
        }
       ],
       "ref": "0d736084-d0d8-44a5-9639-3a7c933332c0",
       "rows": [
        [
         "Choque o colisión",
         "1330"
        ],
        [
         "Deslizamiento",
         "451"
        ],
        [
         "Atropellamiento",
         "289"
        ],
        [
         "Estrellamiento",
         "72"
        ],
        [
         "Caída",
         "10"
        ],
        [
         "Aplastamiento",
         "6"
        ],
        [
         "Vuelco o volcadura",
         "2"
        ],
        [
         "No declarado",
         "1"
        ]
       ],
       "shape": {
        "columns": 1,
        "rows": 8
       }
      },
      "text/html": [
       "<div>\n",
       "<style scoped>\n",
       "    .dataframe tbody tr th:only-of-type {\n",
       "        vertical-align: middle;\n",
       "    }\n",
       "\n",
       "    .dataframe tbody tr th {\n",
       "        vertical-align: top;\n",
       "    }\n",
       "\n",
       "    .dataframe thead th {\n",
       "        text-align: right;\n",
       "    }\n",
       "</style>\n",
       "<table border=\"1\" class=\"dataframe\">\n",
       "  <thead>\n",
       "    <tr style=\"text-align: right;\">\n",
       "      <th></th>\n",
       "      <th>count</th>\n",
       "    </tr>\n",
       "    <tr>\n",
       "      <th>tipo_accidente</th>\n",
       "      <th></th>\n",
       "    </tr>\n",
       "  </thead>\n",
       "  <tbody>\n",
       "    <tr>\n",
       "      <th>Choque o colisión</th>\n",
       "      <td>1330</td>\n",
       "    </tr>\n",
       "    <tr>\n",
       "      <th>Deslizamiento</th>\n",
       "      <td>451</td>\n",
       "    </tr>\n",
       "    <tr>\n",
       "      <th>Atropellamiento</th>\n",
       "      <td>289</td>\n",
       "    </tr>\n",
       "    <tr>\n",
       "      <th>Estrellamiento</th>\n",
       "      <td>72</td>\n",
       "    </tr>\n",
       "    <tr>\n",
       "      <th>Caída</th>\n",
       "      <td>10</td>\n",
       "    </tr>\n",
       "    <tr>\n",
       "      <th>Aplastamiento</th>\n",
       "      <td>6</td>\n",
       "    </tr>\n",
       "    <tr>\n",
       "      <th>Vuelco o volcadura</th>\n",
       "      <td>2</td>\n",
       "    </tr>\n",
       "    <tr>\n",
       "      <th>No declarado</th>\n",
       "      <td>1</td>\n",
       "    </tr>\n",
       "  </tbody>\n",
       "</table>\n",
       "</div>"
      ],
      "text/plain": [
       "                    count\n",
       "tipo_accidente           \n",
       "Choque o colisión    1330\n",
       "Deslizamiento         451\n",
       "Atropellamiento       289\n",
       "Estrellamiento         72\n",
       "Caída                  10\n",
       "Aplastamiento           6\n",
       "Vuelco o volcadura      2\n",
       "No declarado            1"
      ]
     },
     "metadata": {},
     "output_type": "display_data"
    },
    {
     "name": "stdout",
     "output_type": "stream",
     "text": [
      "La columna medio_trans tiene los siguientes valores únicos:\n"
     ]
    },
    {
     "data": {
      "application/vnd.microsoft.datawrangler.viewer.v0+json": {
       "columns": [
        {
         "name": "medio_trans",
         "rawType": "object",
         "type": "string"
        },
        {
         "name": "count",
         "rawType": "int64",
         "type": "integer"
        }
       ],
       "ref": "b73a8e49-d4ea-41ed-bcbb-053028b4e090",
       "rows": [
        [
         "Motocicleta, ciclomotor (passola)",
         "1523"
        ],
        [
         "Peatón atropellado",
         "281"
        ],
        [
         "Automóvil (carro)",
         "138"
        ],
        [
         "Yipeta, yip",
         "81"
        ],
        [
         "Camión",
         "51"
        ],
        [
         "Camioneta",
         "33"
        ],
        [
         "No declarado",
         "26"
        ],
        [
         "Autobús",
         "11"
        ],
        [
         "Bicicleta",
         "7"
        ],
        [
         "Minibús, miniván",
         "4"
        ],
        [
         "Otros",
         "2"
        ],
        [
         "Excavadora",
         "2"
        ],
        [
         "Pala mecánica",
         "1"
        ],
        [
         "Animal",
         "1"
        ]
       ],
       "shape": {
        "columns": 1,
        "rows": 14
       }
      },
      "text/html": [
       "<div>\n",
       "<style scoped>\n",
       "    .dataframe tbody tr th:only-of-type {\n",
       "        vertical-align: middle;\n",
       "    }\n",
       "\n",
       "    .dataframe tbody tr th {\n",
       "        vertical-align: top;\n",
       "    }\n",
       "\n",
       "    .dataframe thead th {\n",
       "        text-align: right;\n",
       "    }\n",
       "</style>\n",
       "<table border=\"1\" class=\"dataframe\">\n",
       "  <thead>\n",
       "    <tr style=\"text-align: right;\">\n",
       "      <th></th>\n",
       "      <th>count</th>\n",
       "    </tr>\n",
       "    <tr>\n",
       "      <th>medio_trans</th>\n",
       "      <th></th>\n",
       "    </tr>\n",
       "  </thead>\n",
       "  <tbody>\n",
       "    <tr>\n",
       "      <th>Motocicleta, ciclomotor (passola)</th>\n",
       "      <td>1523</td>\n",
       "    </tr>\n",
       "    <tr>\n",
       "      <th>Peatón atropellado</th>\n",
       "      <td>281</td>\n",
       "    </tr>\n",
       "    <tr>\n",
       "      <th>Automóvil (carro)</th>\n",
       "      <td>138</td>\n",
       "    </tr>\n",
       "    <tr>\n",
       "      <th>Yipeta, yip</th>\n",
       "      <td>81</td>\n",
       "    </tr>\n",
       "    <tr>\n",
       "      <th>Camión</th>\n",
       "      <td>51</td>\n",
       "    </tr>\n",
       "    <tr>\n",
       "      <th>Camioneta</th>\n",
       "      <td>33</td>\n",
       "    </tr>\n",
       "    <tr>\n",
       "      <th>No declarado</th>\n",
       "      <td>26</td>\n",
       "    </tr>\n",
       "    <tr>\n",
       "      <th>Autobús</th>\n",
       "      <td>11</td>\n",
       "    </tr>\n",
       "    <tr>\n",
       "      <th>Bicicleta</th>\n",
       "      <td>7</td>\n",
       "    </tr>\n",
       "    <tr>\n",
       "      <th>Minibús, miniván</th>\n",
       "      <td>4</td>\n",
       "    </tr>\n",
       "    <tr>\n",
       "      <th>Otros</th>\n",
       "      <td>2</td>\n",
       "    </tr>\n",
       "    <tr>\n",
       "      <th>Excavadora</th>\n",
       "      <td>2</td>\n",
       "    </tr>\n",
       "    <tr>\n",
       "      <th>Pala mecánica</th>\n",
       "      <td>1</td>\n",
       "    </tr>\n",
       "    <tr>\n",
       "      <th>Animal</th>\n",
       "      <td>1</td>\n",
       "    </tr>\n",
       "  </tbody>\n",
       "</table>\n",
       "</div>"
      ],
      "text/plain": [
       "                                   count\n",
       "medio_trans                             \n",
       "Motocicleta, ciclomotor (passola)   1523\n",
       "Peatón atropellado                   281\n",
       "Automóvil (carro)                    138\n",
       "Yipeta, yip                           81\n",
       "Camión                                51\n",
       "Camioneta                             33\n",
       "No declarado                          26\n",
       "Autobús                               11\n",
       "Bicicleta                              7\n",
       "Minibús, miniván                       4\n",
       "Otros                                  2\n",
       "Excavadora                             2\n",
       "Pala mecánica                          1\n",
       "Animal                                 1"
      ]
     },
     "metadata": {},
     "output_type": "display_data"
    }
   ],
   "source": [
    "f.exploracion_dataframe(df_2024)"
   ]
  },
  {
   "cell_type": "code",
   "execution_count": 124,
   "id": "d1df8424",
   "metadata": {},
   "outputs": [
    {
     "data": {
      "application/vnd.microsoft.datawrangler.viewer.v0+json": {
       "columns": [
        {
         "name": "grupo_edad",
         "rawType": "object",
         "type": "string"
        },
        {
         "name": "proportion",
         "rawType": "float64",
         "type": "float"
        }
       ],
       "ref": "75551959-bacd-4e8c-90e0-d79ec43adb51",
       "rows": [
        [
         "No declarada",
         "25.867653863951872"
        ],
        [
         "20 - 24",
         "13.373438223044886"
        ],
        [
         "25 - 29",
         "9.856547894493291"
        ],
        [
         "30 - 34",
         "8.375751966682092"
        ],
        [
         "15 - 19",
         "7.681628875520592"
        ],
        [
         "65 y más",
         "6.941230911614992"
        ],
        [
         "35 - 39",
         "6.385932438685793"
        ],
        [
         "40 - 44",
         "5.552984729291994"
        ],
        [
         "45 - 49",
         "4.581212401665895"
        ],
        [
         "55 - 59",
         "3.8870893105043964"
        ],
        [
         "50 - 54",
         "3.7482646922720964"
        ],
        [
         "60 - 64",
         "1.8509949097639982"
        ],
        [
         "10 - 14",
         "0.7866728366496992"
        ],
        [
         "5 - 9",
         "0.6478482184173994"
        ],
        [
         "0 - 4",
         "0.46274872744099954"
        ]
       ],
       "shape": {
        "columns": 1,
        "rows": 15
       }
      },
      "text/plain": [
       "grupo_edad\n",
       "No declarada   25.87\n",
       "20 - 24        13.37\n",
       "25 - 29         9.86\n",
       "30 - 34         8.38\n",
       "15 - 19         7.68\n",
       "65 y más        6.94\n",
       "35 - 39         6.39\n",
       "40 - 44         5.55\n",
       "45 - 49         4.58\n",
       "55 - 59         3.89\n",
       "50 - 54         3.75\n",
       "60 - 64         1.85\n",
       "10 - 14         0.79\n",
       "5 - 9           0.65\n",
       "0 - 4           0.46\n",
       "Name: proportion, dtype: float64"
      ]
     },
     "execution_count": 124,
     "metadata": {},
     "output_type": "execute_result"
    }
   ],
   "source": [
    "df_2024['grupo_edad'].value_counts(normalize=True) *100 # cantidad de muertes por grupo de edad"
   ]
  },
  {
   "cell_type": "code",
   "execution_count": 126,
   "id": "be6cedab",
   "metadata": {},
   "outputs": [
    {
     "data": {
      "application/vnd.microsoft.datawrangler.viewer.v0+json": {
       "columns": [
        {
         "name": "provincia",
         "rawType": "object",
         "type": "string"
        },
        {
         "name": "proportion",
         "rawType": "float64",
         "type": "float"
        }
       ],
       "ref": "74b5d3fa-11f9-4b72-95d7-8f3792041576",
       "rows": [
        [
         "Santo Domingo",
         "11.938917167977788"
        ],
        [
         "San Cristóbal",
         "8.607126330402592"
        ],
        [
         "Santiago",
         "7.9130032392410925"
        ],
        [
         "La Altagracia",
         "7.357704766311893"
        ],
        [
         "La Vega",
         "6.293382693197594"
        ],
        [
         "Distrito Nacional",
         "4.905136510874595"
        ],
        [
         "Puerto Plata",
         "3.933364183248496"
        ],
        [
         "Duarte",
         "3.7482646922720964"
        ],
        [
         "Azua",
         "3.6557149467838967"
        ],
        [
         "San Juan",
         "3.470615455807496"
        ],
        [
         "Peravia",
         "3.146691346598797"
        ],
        [
         "Monseñor Nouel",
         "3.146691346598797"
        ],
        [
         "Monte Plata",
         "3.054141601110597"
        ],
        [
         "Espaillat",
         "3.007866728366497"
        ],
        [
         "San Pedro de Macorís",
         "2.683942619157797"
        ],
        [
         "Samaná",
         "2.406293382693198"
        ],
        [
         "María Trinidad Sánchez",
         "2.360018509949098"
        ],
        [
         "La Romana",
         "2.2211938917167977"
        ],
        [
         "Sánchez Ramírez",
         "2.2211938917167977"
        ],
        [
         "Valverde",
         "2.128644146228598"
        ],
        [
         "Barahona",
         "1.6196205460434983"
        ],
        [
         "Monte Cristi",
         "1.5270708005552984"
        ],
        [
         "Hermanas Mirabal",
         "1.4345210550670986"
        ],
        [
         "Dajabón",
         "1.203146691346599"
        ],
        [
         "Baoruco",
         "1.1568718186024989"
        ],
        [
         "El Seibo",
         "1.064322073114299"
        ],
        [
         "Santiago Rodríguez",
         "0.9717723276260991"
        ],
        [
         "San José de Ocoa",
         "0.9717723276260991"
        ],
        [
         "Hato Mayor",
         "0.6941230911614993"
        ],
        [
         "Elías Piña",
         "0.5090236001850995"
        ],
        [
         "Pedernales",
         "0.5090236001850995"
        ],
        [
         "Independencia",
         "0.13882461823229986"
        ]
       ],
       "shape": {
        "columns": 1,
        "rows": 32
       }
      },
      "text/plain": [
       "provincia\n",
       "Santo Domingo            11.94\n",
       "San Cristóbal             8.61\n",
       "Santiago                  7.91\n",
       "La Altagracia             7.36\n",
       "La Vega                   6.29\n",
       "Distrito Nacional         4.91\n",
       "Puerto Plata              3.93\n",
       "Duarte                    3.75\n",
       "Azua                      3.66\n",
       "San Juan                  3.47\n",
       "Peravia                   3.15\n",
       "Monseñor Nouel            3.15\n",
       "Monte Plata               3.05\n",
       "Espaillat                 3.01\n",
       "San Pedro de Macorís      2.68\n",
       "Samaná                    2.41\n",
       "María Trinidad Sánchez    2.36\n",
       "La Romana                 2.22\n",
       "Sánchez Ramírez           2.22\n",
       "Valverde                  2.13\n",
       "Barahona                  1.62\n",
       "Monte Cristi              1.53\n",
       "Hermanas Mirabal          1.43\n",
       "Dajabón                   1.20\n",
       "Baoruco                   1.16\n",
       "El Seibo                  1.06\n",
       "Santiago Rodríguez        0.97\n",
       "San José de Ocoa          0.97\n",
       "Hato Mayor                0.69\n",
       "Elías Piña                0.51\n",
       "Pedernales                0.51\n",
       "Independencia             0.14\n",
       "Name: proportion, dtype: float64"
      ]
     },
     "execution_count": 126,
     "metadata": {},
     "output_type": "execute_result"
    }
   ],
   "source": [
    "df_2024['provincia'].value_counts(normalize=True) *100"
   ]
  },
  {
   "cell_type": "code",
   "execution_count": 127,
   "id": "75c46618",
   "metadata": {},
   "outputs": [
    {
     "data": {
      "application/vnd.microsoft.datawrangler.viewer.v0+json": {
       "columns": [
        {
         "name": "sexo",
         "rawType": "object",
         "type": "string"
        },
        {
         "name": "proportion",
         "rawType": "float64",
         "type": "float"
        }
       ],
       "ref": "00c33944-f706-4575-8801-f02511ac64ca",
       "rows": [
        [
         "Hombres",
         "0.8745950948634891"
        ],
        [
         "Mujeres",
         "0.12031466913465988"
        ],
        [
         "No declarado",
         "0.005090236001850995"
        ]
       ],
       "shape": {
        "columns": 1,
        "rows": 3
       }
      },
      "text/plain": [
       "sexo\n",
       "Hombres        0.87\n",
       "Mujeres        0.12\n",
       "No declarado   0.01\n",
       "Name: proportion, dtype: float64"
      ]
     },
     "execution_count": 127,
     "metadata": {},
     "output_type": "execute_result"
    }
   ],
   "source": [
    "df_2024['sexo'].value_counts(normalize=True)"
   ]
  },
  {
   "cell_type": "code",
   "execution_count": 128,
   "id": "f6944792",
   "metadata": {},
   "outputs": [
    {
     "data": {
      "application/vnd.microsoft.datawrangler.viewer.v0+json": {
       "columns": [
        {
         "name": "medio_trans",
         "rawType": "object",
         "type": "string"
        },
        {
         "name": "proportion",
         "rawType": "float64",
         "type": "float"
        }
       ],
       "ref": "c1de3d39-f2fb-422a-a3fe-204fc8048161",
       "rows": [
        [
         "Motocicleta, ciclomotor (passola)",
         "70.47663118926422"
        ],
        [
         "Peatón atropellado",
         "13.003239241092087"
        ],
        [
         "Automóvil (carro)",
         "6.385932438685793"
        ],
        [
         "Yipeta, yip",
         "3.7482646922720964"
        ],
        [
         "Camión",
         "2.360018509949098"
        ],
        [
         "Camioneta",
         "1.5270708005552984"
        ],
        [
         "No declarado",
         "1.203146691346599"
        ],
        [
         "Autobús",
         "0.5090236001850995"
        ],
        [
         "Bicicleta",
         "0.3239241092086997"
        ],
        [
         "Minibús, miniván",
         "0.18509949097639983"
        ],
        [
         "Otros",
         "0.09254974548819991"
        ],
        [
         "Excavadora",
         "0.09254974548819991"
        ],
        [
         "Pala mecánica",
         "0.04627487274409996"
        ],
        [
         "Animal",
         "0.04627487274409996"
        ]
       ],
       "shape": {
        "columns": 1,
        "rows": 14
       }
      },
      "text/plain": [
       "medio_trans\n",
       "Motocicleta, ciclomotor (passola)   70.48\n",
       "Peatón atropellado                  13.00\n",
       "Automóvil (carro)                    6.39\n",
       "Yipeta, yip                          3.75\n",
       "Camión                               2.36\n",
       "Camioneta                            1.53\n",
       "No declarado                         1.20\n",
       "Autobús                              0.51\n",
       "Bicicleta                            0.32\n",
       "Minibús, miniván                     0.19\n",
       "Otros                                0.09\n",
       "Excavadora                           0.09\n",
       "Pala mecánica                        0.05\n",
       "Animal                               0.05\n",
       "Name: proportion, dtype: float64"
      ]
     },
     "execution_count": 128,
     "metadata": {},
     "output_type": "execute_result"
    }
   ],
   "source": [
    "df_2024['medio_trans'].value_counts(normalize=True) *100"
   ]
  },
  {
   "cell_type": "code",
   "execution_count": 129,
   "id": "91a35a49",
   "metadata": {},
   "outputs": [
    {
     "data": {
      "application/vnd.microsoft.datawrangler.viewer.v0+json": {
       "columns": [
        {
         "name": "region",
         "rawType": "object",
         "type": "string"
        },
        {
         "name": "proportion",
         "rawType": "float64",
         "type": "float"
        }
       ],
       "ref": "0f29b4a6-af40-4a7d-b728-d712e87f8448",
       "rows": [
        [
         "Región Ozama",
         "16.844053678852383"
        ],
        [
         "Región Cibao Norte",
         "14.854234150856085"
        ],
        [
         "Región Valdesia",
         "12.725590004627488"
        ],
        [
         "Región Cibao Sur",
         "11.661267931513189"
        ],
        [
         "Región Yuma",
         "10.64322073114299"
        ],
        [
         "Región Cibao Nordeste",
         "9.94909763998149"
        ],
        [
         "Región El Valle",
         "7.635354002776492"
        ],
        [
         "Región Higuamo",
         "6.432207311429893"
        ],
        [
         "Región Cibao Noroeste",
         "5.830633965756594"
        ],
        [
         "Región Enriquillo",
         "3.424340583063397"
        ]
       ],
       "shape": {
        "columns": 1,
        "rows": 10
       }
      },
      "text/plain": [
       "region\n",
       "Región Ozama            16.84\n",
       "Región Cibao Norte      14.85\n",
       "Región Valdesia         12.73\n",
       "Región Cibao Sur        11.66\n",
       "Región Yuma             10.64\n",
       "Región Cibao Nordeste    9.95\n",
       "Región El Valle          7.64\n",
       "Región Higuamo           6.43\n",
       "Región Cibao Noroeste    5.83\n",
       "Región Enriquillo        3.42\n",
       "Name: proportion, dtype: float64"
      ]
     },
     "execution_count": 129,
     "metadata": {},
     "output_type": "execute_result"
    }
   ],
   "source": [
    "df_2024['region'].value_counts(normalize=True) *100 # cantidad de muertes por grupo de edad"
   ]
  },
  {
   "cell_type": "code",
   "execution_count": null,
   "id": "299a5b08",
   "metadata": {},
   "outputs": [],
   "source": []
  }
 ],
 "metadata": {
  "kernelspec": {
   "display_name": "Python 3",
   "language": "python",
   "name": "python3"
  },
  "language_info": {
   "codemirror_mode": {
    "name": "ipython",
    "version": 3
   },
   "file_extension": ".py",
   "mimetype": "text/x-python",
   "name": "python",
   "nbconvert_exporter": "python",
   "pygments_lexer": "ipython3",
   "version": "3.11.9"
  }
 },
 "nbformat": 4,
 "nbformat_minor": 5
}
