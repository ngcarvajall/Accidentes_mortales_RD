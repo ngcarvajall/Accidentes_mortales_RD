{
 "cells": [
  {
   "cell_type": "markdown",
   "metadata": {},
   "source": [
    "# Notebook #1: Extracción: extracción web de los datos"
   ]
  },
  {
   "cell_type": "code",
   "execution_count": 1,
   "metadata": {},
   "outputs": [],
   "source": [
    "# Importamos las librerías que necesitamos\n",
    "\n",
    "# Librerías de extracción de datos\n",
    "# -----------------------------------------------------------------------\n",
    "\n",
    "%load_ext autoreload\n",
    "%autoreload 2\n",
    "\n",
    "# Visualizaciones\n",
    "# -----------------------------------------------------------------------\n",
    "import seaborn as sns\n",
    "import matplotlib.pyplot as plt\n",
    "import plotly_express as px\n",
    "\n",
    "import sys\n",
    "sys.path.append('../..')\n",
    "from src import funciones as f\n",
    "from src import soporte_prep as sp\n",
    "\n",
    "# Importaciones:\n",
    "# Beautifulsoup\n",
    "from bs4 import BeautifulSoup\n",
    "\n",
    "# Requests\n",
    "import requests\n",
    "\n",
    "import pandas as pd\n",
    "import numpy as np\n",
    "\n",
    "from time import sleep\n",
    "\n",
    "# Importar librerías para automatización de navegadores web con Selenium\n",
    "# -----------------------------------------------------------------------\n",
    "from selenium import webdriver  # Selenium es una herramienta para automatizar la interacción con navegadores web.\n",
    "from webdriver_manager.chrome import ChromeDriverManager  # ChromeDriverManager gestiona la instalación del controlador de Chrome.\n",
    "from selenium.webdriver.common.keys import Keys  # Keys es útil para simular eventos de teclado en Selenium.\n",
    "from selenium.webdriver.support.ui import Select  # Select se utiliza para interactuar con elementos <select> en páginas web.\n",
    "from selenium.webdriver.support.ui import WebDriverWait\n",
    "from selenium.webdriver.support import expected_conditions as EC\n",
    "from selenium.common.exceptions import NoSuchElementException # Excepciones comunes de selenium que nos podemos encontrar \n",
    "\n",
    "import warnings\n",
    "warnings.filterwarnings('ignore')\n",
    "pd.options.display.float_format = '{:.2f}'.format\n",
    "pd.set_option('display.max_columns', None)"
   ]
  },
  {
   "cell_type": "code",
   "execution_count": 2,
   "metadata": {},
   "outputs": [],
   "source": [
    "driver = webdriver.Chrome()\n",
    "url_accidentes = \"https://www.one.gob.do/datos-y-estadisticas/\"\n",
    "driver.get(url_accidentes)\n",
    "driver.maximize_window()\n",
    "\n",
    "sleep(1)  # Esperar un segundo entre cada scroll\n",
    "\n",
    "try: \n",
    "    driver.find_element(\"xpath\", '/html/body/div[7]/section/div/ul/li[2]/a').click()\n",
    "except:\n",
    "    print('No encuentro el botón')\n",
    "\n",
    "sleep(2)\n",
    "\n",
    "for i in range(2):\n",
    "    try:\n",
    "        driver.execute_script(\"window.scrollBy(0, 500);\")  # Desplazarse 1000 píxeles hacia abajo\n",
    "    except:\n",
    "        print('No he podido descender')\n",
    "\n",
    "try: \n",
    "    driver.find_element(\"xpath\", '/html/body/div[7]/section/div/div[3]/div[2]/div/div[2]/div[2]/div/div/div[2]/header/div[2]').click()\n",
    "except:\n",
    "    print('No encuentro el botón para ampliar')\n",
    "sleep(2)\n",
    "try: \n",
    "    driver.find_element(\"xpath\", '/html/body/div[7]/section/div/div[3]/div[2]/div/div[2]/div[2]/div/div/div[2]/div/header/div[1]').click()\n",
    "except:\n",
    "    print('No encuentro el botón para abrir pestañas')\n",
    "sleep(2)\n",
    "try:\n",
    "    driver.execute_script(\"window.scrollBy(0, 700);\")\n",
    "except:\n",
    "    print('No he podido descender')\n",
    "\n",
    "try: \n",
    "    driver.find_element(\"xpath\", '/html/body/div[7]/section/div/div[3]/div[2]/div/div[2]/div[2]/div/div/div[2]/div/div/div/div/div[2]/div/table/tbody/tr[6]/td/a').click()\n",
    "except:\n",
    "    print('No encuentro el botón para descargar') #descargo el libro de códigos de accidentes de tráfico, lasdefunciones\n",
    "\n",
    "try:\n",
    "    driver.execute_script(\"window.scrollBy(0, 500);\")\n",
    "except:\n",
    "    print('No he podido descender')\n",
    "\n",
    "try: \n",
    "    driver.find_element(\"xpath\", '/html/body/div[7]/section/div/div[3]/div[2]/div/div[2]/div[2]/div/div/div[2]/div/div/div/div/div[2]/div/table/tbody/tr[17]/td/a').click()\n",
    "except:\n",
    "    print('No encuentro el botón para descargar') #descargo las defunciones por accidentes de tráfico"
   ]
  },
  {
   "cell_type": "markdown",
   "metadata": {},
   "source": [
    "## Tablas secundarias"
   ]
  },
  {
   "cell_type": "code",
   "execution_count": 3,
   "metadata": {},
   "outputs": [],
   "source": [
    "driver = webdriver.Chrome()\n",
    "url_defunciones = \"file:///C:/Users/DELL/Downloads/Libro%20de%20c%C3%B3digos%20de%20defunciones%20en%20accidentes%20de%20tr%C3%A1nsito%202007_2023.htm\"\n",
    "driver.get(url_defunciones)\n",
    "driver.maximize_window()\n",
    "\n",
    "sleep(1)  # Esperar un segundo entre cada scroll"
   ]
  },
  {
   "cell_type": "code",
   "execution_count": 4,
   "metadata": {},
   "outputs": [
    {
     "name": "stdout",
     "output_type": "stream",
     "text": [
      "Se generaron 21 DataFrames.\n"
     ]
    }
   ],
   "source": [
    "sopa_defunciones = BeautifulSoup(driver.page_source)\n",
    "lista_tablas = sopa_defunciones.findAll('div', {'class': 'itemBody'})\n",
    "\n",
    "dataframes = []\n",
    "\n",
    "for i, tabla in enumerate(lista_tablas):\n",
    "    rows = tabla.find_all('tr')\n",
    "\n",
    "    data = []\n",
    "    for row in rows:\n",
    "        cells = row.find_all('td')\n",
    "        data.append([cell.get_text(strip=True) for cell in cells if cell.get_text(strip=True)])\n",
    "\n",
    "    df = pd.DataFrame(data)\n",
    "\n",
    "    dataframes.append(df)\n",
    "\n",
    "print(f\"Se generaron {len(dataframes)} DataFrames.\")"
   ]
  },
  {
   "cell_type": "code",
   "execution_count": 5,
   "metadata": {},
   "outputs": [],
   "source": [
    "df_region = dataframes[1]\n",
    "df_provincia = dataframes[2]\n",
    "df_diasem = dataframes[3]\n",
    "df_mes = dataframes[4]\n",
    "df_rhora = dataframes[6]\n",
    "df_tipovia = dataframes[7]\n",
    "df_genero = dataframes[8]\n",
    "df_gedad = dataframes[9]\n",
    "df_victima = dataframes[10]\n",
    "df_accidente = dataframes[11]\n",
    "df_mediot = dataframes[12]"
   ]
  },
  {
   "cell_type": "code",
   "execution_count": 6,
   "metadata": {},
   "outputs": [],
   "source": [
    "dataframes_list = [\n",
    "    df_region, df_provincia, df_diasem, df_mes, df_rhora,\n",
    "    df_tipovia, df_genero, df_gedad, df_victima, df_accidente,\n",
    "    df_mediot\n",
    "]\n",
    "\n",
    "for i, df in enumerate(dataframes_list):\n",
    "    # me quedo con las filas a partir de la fila 3 porque así me quedo solo con el contenido\n",
    "    df = df.iloc[3:]\n",
    "    \n",
    "    # coloco el primer valor en su lugar, ya que viene en la columna equivocada\n",
    "    df.iloc[0, 1] = df.iloc[0, 2]\n",
    "    df.iloc[0,0] = 1\n",
    "    \n",
    "    # me quedo solo la primera columna\n",
    "    df = df[[0,1]]\n",
    "    df = df[:-1]\n",
    "    df.columns = ['Valor', 'Significado']\n",
    "    df['Valor'] = df['Valor'].astype('int64')\n",
    "\n",
    "    # reinicio el índice\n",
    "    df.reset_index(drop=True, inplace=True)\n",
    "    \n",
    "    # guardo el df transformado de nuevo en la lista\n",
    "    dataframes_list[i] = df\n",
    "\n",
    "# Asignar los DataFrames de vuelta a sus variables\n",
    "df_region, df_provincia, df_diasem, df_mes, df_rhora, \\\n",
    "df_tipovia, df_genero, df_gedad, df_victima, df_accidente, \\\n",
    "df_mediot = dataframes_list"
   ]
  },
  {
   "cell_type": "code",
   "execution_count": 8,
   "metadata": {},
   "outputs": [],
   "source": [
    "dataframes = [\n",
    "    (df_diasem, 'df_diasem.csv'),\n",
    "    (df_mes, 'df_mes.csv'),\n",
    "    (df_rhora, 'df_rhora.csv'),\n",
    "    (df_region, 'df_region.csv'),\n",
    "    (df_provincia, 'df_provincia.csv'),\n",
    "    (df_tipovia, 'df_tipovia.csv'),\n",
    "    (df_accidente, 'df_accidente.csv'),\n",
    "    (df_mediot, 'df_mediot.csv'),\n",
    "    (df_genero, 'df_genero.csv'),\n",
    "    (df_gedad, 'df_gedad.csv'),\n",
    "    (df_victima, 'df_victima.csv')\n",
    "]\n",
    "\n",
    "for df, filename in dataframes:\n",
    "    df.to_csv(f'../../Datos/datos_defunciones/{filename}')\n"
   ]
  },
  {
   "cell_type": "code",
   "execution_count": null,
   "metadata": {},
   "outputs": [],
   "source": []
  }
 ],
 "metadata": {
  "kernelspec": {
   "display_name": "Python 3",
   "language": "python",
   "name": "python3"
  },
  "language_info": {
   "codemirror_mode": {
    "name": "ipython",
    "version": 3
   },
   "file_extension": ".py",
   "mimetype": "text/x-python",
   "name": "python",
   "nbconvert_exporter": "python",
   "pygments_lexer": "ipython3",
   "version": "3.11.9"
  }
 },
 "nbformat": 4,
 "nbformat_minor": 2
}
