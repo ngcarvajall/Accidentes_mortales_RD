{
 "cells": [
  {
   "cell_type": "markdown",
   "metadata": {},
   "source": [
    "# Notebook #3: Carga: creación de Base de Datos SQL"
   ]
  },
  {
   "cell_type": "code",
   "execution_count": 1,
   "metadata": {},
   "outputs": [],
   "source": [
    "%load_ext autoreload\n",
    "%autoreload 2\n",
    "\n",
    "# Librerías para tratamiento de datos\n",
    "\n",
    "import pandas as pd\n",
    "pd.set_option('display.max_columns', None) # Parámetro que modifica la visualización de los DFs\n",
    "\n",
    "# Librería para el acceso a variables y funciones\n",
    "import sys\n",
    "sys.path.append(\"../../\")\n",
    "from src import soporte_funciones_BBDD as sfbd #Archivo .py donde encontraremos todas nuestras funciones.\n",
    "from src import soporte_variables_defunciones as svd\n",
    "\n",
    "# Librería para trabajar con bases de datos SQL\n",
    "import psycopg2\n",
    "from psycopg2 import OperationalError, errorcodes, errors\n",
    "\n",
    "# Librería para ignorar avisos\n",
    "import warnings\n",
    "warnings.filterwarnings(\"ignore\") # Ignora TODOS los avisos"
   ]
  },
  {
   "cell_type": "markdown",
   "metadata": {},
   "source": [
    "## Crear tuplas"
   ]
  },
  {
   "cell_type": "code",
   "execution_count": 2,
   "metadata": {},
   "outputs": [],
   "source": [
    "rutas = [\"../../Datos/datos_defunciones/df_accidente.csv\", # aqui meto los csv que voy a cargar, rutas\n",
    "\"../../Datos/datos_defunciones/df_diasem.csv\",\n",
    "\"../../Datos/datos_defunciones/df_gedad.csv\",\n",
    "\"../../Datos/datos_defunciones/df_genero.csv\", \n",
    "\"../../Datos/datos_defunciones/df_codificada.csv\", \n",
    "\"../../Datos/datos_defunciones/df_mediot.csv\", \n",
    "\"../../Datos/datos_defunciones/df_mes.csv\", \n",
    "\"../../Datos/datos_defunciones/df_provincia.csv\",\n",
    "\"../../Datos/datos_defunciones/df_region.csv\", \n",
    "\"../../Datos/datos_defunciones/df_rhora.csv\", \n",
    "\"../../Datos/datos_defunciones/df_tipovia.csv\", \n",
    "\"../../Datos/datos_defunciones/df_victima.csv\"]\n",
    "\n",
    "lista_accidente, lista_diasem, lista_gedad, lista_genero, lista_codificada, lista_mediot, lista_mes, lista_provincia, lista_region, lista_rhora, lista_tipovia, lista_victima = sfbd.csvs_a_tuplas(rutas)"
   ]
  },
  {
   "cell_type": "markdown",
   "metadata": {},
   "source": [
    "## Creación de tablas"
   ]
  },
  {
   "cell_type": "markdown",
   "metadata": {},
   "source": [
    "Primero la base de datos"
   ]
  },
  {
   "cell_type": "code",
   "execution_count": 3,
   "metadata": {},
   "outputs": [
    {
     "name": "stdout",
     "output_type": "stream",
     "text": [
      "postgres\n",
      "admin\n",
      "La base de datos ya existe\n"
     ]
    }
   ],
   "source": [
    "sfbd.dbeaver_crear_db(\"proyecto_final\") # crear la base de datos"
   ]
  },
  {
   "cell_type": "code",
   "execution_count": 4,
   "metadata": {},
   "outputs": [
    {
     "name": "stdout",
     "output_type": "stream",
     "text": [
      "Commit realizado\n"
     ]
    }
   ],
   "source": [
    "sfbd.dbeaver_commit(sfbd.dbeaver_conexion(\"proyecto_final\"),svd.query_creacion_provincia)"
   ]
  },
  {
   "cell_type": "code",
   "execution_count": 5,
   "metadata": {},
   "outputs": [
    {
     "name": "stdout",
     "output_type": "stream",
     "text": [
      "Commit realizado\n"
     ]
    }
   ],
   "source": [
    "sfbd.dbeaver_commit(sfbd.dbeaver_conexion(\"proyecto_final\"),svd.query_creacion_dia_sem)"
   ]
  },
  {
   "cell_type": "code",
   "execution_count": 6,
   "metadata": {},
   "outputs": [
    {
     "name": "stdout",
     "output_type": "stream",
     "text": [
      "Commit realizado\n"
     ]
    }
   ],
   "source": [
    "sfbd.dbeaver_commit(sfbd.dbeaver_conexion(\"proyecto_final\"),svd.query_creacion_region)"
   ]
  },
  {
   "cell_type": "code",
   "execution_count": 7,
   "metadata": {},
   "outputs": [
    {
     "name": "stdout",
     "output_type": "stream",
     "text": [
      "Commit realizado\n"
     ]
    }
   ],
   "source": [
    "sfbd.dbeaver_commit(sfbd.dbeaver_conexion(\"proyecto_final\"),svd.query_creacion_mes)"
   ]
  },
  {
   "cell_type": "code",
   "execution_count": 8,
   "metadata": {},
   "outputs": [
    {
     "name": "stdout",
     "output_type": "stream",
     "text": [
      "Commit realizado\n"
     ]
    }
   ],
   "source": [
    "sfbd.dbeaver_commit(sfbd.dbeaver_conexion(\"proyecto_final\"),svd.query_creacion_rhora)"
   ]
  },
  {
   "cell_type": "code",
   "execution_count": 9,
   "metadata": {},
   "outputs": [
    {
     "name": "stdout",
     "output_type": "stream",
     "text": [
      "Commit realizado\n"
     ]
    }
   ],
   "source": [
    "sfbd.dbeaver_commit(sfbd.dbeaver_conexion(\"proyecto_final\"),svd.query_creacion_tvia)"
   ]
  },
  {
   "cell_type": "code",
   "execution_count": 10,
   "metadata": {},
   "outputs": [
    {
     "name": "stdout",
     "output_type": "stream",
     "text": [
      "Commit realizado\n"
     ]
    }
   ],
   "source": [
    "sfbd.dbeaver_commit(sfbd.dbeaver_conexion(\"proyecto_final\"),svd.query_creacion_sexo)"
   ]
  },
  {
   "cell_type": "code",
   "execution_count": 11,
   "metadata": {},
   "outputs": [
    {
     "name": "stdout",
     "output_type": "stream",
     "text": [
      "Commit realizado\n"
     ]
    }
   ],
   "source": [
    "sfbd.dbeaver_commit(sfbd.dbeaver_conexion(\"proyecto_final\"),svd.query_creacion_gedad)"
   ]
  },
  {
   "cell_type": "code",
   "execution_count": 12,
   "metadata": {},
   "outputs": [
    {
     "name": "stdout",
     "output_type": "stream",
     "text": [
      "Commit realizado\n"
     ]
    }
   ],
   "source": [
    "sfbd.dbeaver_commit(sfbd.dbeaver_conexion(\"proyecto_final\"),svd.query_creacion_condivictima)"
   ]
  },
  {
   "cell_type": "code",
   "execution_count": 13,
   "metadata": {},
   "outputs": [
    {
     "name": "stdout",
     "output_type": "stream",
     "text": [
      "Commit realizado\n"
     ]
    }
   ],
   "source": [
    "sfbd.dbeaver_commit(sfbd.dbeaver_conexion(\"proyecto_final\"),svd.query_creacion_tipo_accidente)"
   ]
  },
  {
   "cell_type": "code",
   "execution_count": 14,
   "metadata": {},
   "outputs": [
    {
     "name": "stdout",
     "output_type": "stream",
     "text": [
      "Commit realizado\n"
     ]
    }
   ],
   "source": [
    "sfbd.dbeaver_commit(sfbd.dbeaver_conexion(\"proyecto_final\"),svd.query_creacion_mediot)"
   ]
  },
  {
   "cell_type": "code",
   "execution_count": 15,
   "metadata": {},
   "outputs": [
    {
     "name": "stdout",
     "output_type": "stream",
     "text": [
      "Commit realizado\n"
     ]
    }
   ],
   "source": [
    "sfbd.dbeaver_commit(sfbd.dbeaver_conexion(\"proyecto_final\"),svd.query_creacion_defunciones)"
   ]
  },
  {
   "cell_type": "markdown",
   "metadata": {},
   "source": [
    "## Inserciones"
   ]
  },
  {
   "cell_type": "code",
   "execution_count": 16,
   "metadata": {},
   "outputs": [
    {
     "name": "stdout",
     "output_type": "stream",
     "text": [
      "Commit realizado\n"
     ]
    }
   ],
   "source": [
    "sfbd.dbeaver_commitmany(sfbd.dbeaver_conexion(\"proyecto_final\"),svd.query_inser_region,lista_region)"
   ]
  },
  {
   "cell_type": "code",
   "execution_count": 17,
   "metadata": {},
   "outputs": [
    {
     "name": "stdout",
     "output_type": "stream",
     "text": [
      "Commit realizado\n"
     ]
    }
   ],
   "source": [
    "sfbd.dbeaver_commitmany(sfbd.dbeaver_conexion(\"proyecto_final\"),svd.query_inser_provincia,lista_provincia)"
   ]
  },
  {
   "cell_type": "code",
   "execution_count": 18,
   "metadata": {},
   "outputs": [
    {
     "name": "stdout",
     "output_type": "stream",
     "text": [
      "Commit realizado\n"
     ]
    }
   ],
   "source": [
    "sfbd.dbeaver_commitmany(sfbd.dbeaver_conexion(\"proyecto_final\"),svd.query_inser_dia_semana,lista_diasem)"
   ]
  },
  {
   "cell_type": "code",
   "execution_count": 19,
   "metadata": {},
   "outputs": [
    {
     "name": "stdout",
     "output_type": "stream",
     "text": [
      "Commit realizado\n"
     ]
    }
   ],
   "source": [
    "sfbd.dbeaver_commitmany(sfbd.dbeaver_conexion(\"proyecto_final\"),svd.query_inser_mes,lista_mes)"
   ]
  },
  {
   "cell_type": "code",
   "execution_count": 20,
   "metadata": {},
   "outputs": [
    {
     "name": "stdout",
     "output_type": "stream",
     "text": [
      "Commit realizado\n"
     ]
    }
   ],
   "source": [
    "sfbd.dbeaver_commitmany(sfbd.dbeaver_conexion(\"proyecto_final\"),svd.query_inser_rango_hora,lista_rhora)"
   ]
  },
  {
   "cell_type": "code",
   "execution_count": 21,
   "metadata": {},
   "outputs": [
    {
     "name": "stdout",
     "output_type": "stream",
     "text": [
      "Commit realizado\n"
     ]
    }
   ],
   "source": [
    "sfbd.dbeaver_commitmany(sfbd.dbeaver_conexion(\"proyecto_final\"),svd.query_inser_tipo_via,lista_tipovia)"
   ]
  },
  {
   "cell_type": "code",
   "execution_count": 22,
   "metadata": {},
   "outputs": [
    {
     "name": "stdout",
     "output_type": "stream",
     "text": [
      "Commit realizado\n"
     ]
    }
   ],
   "source": [
    "sfbd.dbeaver_commitmany(sfbd.dbeaver_conexion(\"proyecto_final\"),svd.query_inser_sexo,lista_genero)"
   ]
  },
  {
   "cell_type": "code",
   "execution_count": 23,
   "metadata": {},
   "outputs": [
    {
     "name": "stdout",
     "output_type": "stream",
     "text": [
      "Commit realizado\n"
     ]
    }
   ],
   "source": [
    "sfbd.dbeaver_commitmany(sfbd.dbeaver_conexion(\"proyecto_final\"),svd.query_inser_grupo_edad,lista_gedad)"
   ]
  },
  {
   "cell_type": "code",
   "execution_count": 24,
   "metadata": {},
   "outputs": [
    {
     "name": "stdout",
     "output_type": "stream",
     "text": [
      "Commit realizado\n"
     ]
    }
   ],
   "source": [
    "sfbd.dbeaver_commitmany(sfbd.dbeaver_conexion(\"proyecto_final\"),svd.query_inser_condicion_victima,lista_victima)"
   ]
  },
  {
   "cell_type": "code",
   "execution_count": 25,
   "metadata": {},
   "outputs": [
    {
     "name": "stdout",
     "output_type": "stream",
     "text": [
      "Commit realizado\n"
     ]
    }
   ],
   "source": [
    "sfbd.dbeaver_commitmany(sfbd.dbeaver_conexion(\"proyecto_final\"),svd.query_inser_tipo_accidente,lista_accidente)"
   ]
  },
  {
   "cell_type": "code",
   "execution_count": 26,
   "metadata": {},
   "outputs": [
    {
     "name": "stdout",
     "output_type": "stream",
     "text": [
      "Commit realizado\n"
     ]
    }
   ],
   "source": [
    "sfbd.dbeaver_commitmany(sfbd.dbeaver_conexion(\"proyecto_final\"),svd.query_inser_mediot,lista_mediot)"
   ]
  },
  {
   "cell_type": "code",
   "execution_count": 27,
   "metadata": {},
   "outputs": [
    {
     "name": "stdout",
     "output_type": "stream",
     "text": [
      "Commit realizado\n"
     ]
    }
   ],
   "source": [
    "sfbd.dbeaver_commitmany(sfbd.dbeaver_conexion(\"proyecto_final\"),svd.query_inser_defunciones,lista_codificada)"
   ]
  }
 ],
 "metadata": {
  "kernelspec": {
   "display_name": "Python 3",
   "language": "python",
   "name": "python3"
  },
  "language_info": {
   "codemirror_mode": {
    "name": "ipython",
    "version": 3
   },
   "file_extension": ".py",
   "mimetype": "text/x-python",
   "name": "python",
   "nbconvert_exporter": "python",
   "pygments_lexer": "ipython3",
   "version": "3.11.9"
  }
 },
 "nbformat": 4,
 "nbformat_minor": 2
}
