{
 "cells": [
  {
   "cell_type": "markdown",
   "metadata": {},
   "source": [
    "# Notebook #4: EDA: exploración de los datos"
   ]
  },
  {
   "cell_type": "code",
   "execution_count": 1,
   "metadata": {},
   "outputs": [],
   "source": [
    "# Importamos las librerías que necesitamos\n",
    "\n",
    "# Librerías de extracción de datos\n",
    "# -----------------------------------------------------------------------\n",
    "\n",
    "%load_ext autoreload\n",
    "%autoreload 2\n",
    "\n",
    "# Visualizaciones\n",
    "# -----------------------------------------------------------------------\n",
    "import seaborn as sns\n",
    "import matplotlib.pyplot as plt\n",
    "import plotly_express as px\n",
    "\n",
    "import sys\n",
    "sys.path.append('../..')\n",
    "from src import funciones as f\n",
    "from src import soporte_prep as sp\n",
    "\n",
    "import pandas as pd\n",
    "import numpy as np\n",
    "\n",
    "\n",
    "import warnings\n",
    "warnings.filterwarnings('ignore')\n",
    "pd.options.display.float_format = '{:.2f}'.format\n",
    "pd.set_option('display.max_columns', None)"
   ]
  },
  {
   "cell_type": "code",
   "execution_count": 2,
   "metadata": {},
   "outputs": [],
   "source": [
    "df_descodificada = pd.read_csv('../../Datos/datos_defunciones/df_descodificada.csv', index_col=0)"
   ]
  },
  {
   "cell_type": "code",
   "execution_count": 3,
   "metadata": {},
   "outputs": [],
   "source": [
    "df_descodificada['fecha'] = pd.to_datetime(df_descodificada['fecha'])"
   ]
  },
  {
   "cell_type": "code",
   "execution_count": 4,
   "metadata": {},
   "outputs": [
    {
     "data": {
      "application/vnd.microsoft.datawrangler.viewer.v0+json": {
       "columns": [
        {
         "name": "index",
         "rawType": "int64",
         "type": "integer"
        },
        {
         "name": "fecha",
         "rawType": "datetime64[ns]",
         "type": "datetime"
        },
        {
         "name": "region",
         "rawType": "object",
         "type": "string"
        },
        {
         "name": "provincia",
         "rawType": "object",
         "type": "string"
        },
        {
         "name": "dia_semana",
         "rawType": "object",
         "type": "string"
        },
        {
         "name": "mes",
         "rawType": "object",
         "type": "string"
        },
        {
         "name": "anio",
         "rawType": "int64",
         "type": "integer"
        },
        {
         "name": "rango_hora",
         "rawType": "object",
         "type": "string"
        },
        {
         "name": "tipo_via",
         "rawType": "object",
         "type": "string"
        },
        {
         "name": "sexo",
         "rawType": "object",
         "type": "string"
        },
        {
         "name": "grupo_edad",
         "rawType": "object",
         "type": "string"
        },
        {
         "name": "condicion_victima",
         "rawType": "object",
         "type": "string"
        },
        {
         "name": "tipo_accidente",
         "rawType": "object",
         "type": "string"
        },
        {
         "name": "medio_trans",
         "rawType": "object",
         "type": "string"
        }
       ],
       "ref": "a3d0f3ec-0596-4662-81e2-2f329e649a0c",
       "rows": [
        [
         "0",
         "2007-01-28 00:00:00",
         "Región Cibao Norte",
         "Espaillat",
         "Sábado",
         "Enero",
         "2007",
         "18:01-20:00",
         "No declarada",
         "Hombres",
         "20-24",
         "No declarada",
         "Choque o colisión",
         "Motocicleta, ciclomotor (passola)"
        ],
        [
         "1",
         "2007-01-28 00:00:00",
         "Región Cibao Norte",
         "Espaillat",
         "Domingo",
         "Enero",
         "2007",
         "00:01-02:00",
         "Carretera",
         "Hombres",
         "55-59",
         "No declarada",
         "Choque o colisión",
         "Motocicleta, ciclomotor (passola)"
        ],
        [
         "2",
         "2007-02-28 00:00:00",
         "Región Cibao Norte",
         "Espaillat",
         "Jueves",
         "Febrero",
         "2007",
         "20:01-22:00",
         "Carretera",
         "Hombres",
         "15-19",
         "No declarada",
         "Choque o colisión",
         "Motocicleta, ciclomotor (passola)"
        ],
        [
         "3",
         "2007-02-28 00:00:00",
         "Región Cibao Norte",
         "Espaillat",
         "Lunes",
         "Febrero",
         "2007",
         "10:01-12:00",
         "No declarada",
         "Hombres",
         "0-4",
         "No declarada",
         "Atropellamiento",
         "Peatón atropellado"
        ],
        [
         "4",
         "2007-03-28 00:00:00",
         "Región Cibao Norte",
         "Espaillat",
         "Jueves",
         "Marzo",
         "2007",
         "18:01-20:00",
         "Carretera",
         "Hombres",
         "20-24",
         "No declarada",
         "Choque o colisión",
         "Motocicleta, ciclomotor (passola)"
        ]
       ],
       "shape": {
        "columns": 13,
        "rows": 5
       }
      },
      "text/html": [
       "<div>\n",
       "<style scoped>\n",
       "    .dataframe tbody tr th:only-of-type {\n",
       "        vertical-align: middle;\n",
       "    }\n",
       "\n",
       "    .dataframe tbody tr th {\n",
       "        vertical-align: top;\n",
       "    }\n",
       "\n",
       "    .dataframe thead th {\n",
       "        text-align: right;\n",
       "    }\n",
       "</style>\n",
       "<table border=\"1\" class=\"dataframe\">\n",
       "  <thead>\n",
       "    <tr style=\"text-align: right;\">\n",
       "      <th></th>\n",
       "      <th>fecha</th>\n",
       "      <th>region</th>\n",
       "      <th>provincia</th>\n",
       "      <th>dia_semana</th>\n",
       "      <th>mes</th>\n",
       "      <th>anio</th>\n",
       "      <th>rango_hora</th>\n",
       "      <th>tipo_via</th>\n",
       "      <th>sexo</th>\n",
       "      <th>grupo_edad</th>\n",
       "      <th>condicion_victima</th>\n",
       "      <th>tipo_accidente</th>\n",
       "      <th>medio_trans</th>\n",
       "    </tr>\n",
       "  </thead>\n",
       "  <tbody>\n",
       "    <tr>\n",
       "      <th>0</th>\n",
       "      <td>2007-01-28</td>\n",
       "      <td>Región Cibao Norte</td>\n",
       "      <td>Espaillat</td>\n",
       "      <td>Sábado</td>\n",
       "      <td>Enero</td>\n",
       "      <td>2007</td>\n",
       "      <td>18:01-20:00</td>\n",
       "      <td>No declarada</td>\n",
       "      <td>Hombres</td>\n",
       "      <td>20-24</td>\n",
       "      <td>No declarada</td>\n",
       "      <td>Choque o colisión</td>\n",
       "      <td>Motocicleta, ciclomotor (passola)</td>\n",
       "    </tr>\n",
       "    <tr>\n",
       "      <th>1</th>\n",
       "      <td>2007-01-28</td>\n",
       "      <td>Región Cibao Norte</td>\n",
       "      <td>Espaillat</td>\n",
       "      <td>Domingo</td>\n",
       "      <td>Enero</td>\n",
       "      <td>2007</td>\n",
       "      <td>00:01-02:00</td>\n",
       "      <td>Carretera</td>\n",
       "      <td>Hombres</td>\n",
       "      <td>55-59</td>\n",
       "      <td>No declarada</td>\n",
       "      <td>Choque o colisión</td>\n",
       "      <td>Motocicleta, ciclomotor (passola)</td>\n",
       "    </tr>\n",
       "    <tr>\n",
       "      <th>2</th>\n",
       "      <td>2007-02-28</td>\n",
       "      <td>Región Cibao Norte</td>\n",
       "      <td>Espaillat</td>\n",
       "      <td>Jueves</td>\n",
       "      <td>Febrero</td>\n",
       "      <td>2007</td>\n",
       "      <td>20:01-22:00</td>\n",
       "      <td>Carretera</td>\n",
       "      <td>Hombres</td>\n",
       "      <td>15-19</td>\n",
       "      <td>No declarada</td>\n",
       "      <td>Choque o colisión</td>\n",
       "      <td>Motocicleta, ciclomotor (passola)</td>\n",
       "    </tr>\n",
       "    <tr>\n",
       "      <th>3</th>\n",
       "      <td>2007-02-28</td>\n",
       "      <td>Región Cibao Norte</td>\n",
       "      <td>Espaillat</td>\n",
       "      <td>Lunes</td>\n",
       "      <td>Febrero</td>\n",
       "      <td>2007</td>\n",
       "      <td>10:01-12:00</td>\n",
       "      <td>No declarada</td>\n",
       "      <td>Hombres</td>\n",
       "      <td>0-4</td>\n",
       "      <td>No declarada</td>\n",
       "      <td>Atropellamiento</td>\n",
       "      <td>Peatón atropellado</td>\n",
       "    </tr>\n",
       "    <tr>\n",
       "      <th>4</th>\n",
       "      <td>2007-03-28</td>\n",
       "      <td>Región Cibao Norte</td>\n",
       "      <td>Espaillat</td>\n",
       "      <td>Jueves</td>\n",
       "      <td>Marzo</td>\n",
       "      <td>2007</td>\n",
       "      <td>18:01-20:00</td>\n",
       "      <td>Carretera</td>\n",
       "      <td>Hombres</td>\n",
       "      <td>20-24</td>\n",
       "      <td>No declarada</td>\n",
       "      <td>Choque o colisión</td>\n",
       "      <td>Motocicleta, ciclomotor (passola)</td>\n",
       "    </tr>\n",
       "  </tbody>\n",
       "</table>\n",
       "</div>"
      ],
      "text/plain": [
       "       fecha              region  provincia dia_semana      mes  anio  \\\n",
       "0 2007-01-28  Región Cibao Norte  Espaillat     Sábado    Enero  2007   \n",
       "1 2007-01-28  Región Cibao Norte  Espaillat    Domingo    Enero  2007   \n",
       "2 2007-02-28  Región Cibao Norte  Espaillat     Jueves  Febrero  2007   \n",
       "3 2007-02-28  Región Cibao Norte  Espaillat      Lunes  Febrero  2007   \n",
       "4 2007-03-28  Región Cibao Norte  Espaillat     Jueves    Marzo  2007   \n",
       "\n",
       "    rango_hora      tipo_via     sexo grupo_edad condicion_victima  \\\n",
       "0  18:01-20:00  No declarada  Hombres      20-24      No declarada   \n",
       "1  00:01-02:00     Carretera  Hombres      55-59      No declarada   \n",
       "2  20:01-22:00     Carretera  Hombres      15-19      No declarada   \n",
       "3  10:01-12:00  No declarada  Hombres        0-4      No declarada   \n",
       "4  18:01-20:00     Carretera  Hombres      20-24      No declarada   \n",
       "\n",
       "      tipo_accidente                        medio_trans  \n",
       "0  Choque o colisión  Motocicleta, ciclomotor (passola)  \n",
       "1  Choque o colisión  Motocicleta, ciclomotor (passola)  \n",
       "2  Choque o colisión  Motocicleta, ciclomotor (passola)  \n",
       "3    Atropellamiento                 Peatón atropellado  \n",
       "4  Choque o colisión  Motocicleta, ciclomotor (passola)  "
      ]
     },
     "execution_count": 4,
     "metadata": {},
     "output_type": "execute_result"
    }
   ],
   "source": [
    "df_descodificada.head()"
   ]
  },
  {
   "cell_type": "markdown",
   "metadata": {},
   "source": [
    "### Significado de Columnas\n",
    "\n",
    "- **fecha**: Mes y año del fallecimiento. El día se establece como \"28\" ya que no se especifica el día exacto del mes. Solo se aporta el dato del día de la semana.\n",
    "- **region**: Región donde ocurrió el accidente.\n",
    "- **provincia**: Provincia donde ocurrió el accidente.\n",
    "- **dia_semana**: Día de la semana en que ocurrió el accidente.\n",
    "- **mes**: Mes en que ocurrió el accidente.\n",
    "- **anio**: Año en que ocurrió el accidente.\n",
    "- **rango_hora**: Intervalo de 2 horas en el que ocurrió el accidente.\n",
    "- **tipo_via**: Tipo de vía donde ocurrió el accidente.\n",
    "- **sexo**: Género de la persona fallecida.\n",
    "- **grupo_edad**: intervalo de edad de la persona fallecida.\n",
    "- **condicion_victima**: Papel que desempeñaba la persona en el accidente (e.g., conductor, peatón).\n",
    "- **tipo_accidente**: Tipo de accidente ocurrido.\n",
    "- **medio_trans**: Medio de transporte involucrado en el accidente.\n"
   ]
  },
  {
   "cell_type": "markdown",
   "metadata": {},
   "source": [
    "## EDA"
   ]
  },
  {
   "cell_type": "markdown",
   "metadata": {},
   "source": [
    "### Observaciones del DataFrame de Defunciones\n",
    "\n",
    "- **Dimensiones**: El DataFrame contiene **31,351 filas** y **13 columnas**.\n",
    "- **Duplicados**: Se identificaron **721 duplicados**, equivalentes a menos del 3% (**2.30%**). No se eliminan, ya que podrían corresponder a accidentes muy similares pero distintos. Además, los accidentes mortales no tienen una diferenciación clara entre los días, ya que solo se presenta el día de la semana, pero no la fecha exacta (columna creada manualmente).\n",
    "- **Periodo de los datos**: Los datos abarcan desde **2007 hasta 2023**, divididos entre los 12 meses del año.\n",
    "  - **Año con más defunciones**: El **2010** registró el mayor número de muertes por accidentes viales (**2,132**), seguido de **2019** y **2016** en el top 3. Los dos primeros superan las **2,000 defunciones**, mientras que el tercero queda ligeramente por debajo.\n",
    "  - **Mes con más defunciones**: **Diciembre** lidera con **3,151 defunciones**, seguido de **marzo** y **julio**. En este periodo de tiempo a nivel nacional, todos los meses del año tienden incidencias que superan las **2,000 muertes**.\n",
    "  - **Día con más defunciones**: El **domingo** es el día con más fallecidos, seguido de **sábado** y **lunes**. Aunque más alejado en números, el **viernes** ocupa el siguiente lugar. Esto indica que los fines de semana son los días más propensos a pérdidas de vidas por accidentes.\n",
    "  - **Horas con más defunciones**: Los rangos horarios más peligrosos son:\n",
    "    - **18:00 - 20:00**\n",
    "    - **20:00 - 22:00**\n",
    "    - **16:00 - 18:00**  \n",
    "    Esto refleja un patrón alarmante pero lógico, ya que son horarios de alto tráfico vehicular.\n",
    "  - **Regiones con más víctimas**: Las regiones con más defunciones son:\n",
    "    - **Ozama**\n",
    "    - **Cibao Norte**\n",
    "    - **Cibao Sur**\n",
    "  - **Provincias con más víctimas**: Las provincias con mayor cantidad de defunciones son:\n",
    "    - **Santo Domingo**\n",
    "    - **San Cristóbal**\n",
    "    - **Santiago**\n",
    "  - **Tipo de vía más peligrosa**: \n",
    "    - **Carretera**, seguida de **calle** y **avenida**. \n",
    "    - La **autopista** también registra un número considerable de defunciones.\n",
    "  - **Género más afectado**: El **87%** de las víctimas son de género **masculino**.\n",
    "  - **Grupo de edad más afectado**: Los grupos con más víctimas son:\n",
    "    - **20-24 años**\n",
    "    - **25-29 años**\n",
    "    - **15-19 años**  \n",
    "    Esto muestra que la mayoría de las defunciones corresponden a personas jóvenes.\n",
    "  - **Condición de la víctima**: \n",
    "    - En el **41.88%** de los casos no se ha declarado la condición de la víctima.\n",
    "    - El **40.19%** de las víctimas corresponde a **conductores**.\n",
    "  - **Tipo de accidente más común**: Los accidentes más frecuentes son:\n",
    "    - **Choques**\n",
    "    - **Atropellamientos**\n",
    "    - **Deslizamientos**\n",
    "  - **Medio de transporte predominante**:\n",
    "    - **Motocicletas** (**63.73%**)\n",
    "    - **Peatones atropellados** (**18.42%**)\n",
    "    - **Automóviles** en tercer lugar (**6.62%**).\n"
   ]
  },
  {
   "cell_type": "code",
   "execution_count": 5,
   "metadata": {},
   "outputs": [
    {
     "name": "stdout",
     "output_type": "stream",
     "text": [
      "El número de datos es 31351 y el de columnas es 13\n",
      "\n",
      " ..................... \n",
      "\n",
      "Los duplicados que tenemos en el conjunto de datos son: 721\n",
      "\n",
      " ..................... \n",
      "\n",
      "Los nulos que tenemos en el conjunto de datos son:\n"
     ]
    },
    {
     "data": {
      "application/vnd.microsoft.datawrangler.viewer.v0+json": {
       "columns": [
        {
         "name": "index",
         "rawType": "object",
         "type": "unknown"
        },
        {
         "name": "%_nulos",
         "rawType": "float64",
         "type": "float"
        }
       ],
       "conversionMethod": "pd.DataFrame",
       "ref": "2d54fc0e-aa96-4356-869c-cd456522e8ee",
       "rows": [],
       "shape": {
        "columns": 1,
        "rows": 0
       }
      },
      "text/html": [
       "<div>\n",
       "<style scoped>\n",
       "    .dataframe tbody tr th:only-of-type {\n",
       "        vertical-align: middle;\n",
       "    }\n",
       "\n",
       "    .dataframe tbody tr th {\n",
       "        vertical-align: top;\n",
       "    }\n",
       "\n",
       "    .dataframe thead th {\n",
       "        text-align: right;\n",
       "    }\n",
       "</style>\n",
       "<table border=\"1\" class=\"dataframe\">\n",
       "  <thead>\n",
       "    <tr style=\"text-align: right;\">\n",
       "      <th></th>\n",
       "      <th>%_nulos</th>\n",
       "    </tr>\n",
       "  </thead>\n",
       "  <tbody>\n",
       "  </tbody>\n",
       "</table>\n",
       "</div>"
      ],
      "text/plain": [
       "Empty DataFrame\n",
       "Columns: [%_nulos]\n",
       "Index: []"
      ]
     },
     "metadata": {},
     "output_type": "display_data"
    },
    {
     "name": "stdout",
     "output_type": "stream",
     "text": [
      "\n",
      " ..................... \n",
      "\n",
      "Los tipos de las columnas son:\n"
     ]
    },
    {
     "data": {
      "application/vnd.microsoft.datawrangler.viewer.v0+json": {
       "columns": [
        {
         "name": "index",
         "rawType": "object",
         "type": "string"
        },
        {
         "name": "tipo_dato",
         "rawType": "object",
         "type": "unknown"
        }
       ],
       "conversionMethod": "pd.DataFrame",
       "ref": "b47660e0-c79d-40a1-8600-ec468b1127b2",
       "rows": [
        [
         "fecha",
         "datetime64[ns]"
        ],
        [
         "region",
         "object"
        ],
        [
         "provincia",
         "object"
        ],
        [
         "dia_semana",
         "object"
        ],
        [
         "mes",
         "object"
        ],
        [
         "anio",
         "int64"
        ],
        [
         "rango_hora",
         "object"
        ],
        [
         "tipo_via",
         "object"
        ],
        [
         "sexo",
         "object"
        ],
        [
         "grupo_edad",
         "object"
        ],
        [
         "condicion_victima",
         "object"
        ],
        [
         "tipo_accidente",
         "object"
        ],
        [
         "medio_trans",
         "object"
        ]
       ],
       "shape": {
        "columns": 1,
        "rows": 13
       }
      },
      "text/html": [
       "<div>\n",
       "<style scoped>\n",
       "    .dataframe tbody tr th:only-of-type {\n",
       "        vertical-align: middle;\n",
       "    }\n",
       "\n",
       "    .dataframe tbody tr th {\n",
       "        vertical-align: top;\n",
       "    }\n",
       "\n",
       "    .dataframe thead th {\n",
       "        text-align: right;\n",
       "    }\n",
       "</style>\n",
       "<table border=\"1\" class=\"dataframe\">\n",
       "  <thead>\n",
       "    <tr style=\"text-align: right;\">\n",
       "      <th></th>\n",
       "      <th>tipo_dato</th>\n",
       "    </tr>\n",
       "  </thead>\n",
       "  <tbody>\n",
       "    <tr>\n",
       "      <th>fecha</th>\n",
       "      <td>datetime64[ns]</td>\n",
       "    </tr>\n",
       "    <tr>\n",
       "      <th>region</th>\n",
       "      <td>object</td>\n",
       "    </tr>\n",
       "    <tr>\n",
       "      <th>provincia</th>\n",
       "      <td>object</td>\n",
       "    </tr>\n",
       "    <tr>\n",
       "      <th>dia_semana</th>\n",
       "      <td>object</td>\n",
       "    </tr>\n",
       "    <tr>\n",
       "      <th>mes</th>\n",
       "      <td>object</td>\n",
       "    </tr>\n",
       "    <tr>\n",
       "      <th>anio</th>\n",
       "      <td>int64</td>\n",
       "    </tr>\n",
       "    <tr>\n",
       "      <th>rango_hora</th>\n",
       "      <td>object</td>\n",
       "    </tr>\n",
       "    <tr>\n",
       "      <th>tipo_via</th>\n",
       "      <td>object</td>\n",
       "    </tr>\n",
       "    <tr>\n",
       "      <th>sexo</th>\n",
       "      <td>object</td>\n",
       "    </tr>\n",
       "    <tr>\n",
       "      <th>grupo_edad</th>\n",
       "      <td>object</td>\n",
       "    </tr>\n",
       "    <tr>\n",
       "      <th>condicion_victima</th>\n",
       "      <td>object</td>\n",
       "    </tr>\n",
       "    <tr>\n",
       "      <th>tipo_accidente</th>\n",
       "      <td>object</td>\n",
       "    </tr>\n",
       "    <tr>\n",
       "      <th>medio_trans</th>\n",
       "      <td>object</td>\n",
       "    </tr>\n",
       "  </tbody>\n",
       "</table>\n",
       "</div>"
      ],
      "text/plain": [
       "                        tipo_dato\n",
       "fecha              datetime64[ns]\n",
       "region                     object\n",
       "provincia                  object\n",
       "dia_semana                 object\n",
       "mes                        object\n",
       "anio                        int64\n",
       "rango_hora                 object\n",
       "tipo_via                   object\n",
       "sexo                       object\n",
       "grupo_edad                 object\n",
       "condicion_victima          object\n",
       "tipo_accidente             object\n",
       "medio_trans                object"
      ]
     },
     "metadata": {},
     "output_type": "display_data"
    },
    {
     "name": "stdout",
     "output_type": "stream",
     "text": [
      "\n",
      " ..................... \n",
      "\n",
      "Los valores que tenemos para las columnas categóricas son: \n",
      "La columna region tiene los siguientes valores únicos:\n"
     ]
    },
    {
     "data": {
      "application/vnd.microsoft.datawrangler.viewer.v0+json": {
       "columns": [
        {
         "name": "region",
         "rawType": "object",
         "type": "string"
        },
        {
         "name": "count",
         "rawType": "int64",
         "type": "integer"
        }
       ],
       "conversionMethod": "pd.DataFrame",
       "ref": "ed95665f-c03d-420c-b51f-15eacd081154",
       "rows": [
        [
         "Región Ozama",
         "6377"
        ],
        [
         "Región Cibao Norte",
         "4644"
        ],
        [
         "Región Cibao Sur",
         "3826"
        ],
        [
         "Región Valdesia",
         "3489"
        ],
        [
         "Región Yuma",
         "2951"
        ],
        [
         "Región Cibao Nordeste",
         "2926"
        ],
        [
         "Región El Valle",
         "2111"
        ],
        [
         "Región Higuamo",
         "2056"
        ],
        [
         "Región Cibao Noroeste",
         "1775"
        ],
        [
         "Región Enriquillo",
         "1191"
        ],
        [
         "No declarada",
         "5"
        ]
       ],
       "shape": {
        "columns": 1,
        "rows": 11
       }
      },
      "text/html": [
       "<div>\n",
       "<style scoped>\n",
       "    .dataframe tbody tr th:only-of-type {\n",
       "        vertical-align: middle;\n",
       "    }\n",
       "\n",
       "    .dataframe tbody tr th {\n",
       "        vertical-align: top;\n",
       "    }\n",
       "\n",
       "    .dataframe thead th {\n",
       "        text-align: right;\n",
       "    }\n",
       "</style>\n",
       "<table border=\"1\" class=\"dataframe\">\n",
       "  <thead>\n",
       "    <tr style=\"text-align: right;\">\n",
       "      <th></th>\n",
       "      <th>count</th>\n",
       "    </tr>\n",
       "    <tr>\n",
       "      <th>region</th>\n",
       "      <th></th>\n",
       "    </tr>\n",
       "  </thead>\n",
       "  <tbody>\n",
       "    <tr>\n",
       "      <th>Región Ozama</th>\n",
       "      <td>6377</td>\n",
       "    </tr>\n",
       "    <tr>\n",
       "      <th>Región Cibao Norte</th>\n",
       "      <td>4644</td>\n",
       "    </tr>\n",
       "    <tr>\n",
       "      <th>Región Cibao Sur</th>\n",
       "      <td>3826</td>\n",
       "    </tr>\n",
       "    <tr>\n",
       "      <th>Región Valdesia</th>\n",
       "      <td>3489</td>\n",
       "    </tr>\n",
       "    <tr>\n",
       "      <th>Región Yuma</th>\n",
       "      <td>2951</td>\n",
       "    </tr>\n",
       "    <tr>\n",
       "      <th>Región Cibao Nordeste</th>\n",
       "      <td>2926</td>\n",
       "    </tr>\n",
       "    <tr>\n",
       "      <th>Región El Valle</th>\n",
       "      <td>2111</td>\n",
       "    </tr>\n",
       "    <tr>\n",
       "      <th>Región Higuamo</th>\n",
       "      <td>2056</td>\n",
       "    </tr>\n",
       "    <tr>\n",
       "      <th>Región Cibao Noroeste</th>\n",
       "      <td>1775</td>\n",
       "    </tr>\n",
       "    <tr>\n",
       "      <th>Región Enriquillo</th>\n",
       "      <td>1191</td>\n",
       "    </tr>\n",
       "    <tr>\n",
       "      <th>No declarada</th>\n",
       "      <td>5</td>\n",
       "    </tr>\n",
       "  </tbody>\n",
       "</table>\n",
       "</div>"
      ],
      "text/plain": [
       "                       count\n",
       "region                      \n",
       "Región Ozama            6377\n",
       "Región Cibao Norte      4644\n",
       "Región Cibao Sur        3826\n",
       "Región Valdesia         3489\n",
       "Región Yuma             2951\n",
       "Región Cibao Nordeste   2926\n",
       "Región El Valle         2111\n",
       "Región Higuamo          2056\n",
       "Región Cibao Noroeste   1775\n",
       "Región Enriquillo       1191\n",
       "No declarada               5"
      ]
     },
     "metadata": {},
     "output_type": "display_data"
    },
    {
     "name": "stdout",
     "output_type": "stream",
     "text": [
      "La columna provincia tiene los siguientes valores únicos:\n"
     ]
    },
    {
     "data": {
      "application/vnd.microsoft.datawrangler.viewer.v0+json": {
       "columns": [
        {
         "name": "provincia",
         "rawType": "object",
         "type": "string"
        },
        {
         "name": "count",
         "rawType": "int64",
         "type": "integer"
        }
       ],
       "conversionMethod": "pd.DataFrame",
       "ref": "285e743e-a1a3-424c-a80e-9766f1694a36",
       "rows": [
        [
         "Santo Domingo",
         "4776"
        ],
        [
         "San Cristóbal",
         "2373"
        ],
        [
         "Santiago",
         "2325"
        ],
        [
         "La Vega",
         "2168"
        ],
        [
         "La Altagracia",
         "1919"
        ],
        [
         "Distrito Nacional",
         "1601"
        ],
        [
         "Puerto Plata",
         "1393"
        ],
        [
         "Duarte",
         "1186"
        ],
        [
         "Monseñor Nouel",
         "1073"
        ],
        [
         "San Pedro de Macorís",
         "1061"
        ],
        [
         "Azua",
         "1009"
        ],
        [
         "San Juan",
         "969"
        ],
        [
         "Espaillat",
         "926"
        ],
        [
         "Peravia",
         "910"
        ],
        [
         "María Trinidad. Sánchez",
         "746"
        ],
        [
         "Valverde",
         "742"
        ],
        [
         "Monte Plata",
         "728"
        ],
        [
         "La Romana",
         "707"
        ],
        [
         "Samaná",
         "606"
        ],
        [
         "Barahona",
         "598"
        ],
        [
         "Sánchez Ramírez",
         "585"
        ],
        [
         "Monte Cristi",
         "535"
        ],
        [
         "Hermanas Mirabal",
         "388"
        ],
        [
         "Baoruco",
         "334"
        ],
        [
         "El Seibo",
         "325"
        ],
        [
         "Dajabón",
         "294"
        ],
        [
         "Hato Mayor",
         "267"
        ],
        [
         "San José de Ocoa",
         "206"
        ],
        [
         "Santiago Rodríguez",
         "204"
        ],
        [
         "Independencia",
         "167"
        ],
        [
         "Elías Piña",
         "133"
        ],
        [
         "Pedernales",
         "92"
        ],
        [
         "No declarada",
         "5"
        ]
       ],
       "shape": {
        "columns": 1,
        "rows": 33
       }
      },
      "text/html": [
       "<div>\n",
       "<style scoped>\n",
       "    .dataframe tbody tr th:only-of-type {\n",
       "        vertical-align: middle;\n",
       "    }\n",
       "\n",
       "    .dataframe tbody tr th {\n",
       "        vertical-align: top;\n",
       "    }\n",
       "\n",
       "    .dataframe thead th {\n",
       "        text-align: right;\n",
       "    }\n",
       "</style>\n",
       "<table border=\"1\" class=\"dataframe\">\n",
       "  <thead>\n",
       "    <tr style=\"text-align: right;\">\n",
       "      <th></th>\n",
       "      <th>count</th>\n",
       "    </tr>\n",
       "    <tr>\n",
       "      <th>provincia</th>\n",
       "      <th></th>\n",
       "    </tr>\n",
       "  </thead>\n",
       "  <tbody>\n",
       "    <tr>\n",
       "      <th>Santo Domingo</th>\n",
       "      <td>4776</td>\n",
       "    </tr>\n",
       "    <tr>\n",
       "      <th>San Cristóbal</th>\n",
       "      <td>2373</td>\n",
       "    </tr>\n",
       "    <tr>\n",
       "      <th>Santiago</th>\n",
       "      <td>2325</td>\n",
       "    </tr>\n",
       "    <tr>\n",
       "      <th>La Vega</th>\n",
       "      <td>2168</td>\n",
       "    </tr>\n",
       "    <tr>\n",
       "      <th>La Altagracia</th>\n",
       "      <td>1919</td>\n",
       "    </tr>\n",
       "    <tr>\n",
       "      <th>Distrito Nacional</th>\n",
       "      <td>1601</td>\n",
       "    </tr>\n",
       "    <tr>\n",
       "      <th>Puerto Plata</th>\n",
       "      <td>1393</td>\n",
       "    </tr>\n",
       "    <tr>\n",
       "      <th>Duarte</th>\n",
       "      <td>1186</td>\n",
       "    </tr>\n",
       "    <tr>\n",
       "      <th>Monseñor Nouel</th>\n",
       "      <td>1073</td>\n",
       "    </tr>\n",
       "    <tr>\n",
       "      <th>San Pedro de Macorís</th>\n",
       "      <td>1061</td>\n",
       "    </tr>\n",
       "    <tr>\n",
       "      <th>Azua</th>\n",
       "      <td>1009</td>\n",
       "    </tr>\n",
       "    <tr>\n",
       "      <th>San Juan</th>\n",
       "      <td>969</td>\n",
       "    </tr>\n",
       "    <tr>\n",
       "      <th>Espaillat</th>\n",
       "      <td>926</td>\n",
       "    </tr>\n",
       "    <tr>\n",
       "      <th>Peravia</th>\n",
       "      <td>910</td>\n",
       "    </tr>\n",
       "    <tr>\n",
       "      <th>María Trinidad. Sánchez</th>\n",
       "      <td>746</td>\n",
       "    </tr>\n",
       "    <tr>\n",
       "      <th>Valverde</th>\n",
       "      <td>742</td>\n",
       "    </tr>\n",
       "    <tr>\n",
       "      <th>Monte Plata</th>\n",
       "      <td>728</td>\n",
       "    </tr>\n",
       "    <tr>\n",
       "      <th>La Romana</th>\n",
       "      <td>707</td>\n",
       "    </tr>\n",
       "    <tr>\n",
       "      <th>Samaná</th>\n",
       "      <td>606</td>\n",
       "    </tr>\n",
       "    <tr>\n",
       "      <th>Barahona</th>\n",
       "      <td>598</td>\n",
       "    </tr>\n",
       "    <tr>\n",
       "      <th>Sánchez Ramírez</th>\n",
       "      <td>585</td>\n",
       "    </tr>\n",
       "    <tr>\n",
       "      <th>Monte Cristi</th>\n",
       "      <td>535</td>\n",
       "    </tr>\n",
       "    <tr>\n",
       "      <th>Hermanas Mirabal</th>\n",
       "      <td>388</td>\n",
       "    </tr>\n",
       "    <tr>\n",
       "      <th>Baoruco</th>\n",
       "      <td>334</td>\n",
       "    </tr>\n",
       "    <tr>\n",
       "      <th>El Seibo</th>\n",
       "      <td>325</td>\n",
       "    </tr>\n",
       "    <tr>\n",
       "      <th>Dajabón</th>\n",
       "      <td>294</td>\n",
       "    </tr>\n",
       "    <tr>\n",
       "      <th>Hato Mayor</th>\n",
       "      <td>267</td>\n",
       "    </tr>\n",
       "    <tr>\n",
       "      <th>San José de Ocoa</th>\n",
       "      <td>206</td>\n",
       "    </tr>\n",
       "    <tr>\n",
       "      <th>Santiago Rodríguez</th>\n",
       "      <td>204</td>\n",
       "    </tr>\n",
       "    <tr>\n",
       "      <th>Independencia</th>\n",
       "      <td>167</td>\n",
       "    </tr>\n",
       "    <tr>\n",
       "      <th>Elías Piña</th>\n",
       "      <td>133</td>\n",
       "    </tr>\n",
       "    <tr>\n",
       "      <th>Pedernales</th>\n",
       "      <td>92</td>\n",
       "    </tr>\n",
       "    <tr>\n",
       "      <th>No declarada</th>\n",
       "      <td>5</td>\n",
       "    </tr>\n",
       "  </tbody>\n",
       "</table>\n",
       "</div>"
      ],
      "text/plain": [
       "                         count\n",
       "provincia                     \n",
       "Santo Domingo             4776\n",
       "San Cristóbal             2373\n",
       "Santiago                  2325\n",
       "La Vega                   2168\n",
       "La Altagracia             1919\n",
       "Distrito Nacional         1601\n",
       "Puerto Plata              1393\n",
       "Duarte                    1186\n",
       "Monseñor Nouel            1073\n",
       "San Pedro de Macorís      1061\n",
       "Azua                      1009\n",
       "San Juan                   969\n",
       "Espaillat                  926\n",
       "Peravia                    910\n",
       "María Trinidad. Sánchez    746\n",
       "Valverde                   742\n",
       "Monte Plata                728\n",
       "La Romana                  707\n",
       "Samaná                     606\n",
       "Barahona                   598\n",
       "Sánchez Ramírez            585\n",
       "Monte Cristi               535\n",
       "Hermanas Mirabal           388\n",
       "Baoruco                    334\n",
       "El Seibo                   325\n",
       "Dajabón                    294\n",
       "Hato Mayor                 267\n",
       "San José de Ocoa           206\n",
       "Santiago Rodríguez         204\n",
       "Independencia              167\n",
       "Elías Piña                 133\n",
       "Pedernales                  92\n",
       "No declarada                 5"
      ]
     },
     "metadata": {},
     "output_type": "display_data"
    },
    {
     "name": "stdout",
     "output_type": "stream",
     "text": [
      "La columna dia_semana tiene los siguientes valores únicos:\n"
     ]
    },
    {
     "data": {
      "application/vnd.microsoft.datawrangler.viewer.v0+json": {
       "columns": [
        {
         "name": "dia_semana",
         "rawType": "object",
         "type": "string"
        },
        {
         "name": "count",
         "rawType": "int64",
         "type": "integer"
        }
       ],
       "conversionMethod": "pd.DataFrame",
       "ref": "f62d6cc9-5e39-4f3e-a8ff-75599473aa4a",
       "rows": [
        [
         "Domingo",
         "7943"
        ],
        [
         "Sábado",
         "5112"
        ],
        [
         "Lunes",
         "5023"
        ],
        [
         "Viernes",
         "3628"
        ],
        [
         "Jueves",
         "3343"
        ],
        [
         "Martes",
         "3254"
        ],
        [
         "Miércoles",
         "3048"
        ]
       ],
       "shape": {
        "columns": 1,
        "rows": 7
       }
      },
      "text/html": [
       "<div>\n",
       "<style scoped>\n",
       "    .dataframe tbody tr th:only-of-type {\n",
       "        vertical-align: middle;\n",
       "    }\n",
       "\n",
       "    .dataframe tbody tr th {\n",
       "        vertical-align: top;\n",
       "    }\n",
       "\n",
       "    .dataframe thead th {\n",
       "        text-align: right;\n",
       "    }\n",
       "</style>\n",
       "<table border=\"1\" class=\"dataframe\">\n",
       "  <thead>\n",
       "    <tr style=\"text-align: right;\">\n",
       "      <th></th>\n",
       "      <th>count</th>\n",
       "    </tr>\n",
       "    <tr>\n",
       "      <th>dia_semana</th>\n",
       "      <th></th>\n",
       "    </tr>\n",
       "  </thead>\n",
       "  <tbody>\n",
       "    <tr>\n",
       "      <th>Domingo</th>\n",
       "      <td>7943</td>\n",
       "    </tr>\n",
       "    <tr>\n",
       "      <th>Sábado</th>\n",
       "      <td>5112</td>\n",
       "    </tr>\n",
       "    <tr>\n",
       "      <th>Lunes</th>\n",
       "      <td>5023</td>\n",
       "    </tr>\n",
       "    <tr>\n",
       "      <th>Viernes</th>\n",
       "      <td>3628</td>\n",
       "    </tr>\n",
       "    <tr>\n",
       "      <th>Jueves</th>\n",
       "      <td>3343</td>\n",
       "    </tr>\n",
       "    <tr>\n",
       "      <th>Martes</th>\n",
       "      <td>3254</td>\n",
       "    </tr>\n",
       "    <tr>\n",
       "      <th>Miércoles</th>\n",
       "      <td>3048</td>\n",
       "    </tr>\n",
       "  </tbody>\n",
       "</table>\n",
       "</div>"
      ],
      "text/plain": [
       "            count\n",
       "dia_semana       \n",
       "Domingo      7943\n",
       "Sábado       5112\n",
       "Lunes        5023\n",
       "Viernes      3628\n",
       "Jueves       3343\n",
       "Martes       3254\n",
       "Miércoles    3048"
      ]
     },
     "metadata": {},
     "output_type": "display_data"
    },
    {
     "name": "stdout",
     "output_type": "stream",
     "text": [
      "La columna mes tiene los siguientes valores únicos:\n"
     ]
    },
    {
     "data": {
      "application/vnd.microsoft.datawrangler.viewer.v0+json": {
       "columns": [
        {
         "name": "mes",
         "rawType": "object",
         "type": "string"
        },
        {
         "name": "count",
         "rawType": "int64",
         "type": "integer"
        }
       ],
       "conversionMethod": "pd.DataFrame",
       "ref": "8aef133c-7384-4093-aa6e-11fa6d682d99",
       "rows": [
        [
         "Diciembre",
         "3151"
        ],
        [
         "Marzo",
         "2688"
        ],
        [
         "Julio",
         "2686"
        ],
        [
         "Enero",
         "2675"
        ],
        [
         "Octubre",
         "2658"
        ],
        [
         "Noviembre",
         "2605"
        ],
        [
         "Abril",
         "2560"
        ],
        [
         "Febrero",
         "2551"
        ],
        [
         "Mayo",
         "2537"
        ],
        [
         "Agosto",
         "2469"
        ],
        [
         "Junio",
         "2427"
        ],
        [
         "Septiembre",
         "2344"
        ]
       ],
       "shape": {
        "columns": 1,
        "rows": 12
       }
      },
      "text/html": [
       "<div>\n",
       "<style scoped>\n",
       "    .dataframe tbody tr th:only-of-type {\n",
       "        vertical-align: middle;\n",
       "    }\n",
       "\n",
       "    .dataframe tbody tr th {\n",
       "        vertical-align: top;\n",
       "    }\n",
       "\n",
       "    .dataframe thead th {\n",
       "        text-align: right;\n",
       "    }\n",
       "</style>\n",
       "<table border=\"1\" class=\"dataframe\">\n",
       "  <thead>\n",
       "    <tr style=\"text-align: right;\">\n",
       "      <th></th>\n",
       "      <th>count</th>\n",
       "    </tr>\n",
       "    <tr>\n",
       "      <th>mes</th>\n",
       "      <th></th>\n",
       "    </tr>\n",
       "  </thead>\n",
       "  <tbody>\n",
       "    <tr>\n",
       "      <th>Diciembre</th>\n",
       "      <td>3151</td>\n",
       "    </tr>\n",
       "    <tr>\n",
       "      <th>Marzo</th>\n",
       "      <td>2688</td>\n",
       "    </tr>\n",
       "    <tr>\n",
       "      <th>Julio</th>\n",
       "      <td>2686</td>\n",
       "    </tr>\n",
       "    <tr>\n",
       "      <th>Enero</th>\n",
       "      <td>2675</td>\n",
       "    </tr>\n",
       "    <tr>\n",
       "      <th>Octubre</th>\n",
       "      <td>2658</td>\n",
       "    </tr>\n",
       "    <tr>\n",
       "      <th>Noviembre</th>\n",
       "      <td>2605</td>\n",
       "    </tr>\n",
       "    <tr>\n",
       "      <th>Abril</th>\n",
       "      <td>2560</td>\n",
       "    </tr>\n",
       "    <tr>\n",
       "      <th>Febrero</th>\n",
       "      <td>2551</td>\n",
       "    </tr>\n",
       "    <tr>\n",
       "      <th>Mayo</th>\n",
       "      <td>2537</td>\n",
       "    </tr>\n",
       "    <tr>\n",
       "      <th>Agosto</th>\n",
       "      <td>2469</td>\n",
       "    </tr>\n",
       "    <tr>\n",
       "      <th>Junio</th>\n",
       "      <td>2427</td>\n",
       "    </tr>\n",
       "    <tr>\n",
       "      <th>Septiembre</th>\n",
       "      <td>2344</td>\n",
       "    </tr>\n",
       "  </tbody>\n",
       "</table>\n",
       "</div>"
      ],
      "text/plain": [
       "            count\n",
       "mes              \n",
       "Diciembre    3151\n",
       "Marzo        2688\n",
       "Julio        2686\n",
       "Enero        2675\n",
       "Octubre      2658\n",
       "Noviembre    2605\n",
       "Abril        2560\n",
       "Febrero      2551\n",
       "Mayo         2537\n",
       "Agosto       2469\n",
       "Junio        2427\n",
       "Septiembre   2344"
      ]
     },
     "metadata": {},
     "output_type": "display_data"
    },
    {
     "name": "stdout",
     "output_type": "stream",
     "text": [
      "La columna rango_hora tiene los siguientes valores únicos:\n"
     ]
    },
    {
     "data": {
      "application/vnd.microsoft.datawrangler.viewer.v0+json": {
       "columns": [
        {
         "name": "rango_hora",
         "rawType": "object",
         "type": "string"
        },
        {
         "name": "count",
         "rawType": "int64",
         "type": "integer"
        }
       ],
       "conversionMethod": "pd.DataFrame",
       "ref": "40c56e55-0936-4f04-9e51-5beead142822",
       "rows": [
        [
         "18:01-20:00",
         "3779"
        ],
        [
         "20:01-22:00",
         "3600"
        ],
        [
         "16:01-18:00",
         "2973"
        ],
        [
         "10:01-12:00",
         "2581"
        ],
        [
         "14:01-16:00",
         "2500"
        ],
        [
         "22:01-24:00",
         "2442"
        ],
        [
         "00:01-02:00",
         "2432"
        ],
        [
         "08:01-10:00",
         "2354"
        ],
        [
         "12:01-14:00",
         "2327"
        ],
        [
         "06:01-08:00",
         "2265"
        ],
        [
         "02:01-04:00",
         "1921"
        ],
        [
         "04:01-06:00",
         "1711"
        ],
        [
         "No declarada",
         "466"
        ]
       ],
       "shape": {
        "columns": 1,
        "rows": 13
       }
      },
      "text/html": [
       "<div>\n",
       "<style scoped>\n",
       "    .dataframe tbody tr th:only-of-type {\n",
       "        vertical-align: middle;\n",
       "    }\n",
       "\n",
       "    .dataframe tbody tr th {\n",
       "        vertical-align: top;\n",
       "    }\n",
       "\n",
       "    .dataframe thead th {\n",
       "        text-align: right;\n",
       "    }\n",
       "</style>\n",
       "<table border=\"1\" class=\"dataframe\">\n",
       "  <thead>\n",
       "    <tr style=\"text-align: right;\">\n",
       "      <th></th>\n",
       "      <th>count</th>\n",
       "    </tr>\n",
       "    <tr>\n",
       "      <th>rango_hora</th>\n",
       "      <th></th>\n",
       "    </tr>\n",
       "  </thead>\n",
       "  <tbody>\n",
       "    <tr>\n",
       "      <th>18:01-20:00</th>\n",
       "      <td>3779</td>\n",
       "    </tr>\n",
       "    <tr>\n",
       "      <th>20:01-22:00</th>\n",
       "      <td>3600</td>\n",
       "    </tr>\n",
       "    <tr>\n",
       "      <th>16:01-18:00</th>\n",
       "      <td>2973</td>\n",
       "    </tr>\n",
       "    <tr>\n",
       "      <th>10:01-12:00</th>\n",
       "      <td>2581</td>\n",
       "    </tr>\n",
       "    <tr>\n",
       "      <th>14:01-16:00</th>\n",
       "      <td>2500</td>\n",
       "    </tr>\n",
       "    <tr>\n",
       "      <th>22:01-24:00</th>\n",
       "      <td>2442</td>\n",
       "    </tr>\n",
       "    <tr>\n",
       "      <th>00:01-02:00</th>\n",
       "      <td>2432</td>\n",
       "    </tr>\n",
       "    <tr>\n",
       "      <th>08:01-10:00</th>\n",
       "      <td>2354</td>\n",
       "    </tr>\n",
       "    <tr>\n",
       "      <th>12:01-14:00</th>\n",
       "      <td>2327</td>\n",
       "    </tr>\n",
       "    <tr>\n",
       "      <th>06:01-08:00</th>\n",
       "      <td>2265</td>\n",
       "    </tr>\n",
       "    <tr>\n",
       "      <th>02:01-04:00</th>\n",
       "      <td>1921</td>\n",
       "    </tr>\n",
       "    <tr>\n",
       "      <th>04:01-06:00</th>\n",
       "      <td>1711</td>\n",
       "    </tr>\n",
       "    <tr>\n",
       "      <th>No declarada</th>\n",
       "      <td>466</td>\n",
       "    </tr>\n",
       "  </tbody>\n",
       "</table>\n",
       "</div>"
      ],
      "text/plain": [
       "              count\n",
       "rango_hora         \n",
       "18:01-20:00    3779\n",
       "20:01-22:00    3600\n",
       "16:01-18:00    2973\n",
       "10:01-12:00    2581\n",
       "14:01-16:00    2500\n",
       "22:01-24:00    2442\n",
       "00:01-02:00    2432\n",
       "08:01-10:00    2354\n",
       "12:01-14:00    2327\n",
       "06:01-08:00    2265\n",
       "02:01-04:00    1921\n",
       "04:01-06:00    1711\n",
       "No declarada    466"
      ]
     },
     "metadata": {},
     "output_type": "display_data"
    },
    {
     "name": "stdout",
     "output_type": "stream",
     "text": [
      "La columna tipo_via tiene los siguientes valores únicos:\n"
     ]
    },
    {
     "data": {
      "application/vnd.microsoft.datawrangler.viewer.v0+json": {
       "columns": [
        {
         "name": "tipo_via",
         "rawType": "object",
         "type": "string"
        },
        {
         "name": "count",
         "rawType": "int64",
         "type": "integer"
        }
       ],
       "conversionMethod": "pd.DataFrame",
       "ref": "332ab1ca-932d-471e-93d1-a5fdef9de4bb",
       "rows": [
        [
         "Carretera",
         "13836"
        ],
        [
         "Calle",
         "6042"
        ],
        [
         "Avenida",
         "4613"
        ],
        [
         "Autopista",
         "4530"
        ],
        [
         "No declarada",
         "1533"
        ],
        [
         "Autovía",
         "340"
        ],
        [
         "Bulevar",
         "156"
        ],
        [
         "Puente",
         "128"
        ],
        [
         "Camino vecinal",
         "83"
        ],
        [
         "Elevado",
         "35"
        ],
        [
         "Otras",
         "33"
        ],
        [
         "Cruce",
         "11"
        ],
        [
         "Tunel",
         "8"
        ],
        [
         "Vía férrea",
         "3"
        ]
       ],
       "shape": {
        "columns": 1,
        "rows": 14
       }
      },
      "text/html": [
       "<div>\n",
       "<style scoped>\n",
       "    .dataframe tbody tr th:only-of-type {\n",
       "        vertical-align: middle;\n",
       "    }\n",
       "\n",
       "    .dataframe tbody tr th {\n",
       "        vertical-align: top;\n",
       "    }\n",
       "\n",
       "    .dataframe thead th {\n",
       "        text-align: right;\n",
       "    }\n",
       "</style>\n",
       "<table border=\"1\" class=\"dataframe\">\n",
       "  <thead>\n",
       "    <tr style=\"text-align: right;\">\n",
       "      <th></th>\n",
       "      <th>count</th>\n",
       "    </tr>\n",
       "    <tr>\n",
       "      <th>tipo_via</th>\n",
       "      <th></th>\n",
       "    </tr>\n",
       "  </thead>\n",
       "  <tbody>\n",
       "    <tr>\n",
       "      <th>Carretera</th>\n",
       "      <td>13836</td>\n",
       "    </tr>\n",
       "    <tr>\n",
       "      <th>Calle</th>\n",
       "      <td>6042</td>\n",
       "    </tr>\n",
       "    <tr>\n",
       "      <th>Avenida</th>\n",
       "      <td>4613</td>\n",
       "    </tr>\n",
       "    <tr>\n",
       "      <th>Autopista</th>\n",
       "      <td>4530</td>\n",
       "    </tr>\n",
       "    <tr>\n",
       "      <th>No declarada</th>\n",
       "      <td>1533</td>\n",
       "    </tr>\n",
       "    <tr>\n",
       "      <th>Autovía</th>\n",
       "      <td>340</td>\n",
       "    </tr>\n",
       "    <tr>\n",
       "      <th>Bulevar</th>\n",
       "      <td>156</td>\n",
       "    </tr>\n",
       "    <tr>\n",
       "      <th>Puente</th>\n",
       "      <td>128</td>\n",
       "    </tr>\n",
       "    <tr>\n",
       "      <th>Camino vecinal</th>\n",
       "      <td>83</td>\n",
       "    </tr>\n",
       "    <tr>\n",
       "      <th>Elevado</th>\n",
       "      <td>35</td>\n",
       "    </tr>\n",
       "    <tr>\n",
       "      <th>Otras</th>\n",
       "      <td>33</td>\n",
       "    </tr>\n",
       "    <tr>\n",
       "      <th>Cruce</th>\n",
       "      <td>11</td>\n",
       "    </tr>\n",
       "    <tr>\n",
       "      <th>Tunel</th>\n",
       "      <td>8</td>\n",
       "    </tr>\n",
       "    <tr>\n",
       "      <th>Vía férrea</th>\n",
       "      <td>3</td>\n",
       "    </tr>\n",
       "  </tbody>\n",
       "</table>\n",
       "</div>"
      ],
      "text/plain": [
       "                count\n",
       "tipo_via             \n",
       "Carretera       13836\n",
       "Calle            6042\n",
       "Avenida          4613\n",
       "Autopista        4530\n",
       "No declarada     1533\n",
       "Autovía           340\n",
       "Bulevar           156\n",
       "Puente            128\n",
       "Camino vecinal     83\n",
       "Elevado            35\n",
       "Otras              33\n",
       "Cruce              11\n",
       "Tunel               8\n",
       "Vía férrea          3"
      ]
     },
     "metadata": {},
     "output_type": "display_data"
    },
    {
     "name": "stdout",
     "output_type": "stream",
     "text": [
      "La columna sexo tiene los siguientes valores únicos:\n"
     ]
    },
    {
     "data": {
      "application/vnd.microsoft.datawrangler.viewer.v0+json": {
       "columns": [
        {
         "name": "sexo",
         "rawType": "object",
         "type": "string"
        },
        {
         "name": "count",
         "rawType": "int64",
         "type": "integer"
        }
       ],
       "conversionMethod": "pd.DataFrame",
       "ref": "8f75f88e-87e1-4fc0-bb45-cb1fd4b8908c",
       "rows": [
        [
         "Hombres",
         "27389"
        ],
        [
         "Mujeres",
         "3891"
        ],
        [
         "No declarado",
         "71"
        ]
       ],
       "shape": {
        "columns": 1,
        "rows": 3
       }
      },
      "text/html": [
       "<div>\n",
       "<style scoped>\n",
       "    .dataframe tbody tr th:only-of-type {\n",
       "        vertical-align: middle;\n",
       "    }\n",
       "\n",
       "    .dataframe tbody tr th {\n",
       "        vertical-align: top;\n",
       "    }\n",
       "\n",
       "    .dataframe thead th {\n",
       "        text-align: right;\n",
       "    }\n",
       "</style>\n",
       "<table border=\"1\" class=\"dataframe\">\n",
       "  <thead>\n",
       "    <tr style=\"text-align: right;\">\n",
       "      <th></th>\n",
       "      <th>count</th>\n",
       "    </tr>\n",
       "    <tr>\n",
       "      <th>sexo</th>\n",
       "      <th></th>\n",
       "    </tr>\n",
       "  </thead>\n",
       "  <tbody>\n",
       "    <tr>\n",
       "      <th>Hombres</th>\n",
       "      <td>27389</td>\n",
       "    </tr>\n",
       "    <tr>\n",
       "      <th>Mujeres</th>\n",
       "      <td>3891</td>\n",
       "    </tr>\n",
       "    <tr>\n",
       "      <th>No declarado</th>\n",
       "      <td>71</td>\n",
       "    </tr>\n",
       "  </tbody>\n",
       "</table>\n",
       "</div>"
      ],
      "text/plain": [
       "              count\n",
       "sexo               \n",
       "Hombres       27389\n",
       "Mujeres        3891\n",
       "No declarado     71"
      ]
     },
     "metadata": {},
     "output_type": "display_data"
    },
    {
     "name": "stdout",
     "output_type": "stream",
     "text": [
      "La columna grupo_edad tiene los siguientes valores únicos:\n"
     ]
    },
    {
     "data": {
      "application/vnd.microsoft.datawrangler.viewer.v0+json": {
       "columns": [
        {
         "name": "grupo_edad",
         "rawType": "object",
         "type": "string"
        },
        {
         "name": "count",
         "rawType": "int64",
         "type": "integer"
        }
       ],
       "conversionMethod": "pd.DataFrame",
       "ref": "d19d49d4-92d1-4b97-9e22-329c625b4ce0",
       "rows": [
        [
         "No declarado",
         "8134"
        ],
        [
         "20-24",
         "4017"
        ],
        [
         "25-29",
         "2974"
        ],
        [
         "15-19",
         "2800"
        ],
        [
         "30-34",
         "2365"
        ],
        [
         "35-39",
         "1996"
        ],
        [
         "65 y más",
         "1756"
        ],
        [
         "40-44",
         "1599"
        ],
        [
         "45-49",
         "1372"
        ],
        [
         "50-54",
         "1291"
        ],
        [
         "55-59",
         "995"
        ],
        [
         "60-64",
         "862"
        ],
        [
         "10-14",
         "465"
        ],
        [
         "0-4",
         "368"
        ],
        [
         "5-9",
         "357"
        ]
       ],
       "shape": {
        "columns": 1,
        "rows": 15
       }
      },
      "text/html": [
       "<div>\n",
       "<style scoped>\n",
       "    .dataframe tbody tr th:only-of-type {\n",
       "        vertical-align: middle;\n",
       "    }\n",
       "\n",
       "    .dataframe tbody tr th {\n",
       "        vertical-align: top;\n",
       "    }\n",
       "\n",
       "    .dataframe thead th {\n",
       "        text-align: right;\n",
       "    }\n",
       "</style>\n",
       "<table border=\"1\" class=\"dataframe\">\n",
       "  <thead>\n",
       "    <tr style=\"text-align: right;\">\n",
       "      <th></th>\n",
       "      <th>count</th>\n",
       "    </tr>\n",
       "    <tr>\n",
       "      <th>grupo_edad</th>\n",
       "      <th></th>\n",
       "    </tr>\n",
       "  </thead>\n",
       "  <tbody>\n",
       "    <tr>\n",
       "      <th>No declarado</th>\n",
       "      <td>8134</td>\n",
       "    </tr>\n",
       "    <tr>\n",
       "      <th>20-24</th>\n",
       "      <td>4017</td>\n",
       "    </tr>\n",
       "    <tr>\n",
       "      <th>25-29</th>\n",
       "      <td>2974</td>\n",
       "    </tr>\n",
       "    <tr>\n",
       "      <th>15-19</th>\n",
       "      <td>2800</td>\n",
       "    </tr>\n",
       "    <tr>\n",
       "      <th>30-34</th>\n",
       "      <td>2365</td>\n",
       "    </tr>\n",
       "    <tr>\n",
       "      <th>35-39</th>\n",
       "      <td>1996</td>\n",
       "    </tr>\n",
       "    <tr>\n",
       "      <th>65 y más</th>\n",
       "      <td>1756</td>\n",
       "    </tr>\n",
       "    <tr>\n",
       "      <th>40-44</th>\n",
       "      <td>1599</td>\n",
       "    </tr>\n",
       "    <tr>\n",
       "      <th>45-49</th>\n",
       "      <td>1372</td>\n",
       "    </tr>\n",
       "    <tr>\n",
       "      <th>50-54</th>\n",
       "      <td>1291</td>\n",
       "    </tr>\n",
       "    <tr>\n",
       "      <th>55-59</th>\n",
       "      <td>995</td>\n",
       "    </tr>\n",
       "    <tr>\n",
       "      <th>60-64</th>\n",
       "      <td>862</td>\n",
       "    </tr>\n",
       "    <tr>\n",
       "      <th>10-14</th>\n",
       "      <td>465</td>\n",
       "    </tr>\n",
       "    <tr>\n",
       "      <th>0-4</th>\n",
       "      <td>368</td>\n",
       "    </tr>\n",
       "    <tr>\n",
       "      <th>5-9</th>\n",
       "      <td>357</td>\n",
       "    </tr>\n",
       "  </tbody>\n",
       "</table>\n",
       "</div>"
      ],
      "text/plain": [
       "              count\n",
       "grupo_edad         \n",
       "No declarado   8134\n",
       "20-24          4017\n",
       "25-29          2974\n",
       "15-19          2800\n",
       "30-34          2365\n",
       "35-39          1996\n",
       "65 y más       1756\n",
       "40-44          1599\n",
       "45-49          1372\n",
       "50-54          1291\n",
       "55-59           995\n",
       "60-64           862\n",
       "10-14           465\n",
       "0-4             368\n",
       "5-9             357"
      ]
     },
     "metadata": {},
     "output_type": "display_data"
    },
    {
     "name": "stdout",
     "output_type": "stream",
     "text": [
      "La columna condicion_victima tiene los siguientes valores únicos:\n"
     ]
    },
    {
     "data": {
      "application/vnd.microsoft.datawrangler.viewer.v0+json": {
       "columns": [
        {
         "name": "condicion_victima",
         "rawType": "object",
         "type": "string"
        },
        {
         "name": "count",
         "rawType": "int64",
         "type": "integer"
        }
       ],
       "conversionMethod": "pd.DataFrame",
       "ref": "e01c8f92-1887-4fac-b51f-82733c9c237a",
       "rows": [
        [
         "No declarada",
         "13132"
        ],
        [
         "Conductor",
         "12600"
        ],
        [
         "Pasajero",
         "2824"
        ],
        [
         "Peatón",
         "2795"
        ]
       ],
       "shape": {
        "columns": 1,
        "rows": 4
       }
      },
      "text/html": [
       "<div>\n",
       "<style scoped>\n",
       "    .dataframe tbody tr th:only-of-type {\n",
       "        vertical-align: middle;\n",
       "    }\n",
       "\n",
       "    .dataframe tbody tr th {\n",
       "        vertical-align: top;\n",
       "    }\n",
       "\n",
       "    .dataframe thead th {\n",
       "        text-align: right;\n",
       "    }\n",
       "</style>\n",
       "<table border=\"1\" class=\"dataframe\">\n",
       "  <thead>\n",
       "    <tr style=\"text-align: right;\">\n",
       "      <th></th>\n",
       "      <th>count</th>\n",
       "    </tr>\n",
       "    <tr>\n",
       "      <th>condicion_victima</th>\n",
       "      <th></th>\n",
       "    </tr>\n",
       "  </thead>\n",
       "  <tbody>\n",
       "    <tr>\n",
       "      <th>No declarada</th>\n",
       "      <td>13132</td>\n",
       "    </tr>\n",
       "    <tr>\n",
       "      <th>Conductor</th>\n",
       "      <td>12600</td>\n",
       "    </tr>\n",
       "    <tr>\n",
       "      <th>Pasajero</th>\n",
       "      <td>2824</td>\n",
       "    </tr>\n",
       "    <tr>\n",
       "      <th>Peatón</th>\n",
       "      <td>2795</td>\n",
       "    </tr>\n",
       "  </tbody>\n",
       "</table>\n",
       "</div>"
      ],
      "text/plain": [
       "                   count\n",
       "condicion_victima       \n",
       "No declarada       13132\n",
       "Conductor          12600\n",
       "Pasajero            2824\n",
       "Peatón              2795"
      ]
     },
     "metadata": {},
     "output_type": "display_data"
    },
    {
     "name": "stdout",
     "output_type": "stream",
     "text": [
      "La columna tipo_accidente tiene los siguientes valores únicos:\n"
     ]
    },
    {
     "data": {
      "application/vnd.microsoft.datawrangler.viewer.v0+json": {
       "columns": [
        {
         "name": "tipo_accidente",
         "rawType": "object",
         "type": "string"
        },
        {
         "name": "count",
         "rawType": "int64",
         "type": "integer"
        }
       ],
       "conversionMethod": "pd.DataFrame",
       "ref": "baa4bd90-aaae-415c-a453-e6e0697187f0",
       "rows": [
        [
         "Choque o colisión",
         "17915"
        ],
        [
         "Atropellamiento",
         "5779"
        ],
        [
         "Deslizamiento",
         "5216"
        ],
        [
         "Estrellamiento",
         "1282"
        ],
        [
         "Vuelco o vuelcadura",
         "849"
        ],
        [
         "Caída",
         "277"
        ],
        [
         "Aplastamiento",
         "18"
        ],
        [
         "No declarado",
         "12"
        ],
        [
         "Otros",
         "3"
        ]
       ],
       "shape": {
        "columns": 1,
        "rows": 9
       }
      },
      "text/html": [
       "<div>\n",
       "<style scoped>\n",
       "    .dataframe tbody tr th:only-of-type {\n",
       "        vertical-align: middle;\n",
       "    }\n",
       "\n",
       "    .dataframe tbody tr th {\n",
       "        vertical-align: top;\n",
       "    }\n",
       "\n",
       "    .dataframe thead th {\n",
       "        text-align: right;\n",
       "    }\n",
       "</style>\n",
       "<table border=\"1\" class=\"dataframe\">\n",
       "  <thead>\n",
       "    <tr style=\"text-align: right;\">\n",
       "      <th></th>\n",
       "      <th>count</th>\n",
       "    </tr>\n",
       "    <tr>\n",
       "      <th>tipo_accidente</th>\n",
       "      <th></th>\n",
       "    </tr>\n",
       "  </thead>\n",
       "  <tbody>\n",
       "    <tr>\n",
       "      <th>Choque o colisión</th>\n",
       "      <td>17915</td>\n",
       "    </tr>\n",
       "    <tr>\n",
       "      <th>Atropellamiento</th>\n",
       "      <td>5779</td>\n",
       "    </tr>\n",
       "    <tr>\n",
       "      <th>Deslizamiento</th>\n",
       "      <td>5216</td>\n",
       "    </tr>\n",
       "    <tr>\n",
       "      <th>Estrellamiento</th>\n",
       "      <td>1282</td>\n",
       "    </tr>\n",
       "    <tr>\n",
       "      <th>Vuelco o vuelcadura</th>\n",
       "      <td>849</td>\n",
       "    </tr>\n",
       "    <tr>\n",
       "      <th>Caída</th>\n",
       "      <td>277</td>\n",
       "    </tr>\n",
       "    <tr>\n",
       "      <th>Aplastamiento</th>\n",
       "      <td>18</td>\n",
       "    </tr>\n",
       "    <tr>\n",
       "      <th>No declarado</th>\n",
       "      <td>12</td>\n",
       "    </tr>\n",
       "    <tr>\n",
       "      <th>Otros</th>\n",
       "      <td>3</td>\n",
       "    </tr>\n",
       "  </tbody>\n",
       "</table>\n",
       "</div>"
      ],
      "text/plain": [
       "                     count\n",
       "tipo_accidente            \n",
       "Choque o colisión    17915\n",
       "Atropellamiento       5779\n",
       "Deslizamiento         5216\n",
       "Estrellamiento        1282\n",
       "Vuelco o vuelcadura    849\n",
       "Caída                  277\n",
       "Aplastamiento           18\n",
       "No declarado            12\n",
       "Otros                    3"
      ]
     },
     "metadata": {},
     "output_type": "display_data"
    },
    {
     "name": "stdout",
     "output_type": "stream",
     "text": [
      "La columna medio_trans tiene los siguientes valores únicos:\n"
     ]
    },
    {
     "data": {
      "application/vnd.microsoft.datawrangler.viewer.v0+json": {
       "columns": [
        {
         "name": "medio_trans",
         "rawType": "object",
         "type": "string"
        },
        {
         "name": "count",
         "rawType": "int64",
         "type": "integer"
        }
       ],
       "conversionMethod": "pd.DataFrame",
       "ref": "a52c2e33-92ed-451f-90af-756a6e495320",
       "rows": [
        [
         "Motocicleta, ciclomotor (passola)",
         "19981"
        ],
        [
         "Peatón atropellado",
         "5775"
        ],
        [
         "Automóvil (carro)",
         "2077"
        ],
        [
         "Yipeta, yip",
         "930"
        ],
        [
         "Camión",
         "831"
        ],
        [
         "Camioneta",
         "723"
        ],
        [
         "No declarado",
         "364"
        ],
        [
         "Autobús",
         "264"
        ],
        [
         "Minibús, miniván",
         "194"
        ],
        [
         "Bicicleta",
         "82"
        ],
        [
         "Otros",
         "53"
        ],
        [
         "Tractor",
         "19"
        ],
        [
         "Animal",
         "11"
        ],
        [
         "Patana",
         "10"
        ],
        [
         "Furgoneta",
         "6"
        ],
        [
         "Vehículo le cayó encima",
         "6"
        ],
        [
         "Ambulancia",
         "6"
        ],
        [
         "Triciclo",
         "5"
        ],
        [
         "Volteo",
         "3"
        ],
        [
         "Excavadora",
         "3"
        ],
        [
         "Pala mecánica",
         "2"
        ],
        [
         "Carreta",
         "2"
        ],
        [
         "Grúa",
         "2"
        ],
        [
         "Rodillo",
         "1"
        ],
        [
         "Gredar",
         "1"
        ]
       ],
       "shape": {
        "columns": 1,
        "rows": 25
       }
      },
      "text/html": [
       "<div>\n",
       "<style scoped>\n",
       "    .dataframe tbody tr th:only-of-type {\n",
       "        vertical-align: middle;\n",
       "    }\n",
       "\n",
       "    .dataframe tbody tr th {\n",
       "        vertical-align: top;\n",
       "    }\n",
       "\n",
       "    .dataframe thead th {\n",
       "        text-align: right;\n",
       "    }\n",
       "</style>\n",
       "<table border=\"1\" class=\"dataframe\">\n",
       "  <thead>\n",
       "    <tr style=\"text-align: right;\">\n",
       "      <th></th>\n",
       "      <th>count</th>\n",
       "    </tr>\n",
       "    <tr>\n",
       "      <th>medio_trans</th>\n",
       "      <th></th>\n",
       "    </tr>\n",
       "  </thead>\n",
       "  <tbody>\n",
       "    <tr>\n",
       "      <th>Motocicleta, ciclomotor (passola)</th>\n",
       "      <td>19981</td>\n",
       "    </tr>\n",
       "    <tr>\n",
       "      <th>Peatón atropellado</th>\n",
       "      <td>5775</td>\n",
       "    </tr>\n",
       "    <tr>\n",
       "      <th>Automóvil (carro)</th>\n",
       "      <td>2077</td>\n",
       "    </tr>\n",
       "    <tr>\n",
       "      <th>Yipeta, yip</th>\n",
       "      <td>930</td>\n",
       "    </tr>\n",
       "    <tr>\n",
       "      <th>Camión</th>\n",
       "      <td>831</td>\n",
       "    </tr>\n",
       "    <tr>\n",
       "      <th>Camioneta</th>\n",
       "      <td>723</td>\n",
       "    </tr>\n",
       "    <tr>\n",
       "      <th>No declarado</th>\n",
       "      <td>364</td>\n",
       "    </tr>\n",
       "    <tr>\n",
       "      <th>Autobús</th>\n",
       "      <td>264</td>\n",
       "    </tr>\n",
       "    <tr>\n",
       "      <th>Minibús, miniván</th>\n",
       "      <td>194</td>\n",
       "    </tr>\n",
       "    <tr>\n",
       "      <th>Bicicleta</th>\n",
       "      <td>82</td>\n",
       "    </tr>\n",
       "    <tr>\n",
       "      <th>Otros</th>\n",
       "      <td>53</td>\n",
       "    </tr>\n",
       "    <tr>\n",
       "      <th>Tractor</th>\n",
       "      <td>19</td>\n",
       "    </tr>\n",
       "    <tr>\n",
       "      <th>Animal</th>\n",
       "      <td>11</td>\n",
       "    </tr>\n",
       "    <tr>\n",
       "      <th>Patana</th>\n",
       "      <td>10</td>\n",
       "    </tr>\n",
       "    <tr>\n",
       "      <th>Furgoneta</th>\n",
       "      <td>6</td>\n",
       "    </tr>\n",
       "    <tr>\n",
       "      <th>Vehículo le cayó encima</th>\n",
       "      <td>6</td>\n",
       "    </tr>\n",
       "    <tr>\n",
       "      <th>Ambulancia</th>\n",
       "      <td>6</td>\n",
       "    </tr>\n",
       "    <tr>\n",
       "      <th>Triciclo</th>\n",
       "      <td>5</td>\n",
       "    </tr>\n",
       "    <tr>\n",
       "      <th>Volteo</th>\n",
       "      <td>3</td>\n",
       "    </tr>\n",
       "    <tr>\n",
       "      <th>Excavadora</th>\n",
       "      <td>3</td>\n",
       "    </tr>\n",
       "    <tr>\n",
       "      <th>Pala mecánica</th>\n",
       "      <td>2</td>\n",
       "    </tr>\n",
       "    <tr>\n",
       "      <th>Carreta</th>\n",
       "      <td>2</td>\n",
       "    </tr>\n",
       "    <tr>\n",
       "      <th>Grúa</th>\n",
       "      <td>2</td>\n",
       "    </tr>\n",
       "    <tr>\n",
       "      <th>Rodillo</th>\n",
       "      <td>1</td>\n",
       "    </tr>\n",
       "    <tr>\n",
       "      <th>Gredar</th>\n",
       "      <td>1</td>\n",
       "    </tr>\n",
       "  </tbody>\n",
       "</table>\n",
       "</div>"
      ],
      "text/plain": [
       "                                   count\n",
       "medio_trans                             \n",
       "Motocicleta, ciclomotor (passola)  19981\n",
       "Peatón atropellado                  5775\n",
       "Automóvil (carro)                   2077\n",
       "Yipeta, yip                          930\n",
       "Camión                               831\n",
       "Camioneta                            723\n",
       "No declarado                         364\n",
       "Autobús                              264\n",
       "Minibús, miniván                     194\n",
       "Bicicleta                             82\n",
       "Otros                                 53\n",
       "Tractor                               19\n",
       "Animal                                11\n",
       "Patana                                10\n",
       "Furgoneta                              6\n",
       "Vehículo le cayó encima                6\n",
       "Ambulancia                             6\n",
       "Triciclo                               5\n",
       "Volteo                                 3\n",
       "Excavadora                             3\n",
       "Pala mecánica                          2\n",
       "Carreta                                2\n",
       "Grúa                                   2\n",
       "Rodillo                                1\n",
       "Gredar                                 1"
      ]
     },
     "metadata": {},
     "output_type": "display_data"
    }
   ],
   "source": [
    "f.exploracion_dataframe(df_descodificada)"
   ]
  },
  {
   "cell_type": "code",
   "execution_count": 6,
   "metadata": {},
   "outputs": [
    {
     "data": {
      "text/plain": [
       "anio\n",
       "2010    2132\n",
       "2019    2100\n",
       "2016    1991\n",
       "2023    1949\n",
       "2015    1946\n",
       "Name: count, dtype: int64"
      ]
     },
     "execution_count": 6,
     "metadata": {},
     "output_type": "execute_result"
    }
   ],
   "source": [
    "df_descodificada['anio'].value_counts().head() # cantidad de muertes por accidentes en cada año, primeros 5"
   ]
  },
  {
   "cell_type": "code",
   "execution_count": 7,
   "metadata": {},
   "outputs": [
    {
     "data": {
      "text/plain": [
       "grupo_edad\n",
       "No declarado   25.94\n",
       "20-24          12.81\n",
       "25-29           9.49\n",
       "15-19           8.93\n",
       "30-34           7.54\n",
       "35-39           6.37\n",
       "65 y más        5.60\n",
       "40-44           5.10\n",
       "45-49           4.38\n",
       "50-54           4.12\n",
       "55-59           3.17\n",
       "60-64           2.75\n",
       "10-14           1.48\n",
       "0-4             1.17\n",
       "5-9             1.14\n",
       "Name: proportion, dtype: float64"
      ]
     },
     "execution_count": 7,
     "metadata": {},
     "output_type": "execute_result"
    }
   ],
   "source": [
    "df_descodificada['grupo_edad'].value_counts(normalize=True) *100 # cantidad de muertes por grupo de edad"
   ]
  },
  {
   "cell_type": "code",
   "execution_count": 8,
   "metadata": {},
   "outputs": [
    {
     "data": {
      "text/plain": [
       "region\n",
       "Región Ozama            20.34\n",
       "Región Cibao Norte      14.81\n",
       "Región Cibao Sur        12.20\n",
       "Región Valdesia         11.13\n",
       "Región Yuma              9.41\n",
       "Región Cibao Nordeste    9.33\n",
       "Región El Valle          6.73\n",
       "Región Higuamo           6.56\n",
       "Región Cibao Noroeste    5.66\n",
       "Región Enriquillo        3.80\n",
       "No declarada             0.02\n",
       "Name: proportion, dtype: float64"
      ]
     },
     "execution_count": 8,
     "metadata": {},
     "output_type": "execute_result"
    }
   ],
   "source": [
    "df_descodificada['region'].value_counts(normalize=True) *100 # cantidad de muertes por grupo de edad"
   ]
  },
  {
   "cell_type": "code",
   "execution_count": 9,
   "metadata": {},
   "outputs": [
    {
     "data": {
      "text/plain": [
       "provincia\n",
       "Santo Domingo             15.23\n",
       "San Cristóbal              7.57\n",
       "Santiago                   7.42\n",
       "La Vega                    6.92\n",
       "La Altagracia              6.12\n",
       "Distrito Nacional          5.11\n",
       "Puerto Plata               4.44\n",
       "Duarte                     3.78\n",
       "Monseñor Nouel             3.42\n",
       "San Pedro de Macorís       3.38\n",
       "Azua                       3.22\n",
       "San Juan                   3.09\n",
       "Espaillat                  2.95\n",
       "Peravia                    2.90\n",
       "María Trinidad. Sánchez    2.38\n",
       "Valverde                   2.37\n",
       "Monte Plata                2.32\n",
       "La Romana                  2.26\n",
       "Samaná                     1.93\n",
       "Barahona                   1.91\n",
       "Sánchez Ramírez            1.87\n",
       "Monte Cristi               1.71\n",
       "Hermanas Mirabal           1.24\n",
       "Baoruco                    1.07\n",
       "El Seibo                   1.04\n",
       "Dajabón                    0.94\n",
       "Hato Mayor                 0.85\n",
       "San José de Ocoa           0.66\n",
       "Santiago Rodríguez         0.65\n",
       "Independencia              0.53\n",
       "Elías Piña                 0.42\n",
       "Pedernales                 0.29\n",
       "No declarada               0.02\n",
       "Name: proportion, dtype: float64"
      ]
     },
     "execution_count": 9,
     "metadata": {},
     "output_type": "execute_result"
    }
   ],
   "source": [
    "df_descodificada['provincia'].value_counts(normalize=True) *100 # cantidad de muertes por grupo de edad"
   ]
  },
  {
   "cell_type": "code",
   "execution_count": 10,
   "metadata": {},
   "outputs": [
    {
     "data": {
      "text/plain": [
       "tipo_via\n",
       "Carretera        44.13\n",
       "Calle            19.27\n",
       "Avenida          14.71\n",
       "Autopista        14.45\n",
       "No declarada      4.89\n",
       "Autovía           1.08\n",
       "Bulevar           0.50\n",
       "Puente            0.41\n",
       "Camino vecinal    0.26\n",
       "Elevado           0.11\n",
       "Otras             0.11\n",
       "Cruce             0.04\n",
       "Tunel             0.03\n",
       "Vía férrea        0.01\n",
       "Name: proportion, dtype: float64"
      ]
     },
     "execution_count": 10,
     "metadata": {},
     "output_type": "execute_result"
    }
   ],
   "source": [
    "df_descodificada['tipo_via'].value_counts(normalize=True) *100 # cantidad de muertes por tipo de vía"
   ]
  },
  {
   "cell_type": "code",
   "execution_count": 11,
   "metadata": {},
   "outputs": [
    {
     "data": {
      "text/plain": [
       "sexo\n",
       "Hombres        87.36\n",
       "Mujeres        12.41\n",
       "No declarado    0.23\n",
       "Name: proportion, dtype: float64"
      ]
     },
     "execution_count": 11,
     "metadata": {},
     "output_type": "execute_result"
    }
   ],
   "source": [
    "df_descodificada['sexo'].value_counts(normalize=True) *100 #cantidad de muertes según el género"
   ]
  },
  {
   "cell_type": "markdown",
   "metadata": {},
   "source": [
    "- Los hombres son aquellos que más mueren, por encima de las mujeres."
   ]
  },
  {
   "cell_type": "code",
   "execution_count": 12,
   "metadata": {},
   "outputs": [
    {
     "data": {
      "text/plain": [
       "medio_trans\n",
       "Motocicleta, ciclomotor (passola)   63.73\n",
       "Peatón atropellado                  18.42\n",
       "Automóvil (carro)                    6.62\n",
       "Yipeta, yip                          2.97\n",
       "Camión                               2.65\n",
       "Name: proportion, dtype: float64"
      ]
     },
     "execution_count": 12,
     "metadata": {},
     "output_type": "execute_result"
    }
   ],
   "source": [
    "df_descodificada['medio_trans'].value_counts(normalize=True).head() *100 #cantidad de muertes según el medio de transporte, primeros 5"
   ]
  },
  {
   "cell_type": "markdown",
   "metadata": {},
   "source": [
    "- En los fallecidos por accidentes de tránsito, los principales medios involucrados fueron la moto (63.73%), un peatón (18.42%) y automóviles (6.62%)"
   ]
  },
  {
   "cell_type": "code",
   "execution_count": 13,
   "metadata": {},
   "outputs": [],
   "source": [
    "df_num, df_cat = f.separar_dataframes(df_descodificada)"
   ]
  },
  {
   "cell_type": "markdown",
   "metadata": {},
   "source": [
    "### Distribución gráfica de la cantidad de accidentes por años"
   ]
  },
  {
   "cell_type": "code",
   "execution_count": 14,
   "metadata": {},
   "outputs": [
    {
     "data": {
      "image/png": "[encoded data removed]",
      "text/plain": [
       "<Figure size 1000x800 with 1 Axes>"
      ]
     },
     "metadata": {},
     "output_type": "display_data"
    }
   ],
   "source": [
    "f.plot_numericas(df_num)"
   ]
  },
  {
   "cell_type": "code",
   "execution_count": 15,
   "metadata": {},
   "outputs": [
    {
     "data": {
      "text/plain": [
       "anio\n",
       "2010    2132\n",
       "2019    2100\n",
       "2016    1991\n",
       "2023    1949\n",
       "2015    1946\n",
       "2013    1892\n",
       "2021    1874\n",
       "2009    1873\n",
       "2014    1855\n",
       "2008    1846\n",
       "2011    1833\n",
       "2022    1794\n",
       "2012    1768\n",
       "2007    1747\n",
       "2020    1737\n",
       "2017    1587\n",
       "2018    1427\n",
       "Name: count, dtype: int64"
      ]
     },
     "execution_count": 15,
     "metadata": {},
     "output_type": "execute_result"
    }
   ],
   "source": [
    "df_num.value_counts()"
   ]
  },
  {
   "cell_type": "markdown",
   "metadata": {},
   "source": [
    "### Distribución gráfica de columnas categóricas"
   ]
  },
  {
   "cell_type": "code",
   "execution_count": 16,
   "metadata": {},
   "outputs": [
    {
     "data": {
      "image/png": "[encoded data removed]",
      "text/plain": [
       "<Figure size 1500x800 with 11 Axes>"
      ]
     },
     "metadata": {},
     "output_type": "display_data"
    }
   ],
   "source": [
    "f.plot_categoricas(df_cat)"
   ]
  },
  {
   "cell_type": "code",
   "execution_count": 17,
   "metadata": {},
   "outputs": [
    {
     "data": {
      "image/png": "[encoded data removed]",
      "text/plain": [
       "<Figure size 1500x1000 with 2 Axes>"
      ]
     },
     "metadata": {},
     "output_type": "display_data"
    }
   ],
   "source": [
    "f.detectar_outliers(df_descodificada)"
   ]
  },
  {
   "cell_type": "markdown",
   "metadata": {},
   "source": [
    "### Diferencias geográficas"
   ]
  },
  {
   "cell_type": "code",
   "execution_count": 18,
   "metadata": {},
   "outputs": [
    {
     "data": {
      "application/vnd.microsoft.datawrangler.viewer.v0+json": {
       "columns": [
        {
         "name": "('region', 'provincia')",
         "rawType": "object",
         "type": "unknown"
        },
        {
         "name": "tipo_via",
         "rawType": "int64",
         "type": "integer"
        }
       ],
       "conversionMethod": "pd.DataFrame",
       "ref": "e4ae9e4a-9e4b-42ae-a4b5-164594820c5a",
       "rows": [
        [
         "('No declarada', 'No declarada')",
         "5"
        ],
        [
         "('Región Cibao Nordeste', 'Duarte')",
         "1186"
        ],
        [
         "('Región Cibao Nordeste', 'Hermanas Mirabal')",
         "388"
        ],
        [
         "('Región Cibao Nordeste', 'María Trinidad. Sánchez')",
         "746"
        ],
        [
         "('Región Cibao Nordeste', 'Samaná')",
         "606"
        ],
        [
         "('Región Cibao Noroeste', 'Dajabón')",
         "294"
        ],
        [
         "('Región Cibao Noroeste', 'Monte Cristi')",
         "535"
        ],
        [
         "('Región Cibao Noroeste', 'Santiago Rodríguez')",
         "204"
        ],
        [
         "('Región Cibao Noroeste', 'Valverde')",
         "742"
        ],
        [
         "('Región Cibao Norte', 'Espaillat')",
         "926"
        ],
        [
         "('Región Cibao Norte', 'Puerto Plata')",
         "1393"
        ],
        [
         "('Región Cibao Norte', 'Santiago')",
         "2325"
        ],
        [
         "('Región Cibao Sur', 'La Vega')",
         "2168"
        ],
        [
         "('Región Cibao Sur', 'Monseñor Nouel')",
         "1073"
        ],
        [
         "('Región Cibao Sur', 'Sánchez Ramírez')",
         "585"
        ],
        [
         "('Región El Valle', 'Azua')",
         "1009"
        ],
        [
         "('Región El Valle', 'Elías Piña')",
         "133"
        ],
        [
         "('Región El Valle', 'San Juan')",
         "969"
        ],
        [
         "('Región Enriquillo', 'Baoruco')",
         "334"
        ],
        [
         "('Región Enriquillo', 'Barahona')",
         "598"
        ],
        [
         "('Región Enriquillo', 'Independencia')",
         "167"
        ],
        [
         "('Región Enriquillo', 'Pedernales')",
         "92"
        ],
        [
         "('Región Higuamo', 'Hato Mayor')",
         "267"
        ],
        [
         "('Región Higuamo', 'Monte Plata')",
         "728"
        ],
        [
         "('Región Higuamo', 'San Pedro de Macorís')",
         "1061"
        ],
        [
         "('Región Ozama', 'Distrito Nacional')",
         "1601"
        ],
        [
         "('Región Ozama', 'Santo Domingo')",
         "4776"
        ],
        [
         "('Región Valdesia', 'Peravia')",
         "910"
        ],
        [
         "('Región Valdesia', 'San Cristóbal')",
         "2373"
        ],
        [
         "('Región Valdesia', 'San José de Ocoa')",
         "206"
        ],
        [
         "('Región Yuma', 'El Seibo')",
         "325"
        ],
        [
         "('Región Yuma', 'La Altagracia')",
         "1919"
        ],
        [
         "('Región Yuma', 'La Romana')",
         "707"
        ]
       ],
       "shape": {
        "columns": 1,
        "rows": 33
       }
      },
      "text/html": [
       "<div>\n",
       "<style scoped>\n",
       "    .dataframe tbody tr th:only-of-type {\n",
       "        vertical-align: middle;\n",
       "    }\n",
       "\n",
       "    .dataframe tbody tr th {\n",
       "        vertical-align: top;\n",
       "    }\n",
       "\n",
       "    .dataframe thead th {\n",
       "        text-align: right;\n",
       "    }\n",
       "</style>\n",
       "<table border=\"1\" class=\"dataframe\">\n",
       "  <thead>\n",
       "    <tr style=\"text-align: right;\">\n",
       "      <th></th>\n",
       "      <th></th>\n",
       "      <th>tipo_via</th>\n",
       "    </tr>\n",
       "    <tr>\n",
       "      <th>region</th>\n",
       "      <th>provincia</th>\n",
       "      <th></th>\n",
       "    </tr>\n",
       "  </thead>\n",
       "  <tbody>\n",
       "    <tr>\n",
       "      <th>No declarada</th>\n",
       "      <th>No declarada</th>\n",
       "      <td>5</td>\n",
       "    </tr>\n",
       "    <tr>\n",
       "      <th rowspan=\"4\" valign=\"top\">Región Cibao Nordeste</th>\n",
       "      <th>Duarte</th>\n",
       "      <td>1186</td>\n",
       "    </tr>\n",
       "    <tr>\n",
       "      <th>Hermanas Mirabal</th>\n",
       "      <td>388</td>\n",
       "    </tr>\n",
       "    <tr>\n",
       "      <th>María Trinidad. Sánchez</th>\n",
       "      <td>746</td>\n",
       "    </tr>\n",
       "    <tr>\n",
       "      <th>Samaná</th>\n",
       "      <td>606</td>\n",
       "    </tr>\n",
       "    <tr>\n",
       "      <th rowspan=\"4\" valign=\"top\">Región Cibao Noroeste</th>\n",
       "      <th>Dajabón</th>\n",
       "      <td>294</td>\n",
       "    </tr>\n",
       "    <tr>\n",
       "      <th>Monte Cristi</th>\n",
       "      <td>535</td>\n",
       "    </tr>\n",
       "    <tr>\n",
       "      <th>Santiago Rodríguez</th>\n",
       "      <td>204</td>\n",
       "    </tr>\n",
       "    <tr>\n",
       "      <th>Valverde</th>\n",
       "      <td>742</td>\n",
       "    </tr>\n",
       "    <tr>\n",
       "      <th rowspan=\"3\" valign=\"top\">Región Cibao Norte</th>\n",
       "      <th>Espaillat</th>\n",
       "      <td>926</td>\n",
       "    </tr>\n",
       "    <tr>\n",
       "      <th>Puerto Plata</th>\n",
       "      <td>1393</td>\n",
       "    </tr>\n",
       "    <tr>\n",
       "      <th>Santiago</th>\n",
       "      <td>2325</td>\n",
       "    </tr>\n",
       "    <tr>\n",
       "      <th rowspan=\"3\" valign=\"top\">Región Cibao Sur</th>\n",
       "      <th>La Vega</th>\n",
       "      <td>2168</td>\n",
       "    </tr>\n",
       "    <tr>\n",
       "      <th>Monseñor Nouel</th>\n",
       "      <td>1073</td>\n",
       "    </tr>\n",
       "    <tr>\n",
       "      <th>Sánchez Ramírez</th>\n",
       "      <td>585</td>\n",
       "    </tr>\n",
       "    <tr>\n",
       "      <th rowspan=\"3\" valign=\"top\">Región El Valle</th>\n",
       "      <th>Azua</th>\n",
       "      <td>1009</td>\n",
       "    </tr>\n",
       "    <tr>\n",
       "      <th>Elías Piña</th>\n",
       "      <td>133</td>\n",
       "    </tr>\n",
       "    <tr>\n",
       "      <th>San Juan</th>\n",
       "      <td>969</td>\n",
       "    </tr>\n",
       "    <tr>\n",
       "      <th rowspan=\"4\" valign=\"top\">Región Enriquillo</th>\n",
       "      <th>Baoruco</th>\n",
       "      <td>334</td>\n",
       "    </tr>\n",
       "    <tr>\n",
       "      <th>Barahona</th>\n",
       "      <td>598</td>\n",
       "    </tr>\n",
       "    <tr>\n",
       "      <th>Independencia</th>\n",
       "      <td>167</td>\n",
       "    </tr>\n",
       "    <tr>\n",
       "      <th>Pedernales</th>\n",
       "      <td>92</td>\n",
       "    </tr>\n",
       "    <tr>\n",
       "      <th rowspan=\"3\" valign=\"top\">Región Higuamo</th>\n",
       "      <th>Hato Mayor</th>\n",
       "      <td>267</td>\n",
       "    </tr>\n",
       "    <tr>\n",
       "      <th>Monte Plata</th>\n",
       "      <td>728</td>\n",
       "    </tr>\n",
       "    <tr>\n",
       "      <th>San Pedro de Macorís</th>\n",
       "      <td>1061</td>\n",
       "    </tr>\n",
       "    <tr>\n",
       "      <th rowspan=\"2\" valign=\"top\">Región Ozama</th>\n",
       "      <th>Distrito Nacional</th>\n",
       "      <td>1601</td>\n",
       "    </tr>\n",
       "    <tr>\n",
       "      <th>Santo Domingo</th>\n",
       "      <td>4776</td>\n",
       "    </tr>\n",
       "    <tr>\n",
       "      <th rowspan=\"3\" valign=\"top\">Región Valdesia</th>\n",
       "      <th>Peravia</th>\n",
       "      <td>910</td>\n",
       "    </tr>\n",
       "    <tr>\n",
       "      <th>San Cristóbal</th>\n",
       "      <td>2373</td>\n",
       "    </tr>\n",
       "    <tr>\n",
       "      <th>San José de Ocoa</th>\n",
       "      <td>206</td>\n",
       "    </tr>\n",
       "    <tr>\n",
       "      <th rowspan=\"3\" valign=\"top\">Región Yuma</th>\n",
       "      <th>El Seibo</th>\n",
       "      <td>325</td>\n",
       "    </tr>\n",
       "    <tr>\n",
       "      <th>La Altagracia</th>\n",
       "      <td>1919</td>\n",
       "    </tr>\n",
       "    <tr>\n",
       "      <th>La Romana</th>\n",
       "      <td>707</td>\n",
       "    </tr>\n",
       "  </tbody>\n",
       "</table>\n",
       "</div>"
      ],
      "text/plain": [
       "                                               tipo_via\n",
       "region                provincia                        \n",
       "No declarada          No declarada                    5\n",
       "Región Cibao Nordeste Duarte                       1186\n",
       "                      Hermanas Mirabal              388\n",
       "                      María Trinidad. Sánchez       746\n",
       "                      Samaná                        606\n",
       "Región Cibao Noroeste Dajabón                       294\n",
       "                      Monte Cristi                  535\n",
       "                      Santiago Rodríguez            204\n",
       "                      Valverde                      742\n",
       "Región Cibao Norte    Espaillat                     926\n",
       "                      Puerto Plata                 1393\n",
       "                      Santiago                     2325\n",
       "Región Cibao Sur      La Vega                      2168\n",
       "                      Monseñor Nouel               1073\n",
       "                      Sánchez Ramírez               585\n",
       "Región El Valle       Azua                         1009\n",
       "                      Elías Piña                    133\n",
       "                      San Juan                      969\n",
       "Región Enriquillo     Baoruco                       334\n",
       "                      Barahona                      598\n",
       "                      Independencia                 167\n",
       "                      Pedernales                     92\n",
       "Región Higuamo        Hato Mayor                    267\n",
       "                      Monte Plata                   728\n",
       "                      San Pedro de Macorís         1061\n",
       "Región Ozama          Distrito Nacional            1601\n",
       "                      Santo Domingo                4776\n",
       "Región Valdesia       Peravia                       910\n",
       "                      San Cristóbal                2373\n",
       "                      San José de Ocoa              206\n",
       "Región Yuma           El Seibo                      325\n",
       "                      La Altagracia                1919\n",
       "                      La Romana                     707"
      ]
     },
     "execution_count": 18,
     "metadata": {},
     "output_type": "execute_result"
    }
   ],
   "source": [
    "df_descodificada.groupby(['region', 'provincia'])[['tipo_via']].count().sort_index() #distribución de muertes por región y provincia"
   ]
  },
  {
   "cell_type": "markdown",
   "metadata": {},
   "source": [
    "### Diferencias históricas por regiones"
   ]
  },
  {
   "cell_type": "markdown",
   "metadata": {},
   "source": [
    "### Análisis Temporal de Muertes por Accidentes de Tránsito\n",
    "\n",
    "- **Región Ozama**:  \n",
    "  - Se ha mantenido en el **primer lugar** en cuanto a muertes por accidentes de tránsito, salvo en **2015**, cuando fue superada por la **Región Cibao Norte** (segundo lugar).  \n",
    "  - Hasta **2013**, era común registrar más de **400 fallecidos** al año. Sin embargo, desde ese punto, el número de víctimas mostró reducciones.  \n",
    "  - A partir de **2018**, las cifras comenzaron a oscilar nuevamente entre **300 y 400 fallecidos** por año.\n",
    "\n",
    "- **Región Cibao Norte y Cibao Sur**:  \n",
    "  - Las muertes por accidentes de tránsito en ambas regiones suelen oscilar entre **200 y 300 casos** anuales.  \n",
    "  - En el caso de **Cibao Norte**, hubo años particulares (**2014, 2015, 2016, y 2019**) en los que las defunciones superaron las **300 víctimas**.\n",
    "\n",
    "- **Región Valdesia**:  \n",
    "  - Con frecuencia supera los **200 fallecidos** anualmente, aunque en ciertos años no alcanza esta cifra.  \n",
    "  - Su valor más alto de defunciones se registró en el año más reciente: **2023**.\n"
   ]
  },
  {
   "cell_type": "code",
   "execution_count": 19,
   "metadata": {},
   "outputs": [
    {
     "data": {
      "application/vnd.microsoft.datawrangler.viewer.v0+json": {
       "columns": [
        {
         "name": "region",
         "rawType": "object",
         "type": "string"
        },
        {
         "name": "2007",
         "rawType": "float64",
         "type": "float"
        },
        {
         "name": "2008",
         "rawType": "float64",
         "type": "float"
        },
        {
         "name": "2009",
         "rawType": "float64",
         "type": "float"
        },
        {
         "name": "2010",
         "rawType": "float64",
         "type": "float"
        },
        {
         "name": "2011",
         "rawType": "float64",
         "type": "float"
        },
        {
         "name": "2012",
         "rawType": "float64",
         "type": "float"
        },
        {
         "name": "2013",
         "rawType": "float64",
         "type": "float"
        },
        {
         "name": "2014",
         "rawType": "float64",
         "type": "float"
        },
        {
         "name": "2015",
         "rawType": "float64",
         "type": "float"
        },
        {
         "name": "2016",
         "rawType": "float64",
         "type": "float"
        },
        {
         "name": "2017",
         "rawType": "float64",
         "type": "float"
        },
        {
         "name": "2018",
         "rawType": "float64",
         "type": "float"
        },
        {
         "name": "2019",
         "rawType": "float64",
         "type": "float"
        },
        {
         "name": "2020",
         "rawType": "float64",
         "type": "float"
        },
        {
         "name": "2021",
         "rawType": "float64",
         "type": "float"
        },
        {
         "name": "2022",
         "rawType": "float64",
         "type": "float"
        },
        {
         "name": "2023",
         "rawType": "float64",
         "type": "float"
        },
        {
         "name": "Total",
         "rawType": "float64",
         "type": "float"
        }
       ],
       "conversionMethod": "pd.DataFrame",
       "ref": "e3edbd56-8bd4-468d-98f1-81f66f09d201",
       "rows": [
        [
         "Región Ozama",
         "446.0",
         "495.0",
         "455.0",
         "496.0",
         "418.0",
         "419.0",
         "426.0",
         "355.0",
         "299.0",
         "322.0",
         "271.0",
         "280.0",
         "392.0",
         "321.0",
         "308.0",
         "326.0",
         "348.0",
         "6377.0"
        ],
        [
         "Región Cibao Norte",
         "247.0",
         "236.0",
         "293.0",
         "293.0",
         "237.0",
         "237.0",
         "298.0",
         "312.0",
         "349.0",
         "310.0",
         "236.0",
         "227.0",
         "333.0",
         "224.0",
         "291.0",
         "245.0",
         "276.0",
         "4644.0"
        ],
        [
         "Región Cibao Sur",
         "179.0",
         "210.0",
         "233.0",
         "276.0",
         "224.0",
         "202.0",
         "214.0",
         "222.0",
         "253.0",
         "255.0",
         "218.0",
         "161.0",
         "281.0",
         "217.0",
         "239.0",
         "214.0",
         "228.0",
         "3826.0"
        ],
        [
         "Región Valdesia",
         "197.0",
         "230.0",
         "228.0",
         "245.0",
         "223.0",
         "148.0",
         "175.0",
         "192.0",
         "152.0",
         "212.0",
         "179.0",
         "206.0",
         "227.0",
         "240.0",
         "185.0",
         "199.0",
         "251.0",
         "3489.0"
        ],
        [
         "Región Yuma",
         "193.0",
         "191.0",
         "160.0",
         "154.0",
         "152.0",
         "148.0",
         "171.0",
         "164.0",
         "190.0",
         "199.0",
         "142.0",
         "117.0",
         "200.0",
         "144.0",
         "205.0",
         "193.0",
         "228.0",
         "2951.0"
        ],
        [
         "Región Cibao Nordeste",
         "136.0",
         "135.0",
         "134.0",
         "190.0",
         "168.0",
         "185.0",
         "187.0",
         "189.0",
         "218.0",
         "233.0",
         "188.0",
         "116.0",
         "189.0",
         "166.0",
         "154.0",
         "175.0",
         "163.0",
         "2926.0"
        ],
        [
         "Región El Valle",
         "79.0",
         "87.0",
         "124.0",
         "153.0",
         "130.0",
         "117.0",
         "111.0",
         "118.0",
         "137.0",
         "125.0",
         "129.0",
         "133.0",
         "151.0",
         "114.0",
         "134.0",
         "140.0",
         "129.0",
         "2111.0"
        ],
        [
         "Región Higuamo",
         "123.0",
         "145.0",
         "112.0",
         "125.0",
         "115.0",
         "120.0",
         "120.0",
         "106.0",
         "133.0",
         "137.0",
         "102.0",
         "76.0",
         "124.0",
         "128.0",
         "144.0",
         "130.0",
         "116.0",
         "2056.0"
        ],
        [
         "Región Cibao Noroeste",
         "77.0",
         "62.0",
         "75.0",
         "102.0",
         "96.0",
         "111.0",
         "121.0",
         "118.0",
         "132.0",
         "126.0",
         "70.0",
         "76.0",
         "123.0",
         "116.0",
         "140.0",
         "108.0",
         "122.0",
         "1775.0"
        ],
        [
         "Región Enriquillo",
         "70.0",
         "55.0",
         "59.0",
         "98.0",
         "70.0",
         "81.0",
         "69.0",
         "79.0",
         "83.0",
         "72.0",
         "47.0",
         "35.0",
         "80.0",
         "67.0",
         "74.0",
         "64.0",
         "88.0",
         "1191.0"
        ],
        [
         "No declarada",
         null,
         null,
         null,
         null,
         null,
         null,
         null,
         null,
         null,
         null,
         "5.0",
         null,
         null,
         null,
         null,
         null,
         null,
         "5.0"
        ]
       ],
       "shape": {
        "columns": 18,
        "rows": 11
       }
      },
      "text/html": [
       "<div>\n",
       "<style scoped>\n",
       "    .dataframe tbody tr th:only-of-type {\n",
       "        vertical-align: middle;\n",
       "    }\n",
       "\n",
       "    .dataframe tbody tr th {\n",
       "        vertical-align: top;\n",
       "    }\n",
       "\n",
       "    .dataframe thead th {\n",
       "        text-align: right;\n",
       "    }\n",
       "</style>\n",
       "<table border=\"1\" class=\"dataframe\">\n",
       "  <thead>\n",
       "    <tr style=\"text-align: right;\">\n",
       "      <th>anio</th>\n",
       "      <th>2007</th>\n",
       "      <th>2008</th>\n",
       "      <th>2009</th>\n",
       "      <th>2010</th>\n",
       "      <th>2011</th>\n",
       "      <th>2012</th>\n",
       "      <th>2013</th>\n",
       "      <th>2014</th>\n",
       "      <th>2015</th>\n",
       "      <th>2016</th>\n",
       "      <th>2017</th>\n",
       "      <th>2018</th>\n",
       "      <th>2019</th>\n",
       "      <th>2020</th>\n",
       "      <th>2021</th>\n",
       "      <th>2022</th>\n",
       "      <th>2023</th>\n",
       "      <th>Total</th>\n",
       "    </tr>\n",
       "    <tr>\n",
       "      <th>region</th>\n",
       "      <th></th>\n",
       "      <th></th>\n",
       "      <th></th>\n",
       "      <th></th>\n",
       "      <th></th>\n",
       "      <th></th>\n",
       "      <th></th>\n",
       "      <th></th>\n",
       "      <th></th>\n",
       "      <th></th>\n",
       "      <th></th>\n",
       "      <th></th>\n",
       "      <th></th>\n",
       "      <th></th>\n",
       "      <th></th>\n",
       "      <th></th>\n",
       "      <th></th>\n",
       "      <th></th>\n",
       "    </tr>\n",
       "  </thead>\n",
       "  <tbody>\n",
       "    <tr>\n",
       "      <th>Región Ozama</th>\n",
       "      <td>446.00</td>\n",
       "      <td>495.00</td>\n",
       "      <td>455.00</td>\n",
       "      <td>496.00</td>\n",
       "      <td>418.00</td>\n",
       "      <td>419.00</td>\n",
       "      <td>426.00</td>\n",
       "      <td>355.00</td>\n",
       "      <td>299.00</td>\n",
       "      <td>322.00</td>\n",
       "      <td>271.00</td>\n",
       "      <td>280.00</td>\n",
       "      <td>392.00</td>\n",
       "      <td>321.00</td>\n",
       "      <td>308.00</td>\n",
       "      <td>326.00</td>\n",
       "      <td>348.00</td>\n",
       "      <td>6377.00</td>\n",
       "    </tr>\n",
       "    <tr>\n",
       "      <th>Región Cibao Norte</th>\n",
       "      <td>247.00</td>\n",
       "      <td>236.00</td>\n",
       "      <td>293.00</td>\n",
       "      <td>293.00</td>\n",
       "      <td>237.00</td>\n",
       "      <td>237.00</td>\n",
       "      <td>298.00</td>\n",
       "      <td>312.00</td>\n",
       "      <td>349.00</td>\n",
       "      <td>310.00</td>\n",
       "      <td>236.00</td>\n",
       "      <td>227.00</td>\n",
       "      <td>333.00</td>\n",
       "      <td>224.00</td>\n",
       "      <td>291.00</td>\n",
       "      <td>245.00</td>\n",
       "      <td>276.00</td>\n",
       "      <td>4644.00</td>\n",
       "    </tr>\n",
       "    <tr>\n",
       "      <th>Región Cibao Sur</th>\n",
       "      <td>179.00</td>\n",
       "      <td>210.00</td>\n",
       "      <td>233.00</td>\n",
       "      <td>276.00</td>\n",
       "      <td>224.00</td>\n",
       "      <td>202.00</td>\n",
       "      <td>214.00</td>\n",
       "      <td>222.00</td>\n",
       "      <td>253.00</td>\n",
       "      <td>255.00</td>\n",
       "      <td>218.00</td>\n",
       "      <td>161.00</td>\n",
       "      <td>281.00</td>\n",
       "      <td>217.00</td>\n",
       "      <td>239.00</td>\n",
       "      <td>214.00</td>\n",
       "      <td>228.00</td>\n",
       "      <td>3826.00</td>\n",
       "    </tr>\n",
       "    <tr>\n",
       "      <th>Región Valdesia</th>\n",
       "      <td>197.00</td>\n",
       "      <td>230.00</td>\n",
       "      <td>228.00</td>\n",
       "      <td>245.00</td>\n",
       "      <td>223.00</td>\n",
       "      <td>148.00</td>\n",
       "      <td>175.00</td>\n",
       "      <td>192.00</td>\n",
       "      <td>152.00</td>\n",
       "      <td>212.00</td>\n",
       "      <td>179.00</td>\n",
       "      <td>206.00</td>\n",
       "      <td>227.00</td>\n",
       "      <td>240.00</td>\n",
       "      <td>185.00</td>\n",
       "      <td>199.00</td>\n",
       "      <td>251.00</td>\n",
       "      <td>3489.00</td>\n",
       "    </tr>\n",
       "    <tr>\n",
       "      <th>Región Yuma</th>\n",
       "      <td>193.00</td>\n",
       "      <td>191.00</td>\n",
       "      <td>160.00</td>\n",
       "      <td>154.00</td>\n",
       "      <td>152.00</td>\n",
       "      <td>148.00</td>\n",
       "      <td>171.00</td>\n",
       "      <td>164.00</td>\n",
       "      <td>190.00</td>\n",
       "      <td>199.00</td>\n",
       "      <td>142.00</td>\n",
       "      <td>117.00</td>\n",
       "      <td>200.00</td>\n",
       "      <td>144.00</td>\n",
       "      <td>205.00</td>\n",
       "      <td>193.00</td>\n",
       "      <td>228.00</td>\n",
       "      <td>2951.00</td>\n",
       "    </tr>\n",
       "    <tr>\n",
       "      <th>Región Cibao Nordeste</th>\n",
       "      <td>136.00</td>\n",
       "      <td>135.00</td>\n",
       "      <td>134.00</td>\n",
       "      <td>190.00</td>\n",
       "      <td>168.00</td>\n",
       "      <td>185.00</td>\n",
       "      <td>187.00</td>\n",
       "      <td>189.00</td>\n",
       "      <td>218.00</td>\n",
       "      <td>233.00</td>\n",
       "      <td>188.00</td>\n",
       "      <td>116.00</td>\n",
       "      <td>189.00</td>\n",
       "      <td>166.00</td>\n",
       "      <td>154.00</td>\n",
       "      <td>175.00</td>\n",
       "      <td>163.00</td>\n",
       "      <td>2926.00</td>\n",
       "    </tr>\n",
       "    <tr>\n",
       "      <th>Región El Valle</th>\n",
       "      <td>79.00</td>\n",
       "      <td>87.00</td>\n",
       "      <td>124.00</td>\n",
       "      <td>153.00</td>\n",
       "      <td>130.00</td>\n",
       "      <td>117.00</td>\n",
       "      <td>111.00</td>\n",
       "      <td>118.00</td>\n",
       "      <td>137.00</td>\n",
       "      <td>125.00</td>\n",
       "      <td>129.00</td>\n",
       "      <td>133.00</td>\n",
       "      <td>151.00</td>\n",
       "      <td>114.00</td>\n",
       "      <td>134.00</td>\n",
       "      <td>140.00</td>\n",
       "      <td>129.00</td>\n",
       "      <td>2111.00</td>\n",
       "    </tr>\n",
       "    <tr>\n",
       "      <th>Región Higuamo</th>\n",
       "      <td>123.00</td>\n",
       "      <td>145.00</td>\n",
       "      <td>112.00</td>\n",
       "      <td>125.00</td>\n",
       "      <td>115.00</td>\n",
       "      <td>120.00</td>\n",
       "      <td>120.00</td>\n",
       "      <td>106.00</td>\n",
       "      <td>133.00</td>\n",
       "      <td>137.00</td>\n",
       "      <td>102.00</td>\n",
       "      <td>76.00</td>\n",
       "      <td>124.00</td>\n",
       "      <td>128.00</td>\n",
       "      <td>144.00</td>\n",
       "      <td>130.00</td>\n",
       "      <td>116.00</td>\n",
       "      <td>2056.00</td>\n",
       "    </tr>\n",
       "    <tr>\n",
       "      <th>Región Cibao Noroeste</th>\n",
       "      <td>77.00</td>\n",
       "      <td>62.00</td>\n",
       "      <td>75.00</td>\n",
       "      <td>102.00</td>\n",
       "      <td>96.00</td>\n",
       "      <td>111.00</td>\n",
       "      <td>121.00</td>\n",
       "      <td>118.00</td>\n",
       "      <td>132.00</td>\n",
       "      <td>126.00</td>\n",
       "      <td>70.00</td>\n",
       "      <td>76.00</td>\n",
       "      <td>123.00</td>\n",
       "      <td>116.00</td>\n",
       "      <td>140.00</td>\n",
       "      <td>108.00</td>\n",
       "      <td>122.00</td>\n",
       "      <td>1775.00</td>\n",
       "    </tr>\n",
       "    <tr>\n",
       "      <th>Región Enriquillo</th>\n",
       "      <td>70.00</td>\n",
       "      <td>55.00</td>\n",
       "      <td>59.00</td>\n",
       "      <td>98.00</td>\n",
       "      <td>70.00</td>\n",
       "      <td>81.00</td>\n",
       "      <td>69.00</td>\n",
       "      <td>79.00</td>\n",
       "      <td>83.00</td>\n",
       "      <td>72.00</td>\n",
       "      <td>47.00</td>\n",
       "      <td>35.00</td>\n",
       "      <td>80.00</td>\n",
       "      <td>67.00</td>\n",
       "      <td>74.00</td>\n",
       "      <td>64.00</td>\n",
       "      <td>88.00</td>\n",
       "      <td>1191.00</td>\n",
       "    </tr>\n",
       "    <tr>\n",
       "      <th>No declarada</th>\n",
       "      <td>NaN</td>\n",
       "      <td>NaN</td>\n",
       "      <td>NaN</td>\n",
       "      <td>NaN</td>\n",
       "      <td>NaN</td>\n",
       "      <td>NaN</td>\n",
       "      <td>NaN</td>\n",
       "      <td>NaN</td>\n",
       "      <td>NaN</td>\n",
       "      <td>NaN</td>\n",
       "      <td>5.00</td>\n",
       "      <td>NaN</td>\n",
       "      <td>NaN</td>\n",
       "      <td>NaN</td>\n",
       "      <td>NaN</td>\n",
       "      <td>NaN</td>\n",
       "      <td>NaN</td>\n",
       "      <td>5.00</td>\n",
       "    </tr>\n",
       "  </tbody>\n",
       "</table>\n",
       "</div>"
      ],
      "text/plain": [
       "anio                    2007   2008   2009   2010   2011   2012   2013   2014  \\\n",
       "region                                                                          \n",
       "Región Ozama          446.00 495.00 455.00 496.00 418.00 419.00 426.00 355.00   \n",
       "Región Cibao Norte    247.00 236.00 293.00 293.00 237.00 237.00 298.00 312.00   \n",
       "Región Cibao Sur      179.00 210.00 233.00 276.00 224.00 202.00 214.00 222.00   \n",
       "Región Valdesia       197.00 230.00 228.00 245.00 223.00 148.00 175.00 192.00   \n",
       "Región Yuma           193.00 191.00 160.00 154.00 152.00 148.00 171.00 164.00   \n",
       "Región Cibao Nordeste 136.00 135.00 134.00 190.00 168.00 185.00 187.00 189.00   \n",
       "Región El Valle        79.00  87.00 124.00 153.00 130.00 117.00 111.00 118.00   \n",
       "Región Higuamo        123.00 145.00 112.00 125.00 115.00 120.00 120.00 106.00   \n",
       "Región Cibao Noroeste  77.00  62.00  75.00 102.00  96.00 111.00 121.00 118.00   \n",
       "Región Enriquillo      70.00  55.00  59.00  98.00  70.00  81.00  69.00  79.00   \n",
       "No declarada             NaN    NaN    NaN    NaN    NaN    NaN    NaN    NaN   \n",
       "\n",
       "anio                    2015   2016   2017   2018   2019   2020   2021   2022  \\\n",
       "region                                                                          \n",
       "Región Ozama          299.00 322.00 271.00 280.00 392.00 321.00 308.00 326.00   \n",
       "Región Cibao Norte    349.00 310.00 236.00 227.00 333.00 224.00 291.00 245.00   \n",
       "Región Cibao Sur      253.00 255.00 218.00 161.00 281.00 217.00 239.00 214.00   \n",
       "Región Valdesia       152.00 212.00 179.00 206.00 227.00 240.00 185.00 199.00   \n",
       "Región Yuma           190.00 199.00 142.00 117.00 200.00 144.00 205.00 193.00   \n",
       "Región Cibao Nordeste 218.00 233.00 188.00 116.00 189.00 166.00 154.00 175.00   \n",
       "Región El Valle       137.00 125.00 129.00 133.00 151.00 114.00 134.00 140.00   \n",
       "Región Higuamo        133.00 137.00 102.00  76.00 124.00 128.00 144.00 130.00   \n",
       "Región Cibao Noroeste 132.00 126.00  70.00  76.00 123.00 116.00 140.00 108.00   \n",
       "Región Enriquillo      83.00  72.00  47.00  35.00  80.00  67.00  74.00  64.00   \n",
       "No declarada             NaN    NaN   5.00    NaN    NaN    NaN    NaN    NaN   \n",
       "\n",
       "anio                    2023   Total  \n",
       "region                                \n",
       "Región Ozama          348.00 6377.00  \n",
       "Región Cibao Norte    276.00 4644.00  \n",
       "Región Cibao Sur      228.00 3826.00  \n",
       "Región Valdesia       251.00 3489.00  \n",
       "Región Yuma           228.00 2951.00  \n",
       "Región Cibao Nordeste 163.00 2926.00  \n",
       "Región El Valle       129.00 2111.00  \n",
       "Región Higuamo        116.00 2056.00  \n",
       "Región Cibao Noroeste 122.00 1775.00  \n",
       "Región Enriquillo      88.00 1191.00  \n",
       "No declarada             NaN    5.00  "
      ]
     },
     "execution_count": 19,
     "metadata": {},
     "output_type": "execute_result"
    }
   ],
   "source": [
    "tabla_pivote_region = f.crear_tabla_pivote(df_descodificada, index='region', columns='anio', values='tipo_accidente', aggfunc='count')\n",
    "tabla_pivote_region['Total'] = tabla_pivote_region.sum(axis=1) # que sume las filas\n",
    "tabla_pivote_region = tabla_pivote_region.sort_values(by='Total', ascending=False)\n",
    "tabla_pivote_region"
   ]
  },
  {
   "cell_type": "markdown",
   "metadata": {},
   "source": [
    "### Diferencias históricas por provincias"
   ]
  },
  {
   "cell_type": "markdown",
   "metadata": {},
   "source": [
    "### Provincias con Mayor Cantidad de Muertes\n",
    "\n",
    "- **Principales provincias**:  \n",
    "  - Las provincias con mayor cantidad de muertes son:  \n",
    "    - **Santo Domingo**  \n",
    "    - **San Cristóbal**  \n",
    "    - **Santiago**  \n",
    "    - **La Vega**  \n",
    "    - **La Altagracia**\n",
    "\n",
    "- **Santo Domingo**:  \n",
    "  - **Destaca** por duplicar el número de fallecidos en comparación con la provincia en segundo lugar.  \n",
    "    - **Santo Domingo**: **4,776 fallecidos**  \n",
    "    - **San Cristóbal**: **2,373 fallecidos**  \n",
    "  - Hasta **2013**, Santo Domingo registraba más de **300 fallecidos** al año.  \n",
    "  - Desde **2014**, el número de fallecidos no supera los **260 casos**, excepto en **2019**, cuando se registraron **301 defunciones**.\n",
    "\n",
    "- **San Cristóbal**:  \n",
    "  - Hasta **2010**, los fallecidos alcanzaron cifras más altas, llegando a **176 víctimas**.  \n",
    "  - Desde **2011**, las muertes oscilan entre **100 y 160 casos** anuales.  \n",
    "  - En los últimos cinco años, destaca **2020** con **163 fallecidos**.\n"
   ]
  },
  {
   "cell_type": "code",
   "execution_count": 20,
   "metadata": {},
   "outputs": [
    {
     "data": {
      "application/vnd.microsoft.datawrangler.viewer.v0+json": {
       "columns": [
        {
         "name": "provincia",
         "rawType": "object",
         "type": "string"
        },
        {
         "name": "2007",
         "rawType": "float64",
         "type": "float"
        },
        {
         "name": "2008",
         "rawType": "float64",
         "type": "float"
        },
        {
         "name": "2009",
         "rawType": "float64",
         "type": "float"
        },
        {
         "name": "2010",
         "rawType": "float64",
         "type": "float"
        },
        {
         "name": "2011",
         "rawType": "float64",
         "type": "float"
        },
        {
         "name": "2012",
         "rawType": "float64",
         "type": "float"
        },
        {
         "name": "2013",
         "rawType": "float64",
         "type": "float"
        },
        {
         "name": "2014",
         "rawType": "float64",
         "type": "float"
        },
        {
         "name": "2015",
         "rawType": "float64",
         "type": "float"
        },
        {
         "name": "2016",
         "rawType": "float64",
         "type": "float"
        },
        {
         "name": "2017",
         "rawType": "float64",
         "type": "float"
        },
        {
         "name": "2018",
         "rawType": "float64",
         "type": "float"
        },
        {
         "name": "2019",
         "rawType": "float64",
         "type": "float"
        },
        {
         "name": "2020",
         "rawType": "float64",
         "type": "float"
        },
        {
         "name": "2021",
         "rawType": "float64",
         "type": "float"
        },
        {
         "name": "2022",
         "rawType": "float64",
         "type": "float"
        },
        {
         "name": "2023",
         "rawType": "float64",
         "type": "float"
        },
        {
         "name": "Total",
         "rawType": "float64",
         "type": "float"
        }
       ],
       "conversionMethod": "pd.DataFrame",
       "ref": "acbb0f21-8aa7-4d73-a428-bf1bde6305b4",
       "rows": [
        [
         "Santo Domingo",
         "329.0",
         "372.0",
         "341.0",
         "393.0",
         "319.0",
         "313.0",
         "311.0",
         "243.0",
         "235.0",
         "254.0",
         "210.0",
         "197.0",
         "301.0",
         "246.0",
         "220.0",
         "237.0",
         "255.0",
         "4776.0"
        ],
        [
         "San Cristóbal",
         "148.0",
         "174.0",
         "177.0",
         "178.0",
         "160.0",
         "100.0",
         "124.0",
         "132.0",
         "98.0",
         "121.0",
         "115.0",
         "145.0",
         "147.0",
         "166.0",
         "109.0",
         "116.0",
         "163.0",
         "2373.0"
        ],
        [
         "Santiago",
         "117.0",
         "108.0",
         "153.0",
         "165.0",
         "101.0",
         "137.0",
         "135.0",
         "146.0",
         "164.0",
         "147.0",
         "118.0",
         "154.0",
         "164.0",
         "121.0",
         "155.0",
         "120.0",
         "120.0",
         "2325.0"
        ],
        [
         "La Vega",
         "71.0",
         "85.0",
         "148.0",
         "166.0",
         "136.0",
         "115.0",
         "119.0",
         "135.0",
         "146.0",
         "153.0",
         "122.0",
         "97.0",
         "167.0",
         "127.0",
         "126.0",
         "123.0",
         "132.0",
         "2168.0"
        ],
        [
         "La Altagracia",
         "131.0",
         "131.0",
         "94.0",
         "103.0",
         "105.0",
         "103.0",
         "96.0",
         "110.0",
         "125.0",
         "127.0",
         "84.0",
         "84.0",
         "140.0",
         "86.0",
         "126.0",
         "123.0",
         "151.0",
         "1919.0"
        ],
        [
         "Distrito Nacional",
         "117.0",
         "123.0",
         "114.0",
         "103.0",
         "99.0",
         "106.0",
         "115.0",
         "112.0",
         "64.0",
         "68.0",
         "61.0",
         "83.0",
         "91.0",
         "75.0",
         "88.0",
         "89.0",
         "93.0",
         "1601.0"
        ],
        [
         "Puerto Plata",
         "82.0",
         "88.0",
         "90.0",
         "78.0",
         "80.0",
         "75.0",
         "104.0",
         "94.0",
         "99.0",
         "88.0",
         "57.0",
         "39.0",
         "107.0",
         "64.0",
         "78.0",
         "73.0",
         "97.0",
         "1393.0"
        ],
        [
         "Duarte",
         "61.0",
         "63.0",
         "60.0",
         "90.0",
         "66.0",
         "94.0",
         "68.0",
         "64.0",
         "104.0",
         "116.0",
         "74.0",
         "44.0",
         "64.0",
         "56.0",
         "52.0",
         "60.0",
         "50.0",
         "1186.0"
        ],
        [
         "Monseñor Nouel",
         "89.0",
         "83.0",
         "52.0",
         "61.0",
         "56.0",
         "56.0",
         "40.0",
         "59.0",
         "69.0",
         "54.0",
         "69.0",
         "53.0",
         "73.0",
         "57.0",
         "75.0",
         "62.0",
         "65.0",
         "1073.0"
        ],
        [
         "San Pedro de Macorís",
         "60.0",
         "82.0",
         "55.0",
         "56.0",
         "76.0",
         "65.0",
         "72.0",
         "67.0",
         "70.0",
         "71.0",
         "54.0",
         "29.0",
         "69.0",
         "49.0",
         "71.0",
         "63.0",
         "52.0",
         "1061.0"
        ],
        [
         "Azua",
         "35.0",
         "50.0",
         "56.0",
         "56.0",
         "64.0",
         "53.0",
         "55.0",
         "53.0",
         "61.0",
         "64.0",
         "61.0",
         "51.0",
         "80.0",
         "69.0",
         "68.0",
         "75.0",
         "58.0",
         "1009.0"
        ],
        [
         "San Juan",
         "39.0",
         "32.0",
         "60.0",
         "83.0",
         "55.0",
         "60.0",
         "50.0",
         "60.0",
         "75.0",
         "54.0",
         "59.0",
         "75.0",
         "64.0",
         "33.0",
         "58.0",
         "50.0",
         "62.0",
         "969.0"
        ],
        [
         "Espaillat",
         "48.0",
         "40.0",
         "50.0",
         "50.0",
         "56.0",
         "25.0",
         "59.0",
         "72.0",
         "86.0",
         "75.0",
         "61.0",
         "34.0",
         "62.0",
         "39.0",
         "58.0",
         "52.0",
         "59.0",
         "926.0"
        ],
        [
         "Peravia",
         "45.0",
         "49.0",
         "43.0",
         "54.0",
         "54.0",
         "37.0",
         "42.0",
         "47.0",
         "45.0",
         "80.0",
         "50.0",
         "51.0",
         "57.0",
         "59.0",
         "61.0",
         "68.0",
         "68.0",
         "910.0"
        ],
        [
         "María Trinidad. Sánchez",
         "29.0",
         "30.0",
         "35.0",
         "48.0",
         "40.0",
         "44.0",
         "64.0",
         "58.0",
         "41.0",
         "52.0",
         "39.0",
         "31.0",
         "64.0",
         "28.0",
         "44.0",
         "46.0",
         "53.0",
         "746.0"
        ],
        [
         "Valverde",
         "35.0",
         "23.0",
         "40.0",
         "44.0",
         "50.0",
         "52.0",
         "51.0",
         "45.0",
         "60.0",
         "52.0",
         "35.0",
         "38.0",
         "55.0",
         "39.0",
         "45.0",
         "30.0",
         "48.0",
         "742.0"
        ],
        [
         "Monte Plata",
         "41.0",
         "46.0",
         "49.0",
         "51.0",
         "29.0",
         "37.0",
         "34.0",
         "21.0",
         "44.0",
         "45.0",
         "35.0",
         "37.0",
         "41.0",
         "61.0",
         "57.0",
         "53.0",
         "47.0",
         "728.0"
        ],
        [
         "La Romana",
         "45.0",
         "45.0",
         "41.0",
         "30.0",
         "43.0",
         "31.0",
         "61.0",
         "35.0",
         "46.0",
         "53.0",
         "43.0",
         "2.0",
         "36.0",
         "41.0",
         "52.0",
         "49.0",
         "54.0",
         "707.0"
        ],
        [
         "Samaná",
         "41.0",
         "34.0",
         "32.0",
         "35.0",
         "30.0",
         "28.0",
         "28.0",
         "34.0",
         "29.0",
         "47.0",
         "35.0",
         "27.0",
         "38.0",
         "53.0",
         "30.0",
         "49.0",
         "36.0",
         "606.0"
        ],
        [
         "Barahona",
         "41.0",
         "30.0",
         "31.0",
         "63.0",
         "38.0",
         "47.0",
         "35.0",
         "39.0",
         "37.0",
         "34.0",
         "21.0",
         "15.0",
         "44.0",
         "23.0",
         "36.0",
         "33.0",
         "31.0",
         "598.0"
        ],
        [
         "Sánchez Ramírez",
         "19.0",
         "42.0",
         "33.0",
         "49.0",
         "32.0",
         "31.0",
         "55.0",
         "28.0",
         "38.0",
         "48.0",
         "27.0",
         "11.0",
         "41.0",
         "33.0",
         "38.0",
         "29.0",
         "31.0",
         "585.0"
        ],
        [
         "Monte Cristi",
         "15.0",
         "12.0",
         "17.0",
         "42.0",
         "29.0",
         "27.0",
         "42.0",
         "39.0",
         "26.0",
         "39.0",
         "24.0",
         "27.0",
         "30.0",
         "38.0",
         "52.0",
         "38.0",
         "38.0",
         "535.0"
        ],
        [
         "Hermanas Mirabal",
         "5.0",
         "8.0",
         "7.0",
         "17.0",
         "32.0",
         "19.0",
         "27.0",
         "33.0",
         "44.0",
         "18.0",
         "40.0",
         "14.0",
         "23.0",
         "29.0",
         "28.0",
         "20.0",
         "24.0",
         "388.0"
        ],
        [
         "Baoruco",
         "14.0",
         "12.0",
         "13.0",
         "23.0",
         "14.0",
         "25.0",
         "20.0",
         "21.0",
         "30.0",
         "21.0",
         "16.0",
         "13.0",
         "19.0",
         "30.0",
         "20.0",
         "16.0",
         "27.0",
         "334.0"
        ],
        [
         "El Seibo",
         "17.0",
         "15.0",
         "25.0",
         "21.0",
         "4.0",
         "14.0",
         "14.0",
         "19.0",
         "19.0",
         "19.0",
         "15.0",
         "31.0",
         "24.0",
         "17.0",
         "27.0",
         "21.0",
         "23.0",
         "325.0"
        ],
        [
         "Dajabón",
         "16.0",
         "19.0",
         "12.0",
         "9.0",
         "10.0",
         "19.0",
         "17.0",
         "21.0",
         "31.0",
         "28.0",
         "5.0",
         "4.0",
         "16.0",
         "22.0",
         "24.0",
         "20.0",
         "21.0",
         "294.0"
        ],
        [
         "Hato Mayor",
         "22.0",
         "17.0",
         "8.0",
         "18.0",
         "10.0",
         "18.0",
         "14.0",
         "18.0",
         "19.0",
         "21.0",
         "13.0",
         "10.0",
         "14.0",
         "18.0",
         "16.0",
         "14.0",
         "17.0",
         "267.0"
        ],
        [
         "San José de Ocoa",
         "4.0",
         "7.0",
         "8.0",
         "13.0",
         "9.0",
         "11.0",
         "9.0",
         "13.0",
         "9.0",
         "11.0",
         "14.0",
         "10.0",
         "23.0",
         "15.0",
         "15.0",
         "15.0",
         "20.0",
         "206.0"
        ],
        [
         "Santiago Rodríguez",
         "11.0",
         "8.0",
         "6.0",
         "7.0",
         "7.0",
         "13.0",
         "11.0",
         "13.0",
         "15.0",
         "7.0",
         "6.0",
         "7.0",
         "22.0",
         "17.0",
         "19.0",
         "20.0",
         "15.0",
         "204.0"
        ],
        [
         "Independencia",
         "13.0",
         "9.0",
         "11.0",
         "8.0",
         "10.0",
         "6.0",
         "6.0",
         "10.0",
         "13.0",
         "11.0",
         "6.0",
         "5.0",
         "12.0",
         "9.0",
         "12.0",
         "9.0",
         "17.0",
         "167.0"
        ],
        [
         "Elías Piña",
         "5.0",
         "5.0",
         "8.0",
         "14.0",
         "11.0",
         "4.0",
         "6.0",
         "5.0",
         "1.0",
         "7.0",
         "9.0",
         "7.0",
         "7.0",
         "12.0",
         "8.0",
         "15.0",
         "9.0",
         "133.0"
        ],
        [
         "Pedernales",
         "2.0",
         "4.0",
         "4.0",
         "4.0",
         "8.0",
         "3.0",
         "8.0",
         "9.0",
         "3.0",
         "6.0",
         "4.0",
         "2.0",
         "5.0",
         "5.0",
         "6.0",
         "6.0",
         "13.0",
         "92.0"
        ],
        [
         "No declarada",
         null,
         null,
         null,
         null,
         null,
         null,
         null,
         null,
         null,
         null,
         "5.0",
         null,
         null,
         null,
         null,
         null,
         null,
         "5.0"
        ]
       ],
       "shape": {
        "columns": 18,
        "rows": 33
       }
      },
      "text/html": [
       "<div>\n",
       "<style scoped>\n",
       "    .dataframe tbody tr th:only-of-type {\n",
       "        vertical-align: middle;\n",
       "    }\n",
       "\n",
       "    .dataframe tbody tr th {\n",
       "        vertical-align: top;\n",
       "    }\n",
       "\n",
       "    .dataframe thead th {\n",
       "        text-align: right;\n",
       "    }\n",
       "</style>\n",
       "<table border=\"1\" class=\"dataframe\">\n",
       "  <thead>\n",
       "    <tr style=\"text-align: right;\">\n",
       "      <th>anio</th>\n",
       "      <th>2007</th>\n",
       "      <th>2008</th>\n",
       "      <th>2009</th>\n",
       "      <th>2010</th>\n",
       "      <th>2011</th>\n",
       "      <th>2012</th>\n",
       "      <th>2013</th>\n",
       "      <th>2014</th>\n",
       "      <th>2015</th>\n",
       "      <th>2016</th>\n",
       "      <th>2017</th>\n",
       "      <th>2018</th>\n",
       "      <th>2019</th>\n",
       "      <th>2020</th>\n",
       "      <th>2021</th>\n",
       "      <th>2022</th>\n",
       "      <th>2023</th>\n",
       "      <th>Total</th>\n",
       "    </tr>\n",
       "    <tr>\n",
       "      <th>provincia</th>\n",
       "      <th></th>\n",
       "      <th></th>\n",
       "      <th></th>\n",
       "      <th></th>\n",
       "      <th></th>\n",
       "      <th></th>\n",
       "      <th></th>\n",
       "      <th></th>\n",
       "      <th></th>\n",
       "      <th></th>\n",
       "      <th></th>\n",
       "      <th></th>\n",
       "      <th></th>\n",
       "      <th></th>\n",
       "      <th></th>\n",
       "      <th></th>\n",
       "      <th></th>\n",
       "      <th></th>\n",
       "    </tr>\n",
       "  </thead>\n",
       "  <tbody>\n",
       "    <tr>\n",
       "      <th>Santo Domingo</th>\n",
       "      <td>329.00</td>\n",
       "      <td>372.00</td>\n",
       "      <td>341.00</td>\n",
       "      <td>393.00</td>\n",
       "      <td>319.00</td>\n",
       "      <td>313.00</td>\n",
       "      <td>311.00</td>\n",
       "      <td>243.00</td>\n",
       "      <td>235.00</td>\n",
       "      <td>254.00</td>\n",
       "      <td>210.00</td>\n",
       "      <td>197.00</td>\n",
       "      <td>301.00</td>\n",
       "      <td>246.00</td>\n",
       "      <td>220.00</td>\n",
       "      <td>237.00</td>\n",
       "      <td>255.00</td>\n",
       "      <td>4776.00</td>\n",
       "    </tr>\n",
       "    <tr>\n",
       "      <th>San Cristóbal</th>\n",
       "      <td>148.00</td>\n",
       "      <td>174.00</td>\n",
       "      <td>177.00</td>\n",
       "      <td>178.00</td>\n",
       "      <td>160.00</td>\n",
       "      <td>100.00</td>\n",
       "      <td>124.00</td>\n",
       "      <td>132.00</td>\n",
       "      <td>98.00</td>\n",
       "      <td>121.00</td>\n",
       "      <td>115.00</td>\n",
       "      <td>145.00</td>\n",
       "      <td>147.00</td>\n",
       "      <td>166.00</td>\n",
       "      <td>109.00</td>\n",
       "      <td>116.00</td>\n",
       "      <td>163.00</td>\n",
       "      <td>2373.00</td>\n",
       "    </tr>\n",
       "    <tr>\n",
       "      <th>Santiago</th>\n",
       "      <td>117.00</td>\n",
       "      <td>108.00</td>\n",
       "      <td>153.00</td>\n",
       "      <td>165.00</td>\n",
       "      <td>101.00</td>\n",
       "      <td>137.00</td>\n",
       "      <td>135.00</td>\n",
       "      <td>146.00</td>\n",
       "      <td>164.00</td>\n",
       "      <td>147.00</td>\n",
       "      <td>118.00</td>\n",
       "      <td>154.00</td>\n",
       "      <td>164.00</td>\n",
       "      <td>121.00</td>\n",
       "      <td>155.00</td>\n",
       "      <td>120.00</td>\n",
       "      <td>120.00</td>\n",
       "      <td>2325.00</td>\n",
       "    </tr>\n",
       "    <tr>\n",
       "      <th>La Vega</th>\n",
       "      <td>71.00</td>\n",
       "      <td>85.00</td>\n",
       "      <td>148.00</td>\n",
       "      <td>166.00</td>\n",
       "      <td>136.00</td>\n",
       "      <td>115.00</td>\n",
       "      <td>119.00</td>\n",
       "      <td>135.00</td>\n",
       "      <td>146.00</td>\n",
       "      <td>153.00</td>\n",
       "      <td>122.00</td>\n",
       "      <td>97.00</td>\n",
       "      <td>167.00</td>\n",
       "      <td>127.00</td>\n",
       "      <td>126.00</td>\n",
       "      <td>123.00</td>\n",
       "      <td>132.00</td>\n",
       "      <td>2168.00</td>\n",
       "    </tr>\n",
       "    <tr>\n",
       "      <th>La Altagracia</th>\n",
       "      <td>131.00</td>\n",
       "      <td>131.00</td>\n",
       "      <td>94.00</td>\n",
       "      <td>103.00</td>\n",
       "      <td>105.00</td>\n",
       "      <td>103.00</td>\n",
       "      <td>96.00</td>\n",
       "      <td>110.00</td>\n",
       "      <td>125.00</td>\n",
       "      <td>127.00</td>\n",
       "      <td>84.00</td>\n",
       "      <td>84.00</td>\n",
       "      <td>140.00</td>\n",
       "      <td>86.00</td>\n",
       "      <td>126.00</td>\n",
       "      <td>123.00</td>\n",
       "      <td>151.00</td>\n",
       "      <td>1919.00</td>\n",
       "    </tr>\n",
       "    <tr>\n",
       "      <th>Distrito Nacional</th>\n",
       "      <td>117.00</td>\n",
       "      <td>123.00</td>\n",
       "      <td>114.00</td>\n",
       "      <td>103.00</td>\n",
       "      <td>99.00</td>\n",
       "      <td>106.00</td>\n",
       "      <td>115.00</td>\n",
       "      <td>112.00</td>\n",
       "      <td>64.00</td>\n",
       "      <td>68.00</td>\n",
       "      <td>61.00</td>\n",
       "      <td>83.00</td>\n",
       "      <td>91.00</td>\n",
       "      <td>75.00</td>\n",
       "      <td>88.00</td>\n",
       "      <td>89.00</td>\n",
       "      <td>93.00</td>\n",
       "      <td>1601.00</td>\n",
       "    </tr>\n",
       "    <tr>\n",
       "      <th>Puerto Plata</th>\n",
       "      <td>82.00</td>\n",
       "      <td>88.00</td>\n",
       "      <td>90.00</td>\n",
       "      <td>78.00</td>\n",
       "      <td>80.00</td>\n",
       "      <td>75.00</td>\n",
       "      <td>104.00</td>\n",
       "      <td>94.00</td>\n",
       "      <td>99.00</td>\n",
       "      <td>88.00</td>\n",
       "      <td>57.00</td>\n",
       "      <td>39.00</td>\n",
       "      <td>107.00</td>\n",
       "      <td>64.00</td>\n",
       "      <td>78.00</td>\n",
       "      <td>73.00</td>\n",
       "      <td>97.00</td>\n",
       "      <td>1393.00</td>\n",
       "    </tr>\n",
       "    <tr>\n",
       "      <th>Duarte</th>\n",
       "      <td>61.00</td>\n",
       "      <td>63.00</td>\n",
       "      <td>60.00</td>\n",
       "      <td>90.00</td>\n",
       "      <td>66.00</td>\n",
       "      <td>94.00</td>\n",
       "      <td>68.00</td>\n",
       "      <td>64.00</td>\n",
       "      <td>104.00</td>\n",
       "      <td>116.00</td>\n",
       "      <td>74.00</td>\n",
       "      <td>44.00</td>\n",
       "      <td>64.00</td>\n",
       "      <td>56.00</td>\n",
       "      <td>52.00</td>\n",
       "      <td>60.00</td>\n",
       "      <td>50.00</td>\n",
       "      <td>1186.00</td>\n",
       "    </tr>\n",
       "    <tr>\n",
       "      <th>Monseñor Nouel</th>\n",
       "      <td>89.00</td>\n",
       "      <td>83.00</td>\n",
       "      <td>52.00</td>\n",
       "      <td>61.00</td>\n",
       "      <td>56.00</td>\n",
       "      <td>56.00</td>\n",
       "      <td>40.00</td>\n",
       "      <td>59.00</td>\n",
       "      <td>69.00</td>\n",
       "      <td>54.00</td>\n",
       "      <td>69.00</td>\n",
       "      <td>53.00</td>\n",
       "      <td>73.00</td>\n",
       "      <td>57.00</td>\n",
       "      <td>75.00</td>\n",
       "      <td>62.00</td>\n",
       "      <td>65.00</td>\n",
       "      <td>1073.00</td>\n",
       "    </tr>\n",
       "    <tr>\n",
       "      <th>San Pedro de Macorís</th>\n",
       "      <td>60.00</td>\n",
       "      <td>82.00</td>\n",
       "      <td>55.00</td>\n",
       "      <td>56.00</td>\n",
       "      <td>76.00</td>\n",
       "      <td>65.00</td>\n",
       "      <td>72.00</td>\n",
       "      <td>67.00</td>\n",
       "      <td>70.00</td>\n",
       "      <td>71.00</td>\n",
       "      <td>54.00</td>\n",
       "      <td>29.00</td>\n",
       "      <td>69.00</td>\n",
       "      <td>49.00</td>\n",
       "      <td>71.00</td>\n",
       "      <td>63.00</td>\n",
       "      <td>52.00</td>\n",
       "      <td>1061.00</td>\n",
       "    </tr>\n",
       "    <tr>\n",
       "      <th>Azua</th>\n",
       "      <td>35.00</td>\n",
       "      <td>50.00</td>\n",
       "      <td>56.00</td>\n",
       "      <td>56.00</td>\n",
       "      <td>64.00</td>\n",
       "      <td>53.00</td>\n",
       "      <td>55.00</td>\n",
       "      <td>53.00</td>\n",
       "      <td>61.00</td>\n",
       "      <td>64.00</td>\n",
       "      <td>61.00</td>\n",
       "      <td>51.00</td>\n",
       "      <td>80.00</td>\n",
       "      <td>69.00</td>\n",
       "      <td>68.00</td>\n",
       "      <td>75.00</td>\n",
       "      <td>58.00</td>\n",
       "      <td>1009.00</td>\n",
       "    </tr>\n",
       "    <tr>\n",
       "      <th>San Juan</th>\n",
       "      <td>39.00</td>\n",
       "      <td>32.00</td>\n",
       "      <td>60.00</td>\n",
       "      <td>83.00</td>\n",
       "      <td>55.00</td>\n",
       "      <td>60.00</td>\n",
       "      <td>50.00</td>\n",
       "      <td>60.00</td>\n",
       "      <td>75.00</td>\n",
       "      <td>54.00</td>\n",
       "      <td>59.00</td>\n",
       "      <td>75.00</td>\n",
       "      <td>64.00</td>\n",
       "      <td>33.00</td>\n",
       "      <td>58.00</td>\n",
       "      <td>50.00</td>\n",
       "      <td>62.00</td>\n",
       "      <td>969.00</td>\n",
       "    </tr>\n",
       "    <tr>\n",
       "      <th>Espaillat</th>\n",
       "      <td>48.00</td>\n",
       "      <td>40.00</td>\n",
       "      <td>50.00</td>\n",
       "      <td>50.00</td>\n",
       "      <td>56.00</td>\n",
       "      <td>25.00</td>\n",
       "      <td>59.00</td>\n",
       "      <td>72.00</td>\n",
       "      <td>86.00</td>\n",
       "      <td>75.00</td>\n",
       "      <td>61.00</td>\n",
       "      <td>34.00</td>\n",
       "      <td>62.00</td>\n",
       "      <td>39.00</td>\n",
       "      <td>58.00</td>\n",
       "      <td>52.00</td>\n",
       "      <td>59.00</td>\n",
       "      <td>926.00</td>\n",
       "    </tr>\n",
       "    <tr>\n",
       "      <th>Peravia</th>\n",
       "      <td>45.00</td>\n",
       "      <td>49.00</td>\n",
       "      <td>43.00</td>\n",
       "      <td>54.00</td>\n",
       "      <td>54.00</td>\n",
       "      <td>37.00</td>\n",
       "      <td>42.00</td>\n",
       "      <td>47.00</td>\n",
       "      <td>45.00</td>\n",
       "      <td>80.00</td>\n",
       "      <td>50.00</td>\n",
       "      <td>51.00</td>\n",
       "      <td>57.00</td>\n",
       "      <td>59.00</td>\n",
       "      <td>61.00</td>\n",
       "      <td>68.00</td>\n",
       "      <td>68.00</td>\n",
       "      <td>910.00</td>\n",
       "    </tr>\n",
       "    <tr>\n",
       "      <th>María Trinidad. Sánchez</th>\n",
       "      <td>29.00</td>\n",
       "      <td>30.00</td>\n",
       "      <td>35.00</td>\n",
       "      <td>48.00</td>\n",
       "      <td>40.00</td>\n",
       "      <td>44.00</td>\n",
       "      <td>64.00</td>\n",
       "      <td>58.00</td>\n",
       "      <td>41.00</td>\n",
       "      <td>52.00</td>\n",
       "      <td>39.00</td>\n",
       "      <td>31.00</td>\n",
       "      <td>64.00</td>\n",
       "      <td>28.00</td>\n",
       "      <td>44.00</td>\n",
       "      <td>46.00</td>\n",
       "      <td>53.00</td>\n",
       "      <td>746.00</td>\n",
       "    </tr>\n",
       "    <tr>\n",
       "      <th>Valverde</th>\n",
       "      <td>35.00</td>\n",
       "      <td>23.00</td>\n",
       "      <td>40.00</td>\n",
       "      <td>44.00</td>\n",
       "      <td>50.00</td>\n",
       "      <td>52.00</td>\n",
       "      <td>51.00</td>\n",
       "      <td>45.00</td>\n",
       "      <td>60.00</td>\n",
       "      <td>52.00</td>\n",
       "      <td>35.00</td>\n",
       "      <td>38.00</td>\n",
       "      <td>55.00</td>\n",
       "      <td>39.00</td>\n",
       "      <td>45.00</td>\n",
       "      <td>30.00</td>\n",
       "      <td>48.00</td>\n",
       "      <td>742.00</td>\n",
       "    </tr>\n",
       "    <tr>\n",
       "      <th>Monte Plata</th>\n",
       "      <td>41.00</td>\n",
       "      <td>46.00</td>\n",
       "      <td>49.00</td>\n",
       "      <td>51.00</td>\n",
       "      <td>29.00</td>\n",
       "      <td>37.00</td>\n",
       "      <td>34.00</td>\n",
       "      <td>21.00</td>\n",
       "      <td>44.00</td>\n",
       "      <td>45.00</td>\n",
       "      <td>35.00</td>\n",
       "      <td>37.00</td>\n",
       "      <td>41.00</td>\n",
       "      <td>61.00</td>\n",
       "      <td>57.00</td>\n",
       "      <td>53.00</td>\n",
       "      <td>47.00</td>\n",
       "      <td>728.00</td>\n",
       "    </tr>\n",
       "    <tr>\n",
       "      <th>La Romana</th>\n",
       "      <td>45.00</td>\n",
       "      <td>45.00</td>\n",
       "      <td>41.00</td>\n",
       "      <td>30.00</td>\n",
       "      <td>43.00</td>\n",
       "      <td>31.00</td>\n",
       "      <td>61.00</td>\n",
       "      <td>35.00</td>\n",
       "      <td>46.00</td>\n",
       "      <td>53.00</td>\n",
       "      <td>43.00</td>\n",
       "      <td>2.00</td>\n",
       "      <td>36.00</td>\n",
       "      <td>41.00</td>\n",
       "      <td>52.00</td>\n",
       "      <td>49.00</td>\n",
       "      <td>54.00</td>\n",
       "      <td>707.00</td>\n",
       "    </tr>\n",
       "    <tr>\n",
       "      <th>Samaná</th>\n",
       "      <td>41.00</td>\n",
       "      <td>34.00</td>\n",
       "      <td>32.00</td>\n",
       "      <td>35.00</td>\n",
       "      <td>30.00</td>\n",
       "      <td>28.00</td>\n",
       "      <td>28.00</td>\n",
       "      <td>34.00</td>\n",
       "      <td>29.00</td>\n",
       "      <td>47.00</td>\n",
       "      <td>35.00</td>\n",
       "      <td>27.00</td>\n",
       "      <td>38.00</td>\n",
       "      <td>53.00</td>\n",
       "      <td>30.00</td>\n",
       "      <td>49.00</td>\n",
       "      <td>36.00</td>\n",
       "      <td>606.00</td>\n",
       "    </tr>\n",
       "    <tr>\n",
       "      <th>Barahona</th>\n",
       "      <td>41.00</td>\n",
       "      <td>30.00</td>\n",
       "      <td>31.00</td>\n",
       "      <td>63.00</td>\n",
       "      <td>38.00</td>\n",
       "      <td>47.00</td>\n",
       "      <td>35.00</td>\n",
       "      <td>39.00</td>\n",
       "      <td>37.00</td>\n",
       "      <td>34.00</td>\n",
       "      <td>21.00</td>\n",
       "      <td>15.00</td>\n",
       "      <td>44.00</td>\n",
       "      <td>23.00</td>\n",
       "      <td>36.00</td>\n",
       "      <td>33.00</td>\n",
       "      <td>31.00</td>\n",
       "      <td>598.00</td>\n",
       "    </tr>\n",
       "    <tr>\n",
       "      <th>Sánchez Ramírez</th>\n",
       "      <td>19.00</td>\n",
       "      <td>42.00</td>\n",
       "      <td>33.00</td>\n",
       "      <td>49.00</td>\n",
       "      <td>32.00</td>\n",
       "      <td>31.00</td>\n",
       "      <td>55.00</td>\n",
       "      <td>28.00</td>\n",
       "      <td>38.00</td>\n",
       "      <td>48.00</td>\n",
       "      <td>27.00</td>\n",
       "      <td>11.00</td>\n",
       "      <td>41.00</td>\n",
       "      <td>33.00</td>\n",
       "      <td>38.00</td>\n",
       "      <td>29.00</td>\n",
       "      <td>31.00</td>\n",
       "      <td>585.00</td>\n",
       "    </tr>\n",
       "    <tr>\n",
       "      <th>Monte Cristi</th>\n",
       "      <td>15.00</td>\n",
       "      <td>12.00</td>\n",
       "      <td>17.00</td>\n",
       "      <td>42.00</td>\n",
       "      <td>29.00</td>\n",
       "      <td>27.00</td>\n",
       "      <td>42.00</td>\n",
       "      <td>39.00</td>\n",
       "      <td>26.00</td>\n",
       "      <td>39.00</td>\n",
       "      <td>24.00</td>\n",
       "      <td>27.00</td>\n",
       "      <td>30.00</td>\n",
       "      <td>38.00</td>\n",
       "      <td>52.00</td>\n",
       "      <td>38.00</td>\n",
       "      <td>38.00</td>\n",
       "      <td>535.00</td>\n",
       "    </tr>\n",
       "    <tr>\n",
       "      <th>Hermanas Mirabal</th>\n",
       "      <td>5.00</td>\n",
       "      <td>8.00</td>\n",
       "      <td>7.00</td>\n",
       "      <td>17.00</td>\n",
       "      <td>32.00</td>\n",
       "      <td>19.00</td>\n",
       "      <td>27.00</td>\n",
       "      <td>33.00</td>\n",
       "      <td>44.00</td>\n",
       "      <td>18.00</td>\n",
       "      <td>40.00</td>\n",
       "      <td>14.00</td>\n",
       "      <td>23.00</td>\n",
       "      <td>29.00</td>\n",
       "      <td>28.00</td>\n",
       "      <td>20.00</td>\n",
       "      <td>24.00</td>\n",
       "      <td>388.00</td>\n",
       "    </tr>\n",
       "    <tr>\n",
       "      <th>Baoruco</th>\n",
       "      <td>14.00</td>\n",
       "      <td>12.00</td>\n",
       "      <td>13.00</td>\n",
       "      <td>23.00</td>\n",
       "      <td>14.00</td>\n",
       "      <td>25.00</td>\n",
       "      <td>20.00</td>\n",
       "      <td>21.00</td>\n",
       "      <td>30.00</td>\n",
       "      <td>21.00</td>\n",
       "      <td>16.00</td>\n",
       "      <td>13.00</td>\n",
       "      <td>19.00</td>\n",
       "      <td>30.00</td>\n",
       "      <td>20.00</td>\n",
       "      <td>16.00</td>\n",
       "      <td>27.00</td>\n",
       "      <td>334.00</td>\n",
       "    </tr>\n",
       "    <tr>\n",
       "      <th>El Seibo</th>\n",
       "      <td>17.00</td>\n",
       "      <td>15.00</td>\n",
       "      <td>25.00</td>\n",
       "      <td>21.00</td>\n",
       "      <td>4.00</td>\n",
       "      <td>14.00</td>\n",
       "      <td>14.00</td>\n",
       "      <td>19.00</td>\n",
       "      <td>19.00</td>\n",
       "      <td>19.00</td>\n",
       "      <td>15.00</td>\n",
       "      <td>31.00</td>\n",
       "      <td>24.00</td>\n",
       "      <td>17.00</td>\n",
       "      <td>27.00</td>\n",
       "      <td>21.00</td>\n",
       "      <td>23.00</td>\n",
       "      <td>325.00</td>\n",
       "    </tr>\n",
       "    <tr>\n",
       "      <th>Dajabón</th>\n",
       "      <td>16.00</td>\n",
       "      <td>19.00</td>\n",
       "      <td>12.00</td>\n",
       "      <td>9.00</td>\n",
       "      <td>10.00</td>\n",
       "      <td>19.00</td>\n",
       "      <td>17.00</td>\n",
       "      <td>21.00</td>\n",
       "      <td>31.00</td>\n",
       "      <td>28.00</td>\n",
       "      <td>5.00</td>\n",
       "      <td>4.00</td>\n",
       "      <td>16.00</td>\n",
       "      <td>22.00</td>\n",
       "      <td>24.00</td>\n",
       "      <td>20.00</td>\n",
       "      <td>21.00</td>\n",
       "      <td>294.00</td>\n",
       "    </tr>\n",
       "    <tr>\n",
       "      <th>Hato Mayor</th>\n",
       "      <td>22.00</td>\n",
       "      <td>17.00</td>\n",
       "      <td>8.00</td>\n",
       "      <td>18.00</td>\n",
       "      <td>10.00</td>\n",
       "      <td>18.00</td>\n",
       "      <td>14.00</td>\n",
       "      <td>18.00</td>\n",
       "      <td>19.00</td>\n",
       "      <td>21.00</td>\n",
       "      <td>13.00</td>\n",
       "      <td>10.00</td>\n",
       "      <td>14.00</td>\n",
       "      <td>18.00</td>\n",
       "      <td>16.00</td>\n",
       "      <td>14.00</td>\n",
       "      <td>17.00</td>\n",
       "      <td>267.00</td>\n",
       "    </tr>\n",
       "    <tr>\n",
       "      <th>San José de Ocoa</th>\n",
       "      <td>4.00</td>\n",
       "      <td>7.00</td>\n",
       "      <td>8.00</td>\n",
       "      <td>13.00</td>\n",
       "      <td>9.00</td>\n",
       "      <td>11.00</td>\n",
       "      <td>9.00</td>\n",
       "      <td>13.00</td>\n",
       "      <td>9.00</td>\n",
       "      <td>11.00</td>\n",
       "      <td>14.00</td>\n",
       "      <td>10.00</td>\n",
       "      <td>23.00</td>\n",
       "      <td>15.00</td>\n",
       "      <td>15.00</td>\n",
       "      <td>15.00</td>\n",
       "      <td>20.00</td>\n",
       "      <td>206.00</td>\n",
       "    </tr>\n",
       "    <tr>\n",
       "      <th>Santiago Rodríguez</th>\n",
       "      <td>11.00</td>\n",
       "      <td>8.00</td>\n",
       "      <td>6.00</td>\n",
       "      <td>7.00</td>\n",
       "      <td>7.00</td>\n",
       "      <td>13.00</td>\n",
       "      <td>11.00</td>\n",
       "      <td>13.00</td>\n",
       "      <td>15.00</td>\n",
       "      <td>7.00</td>\n",
       "      <td>6.00</td>\n",
       "      <td>7.00</td>\n",
       "      <td>22.00</td>\n",
       "      <td>17.00</td>\n",
       "      <td>19.00</td>\n",
       "      <td>20.00</td>\n",
       "      <td>15.00</td>\n",
       "      <td>204.00</td>\n",
       "    </tr>\n",
       "    <tr>\n",
       "      <th>Independencia</th>\n",
       "      <td>13.00</td>\n",
       "      <td>9.00</td>\n",
       "      <td>11.00</td>\n",
       "      <td>8.00</td>\n",
       "      <td>10.00</td>\n",
       "      <td>6.00</td>\n",
       "      <td>6.00</td>\n",
       "      <td>10.00</td>\n",
       "      <td>13.00</td>\n",
       "      <td>11.00</td>\n",
       "      <td>6.00</td>\n",
       "      <td>5.00</td>\n",
       "      <td>12.00</td>\n",
       "      <td>9.00</td>\n",
       "      <td>12.00</td>\n",
       "      <td>9.00</td>\n",
       "      <td>17.00</td>\n",
       "      <td>167.00</td>\n",
       "    </tr>\n",
       "    <tr>\n",
       "      <th>Elías Piña</th>\n",
       "      <td>5.00</td>\n",
       "      <td>5.00</td>\n",
       "      <td>8.00</td>\n",
       "      <td>14.00</td>\n",
       "      <td>11.00</td>\n",
       "      <td>4.00</td>\n",
       "      <td>6.00</td>\n",
       "      <td>5.00</td>\n",
       "      <td>1.00</td>\n",
       "      <td>7.00</td>\n",
       "      <td>9.00</td>\n",
       "      <td>7.00</td>\n",
       "      <td>7.00</td>\n",
       "      <td>12.00</td>\n",
       "      <td>8.00</td>\n",
       "      <td>15.00</td>\n",
       "      <td>9.00</td>\n",
       "      <td>133.00</td>\n",
       "    </tr>\n",
       "    <tr>\n",
       "      <th>Pedernales</th>\n",
       "      <td>2.00</td>\n",
       "      <td>4.00</td>\n",
       "      <td>4.00</td>\n",
       "      <td>4.00</td>\n",
       "      <td>8.00</td>\n",
       "      <td>3.00</td>\n",
       "      <td>8.00</td>\n",
       "      <td>9.00</td>\n",
       "      <td>3.00</td>\n",
       "      <td>6.00</td>\n",
       "      <td>4.00</td>\n",
       "      <td>2.00</td>\n",
       "      <td>5.00</td>\n",
       "      <td>5.00</td>\n",
       "      <td>6.00</td>\n",
       "      <td>6.00</td>\n",
       "      <td>13.00</td>\n",
       "      <td>92.00</td>\n",
       "    </tr>\n",
       "    <tr>\n",
       "      <th>No declarada</th>\n",
       "      <td>NaN</td>\n",
       "      <td>NaN</td>\n",
       "      <td>NaN</td>\n",
       "      <td>NaN</td>\n",
       "      <td>NaN</td>\n",
       "      <td>NaN</td>\n",
       "      <td>NaN</td>\n",
       "      <td>NaN</td>\n",
       "      <td>NaN</td>\n",
       "      <td>NaN</td>\n",
       "      <td>5.00</td>\n",
       "      <td>NaN</td>\n",
       "      <td>NaN</td>\n",
       "      <td>NaN</td>\n",
       "      <td>NaN</td>\n",
       "      <td>NaN</td>\n",
       "      <td>NaN</td>\n",
       "      <td>5.00</td>\n",
       "    </tr>\n",
       "  </tbody>\n",
       "</table>\n",
       "</div>"
      ],
      "text/plain": [
       "anio                      2007   2008   2009   2010   2011   2012   2013  \\\n",
       "provincia                                                                  \n",
       "Santo Domingo           329.00 372.00 341.00 393.00 319.00 313.00 311.00   \n",
       "San Cristóbal           148.00 174.00 177.00 178.00 160.00 100.00 124.00   \n",
       "Santiago                117.00 108.00 153.00 165.00 101.00 137.00 135.00   \n",
       "La Vega                  71.00  85.00 148.00 166.00 136.00 115.00 119.00   \n",
       "La Altagracia           131.00 131.00  94.00 103.00 105.00 103.00  96.00   \n",
       "Distrito Nacional       117.00 123.00 114.00 103.00  99.00 106.00 115.00   \n",
       "Puerto Plata             82.00  88.00  90.00  78.00  80.00  75.00 104.00   \n",
       "Duarte                   61.00  63.00  60.00  90.00  66.00  94.00  68.00   \n",
       "Monseñor Nouel           89.00  83.00  52.00  61.00  56.00  56.00  40.00   \n",
       "San Pedro de Macorís     60.00  82.00  55.00  56.00  76.00  65.00  72.00   \n",
       "Azua                     35.00  50.00  56.00  56.00  64.00  53.00  55.00   \n",
       "San Juan                 39.00  32.00  60.00  83.00  55.00  60.00  50.00   \n",
       "Espaillat                48.00  40.00  50.00  50.00  56.00  25.00  59.00   \n",
       "Peravia                  45.00  49.00  43.00  54.00  54.00  37.00  42.00   \n",
       "María Trinidad. Sánchez  29.00  30.00  35.00  48.00  40.00  44.00  64.00   \n",
       "Valverde                 35.00  23.00  40.00  44.00  50.00  52.00  51.00   \n",
       "Monte Plata              41.00  46.00  49.00  51.00  29.00  37.00  34.00   \n",
       "La Romana                45.00  45.00  41.00  30.00  43.00  31.00  61.00   \n",
       "Samaná                   41.00  34.00  32.00  35.00  30.00  28.00  28.00   \n",
       "Barahona                 41.00  30.00  31.00  63.00  38.00  47.00  35.00   \n",
       "Sánchez Ramírez          19.00  42.00  33.00  49.00  32.00  31.00  55.00   \n",
       "Monte Cristi             15.00  12.00  17.00  42.00  29.00  27.00  42.00   \n",
       "Hermanas Mirabal          5.00   8.00   7.00  17.00  32.00  19.00  27.00   \n",
       "Baoruco                  14.00  12.00  13.00  23.00  14.00  25.00  20.00   \n",
       "El Seibo                 17.00  15.00  25.00  21.00   4.00  14.00  14.00   \n",
       "Dajabón                  16.00  19.00  12.00   9.00  10.00  19.00  17.00   \n",
       "Hato Mayor               22.00  17.00   8.00  18.00  10.00  18.00  14.00   \n",
       "San José de Ocoa          4.00   7.00   8.00  13.00   9.00  11.00   9.00   \n",
       "Santiago Rodríguez       11.00   8.00   6.00   7.00   7.00  13.00  11.00   \n",
       "Independencia            13.00   9.00  11.00   8.00  10.00   6.00   6.00   \n",
       "Elías Piña                5.00   5.00   8.00  14.00  11.00   4.00   6.00   \n",
       "Pedernales                2.00   4.00   4.00   4.00   8.00   3.00   8.00   \n",
       "No declarada               NaN    NaN    NaN    NaN    NaN    NaN    NaN   \n",
       "\n",
       "anio                      2014   2015   2016   2017   2018   2019   2020  \\\n",
       "provincia                                                                  \n",
       "Santo Domingo           243.00 235.00 254.00 210.00 197.00 301.00 246.00   \n",
       "San Cristóbal           132.00  98.00 121.00 115.00 145.00 147.00 166.00   \n",
       "Santiago                146.00 164.00 147.00 118.00 154.00 164.00 121.00   \n",
       "La Vega                 135.00 146.00 153.00 122.00  97.00 167.00 127.00   \n",
       "La Altagracia           110.00 125.00 127.00  84.00  84.00 140.00  86.00   \n",
       "Distrito Nacional       112.00  64.00  68.00  61.00  83.00  91.00  75.00   \n",
       "Puerto Plata             94.00  99.00  88.00  57.00  39.00 107.00  64.00   \n",
       "Duarte                   64.00 104.00 116.00  74.00  44.00  64.00  56.00   \n",
       "Monseñor Nouel           59.00  69.00  54.00  69.00  53.00  73.00  57.00   \n",
       "San Pedro de Macorís     67.00  70.00  71.00  54.00  29.00  69.00  49.00   \n",
       "Azua                     53.00  61.00  64.00  61.00  51.00  80.00  69.00   \n",
       "San Juan                 60.00  75.00  54.00  59.00  75.00  64.00  33.00   \n",
       "Espaillat                72.00  86.00  75.00  61.00  34.00  62.00  39.00   \n",
       "Peravia                  47.00  45.00  80.00  50.00  51.00  57.00  59.00   \n",
       "María Trinidad. Sánchez  58.00  41.00  52.00  39.00  31.00  64.00  28.00   \n",
       "Valverde                 45.00  60.00  52.00  35.00  38.00  55.00  39.00   \n",
       "Monte Plata              21.00  44.00  45.00  35.00  37.00  41.00  61.00   \n",
       "La Romana                35.00  46.00  53.00  43.00   2.00  36.00  41.00   \n",
       "Samaná                   34.00  29.00  47.00  35.00  27.00  38.00  53.00   \n",
       "Barahona                 39.00  37.00  34.00  21.00  15.00  44.00  23.00   \n",
       "Sánchez Ramírez          28.00  38.00  48.00  27.00  11.00  41.00  33.00   \n",
       "Monte Cristi             39.00  26.00  39.00  24.00  27.00  30.00  38.00   \n",
       "Hermanas Mirabal         33.00  44.00  18.00  40.00  14.00  23.00  29.00   \n",
       "Baoruco                  21.00  30.00  21.00  16.00  13.00  19.00  30.00   \n",
       "El Seibo                 19.00  19.00  19.00  15.00  31.00  24.00  17.00   \n",
       "Dajabón                  21.00  31.00  28.00   5.00   4.00  16.00  22.00   \n",
       "Hato Mayor               18.00  19.00  21.00  13.00  10.00  14.00  18.00   \n",
       "San José de Ocoa         13.00   9.00  11.00  14.00  10.00  23.00  15.00   \n",
       "Santiago Rodríguez       13.00  15.00   7.00   6.00   7.00  22.00  17.00   \n",
       "Independencia            10.00  13.00  11.00   6.00   5.00  12.00   9.00   \n",
       "Elías Piña                5.00   1.00   7.00   9.00   7.00   7.00  12.00   \n",
       "Pedernales                9.00   3.00   6.00   4.00   2.00   5.00   5.00   \n",
       "No declarada               NaN    NaN    NaN   5.00    NaN    NaN    NaN   \n",
       "\n",
       "anio                      2021   2022   2023   Total  \n",
       "provincia                                             \n",
       "Santo Domingo           220.00 237.00 255.00 4776.00  \n",
       "San Cristóbal           109.00 116.00 163.00 2373.00  \n",
       "Santiago                155.00 120.00 120.00 2325.00  \n",
       "La Vega                 126.00 123.00 132.00 2168.00  \n",
       "La Altagracia           126.00 123.00 151.00 1919.00  \n",
       "Distrito Nacional        88.00  89.00  93.00 1601.00  \n",
       "Puerto Plata             78.00  73.00  97.00 1393.00  \n",
       "Duarte                   52.00  60.00  50.00 1186.00  \n",
       "Monseñor Nouel           75.00  62.00  65.00 1073.00  \n",
       "San Pedro de Macorís     71.00  63.00  52.00 1061.00  \n",
       "Azua                     68.00  75.00  58.00 1009.00  \n",
       "San Juan                 58.00  50.00  62.00  969.00  \n",
       "Espaillat                58.00  52.00  59.00  926.00  \n",
       "Peravia                  61.00  68.00  68.00  910.00  \n",
       "María Trinidad. Sánchez  44.00  46.00  53.00  746.00  \n",
       "Valverde                 45.00  30.00  48.00  742.00  \n",
       "Monte Plata              57.00  53.00  47.00  728.00  \n",
       "La Romana                52.00  49.00  54.00  707.00  \n",
       "Samaná                   30.00  49.00  36.00  606.00  \n",
       "Barahona                 36.00  33.00  31.00  598.00  \n",
       "Sánchez Ramírez          38.00  29.00  31.00  585.00  \n",
       "Monte Cristi             52.00  38.00  38.00  535.00  \n",
       "Hermanas Mirabal         28.00  20.00  24.00  388.00  \n",
       "Baoruco                  20.00  16.00  27.00  334.00  \n",
       "El Seibo                 27.00  21.00  23.00  325.00  \n",
       "Dajabón                  24.00  20.00  21.00  294.00  \n",
       "Hato Mayor               16.00  14.00  17.00  267.00  \n",
       "San José de Ocoa         15.00  15.00  20.00  206.00  \n",
       "Santiago Rodríguez       19.00  20.00  15.00  204.00  \n",
       "Independencia            12.00   9.00  17.00  167.00  \n",
       "Elías Piña                8.00  15.00   9.00  133.00  \n",
       "Pedernales                6.00   6.00  13.00   92.00  \n",
       "No declarada               NaN    NaN    NaN    5.00  "
      ]
     },
     "execution_count": 20,
     "metadata": {},
     "output_type": "execute_result"
    }
   ],
   "source": [
    "tabla_pivote_provincia = f.crear_tabla_pivote(df_descodificada, index='provincia',\n",
    "                                              columns='anio', \n",
    "                                              values='tipo_accidente', \n",
    "                                              aggfunc='count')\n",
    "tabla_pivote_provincia['Total'] = tabla_pivote_provincia.sum(axis=1)  \n",
    "tabla_pivote_provincia = tabla_pivote_provincia.sort_values(by='Total', ascending=False)\n",
    "tabla_pivote_provincia"
   ]
  },
  {
   "cell_type": "markdown",
   "metadata": {},
   "source": [
    "### Diferencias por género"
   ]
  },
  {
   "cell_type": "markdown",
   "metadata": {},
   "source": [
    "- **Fallecimientos por género (2007-2023)**:  \n",
    "  - Han fallecido **27,389 hombres** en accidentes de tránsito a nivel nacional.  \n",
    "  - En el caso del género femenino, se han registrado **3,891 casos** de fallecimientos en el mismo periodo.\n",
    "\n",
    "- **Hombres**:  \n",
    "  - Los hombres tienden a perder la vida principalmente en:\n",
    "    - **Motocicletas**: **67.25%**  \n",
    "    - **Atropellamientos en la calle**: **16.43%**  \n",
    "    - **Automóviles**: **5.80%**\n",
    "\n",
    "- **Mujeres**:  \n",
    "  - Aunque las mujeres pierden la vida en los mismos medios, las proporciones difieren significativamente:\n",
    "    - **Motocicletas**: **39.45%**  \n",
    "    - **Peatones atropellados**: **32.30%**  \n",
    "    - **Automóviles**: **12.20%**\n"
   ]
  },
  {
   "cell_type": "code",
   "execution_count": 21,
   "metadata": {},
   "outputs": [
    {
     "data": {
      "application/vnd.microsoft.datawrangler.viewer.v0+json": {
       "columns": [
        {
         "name": "('sexo', 'medio_trans')",
         "rawType": "object",
         "type": "unknown"
        },
        {
         "name": "Conteo",
         "rawType": "int64",
         "type": "integer"
        },
        {
         "name": "Total por Sexo",
         "rawType": "int64",
         "type": "integer"
        },
        {
         "name": "Porcentaje (%)",
         "rawType": "float64",
         "type": "float"
        }
       ],
       "conversionMethod": "pd.DataFrame",
       "ref": "4cbb34b0-2705-4ccd-b564-b04d415a6ccc",
       "rows": [
        [
         "('Hombres', 'Motocicleta, ciclomotor (passola)')",
         "18421",
         "27389",
         "67.25692796378108"
        ],
        [
         "('Hombres', 'Peatón atropellado')",
         "4501",
         "27389",
         "16.433604731826644"
        ],
        [
         "('Hombres', 'Automóvil (carro)')",
         "1590",
         "27389",
         "5.805250282960313"
        ],
        [
         "('Hombres', 'Camión')",
         "763",
         "27389",
         "2.7857899156595716"
        ],
        [
         "('Hombres', 'Yipeta, yip')",
         "672",
         "27389",
         "2.453539742232283"
        ],
        [
         "('Hombres', 'Camioneta')",
         "618",
         "27389",
         "2.2563802986600456"
        ],
        [
         "('Hombres', 'No declarado')",
         "299",
         "27389",
         "1.0916791412610902"
        ],
        [
         "('Hombres', 'Autobús')",
         "175",
         "27389",
         "0.6389426412063237"
        ],
        [
         "('Hombres', 'Minibús, miniván')",
         "147",
         "27389",
         "0.5367118186133119"
        ],
        [
         "('Hombres', 'Bicicleta')",
         "80",
         "27389",
         "0.29208806455146225"
        ],
        [
         "('Hombres', 'Otros')",
         "49",
         "27389",
         "0.17890393953777065"
        ],
        [
         "('Hombres', 'Tractor')",
         "18",
         "27389",
         "0.065719814524079"
        ],
        [
         "('Hombres', 'Animal')",
         "11",
         "27389",
         "0.04016210887582606"
        ],
        [
         "('Hombres', 'Patana')",
         "10",
         "27389",
         "0.03651100806893278"
        ],
        [
         "('Hombres', 'Furgoneta')",
         "6",
         "27389",
         "0.02190660484135967"
        ],
        [
         "('Hombres', 'Vehículo le cayó encima')",
         "6",
         "27389",
         "0.02190660484135967"
        ],
        [
         "('Hombres', 'Ambulancia')",
         "5",
         "27389",
         "0.01825550403446639"
        ],
        [
         "('Hombres', 'Triciclo')",
         "5",
         "27389",
         "0.01825550403446639"
        ],
        [
         "('Hombres', 'Volteo')",
         "3",
         "27389",
         "0.010953302420679835"
        ],
        [
         "('Hombres', 'Carreta')",
         "2",
         "27389",
         "0.0073022016137865575"
        ],
        [
         "('Hombres', 'Excavadora')",
         "2",
         "27389",
         "0.0073022016137865575"
        ],
        [
         "('Hombres', 'Grúa')",
         "2",
         "27389",
         "0.0073022016137865575"
        ],
        [
         "('Hombres', 'Pala mecánica')",
         "2",
         "27389",
         "0.0073022016137865575"
        ],
        [
         "('Hombres', 'Gredar')",
         "1",
         "27389",
         "0.0036511008068932788"
        ],
        [
         "('Hombres', 'Rodillo')",
         "1",
         "27389",
         "0.0036511008068932788"
        ],
        [
         "('Mujeres', 'Motocicleta, ciclomotor (passola)')",
         "1535",
         "3891",
         "39.450012850167056"
        ],
        [
         "('Mujeres', 'Peatón atropellado')",
         "1257",
         "3891",
         "32.305319969159605"
        ],
        [
         "('Mujeres', 'Automóvil (carro)')",
         "475",
         "3891",
         "12.207658699563094"
        ],
        [
         "('Mujeres', 'Yipeta, yip')",
         "257",
         "3891",
         "6.604985864816243"
        ],
        [
         "('Mujeres', 'Camioneta')",
         "103",
         "3891",
         "2.647134412747366"
        ],
        [
         "('Mujeres', 'Autobús')",
         "88",
         "3891",
         "2.261629401182215"
        ],
        [
         "('Mujeres', 'Camión')",
         "61",
         "3891",
         "1.5677203803649447"
        ],
        [
         "('Mujeres', 'No declarado')",
         "61",
         "3891",
         "1.5677203803649447"
        ],
        [
         "('Mujeres', 'Minibús, miniván')",
         "46",
         "3891",
         "1.1822153687997943"
        ],
        [
         "('Mujeres', 'Otros')",
         "4",
         "3891",
         "0.10280133641737343"
        ],
        [
         "('Mujeres', 'Bicicleta')",
         "2",
         "3891",
         "0.05140066820868672"
        ],
        [
         "('Mujeres', 'Excavadora')",
         "1",
         "3891",
         "0.02570033410434336"
        ],
        [
         "('Mujeres', 'Tractor')",
         "1",
         "3891",
         "0.02570033410434336"
        ],
        [
         "('No declarado', 'Motocicleta, ciclomotor (passola)')",
         "25",
         "71",
         "35.2112676056338"
        ],
        [
         "('No declarado', 'Peatón atropellado')",
         "17",
         "71",
         "23.943661971830984"
        ],
        [
         "('No declarado', 'Automóvil (carro)')",
         "12",
         "71",
         "16.901408450704224"
        ],
        [
         "('No declarado', 'Camión')",
         "7",
         "71",
         "9.859154929577464"
        ],
        [
         "('No declarado', 'No declarado')",
         "4",
         "71",
         "5.633802816901409"
        ],
        [
         "('No declarado', 'Camioneta')",
         "2",
         "71",
         "2.8169014084507045"
        ],
        [
         "('No declarado', 'Ambulancia')",
         "1",
         "71",
         "1.4084507042253522"
        ],
        [
         "('No declarado', 'Autobús')",
         "1",
         "71",
         "1.4084507042253522"
        ],
        [
         "('No declarado', 'Minibús, miniván')",
         "1",
         "71",
         "1.4084507042253522"
        ],
        [
         "('No declarado', 'Yipeta, yip')",
         "1",
         "71",
         "1.4084507042253522"
        ]
       ],
       "shape": {
        "columns": 3,
        "rows": 48
       }
      },
      "text/html": [
       "<div>\n",
       "<style scoped>\n",
       "    .dataframe tbody tr th:only-of-type {\n",
       "        vertical-align: middle;\n",
       "    }\n",
       "\n",
       "    .dataframe tbody tr th {\n",
       "        vertical-align: top;\n",
       "    }\n",
       "\n",
       "    .dataframe thead th {\n",
       "        text-align: right;\n",
       "    }\n",
       "</style>\n",
       "<table border=\"1\" class=\"dataframe\">\n",
       "  <thead>\n",
       "    <tr style=\"text-align: right;\">\n",
       "      <th></th>\n",
       "      <th></th>\n",
       "      <th>Conteo</th>\n",
       "      <th>Total por Sexo</th>\n",
       "      <th>Porcentaje (%)</th>\n",
       "    </tr>\n",
       "    <tr>\n",
       "      <th>sexo</th>\n",
       "      <th>medio_trans</th>\n",
       "      <th></th>\n",
       "      <th></th>\n",
       "      <th></th>\n",
       "    </tr>\n",
       "  </thead>\n",
       "  <tbody>\n",
       "    <tr>\n",
       "      <th rowspan=\"25\" valign=\"top\">Hombres</th>\n",
       "      <th>Motocicleta, ciclomotor (passola)</th>\n",
       "      <td>18421</td>\n",
       "      <td>27389</td>\n",
       "      <td>67.26</td>\n",
       "    </tr>\n",
       "    <tr>\n",
       "      <th>Peatón atropellado</th>\n",
       "      <td>4501</td>\n",
       "      <td>27389</td>\n",
       "      <td>16.43</td>\n",
       "    </tr>\n",
       "    <tr>\n",
       "      <th>Automóvil (carro)</th>\n",
       "      <td>1590</td>\n",
       "      <td>27389</td>\n",
       "      <td>5.81</td>\n",
       "    </tr>\n",
       "    <tr>\n",
       "      <th>Camión</th>\n",
       "      <td>763</td>\n",
       "      <td>27389</td>\n",
       "      <td>2.79</td>\n",
       "    </tr>\n",
       "    <tr>\n",
       "      <th>Yipeta, yip</th>\n",
       "      <td>672</td>\n",
       "      <td>27389</td>\n",
       "      <td>2.45</td>\n",
       "    </tr>\n",
       "    <tr>\n",
       "      <th>Camioneta</th>\n",
       "      <td>618</td>\n",
       "      <td>27389</td>\n",
       "      <td>2.26</td>\n",
       "    </tr>\n",
       "    <tr>\n",
       "      <th>No declarado</th>\n",
       "      <td>299</td>\n",
       "      <td>27389</td>\n",
       "      <td>1.09</td>\n",
       "    </tr>\n",
       "    <tr>\n",
       "      <th>Autobús</th>\n",
       "      <td>175</td>\n",
       "      <td>27389</td>\n",
       "      <td>0.64</td>\n",
       "    </tr>\n",
       "    <tr>\n",
       "      <th>Minibús, miniván</th>\n",
       "      <td>147</td>\n",
       "      <td>27389</td>\n",
       "      <td>0.54</td>\n",
       "    </tr>\n",
       "    <tr>\n",
       "      <th>Bicicleta</th>\n",
       "      <td>80</td>\n",
       "      <td>27389</td>\n",
       "      <td>0.29</td>\n",
       "    </tr>\n",
       "    <tr>\n",
       "      <th>Otros</th>\n",
       "      <td>49</td>\n",
       "      <td>27389</td>\n",
       "      <td>0.18</td>\n",
       "    </tr>\n",
       "    <tr>\n",
       "      <th>Tractor</th>\n",
       "      <td>18</td>\n",
       "      <td>27389</td>\n",
       "      <td>0.07</td>\n",
       "    </tr>\n",
       "    <tr>\n",
       "      <th>Animal</th>\n",
       "      <td>11</td>\n",
       "      <td>27389</td>\n",
       "      <td>0.04</td>\n",
       "    </tr>\n",
       "    <tr>\n",
       "      <th>Patana</th>\n",
       "      <td>10</td>\n",
       "      <td>27389</td>\n",
       "      <td>0.04</td>\n",
       "    </tr>\n",
       "    <tr>\n",
       "      <th>Furgoneta</th>\n",
       "      <td>6</td>\n",
       "      <td>27389</td>\n",
       "      <td>0.02</td>\n",
       "    </tr>\n",
       "    <tr>\n",
       "      <th>Vehículo le cayó encima</th>\n",
       "      <td>6</td>\n",
       "      <td>27389</td>\n",
       "      <td>0.02</td>\n",
       "    </tr>\n",
       "    <tr>\n",
       "      <th>Ambulancia</th>\n",
       "      <td>5</td>\n",
       "      <td>27389</td>\n",
       "      <td>0.02</td>\n",
       "    </tr>\n",
       "    <tr>\n",
       "      <th>Triciclo</th>\n",
       "      <td>5</td>\n",
       "      <td>27389</td>\n",
       "      <td>0.02</td>\n",
       "    </tr>\n",
       "    <tr>\n",
       "      <th>Volteo</th>\n",
       "      <td>3</td>\n",
       "      <td>27389</td>\n",
       "      <td>0.01</td>\n",
       "    </tr>\n",
       "    <tr>\n",
       "      <th>Carreta</th>\n",
       "      <td>2</td>\n",
       "      <td>27389</td>\n",
       "      <td>0.01</td>\n",
       "    </tr>\n",
       "    <tr>\n",
       "      <th>Excavadora</th>\n",
       "      <td>2</td>\n",
       "      <td>27389</td>\n",
       "      <td>0.01</td>\n",
       "    </tr>\n",
       "    <tr>\n",
       "      <th>Grúa</th>\n",
       "      <td>2</td>\n",
       "      <td>27389</td>\n",
       "      <td>0.01</td>\n",
       "    </tr>\n",
       "    <tr>\n",
       "      <th>Pala mecánica</th>\n",
       "      <td>2</td>\n",
       "      <td>27389</td>\n",
       "      <td>0.01</td>\n",
       "    </tr>\n",
       "    <tr>\n",
       "      <th>Gredar</th>\n",
       "      <td>1</td>\n",
       "      <td>27389</td>\n",
       "      <td>0.00</td>\n",
       "    </tr>\n",
       "    <tr>\n",
       "      <th>Rodillo</th>\n",
       "      <td>1</td>\n",
       "      <td>27389</td>\n",
       "      <td>0.00</td>\n",
       "    </tr>\n",
       "    <tr>\n",
       "      <th rowspan=\"13\" valign=\"top\">Mujeres</th>\n",
       "      <th>Motocicleta, ciclomotor (passola)</th>\n",
       "      <td>1535</td>\n",
       "      <td>3891</td>\n",
       "      <td>39.45</td>\n",
       "    </tr>\n",
       "    <tr>\n",
       "      <th>Peatón atropellado</th>\n",
       "      <td>1257</td>\n",
       "      <td>3891</td>\n",
       "      <td>32.31</td>\n",
       "    </tr>\n",
       "    <tr>\n",
       "      <th>Automóvil (carro)</th>\n",
       "      <td>475</td>\n",
       "      <td>3891</td>\n",
       "      <td>12.21</td>\n",
       "    </tr>\n",
       "    <tr>\n",
       "      <th>Yipeta, yip</th>\n",
       "      <td>257</td>\n",
       "      <td>3891</td>\n",
       "      <td>6.60</td>\n",
       "    </tr>\n",
       "    <tr>\n",
       "      <th>Camioneta</th>\n",
       "      <td>103</td>\n",
       "      <td>3891</td>\n",
       "      <td>2.65</td>\n",
       "    </tr>\n",
       "    <tr>\n",
       "      <th>Autobús</th>\n",
       "      <td>88</td>\n",
       "      <td>3891</td>\n",
       "      <td>2.26</td>\n",
       "    </tr>\n",
       "    <tr>\n",
       "      <th>Camión</th>\n",
       "      <td>61</td>\n",
       "      <td>3891</td>\n",
       "      <td>1.57</td>\n",
       "    </tr>\n",
       "    <tr>\n",
       "      <th>No declarado</th>\n",
       "      <td>61</td>\n",
       "      <td>3891</td>\n",
       "      <td>1.57</td>\n",
       "    </tr>\n",
       "    <tr>\n",
       "      <th>Minibús, miniván</th>\n",
       "      <td>46</td>\n",
       "      <td>3891</td>\n",
       "      <td>1.18</td>\n",
       "    </tr>\n",
       "    <tr>\n",
       "      <th>Otros</th>\n",
       "      <td>4</td>\n",
       "      <td>3891</td>\n",
       "      <td>0.10</td>\n",
       "    </tr>\n",
       "    <tr>\n",
       "      <th>Bicicleta</th>\n",
       "      <td>2</td>\n",
       "      <td>3891</td>\n",
       "      <td>0.05</td>\n",
       "    </tr>\n",
       "    <tr>\n",
       "      <th>Excavadora</th>\n",
       "      <td>1</td>\n",
       "      <td>3891</td>\n",
       "      <td>0.03</td>\n",
       "    </tr>\n",
       "    <tr>\n",
       "      <th>Tractor</th>\n",
       "      <td>1</td>\n",
       "      <td>3891</td>\n",
       "      <td>0.03</td>\n",
       "    </tr>\n",
       "    <tr>\n",
       "      <th rowspan=\"10\" valign=\"top\">No declarado</th>\n",
       "      <th>Motocicleta, ciclomotor (passola)</th>\n",
       "      <td>25</td>\n",
       "      <td>71</td>\n",
       "      <td>35.21</td>\n",
       "    </tr>\n",
       "    <tr>\n",
       "      <th>Peatón atropellado</th>\n",
       "      <td>17</td>\n",
       "      <td>71</td>\n",
       "      <td>23.94</td>\n",
       "    </tr>\n",
       "    <tr>\n",
       "      <th>Automóvil (carro)</th>\n",
       "      <td>12</td>\n",
       "      <td>71</td>\n",
       "      <td>16.90</td>\n",
       "    </tr>\n",
       "    <tr>\n",
       "      <th>Camión</th>\n",
       "      <td>7</td>\n",
       "      <td>71</td>\n",
       "      <td>9.86</td>\n",
       "    </tr>\n",
       "    <tr>\n",
       "      <th>No declarado</th>\n",
       "      <td>4</td>\n",
       "      <td>71</td>\n",
       "      <td>5.63</td>\n",
       "    </tr>\n",
       "    <tr>\n",
       "      <th>Camioneta</th>\n",
       "      <td>2</td>\n",
       "      <td>71</td>\n",
       "      <td>2.82</td>\n",
       "    </tr>\n",
       "    <tr>\n",
       "      <th>Ambulancia</th>\n",
       "      <td>1</td>\n",
       "      <td>71</td>\n",
       "      <td>1.41</td>\n",
       "    </tr>\n",
       "    <tr>\n",
       "      <th>Autobús</th>\n",
       "      <td>1</td>\n",
       "      <td>71</td>\n",
       "      <td>1.41</td>\n",
       "    </tr>\n",
       "    <tr>\n",
       "      <th>Minibús, miniván</th>\n",
       "      <td>1</td>\n",
       "      <td>71</td>\n",
       "      <td>1.41</td>\n",
       "    </tr>\n",
       "    <tr>\n",
       "      <th>Yipeta, yip</th>\n",
       "      <td>1</td>\n",
       "      <td>71</td>\n",
       "      <td>1.41</td>\n",
       "    </tr>\n",
       "  </tbody>\n",
       "</table>\n",
       "</div>"
      ],
      "text/plain": [
       "                                                Conteo  Total por Sexo  \\\n",
       "sexo         medio_trans                                                 \n",
       "Hombres      Motocicleta, ciclomotor (passola)   18421           27389   \n",
       "             Peatón atropellado                   4501           27389   \n",
       "             Automóvil (carro)                    1590           27389   \n",
       "             Camión                                763           27389   \n",
       "             Yipeta, yip                           672           27389   \n",
       "             Camioneta                             618           27389   \n",
       "             No declarado                          299           27389   \n",
       "             Autobús                               175           27389   \n",
       "             Minibús, miniván                      147           27389   \n",
       "             Bicicleta                              80           27389   \n",
       "             Otros                                  49           27389   \n",
       "             Tractor                                18           27389   \n",
       "             Animal                                 11           27389   \n",
       "             Patana                                 10           27389   \n",
       "             Furgoneta                               6           27389   \n",
       "             Vehículo le cayó encima                 6           27389   \n",
       "             Ambulancia                              5           27389   \n",
       "             Triciclo                                5           27389   \n",
       "             Volteo                                  3           27389   \n",
       "             Carreta                                 2           27389   \n",
       "             Excavadora                              2           27389   \n",
       "             Grúa                                    2           27389   \n",
       "             Pala mecánica                           2           27389   \n",
       "             Gredar                                  1           27389   \n",
       "             Rodillo                                 1           27389   \n",
       "Mujeres      Motocicleta, ciclomotor (passola)    1535            3891   \n",
       "             Peatón atropellado                   1257            3891   \n",
       "             Automóvil (carro)                     475            3891   \n",
       "             Yipeta, yip                           257            3891   \n",
       "             Camioneta                             103            3891   \n",
       "             Autobús                                88            3891   \n",
       "             Camión                                 61            3891   \n",
       "             No declarado                           61            3891   \n",
       "             Minibús, miniván                       46            3891   \n",
       "             Otros                                   4            3891   \n",
       "             Bicicleta                               2            3891   \n",
       "             Excavadora                              1            3891   \n",
       "             Tractor                                 1            3891   \n",
       "No declarado Motocicleta, ciclomotor (passola)      25              71   \n",
       "             Peatón atropellado                     17              71   \n",
       "             Automóvil (carro)                      12              71   \n",
       "             Camión                                  7              71   \n",
       "             No declarado                            4              71   \n",
       "             Camioneta                               2              71   \n",
       "             Ambulancia                              1              71   \n",
       "             Autobús                                 1              71   \n",
       "             Minibús, miniván                        1              71   \n",
       "             Yipeta, yip                             1              71   \n",
       "\n",
       "                                                Porcentaje (%)  \n",
       "sexo         medio_trans                                        \n",
       "Hombres      Motocicleta, ciclomotor (passola)           67.26  \n",
       "             Peatón atropellado                          16.43  \n",
       "             Automóvil (carro)                            5.81  \n",
       "             Camión                                       2.79  \n",
       "             Yipeta, yip                                  2.45  \n",
       "             Camioneta                                    2.26  \n",
       "             No declarado                                 1.09  \n",
       "             Autobús                                      0.64  \n",
       "             Minibús, miniván                             0.54  \n",
       "             Bicicleta                                    0.29  \n",
       "             Otros                                        0.18  \n",
       "             Tractor                                      0.07  \n",
       "             Animal                                       0.04  \n",
       "             Patana                                       0.04  \n",
       "             Furgoneta                                    0.02  \n",
       "             Vehículo le cayó encima                      0.02  \n",
       "             Ambulancia                                   0.02  \n",
       "             Triciclo                                     0.02  \n",
       "             Volteo                                       0.01  \n",
       "             Carreta                                      0.01  \n",
       "             Excavadora                                   0.01  \n",
       "             Grúa                                         0.01  \n",
       "             Pala mecánica                                0.01  \n",
       "             Gredar                                       0.00  \n",
       "             Rodillo                                      0.00  \n",
       "Mujeres      Motocicleta, ciclomotor (passola)           39.45  \n",
       "             Peatón atropellado                          32.31  \n",
       "             Automóvil (carro)                           12.21  \n",
       "             Yipeta, yip                                  6.60  \n",
       "             Camioneta                                    2.65  \n",
       "             Autobús                                      2.26  \n",
       "             Camión                                       1.57  \n",
       "             No declarado                                 1.57  \n",
       "             Minibús, miniván                             1.18  \n",
       "             Otros                                        0.10  \n",
       "             Bicicleta                                    0.05  \n",
       "             Excavadora                                   0.03  \n",
       "             Tractor                                      0.03  \n",
       "No declarado Motocicleta, ciclomotor (passola)           35.21  \n",
       "             Peatón atropellado                          23.94  \n",
       "             Automóvil (carro)                           16.90  \n",
       "             Camión                                       9.86  \n",
       "             No declarado                                 5.63  \n",
       "             Camioneta                                    2.82  \n",
       "             Ambulancia                                   1.41  \n",
       "             Autobús                                      1.41  \n",
       "             Minibús, miniván                             1.41  \n",
       "             Yipeta, yip                                  1.41  "
      ]
     },
     "execution_count": 21,
     "metadata": {},
     "output_type": "execute_result"
    }
   ],
   "source": [
    "df_genero_medio = df_descodificada.groupby(['sexo', 'medio_trans'])[['tipo_via']].count().sort_values(by=['sexo', 'tipo_via'], ascending=[True, False]) # agrupo por género y tipo de medio\n",
    "df_genero_medio.rename(columns={'tipo_via': 'Conteo'}, inplace=True)\n",
    "df_genero_medio['Total por Sexo'] = df_genero_medio.groupby(level=0)['Conteo'].transform('sum') #comparo el conteo de cada medio con el total del género en sí\n",
    "df_genero_medio['Porcentaje (%)'] = (df_genero_medio['Conteo'] / df_genero_medio['Total por Sexo']) * 100 # busco el porcentaje de ese medio por el género agrupado\n",
    "df_genero_medio"
   ]
  },
  {
   "cell_type": "markdown",
   "metadata": {},
   "source": [
    "### Causas de Fallecimientos por Género\n",
    "\n",
    "- **Hombres**:  \n",
    "  - La mayoría de los hombres pierde la vida como resultado de una **colisión** (**59.05%**).  \n",
    "  - Le siguen los casos de **deslizamientos** y **atropellamientos**, ambos con un **16%**, aunque con una diferencia muy pequeña entre ellos.\n",
    "\n",
    "- **Mujeres**:  \n",
    "  - Las mujeres también fallecen con mayor probabilidad en **choques** (**43.92%**).  \n",
    "  - Les siguen los casos de **atropellamientos** (**32.38%**) y **deslizamientos** (**14.77%**).\n"
   ]
  },
  {
   "cell_type": "code",
   "execution_count": 22,
   "metadata": {},
   "outputs": [
    {
     "data": {
      "application/vnd.microsoft.datawrangler.viewer.v0+json": {
       "columns": [
        {
         "name": "('sexo', 'tipo_accidente')",
         "rawType": "object",
         "type": "unknown"
        },
        {
         "name": "Conteo",
         "rawType": "int64",
         "type": "integer"
        },
        {
         "name": "Total por Sexo",
         "rawType": "int64",
         "type": "integer"
        },
        {
         "name": "Porcentaje %",
         "rawType": "float64",
         "type": "float"
        }
       ],
       "conversionMethod": "pd.DataFrame",
       "ref": "519f68aa-1e63-4865-be86-a14e32a3c388",
       "rows": [
        [
         "('Hombres', 'Choque o colisión')",
         "16175",
         "27389",
         "59.05655555149878"
        ],
        [
         "('Hombres', 'Deslizamiento')",
         "4627",
         "27389",
         "16.8936434334952"
        ],
        [
         "('Hombres', 'Atropellamiento')",
         "4502",
         "27389",
         "16.43725583263354"
        ],
        [
         "('Hombres', 'Estrellamiento')",
         "1126",
         "27389",
         "4.111139508561831"
        ],
        [
         "('Hombres', 'Vuelco o vuelcadura')",
         "692",
         "27389",
         "2.5265617583701485"
        ],
        [
         "('Hombres', 'Caída')",
         "237",
         "27389",
         "0.865310891233707"
        ],
        [
         "('Hombres', 'Aplastamiento')",
         "18",
         "27389",
         "0.065719814524079"
        ],
        [
         "('Hombres', 'No declarado')",
         "11",
         "27389",
         "0.04016210887582606"
        ],
        [
         "('Hombres', 'Otros')",
         "1",
         "27389",
         "0.0036511008068932788"
        ],
        [
         "('Mujeres', 'Choque o colisión')",
         "1709",
         "3891",
         "43.921870984322794"
        ],
        [
         "('Mujeres', 'Atropellamiento')",
         "1260",
         "3891",
         "32.382420971472634"
        ],
        [
         "('Mujeres', 'Deslizamiento')",
         "575",
         "3891",
         "14.777692109997432"
        ],
        [
         "('Mujeres', 'Vuelco o vuelcadura')",
         "156",
         "3891",
         "4.009252120277564"
        ],
        [
         "('Mujeres', 'Estrellamiento')",
         "148",
         "3891",
         "3.8036494474428166"
        ],
        [
         "('Mujeres', 'Caída')",
         "40",
         "3891",
         "1.0280133641737343"
        ],
        [
         "('Mujeres', 'Otros')",
         "2",
         "3891",
         "0.05140066820868672"
        ],
        [
         "('Mujeres', 'No declarado')",
         "1",
         "3891",
         "0.02570033410434336"
        ],
        [
         "('No declarado', 'Choque o colisión')",
         "31",
         "71",
         "43.66197183098591"
        ],
        [
         "('No declarado', 'Atropellamiento')",
         "17",
         "71",
         "23.943661971830984"
        ],
        [
         "('No declarado', 'Deslizamiento')",
         "14",
         "71",
         "19.718309859154928"
        ],
        [
         "('No declarado', 'Estrellamiento')",
         "8",
         "71",
         "11.267605633802818"
        ],
        [
         "('No declarado', 'Vuelco o vuelcadura')",
         "1",
         "71",
         "1.4084507042253522"
        ]
       ],
       "shape": {
        "columns": 3,
        "rows": 22
       }
      },
      "text/html": [
       "<div>\n",
       "<style scoped>\n",
       "    .dataframe tbody tr th:only-of-type {\n",
       "        vertical-align: middle;\n",
       "    }\n",
       "\n",
       "    .dataframe tbody tr th {\n",
       "        vertical-align: top;\n",
       "    }\n",
       "\n",
       "    .dataframe thead th {\n",
       "        text-align: right;\n",
       "    }\n",
       "</style>\n",
       "<table border=\"1\" class=\"dataframe\">\n",
       "  <thead>\n",
       "    <tr style=\"text-align: right;\">\n",
       "      <th></th>\n",
       "      <th></th>\n",
       "      <th>Conteo</th>\n",
       "      <th>Total por Sexo</th>\n",
       "      <th>Porcentaje %</th>\n",
       "    </tr>\n",
       "    <tr>\n",
       "      <th>sexo</th>\n",
       "      <th>tipo_accidente</th>\n",
       "      <th></th>\n",
       "      <th></th>\n",
       "      <th></th>\n",
       "    </tr>\n",
       "  </thead>\n",
       "  <tbody>\n",
       "    <tr>\n",
       "      <th rowspan=\"9\" valign=\"top\">Hombres</th>\n",
       "      <th>Choque o colisión</th>\n",
       "      <td>16175</td>\n",
       "      <td>27389</td>\n",
       "      <td>59.06</td>\n",
       "    </tr>\n",
       "    <tr>\n",
       "      <th>Deslizamiento</th>\n",
       "      <td>4627</td>\n",
       "      <td>27389</td>\n",
       "      <td>16.89</td>\n",
       "    </tr>\n",
       "    <tr>\n",
       "      <th>Atropellamiento</th>\n",
       "      <td>4502</td>\n",
       "      <td>27389</td>\n",
       "      <td>16.44</td>\n",
       "    </tr>\n",
       "    <tr>\n",
       "      <th>Estrellamiento</th>\n",
       "      <td>1126</td>\n",
       "      <td>27389</td>\n",
       "      <td>4.11</td>\n",
       "    </tr>\n",
       "    <tr>\n",
       "      <th>Vuelco o vuelcadura</th>\n",
       "      <td>692</td>\n",
       "      <td>27389</td>\n",
       "      <td>2.53</td>\n",
       "    </tr>\n",
       "    <tr>\n",
       "      <th>Caída</th>\n",
       "      <td>237</td>\n",
       "      <td>27389</td>\n",
       "      <td>0.87</td>\n",
       "    </tr>\n",
       "    <tr>\n",
       "      <th>Aplastamiento</th>\n",
       "      <td>18</td>\n",
       "      <td>27389</td>\n",
       "      <td>0.07</td>\n",
       "    </tr>\n",
       "    <tr>\n",
       "      <th>No declarado</th>\n",
       "      <td>11</td>\n",
       "      <td>27389</td>\n",
       "      <td>0.04</td>\n",
       "    </tr>\n",
       "    <tr>\n",
       "      <th>Otros</th>\n",
       "      <td>1</td>\n",
       "      <td>27389</td>\n",
       "      <td>0.00</td>\n",
       "    </tr>\n",
       "    <tr>\n",
       "      <th rowspan=\"8\" valign=\"top\">Mujeres</th>\n",
       "      <th>Choque o colisión</th>\n",
       "      <td>1709</td>\n",
       "      <td>3891</td>\n",
       "      <td>43.92</td>\n",
       "    </tr>\n",
       "    <tr>\n",
       "      <th>Atropellamiento</th>\n",
       "      <td>1260</td>\n",
       "      <td>3891</td>\n",
       "      <td>32.38</td>\n",
       "    </tr>\n",
       "    <tr>\n",
       "      <th>Deslizamiento</th>\n",
       "      <td>575</td>\n",
       "      <td>3891</td>\n",
       "      <td>14.78</td>\n",
       "    </tr>\n",
       "    <tr>\n",
       "      <th>Vuelco o vuelcadura</th>\n",
       "      <td>156</td>\n",
       "      <td>3891</td>\n",
       "      <td>4.01</td>\n",
       "    </tr>\n",
       "    <tr>\n",
       "      <th>Estrellamiento</th>\n",
       "      <td>148</td>\n",
       "      <td>3891</td>\n",
       "      <td>3.80</td>\n",
       "    </tr>\n",
       "    <tr>\n",
       "      <th>Caída</th>\n",
       "      <td>40</td>\n",
       "      <td>3891</td>\n",
       "      <td>1.03</td>\n",
       "    </tr>\n",
       "    <tr>\n",
       "      <th>Otros</th>\n",
       "      <td>2</td>\n",
       "      <td>3891</td>\n",
       "      <td>0.05</td>\n",
       "    </tr>\n",
       "    <tr>\n",
       "      <th>No declarado</th>\n",
       "      <td>1</td>\n",
       "      <td>3891</td>\n",
       "      <td>0.03</td>\n",
       "    </tr>\n",
       "    <tr>\n",
       "      <th rowspan=\"5\" valign=\"top\">No declarado</th>\n",
       "      <th>Choque o colisión</th>\n",
       "      <td>31</td>\n",
       "      <td>71</td>\n",
       "      <td>43.66</td>\n",
       "    </tr>\n",
       "    <tr>\n",
       "      <th>Atropellamiento</th>\n",
       "      <td>17</td>\n",
       "      <td>71</td>\n",
       "      <td>23.94</td>\n",
       "    </tr>\n",
       "    <tr>\n",
       "      <th>Deslizamiento</th>\n",
       "      <td>14</td>\n",
       "      <td>71</td>\n",
       "      <td>19.72</td>\n",
       "    </tr>\n",
       "    <tr>\n",
       "      <th>Estrellamiento</th>\n",
       "      <td>8</td>\n",
       "      <td>71</td>\n",
       "      <td>11.27</td>\n",
       "    </tr>\n",
       "    <tr>\n",
       "      <th>Vuelco o vuelcadura</th>\n",
       "      <td>1</td>\n",
       "      <td>71</td>\n",
       "      <td>1.41</td>\n",
       "    </tr>\n",
       "  </tbody>\n",
       "</table>\n",
       "</div>"
      ],
      "text/plain": [
       "                                  Conteo  Total por Sexo  Porcentaje %\n",
       "sexo         tipo_accidente                                           \n",
       "Hombres      Choque o colisión     16175           27389         59.06\n",
       "             Deslizamiento          4627           27389         16.89\n",
       "             Atropellamiento        4502           27389         16.44\n",
       "             Estrellamiento         1126           27389          4.11\n",
       "             Vuelco o vuelcadura     692           27389          2.53\n",
       "             Caída                   237           27389          0.87\n",
       "             Aplastamiento            18           27389          0.07\n",
       "             No declarado             11           27389          0.04\n",
       "             Otros                     1           27389          0.00\n",
       "Mujeres      Choque o colisión      1709            3891         43.92\n",
       "             Atropellamiento        1260            3891         32.38\n",
       "             Deslizamiento           575            3891         14.78\n",
       "             Vuelco o vuelcadura     156            3891          4.01\n",
       "             Estrellamiento          148            3891          3.80\n",
       "             Caída                    40            3891          1.03\n",
       "             Otros                     2            3891          0.05\n",
       "             No declarado              1            3891          0.03\n",
       "No declarado Choque o colisión        31              71         43.66\n",
       "             Atropellamiento          17              71         23.94\n",
       "             Deslizamiento            14              71         19.72\n",
       "             Estrellamiento            8              71         11.27\n",
       "             Vuelco o vuelcadura       1              71          1.41"
      ]
     },
     "execution_count": 22,
     "metadata": {},
     "output_type": "execute_result"
    }
   ],
   "source": [
    "df_genero_acc = df_descodificada.groupby(['sexo', 'tipo_accidente'])[['tipo_via']].count().sort_values(by=['sexo', 'tipo_via'], ascending=[True, False])\n",
    "df_genero_acc.rename(columns={'tipo_via': 'Conteo'}, inplace=True)\n",
    "df_genero_acc['Total por Sexo'] = df_genero_acc.groupby(level=0)['Conteo'].transform('sum')\n",
    "df_genero_acc['Porcentaje %'] = df_genero_acc['Conteo'] / df_genero_acc['Total por Sexo'] * 100 # busco el porcentaje de ese tipo de accidente en consideración del total por sexo\n",
    "df_genero_acc"
   ]
  },
  {
   "cell_type": "markdown",
   "metadata": {},
   "source": [
    "#### Distribución de edad por género:\n",
    "\n",
    "- Tanto para **hombres** como para **mujeres**, la categoría **No declarada** es la que presenta más casos:  \n",
    "  - **26%** para los hombres.  \n",
    "  - **25%** para las mujeres.\n",
    "\n",
    "- **Hombres**:  \n",
    "  - El grupo mayoritario es **20-24 años**, con un **13.20%** de los casos.  \n",
    "  - Le siguen:  \n",
    "    - **25-29 años**: **9.79%**.  \n",
    "    - **15-19 años**: **8.96%**.  \n",
    "  - Estos grupos más jóvenes (15-29 años) son los que presentan más fallecimientos.  \n",
    "  - Esto se explica porque gran parte de la juventud que no tiene recursos para un automóvil recurre a las **motocicletas** como medio de transporte económico. Estas suelen utilizarse para:\n",
    "    - Trabajos como **moto-taxi** o **mensajería**.\n",
    "    - En algunos casos, actividades delictivas.  \n",
    "\n",
    "- **Mujeres**:  \n",
    "  - Los grupos más destacados son:\n",
    "    - **20-24 años**: **10.30%**.  \n",
    "    - **15-19 años**: **8.81%**.  \n",
    "  - De manera sorprendente, el siguiente grupo más afectado es el de **65 años y más**, con un **7.63%**.\n"
   ]
  },
  {
   "cell_type": "code",
   "execution_count": 23,
   "metadata": {},
   "outputs": [
    {
     "data": {
      "application/vnd.microsoft.datawrangler.viewer.v0+json": {
       "columns": [
        {
         "name": "('sexo', 'grupo_edad')",
         "rawType": "object",
         "type": "unknown"
        },
        {
         "name": "Conteo",
         "rawType": "int64",
         "type": "integer"
        },
        {
         "name": "Total por Sexo",
         "rawType": "int64",
         "type": "integer"
        },
        {
         "name": "Porcentaje (%)",
         "rawType": "float64",
         "type": "float"
        }
       ],
       "conversionMethod": "pd.DataFrame",
       "ref": "fc28207e-68c5-4d2f-9b9c-d67bb02b9b52",
       "rows": [
        [
         "('Hombres', 'No declarado')",
         "7103",
         "27389",
         "25.933769031362957"
        ],
        [
         "('Hombres', '20-24')",
         "3616",
         "27389",
         "13.202380517726095"
        ],
        [
         "('Hombres', '25-29')",
         "2684",
         "27389",
         "9.799554565701559"
        ],
        [
         "('Hombres', '15-19')",
         "2456",
         "27389",
         "8.967103581729893"
        ],
        [
         "('Hombres', '30-34')",
         "2093",
         "27389",
         "7.641753988827632"
        ],
        [
         "('Hombres', '35-39')",
         "1787",
         "27389",
         "6.524517141918289"
        ],
        [
         "('Hombres', '65 y más')",
         "1458",
         "27389",
         "5.3233049764504"
        ],
        [
         "('Hombres', '40-44')",
         "1414",
         "27389",
         "5.162656540947095"
        ],
        [
         "('Hombres', '45-49')",
         "1206",
         "27389",
         "4.403227573113293"
        ],
        [
         "('Hombres', '50-54')",
         "1144",
         "27389",
         "4.17685932308591"
        ],
        [
         "('Hombres', '55-59')",
         "876",
         "27389",
         "3.1983643068385117"
        ],
        [
         "('Hombres', '60-64')",
         "739",
         "27389",
         "2.698163496294133"
        ],
        [
         "('Hombres', '10-14')",
         "349",
         "27389",
         "1.274234181605754"
        ],
        [
         "('Hombres', '0-4')",
         "240",
         "27389",
         "0.8762641936543868"
        ],
        [
         "('Hombres', '5-9')",
         "224",
         "27389",
         "0.8178465807440943"
        ],
        [
         "('Mujeres', 'No declarado')",
         "963",
         "3891",
         "24.749421742482653"
        ],
        [
         "('Mujeres', '20-24')",
         "401",
         "3891",
         "10.305833975841686"
        ],
        [
         "('Mujeres', '15-19')",
         "343",
         "3891",
         "8.81521459778977"
        ],
        [
         "('Mujeres', '65 y más')",
         "297",
         "3891",
         "7.632999228989977"
        ],
        [
         "('Mujeres', '25-29')",
         "290",
         "3891",
         "7.453096890259574"
        ],
        [
         "('Mujeres', '30-34')",
         "271",
         "3891",
         "6.96479054227705"
        ],
        [
         "('Mujeres', '35-39')",
         "209",
         "3891",
         "5.3713698278077615"
        ],
        [
         "('Mujeres', '40-44')",
         "185",
         "3891",
         "4.754561809303521"
        ],
        [
         "('Mujeres', '45-49')",
         "166",
         "3891",
         "4.2662554613209975"
        ],
        [
         "('Mujeres', '50-54')",
         "147",
         "3891",
         "3.7779491133384733"
        ],
        [
         "('Mujeres', '5-9')",
         "133",
         "3891",
         "3.4181444358776667"
        ],
        [
         "('Mujeres', '0-4')",
         "128",
         "3891",
         "3.28964276535595"
        ],
        [
         "('Mujeres', '60-64')",
         "123",
         "3891",
         "3.1611410948342327"
        ],
        [
         "('Mujeres', '55-59')",
         "119",
         "3891",
         "3.0583397584168592"
        ],
        [
         "('Mujeres', '10-14')",
         "116",
         "3891",
         "2.9812387561038296"
        ],
        [
         "('No declarado', 'No declarado')",
         "68",
         "71",
         "95.77464788732394"
        ],
        [
         "('No declarado', '15-19')",
         "1",
         "71",
         "1.4084507042253522"
        ],
        [
         "('No declarado', '30-34')",
         "1",
         "71",
         "1.4084507042253522"
        ],
        [
         "('No declarado', '65 y más')",
         "1",
         "71",
         "1.4084507042253522"
        ]
       ],
       "shape": {
        "columns": 3,
        "rows": 34
       }
      },
      "text/html": [
       "<div>\n",
       "<style scoped>\n",
       "    .dataframe tbody tr th:only-of-type {\n",
       "        vertical-align: middle;\n",
       "    }\n",
       "\n",
       "    .dataframe tbody tr th {\n",
       "        vertical-align: top;\n",
       "    }\n",
       "\n",
       "    .dataframe thead th {\n",
       "        text-align: right;\n",
       "    }\n",
       "</style>\n",
       "<table border=\"1\" class=\"dataframe\">\n",
       "  <thead>\n",
       "    <tr style=\"text-align: right;\">\n",
       "      <th></th>\n",
       "      <th></th>\n",
       "      <th>Conteo</th>\n",
       "      <th>Total por Sexo</th>\n",
       "      <th>Porcentaje (%)</th>\n",
       "    </tr>\n",
       "    <tr>\n",
       "      <th>sexo</th>\n",
       "      <th>grupo_edad</th>\n",
       "      <th></th>\n",
       "      <th></th>\n",
       "      <th></th>\n",
       "    </tr>\n",
       "  </thead>\n",
       "  <tbody>\n",
       "    <tr>\n",
       "      <th rowspan=\"15\" valign=\"top\">Hombres</th>\n",
       "      <th>No declarado</th>\n",
       "      <td>7103</td>\n",
       "      <td>27389</td>\n",
       "      <td>25.93</td>\n",
       "    </tr>\n",
       "    <tr>\n",
       "      <th>20-24</th>\n",
       "      <td>3616</td>\n",
       "      <td>27389</td>\n",
       "      <td>13.20</td>\n",
       "    </tr>\n",
       "    <tr>\n",
       "      <th>25-29</th>\n",
       "      <td>2684</td>\n",
       "      <td>27389</td>\n",
       "      <td>9.80</td>\n",
       "    </tr>\n",
       "    <tr>\n",
       "      <th>15-19</th>\n",
       "      <td>2456</td>\n",
       "      <td>27389</td>\n",
       "      <td>8.97</td>\n",
       "    </tr>\n",
       "    <tr>\n",
       "      <th>30-34</th>\n",
       "      <td>2093</td>\n",
       "      <td>27389</td>\n",
       "      <td>7.64</td>\n",
       "    </tr>\n",
       "    <tr>\n",
       "      <th>35-39</th>\n",
       "      <td>1787</td>\n",
       "      <td>27389</td>\n",
       "      <td>6.52</td>\n",
       "    </tr>\n",
       "    <tr>\n",
       "      <th>65 y más</th>\n",
       "      <td>1458</td>\n",
       "      <td>27389</td>\n",
       "      <td>5.32</td>\n",
       "    </tr>\n",
       "    <tr>\n",
       "      <th>40-44</th>\n",
       "      <td>1414</td>\n",
       "      <td>27389</td>\n",
       "      <td>5.16</td>\n",
       "    </tr>\n",
       "    <tr>\n",
       "      <th>45-49</th>\n",
       "      <td>1206</td>\n",
       "      <td>27389</td>\n",
       "      <td>4.40</td>\n",
       "    </tr>\n",
       "    <tr>\n",
       "      <th>50-54</th>\n",
       "      <td>1144</td>\n",
       "      <td>27389</td>\n",
       "      <td>4.18</td>\n",
       "    </tr>\n",
       "    <tr>\n",
       "      <th>55-59</th>\n",
       "      <td>876</td>\n",
       "      <td>27389</td>\n",
       "      <td>3.20</td>\n",
       "    </tr>\n",
       "    <tr>\n",
       "      <th>60-64</th>\n",
       "      <td>739</td>\n",
       "      <td>27389</td>\n",
       "      <td>2.70</td>\n",
       "    </tr>\n",
       "    <tr>\n",
       "      <th>10-14</th>\n",
       "      <td>349</td>\n",
       "      <td>27389</td>\n",
       "      <td>1.27</td>\n",
       "    </tr>\n",
       "    <tr>\n",
       "      <th>0-4</th>\n",
       "      <td>240</td>\n",
       "      <td>27389</td>\n",
       "      <td>0.88</td>\n",
       "    </tr>\n",
       "    <tr>\n",
       "      <th>5-9</th>\n",
       "      <td>224</td>\n",
       "      <td>27389</td>\n",
       "      <td>0.82</td>\n",
       "    </tr>\n",
       "    <tr>\n",
       "      <th rowspan=\"15\" valign=\"top\">Mujeres</th>\n",
       "      <th>No declarado</th>\n",
       "      <td>963</td>\n",
       "      <td>3891</td>\n",
       "      <td>24.75</td>\n",
       "    </tr>\n",
       "    <tr>\n",
       "      <th>20-24</th>\n",
       "      <td>401</td>\n",
       "      <td>3891</td>\n",
       "      <td>10.31</td>\n",
       "    </tr>\n",
       "    <tr>\n",
       "      <th>15-19</th>\n",
       "      <td>343</td>\n",
       "      <td>3891</td>\n",
       "      <td>8.82</td>\n",
       "    </tr>\n",
       "    <tr>\n",
       "      <th>65 y más</th>\n",
       "      <td>297</td>\n",
       "      <td>3891</td>\n",
       "      <td>7.63</td>\n",
       "    </tr>\n",
       "    <tr>\n",
       "      <th>25-29</th>\n",
       "      <td>290</td>\n",
       "      <td>3891</td>\n",
       "      <td>7.45</td>\n",
       "    </tr>\n",
       "    <tr>\n",
       "      <th>30-34</th>\n",
       "      <td>271</td>\n",
       "      <td>3891</td>\n",
       "      <td>6.96</td>\n",
       "    </tr>\n",
       "    <tr>\n",
       "      <th>35-39</th>\n",
       "      <td>209</td>\n",
       "      <td>3891</td>\n",
       "      <td>5.37</td>\n",
       "    </tr>\n",
       "    <tr>\n",
       "      <th>40-44</th>\n",
       "      <td>185</td>\n",
       "      <td>3891</td>\n",
       "      <td>4.75</td>\n",
       "    </tr>\n",
       "    <tr>\n",
       "      <th>45-49</th>\n",
       "      <td>166</td>\n",
       "      <td>3891</td>\n",
       "      <td>4.27</td>\n",
       "    </tr>\n",
       "    <tr>\n",
       "      <th>50-54</th>\n",
       "      <td>147</td>\n",
       "      <td>3891</td>\n",
       "      <td>3.78</td>\n",
       "    </tr>\n",
       "    <tr>\n",
       "      <th>5-9</th>\n",
       "      <td>133</td>\n",
       "      <td>3891</td>\n",
       "      <td>3.42</td>\n",
       "    </tr>\n",
       "    <tr>\n",
       "      <th>0-4</th>\n",
       "      <td>128</td>\n",
       "      <td>3891</td>\n",
       "      <td>3.29</td>\n",
       "    </tr>\n",
       "    <tr>\n",
       "      <th>60-64</th>\n",
       "      <td>123</td>\n",
       "      <td>3891</td>\n",
       "      <td>3.16</td>\n",
       "    </tr>\n",
       "    <tr>\n",
       "      <th>55-59</th>\n",
       "      <td>119</td>\n",
       "      <td>3891</td>\n",
       "      <td>3.06</td>\n",
       "    </tr>\n",
       "    <tr>\n",
       "      <th>10-14</th>\n",
       "      <td>116</td>\n",
       "      <td>3891</td>\n",
       "      <td>2.98</td>\n",
       "    </tr>\n",
       "    <tr>\n",
       "      <th rowspan=\"4\" valign=\"top\">No declarado</th>\n",
       "      <th>No declarado</th>\n",
       "      <td>68</td>\n",
       "      <td>71</td>\n",
       "      <td>95.77</td>\n",
       "    </tr>\n",
       "    <tr>\n",
       "      <th>15-19</th>\n",
       "      <td>1</td>\n",
       "      <td>71</td>\n",
       "      <td>1.41</td>\n",
       "    </tr>\n",
       "    <tr>\n",
       "      <th>30-34</th>\n",
       "      <td>1</td>\n",
       "      <td>71</td>\n",
       "      <td>1.41</td>\n",
       "    </tr>\n",
       "    <tr>\n",
       "      <th>65 y más</th>\n",
       "      <td>1</td>\n",
       "      <td>71</td>\n",
       "      <td>1.41</td>\n",
       "    </tr>\n",
       "  </tbody>\n",
       "</table>\n",
       "</div>"
      ],
      "text/plain": [
       "                           Conteo  Total por Sexo  Porcentaje (%)\n",
       "sexo         grupo_edad                                          \n",
       "Hombres      No declarado    7103           27389           25.93\n",
       "             20-24           3616           27389           13.20\n",
       "             25-29           2684           27389            9.80\n",
       "             15-19           2456           27389            8.97\n",
       "             30-34           2093           27389            7.64\n",
       "             35-39           1787           27389            6.52\n",
       "             65 y más        1458           27389            5.32\n",
       "             40-44           1414           27389            5.16\n",
       "             45-49           1206           27389            4.40\n",
       "             50-54           1144           27389            4.18\n",
       "             55-59            876           27389            3.20\n",
       "             60-64            739           27389            2.70\n",
       "             10-14            349           27389            1.27\n",
       "             0-4              240           27389            0.88\n",
       "             5-9              224           27389            0.82\n",
       "Mujeres      No declarado     963            3891           24.75\n",
       "             20-24            401            3891           10.31\n",
       "             15-19            343            3891            8.82\n",
       "             65 y más         297            3891            7.63\n",
       "             25-29            290            3891            7.45\n",
       "             30-34            271            3891            6.96\n",
       "             35-39            209            3891            5.37\n",
       "             40-44            185            3891            4.75\n",
       "             45-49            166            3891            4.27\n",
       "             50-54            147            3891            3.78\n",
       "             5-9              133            3891            3.42\n",
       "             0-4              128            3891            3.29\n",
       "             60-64            123            3891            3.16\n",
       "             55-59            119            3891            3.06\n",
       "             10-14            116            3891            2.98\n",
       "No declarado No declarado      68              71           95.77\n",
       "             15-19              1              71            1.41\n",
       "             30-34              1              71            1.41\n",
       "             65 y más           1              71            1.41"
      ]
     },
     "execution_count": 23,
     "metadata": {},
     "output_type": "execute_result"
    }
   ],
   "source": [
    "df_genero_edad = df_descodificada.groupby(['sexo', 'grupo_edad'])[['tipo_via']].count().sort_values(by=['sexo', 'tipo_via'], ascending=[True, False])\n",
    "df_genero_edad.rename(columns={'tipo_via': 'Conteo'}, inplace=True)\n",
    "df_genero_edad['Total por Sexo'] = df_genero_edad.groupby(level=0)['Conteo'].transform('sum')\n",
    "df_genero_edad['Porcentaje (%)'] = (df_genero_edad['Conteo'] / df_genero_edad['Total por Sexo']) * 100\n",
    "df_genero_edad"
   ]
  },
  {
   "cell_type": "markdown",
   "metadata": {},
   "source": [
    "### Distribución de grupo_edad por medio de transporte\n",
    "\n",
    "- Las edades con mayor cantidad de fallecidos siguen un patrón similar al de los hombres.  \n",
    "- **Motocicletas**:  \n",
    "  - Predominan como el medio de transporte más involucrado en los accidentes fatales.  \n",
    "  - Los rangos de edad más afectados son:  \n",
    "    - **No declarado** (mayoritario).  \n",
    "    - **20-24 años**.  \n",
    "    - **15-19 años**.\n",
    "\n",
    "    - **Tipos de accidente**:  \n",
    "  - Los mismos grupos de edades predominantes se mantienen en relación con los tipos de accidente.  \n",
    "  - Destacan especialmente los **choques** y los **atropellamientos**, que son las principales causas de fallecimientos en estos grupos."
   ]
  },
  {
   "cell_type": "code",
   "execution_count": 24,
   "metadata": {},
   "outputs": [
    {
     "data": {
      "application/vnd.microsoft.datawrangler.viewer.v0+json": {
       "columns": [
        {
         "name": "('grupo_edad', 'medio_trans')",
         "rawType": "object",
         "type": "unknown"
        },
        {
         "name": "tipo_via",
         "rawType": "int64",
         "type": "integer"
        }
       ],
       "conversionMethod": "pd.DataFrame",
       "ref": "0f928c73-ba72-487b-998e-a77b21b278f0",
       "rows": [
        [
         "('No declarado', 'Motocicleta, ciclomotor (passola)')",
         "4976"
        ],
        [
         "('20-24', 'Motocicleta, ciclomotor (passola)')",
         "3214"
        ],
        [
         "('15-19', 'Motocicleta, ciclomotor (passola)')",
         "2279"
        ],
        [
         "('25-29', 'Motocicleta, ciclomotor (passola)')",
         "2203"
        ],
        [
         "('30-34', 'Motocicleta, ciclomotor (passola)')",
         "1661"
        ],
        [
         "('No declarado', 'Peatón atropellado')",
         "1399"
        ],
        [
         "('35-39', 'Motocicleta, ciclomotor (passola)')",
         "1352"
        ],
        [
         "('65 y más', 'Peatón atropellado')",
         "1042"
        ],
        [
         "('40-44', 'Motocicleta, ciclomotor (passola)')",
         "1010"
        ],
        [
         "('45-49', 'Motocicleta, ciclomotor (passola)')",
         "832"
        ]
       ],
       "shape": {
        "columns": 1,
        "rows": 10
       }
      },
      "text/html": [
       "<div>\n",
       "<style scoped>\n",
       "    .dataframe tbody tr th:only-of-type {\n",
       "        vertical-align: middle;\n",
       "    }\n",
       "\n",
       "    .dataframe tbody tr th {\n",
       "        vertical-align: top;\n",
       "    }\n",
       "\n",
       "    .dataframe thead th {\n",
       "        text-align: right;\n",
       "    }\n",
       "</style>\n",
       "<table border=\"1\" class=\"dataframe\">\n",
       "  <thead>\n",
       "    <tr style=\"text-align: right;\">\n",
       "      <th></th>\n",
       "      <th></th>\n",
       "      <th>tipo_via</th>\n",
       "    </tr>\n",
       "    <tr>\n",
       "      <th>grupo_edad</th>\n",
       "      <th>medio_trans</th>\n",
       "      <th></th>\n",
       "    </tr>\n",
       "  </thead>\n",
       "  <tbody>\n",
       "    <tr>\n",
       "      <th>No declarado</th>\n",
       "      <th>Motocicleta, ciclomotor (passola)</th>\n",
       "      <td>4976</td>\n",
       "    </tr>\n",
       "    <tr>\n",
       "      <th>20-24</th>\n",
       "      <th>Motocicleta, ciclomotor (passola)</th>\n",
       "      <td>3214</td>\n",
       "    </tr>\n",
       "    <tr>\n",
       "      <th>15-19</th>\n",
       "      <th>Motocicleta, ciclomotor (passola)</th>\n",
       "      <td>2279</td>\n",
       "    </tr>\n",
       "    <tr>\n",
       "      <th>25-29</th>\n",
       "      <th>Motocicleta, ciclomotor (passola)</th>\n",
       "      <td>2203</td>\n",
       "    </tr>\n",
       "    <tr>\n",
       "      <th>30-34</th>\n",
       "      <th>Motocicleta, ciclomotor (passola)</th>\n",
       "      <td>1661</td>\n",
       "    </tr>\n",
       "    <tr>\n",
       "      <th>No declarado</th>\n",
       "      <th>Peatón atropellado</th>\n",
       "      <td>1399</td>\n",
       "    </tr>\n",
       "    <tr>\n",
       "      <th>35-39</th>\n",
       "      <th>Motocicleta, ciclomotor (passola)</th>\n",
       "      <td>1352</td>\n",
       "    </tr>\n",
       "    <tr>\n",
       "      <th>65 y más</th>\n",
       "      <th>Peatón atropellado</th>\n",
       "      <td>1042</td>\n",
       "    </tr>\n",
       "    <tr>\n",
       "      <th>40-44</th>\n",
       "      <th>Motocicleta, ciclomotor (passola)</th>\n",
       "      <td>1010</td>\n",
       "    </tr>\n",
       "    <tr>\n",
       "      <th>45-49</th>\n",
       "      <th>Motocicleta, ciclomotor (passola)</th>\n",
       "      <td>832</td>\n",
       "    </tr>\n",
       "  </tbody>\n",
       "</table>\n",
       "</div>"
      ],
      "text/plain": [
       "                                                tipo_via\n",
       "grupo_edad   medio_trans                                \n",
       "No declarado Motocicleta, ciclomotor (passola)      4976\n",
       "20-24        Motocicleta, ciclomotor (passola)      3214\n",
       "15-19        Motocicleta, ciclomotor (passola)      2279\n",
       "25-29        Motocicleta, ciclomotor (passola)      2203\n",
       "30-34        Motocicleta, ciclomotor (passola)      1661\n",
       "No declarado Peatón atropellado                     1399\n",
       "35-39        Motocicleta, ciclomotor (passola)      1352\n",
       "65 y más     Peatón atropellado                     1042\n",
       "40-44        Motocicleta, ciclomotor (passola)      1010\n",
       "45-49        Motocicleta, ciclomotor (passola)       832"
      ]
     },
     "execution_count": 24,
     "metadata": {},
     "output_type": "execute_result"
    }
   ],
   "source": [
    "df_descodificada.groupby(['grupo_edad', 'medio_trans'])[['tipo_via']].count().sort_values(by='tipo_via', ascending=False).head(10)"
   ]
  },
  {
   "cell_type": "code",
   "execution_count": 25,
   "metadata": {},
   "outputs": [
    {
     "data": {
      "application/vnd.microsoft.datawrangler.viewer.v0+json": {
       "columns": [
        {
         "name": "('grupo_edad', 'tipo_accidente')",
         "rawType": "object",
         "type": "unknown"
        },
        {
         "name": "tipo_via",
         "rawType": "int64",
         "type": "integer"
        }
       ],
       "conversionMethod": "pd.DataFrame",
       "ref": "185766e3-3af7-4c85-8a19-95ad6d44ae51",
       "rows": [
        [
         "('No declarado', 'Choque o colisión')",
         "4847"
        ],
        [
         "('20-24', 'Choque o colisión')",
         "2514"
        ],
        [
         "('15-19', 'Choque o colisión')",
         "1857"
        ],
        [
         "('25-29', 'Choque o colisión')",
         "1820"
        ],
        [
         "('30-34', 'Choque o colisión')",
         "1442"
        ],
        [
         "('No declarado', 'Atropellamiento')",
         "1398"
        ],
        [
         "('No declarado', 'Deslizamiento')",
         "1363"
        ],
        [
         "('35-39', 'Choque o colisión')",
         "1201"
        ],
        [
         "('65 y más', 'Atropellamiento')",
         "1042"
        ],
        [
         "('40-44', 'Choque o colisión')",
         "951"
        ]
       ],
       "shape": {
        "columns": 1,
        "rows": 10
       }
      },
      "text/html": [
       "<div>\n",
       "<style scoped>\n",
       "    .dataframe tbody tr th:only-of-type {\n",
       "        vertical-align: middle;\n",
       "    }\n",
       "\n",
       "    .dataframe tbody tr th {\n",
       "        vertical-align: top;\n",
       "    }\n",
       "\n",
       "    .dataframe thead th {\n",
       "        text-align: right;\n",
       "    }\n",
       "</style>\n",
       "<table border=\"1\" class=\"dataframe\">\n",
       "  <thead>\n",
       "    <tr style=\"text-align: right;\">\n",
       "      <th></th>\n",
       "      <th></th>\n",
       "      <th>tipo_via</th>\n",
       "    </tr>\n",
       "    <tr>\n",
       "      <th>grupo_edad</th>\n",
       "      <th>tipo_accidente</th>\n",
       "      <th></th>\n",
       "    </tr>\n",
       "  </thead>\n",
       "  <tbody>\n",
       "    <tr>\n",
       "      <th>No declarado</th>\n",
       "      <th>Choque o colisión</th>\n",
       "      <td>4847</td>\n",
       "    </tr>\n",
       "    <tr>\n",
       "      <th>20-24</th>\n",
       "      <th>Choque o colisión</th>\n",
       "      <td>2514</td>\n",
       "    </tr>\n",
       "    <tr>\n",
       "      <th>15-19</th>\n",
       "      <th>Choque o colisión</th>\n",
       "      <td>1857</td>\n",
       "    </tr>\n",
       "    <tr>\n",
       "      <th>25-29</th>\n",
       "      <th>Choque o colisión</th>\n",
       "      <td>1820</td>\n",
       "    </tr>\n",
       "    <tr>\n",
       "      <th>30-34</th>\n",
       "      <th>Choque o colisión</th>\n",
       "      <td>1442</td>\n",
       "    </tr>\n",
       "    <tr>\n",
       "      <th rowspan=\"2\" valign=\"top\">No declarado</th>\n",
       "      <th>Atropellamiento</th>\n",
       "      <td>1398</td>\n",
       "    </tr>\n",
       "    <tr>\n",
       "      <th>Deslizamiento</th>\n",
       "      <td>1363</td>\n",
       "    </tr>\n",
       "    <tr>\n",
       "      <th>35-39</th>\n",
       "      <th>Choque o colisión</th>\n",
       "      <td>1201</td>\n",
       "    </tr>\n",
       "    <tr>\n",
       "      <th>65 y más</th>\n",
       "      <th>Atropellamiento</th>\n",
       "      <td>1042</td>\n",
       "    </tr>\n",
       "    <tr>\n",
       "      <th>40-44</th>\n",
       "      <th>Choque o colisión</th>\n",
       "      <td>951</td>\n",
       "    </tr>\n",
       "  </tbody>\n",
       "</table>\n",
       "</div>"
      ],
      "text/plain": [
       "                                tipo_via\n",
       "grupo_edad   tipo_accidente             \n",
       "No declarado Choque o colisión      4847\n",
       "20-24        Choque o colisión      2514\n",
       "15-19        Choque o colisión      1857\n",
       "25-29        Choque o colisión      1820\n",
       "30-34        Choque o colisión      1442\n",
       "No declarado Atropellamiento        1398\n",
       "             Deslizamiento          1363\n",
       "35-39        Choque o colisión      1201\n",
       "65 y más     Atropellamiento        1042\n",
       "40-44        Choque o colisión       951"
      ]
     },
     "execution_count": 25,
     "metadata": {},
     "output_type": "execute_result"
    }
   ],
   "source": [
    "df_descodificada.groupby(['grupo_edad', 'tipo_accidente'])[['tipo_via']].count().sort_values(by='tipo_via', ascending=False).head(10)"
   ]
  },
  {
   "cell_type": "markdown",
   "metadata": {},
   "source": [
    "## Función prueba"
   ]
  },
  {
   "cell_type": "code",
   "execution_count": 26,
   "metadata": {},
   "outputs": [
    {
     "data": {
      "application/vnd.microsoft.datawrangler.viewer.v0+json": {
       "columns": [
        {
         "name": "index",
         "rawType": "int64",
         "type": "integer"
        },
        {
         "name": "Tipo de Accidente",
         "rawType": "object",
         "type": "string"
        },
        {
         "name": "Cantidad",
         "rawType": "int64",
         "type": "integer"
        }
       ],
       "conversionMethod": "pd.DataFrame",
       "ref": "416c9d04-358b-4f0f-a526-f44af4b0fc52",
       "rows": [
        [
         "0",
         "Choque o colisión",
         "47"
        ],
        [
         "1",
         "Atropellamiento",
         "21"
        ],
        [
         "2",
         "Estrellamiento",
         "5"
        ],
        [
         "3",
         "Caída",
         "1"
        ],
        [
         "4",
         "Aplastamiento",
         "1"
        ]
       ],
       "shape": {
        "columns": 2,
        "rows": 5
       }
      },
      "text/html": [
       "<div>\n",
       "<style scoped>\n",
       "    .dataframe tbody tr th:only-of-type {\n",
       "        vertical-align: middle;\n",
       "    }\n",
       "\n",
       "    .dataframe tbody tr th {\n",
       "        vertical-align: top;\n",
       "    }\n",
       "\n",
       "    .dataframe thead th {\n",
       "        text-align: right;\n",
       "    }\n",
       "</style>\n",
       "<table border=\"1\" class=\"dataframe\">\n",
       "  <thead>\n",
       "    <tr style=\"text-align: right;\">\n",
       "      <th></th>\n",
       "      <th>Tipo de Accidente</th>\n",
       "      <th>Cantidad</th>\n",
       "    </tr>\n",
       "  </thead>\n",
       "  <tbody>\n",
       "    <tr>\n",
       "      <th>0</th>\n",
       "      <td>Choque o colisión</td>\n",
       "      <td>47</td>\n",
       "    </tr>\n",
       "    <tr>\n",
       "      <th>1</th>\n",
       "      <td>Atropellamiento</td>\n",
       "      <td>21</td>\n",
       "    </tr>\n",
       "    <tr>\n",
       "      <th>2</th>\n",
       "      <td>Estrellamiento</td>\n",
       "      <td>5</td>\n",
       "    </tr>\n",
       "    <tr>\n",
       "      <th>3</th>\n",
       "      <td>Caída</td>\n",
       "      <td>1</td>\n",
       "    </tr>\n",
       "    <tr>\n",
       "      <th>4</th>\n",
       "      <td>Aplastamiento</td>\n",
       "      <td>1</td>\n",
       "    </tr>\n",
       "  </tbody>\n",
       "</table>\n",
       "</div>"
      ],
      "text/plain": [
       "   Tipo de Accidente  Cantidad\n",
       "0  Choque o colisión        47\n",
       "1    Atropellamiento        21\n",
       "2     Estrellamiento         5\n",
       "3              Caída         1\n",
       "4      Aplastamiento         1"
      ]
     },
     "execution_count": 26,
     "metadata": {},
     "output_type": "execute_result"
    }
   ],
   "source": [
    "# Consultar tipos de accidente por año en una provincia o region particular\n",
    "f.consulta_tipo_accidente(df_descodificada, anio=2020, filtro_columna=\"provincia\", filtro_valor=\"Distrito Nacional\")"
   ]
  },
  {
   "cell_type": "code",
   "execution_count": 27,
   "metadata": {},
   "outputs": [
    {
     "data": {
      "application/vnd.microsoft.datawrangler.viewer.v0+json": {
       "columns": [
        {
         "name": "index",
         "rawType": "int64",
         "type": "integer"
        },
        {
         "name": "Tipo de Accidente",
         "rawType": "object",
         "type": "string"
        },
        {
         "name": "Cantidad en Región Cibao Norte",
         "rawType": "int64",
         "type": "integer"
        },
        {
         "name": "Cantidad en Región Ozama",
         "rawType": "int64",
         "type": "integer"
        }
       ],
       "conversionMethod": "pd.DataFrame",
       "ref": "7cce5e14-fd31-4a20-b021-88ca38734864",
       "rows": [
        [
         "0",
         "Choque o colisión",
         "151",
         "170"
        ],
        [
         "1",
         "Atropellamiento",
         "50",
         "190"
        ],
        [
         "2",
         "Deslizamiento",
         "27",
         "34"
        ],
        [
         "3",
         "Vuelco o vuelcadura",
         "12",
         "19"
        ],
        [
         "4",
         "Caída",
         "4",
         "8"
        ],
        [
         "5",
         "Estrellamiento",
         "3",
         "25"
        ]
       ],
       "shape": {
        "columns": 3,
        "rows": 6
       }
      },
      "text/html": [
       "<div>\n",
       "<style scoped>\n",
       "    .dataframe tbody tr th:only-of-type {\n",
       "        vertical-align: middle;\n",
       "    }\n",
       "\n",
       "    .dataframe tbody tr th {\n",
       "        vertical-align: top;\n",
       "    }\n",
       "\n",
       "    .dataframe thead th {\n",
       "        text-align: right;\n",
       "    }\n",
       "</style>\n",
       "<table border=\"1\" class=\"dataframe\">\n",
       "  <thead>\n",
       "    <tr style=\"text-align: right;\">\n",
       "      <th></th>\n",
       "      <th>Tipo de Accidente</th>\n",
       "      <th>Cantidad en Región Cibao Norte</th>\n",
       "      <th>Cantidad en Región Ozama</th>\n",
       "    </tr>\n",
       "  </thead>\n",
       "  <tbody>\n",
       "    <tr>\n",
       "      <th>0</th>\n",
       "      <td>Choque o colisión</td>\n",
       "      <td>151</td>\n",
       "      <td>170</td>\n",
       "    </tr>\n",
       "    <tr>\n",
       "      <th>1</th>\n",
       "      <td>Atropellamiento</td>\n",
       "      <td>50</td>\n",
       "      <td>190</td>\n",
       "    </tr>\n",
       "    <tr>\n",
       "      <th>2</th>\n",
       "      <td>Deslizamiento</td>\n",
       "      <td>27</td>\n",
       "      <td>34</td>\n",
       "    </tr>\n",
       "    <tr>\n",
       "      <th>3</th>\n",
       "      <td>Vuelco o vuelcadura</td>\n",
       "      <td>12</td>\n",
       "      <td>19</td>\n",
       "    </tr>\n",
       "    <tr>\n",
       "      <th>4</th>\n",
       "      <td>Caída</td>\n",
       "      <td>4</td>\n",
       "      <td>8</td>\n",
       "    </tr>\n",
       "    <tr>\n",
       "      <th>5</th>\n",
       "      <td>Estrellamiento</td>\n",
       "      <td>3</td>\n",
       "      <td>25</td>\n",
       "    </tr>\n",
       "  </tbody>\n",
       "</table>\n",
       "</div>"
      ],
      "text/plain": [
       "     Tipo de Accidente  Cantidad en Región Cibao Norte  \\\n",
       "0    Choque o colisión                             151   \n",
       "1      Atropellamiento                              50   \n",
       "2        Deslizamiento                              27   \n",
       "3  Vuelco o vuelcadura                              12   \n",
       "4                Caída                               4   \n",
       "5       Estrellamiento                               3   \n",
       "\n",
       "   Cantidad en Región Ozama  \n",
       "0                       170  \n",
       "1                       190  \n",
       "2                        34  \n",
       "3                        19  \n",
       "4                         8  \n",
       "5                        25  "
      ]
     },
     "execution_count": 27,
     "metadata": {},
     "output_type": "execute_result"
    }
   ],
   "source": [
    "# Consultar tipos de accidente por año en una comparativa entre 2 regiones o provincias\n",
    "f.comparar_tipo_accidente(df_descodificada, anio=2007, filtro_columna=\"region\", valor1=\"Región Cibao Norte\", valor2=\"Región Ozama\")"
   ]
  },
  {
   "cell_type": "markdown",
   "metadata": {},
   "source": [
    "## Llamadas particulares sobre los datos"
   ]
  },
  {
   "cell_type": "code",
   "execution_count": 28,
   "metadata": {},
   "outputs": [
    {
     "data": {
      "application/vnd.microsoft.datawrangler.viewer.v0+json": {
       "columns": [
        {
         "name": "index",
         "rawType": "int64",
         "type": "integer"
        },
        {
         "name": "tipo_accidente",
         "rawType": "object",
         "type": "string"
        },
        {
         "name": "cantidad",
         "rawType": "int64",
         "type": "integer"
        }
       ],
       "conversionMethod": "pd.DataFrame",
       "ref": "1363273c-0305-4a84-b1f4-35ceb0a036a0",
       "rows": [
        [
         "3",
         "Choque o colisión",
         "17915"
        ],
        [
         "1",
         "Atropellamiento",
         "5779"
        ],
        [
         "4",
         "Deslizamiento",
         "5216"
        ],
        [
         "5",
         "Estrellamiento",
         "1282"
        ],
        [
         "8",
         "Vuelco o vuelcadura",
         "849"
        ],
        [
         "2",
         "Caída",
         "277"
        ],
        [
         "0",
         "Aplastamiento",
         "18"
        ],
        [
         "6",
         "No declarado",
         "12"
        ],
        [
         "7",
         "Otros",
         "3"
        ]
       ],
       "shape": {
        "columns": 2,
        "rows": 9
       }
      },
      "text/html": [
       "<div>\n",
       "<style scoped>\n",
       "    .dataframe tbody tr th:only-of-type {\n",
       "        vertical-align: middle;\n",
       "    }\n",
       "\n",
       "    .dataframe tbody tr th {\n",
       "        vertical-align: top;\n",
       "    }\n",
       "\n",
       "    .dataframe thead th {\n",
       "        text-align: right;\n",
       "    }\n",
       "</style>\n",
       "<table border=\"1\" class=\"dataframe\">\n",
       "  <thead>\n",
       "    <tr style=\"text-align: right;\">\n",
       "      <th></th>\n",
       "      <th>tipo_accidente</th>\n",
       "      <th>cantidad</th>\n",
       "    </tr>\n",
       "  </thead>\n",
       "  <tbody>\n",
       "    <tr>\n",
       "      <th>3</th>\n",
       "      <td>Choque o colisión</td>\n",
       "      <td>17915</td>\n",
       "    </tr>\n",
       "    <tr>\n",
       "      <th>1</th>\n",
       "      <td>Atropellamiento</td>\n",
       "      <td>5779</td>\n",
       "    </tr>\n",
       "    <tr>\n",
       "      <th>4</th>\n",
       "      <td>Deslizamiento</td>\n",
       "      <td>5216</td>\n",
       "    </tr>\n",
       "    <tr>\n",
       "      <th>5</th>\n",
       "      <td>Estrellamiento</td>\n",
       "      <td>1282</td>\n",
       "    </tr>\n",
       "    <tr>\n",
       "      <th>8</th>\n",
       "      <td>Vuelco o vuelcadura</td>\n",
       "      <td>849</td>\n",
       "    </tr>\n",
       "    <tr>\n",
       "      <th>2</th>\n",
       "      <td>Caída</td>\n",
       "      <td>277</td>\n",
       "    </tr>\n",
       "    <tr>\n",
       "      <th>0</th>\n",
       "      <td>Aplastamiento</td>\n",
       "      <td>18</td>\n",
       "    </tr>\n",
       "    <tr>\n",
       "      <th>6</th>\n",
       "      <td>No declarado</td>\n",
       "      <td>12</td>\n",
       "    </tr>\n",
       "    <tr>\n",
       "      <th>7</th>\n",
       "      <td>Otros</td>\n",
       "      <td>3</td>\n",
       "    </tr>\n",
       "  </tbody>\n",
       "</table>\n",
       "</div>"
      ],
      "text/plain": [
       "        tipo_accidente  cantidad\n",
       "3    Choque o colisión     17915\n",
       "1      Atropellamiento      5779\n",
       "4        Deslizamiento      5216\n",
       "5       Estrellamiento      1282\n",
       "8  Vuelco o vuelcadura       849\n",
       "2                Caída       277\n",
       "0        Aplastamiento        18\n",
       "6         No declarado        12\n",
       "7                Otros         3"
      ]
     },
     "execution_count": 28,
     "metadata": {},
     "output_type": "execute_result"
    }
   ],
   "source": [
    "f.consulta_accidentes_interactiva(df_descodificada)"
   ]
  },
  {
   "cell_type": "code",
   "execution_count": 29,
   "metadata": {},
   "outputs": [
    {
     "ename": "ValueError",
     "evalue": "Debes proporcionar al menos una región o provincia para la primera comparación.",
     "output_type": "error",
     "traceback": [
      "\u001b[1;31m---------------------------------------------------------------------------\u001b[0m",
      "\u001b[1;31mValueError\u001b[0m                                Traceback (most recent call last)",
      "Cell \u001b[1;32mIn[29], line 1\u001b[0m\n\u001b[1;32m----> 1\u001b[0m \u001b[43mf\u001b[49m\u001b[38;5;241;43m.\u001b[39;49m\u001b[43mcomparar_accidentes_interactiva\u001b[49m\u001b[43m(\u001b[49m\u001b[43mdf_descodificada\u001b[49m\u001b[43m)\u001b[49m\n",
      "File \u001b[1;32mc:\\Users\\DELL\\Git\\Proyecto_Final\\Notebooks\\Defunciones\\../..\\src\\funciones.py:814\u001b[0m, in \u001b[0;36mcomparar_accidentes_interactiva\u001b[1;34m(data)\u001b[0m\n\u001b[0;32m    812\u001b[0m \u001b[38;5;66;03m# Validar inputs\u001b[39;00m\n\u001b[0;32m    813\u001b[0m \u001b[38;5;28;01mif\u001b[39;00m \u001b[38;5;129;01mnot\u001b[39;00m region1 \u001b[38;5;129;01mand\u001b[39;00m \u001b[38;5;129;01mnot\u001b[39;00m provincia1:\n\u001b[1;32m--> 814\u001b[0m     \u001b[38;5;28;01mraise\u001b[39;00m \u001b[38;5;167;01mValueError\u001b[39;00m(\u001b[38;5;124m\"\u001b[39m\u001b[38;5;124mDebes proporcionar al menos una región o provincia para la primera comparación.\u001b[39m\u001b[38;5;124m\"\u001b[39m)\n\u001b[0;32m    815\u001b[0m \u001b[38;5;28;01mif\u001b[39;00m \u001b[38;5;129;01mnot\u001b[39;00m region2 \u001b[38;5;129;01mand\u001b[39;00m \u001b[38;5;129;01mnot\u001b[39;00m provincia2:\n\u001b[0;32m    816\u001b[0m     \u001b[38;5;28;01mraise\u001b[39;00m \u001b[38;5;167;01mValueError\u001b[39;00m(\u001b[38;5;124m\"\u001b[39m\u001b[38;5;124mDebes proporcionar al menos una región o provincia para la segunda comparación.\u001b[39m\u001b[38;5;124m\"\u001b[39m)\n",
      "\u001b[1;31mValueError\u001b[0m: Debes proporcionar al menos una región o provincia para la primera comparación."
     ]
    }
   ],
   "source": [
    "f.comparar_accidentes_interactiva(df_descodificada)"
   ]
  },
  {
   "cell_type": "code",
   "execution_count": null,
   "metadata": {},
   "outputs": [],
   "source": []
  }
 ],
 "metadata": {
  "kernelspec": {
   "display_name": "Python 3",
   "language": "python",
   "name": "python3"
  },
  "language_info": {
   "codemirror_mode": {
    "name": "ipython",
    "version": 3
   },
   "file_extension": ".py",
   "mimetype": "text/x-python",
   "name": "python",
   "nbconvert_exporter": "python",
   "pygments_lexer": "ipython3",
   "version": "3.11.9"
  }
 },
 "nbformat": 4,
 "nbformat_minor": 2
}
