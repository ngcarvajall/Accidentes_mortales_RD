{
 "cells": [
  {
   "cell_type": "code",
   "execution_count": null,
   "metadata": {},
   "outputs": [
    {
     "name": "stdout",
     "output_type": "stream",
     "text": [
      "The autoreload extension is already loaded. To reload it, use:\n",
      "  %reload_ext autoreload\n"
     ]
    }
   ],
   "source": [
    "# Importamos las librerías que necesitamos\n",
    "\n",
    "# Librerías de extracción de datos\n",
    "# -----------------------------------------------------------------------\n",
    "\n",
    "%load_ext autoreload\n",
    "%autoreload 2\n",
    "\n",
    "# Visualizaciones\n",
    "# -----------------------------------------------------------------------\n",
    "import seaborn as sns\n",
    "import matplotlib.pyplot as plt\n",
    "import plotly_express as px\n",
    "\n",
    "# Importaciones:\n",
    "# Beautifulsoup\n",
    "from bs4 import BeautifulSoup\n",
    "\n",
    "import sys\n",
    "sys.path.append('../src')\n",
    "import funciones as f\n",
    "import soporte_prep as sp\n",
    "\n",
    "# Requests\n",
    "import requests\n",
    "\n",
    "import pandas as pd\n",
    "import numpy as np\n",
    "\n",
    "from time import sleep\n",
    "\n",
    "# Importar librerías para automatización de navegadores web con Selenium\n",
    "# -----------------------------------------------------------------------\n",
    "from selenium import webdriver  # Selenium es una herramienta para automatizar la interacción con navegadores web.\n",
    "from webdriver_manager.chrome import ChromeDriverManager  # ChromeDriverManager gestiona la instalación del controlador de Chrome.\n",
    "from selenium.webdriver.common.keys import Keys  # Keys es útil para simular eventos de teclado en Selenium.\n",
    "from selenium.webdriver.support.ui import Select  # Select se utiliza para interactuar con elementos <select> en páginas web.\n",
    "from selenium.webdriver.support.ui import WebDriverWait\n",
    "from selenium.webdriver.support import expected_conditions as EC\n",
    "from selenium.common.exceptions import NoSuchElementException # Excepciones comunes de selenium que nos podemos encontrar \n",
    "\n",
    "import warnings\n",
    "warnings.filterwarnings('ignore')\n",
    "pd.options.display.float_format = '{:.2f}'.format\n",
    "pd.set_option('display.max_columns', None)"
   ]
  },
  {
   "cell_type": "markdown",
   "metadata": {},
   "source": [
    "# Extracción de tabla principal"
   ]
  },
  {
   "cell_type": "code",
   "execution_count": null,
   "metadata": {},
   "outputs": [],
   "source": [
    "driver = webdriver.Chrome()\n",
    "url_accidentes = \"https://www.one.gob.do/datos-y-estadisticas/\"\n",
    "driver.get(url_accidentes)\n",
    "driver.maximize_window()\n",
    "\n",
    "sleep(1)  # Esperar un segundo entre cada scroll\n",
    "\n",
    "try: \n",
    "    driver.find_element(\"xpath\", '/html/body/div[7]/section/div/ul/li[2]/a').click()\n",
    "except:\n",
    "    print('No encuentro el botón')\n",
    "\n",
    "sleep(2)\n",
    "\n",
    "for i in range(2):\n",
    "    try:\n",
    "        driver.execute_script(\"window.scrollBy(0, 500);\")  # Desplazarse 1000 píxeles hacia abajo\n",
    "    except:\n",
    "        print('No he podido descender')\n",
    "\n",
    "try: \n",
    "    driver.find_element(\"xpath\", '/html/body/div[7]/section/div/div[3]/div[2]/div/div[2]/div[2]/div/div/div[2]/header/div[2]').click()\n",
    "except:\n",
    "    print('No encuentro el botón para ampliar')\n",
    "sleep(2)\n",
    "try: \n",
    "    driver.find_element(\"xpath\", '/html/body/div[7]/section/div/div[3]/div[2]/div/div[2]/div[2]/div/div/div[2]/div/header/div[1]').click()\n",
    "except:\n",
    "    print('No encuentro el botón para abrir pestañas')\n",
    "sleep(2)\n",
    "try:\n",
    "    driver.execute_script(\"window.scrollBy(0, 700);\")\n",
    "except:\n",
    "    print('No he podido descender')\n",
    "\n",
    "try: \n",
    "    driver.find_element(\"xpath\", '/html/body/div[7]/section/div/div[3]/div[2]/div/div[2]/div[2]/div/div/div[2]/div/div/div/div/div[2]/div/table/tbody/tr[1]/td/a').click()\n",
    "except:\n",
    "    print('No encuentro el botón para descargar') #descargo el libro de códigos de accidentes de tráfico\n",
    "\n",
    "try: \n",
    "    driver.find_element(\"xpath\", '/html/body/div[7]/section/div/div[3]/div[2]/div/div[2]/div[2]/div/div/div[2]/div/div/div/div/div[2]/div/table/tbody/tr[8]/td/a').click()\n",
    "except:\n",
    "    print('No encuentro el botón para descargar') #descargo los accidentes de tráfico\n",
    "\n",
    "    "
   ]
  },
  {
   "cell_type": "markdown",
   "metadata": {},
   "source": [
    "## Tablas secundarias"
   ]
  },
  {
   "cell_type": "code",
   "execution_count": null,
   "metadata": {},
   "outputs": [],
   "source": [
    "driver = webdriver.Chrome()\n",
    "url_accidentes = \"file:///C:/Users/DELL/Downloads/Libro%20de%20c%C3%B3digo%20accidentes%20de%20tr%C3%A1nsito%202007-2023%20(1).htm\"\n",
    "driver.get(url_accidentes)\n",
    "driver.maximize_window()\n",
    "\n",
    "sleep(1)  # Esperar un segundo entre cada scroll\n",
    "\n",
    "sopa_accidentes = BeautifulSoup(driver.page_source)\n",
    "lista_tablas = sopa_accidentes.findAll('div', {'class': 'itemBody'})\n",
    "lista_tablas[0]"
   ]
  },
  {
   "cell_type": "code",
   "execution_count": null,
   "metadata": {},
   "outputs": [],
   "source": [
    "dataframes = []\n",
    "\n",
    "for i, tabla in enumerate(lista_tablas):\n",
    "    rows = tabla.find_all('tr')\n",
    "\n",
    "    data = []\n",
    "    for row in rows:\n",
    "        cells = row.find_all('td')\n",
    "        data.append([cell.get_text(strip=True) for cell in cells if cell.get_text(strip=True)])\n",
    "\n",
    "    df = pd.DataFrame(data)\n",
    "\n",
    "    dataframes.append(df)\n",
    "\n",
    "print(f\"Se generaron {len(dataframes)} DataFrames.\")"
   ]
  },
  {
   "cell_type": "code",
   "execution_count": null,
   "metadata": {},
   "outputs": [],
   "source": [
    "df_diasem = dataframes[0]\n",
    "df_mes = dataframes[1]\n",
    "df_rhora = dataframes[3]\n",
    "df_region = dataframes[4]\n",
    "df_provincia = dataframes[5]\n",
    "df_tipovia = dataframes[6]\n",
    "df_accidente = dataframes[7]\n",
    "df_mediot = dataframes[9]\n",
    "df_choque = dataframes[10]"
   ]
  },
  {
   "cell_type": "code",
   "execution_count": null,
   "metadata": {},
   "outputs": [],
   "source": [
    "dataframes_list = [\n",
    "    df_region, df_provincia, df_diasem, df_mes, df_rhora,\n",
    "    df_tipovia, df_accidente,\n",
    "    df_mediot, df_choque\n",
    "]\n",
    "\n",
    "for i, df in enumerate(dataframes_list):\n",
    "    # Recortar las filas a partir de la fila 3\n",
    "    df = df.iloc[2:]\n",
    "    \n",
    "    # Mover el valor de la columna 2 a la columna 1 en la primera fila\n",
    "    df.iloc[0, 1] = df.iloc[0, 2]\n",
    "    df.iloc[0,0] = 1\n",
    "    \n",
    "    # Seleccionar solo la columna 1\n",
    "    df = df[[0,1]]\n",
    "    \n",
    "    # Reiniciar el índice\n",
    "    df.reset_index(drop=True, inplace=True)\n",
    "    df = df[:-1]\n",
    "    df.columns = ['Valor', 'Significado']\n",
    "    df['Valor'] = df['Valor'].astype('int64')\n",
    "    # Guardar el DataFrame transformado de nuevo en la lista\n",
    "    dataframes_list[i] = df\n",
    "\n",
    "# Asignar los DataFrames de vuelta a sus variables\n",
    "df_region, df_provincia, df_diasem, df_mes, df_rhora, df_tipovia, df_accidente, df_mediot, df_choque = dataframes_list"
   ]
  },
  {
   "cell_type": "code",
   "execution_count": null,
   "metadata": {},
   "outputs": [],
   "source": [
    "dataframes = [\n",
    "    (df_diasem, 'df_diasem.csv'),\n",
    "    (df_mes, 'df_mes.csv'),\n",
    "    (df_rhora, 'df_rhora.csv'),\n",
    "    (df_region, 'df_region.csv'),\n",
    "    (df_provincia, 'df_provincia.csv'),\n",
    "    (df_tipovia, 'df_tipovia.csv'),\n",
    "    (df_accidente, 'df_accidente.csv'),\n",
    "    (df_mediot, 'df_mediot.csv'),\n",
    "    (df_choque, 'df_choque.csv')\n",
    "]\n",
    "\n",
    "for df, filename in dataframes:\n",
    "    df.to_csv(f'../Datos/datos_accidentes/{filename}')"
   ]
  },
  {
   "cell_type": "code",
   "execution_count": null,
   "metadata": {},
   "outputs": [],
   "source": [
    "df_diasem.to_csv('../Datos/datos_accidentes/df_diasem.csv')\n",
    "df_mes.to_csv('../Datos/datos_accidentes/df_mes.csv')\n",
    "df_rhora.to_csv('../Datos/datos_accidentes/df_rhora.csv')\n",
    "df_region.to_csv('../Datos/datos_accidentes/df_region.csv')\n",
    "df_provincia.to_csv('../Datos/datos_accidentes/df_provincia.csv')\n",
    "df_tipovia.to_csv('../Datos/datos_accidentes/df_tipovia.csv')\n",
    "df_accidente.to_csv('../Datos/datos_accidentes/df_accidente.csv')\n",
    "df_mediot.to_csv('../Datos/datos_accidentes/df_mediot.csv')\n",
    "df_choque.to_csv('../Datos/datos_accidentes/df_choque.csv')"
   ]
  }
 ],
 "metadata": {
  "language_info": {
   "name": "python"
  }
 },
 "nbformat": 4,
 "nbformat_minor": 2
}
