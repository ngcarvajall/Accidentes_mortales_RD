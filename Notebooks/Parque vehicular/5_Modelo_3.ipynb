{
 "cells": [
  {
   "cell_type": "markdown",
   "metadata": {},
   "source": [
    "# Notebook #5: Series temporales: predicción a futuro del parque vehicular; Prophet"
   ]
  },
  {
   "cell_type": "code",
   "execution_count": 20,
   "metadata": {},
   "outputs": [
    {
     "name": "stdout",
     "output_type": "stream",
     "text": [
      "The autoreload extension is already loaded. To reload it, use:\n",
      "  %reload_ext autoreload\n"
     ]
    }
   ],
   "source": [
    "# Tratamiento de datos\n",
    "# -----------------------------------------------------------------------\n",
    "import pandas as pd\n",
    "from prophet import Prophet\n",
    "\n",
    "# Importar las clases\n",
    "# -----------------------------------------------------------------------\n",
    "import sys\n",
    "sys.path.append('../..')\n",
    "from src import soporte_temporales as st\n",
    "from src import soporte_sarima as ss\n",
    "from src import soporte_funciones_BBDD as sfbd\n",
    "from src import soporte_variables_vehiculos as svv\n",
    "\n",
    "# Modelo Series Temporales\n",
    "# -----------------------------------------------------------------------\n",
    "from statsmodels.tsa.statespace.sarimax import SARIMAX\n",
    "from statsmodels.tsa.arima.model import ARIMA\n",
    "\n",
    "\n",
    "\n",
    "# Visualizar las métricas de error en y_test\n",
    "from sklearn.metrics import mean_absolute_error, mean_squared_error, mean_absolute_percentage_error\n",
    "import numpy as np\n",
    "\n",
    "# Visualizaciones\n",
    "# -----------------------------------------------------------------------\n",
    "import seaborn as sns\n",
    "import matplotlib.pyplot as plt\n",
    "# Configuraciones\n",
    "# -----------------------------------------------------------------------\n",
    "pd.options.display.float_format = '{:.0f}'.format\n",
    "from itertools import product\n",
    "\n",
    "%load_ext autoreload\n",
    "%autoreload 2"
   ]
  },
  {
   "cell_type": "markdown",
   "metadata": {},
   "source": [
    "# Modelo Prophet"
   ]
  },
  {
   "cell_type": "code",
   "execution_count": 21,
   "metadata": {},
   "outputs": [],
   "source": [
    "df_autos_historicos = sfbd.dbeaver_fetch(sfbd.dbeaver_conexion(\"proyecto_final\"),svv.query_autos_historico)"
   ]
  },
  {
   "cell_type": "code",
   "execution_count": 22,
   "metadata": {},
   "outputs": [],
   "source": [
    "df_autos_historicos.columns = ['FECHA', 'Vehículos']\n",
    "df_autos_historicos['FECHA'] = pd.to_datetime(df_autos_historicos['FECHA'].astype(str) + '-12-31')"
   ]
  },
  {
   "cell_type": "code",
   "execution_count": 23,
   "metadata": {},
   "outputs": [],
   "source": [
    "df_autos_historicos.columns = ['ds', 'y']"
   ]
  },
  {
   "cell_type": "code",
   "execution_count": 24,
   "metadata": {},
   "outputs": [],
   "source": [
    "df_autos_historicos.set_index('ds', inplace=True)"
   ]
  },
  {
   "cell_type": "markdown",
   "metadata": {},
   "source": [
    "### Cálculo de baseline"
   ]
  },
  {
   "cell_type": "code",
   "execution_count": 25,
   "metadata": {},
   "outputs": [],
   "source": [
    "df_autos_historicos['prev'] = df_autos_historicos['y'].shift(1)\n",
    "df_autos_historicos['ape'] = (df_autos_historicos['prev'] - df_autos_historicos['y']).abs() / df_autos_historicos['y'].astype(float)"
   ]
  },
  {
   "cell_type": "code",
   "execution_count": 26,
   "metadata": {},
   "outputs": [],
   "source": [
    "train_size = int(0.7 * len(df_autos_historicos))\n",
    "y_train, y_test = df_autos_historicos[:train_size], df_autos_historicos[train_size:]"
   ]
  },
  {
   "cell_type": "code",
   "execution_count": 27,
   "metadata": {},
   "outputs": [
    {
     "data": {
      "text/plain": [
       "0.058173624799626164"
      ]
     },
     "execution_count": 27,
     "metadata": {},
     "output_type": "execute_result"
    }
   ],
   "source": [
    "y_test['ape'].mean()"
   ]
  },
  {
   "cell_type": "markdown",
   "metadata": {},
   "source": [
    "    - El MAPE ofrecido por como baseline es de 5.8%. Esto viene de tomar como referencia para la predicción del siguiente año, al año actual."
   ]
  },
  {
   "cell_type": "code",
   "execution_count": 28,
   "metadata": {},
   "outputs": [],
   "source": [
    "df_autos_historicos.drop(columns=['prev', 'ape'], inplace=True)\n",
    "y_train.drop(columns=['prev', 'ape'], inplace=True)\n",
    "y_test.drop(columns=['prev', 'ape'], inplace=True)"
   ]
  },
  {
   "cell_type": "code",
   "execution_count": 29,
   "metadata": {},
   "outputs": [],
   "source": [
    "df_autos_historicos.reset_index(inplace=True)"
   ]
  },
  {
   "cell_type": "code",
   "execution_count": 30,
   "metadata": {},
   "outputs": [
    {
     "name": "stderr",
     "output_type": "stream",
     "text": [
      "17:43:19 - cmdstanpy - INFO - Chain [1] start processing\n",
      "17:43:20 - cmdstanpy - INFO - Chain [1] done processing\n"
     ]
    },
    {
     "data": {
      "text/html": [
       "<div>\n",
       "<style scoped>\n",
       "    .dataframe tbody tr th:only-of-type {\n",
       "        vertical-align: middle;\n",
       "    }\n",
       "\n",
       "    .dataframe tbody tr th {\n",
       "        vertical-align: top;\n",
       "    }\n",
       "\n",
       "    .dataframe thead th {\n",
       "        text-align: right;\n",
       "    }\n",
       "</style>\n",
       "<table border=\"1\" class=\"dataframe\">\n",
       "  <thead>\n",
       "    <tr style=\"text-align: right;\">\n",
       "      <th></th>\n",
       "      <th>ds</th>\n",
       "      <th>trend</th>\n",
       "      <th>yhat_lower</th>\n",
       "      <th>yhat_upper</th>\n",
       "      <th>trend_lower</th>\n",
       "      <th>trend_upper</th>\n",
       "      <th>additive_terms</th>\n",
       "      <th>additive_terms_lower</th>\n",
       "      <th>additive_terms_upper</th>\n",
       "      <th>yearly</th>\n",
       "      <th>yearly_lower</th>\n",
       "      <th>yearly_upper</th>\n",
       "      <th>multiplicative_terms</th>\n",
       "      <th>multiplicative_terms_lower</th>\n",
       "      <th>multiplicative_terms_upper</th>\n",
       "      <th>yhat</th>\n",
       "    </tr>\n",
       "  </thead>\n",
       "  <tbody>\n",
       "    <tr>\n",
       "      <th>0</th>\n",
       "      <td>1998-12-31</td>\n",
       "      <td>791658</td>\n",
       "      <td>914302</td>\n",
       "      <td>1015609</td>\n",
       "      <td>791658</td>\n",
       "      <td>791658</td>\n",
       "      <td>176292</td>\n",
       "      <td>176292</td>\n",
       "      <td>176292</td>\n",
       "      <td>176292</td>\n",
       "      <td>176292</td>\n",
       "      <td>176292</td>\n",
       "      <td>0</td>\n",
       "      <td>0</td>\n",
       "      <td>0</td>\n",
       "      <td>967949</td>\n",
       "    </tr>\n",
       "    <tr>\n",
       "      <th>1</th>\n",
       "      <td>1999-12-31</td>\n",
       "      <td>933372</td>\n",
       "      <td>1073090</td>\n",
       "      <td>1174290</td>\n",
       "      <td>933372</td>\n",
       "      <td>933372</td>\n",
       "      <td>191937</td>\n",
       "      <td>191937</td>\n",
       "      <td>191937</td>\n",
       "      <td>191937</td>\n",
       "      <td>191937</td>\n",
       "      <td>191937</td>\n",
       "      <td>0</td>\n",
       "      <td>0</td>\n",
       "      <td>0</td>\n",
       "      <td>1125308</td>\n",
       "    </tr>\n",
       "    <tr>\n",
       "      <th>2</th>\n",
       "      <td>2000-12-31</td>\n",
       "      <td>1075474</td>\n",
       "      <td>1216869</td>\n",
       "      <td>1317431</td>\n",
       "      <td>1075474</td>\n",
       "      <td>1075474</td>\n",
       "      <td>192318</td>\n",
       "      <td>192318</td>\n",
       "      <td>192318</td>\n",
       "      <td>192318</td>\n",
       "      <td>192318</td>\n",
       "      <td>192318</td>\n",
       "      <td>0</td>\n",
       "      <td>0</td>\n",
       "      <td>0</td>\n",
       "      <td>1267793</td>\n",
       "    </tr>\n",
       "    <tr>\n",
       "      <th>3</th>\n",
       "      <td>2001-12-31</td>\n",
       "      <td>1217188</td>\n",
       "      <td>1340223</td>\n",
       "      <td>1448113</td>\n",
       "      <td>1217188</td>\n",
       "      <td>1217188</td>\n",
       "      <td>176425</td>\n",
       "      <td>176425</td>\n",
       "      <td>176425</td>\n",
       "      <td>176425</td>\n",
       "      <td>176425</td>\n",
       "      <td>176425</td>\n",
       "      <td>0</td>\n",
       "      <td>0</td>\n",
       "      <td>0</td>\n",
       "      <td>1393613</td>\n",
       "    </tr>\n",
       "    <tr>\n",
       "      <th>4</th>\n",
       "      <td>2002-12-31</td>\n",
       "      <td>1347692</td>\n",
       "      <td>1473207</td>\n",
       "      <td>1578693</td>\n",
       "      <td>1347692</td>\n",
       "      <td>1347692</td>\n",
       "      <td>176292</td>\n",
       "      <td>176292</td>\n",
       "      <td>176292</td>\n",
       "      <td>176292</td>\n",
       "      <td>176292</td>\n",
       "      <td>176292</td>\n",
       "      <td>0</td>\n",
       "      <td>0</td>\n",
       "      <td>0</td>\n",
       "      <td>1523984</td>\n",
       "    </tr>\n",
       "    <tr>\n",
       "      <th>5</th>\n",
       "      <td>2003-12-31</td>\n",
       "      <td>1478040</td>\n",
       "      <td>1620160</td>\n",
       "      <td>1717619</td>\n",
       "      <td>1478040</td>\n",
       "      <td>1478040</td>\n",
       "      <td>191937</td>\n",
       "      <td>191937</td>\n",
       "      <td>191937</td>\n",
       "      <td>191937</td>\n",
       "      <td>191937</td>\n",
       "      <td>191937</td>\n",
       "      <td>0</td>\n",
       "      <td>0</td>\n",
       "      <td>0</td>\n",
       "      <td>1669976</td>\n",
       "    </tr>\n",
       "    <tr>\n",
       "      <th>6</th>\n",
       "      <td>2004-12-31</td>\n",
       "      <td>1608744</td>\n",
       "      <td>1749299</td>\n",
       "      <td>1852813</td>\n",
       "      <td>1608744</td>\n",
       "      <td>1608744</td>\n",
       "      <td>192318</td>\n",
       "      <td>192318</td>\n",
       "      <td>192318</td>\n",
       "      <td>192318</td>\n",
       "      <td>192318</td>\n",
       "      <td>192318</td>\n",
       "      <td>0</td>\n",
       "      <td>0</td>\n",
       "      <td>0</td>\n",
       "      <td>1801063</td>\n",
       "    </tr>\n",
       "    <tr>\n",
       "      <th>7</th>\n",
       "      <td>2005-12-31</td>\n",
       "      <td>1739092</td>\n",
       "      <td>1866060</td>\n",
       "      <td>1970583</td>\n",
       "      <td>1739092</td>\n",
       "      <td>1739092</td>\n",
       "      <td>176425</td>\n",
       "      <td>176425</td>\n",
       "      <td>176425</td>\n",
       "      <td>176425</td>\n",
       "      <td>176425</td>\n",
       "      <td>176425</td>\n",
       "      <td>0</td>\n",
       "      <td>0</td>\n",
       "      <td>0</td>\n",
       "      <td>1915517</td>\n",
       "    </tr>\n",
       "    <tr>\n",
       "      <th>8</th>\n",
       "      <td>2006-12-31</td>\n",
       "      <td>1869538</td>\n",
       "      <td>1996308</td>\n",
       "      <td>2098833</td>\n",
       "      <td>1869538</td>\n",
       "      <td>1869538</td>\n",
       "      <td>176292</td>\n",
       "      <td>176292</td>\n",
       "      <td>176292</td>\n",
       "      <td>176292</td>\n",
       "      <td>176292</td>\n",
       "      <td>176292</td>\n",
       "      <td>0</td>\n",
       "      <td>0</td>\n",
       "      <td>0</td>\n",
       "      <td>2045830</td>\n",
       "    </tr>\n",
       "    <tr>\n",
       "      <th>9</th>\n",
       "      <td>2007-12-31</td>\n",
       "      <td>2037939</td>\n",
       "      <td>2180016</td>\n",
       "      <td>2280808</td>\n",
       "      <td>2037939</td>\n",
       "      <td>2037939</td>\n",
       "      <td>191937</td>\n",
       "      <td>191937</td>\n",
       "      <td>191937</td>\n",
       "      <td>191937</td>\n",
       "      <td>191937</td>\n",
       "      <td>191937</td>\n",
       "      <td>0</td>\n",
       "      <td>0</td>\n",
       "      <td>0</td>\n",
       "      <td>2229875</td>\n",
       "    </tr>\n",
       "    <tr>\n",
       "      <th>10</th>\n",
       "      <td>2008-12-31</td>\n",
       "      <td>2206860</td>\n",
       "      <td>2349848</td>\n",
       "      <td>2447903</td>\n",
       "      <td>2206860</td>\n",
       "      <td>2206860</td>\n",
       "      <td>192318</td>\n",
       "      <td>192318</td>\n",
       "      <td>192318</td>\n",
       "      <td>192318</td>\n",
       "      <td>192318</td>\n",
       "      <td>192318</td>\n",
       "      <td>0</td>\n",
       "      <td>0</td>\n",
       "      <td>0</td>\n",
       "      <td>2399178</td>\n",
       "    </tr>\n",
       "    <tr>\n",
       "      <th>11</th>\n",
       "      <td>2009-12-31</td>\n",
       "      <td>2375319</td>\n",
       "      <td>2502294</td>\n",
       "      <td>2602644</td>\n",
       "      <td>2375319</td>\n",
       "      <td>2375319</td>\n",
       "      <td>176425</td>\n",
       "      <td>176425</td>\n",
       "      <td>176425</td>\n",
       "      <td>176425</td>\n",
       "      <td>176425</td>\n",
       "      <td>176425</td>\n",
       "      <td>0</td>\n",
       "      <td>0</td>\n",
       "      <td>0</td>\n",
       "      <td>2551744</td>\n",
       "    </tr>\n",
       "    <tr>\n",
       "      <th>12</th>\n",
       "      <td>2010-12-31</td>\n",
       "      <td>2543778</td>\n",
       "      <td>2671897</td>\n",
       "      <td>2771739</td>\n",
       "      <td>2543778</td>\n",
       "      <td>2543778</td>\n",
       "      <td>176292</td>\n",
       "      <td>176292</td>\n",
       "      <td>176292</td>\n",
       "      <td>176292</td>\n",
       "      <td>176292</td>\n",
       "      <td>176292</td>\n",
       "      <td>0</td>\n",
       "      <td>0</td>\n",
       "      <td>0</td>\n",
       "      <td>2720070</td>\n",
       "    </tr>\n",
       "    <tr>\n",
       "      <th>13</th>\n",
       "      <td>2011-12-31</td>\n",
       "      <td>2712238</td>\n",
       "      <td>2850473</td>\n",
       "      <td>2956771</td>\n",
       "      <td>2712238</td>\n",
       "      <td>2712238</td>\n",
       "      <td>191937</td>\n",
       "      <td>191937</td>\n",
       "      <td>191937</td>\n",
       "      <td>191937</td>\n",
       "      <td>191937</td>\n",
       "      <td>191937</td>\n",
       "      <td>0</td>\n",
       "      <td>0</td>\n",
       "      <td>0</td>\n",
       "      <td>2904175</td>\n",
       "    </tr>\n",
       "    <tr>\n",
       "      <th>14</th>\n",
       "      <td>2012-12-31</td>\n",
       "      <td>2881179</td>\n",
       "      <td>3022235</td>\n",
       "      <td>3123629</td>\n",
       "      <td>2881179</td>\n",
       "      <td>2881179</td>\n",
       "      <td>192318</td>\n",
       "      <td>192318</td>\n",
       "      <td>192318</td>\n",
       "      <td>192318</td>\n",
       "      <td>192318</td>\n",
       "      <td>192318</td>\n",
       "      <td>0</td>\n",
       "      <td>0</td>\n",
       "      <td>0</td>\n",
       "      <td>3073497</td>\n",
       "    </tr>\n",
       "    <tr>\n",
       "      <th>15</th>\n",
       "      <td>2013-12-31</td>\n",
       "      <td>3049798</td>\n",
       "      <td>3175145</td>\n",
       "      <td>3277600</td>\n",
       "      <td>3049798</td>\n",
       "      <td>3049798</td>\n",
       "      <td>176425</td>\n",
       "      <td>176425</td>\n",
       "      <td>176425</td>\n",
       "      <td>176425</td>\n",
       "      <td>176425</td>\n",
       "      <td>176425</td>\n",
       "      <td>0</td>\n",
       "      <td>0</td>\n",
       "      <td>0</td>\n",
       "      <td>3226223</td>\n",
       "    </tr>\n",
       "    <tr>\n",
       "      <th>16</th>\n",
       "      <td>2014-12-31</td>\n",
       "      <td>3236067</td>\n",
       "      <td>3363669</td>\n",
       "      <td>3461452</td>\n",
       "      <td>3236067</td>\n",
       "      <td>3236067</td>\n",
       "      <td>176292</td>\n",
       "      <td>176292</td>\n",
       "      <td>176292</td>\n",
       "      <td>176292</td>\n",
       "      <td>176292</td>\n",
       "      <td>176292</td>\n",
       "      <td>0</td>\n",
       "      <td>0</td>\n",
       "      <td>0</td>\n",
       "      <td>3412359</td>\n",
       "    </tr>\n",
       "    <tr>\n",
       "      <th>17</th>\n",
       "      <td>2015-12-31</td>\n",
       "      <td>3422529</td>\n",
       "      <td>3561554</td>\n",
       "      <td>3664351</td>\n",
       "      <td>3422529</td>\n",
       "      <td>3422529</td>\n",
       "      <td>191937</td>\n",
       "      <td>191937</td>\n",
       "      <td>191937</td>\n",
       "      <td>191937</td>\n",
       "      <td>191937</td>\n",
       "      <td>191937</td>\n",
       "      <td>0</td>\n",
       "      <td>0</td>\n",
       "      <td>0</td>\n",
       "      <td>3614466</td>\n",
       "    </tr>\n",
       "    <tr>\n",
       "      <th>18</th>\n",
       "      <td>2016-12-31</td>\n",
       "      <td>3660600</td>\n",
       "      <td>3801544</td>\n",
       "      <td>3903742</td>\n",
       "      <td>3660600</td>\n",
       "      <td>3660600</td>\n",
       "      <td>192318</td>\n",
       "      <td>192318</td>\n",
       "      <td>192318</td>\n",
       "      <td>192318</td>\n",
       "      <td>192318</td>\n",
       "      <td>192318</td>\n",
       "      <td>0</td>\n",
       "      <td>0</td>\n",
       "      <td>0</td>\n",
       "      <td>3852918</td>\n",
       "    </tr>\n",
       "    <tr>\n",
       "      <th>19</th>\n",
       "      <td>2017-12-31</td>\n",
       "      <td>3898024</td>\n",
       "      <td>4023169</td>\n",
       "      <td>4128248</td>\n",
       "      <td>3898024</td>\n",
       "      <td>3898024</td>\n",
       "      <td>176425</td>\n",
       "      <td>176425</td>\n",
       "      <td>176425</td>\n",
       "      <td>176425</td>\n",
       "      <td>176425</td>\n",
       "      <td>176425</td>\n",
       "      <td>0</td>\n",
       "      <td>0</td>\n",
       "      <td>0</td>\n",
       "      <td>4074449</td>\n",
       "    </tr>\n",
       "    <tr>\n",
       "      <th>20</th>\n",
       "      <td>2018-12-31</td>\n",
       "      <td>4135471</td>\n",
       "      <td>4259316</td>\n",
       "      <td>4363970</td>\n",
       "      <td>4135471</td>\n",
       "      <td>4135471</td>\n",
       "      <td>176292</td>\n",
       "      <td>176292</td>\n",
       "      <td>176292</td>\n",
       "      <td>176292</td>\n",
       "      <td>176292</td>\n",
       "      <td>176292</td>\n",
       "      <td>0</td>\n",
       "      <td>0</td>\n",
       "      <td>0</td>\n",
       "      <td>4311763</td>\n",
       "    </tr>\n",
       "    <tr>\n",
       "      <th>21</th>\n",
       "      <td>2019-12-31</td>\n",
       "      <td>4431464</td>\n",
       "      <td>4572560</td>\n",
       "      <td>4675028</td>\n",
       "      <td>4431464</td>\n",
       "      <td>4431464</td>\n",
       "      <td>191937</td>\n",
       "      <td>191937</td>\n",
       "      <td>191937</td>\n",
       "      <td>191937</td>\n",
       "      <td>191937</td>\n",
       "      <td>191937</td>\n",
       "      <td>0</td>\n",
       "      <td>0</td>\n",
       "      <td>0</td>\n",
       "      <td>4623401</td>\n",
       "    </tr>\n",
       "    <tr>\n",
       "      <th>22</th>\n",
       "      <td>2020-12-31</td>\n",
       "      <td>4728268</td>\n",
       "      <td>4871620</td>\n",
       "      <td>4969471</td>\n",
       "      <td>4728268</td>\n",
       "      <td>4728268</td>\n",
       "      <td>192318</td>\n",
       "      <td>192318</td>\n",
       "      <td>192318</td>\n",
       "      <td>192318</td>\n",
       "      <td>192318</td>\n",
       "      <td>192318</td>\n",
       "      <td>0</td>\n",
       "      <td>0</td>\n",
       "      <td>0</td>\n",
       "      <td>4920587</td>\n",
       "    </tr>\n",
       "    <tr>\n",
       "      <th>23</th>\n",
       "      <td>2021-12-31</td>\n",
       "      <td>5024261</td>\n",
       "      <td>5146025</td>\n",
       "      <td>5254172</td>\n",
       "      <td>5024261</td>\n",
       "      <td>5024261</td>\n",
       "      <td>176425</td>\n",
       "      <td>176425</td>\n",
       "      <td>176425</td>\n",
       "      <td>176425</td>\n",
       "      <td>176425</td>\n",
       "      <td>176425</td>\n",
       "      <td>0</td>\n",
       "      <td>0</td>\n",
       "      <td>0</td>\n",
       "      <td>5200686</td>\n",
       "    </tr>\n",
       "    <tr>\n",
       "      <th>24</th>\n",
       "      <td>2022-12-31</td>\n",
       "      <td>5320254</td>\n",
       "      <td>5448376</td>\n",
       "      <td>5544003</td>\n",
       "      <td>5320254</td>\n",
       "      <td>5320254</td>\n",
       "      <td>176292</td>\n",
       "      <td>176292</td>\n",
       "      <td>176292</td>\n",
       "      <td>176292</td>\n",
       "      <td>176292</td>\n",
       "      <td>176292</td>\n",
       "      <td>0</td>\n",
       "      <td>0</td>\n",
       "      <td>0</td>\n",
       "      <td>5496546</td>\n",
       "    </tr>\n",
       "    <tr>\n",
       "      <th>25</th>\n",
       "      <td>2023-12-31</td>\n",
       "      <td>5616247</td>\n",
       "      <td>5756247</td>\n",
       "      <td>5862413</td>\n",
       "      <td>5616247</td>\n",
       "      <td>5616247</td>\n",
       "      <td>191937</td>\n",
       "      <td>191937</td>\n",
       "      <td>191937</td>\n",
       "      <td>191937</td>\n",
       "      <td>191937</td>\n",
       "      <td>191937</td>\n",
       "      <td>0</td>\n",
       "      <td>0</td>\n",
       "      <td>0</td>\n",
       "      <td>5808183</td>\n",
       "    </tr>\n",
       "    <tr>\n",
       "      <th>26</th>\n",
       "      <td>2024-12-31</td>\n",
       "      <td>5913050</td>\n",
       "      <td>6058310</td>\n",
       "      <td>6155676</td>\n",
       "      <td>5913050</td>\n",
       "      <td>5913050</td>\n",
       "      <td>192318</td>\n",
       "      <td>192318</td>\n",
       "      <td>192318</td>\n",
       "      <td>192318</td>\n",
       "      <td>192318</td>\n",
       "      <td>192318</td>\n",
       "      <td>0</td>\n",
       "      <td>0</td>\n",
       "      <td>0</td>\n",
       "      <td>6105369</td>\n",
       "    </tr>\n",
       "    <tr>\n",
       "      <th>27</th>\n",
       "      <td>2025-12-31</td>\n",
       "      <td>6209043</td>\n",
       "      <td>6327040</td>\n",
       "      <td>6437382</td>\n",
       "      <td>6203058</td>\n",
       "      <td>6214227</td>\n",
       "      <td>176425</td>\n",
       "      <td>176425</td>\n",
       "      <td>176425</td>\n",
       "      <td>176425</td>\n",
       "      <td>176425</td>\n",
       "      <td>176425</td>\n",
       "      <td>0</td>\n",
       "      <td>0</td>\n",
       "      <td>0</td>\n",
       "      <td>6385468</td>\n",
       "    </tr>\n",
       "    <tr>\n",
       "      <th>28</th>\n",
       "      <td>2026-12-31</td>\n",
       "      <td>6505036</td>\n",
       "      <td>6631341</td>\n",
       "      <td>6738331</td>\n",
       "      <td>6487037</td>\n",
       "      <td>6521585</td>\n",
       "      <td>176292</td>\n",
       "      <td>176292</td>\n",
       "      <td>176292</td>\n",
       "      <td>176292</td>\n",
       "      <td>176292</td>\n",
       "      <td>176292</td>\n",
       "      <td>0</td>\n",
       "      <td>0</td>\n",
       "      <td>0</td>\n",
       "      <td>6681328</td>\n",
       "    </tr>\n",
       "  </tbody>\n",
       "</table>\n",
       "</div>"
      ],
      "text/plain": [
       "           ds   trend  yhat_lower  yhat_upper  trend_lower  trend_upper  \\\n",
       "0  1998-12-31  791658      914302     1015609       791658       791658   \n",
       "1  1999-12-31  933372     1073090     1174290       933372       933372   \n",
       "2  2000-12-31 1075474     1216869     1317431      1075474      1075474   \n",
       "3  2001-12-31 1217188     1340223     1448113      1217188      1217188   \n",
       "4  2002-12-31 1347692     1473207     1578693      1347692      1347692   \n",
       "5  2003-12-31 1478040     1620160     1717619      1478040      1478040   \n",
       "6  2004-12-31 1608744     1749299     1852813      1608744      1608744   \n",
       "7  2005-12-31 1739092     1866060     1970583      1739092      1739092   \n",
       "8  2006-12-31 1869538     1996308     2098833      1869538      1869538   \n",
       "9  2007-12-31 2037939     2180016     2280808      2037939      2037939   \n",
       "10 2008-12-31 2206860     2349848     2447903      2206860      2206860   \n",
       "11 2009-12-31 2375319     2502294     2602644      2375319      2375319   \n",
       "12 2010-12-31 2543778     2671897     2771739      2543778      2543778   \n",
       "13 2011-12-31 2712238     2850473     2956771      2712238      2712238   \n",
       "14 2012-12-31 2881179     3022235     3123629      2881179      2881179   \n",
       "15 2013-12-31 3049798     3175145     3277600      3049798      3049798   \n",
       "16 2014-12-31 3236067     3363669     3461452      3236067      3236067   \n",
       "17 2015-12-31 3422529     3561554     3664351      3422529      3422529   \n",
       "18 2016-12-31 3660600     3801544     3903742      3660600      3660600   \n",
       "19 2017-12-31 3898024     4023169     4128248      3898024      3898024   \n",
       "20 2018-12-31 4135471     4259316     4363970      4135471      4135471   \n",
       "21 2019-12-31 4431464     4572560     4675028      4431464      4431464   \n",
       "22 2020-12-31 4728268     4871620     4969471      4728268      4728268   \n",
       "23 2021-12-31 5024261     5146025     5254172      5024261      5024261   \n",
       "24 2022-12-31 5320254     5448376     5544003      5320254      5320254   \n",
       "25 2023-12-31 5616247     5756247     5862413      5616247      5616247   \n",
       "26 2024-12-31 5913050     6058310     6155676      5913050      5913050   \n",
       "27 2025-12-31 6209043     6327040     6437382      6203058      6214227   \n",
       "28 2026-12-31 6505036     6631341     6738331      6487037      6521585   \n",
       "\n",
       "    additive_terms  additive_terms_lower  additive_terms_upper  yearly  \\\n",
       "0           176292                176292                176292  176292   \n",
       "1           191937                191937                191937  191937   \n",
       "2           192318                192318                192318  192318   \n",
       "3           176425                176425                176425  176425   \n",
       "4           176292                176292                176292  176292   \n",
       "5           191937                191937                191937  191937   \n",
       "6           192318                192318                192318  192318   \n",
       "7           176425                176425                176425  176425   \n",
       "8           176292                176292                176292  176292   \n",
       "9           191937                191937                191937  191937   \n",
       "10          192318                192318                192318  192318   \n",
       "11          176425                176425                176425  176425   \n",
       "12          176292                176292                176292  176292   \n",
       "13          191937                191937                191937  191937   \n",
       "14          192318                192318                192318  192318   \n",
       "15          176425                176425                176425  176425   \n",
       "16          176292                176292                176292  176292   \n",
       "17          191937                191937                191937  191937   \n",
       "18          192318                192318                192318  192318   \n",
       "19          176425                176425                176425  176425   \n",
       "20          176292                176292                176292  176292   \n",
       "21          191937                191937                191937  191937   \n",
       "22          192318                192318                192318  192318   \n",
       "23          176425                176425                176425  176425   \n",
       "24          176292                176292                176292  176292   \n",
       "25          191937                191937                191937  191937   \n",
       "26          192318                192318                192318  192318   \n",
       "27          176425                176425                176425  176425   \n",
       "28          176292                176292                176292  176292   \n",
       "\n",
       "    yearly_lower  yearly_upper  multiplicative_terms  \\\n",
       "0         176292        176292                     0   \n",
       "1         191937        191937                     0   \n",
       "2         192318        192318                     0   \n",
       "3         176425        176425                     0   \n",
       "4         176292        176292                     0   \n",
       "5         191937        191937                     0   \n",
       "6         192318        192318                     0   \n",
       "7         176425        176425                     0   \n",
       "8         176292        176292                     0   \n",
       "9         191937        191937                     0   \n",
       "10        192318        192318                     0   \n",
       "11        176425        176425                     0   \n",
       "12        176292        176292                     0   \n",
       "13        191937        191937                     0   \n",
       "14        192318        192318                     0   \n",
       "15        176425        176425                     0   \n",
       "16        176292        176292                     0   \n",
       "17        191937        191937                     0   \n",
       "18        192318        192318                     0   \n",
       "19        176425        176425                     0   \n",
       "20        176292        176292                     0   \n",
       "21        191937        191937                     0   \n",
       "22        192318        192318                     0   \n",
       "23        176425        176425                     0   \n",
       "24        176292        176292                     0   \n",
       "25        191937        191937                     0   \n",
       "26        192318        192318                     0   \n",
       "27        176425        176425                     0   \n",
       "28        176292        176292                     0   \n",
       "\n",
       "    multiplicative_terms_lower  multiplicative_terms_upper    yhat  \n",
       "0                            0                           0  967949  \n",
       "1                            0                           0 1125308  \n",
       "2                            0                           0 1267793  \n",
       "3                            0                           0 1393613  \n",
       "4                            0                           0 1523984  \n",
       "5                            0                           0 1669976  \n",
       "6                            0                           0 1801063  \n",
       "7                            0                           0 1915517  \n",
       "8                            0                           0 2045830  \n",
       "9                            0                           0 2229875  \n",
       "10                           0                           0 2399178  \n",
       "11                           0                           0 2551744  \n",
       "12                           0                           0 2720070  \n",
       "13                           0                           0 2904175  \n",
       "14                           0                           0 3073497  \n",
       "15                           0                           0 3226223  \n",
       "16                           0                           0 3412359  \n",
       "17                           0                           0 3614466  \n",
       "18                           0                           0 3852918  \n",
       "19                           0                           0 4074449  \n",
       "20                           0                           0 4311763  \n",
       "21                           0                           0 4623401  \n",
       "22                           0                           0 4920587  \n",
       "23                           0                           0 5200686  \n",
       "24                           0                           0 5496546  \n",
       "25                           0                           0 5808183  \n",
       "26                           0                           0 6105369  \n",
       "27                           0                           0 6385468  \n",
       "28                           0                           0 6681328  "
      ]
     },
     "execution_count": 30,
     "metadata": {},
     "output_type": "execute_result"
    }
   ],
   "source": [
    "m = Prophet()\n",
    "m.fit(df_autos_historicos)  # df is a pandas.DataFrame with 'y' and 'ds' columns\n",
    "future = m.make_future_dataframe(periods=2, freq='Y') \n",
    "m.predict(future)"
   ]
  },
  {
   "cell_type": "code",
   "execution_count": 31,
   "metadata": {},
   "outputs": [
    {
     "data": {
      "text/html": [
       "<div>\n",
       "<style scoped>\n",
       "    .dataframe tbody tr th:only-of-type {\n",
       "        vertical-align: middle;\n",
       "    }\n",
       "\n",
       "    .dataframe tbody tr th {\n",
       "        vertical-align: top;\n",
       "    }\n",
       "\n",
       "    .dataframe thead th {\n",
       "        text-align: right;\n",
       "    }\n",
       "</style>\n",
       "<table border=\"1\" class=\"dataframe\">\n",
       "  <thead>\n",
       "    <tr style=\"text-align: right;\">\n",
       "      <th></th>\n",
       "      <th>ds</th>\n",
       "      <th>yhat</th>\n",
       "      <th>yhat_lower</th>\n",
       "      <th>yhat_upper</th>\n",
       "    </tr>\n",
       "  </thead>\n",
       "  <tbody>\n",
       "    <tr>\n",
       "      <th>24</th>\n",
       "      <td>2022-12-31</td>\n",
       "      <td>5496546</td>\n",
       "      <td>5449448</td>\n",
       "      <td>5545350</td>\n",
       "    </tr>\n",
       "    <tr>\n",
       "      <th>25</th>\n",
       "      <td>2023-12-31</td>\n",
       "      <td>5808183</td>\n",
       "      <td>5759734</td>\n",
       "      <td>5859191</td>\n",
       "    </tr>\n",
       "    <tr>\n",
       "      <th>26</th>\n",
       "      <td>2024-12-31</td>\n",
       "      <td>6105369</td>\n",
       "      <td>6053680</td>\n",
       "      <td>6154820</td>\n",
       "    </tr>\n",
       "    <tr>\n",
       "      <th>27</th>\n",
       "      <td>2025-12-31</td>\n",
       "      <td>6385468</td>\n",
       "      <td>6332449</td>\n",
       "      <td>6439047</td>\n",
       "    </tr>\n",
       "    <tr>\n",
       "      <th>28</th>\n",
       "      <td>2026-12-31</td>\n",
       "      <td>6681328</td>\n",
       "      <td>6627416</td>\n",
       "      <td>6740278</td>\n",
       "    </tr>\n",
       "  </tbody>\n",
       "</table>\n",
       "</div>"
      ],
      "text/plain": [
       "           ds    yhat  yhat_lower  yhat_upper\n",
       "24 2022-12-31 5496546     5449448     5545350\n",
       "25 2023-12-31 5808183     5759734     5859191\n",
       "26 2024-12-31 6105369     6053680     6154820\n",
       "27 2025-12-31 6385468     6332449     6439047\n",
       "28 2026-12-31 6681328     6627416     6740278"
      ]
     },
     "execution_count": 31,
     "metadata": {},
     "output_type": "execute_result"
    }
   ],
   "source": [
    "forecast = m.predict(future)\n",
    "forecast[['ds', 'yhat', 'yhat_lower', 'yhat_upper']].tail()"
   ]
  },
  {
   "cell_type": "code",
   "execution_count": 39,
   "metadata": {},
   "outputs": [
    {
     "data": {
      "text/html": [
       "<div>\n",
       "<style scoped>\n",
       "    .dataframe tbody tr th:only-of-type {\n",
       "        vertical-align: middle;\n",
       "    }\n",
       "\n",
       "    .dataframe tbody tr th {\n",
       "        vertical-align: top;\n",
       "    }\n",
       "\n",
       "    .dataframe thead th {\n",
       "        text-align: right;\n",
       "    }\n",
       "</style>\n",
       "<table border=\"1\" class=\"dataframe\">\n",
       "  <thead>\n",
       "    <tr style=\"text-align: right;\">\n",
       "      <th></th>\n",
       "      <th>ds</th>\n",
       "      <th>yhat</th>\n",
       "      <th>yhat_lower</th>\n",
       "      <th>yhat_upper</th>\n",
       "      <th>autos</th>\n",
       "    </tr>\n",
       "  </thead>\n",
       "  <tbody>\n",
       "    <tr>\n",
       "      <th>0</th>\n",
       "      <td>1998-12-31</td>\n",
       "      <td>967949</td>\n",
       "      <td>916121</td>\n",
       "      <td>1018541</td>\n",
       "      <td>936083</td>\n",
       "    </tr>\n",
       "    <tr>\n",
       "      <th>1</th>\n",
       "      <td>1999-12-31</td>\n",
       "      <td>1125308</td>\n",
       "      <td>1073676</td>\n",
       "      <td>1175970</td>\n",
       "      <td>1090833</td>\n",
       "    </tr>\n",
       "    <tr>\n",
       "      <th>2</th>\n",
       "      <td>2000-12-31</td>\n",
       "      <td>1267793</td>\n",
       "      <td>1216678</td>\n",
       "      <td>1319339</td>\n",
       "      <td>1294998</td>\n",
       "    </tr>\n",
       "    <tr>\n",
       "      <th>3</th>\n",
       "      <td>2001-12-31</td>\n",
       "      <td>1393613</td>\n",
       "      <td>1337013</td>\n",
       "      <td>1441671</td>\n",
       "      <td>1436165</td>\n",
       "    </tr>\n",
       "    <tr>\n",
       "      <th>4</th>\n",
       "      <td>2002-12-31</td>\n",
       "      <td>1523984</td>\n",
       "      <td>1472276</td>\n",
       "      <td>1575104</td>\n",
       "      <td>1611023</td>\n",
       "    </tr>\n",
       "  </tbody>\n",
       "</table>\n",
       "</div>"
      ],
      "text/plain": [
       "          ds    yhat  yhat_lower  yhat_upper   autos\n",
       "0 1998-12-31  967949      916121     1018541  936083\n",
       "1 1999-12-31 1125308     1073676     1175970 1090833\n",
       "2 2000-12-31 1267793     1216678     1319339 1294998\n",
       "3 2001-12-31 1393613     1337013     1441671 1436165\n",
       "4 2002-12-31 1523984     1472276     1575104 1611023"
      ]
     },
     "execution_count": 39,
     "metadata": {},
     "output_type": "execute_result"
    }
   ],
   "source": [
    "df = forecast[['ds', 'yhat', 'yhat_lower', 'yhat_upper']]\n",
    "df['autos'] = df_autos_historicos['y']\n",
    "df = df[df['autos'].notnull() & df['yhat'].notnull()]\n",
    "df.head(5)"
   ]
  },
  {
   "cell_type": "code",
   "execution_count": 41,
   "metadata": {},
   "outputs": [
    {
     "data": {
      "image/png": "[encoded data removed]",
      "text/plain": [
       "<Figure size 1400x700 with 1 Axes>"
      ]
     },
     "metadata": {},
     "output_type": "display_data"
    }
   ],
   "source": [
    "plt.figure(figsize=(14, 7))\n",
    "sns.lineplot(data=df, x=\"ds\", y=\"autos\", label=\"Valores Reales\", color=\"blue\", linewidth=2) # valores reales\n",
    "sns.lineplot(data=df, x=\"ds\", y=\"yhat\", label=\"Predicciones PROPHET\", color=\"red\", linestyle=\"--\", linewidth=2) # predicciones\n",
    "plt.title(\"Comparación de Predicciones vs Valores Reales en Parque Vehicular\", fontsize=16)\n",
    "plt.ylabel(\"Vehículos\", fontsize=14)\n",
    "plt.legend(fontsize=12)\n",
    "plt.grid(True, linestyle=\"--\", alpha=0.6) # formato cuadriculado\n",
    "plt.tight_layout()\n",
    "plt.show()"
   ]
  },
  {
   "cell_type": "code",
   "execution_count": 34,
   "metadata": {},
   "outputs": [
    {
     "name": "stdout",
     "output_type": "stream",
     "text": [
      "MAE: 30809.507597170257\n",
      "MAPE: 1.35%\n",
      "RMSE: 40253.777318704335\n"
     ]
    }
   ],
   "source": [
    "# Seleccionar las columnas relevantes\n",
    "y_real = df['autos']\n",
    "y_pred = df['yhat']\n",
    "\n",
    "# Cálculo de MAE\n",
    "mae = mean_absolute_error(y_real, y_pred)\n",
    "mape = mean_absolute_percentage_error(y_real, y_pred)\n",
    "rmse = np.sqrt(mean_squared_error(y_real, y_pred))\n",
    "\n",
    "# Imprimir los resultados\n",
    "print(f\"MAE: {mae}\")\n",
    "print(f\"MAPE: {mape * 100:.2f}%\")\n",
    "print(f\"RMSE: {rmse}\")"
   ]
  },
  {
   "cell_type": "markdown",
   "metadata": {},
   "source": [
    "    - Se puede evidenciar un modelo mucho más ajustado, con resultados más reducidos y que de igual forma siguen el patrón de la serie de datos."
   ]
  },
  {
   "cell_type": "code",
   "execution_count": 35,
   "metadata": {},
   "outputs": [
    {
     "data": {
      "application/vnd.plotly.v1+json": {
       "config": {
        "plotlyServerURL": "https://plot.ly"
       },
       "data": [
        {
         "marker": {
          "color": "black",
          "size": 4
         },
         "mode": "markers",
         "name": "Actual",
         "type": "scatter",
         "x": [
          "1998-12-31T00:00:00",
          "1999-12-31T00:00:00",
          "2000-12-31T00:00:00",
          "2001-12-31T00:00:00",
          "2002-12-31T00:00:00",
          "2003-12-31T00:00:00",
          "2004-12-31T00:00:00",
          "2005-12-31T00:00:00",
          "2006-12-31T00:00:00",
          "2007-12-31T00:00:00",
          "2008-12-31T00:00:00",
          "2009-12-31T00:00:00",
          "2010-12-31T00:00:00",
          "2011-12-31T00:00:00",
          "2012-12-31T00:00:00",
          "2013-12-31T00:00:00",
          "2014-12-31T00:00:00",
          "2015-12-31T00:00:00",
          "2016-12-31T00:00:00",
          "2017-12-31T00:00:00",
          "2018-12-31T00:00:00",
          "2019-12-31T00:00:00",
          "2020-12-31T00:00:00",
          "2021-12-31T00:00:00",
          "2022-12-31T00:00:00",
          "2023-12-31T00:00:00",
          "2024-12-31T00:00:00"
         ],
         "y": [
          936083,
          1090833,
          1294998,
          1436165,
          1611023,
          1680382,
          1746756,
          1900564,
          1971011,
          2234307,
          2429562,
          2570220,
          2734740,
          2917573,
          3052686,
          3215773,
          3398662,
          3612964,
          3854038,
          4097338,
          4350884,
          4634876,
          4842367,
          5152448,
          5463996,
          5809136,
          6197219
         ]
        },
        {
         "hoverinfo": "skip",
         "line": {
          "width": 0
         },
         "mode": "lines",
         "type": "scatter",
         "x": [
          "1998-12-31T00:00:00",
          "1999-12-31T00:00:00",
          "2000-12-31T00:00:00",
          "2001-12-31T00:00:00",
          "2002-12-31T00:00:00",
          "2003-12-31T00:00:00",
          "2004-12-31T00:00:00",
          "2005-12-31T00:00:00",
          "2006-12-31T00:00:00",
          "2007-12-31T00:00:00",
          "2008-12-31T00:00:00",
          "2009-12-31T00:00:00",
          "2010-12-31T00:00:00",
          "2011-12-31T00:00:00",
          "2012-12-31T00:00:00",
          "2013-12-31T00:00:00",
          "2014-12-31T00:00:00",
          "2015-12-31T00:00:00",
          "2016-12-31T00:00:00",
          "2017-12-31T00:00:00",
          "2018-12-31T00:00:00",
          "2019-12-31T00:00:00",
          "2020-12-31T00:00:00",
          "2021-12-31T00:00:00",
          "2022-12-31T00:00:00",
          "2023-12-31T00:00:00",
          "2024-12-31T00:00:00",
          "2025-12-31T00:00:00",
          "2026-12-31T00:00:00"
         ],
         "y": [
          916120.7025576461,
          1073676.333796145,
          1216677.52387458,
          1337013.1451779339,
          1472276.0049005677,
          1618283.7707279099,
          1748580.4347978604,
          1861451.2171962182,
          1992285.3047681693,
          2175304.048117516,
          2349179.932480626,
          2500397.584761982,
          2669788.401103075,
          2851536.438869171,
          3020457.427943209,
          3176790.857111497,
          3364623.989489273,
          3564058.0830071513,
          3804147.3041243614,
          4022334.900261488,
          4258804.980741289,
          4569991.809405716,
          4866309.312763162,
          5151347.628333659,
          5449448.178249894,
          5759733.96782535,
          6053680.270724016,
          6332449.043735434,
          6627415.732522661
         ]
        },
        {
         "fill": "tonexty",
         "fillcolor": "rgba(0, 114, 178, 0.2)",
         "line": {
          "color": "#0072B2",
          "width": 2
         },
         "mode": "lines",
         "name": "Predicted",
         "type": "scatter",
         "x": [
          "1998-12-31T00:00:00",
          "1999-12-31T00:00:00",
          "2000-12-31T00:00:00",
          "2001-12-31T00:00:00",
          "2002-12-31T00:00:00",
          "2003-12-31T00:00:00",
          "2004-12-31T00:00:00",
          "2005-12-31T00:00:00",
          "2006-12-31T00:00:00",
          "2007-12-31T00:00:00",
          "2008-12-31T00:00:00",
          "2009-12-31T00:00:00",
          "2010-12-31T00:00:00",
          "2011-12-31T00:00:00",
          "2012-12-31T00:00:00",
          "2013-12-31T00:00:00",
          "2014-12-31T00:00:00",
          "2015-12-31T00:00:00",
          "2016-12-31T00:00:00",
          "2017-12-31T00:00:00",
          "2018-12-31T00:00:00",
          "2019-12-31T00:00:00",
          "2020-12-31T00:00:00",
          "2021-12-31T00:00:00",
          "2022-12-31T00:00:00",
          "2023-12-31T00:00:00",
          "2024-12-31T00:00:00",
          "2025-12-31T00:00:00",
          "2026-12-31T00:00:00"
         ],
         "y": [
          967949.3822798337,
          1125308.439322583,
          1267792.8739359076,
          1393612.866848092,
          1523984.295773809,
          1669976.4710176538,
          1801062.8815204685,
          1915516.838085511,
          2045829.751399996,
          2229875.1267046146,
          2399178.0060942154,
          2551744.0149004967,
          2720070.301685934,
          2904174.5293275137,
          3073497.4930322333,
          3226223.328451219,
          3412359.0451277513,
          3614465.866652241,
          3852918.40962047,
          4074449.2462007776,
          4311763.3369182665,
          4623400.931175613,
          4920586.584142787,
          5200685.959781229,
          5496545.612986478,
          5808183.2072439585,
          6105368.8602114115,
          6385468.235849421,
          6681327.889054829
         ]
        },
        {
         "fill": "tonexty",
         "fillcolor": "rgba(0, 114, 178, 0.2)",
         "hoverinfo": "skip",
         "line": {
          "width": 0
         },
         "mode": "lines",
         "type": "scatter",
         "x": [
          "1998-12-31T00:00:00",
          "1999-12-31T00:00:00",
          "2000-12-31T00:00:00",
          "2001-12-31T00:00:00",
          "2002-12-31T00:00:00",
          "2003-12-31T00:00:00",
          "2004-12-31T00:00:00",
          "2005-12-31T00:00:00",
          "2006-12-31T00:00:00",
          "2007-12-31T00:00:00",
          "2008-12-31T00:00:00",
          "2009-12-31T00:00:00",
          "2010-12-31T00:00:00",
          "2011-12-31T00:00:00",
          "2012-12-31T00:00:00",
          "2013-12-31T00:00:00",
          "2014-12-31T00:00:00",
          "2015-12-31T00:00:00",
          "2016-12-31T00:00:00",
          "2017-12-31T00:00:00",
          "2018-12-31T00:00:00",
          "2019-12-31T00:00:00",
          "2020-12-31T00:00:00",
          "2021-12-31T00:00:00",
          "2022-12-31T00:00:00",
          "2023-12-31T00:00:00",
          "2024-12-31T00:00:00",
          "2025-12-31T00:00:00",
          "2026-12-31T00:00:00"
         ],
         "y": [
          1018541.256186222,
          1175970.0169367488,
          1319339.2688483775,
          1441671.3952380528,
          1575104.048124543,
          1720772.2731659703,
          1853204.4077194864,
          1967672.3587390056,
          2096797.7188683974,
          2280130.0023570475,
          2447756.8428266114,
          2603386.1229159315,
          2770118.4523128886,
          2954153.3758433815,
          3125703.211849062,
          3277484.2459678287,
          3462466.9291127357,
          3664703.7231441857,
          3904262.4517980646,
          4125914.550776549,
          4362086.949785709,
          4670969.0421315385,
          4974697.917189662,
          5250511.880964831,
          5545350.090050444,
          5859190.563666185,
          6154819.941107541,
          6439047.467507698,
          6740278.467993856
         ]
        }
       ],
       "layout": {
        "height": 600,
        "showlegend": false,
        "template": {
         "data": {
          "bar": [
           {
            "error_x": {
             "color": "#2a3f5f"
            },
            "error_y": {
             "color": "#2a3f5f"
            },
            "marker": {
             "line": {
              "color": "#E5ECF6",
              "width": 0.5
             },
             "pattern": {
              "fillmode": "overlay",
              "size": 10,
              "solidity": 0.2
             }
            },
            "type": "bar"
           }
          ],
          "barpolar": [
           {
            "marker": {
             "line": {
              "color": "#E5ECF6",
              "width": 0.5
             },
             "pattern": {
              "fillmode": "overlay",
              "size": 10,
              "solidity": 0.2
             }
            },
            "type": "barpolar"
           }
          ],
          "carpet": [
           {
            "aaxis": {
             "endlinecolor": "#2a3f5f",
             "gridcolor": "white",
             "linecolor": "white",
             "minorgridcolor": "white",
             "startlinecolor": "#2a3f5f"
            },
            "baxis": {
             "endlinecolor": "#2a3f5f",
             "gridcolor": "white",
             "linecolor": "white",
             "minorgridcolor": "white",
             "startlinecolor": "#2a3f5f"
            },
            "type": "carpet"
           }
          ],
          "choropleth": [
           {
            "colorbar": {
             "outlinewidth": 0,
             "ticks": ""
            },
            "type": "choropleth"
           }
          ],
          "contour": [
           {
            "colorbar": {
             "outlinewidth": 0,
             "ticks": ""
            },
            "colorscale": [
             [
              0,
              "#0d0887"
             ],
             [
              0.1111111111111111,
              "#46039f"
             ],
             [
              0.2222222222222222,
              "#7201a8"
             ],
             [
              0.3333333333333333,
              "#9c179e"
             ],
             [
              0.4444444444444444,
              "#bd3786"
             ],
             [
              0.5555555555555556,
              "#d8576b"
             ],
             [
              0.6666666666666666,
              "#ed7953"
             ],
             [
              0.7777777777777778,
              "#fb9f3a"
             ],
             [
              0.8888888888888888,
              "#fdca26"
             ],
             [
              1,
              "#f0f921"
             ]
            ],
            "type": "contour"
           }
          ],
          "contourcarpet": [
           {
            "colorbar": {
             "outlinewidth": 0,
             "ticks": ""
            },
            "type": "contourcarpet"
           }
          ],
          "heatmap": [
           {
            "colorbar": {
             "outlinewidth": 0,
             "ticks": ""
            },
            "colorscale": [
             [
              0,
              "#0d0887"
             ],
             [
              0.1111111111111111,
              "#46039f"
             ],
             [
              0.2222222222222222,
              "#7201a8"
             ],
             [
              0.3333333333333333,
              "#9c179e"
             ],
             [
              0.4444444444444444,
              "#bd3786"
             ],
             [
              0.5555555555555556,
              "#d8576b"
             ],
             [
              0.6666666666666666,
              "#ed7953"
             ],
             [
              0.7777777777777778,
              "#fb9f3a"
             ],
             [
              0.8888888888888888,
              "#fdca26"
             ],
             [
              1,
              "#f0f921"
             ]
            ],
            "type": "heatmap"
           }
          ],
          "heatmapgl": [
           {
            "colorbar": {
             "outlinewidth": 0,
             "ticks": ""
            },
            "colorscale": [
             [
              0,
              "#0d0887"
             ],
             [
              0.1111111111111111,
              "#46039f"
             ],
             [
              0.2222222222222222,
              "#7201a8"
             ],
             [
              0.3333333333333333,
              "#9c179e"
             ],
             [
              0.4444444444444444,
              "#bd3786"
             ],
             [
              0.5555555555555556,
              "#d8576b"
             ],
             [
              0.6666666666666666,
              "#ed7953"
             ],
             [
              0.7777777777777778,
              "#fb9f3a"
             ],
             [
              0.8888888888888888,
              "#fdca26"
             ],
             [
              1,
              "#f0f921"
             ]
            ],
            "type": "heatmapgl"
           }
          ],
          "histogram": [
           {
            "marker": {
             "pattern": {
              "fillmode": "overlay",
              "size": 10,
              "solidity": 0.2
             }
            },
            "type": "histogram"
           }
          ],
          "histogram2d": [
           {
            "colorbar": {
             "outlinewidth": 0,
             "ticks": ""
            },
            "colorscale": [
             [
              0,
              "#0d0887"
             ],
             [
              0.1111111111111111,
              "#46039f"
             ],
             [
              0.2222222222222222,
              "#7201a8"
             ],
             [
              0.3333333333333333,
              "#9c179e"
             ],
             [
              0.4444444444444444,
              "#bd3786"
             ],
             [
              0.5555555555555556,
              "#d8576b"
             ],
             [
              0.6666666666666666,
              "#ed7953"
             ],
             [
              0.7777777777777778,
              "#fb9f3a"
             ],
             [
              0.8888888888888888,
              "#fdca26"
             ],
             [
              1,
              "#f0f921"
             ]
            ],
            "type": "histogram2d"
           }
          ],
          "histogram2dcontour": [
           {
            "colorbar": {
             "outlinewidth": 0,
             "ticks": ""
            },
            "colorscale": [
             [
              0,
              "#0d0887"
             ],
             [
              0.1111111111111111,
              "#46039f"
             ],
             [
              0.2222222222222222,
              "#7201a8"
             ],
             [
              0.3333333333333333,
              "#9c179e"
             ],
             [
              0.4444444444444444,
              "#bd3786"
             ],
             [
              0.5555555555555556,
              "#d8576b"
             ],
             [
              0.6666666666666666,
              "#ed7953"
             ],
             [
              0.7777777777777778,
              "#fb9f3a"
             ],
             [
              0.8888888888888888,
              "#fdca26"
             ],
             [
              1,
              "#f0f921"
             ]
            ],
            "type": "histogram2dcontour"
           }
          ],
          "mesh3d": [
           {
            "colorbar": {
             "outlinewidth": 0,
             "ticks": ""
            },
            "type": "mesh3d"
           }
          ],
          "parcoords": [
           {
            "line": {
             "colorbar": {
              "outlinewidth": 0,
              "ticks": ""
             }
            },
            "type": "parcoords"
           }
          ],
          "pie": [
           {
            "automargin": true,
            "type": "pie"
           }
          ],
          "scatter": [
           {
            "fillpattern": {
             "fillmode": "overlay",
             "size": 10,
             "solidity": 0.2
            },
            "type": "scatter"
           }
          ],
          "scatter3d": [
           {
            "line": {
             "colorbar": {
              "outlinewidth": 0,
              "ticks": ""
             }
            },
            "marker": {
             "colorbar": {
              "outlinewidth": 0,
              "ticks": ""
             }
            },
            "type": "scatter3d"
           }
          ],
          "scattercarpet": [
           {
            "marker": {
             "colorbar": {
              "outlinewidth": 0,
              "ticks": ""
             }
            },
            "type": "scattercarpet"
           }
          ],
          "scattergeo": [
           {
            "marker": {
             "colorbar": {
              "outlinewidth": 0,
              "ticks": ""
             }
            },
            "type": "scattergeo"
           }
          ],
          "scattergl": [
           {
            "marker": {
             "colorbar": {
              "outlinewidth": 0,
              "ticks": ""
             }
            },
            "type": "scattergl"
           }
          ],
          "scattermapbox": [
           {
            "marker": {
             "colorbar": {
              "outlinewidth": 0,
              "ticks": ""
             }
            },
            "type": "scattermapbox"
           }
          ],
          "scatterpolar": [
           {
            "marker": {
             "colorbar": {
              "outlinewidth": 0,
              "ticks": ""
             }
            },
            "type": "scatterpolar"
           }
          ],
          "scatterpolargl": [
           {
            "marker": {
             "colorbar": {
              "outlinewidth": 0,
              "ticks": ""
             }
            },
            "type": "scatterpolargl"
           }
          ],
          "scatterternary": [
           {
            "marker": {
             "colorbar": {
              "outlinewidth": 0,
              "ticks": ""
             }
            },
            "type": "scatterternary"
           }
          ],
          "surface": [
           {
            "colorbar": {
             "outlinewidth": 0,
             "ticks": ""
            },
            "colorscale": [
             [
              0,
              "#0d0887"
             ],
             [
              0.1111111111111111,
              "#46039f"
             ],
             [
              0.2222222222222222,
              "#7201a8"
             ],
             [
              0.3333333333333333,
              "#9c179e"
             ],
             [
              0.4444444444444444,
              "#bd3786"
             ],
             [
              0.5555555555555556,
              "#d8576b"
             ],
             [
              0.6666666666666666,
              "#ed7953"
             ],
             [
              0.7777777777777778,
              "#fb9f3a"
             ],
             [
              0.8888888888888888,
              "#fdca26"
             ],
             [
              1,
              "#f0f921"
             ]
            ],
            "type": "surface"
           }
          ],
          "table": [
           {
            "cells": {
             "fill": {
              "color": "#EBF0F8"
             },
             "line": {
              "color": "white"
             }
            },
            "header": {
             "fill": {
              "color": "#C8D4E3"
             },
             "line": {
              "color": "white"
             }
            },
            "type": "table"
           }
          ]
         },
         "layout": {
          "annotationdefaults": {
           "arrowcolor": "#2a3f5f",
           "arrowhead": 0,
           "arrowwidth": 1
          },
          "autotypenumbers": "strict",
          "coloraxis": {
           "colorbar": {
            "outlinewidth": 0,
            "ticks": ""
           }
          },
          "colorscale": {
           "diverging": [
            [
             0,
             "#8e0152"
            ],
            [
             0.1,
             "#c51b7d"
            ],
            [
             0.2,
             "#de77ae"
            ],
            [
             0.3,
             "#f1b6da"
            ],
            [
             0.4,
             "#fde0ef"
            ],
            [
             0.5,
             "#f7f7f7"
            ],
            [
             0.6,
             "#e6f5d0"
            ],
            [
             0.7,
             "#b8e186"
            ],
            [
             0.8,
             "#7fbc41"
            ],
            [
             0.9,
             "#4d9221"
            ],
            [
             1,
             "#276419"
            ]
           ],
           "sequential": [
            [
             0,
             "#0d0887"
            ],
            [
             0.1111111111111111,
             "#46039f"
            ],
            [
             0.2222222222222222,
             "#7201a8"
            ],
            [
             0.3333333333333333,
             "#9c179e"
            ],
            [
             0.4444444444444444,
             "#bd3786"
            ],
            [
             0.5555555555555556,
             "#d8576b"
            ],
            [
             0.6666666666666666,
             "#ed7953"
            ],
            [
             0.7777777777777778,
             "#fb9f3a"
            ],
            [
             0.8888888888888888,
             "#fdca26"
            ],
            [
             1,
             "#f0f921"
            ]
           ],
           "sequentialminus": [
            [
             0,
             "#0d0887"
            ],
            [
             0.1111111111111111,
             "#46039f"
            ],
            [
             0.2222222222222222,
             "#7201a8"
            ],
            [
             0.3333333333333333,
             "#9c179e"
            ],
            [
             0.4444444444444444,
             "#bd3786"
            ],
            [
             0.5555555555555556,
             "#d8576b"
            ],
            [
             0.6666666666666666,
             "#ed7953"
            ],
            [
             0.7777777777777778,
             "#fb9f3a"
            ],
            [
             0.8888888888888888,
             "#fdca26"
            ],
            [
             1,
             "#f0f921"
            ]
           ]
          },
          "colorway": [
           "#636efa",
           "#EF553B",
           "#00cc96",
           "#ab63fa",
           "#FFA15A",
           "#19d3f3",
           "#FF6692",
           "#B6E880",
           "#FF97FF",
           "#FECB52"
          ],
          "font": {
           "color": "#2a3f5f"
          },
          "geo": {
           "bgcolor": "white",
           "lakecolor": "white",
           "landcolor": "#E5ECF6",
           "showlakes": true,
           "showland": true,
           "subunitcolor": "white"
          },
          "hoverlabel": {
           "align": "left"
          },
          "hovermode": "closest",
          "mapbox": {
           "style": "light"
          },
          "paper_bgcolor": "white",
          "plot_bgcolor": "#E5ECF6",
          "polar": {
           "angularaxis": {
            "gridcolor": "white",
            "linecolor": "white",
            "ticks": ""
           },
           "bgcolor": "#E5ECF6",
           "radialaxis": {
            "gridcolor": "white",
            "linecolor": "white",
            "ticks": ""
           }
          },
          "scene": {
           "xaxis": {
            "backgroundcolor": "#E5ECF6",
            "gridcolor": "white",
            "gridwidth": 2,
            "linecolor": "white",
            "showbackground": true,
            "ticks": "",
            "zerolinecolor": "white"
           },
           "yaxis": {
            "backgroundcolor": "#E5ECF6",
            "gridcolor": "white",
            "gridwidth": 2,
            "linecolor": "white",
            "showbackground": true,
            "ticks": "",
            "zerolinecolor": "white"
           },
           "zaxis": {
            "backgroundcolor": "#E5ECF6",
            "gridcolor": "white",
            "gridwidth": 2,
            "linecolor": "white",
            "showbackground": true,
            "ticks": "",
            "zerolinecolor": "white"
           }
          },
          "shapedefaults": {
           "line": {
            "color": "#2a3f5f"
           }
          },
          "ternary": {
           "aaxis": {
            "gridcolor": "white",
            "linecolor": "white",
            "ticks": ""
           },
           "baxis": {
            "gridcolor": "white",
            "linecolor": "white",
            "ticks": ""
           },
           "bgcolor": "#E5ECF6",
           "caxis": {
            "gridcolor": "white",
            "linecolor": "white",
            "ticks": ""
           }
          },
          "title": {
           "x": 0.05
          },
          "xaxis": {
           "automargin": true,
           "gridcolor": "white",
           "linecolor": "white",
           "ticks": "",
           "title": {
            "standoff": 15
           },
           "zerolinecolor": "white",
           "zerolinewidth": 2
          },
          "yaxis": {
           "automargin": true,
           "gridcolor": "white",
           "linecolor": "white",
           "ticks": "",
           "title": {
            "standoff": 15
           },
           "zerolinecolor": "white",
           "zerolinewidth": 2
          }
         }
        },
        "width": 900,
        "xaxis": {
         "rangeselector": {
          "buttons": [
           {
            "count": 7,
            "label": "1w",
            "step": "day",
            "stepmode": "backward"
           },
           {
            "count": 1,
            "label": "1m",
            "step": "month",
            "stepmode": "backward"
           },
           {
            "count": 6,
            "label": "6m",
            "step": "month",
            "stepmode": "backward"
           },
           {
            "count": 1,
            "label": "1y",
            "step": "year",
            "stepmode": "backward"
           },
           {
            "step": "all"
           }
          ]
         },
         "rangeslider": {
          "visible": true
         },
         "title": {
          "text": "ds"
         },
         "type": "date"
        },
        "yaxis": {
         "title": {
          "text": "y"
         }
        }
       }
      }
     },
     "metadata": {},
     "output_type": "display_data"
    }
   ],
   "source": [
    "from prophet.plot import plot_plotly, plot_components_plotly\n",
    "\n",
    "plot_plotly(m, forecast)"
   ]
  },
  {
   "cell_type": "markdown",
   "metadata": {},
   "source": [
    "## Tendencias"
   ]
  },
  {
   "cell_type": "code",
   "execution_count": 36,
   "metadata": {},
   "outputs": [
    {
     "data": {
      "application/vnd.plotly.v1+json": {
       "config": {
        "plotlyServerURL": "https://plot.ly"
       },
       "data": [
        {
         "line": {
          "color": "#0072B2",
          "width": 2
         },
         "mode": "lines",
         "name": "trend",
         "type": "scatter",
         "x": [
          "1998-12-31T00:00:00",
          "1999-12-31T00:00:00",
          "2000-12-31T00:00:00",
          "2001-12-31T00:00:00",
          "2002-12-31T00:00:00",
          "2003-12-31T00:00:00",
          "2004-12-31T00:00:00",
          "2005-12-31T00:00:00",
          "2006-12-31T00:00:00",
          "2007-12-31T00:00:00",
          "2008-12-31T00:00:00",
          "2009-12-31T00:00:00",
          "2010-12-31T00:00:00",
          "2011-12-31T00:00:00",
          "2012-12-31T00:00:00",
          "2013-12-31T00:00:00",
          "2014-12-31T00:00:00",
          "2015-12-31T00:00:00",
          "2016-12-31T00:00:00",
          "2017-12-31T00:00:00",
          "2018-12-31T00:00:00",
          "2019-12-31T00:00:00",
          "2020-12-31T00:00:00",
          "2021-12-31T00:00:00",
          "2022-12-31T00:00:00",
          "2023-12-31T00:00:00",
          "2024-12-31T00:00:00",
          "2025-12-31T00:00:00",
          "2026-12-31T00:00:00"
         ],
         "xaxis": "x",
         "y": [
          791657.543936,
          933371.8409203725,
          1075474.3960375038,
          1217187.8475104338,
          1347692.4574300249,
          1478039.8726155618,
          1608744.4036217178,
          1739091.8187479172,
          1869537.913056223,
          2037938.52830241,
          2206859.528195733,
          2375318.995563009,
          2543778.463342103,
          2712237.9309254684,
          2881179.0151337883,
          3049798.3091136003,
          3236067.2067839312,
          3422529.2682500114,
          3660599.9317218843,
          3898024.2268632213,
          4135471.4985744343,
          4431464.332773557,
          4728268.106244459,
          5024260.940443583,
          5320253.774642706,
          5616246.608841828,
          5913050.38231273,
          6209043.216511854,
          6505036.050710975
         ],
         "yaxis": "y"
        },
        {
         "line": {
          "color": "rgba(0, 114, 178, 0.2)",
          "width": 0
         },
         "mode": "lines",
         "name": "trend_upper",
         "type": "scatter",
         "x": [
          "1998-12-31T00:00:00",
          "1999-12-31T00:00:00",
          "2000-12-31T00:00:00",
          "2001-12-31T00:00:00",
          "2002-12-31T00:00:00",
          "2003-12-31T00:00:00",
          "2004-12-31T00:00:00",
          "2005-12-31T00:00:00",
          "2006-12-31T00:00:00",
          "2007-12-31T00:00:00",
          "2008-12-31T00:00:00",
          "2009-12-31T00:00:00",
          "2010-12-31T00:00:00",
          "2011-12-31T00:00:00",
          "2012-12-31T00:00:00",
          "2013-12-31T00:00:00",
          "2014-12-31T00:00:00",
          "2015-12-31T00:00:00",
          "2016-12-31T00:00:00",
          "2017-12-31T00:00:00",
          "2018-12-31T00:00:00",
          "2019-12-31T00:00:00",
          "2020-12-31T00:00:00",
          "2021-12-31T00:00:00",
          "2022-12-31T00:00:00",
          "2023-12-31T00:00:00",
          "2024-12-31T00:00:00",
          "2025-12-31T00:00:00",
          "2026-12-31T00:00:00"
         ],
         "xaxis": "x",
         "y": [
          791657.543936,
          933371.8409203725,
          1075474.3960375038,
          1217187.8475104338,
          1347692.4574300249,
          1478039.8726155618,
          1608744.4036217178,
          1739091.8187479172,
          1869537.913056223,
          2037938.52830241,
          2206859.528195733,
          2375318.995563009,
          2543778.463342103,
          2712237.9309254684,
          2881179.0151337883,
          3049798.3091136003,
          3236067.2067839312,
          3422529.2682500114,
          3660599.9317218843,
          3898024.2268632213,
          4135471.4985744343,
          4431464.332773557,
          4728268.106244459,
          5024260.940443583,
          5320253.774642706,
          5616246.608841828,
          5913050.38231273,
          6215613.761685034,
          6525580.7241458185
         ],
         "yaxis": "y"
        },
        {
         "fill": "tonexty",
         "fillcolor": "rgba(0, 114, 178, 0.2)",
         "line": {
          "color": "rgba(0, 114, 178, 0.2)",
          "width": 0
         },
         "mode": "lines",
         "name": "trend_lower",
         "type": "scatter",
         "x": [
          "1998-12-31T00:00:00",
          "1999-12-31T00:00:00",
          "2000-12-31T00:00:00",
          "2001-12-31T00:00:00",
          "2002-12-31T00:00:00",
          "2003-12-31T00:00:00",
          "2004-12-31T00:00:00",
          "2005-12-31T00:00:00",
          "2006-12-31T00:00:00",
          "2007-12-31T00:00:00",
          "2008-12-31T00:00:00",
          "2009-12-31T00:00:00",
          "2010-12-31T00:00:00",
          "2011-12-31T00:00:00",
          "2012-12-31T00:00:00",
          "2013-12-31T00:00:00",
          "2014-12-31T00:00:00",
          "2015-12-31T00:00:00",
          "2016-12-31T00:00:00",
          "2017-12-31T00:00:00",
          "2018-12-31T00:00:00",
          "2019-12-31T00:00:00",
          "2020-12-31T00:00:00",
          "2021-12-31T00:00:00",
          "2022-12-31T00:00:00",
          "2023-12-31T00:00:00",
          "2024-12-31T00:00:00",
          "2025-12-31T00:00:00",
          "2026-12-31T00:00:00"
         ],
         "xaxis": "x",
         "y": [
          791657.543936,
          933371.8409203725,
          1075474.3960375038,
          1217187.8475104338,
          1347692.4574300249,
          1478039.8726155618,
          1608744.4036217178,
          1739091.8187479172,
          1869537.913056223,
          2037938.52830241,
          2206859.528195733,
          2375318.995563009,
          2543778.463342103,
          2712237.9309254684,
          2881179.0151337883,
          3049798.3091136003,
          3236067.2067839312,
          3422529.2682500114,
          3660599.9317218843,
          3898024.2268632213,
          4135471.4985744343,
          4431464.332773557,
          4728268.106244459,
          5024260.940443583,
          5320253.774642706,
          5616246.608841828,
          5913050.38231273,
          6202272.175262557,
          6483729.078019163
         ],
         "yaxis": "y"
        },
        {
         "line": {
          "color": "#0072B2",
          "width": 2
         },
         "mode": "lines",
         "name": "yearly",
         "type": "scatter",
         "x": [
          "2017-01-01T00:00:00",
          "2017-01-02T00:00:59.178082",
          "2017-01-03T00:01:58.356164",
          "2017-01-04T00:02:57.534246",
          "2017-01-05T00:03:56.712328",
          "2017-01-06T00:04:55.890411",
          "2017-01-07T00:05:55.068493",
          "2017-01-08T00:06:54.246575",
          "2017-01-09T00:07:53.424657",
          "2017-01-10T00:08:52.602739",
          "2017-01-11T00:09:51.780822",
          "2017-01-12T00:10:50.958904",
          "2017-01-13T00:11:50.136986",
          "2017-01-14T00:12:49.315068",
          "2017-01-15T00:13:48.493150",
          "2017-01-16T00:14:47.671232",
          "2017-01-17T00:15:46.849315",
          "2017-01-18T00:16:46.027397",
          "2017-01-19T00:17:45.205479",
          "2017-01-20T00:18:44.383561",
          "2017-01-21T00:19:43.561643",
          "2017-01-22T00:20:42.739726",
          "2017-01-23T00:21:41.917808",
          "2017-01-24T00:22:41.095890",
          "2017-01-25T00:23:40.273972",
          "2017-01-26T00:24:39.452054",
          "2017-01-27T00:25:38.630137",
          "2017-01-28T00:26:37.808219",
          "2017-01-29T00:27:36.986301",
          "2017-01-30T00:28:36.164383",
          "2017-01-31T00:29:35.342465",
          "2017-02-01T00:30:34.520547",
          "2017-02-02T00:31:33.698630",
          "2017-02-03T00:32:32.876712",
          "2017-02-04T00:33:32.054794",
          "2017-02-05T00:34:31.232876",
          "2017-02-06T00:35:30.410958",
          "2017-02-07T00:36:29.589041",
          "2017-02-08T00:37:28.767123",
          "2017-02-09T00:38:27.945205",
          "2017-02-10T00:39:27.123287",
          "2017-02-11T00:40:26.301369",
          "2017-02-12T00:41:25.479452",
          "2017-02-13T00:42:24.657534",
          "2017-02-14T00:43:23.835616",
          "2017-02-15T00:44:23.013698",
          "2017-02-16T00:45:22.191780",
          "2017-02-17T00:46:21.369862",
          "2017-02-18T00:47:20.547945",
          "2017-02-19T00:48:19.726027",
          "2017-02-20T00:49:18.904109",
          "2017-02-21T00:50:18.082191",
          "2017-02-22T00:51:17.260273",
          "2017-02-23T00:52:16.438356",
          "2017-02-24T00:53:15.616438",
          "2017-02-25T00:54:14.794520",
          "2017-02-26T00:55:13.972602",
          "2017-02-27T00:56:13.150684",
          "2017-02-28T00:57:12.328767",
          "2017-03-01T00:58:11.506849",
          "2017-03-02T00:59:10.684931",
          "2017-03-03T01:00:09.863013",
          "2017-03-04T01:01:09.041095",
          "2017-03-05T01:02:08.219177",
          "2017-03-06T01:03:07.397260",
          "2017-03-07T01:04:06.575342",
          "2017-03-08T01:05:05.753424",
          "2017-03-09T01:06:04.931506",
          "2017-03-10T01:07:04.109588",
          "2017-03-11T01:08:03.287671",
          "2017-03-12T01:09:02.465753",
          "2017-03-13T01:10:01.643835",
          "2017-03-14T01:11:00.821917",
          "2017-03-15T01:12:00",
          "2017-03-16T01:12:59.178082",
          "2017-03-17T01:13:58.356164",
          "2017-03-18T01:14:57.534246",
          "2017-03-19T01:15:56.712328",
          "2017-03-20T01:16:55.890411",
          "2017-03-21T01:17:55.068493",
          "2017-03-22T01:18:54.246575",
          "2017-03-23T01:19:53.424657",
          "2017-03-24T01:20:52.602739",
          "2017-03-25T01:21:51.780822",
          "2017-03-26T01:22:50.958904",
          "2017-03-27T01:23:50.136986",
          "2017-03-28T01:24:49.315068",
          "2017-03-29T01:25:48.493150",
          "2017-03-30T01:26:47.671232",
          "2017-03-31T01:27:46.849315",
          "2017-04-01T01:28:46.027397",
          "2017-04-02T01:29:45.205479",
          "2017-04-03T01:30:44.383561",
          "2017-04-04T01:31:43.561643",
          "2017-04-05T01:32:42.739726",
          "2017-04-06T01:33:41.917808",
          "2017-04-07T01:34:41.095890",
          "2017-04-08T01:35:40.273972",
          "2017-04-09T01:36:39.452054",
          "2017-04-10T01:37:38.630137",
          "2017-04-11T01:38:37.808219",
          "2017-04-12T01:39:36.986301",
          "2017-04-13T01:40:36.164383",
          "2017-04-14T01:41:35.342465",
          "2017-04-15T01:42:34.520547",
          "2017-04-16T01:43:33.698630",
          "2017-04-17T01:44:32.876712",
          "2017-04-18T01:45:32.054794",
          "2017-04-19T01:46:31.232876",
          "2017-04-20T01:47:30.410958",
          "2017-04-21T01:48:29.589041",
          "2017-04-22T01:49:28.767123",
          "2017-04-23T01:50:27.945205",
          "2017-04-24T01:51:27.123287",
          "2017-04-25T01:52:26.301369",
          "2017-04-26T01:53:25.479452",
          "2017-04-27T01:54:24.657534",
          "2017-04-28T01:55:23.835616",
          "2017-04-29T01:56:23.013698",
          "2017-04-30T01:57:22.191780",
          "2017-05-01T01:58:21.369862",
          "2017-05-02T01:59:20.547945",
          "2017-05-03T02:00:19.726027",
          "2017-05-04T02:01:18.904109",
          "2017-05-05T02:02:18.082191",
          "2017-05-06T02:03:17.260273",
          "2017-05-07T02:04:16.438356",
          "2017-05-08T02:05:15.616438",
          "2017-05-09T02:06:14.794520",
          "2017-05-10T02:07:13.972602",
          "2017-05-11T02:08:13.150684",
          "2017-05-12T02:09:12.328767",
          "2017-05-13T02:10:11.506849",
          "2017-05-14T02:11:10.684931",
          "2017-05-15T02:12:09.863013",
          "2017-05-16T02:13:09.041095",
          "2017-05-17T02:14:08.219177",
          "2017-05-18T02:15:07.397260",
          "2017-05-19T02:16:06.575342",
          "2017-05-20T02:17:05.753424",
          "2017-05-21T02:18:04.931506",
          "2017-05-22T02:19:04.109588",
          "2017-05-23T02:20:03.287671",
          "2017-05-24T02:21:02.465753",
          "2017-05-25T02:22:01.643835",
          "2017-05-26T02:23:00.821917",
          "2017-05-27T02:24:00",
          "2017-05-28T02:24:59.178082",
          "2017-05-29T02:25:58.356164",
          "2017-05-30T02:26:57.534246",
          "2017-05-31T02:27:56.712328",
          "2017-06-01T02:28:55.890411",
          "2017-06-02T02:29:55.068493",
          "2017-06-03T02:30:54.246575",
          "2017-06-04T02:31:53.424657",
          "2017-06-05T02:32:52.602739",
          "2017-06-06T02:33:51.780822",
          "2017-06-07T02:34:50.958904",
          "2017-06-08T02:35:50.136986",
          "2017-06-09T02:36:49.315068",
          "2017-06-10T02:37:48.493150",
          "2017-06-11T02:38:47.671232",
          "2017-06-12T02:39:46.849315",
          "2017-06-13T02:40:46.027397",
          "2017-06-14T02:41:45.205479",
          "2017-06-15T02:42:44.383561",
          "2017-06-16T02:43:43.561643",
          "2017-06-17T02:44:42.739726",
          "2017-06-18T02:45:41.917808",
          "2017-06-19T02:46:41.095890",
          "2017-06-20T02:47:40.273972",
          "2017-06-21T02:48:39.452054",
          "2017-06-22T02:49:38.630137",
          "2017-06-23T02:50:37.808219",
          "2017-06-24T02:51:36.986301",
          "2017-06-25T02:52:36.164383",
          "2017-06-26T02:53:35.342465",
          "2017-06-27T02:54:34.520547",
          "2017-06-28T02:55:33.698630",
          "2017-06-29T02:56:32.876712",
          "2017-06-30T02:57:32.054794",
          "2017-07-01T02:58:31.232876",
          "2017-07-02T02:59:30.410958",
          "2017-07-03T03:00:29.589041",
          "2017-07-04T03:01:28.767123",
          "2017-07-05T03:02:27.945205",
          "2017-07-06T03:03:27.123287",
          "2017-07-07T03:04:26.301369",
          "2017-07-08T03:05:25.479452",
          "2017-07-09T03:06:24.657534",
          "2017-07-10T03:07:23.835616",
          "2017-07-11T03:08:23.013698",
          "2017-07-12T03:09:22.191780",
          "2017-07-13T03:10:21.369862",
          "2017-07-14T03:11:20.547945",
          "2017-07-15T03:12:19.726027",
          "2017-07-16T03:13:18.904109",
          "2017-07-17T03:14:18.082191",
          "2017-07-18T03:15:17.260273",
          "2017-07-19T03:16:16.438356",
          "2017-07-20T03:17:15.616438",
          "2017-07-21T03:18:14.794520",
          "2017-07-22T03:19:13.972602",
          "2017-07-23T03:20:13.150684",
          "2017-07-24T03:21:12.328767",
          "2017-07-25T03:22:11.506849",
          "2017-07-26T03:23:10.684931",
          "2017-07-27T03:24:09.863013",
          "2017-07-28T03:25:09.041095",
          "2017-07-29T03:26:08.219177",
          "2017-07-30T03:27:07.397260",
          "2017-07-31T03:28:06.575342",
          "2017-08-01T03:29:05.753424",
          "2017-08-02T03:30:04.931506",
          "2017-08-03T03:31:04.109588",
          "2017-08-04T03:32:03.287671",
          "2017-08-05T03:33:02.465753",
          "2017-08-06T03:34:01.643835",
          "2017-08-07T03:35:00.821917",
          "2017-08-08T03:36:00",
          "2017-08-09T03:36:59.178082",
          "2017-08-10T03:37:58.356164",
          "2017-08-11T03:38:57.534246",
          "2017-08-12T03:39:56.712328",
          "2017-08-13T03:40:55.890411",
          "2017-08-14T03:41:55.068493",
          "2017-08-15T03:42:54.246575",
          "2017-08-16T03:43:53.424657",
          "2017-08-17T03:44:52.602739",
          "2017-08-18T03:45:51.780822",
          "2017-08-19T03:46:50.958904",
          "2017-08-20T03:47:50.136986",
          "2017-08-21T03:48:49.315068",
          "2017-08-22T03:49:48.493150",
          "2017-08-23T03:50:47.671232",
          "2017-08-24T03:51:46.849315",
          "2017-08-25T03:52:46.027397",
          "2017-08-26T03:53:45.205479",
          "2017-08-27T03:54:44.383561",
          "2017-08-28T03:55:43.561643",
          "2017-08-29T03:56:42.739726",
          "2017-08-30T03:57:41.917808",
          "2017-08-31T03:58:41.095890",
          "2017-09-01T03:59:40.273972",
          "2017-09-02T04:00:39.452054",
          "2017-09-03T04:01:38.630137",
          "2017-09-04T04:02:37.808219",
          "2017-09-05T04:03:36.986301",
          "2017-09-06T04:04:36.164383",
          "2017-09-07T04:05:35.342465",
          "2017-09-08T04:06:34.520547",
          "2017-09-09T04:07:33.698630",
          "2017-09-10T04:08:32.876712",
          "2017-09-11T04:09:32.054794",
          "2017-09-12T04:10:31.232876",
          "2017-09-13T04:11:30.410958",
          "2017-09-14T04:12:29.589041",
          "2017-09-15T04:13:28.767123",
          "2017-09-16T04:14:27.945205",
          "2017-09-17T04:15:27.123287",
          "2017-09-18T04:16:26.301369",
          "2017-09-19T04:17:25.479452",
          "2017-09-20T04:18:24.657534",
          "2017-09-21T04:19:23.835616",
          "2017-09-22T04:20:23.013698",
          "2017-09-23T04:21:22.191780",
          "2017-09-24T04:22:21.369862",
          "2017-09-25T04:23:20.547945",
          "2017-09-26T04:24:19.726027",
          "2017-09-27T04:25:18.904109",
          "2017-09-28T04:26:18.082191",
          "2017-09-29T04:27:17.260273",
          "2017-09-30T04:28:16.438356",
          "2017-10-01T04:29:15.616438",
          "2017-10-02T04:30:14.794520",
          "2017-10-03T04:31:13.972602",
          "2017-10-04T04:32:13.150684",
          "2017-10-05T04:33:12.328767",
          "2017-10-06T04:34:11.506849",
          "2017-10-07T04:35:10.684931",
          "2017-10-08T04:36:09.863013",
          "2017-10-09T04:37:09.041095",
          "2017-10-10T04:38:08.219177",
          "2017-10-11T04:39:07.397260",
          "2017-10-12T04:40:06.575342",
          "2017-10-13T04:41:05.753424",
          "2017-10-14T04:42:04.931506",
          "2017-10-15T04:43:04.109588",
          "2017-10-16T04:44:03.287671",
          "2017-10-17T04:45:02.465753",
          "2017-10-18T04:46:01.643835",
          "2017-10-19T04:47:00.821917",
          "2017-10-20T04:48:00",
          "2017-10-21T04:48:59.178082",
          "2017-10-22T04:49:58.356164",
          "2017-10-23T04:50:57.534246",
          "2017-10-24T04:51:56.712328",
          "2017-10-25T04:52:55.890411",
          "2017-10-26T04:53:55.068493",
          "2017-10-27T04:54:54.246575",
          "2017-10-28T04:55:53.424657",
          "2017-10-29T04:56:52.602739",
          "2017-10-30T04:57:51.780822",
          "2017-10-31T04:58:50.958904",
          "2017-11-01T04:59:50.136986",
          "2017-11-02T05:00:49.315068",
          "2017-11-03T05:01:48.493150",
          "2017-11-04T05:02:47.671232",
          "2017-11-05T05:03:46.849315",
          "2017-11-06T05:04:46.027397",
          "2017-11-07T05:05:45.205479",
          "2017-11-08T05:06:44.383561",
          "2017-11-09T05:07:43.561643",
          "2017-11-10T05:08:42.739726",
          "2017-11-11T05:09:41.917808",
          "2017-11-12T05:10:41.095890",
          "2017-11-13T05:11:40.273972",
          "2017-11-14T05:12:39.452054",
          "2017-11-15T05:13:38.630137",
          "2017-11-16T05:14:37.808219",
          "2017-11-17T05:15:36.986301",
          "2017-11-18T05:16:36.164383",
          "2017-11-19T05:17:35.342465",
          "2017-11-20T05:18:34.520547",
          "2017-11-21T05:19:33.698630",
          "2017-11-22T05:20:32.876712",
          "2017-11-23T05:21:32.054794",
          "2017-11-24T05:22:31.232876",
          "2017-11-25T05:23:30.410958",
          "2017-11-26T05:24:29.589041",
          "2017-11-27T05:25:28.767123",
          "2017-11-28T05:26:27.945205",
          "2017-11-29T05:27:27.123287",
          "2017-11-30T05:28:26.301369",
          "2017-12-01T05:29:25.479452",
          "2017-12-02T05:30:24.657534",
          "2017-12-03T05:31:23.835616",
          "2017-12-04T05:32:23.013698",
          "2017-12-05T05:33:22.191780",
          "2017-12-06T05:34:21.369862",
          "2017-12-07T05:35:20.547945",
          "2017-12-08T05:36:19.726027",
          "2017-12-09T05:37:18.904109",
          "2017-12-10T05:38:18.082191",
          "2017-12-11T05:39:17.260273",
          "2017-12-12T05:40:16.438356",
          "2017-12-13T05:41:15.616438",
          "2017-12-14T05:42:14.794520",
          "2017-12-15T05:43:13.972602",
          "2017-12-16T05:44:13.150684",
          "2017-12-17T05:45:12.328767",
          "2017-12-18T05:46:11.506849",
          "2017-12-19T05:47:10.684931",
          "2017-12-20T05:48:09.863013",
          "2017-12-21T05:49:09.041095",
          "2017-12-22T05:50:08.219177",
          "2017-12-23T05:51:07.397260",
          "2017-12-24T05:52:06.575342",
          "2017-12-25T05:53:05.753424",
          "2017-12-26T05:54:04.931506",
          "2017-12-27T05:55:04.109588",
          "2017-12-28T05:56:03.287671",
          "2017-12-29T05:57:02.465753",
          "2017-12-30T05:58:01.643835",
          "2017-12-31T05:59:00.821917"
         ],
         "xaxis": "x2",
         "y": [
          412168.2147261703,
          875974.9343735698,
          1569444.4972800456,
          2471844.621769984,
          3556508.7839845414,
          4791564.454838968,
          6140816.968039742,
          7564669.188952377,
          9021288.228076143,
          10467675.832772896,
          11860844.205945065,
          13158974.065009028,
          14322551.114613995,
          15315373.183256818,
          16105598.062358025,
          16666535.182773361,
          16977366.092996683,
          17023689.592746545,
          16797894.70006764,
          16299352.532157643,
          15534411.730743721,
          14516214.470075665,
          13264329.508783143,
          11804197.305960303,
          10166508.720168198,
          8386276.984050074,
          6501965.491554807,
          4554448.901292759,
          2585932.8748967666,
          638824.1831768121,
          -1245284.192874698,
          -3026820.8892941875,
          -4669155.561406735,
          -6139543.302711967,
          -7409946.883757766,
          -8457655.200051742,
          -9265895.724722458,
          -9824133.130933013,
          -10128273.229546806,
          -10180675.623906286,
          -9989988.936340654,
          -9570833.744713198,
          -8943303.658247763,
          -8132344.510873784,
          -7167003.9387103645,
          -6079568.114349762,
          -4904687.600163358,
          -3678326.0212573116,
          -2436812.4677792965,
          -1215838.829326278,
          -49502.70232506368,
          1030601.7862906883,
          1996148.302581865,
          2822861.5756687173,
          3491050.033226294,
          3986064.471196201,
          4298594.781812875,
          4424812.01411502,
          4366349.671345221,
          4130143.4166197884,
          3728107.1952173696,
          3176684.2802098924,
          2496266.552728531,
          1710552.8325409095,
          845744.8976316819,
          -70237.27109575293,
          -1008612.0657463633,
          -1940595.0443941634,
          -2838252.2648264514,
          -3675262.6918279273,
          -4427722.179119927,
          -5074759.49230295,
          -5599104.4812001735,
          -5987533.802381507,
          -6231169.965140976,
          -6325689.940317995,
          -6271349.74398003,
          -6072897.57177955,
          -5739349.948941127,
          -5283638.844147117,
          -4722176.206489488,
          -4074268.1770823435,
          -3361503.038252256,
          -2607056.5534207984,
          -1834965.105794002,
          -1069375.4916113701,
          -333846.52619632735,
          349408.7516976252,
          960141.3237781859,
          1480660.0904049852,
          1896335.2604641912,
          2195979.9922895753,
          2372168.791962371,
          2421388.6666866043,
          2344095.0869352026,
          2144641.266325847,
          1831085.6044989193,
          1414908.8024149446,
          910593.087648194,
          335149.95302510547,
          -292439.41038658103,
          -951833.9655938782,
          -1621984.5329660757,
          -2281760.7357895174,
          -2910649.9320751484,
          -3489352.240095705,
          -4000369.780771023,
          -4428530.664269294,
          -4761412.54067806,
          -4989725.050847484,
          -5107541.647834874,
          -5112451.3651101785,
          -5005595.2401030855,
          -4791589.748724975,
          -4478357.88536979,
          -4076834.0169639373,
          -3600601.9625837454,
          -3065444.1843521786,
          -2488822.2515962766,
          -1889343.9349270298,
          -1286133.0193977738,
          -698254.5958956071,
          -144114.7722127122,
          359107.5676748078,
          795990.7061746682,
          1153317.1748090973,
          1420498.0935348114,
          1589861.4276639123,
          1656873.5993728715,
          1620256.3549688586,
          1481999.28865288,
          1247280.243358501,
          924269.9363905161,
          523859.4849778382,
          59298.825635770656,
          -454241.10012306704,
          -1000132.8742858935,
          -1560859.128778237,
          -2118544.7014075974,
          -2655525.4418715565,
          -3154901.3412174373,
          -3601067.329718209,
          -3980175.904263878,
          -4280592.881592872,
          -4493229.46557051,
          -4611819.609976573,
          -4633101.849102876,
          -4556906.662138246,
          -4386147.9352154285,
          -4126714.350035144,
          -3787271.0150327394,
          -3378974.1913136356,
          -2915103.5550584393,
          -2410657.009009957,
          -1881839.2633928237,
          -1345567.3939140937,
          -818930.0607726143,
          -318648.33956647257,
          139455.05183711398,
          540931.0332892515,
          873187.0266114945,
          1125856.7498541507,
          1291126.2605644779,
          1363973.6874672996,
          1342318.068233162,
          1227082.7365379636,
          1022154.6942227352,
          734256.7628721624,
          372729.49221141957,
          -50774.00000584899,
          -522639.9604953987,
          -1027756.4641880763,
          -1549974.1111063538,
          -2072622.1537775178,
          -2579035.8198438915,
          -3053088.096553202,
          -3479677.436212012,
          -3845236.9945329577,
          -4138140.0891302703,
          -4349072.399687388,
          -4471326.418586894,
          -4501008.295907042,
          -4437169.1355628995,
          -4281828.426436653,
          -4039912.6612491435,
          -3719100.4813166754,
          -3329576.254297455,
          -2883728.188518121,
          -2395731.17904123,
          -1881117.2937854433,
          -1356281.730562388,
          -837959.3094572178,
          -342719.2888537733,
          113594.9358441275,
          516344.07465691934,
          852564.2257591675,
          1111380.13857241,
          1284354.9515211568,
          1365755.4039626515,
          1352751.414331883,
          1245503.661149557,
          1047168.7329895452,
          763807.4217603948,
          404196.7460823125,
          -20422.11462233396,
          -496716.5935613198,
          -1009661.7959886703,
          -1543013.712629057,
          -2079824.8448877365,
          -2602952.9133438165,
          -3095639.540058315,
          -3542016.9308815417,
          -3927619.6898353784,
          -4239848.3519072775,
          -4468378.290498976,
          -4605487.16839488,
          -4646327.391693845,
          -4589081.921668026,
          -4435040.264167741,
          -4188570.593671052,
          -3857010.67774867,
          -3450435.313381102,
          -2981363.9166695955,
          -2464376.898906227,
          -1915667.3980821057,
          -1352533.1600308623,
          -792863.263706817,
          -254537.9054133404,
          245110.18332888238,
          689853.1648112956,
          1065088.015101981,
          1358311.8320660733,
          1559519.0958661155,
          1661556.2937681049,
          1660354.6238252777,
          1555086.2010546431,
          1348212.9271083993,
          1045446.264112925,
          655579.7555521976,
          190246.43133462506,
          -336425.0043498605,
          -908233.1927341598,
          -1507402.6556409926,
          -2115100.995895094,
          -2712063.326836263,
          -3279166.5738542224,
          -3798039.1188018713,
          -4251645.790941575,
          -4624840.474965116,
          -4904845.022770702,
          -5081701.1989447,
          -5148594.817189413,
          -5102108.352591186,
          -4942362.927672413,
          -4673062.698270151,
          -4301408.326110591,
          -3837917.8738183076,
          -3296135.1574904765,
          -2692241.9208058147,
          -2044575.9047285754,
          -1373114.370503594,
          -698825.1499429123,
          -43054.03117573033,
          573144.1701353096,
          1129672.4553587188,
          1608006.2203518993,
          1991830.767988025,
          2267553.1986379065,
          2424770.5842539845,
          2456638.982285571,
          2360135.786890604,
          2136215.700174588,
          1789833.7332354824,
          1329855.1372902135,
          768840.4833098204,
          122714.52188744344,
          -589681.5724497356,
          -1347091.8112042856,
          -2126511.8229733747,
          -2903836.64818571,
          -3654592.7933391184,
          -4354692.697292548,
          -4981149.976054861,
          -5512853.255030067,
          -5931213.283793077,
          -6220786.193967762,
          -6369803.255323677,
          -6370597.5047225235,
          -6219916.306396165,
          -5919104.57945183,
          -5474150.892123961,
          -4895597.53433815,
          -4198302.827702778,
          -3401112.2350889132,
          -2526322.104035422,
          -1599110.73211713,
          -646834.3241221671,
          301747.2433229734,
          1217311.023798416,
          2070791.910115885,
          2834317.4930816693,
          3482018.2986833937,
          3990849.4078231063,
          4341334.387275543,
          4518220.712715781,
          4511018.16462138,
          4314428.498486719,
          3928610.9097892293,
          3359309.425636355,
          2617810.2635936807,
          1720786.1385850522,
          689896.5615065644,
          -448675.9690267415,
          -1664866.3684015176,
          -2925480.350137003,
          -4195063.472237902,
          -5436775.1129864855,
          -6613463.434574875,
          -7688618.868513219,
          -8627399.837435232,
          -9397613.930483976,
          -9970646.890018886,
          -10322277.970779002,
          -10433451.380409762,
          -10290848.448915735,
          -9887348.685108071,
          -9222311.527372837,
          -8301729.010344541,
          -7138121.063967025,
          -5750327.331795122,
          -4163092.200900088,
          -2406492.6929359115,
          -515194.63565127965,
          1472310.3571911554,
          3514797.7245390387,
          5569267.8890581215,
          7592067.463299922,
          9540037.39294013,
          11371545.590132985,
          13047710.032752084,
          14533329.881437195,
          15797838.554105978,
          16816115.343394343,
          17569163.093823615,
          18044587.05624626,
          18236983.397194892,
          18148052.6544926,
          17786572.264981333,
          17168169.775984783,
          16314901.35085659,
          15254710.608658338,
          14020627.664621389,
          12649926.79481603,
          11183123.742230156,
          9662875.81204151,
          8132911.809924421,
          6636756.554982314,
          5216635.46259387,
          3912326.5479979515,
          2760095.5269320784,
          1791715.5255349646,
          1033660.4795979819,
          506332.2202462038,
          223565.72023421852,
          192252.5364902725
         ],
         "yaxis": "y2"
        }
       ],
       "layout": {
        "height": 400,
        "showlegend": false,
        "template": {
         "data": {
          "bar": [
           {
            "error_x": {
             "color": "#2a3f5f"
            },
            "error_y": {
             "color": "#2a3f5f"
            },
            "marker": {
             "line": {
              "color": "#E5ECF6",
              "width": 0.5
             },
             "pattern": {
              "fillmode": "overlay",
              "size": 10,
              "solidity": 0.2
             }
            },
            "type": "bar"
           }
          ],
          "barpolar": [
           {
            "marker": {
             "line": {
              "color": "#E5ECF6",
              "width": 0.5
             },
             "pattern": {
              "fillmode": "overlay",
              "size": 10,
              "solidity": 0.2
             }
            },
            "type": "barpolar"
           }
          ],
          "carpet": [
           {
            "aaxis": {
             "endlinecolor": "#2a3f5f",
             "gridcolor": "white",
             "linecolor": "white",
             "minorgridcolor": "white",
             "startlinecolor": "#2a3f5f"
            },
            "baxis": {
             "endlinecolor": "#2a3f5f",
             "gridcolor": "white",
             "linecolor": "white",
             "minorgridcolor": "white",
             "startlinecolor": "#2a3f5f"
            },
            "type": "carpet"
           }
          ],
          "choropleth": [
           {
            "colorbar": {
             "outlinewidth": 0,
             "ticks": ""
            },
            "type": "choropleth"
           }
          ],
          "contour": [
           {
            "colorbar": {
             "outlinewidth": 0,
             "ticks": ""
            },
            "colorscale": [
             [
              0,
              "#0d0887"
             ],
             [
              0.1111111111111111,
              "#46039f"
             ],
             [
              0.2222222222222222,
              "#7201a8"
             ],
             [
              0.3333333333333333,
              "#9c179e"
             ],
             [
              0.4444444444444444,
              "#bd3786"
             ],
             [
              0.5555555555555556,
              "#d8576b"
             ],
             [
              0.6666666666666666,
              "#ed7953"
             ],
             [
              0.7777777777777778,
              "#fb9f3a"
             ],
             [
              0.8888888888888888,
              "#fdca26"
             ],
             [
              1,
              "#f0f921"
             ]
            ],
            "type": "contour"
           }
          ],
          "contourcarpet": [
           {
            "colorbar": {
             "outlinewidth": 0,
             "ticks": ""
            },
            "type": "contourcarpet"
           }
          ],
          "heatmap": [
           {
            "colorbar": {
             "outlinewidth": 0,
             "ticks": ""
            },
            "colorscale": [
             [
              0,
              "#0d0887"
             ],
             [
              0.1111111111111111,
              "#46039f"
             ],
             [
              0.2222222222222222,
              "#7201a8"
             ],
             [
              0.3333333333333333,
              "#9c179e"
             ],
             [
              0.4444444444444444,
              "#bd3786"
             ],
             [
              0.5555555555555556,
              "#d8576b"
             ],
             [
              0.6666666666666666,
              "#ed7953"
             ],
             [
              0.7777777777777778,
              "#fb9f3a"
             ],
             [
              0.8888888888888888,
              "#fdca26"
             ],
             [
              1,
              "#f0f921"
             ]
            ],
            "type": "heatmap"
           }
          ],
          "heatmapgl": [
           {
            "colorbar": {
             "outlinewidth": 0,
             "ticks": ""
            },
            "colorscale": [
             [
              0,
              "#0d0887"
             ],
             [
              0.1111111111111111,
              "#46039f"
             ],
             [
              0.2222222222222222,
              "#7201a8"
             ],
             [
              0.3333333333333333,
              "#9c179e"
             ],
             [
              0.4444444444444444,
              "#bd3786"
             ],
             [
              0.5555555555555556,
              "#d8576b"
             ],
             [
              0.6666666666666666,
              "#ed7953"
             ],
             [
              0.7777777777777778,
              "#fb9f3a"
             ],
             [
              0.8888888888888888,
              "#fdca26"
             ],
             [
              1,
              "#f0f921"
             ]
            ],
            "type": "heatmapgl"
           }
          ],
          "histogram": [
           {
            "marker": {
             "pattern": {
              "fillmode": "overlay",
              "size": 10,
              "solidity": 0.2
             }
            },
            "type": "histogram"
           }
          ],
          "histogram2d": [
           {
            "colorbar": {
             "outlinewidth": 0,
             "ticks": ""
            },
            "colorscale": [
             [
              0,
              "#0d0887"
             ],
             [
              0.1111111111111111,
              "#46039f"
             ],
             [
              0.2222222222222222,
              "#7201a8"
             ],
             [
              0.3333333333333333,
              "#9c179e"
             ],
             [
              0.4444444444444444,
              "#bd3786"
             ],
             [
              0.5555555555555556,
              "#d8576b"
             ],
             [
              0.6666666666666666,
              "#ed7953"
             ],
             [
              0.7777777777777778,
              "#fb9f3a"
             ],
             [
              0.8888888888888888,
              "#fdca26"
             ],
             [
              1,
              "#f0f921"
             ]
            ],
            "type": "histogram2d"
           }
          ],
          "histogram2dcontour": [
           {
            "colorbar": {
             "outlinewidth": 0,
             "ticks": ""
            },
            "colorscale": [
             [
              0,
              "#0d0887"
             ],
             [
              0.1111111111111111,
              "#46039f"
             ],
             [
              0.2222222222222222,
              "#7201a8"
             ],
             [
              0.3333333333333333,
              "#9c179e"
             ],
             [
              0.4444444444444444,
              "#bd3786"
             ],
             [
              0.5555555555555556,
              "#d8576b"
             ],
             [
              0.6666666666666666,
              "#ed7953"
             ],
             [
              0.7777777777777778,
              "#fb9f3a"
             ],
             [
              0.8888888888888888,
              "#fdca26"
             ],
             [
              1,
              "#f0f921"
             ]
            ],
            "type": "histogram2dcontour"
           }
          ],
          "mesh3d": [
           {
            "colorbar": {
             "outlinewidth": 0,
             "ticks": ""
            },
            "type": "mesh3d"
           }
          ],
          "parcoords": [
           {
            "line": {
             "colorbar": {
              "outlinewidth": 0,
              "ticks": ""
             }
            },
            "type": "parcoords"
           }
          ],
          "pie": [
           {
            "automargin": true,
            "type": "pie"
           }
          ],
          "scatter": [
           {
            "fillpattern": {
             "fillmode": "overlay",
             "size": 10,
             "solidity": 0.2
            },
            "type": "scatter"
           }
          ],
          "scatter3d": [
           {
            "line": {
             "colorbar": {
              "outlinewidth": 0,
              "ticks": ""
             }
            },
            "marker": {
             "colorbar": {
              "outlinewidth": 0,
              "ticks": ""
             }
            },
            "type": "scatter3d"
           }
          ],
          "scattercarpet": [
           {
            "marker": {
             "colorbar": {
              "outlinewidth": 0,
              "ticks": ""
             }
            },
            "type": "scattercarpet"
           }
          ],
          "scattergeo": [
           {
            "marker": {
             "colorbar": {
              "outlinewidth": 0,
              "ticks": ""
             }
            },
            "type": "scattergeo"
           }
          ],
          "scattergl": [
           {
            "marker": {
             "colorbar": {
              "outlinewidth": 0,
              "ticks": ""
             }
            },
            "type": "scattergl"
           }
          ],
          "scattermapbox": [
           {
            "marker": {
             "colorbar": {
              "outlinewidth": 0,
              "ticks": ""
             }
            },
            "type": "scattermapbox"
           }
          ],
          "scatterpolar": [
           {
            "marker": {
             "colorbar": {
              "outlinewidth": 0,
              "ticks": ""
             }
            },
            "type": "scatterpolar"
           }
          ],
          "scatterpolargl": [
           {
            "marker": {
             "colorbar": {
              "outlinewidth": 0,
              "ticks": ""
             }
            },
            "type": "scatterpolargl"
           }
          ],
          "scatterternary": [
           {
            "marker": {
             "colorbar": {
              "outlinewidth": 0,
              "ticks": ""
             }
            },
            "type": "scatterternary"
           }
          ],
          "surface": [
           {
            "colorbar": {
             "outlinewidth": 0,
             "ticks": ""
            },
            "colorscale": [
             [
              0,
              "#0d0887"
             ],
             [
              0.1111111111111111,
              "#46039f"
             ],
             [
              0.2222222222222222,
              "#7201a8"
             ],
             [
              0.3333333333333333,
              "#9c179e"
             ],
             [
              0.4444444444444444,
              "#bd3786"
             ],
             [
              0.5555555555555556,
              "#d8576b"
             ],
             [
              0.6666666666666666,
              "#ed7953"
             ],
             [
              0.7777777777777778,
              "#fb9f3a"
             ],
             [
              0.8888888888888888,
              "#fdca26"
             ],
             [
              1,
              "#f0f921"
             ]
            ],
            "type": "surface"
           }
          ],
          "table": [
           {
            "cells": {
             "fill": {
              "color": "#EBF0F8"
             },
             "line": {
              "color": "white"
             }
            },
            "header": {
             "fill": {
              "color": "#C8D4E3"
             },
             "line": {
              "color": "white"
             }
            },
            "type": "table"
           }
          ]
         },
         "layout": {
          "annotationdefaults": {
           "arrowcolor": "#2a3f5f",
           "arrowhead": 0,
           "arrowwidth": 1
          },
          "autotypenumbers": "strict",
          "coloraxis": {
           "colorbar": {
            "outlinewidth": 0,
            "ticks": ""
           }
          },
          "colorscale": {
           "diverging": [
            [
             0,
             "#8e0152"
            ],
            [
             0.1,
             "#c51b7d"
            ],
            [
             0.2,
             "#de77ae"
            ],
            [
             0.3,
             "#f1b6da"
            ],
            [
             0.4,
             "#fde0ef"
            ],
            [
             0.5,
             "#f7f7f7"
            ],
            [
             0.6,
             "#e6f5d0"
            ],
            [
             0.7,
             "#b8e186"
            ],
            [
             0.8,
             "#7fbc41"
            ],
            [
             0.9,
             "#4d9221"
            ],
            [
             1,
             "#276419"
            ]
           ],
           "sequential": [
            [
             0,
             "#0d0887"
            ],
            [
             0.1111111111111111,
             "#46039f"
            ],
            [
             0.2222222222222222,
             "#7201a8"
            ],
            [
             0.3333333333333333,
             "#9c179e"
            ],
            [
             0.4444444444444444,
             "#bd3786"
            ],
            [
             0.5555555555555556,
             "#d8576b"
            ],
            [
             0.6666666666666666,
             "#ed7953"
            ],
            [
             0.7777777777777778,
             "#fb9f3a"
            ],
            [
             0.8888888888888888,
             "#fdca26"
            ],
            [
             1,
             "#f0f921"
            ]
           ],
           "sequentialminus": [
            [
             0,
             "#0d0887"
            ],
            [
             0.1111111111111111,
             "#46039f"
            ],
            [
             0.2222222222222222,
             "#7201a8"
            ],
            [
             0.3333333333333333,
             "#9c179e"
            ],
            [
             0.4444444444444444,
             "#bd3786"
            ],
            [
             0.5555555555555556,
             "#d8576b"
            ],
            [
             0.6666666666666666,
             "#ed7953"
            ],
            [
             0.7777777777777778,
             "#fb9f3a"
            ],
            [
             0.8888888888888888,
             "#fdca26"
            ],
            [
             1,
             "#f0f921"
            ]
           ]
          },
          "colorway": [
           "#636efa",
           "#EF553B",
           "#00cc96",
           "#ab63fa",
           "#FFA15A",
           "#19d3f3",
           "#FF6692",
           "#B6E880",
           "#FF97FF",
           "#FECB52"
          ],
          "font": {
           "color": "#2a3f5f"
          },
          "geo": {
           "bgcolor": "white",
           "lakecolor": "white",
           "landcolor": "#E5ECF6",
           "showlakes": true,
           "showland": true,
           "subunitcolor": "white"
          },
          "hoverlabel": {
           "align": "left"
          },
          "hovermode": "closest",
          "mapbox": {
           "style": "light"
          },
          "paper_bgcolor": "white",
          "plot_bgcolor": "#E5ECF6",
          "polar": {
           "angularaxis": {
            "gridcolor": "white",
            "linecolor": "white",
            "ticks": ""
           },
           "bgcolor": "#E5ECF6",
           "radialaxis": {
            "gridcolor": "white",
            "linecolor": "white",
            "ticks": ""
           }
          },
          "scene": {
           "xaxis": {
            "backgroundcolor": "#E5ECF6",
            "gridcolor": "white",
            "gridwidth": 2,
            "linecolor": "white",
            "showbackground": true,
            "ticks": "",
            "zerolinecolor": "white"
           },
           "yaxis": {
            "backgroundcolor": "#E5ECF6",
            "gridcolor": "white",
            "gridwidth": 2,
            "linecolor": "white",
            "showbackground": true,
            "ticks": "",
            "zerolinecolor": "white"
           },
           "zaxis": {
            "backgroundcolor": "#E5ECF6",
            "gridcolor": "white",
            "gridwidth": 2,
            "linecolor": "white",
            "showbackground": true,
            "ticks": "",
            "zerolinecolor": "white"
           }
          },
          "shapedefaults": {
           "line": {
            "color": "#2a3f5f"
           }
          },
          "ternary": {
           "aaxis": {
            "gridcolor": "white",
            "linecolor": "white",
            "ticks": ""
           },
           "baxis": {
            "gridcolor": "white",
            "linecolor": "white",
            "ticks": ""
           },
           "bgcolor": "#E5ECF6",
           "caxis": {
            "gridcolor": "white",
            "linecolor": "white",
            "ticks": ""
           }
          },
          "title": {
           "x": 0.05
          },
          "xaxis": {
           "automargin": true,
           "gridcolor": "white",
           "linecolor": "white",
           "ticks": "",
           "title": {
            "standoff": 15
           },
           "zerolinecolor": "white",
           "zerolinewidth": 2
          },
          "yaxis": {
           "automargin": true,
           "gridcolor": "white",
           "linecolor": "white",
           "ticks": "",
           "title": {
            "standoff": 15
           },
           "zerolinecolor": "white",
           "zerolinewidth": 2
          }
         }
        },
        "width": 900,
        "xaxis": {
         "anchor": "y",
         "domain": [
          0,
          1
         ],
         "range": [
          "1997-08-06T15:36:00",
          "2028-05-25T08:24:00"
         ],
         "type": "date"
        },
        "xaxis2": {
         "anchor": "y2",
         "domain": [
          0,
          1
         ],
         "range": [
          "2016-12-13T18:54:02.958904",
          "2018-01-18T11:04:57.863013"
         ],
         "tickformat": "%B %e",
         "type": "date"
        },
        "yaxis": {
         "anchor": "x",
         "domain": [
          0.575,
          1
         ],
         "rangemode": "normal",
         "title": {
          "text": "trend"
         },
         "zerolinecolor": "#AAA"
        },
        "yaxis2": {
         "anchor": "x2",
         "domain": [
          0,
          0.425
         ],
         "title": {
          "text": "yearly"
         },
         "zerolinecolor": "#AAA"
        }
       }
      }
     },
     "metadata": {},
     "output_type": "display_data"
    }
   ],
   "source": [
    "plot_components_plotly(m, forecast)"
   ]
  },
  {
   "cell_type": "markdown",
   "metadata": {},
   "source": [
    "- En la parte superior, se observa el comportamiento a largo plazo del modelo donde señala una tendencia ascendente. Es decir, el parque vehicular va en aumento.\n",
    "\n",
    "- En la parte inferior, se muestra la estacionalidad del modelo Esto tendría sentido en caso de tener los valores mensuales. Al no tener estos, se pueden ver dos picos claros: al principio y al final. Esto viene explicado por la tendencia que hemos comentado de aumento a través del tiempo."
   ]
  },
  {
   "cell_type": "code",
   "execution_count": 37,
   "metadata": {},
   "outputs": [],
   "source": [
    "predicciones = forecast[['ds', 'yhat']]\n",
    "predicciones.columns = ['fecha', 'predicciones']\n",
    "predicciones['year'] = predicciones['fecha'].dt.year\n",
    "predicciones = predicciones[['year', 'predicciones']]"
   ]
  },
  {
   "cell_type": "code",
   "execution_count": 38,
   "metadata": {},
   "outputs": [],
   "source": [
    "predicciones.to_csv('../../Datos/datos_predichos/df_parque_vehicular_predicciones.csv')"
   ]
  }
 ],
 "metadata": {
  "kernelspec": {
   "display_name": "Python 3",
   "language": "python",
   "name": "python3"
  },
  "language_info": {
   "codemirror_mode": {
    "name": "ipython",
    "version": 3
   },
   "file_extension": ".py",
   "mimetype": "text/x-python",
   "name": "python",
   "nbconvert_exporter": "python",
   "pygments_lexer": "ipython3",
   "version": "3.11.9"
  }
 },
 "nbformat": 4,
 "nbformat_minor": 2
}
