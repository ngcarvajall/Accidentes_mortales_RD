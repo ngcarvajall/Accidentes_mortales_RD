{
 "cells": [
  {
   "cell_type": "markdown",
   "metadata": {},
   "source": [
    "# Notebook #5: Series temporales: predicción a futuro del parque vehicular; Prophet"
   ]
  },
  {
   "cell_type": "code",
   "execution_count": 15,
   "metadata": {},
   "outputs": [
    {
     "name": "stdout",
     "output_type": "stream",
     "text": [
      "The autoreload extension is already loaded. To reload it, use:\n",
      "  %reload_ext autoreload\n"
     ]
    }
   ],
   "source": [
    "# Tratamiento de datos\n",
    "# -----------------------------------------------------------------------\n",
    "import pandas as pd\n",
    "from prophet import Prophet\n",
    "\n",
    "# Importar las clases\n",
    "# -----------------------------------------------------------------------\n",
    "import sys\n",
    "sys.path.append('../..')\n",
    "from src import soporte_temporales as st\n",
    "from src import soporte_sarima as ss\n",
    "from src import soporte_funciones_BBDD as sfbd\n",
    "from src import soporte_variables_vehiculos as svv\n",
    "\n",
    "# Modelo Series Temporales\n",
    "# -----------------------------------------------------------------------\n",
    "from statsmodels.tsa.statespace.sarimax import SARIMAX\n",
    "from statsmodels.tsa.arima.model import ARIMA\n",
    "\n",
    "\n",
    "\n",
    "# Visualizar las métricas de error en y_test\n",
    "from sklearn.metrics import mean_absolute_error, mean_squared_error, mean_absolute_percentage_error\n",
    "import numpy as np\n",
    "\n",
    "# Visualizaciones\n",
    "# -----------------------------------------------------------------------\n",
    "import seaborn as sns\n",
    "import matplotlib.pyplot as plt\n",
    "# Configuraciones\n",
    "# -----------------------------------------------------------------------\n",
    "pd.options.display.float_format = '{:.0f}'.format\n",
    "from itertools import product\n",
    "\n",
    "%load_ext autoreload\n",
    "%autoreload 2"
   ]
  },
  {
   "cell_type": "markdown",
   "metadata": {},
   "source": [
    "# Modelo Prophet"
   ]
  },
  {
   "cell_type": "code",
   "execution_count": 16,
   "metadata": {},
   "outputs": [],
   "source": [
    "df_autos_historicos = sfbd.dbeaver_fetch(sfbd.dbeaver_conexion(\"proyecto_final\"),svv.query_autos_historico)"
   ]
  },
  {
   "cell_type": "code",
   "execution_count": 17,
   "metadata": {},
   "outputs": [],
   "source": [
    "df_autos_historicos.columns = ['FECHA', 'Vehículos']\n",
    "df_autos_historicos['FECHA'] = pd.to_datetime(df_autos_historicos['FECHA'].astype(str) + '-12-31')"
   ]
  },
  {
   "cell_type": "code",
   "execution_count": 18,
   "metadata": {},
   "outputs": [],
   "source": [
    "df_autos_historicos.columns = ['ds', 'y']"
   ]
  },
  {
   "cell_type": "code",
   "execution_count": 19,
   "metadata": {},
   "outputs": [],
   "source": [
    "df_autos_historicos.set_index('ds', inplace=True)"
   ]
  },
  {
   "cell_type": "markdown",
   "metadata": {},
   "source": [
    "### Cálculo de baseline"
   ]
  },
  {
   "cell_type": "code",
   "execution_count": 20,
   "metadata": {},
   "outputs": [],
   "source": [
    "df_autos_historicos['prev'] = df_autos_historicos['y'].shift(1)\n",
    "df_autos_historicos['ape'] = (df_autos_historicos['prev'] - df_autos_historicos['y']).abs() / df_autos_historicos['y'].astype(float)"
   ]
  },
  {
   "cell_type": "code",
   "execution_count": 21,
   "metadata": {},
   "outputs": [],
   "source": [
    "train_size = int(0.7 * len(df_autos_historicos))\n",
    "y_train, y_test = df_autos_historicos[:train_size], df_autos_historicos[train_size:]"
   ]
  },
  {
   "cell_type": "code",
   "execution_count": 22,
   "metadata": {},
   "outputs": [
    {
     "data": {
      "text/plain": [
       "0.05756104366284033"
      ]
     },
     "execution_count": 22,
     "metadata": {},
     "output_type": "execute_result"
    }
   ],
   "source": [
    "y_test['ape'].mean()"
   ]
  },
  {
   "cell_type": "markdown",
   "metadata": {},
   "source": [
    "    - El MAPE ofrecido por como baseline es de 5.7%. Esto viene de tomar como referencia para la predicción del siguiente año, al año actual."
   ]
  },
  {
   "cell_type": "code",
   "execution_count": 23,
   "metadata": {},
   "outputs": [],
   "source": [
    "df_autos_historicos.drop(columns=['prev', 'ape'], inplace=True)\n",
    "y_train.drop(columns=['prev', 'ape'], inplace=True)\n",
    "y_test.drop(columns=['prev', 'ape'], inplace=True)"
   ]
  },
  {
   "cell_type": "code",
   "execution_count": 26,
   "metadata": {},
   "outputs": [],
   "source": [
    "df_autos_historicos.reset_index(inplace=True)"
   ]
  },
  {
   "cell_type": "code",
   "execution_count": 27,
   "metadata": {},
   "outputs": [
    {
     "name": "stderr",
     "output_type": "stream",
     "text": [
      "23:56:11 - cmdstanpy - INFO - Chain [1] start processing\n",
      "23:56:11 - cmdstanpy - INFO - Chain [1] done processing\n"
     ]
    },
    {
     "data": {
      "text/html": [
       "<div>\n",
       "<style scoped>\n",
       "    .dataframe tbody tr th:only-of-type {\n",
       "        vertical-align: middle;\n",
       "    }\n",
       "\n",
       "    .dataframe tbody tr th {\n",
       "        vertical-align: top;\n",
       "    }\n",
       "\n",
       "    .dataframe thead th {\n",
       "        text-align: right;\n",
       "    }\n",
       "</style>\n",
       "<table border=\"1\" class=\"dataframe\">\n",
       "  <thead>\n",
       "    <tr style=\"text-align: right;\">\n",
       "      <th></th>\n",
       "      <th>ds</th>\n",
       "      <th>trend</th>\n",
       "      <th>yhat_lower</th>\n",
       "      <th>yhat_upper</th>\n",
       "      <th>trend_lower</th>\n",
       "      <th>trend_upper</th>\n",
       "      <th>additive_terms</th>\n",
       "      <th>additive_terms_lower</th>\n",
       "      <th>additive_terms_upper</th>\n",
       "      <th>yearly</th>\n",
       "      <th>yearly_lower</th>\n",
       "      <th>yearly_upper</th>\n",
       "      <th>multiplicative_terms</th>\n",
       "      <th>multiplicative_terms_lower</th>\n",
       "      <th>multiplicative_terms_upper</th>\n",
       "      <th>yhat</th>\n",
       "    </tr>\n",
       "  </thead>\n",
       "  <tbody>\n",
       "    <tr>\n",
       "      <th>0</th>\n",
       "      <td>1998-12-31</td>\n",
       "      <td>662029</td>\n",
       "      <td>915530</td>\n",
       "      <td>1003755</td>\n",
       "      <td>662029</td>\n",
       "      <td>662029</td>\n",
       "      <td>297142</td>\n",
       "      <td>297142</td>\n",
       "      <td>297142</td>\n",
       "      <td>297142</td>\n",
       "      <td>297142</td>\n",
       "      <td>297142</td>\n",
       "      <td>0</td>\n",
       "      <td>0</td>\n",
       "      <td>0</td>\n",
       "      <td>959171</td>\n",
       "    </tr>\n",
       "    <tr>\n",
       "      <th>1</th>\n",
       "      <td>1999-12-31</td>\n",
       "      <td>811432</td>\n",
       "      <td>1077602</td>\n",
       "      <td>1171598</td>\n",
       "      <td>811432</td>\n",
       "      <td>811432</td>\n",
       "      <td>312234</td>\n",
       "      <td>312234</td>\n",
       "      <td>312234</td>\n",
       "      <td>312234</td>\n",
       "      <td>312234</td>\n",
       "      <td>312234</td>\n",
       "      <td>0</td>\n",
       "      <td>0</td>\n",
       "      <td>0</td>\n",
       "      <td>1123665</td>\n",
       "    </tr>\n",
       "    <tr>\n",
       "      <th>2</th>\n",
       "      <td>2000-12-31</td>\n",
       "      <td>961244</td>\n",
       "      <td>1223712</td>\n",
       "      <td>1310972</td>\n",
       "      <td>961244</td>\n",
       "      <td>961244</td>\n",
       "      <td>305977</td>\n",
       "      <td>305977</td>\n",
       "      <td>305977</td>\n",
       "      <td>305977</td>\n",
       "      <td>305977</td>\n",
       "      <td>305977</td>\n",
       "      <td>0</td>\n",
       "      <td>0</td>\n",
       "      <td>0</td>\n",
       "      <td>1267220</td>\n",
       "    </tr>\n",
       "    <tr>\n",
       "      <th>3</th>\n",
       "      <td>2001-12-31</td>\n",
       "      <td>1110558</td>\n",
       "      <td>1364230</td>\n",
       "      <td>1449816</td>\n",
       "      <td>1110558</td>\n",
       "      <td>1110558</td>\n",
       "      <td>295056</td>\n",
       "      <td>295056</td>\n",
       "      <td>295056</td>\n",
       "      <td>295056</td>\n",
       "      <td>295056</td>\n",
       "      <td>295056</td>\n",
       "      <td>0</td>\n",
       "      <td>0</td>\n",
       "      <td>0</td>\n",
       "      <td>1405614</td>\n",
       "    </tr>\n",
       "    <tr>\n",
       "      <th>4</th>\n",
       "      <td>2002-12-31</td>\n",
       "      <td>1237511</td>\n",
       "      <td>1488379</td>\n",
       "      <td>1579461</td>\n",
       "      <td>1237511</td>\n",
       "      <td>1237511</td>\n",
       "      <td>297142</td>\n",
       "      <td>297142</td>\n",
       "      <td>297142</td>\n",
       "      <td>297142</td>\n",
       "      <td>297142</td>\n",
       "      <td>297142</td>\n",
       "      <td>0</td>\n",
       "      <td>0</td>\n",
       "      <td>0</td>\n",
       "      <td>1534653</td>\n",
       "    </tr>\n",
       "    <tr>\n",
       "      <th>5</th>\n",
       "      <td>2003-12-31</td>\n",
       "      <td>1364241</td>\n",
       "      <td>1632630</td>\n",
       "      <td>1721100</td>\n",
       "      <td>1364241</td>\n",
       "      <td>1364241</td>\n",
       "      <td>312234</td>\n",
       "      <td>312234</td>\n",
       "      <td>312234</td>\n",
       "      <td>312234</td>\n",
       "      <td>312234</td>\n",
       "      <td>312234</td>\n",
       "      <td>0</td>\n",
       "      <td>0</td>\n",
       "      <td>0</td>\n",
       "      <td>1676475</td>\n",
       "    </tr>\n",
       "    <tr>\n",
       "      <th>6</th>\n",
       "      <td>2004-12-31</td>\n",
       "      <td>1491318</td>\n",
       "      <td>1751598</td>\n",
       "      <td>1844088</td>\n",
       "      <td>1491318</td>\n",
       "      <td>1491318</td>\n",
       "      <td>305977</td>\n",
       "      <td>305977</td>\n",
       "      <td>305977</td>\n",
       "      <td>305977</td>\n",
       "      <td>305977</td>\n",
       "      <td>305977</td>\n",
       "      <td>0</td>\n",
       "      <td>0</td>\n",
       "      <td>0</td>\n",
       "      <td>1797295</td>\n",
       "    </tr>\n",
       "    <tr>\n",
       "      <th>7</th>\n",
       "      <td>2005-12-31</td>\n",
       "      <td>1618048</td>\n",
       "      <td>1869598</td>\n",
       "      <td>1960391</td>\n",
       "      <td>1618048</td>\n",
       "      <td>1618048</td>\n",
       "      <td>295056</td>\n",
       "      <td>295056</td>\n",
       "      <td>295056</td>\n",
       "      <td>295056</td>\n",
       "      <td>295056</td>\n",
       "      <td>295056</td>\n",
       "      <td>0</td>\n",
       "      <td>0</td>\n",
       "      <td>0</td>\n",
       "      <td>1913104</td>\n",
       "    </tr>\n",
       "    <tr>\n",
       "      <th>8</th>\n",
       "      <td>2006-12-31</td>\n",
       "      <td>1744804</td>\n",
       "      <td>1994830</td>\n",
       "      <td>2088007</td>\n",
       "      <td>1744804</td>\n",
       "      <td>1744804</td>\n",
       "      <td>297142</td>\n",
       "      <td>297142</td>\n",
       "      <td>297142</td>\n",
       "      <td>297142</td>\n",
       "      <td>297142</td>\n",
       "      <td>297142</td>\n",
       "      <td>0</td>\n",
       "      <td>0</td>\n",
       "      <td>0</td>\n",
       "      <td>2041946</td>\n",
       "    </tr>\n",
       "    <tr>\n",
       "      <th>9</th>\n",
       "      <td>2007-12-31</td>\n",
       "      <td>1914753</td>\n",
       "      <td>2184819</td>\n",
       "      <td>2275585</td>\n",
       "      <td>1914753</td>\n",
       "      <td>1914753</td>\n",
       "      <td>312234</td>\n",
       "      <td>312234</td>\n",
       "      <td>312234</td>\n",
       "      <td>312234</td>\n",
       "      <td>312234</td>\n",
       "      <td>312234</td>\n",
       "      <td>0</td>\n",
       "      <td>0</td>\n",
       "      <td>0</td>\n",
       "      <td>2226987</td>\n",
       "    </tr>\n",
       "    <tr>\n",
       "      <th>10</th>\n",
       "      <td>2008-12-31</td>\n",
       "      <td>2085168</td>\n",
       "      <td>2345895</td>\n",
       "      <td>2435885</td>\n",
       "      <td>2085168</td>\n",
       "      <td>2085168</td>\n",
       "      <td>305977</td>\n",
       "      <td>305977</td>\n",
       "      <td>305977</td>\n",
       "      <td>305977</td>\n",
       "      <td>305977</td>\n",
       "      <td>305977</td>\n",
       "      <td>0</td>\n",
       "      <td>0</td>\n",
       "      <td>0</td>\n",
       "      <td>2391145</td>\n",
       "    </tr>\n",
       "    <tr>\n",
       "      <th>11</th>\n",
       "      <td>2009-12-31</td>\n",
       "      <td>2255118</td>\n",
       "      <td>2505799</td>\n",
       "      <td>2594131</td>\n",
       "      <td>2255118</td>\n",
       "      <td>2255118</td>\n",
       "      <td>295056</td>\n",
       "      <td>295056</td>\n",
       "      <td>295056</td>\n",
       "      <td>295056</td>\n",
       "      <td>295056</td>\n",
       "      <td>295056</td>\n",
       "      <td>0</td>\n",
       "      <td>0</td>\n",
       "      <td>0</td>\n",
       "      <td>2550174</td>\n",
       "    </tr>\n",
       "    <tr>\n",
       "      <th>12</th>\n",
       "      <td>2010-12-31</td>\n",
       "      <td>2425068</td>\n",
       "      <td>2674595</td>\n",
       "      <td>2765824</td>\n",
       "      <td>2425068</td>\n",
       "      <td>2425068</td>\n",
       "      <td>297142</td>\n",
       "      <td>297142</td>\n",
       "      <td>297142</td>\n",
       "      <td>297142</td>\n",
       "      <td>297142</td>\n",
       "      <td>297142</td>\n",
       "      <td>0</td>\n",
       "      <td>0</td>\n",
       "      <td>0</td>\n",
       "      <td>2722210</td>\n",
       "    </tr>\n",
       "    <tr>\n",
       "      <th>13</th>\n",
       "      <td>2011-12-31</td>\n",
       "      <td>2595017</td>\n",
       "      <td>2865792</td>\n",
       "      <td>2957278</td>\n",
       "      <td>2595017</td>\n",
       "      <td>2595017</td>\n",
       "      <td>312234</td>\n",
       "      <td>312234</td>\n",
       "      <td>312234</td>\n",
       "      <td>312234</td>\n",
       "      <td>312234</td>\n",
       "      <td>312234</td>\n",
       "      <td>0</td>\n",
       "      <td>0</td>\n",
       "      <td>0</td>\n",
       "      <td>2907251</td>\n",
       "    </tr>\n",
       "    <tr>\n",
       "      <th>14</th>\n",
       "      <td>2012-12-31</td>\n",
       "      <td>2765433</td>\n",
       "      <td>3025191</td>\n",
       "      <td>3117573</td>\n",
       "      <td>2765433</td>\n",
       "      <td>2765433</td>\n",
       "      <td>305977</td>\n",
       "      <td>305977</td>\n",
       "      <td>305977</td>\n",
       "      <td>305977</td>\n",
       "      <td>305977</td>\n",
       "      <td>305977</td>\n",
       "      <td>0</td>\n",
       "      <td>0</td>\n",
       "      <td>0</td>\n",
       "      <td>3071409</td>\n",
       "    </tr>\n",
       "    <tr>\n",
       "      <th>15</th>\n",
       "      <td>2013-12-31</td>\n",
       "      <td>2935397</td>\n",
       "      <td>3183054</td>\n",
       "      <td>3275754</td>\n",
       "      <td>2935397</td>\n",
       "      <td>2935397</td>\n",
       "      <td>295056</td>\n",
       "      <td>295056</td>\n",
       "      <td>295056</td>\n",
       "      <td>295056</td>\n",
       "      <td>295056</td>\n",
       "      <td>295056</td>\n",
       "      <td>0</td>\n",
       "      <td>0</td>\n",
       "      <td>0</td>\n",
       "      <td>3230453</td>\n",
       "    </tr>\n",
       "    <tr>\n",
       "      <th>16</th>\n",
       "      <td>2014-12-31</td>\n",
       "      <td>3105463</td>\n",
       "      <td>3359250</td>\n",
       "      <td>3448779</td>\n",
       "      <td>3105463</td>\n",
       "      <td>3105463</td>\n",
       "      <td>297142</td>\n",
       "      <td>297142</td>\n",
       "      <td>297142</td>\n",
       "      <td>297142</td>\n",
       "      <td>297142</td>\n",
       "      <td>297142</td>\n",
       "      <td>0</td>\n",
       "      <td>0</td>\n",
       "      <td>0</td>\n",
       "      <td>3402605</td>\n",
       "    </tr>\n",
       "    <tr>\n",
       "      <th>17</th>\n",
       "      <td>2015-12-31</td>\n",
       "      <td>3309005</td>\n",
       "      <td>3574652</td>\n",
       "      <td>3666801</td>\n",
       "      <td>3309005</td>\n",
       "      <td>3309005</td>\n",
       "      <td>312234</td>\n",
       "      <td>312234</td>\n",
       "      <td>312234</td>\n",
       "      <td>312234</td>\n",
       "      <td>312234</td>\n",
       "      <td>312234</td>\n",
       "      <td>0</td>\n",
       "      <td>0</td>\n",
       "      <td>0</td>\n",
       "      <td>3621239</td>\n",
       "    </tr>\n",
       "    <tr>\n",
       "      <th>18</th>\n",
       "      <td>2016-12-31</td>\n",
       "      <td>3545773</td>\n",
       "      <td>3805616</td>\n",
       "      <td>3898549</td>\n",
       "      <td>3545773</td>\n",
       "      <td>3545773</td>\n",
       "      <td>305977</td>\n",
       "      <td>305977</td>\n",
       "      <td>305977</td>\n",
       "      <td>305977</td>\n",
       "      <td>305977</td>\n",
       "      <td>305977</td>\n",
       "      <td>0</td>\n",
       "      <td>0</td>\n",
       "      <td>0</td>\n",
       "      <td>3851750</td>\n",
       "    </tr>\n",
       "    <tr>\n",
       "      <th>19</th>\n",
       "      <td>2017-12-31</td>\n",
       "      <td>3782020</td>\n",
       "      <td>4032387</td>\n",
       "      <td>4123829</td>\n",
       "      <td>3782020</td>\n",
       "      <td>3782020</td>\n",
       "      <td>295056</td>\n",
       "      <td>295056</td>\n",
       "      <td>295056</td>\n",
       "      <td>295056</td>\n",
       "      <td>295056</td>\n",
       "      <td>295056</td>\n",
       "      <td>0</td>\n",
       "      <td>0</td>\n",
       "      <td>0</td>\n",
       "      <td>4077076</td>\n",
       "    </tr>\n",
       "    <tr>\n",
       "      <th>20</th>\n",
       "      <td>2018-12-31</td>\n",
       "      <td>4018273</td>\n",
       "      <td>4269409</td>\n",
       "      <td>4360259</td>\n",
       "      <td>4018273</td>\n",
       "      <td>4018273</td>\n",
       "      <td>297142</td>\n",
       "      <td>297142</td>\n",
       "      <td>297142</td>\n",
       "      <td>297142</td>\n",
       "      <td>297142</td>\n",
       "      <td>297142</td>\n",
       "      <td>0</td>\n",
       "      <td>0</td>\n",
       "      <td>0</td>\n",
       "      <td>4315415</td>\n",
       "    </tr>\n",
       "    <tr>\n",
       "      <th>21</th>\n",
       "      <td>2019-12-31</td>\n",
       "      <td>4312188</td>\n",
       "      <td>4578474</td>\n",
       "      <td>4668296</td>\n",
       "      <td>4312188</td>\n",
       "      <td>4312188</td>\n",
       "      <td>312234</td>\n",
       "      <td>312234</td>\n",
       "      <td>312234</td>\n",
       "      <td>312234</td>\n",
       "      <td>312234</td>\n",
       "      <td>312234</td>\n",
       "      <td>0</td>\n",
       "      <td>0</td>\n",
       "      <td>0</td>\n",
       "      <td>4624422</td>\n",
       "    </tr>\n",
       "    <tr>\n",
       "      <th>22</th>\n",
       "      <td>2020-12-31</td>\n",
       "      <td>4606909</td>\n",
       "      <td>4867458</td>\n",
       "      <td>4957180</td>\n",
       "      <td>4606909</td>\n",
       "      <td>4606909</td>\n",
       "      <td>305977</td>\n",
       "      <td>305977</td>\n",
       "      <td>305977</td>\n",
       "      <td>305977</td>\n",
       "      <td>305977</td>\n",
       "      <td>305977</td>\n",
       "      <td>0</td>\n",
       "      <td>0</td>\n",
       "      <td>0</td>\n",
       "      <td>4912885</td>\n",
       "    </tr>\n",
       "    <tr>\n",
       "      <th>23</th>\n",
       "      <td>2021-12-31</td>\n",
       "      <td>4900824</td>\n",
       "      <td>5146756</td>\n",
       "      <td>5242938</td>\n",
       "      <td>4900824</td>\n",
       "      <td>4900824</td>\n",
       "      <td>295056</td>\n",
       "      <td>295056</td>\n",
       "      <td>295056</td>\n",
       "      <td>295056</td>\n",
       "      <td>295056</td>\n",
       "      <td>295056</td>\n",
       "      <td>0</td>\n",
       "      <td>0</td>\n",
       "      <td>0</td>\n",
       "      <td>5195880</td>\n",
       "    </tr>\n",
       "    <tr>\n",
       "      <th>24</th>\n",
       "      <td>2022-12-31</td>\n",
       "      <td>5194739</td>\n",
       "      <td>5444440</td>\n",
       "      <td>5534483</td>\n",
       "      <td>5194739</td>\n",
       "      <td>5194739</td>\n",
       "      <td>297142</td>\n",
       "      <td>297142</td>\n",
       "      <td>297142</td>\n",
       "      <td>297142</td>\n",
       "      <td>297142</td>\n",
       "      <td>297142</td>\n",
       "      <td>0</td>\n",
       "      <td>0</td>\n",
       "      <td>0</td>\n",
       "      <td>5491881</td>\n",
       "    </tr>\n",
       "    <tr>\n",
       "      <th>25</th>\n",
       "      <td>2023-12-31</td>\n",
       "      <td>5488655</td>\n",
       "      <td>5753883</td>\n",
       "      <td>5846170</td>\n",
       "      <td>5488655</td>\n",
       "      <td>5488655</td>\n",
       "      <td>312234</td>\n",
       "      <td>312234</td>\n",
       "      <td>312234</td>\n",
       "      <td>312234</td>\n",
       "      <td>312234</td>\n",
       "      <td>312234</td>\n",
       "      <td>0</td>\n",
       "      <td>0</td>\n",
       "      <td>0</td>\n",
       "      <td>5800888</td>\n",
       "    </tr>\n",
       "    <tr>\n",
       "      <th>26</th>\n",
       "      <td>2024-12-31</td>\n",
       "      <td>5783375</td>\n",
       "      <td>6041265</td>\n",
       "      <td>6135534</td>\n",
       "      <td>5783375</td>\n",
       "      <td>5783375</td>\n",
       "      <td>305977</td>\n",
       "      <td>305977</td>\n",
       "      <td>305977</td>\n",
       "      <td>305977</td>\n",
       "      <td>305977</td>\n",
       "      <td>305977</td>\n",
       "      <td>0</td>\n",
       "      <td>0</td>\n",
       "      <td>0</td>\n",
       "      <td>6089352</td>\n",
       "    </tr>\n",
       "    <tr>\n",
       "      <th>27</th>\n",
       "      <td>2025-12-31</td>\n",
       "      <td>6077291</td>\n",
       "      <td>6323619</td>\n",
       "      <td>6414396</td>\n",
       "      <td>6071118</td>\n",
       "      <td>6083646</td>\n",
       "      <td>295056</td>\n",
       "      <td>295056</td>\n",
       "      <td>295056</td>\n",
       "      <td>295056</td>\n",
       "      <td>295056</td>\n",
       "      <td>295056</td>\n",
       "      <td>0</td>\n",
       "      <td>0</td>\n",
       "      <td>0</td>\n",
       "      <td>6372347</td>\n",
       "    </tr>\n",
       "    <tr>\n",
       "      <th>28</th>\n",
       "      <td>2026-12-31</td>\n",
       "      <td>6371206</td>\n",
       "      <td>6619541</td>\n",
       "      <td>6721804</td>\n",
       "      <td>6351861</td>\n",
       "      <td>6393533</td>\n",
       "      <td>297142</td>\n",
       "      <td>297142</td>\n",
       "      <td>297142</td>\n",
       "      <td>297142</td>\n",
       "      <td>297142</td>\n",
       "      <td>297142</td>\n",
       "      <td>0</td>\n",
       "      <td>0</td>\n",
       "      <td>0</td>\n",
       "      <td>6668348</td>\n",
       "    </tr>\n",
       "  </tbody>\n",
       "</table>\n",
       "</div>"
      ],
      "text/plain": [
       "           ds   trend  yhat_lower  yhat_upper  trend_lower  trend_upper  \\\n",
       "0  1998-12-31  662029      915530     1003755       662029       662029   \n",
       "1  1999-12-31  811432     1077602     1171598       811432       811432   \n",
       "2  2000-12-31  961244     1223712     1310972       961244       961244   \n",
       "3  2001-12-31 1110558     1364230     1449816      1110558      1110558   \n",
       "4  2002-12-31 1237511     1488379     1579461      1237511      1237511   \n",
       "5  2003-12-31 1364241     1632630     1721100      1364241      1364241   \n",
       "6  2004-12-31 1491318     1751598     1844088      1491318      1491318   \n",
       "7  2005-12-31 1618048     1869598     1960391      1618048      1618048   \n",
       "8  2006-12-31 1744804     1994830     2088007      1744804      1744804   \n",
       "9  2007-12-31 1914753     2184819     2275585      1914753      1914753   \n",
       "10 2008-12-31 2085168     2345895     2435885      2085168      2085168   \n",
       "11 2009-12-31 2255118     2505799     2594131      2255118      2255118   \n",
       "12 2010-12-31 2425068     2674595     2765824      2425068      2425068   \n",
       "13 2011-12-31 2595017     2865792     2957278      2595017      2595017   \n",
       "14 2012-12-31 2765433     3025191     3117573      2765433      2765433   \n",
       "15 2013-12-31 2935397     3183054     3275754      2935397      2935397   \n",
       "16 2014-12-31 3105463     3359250     3448779      3105463      3105463   \n",
       "17 2015-12-31 3309005     3574652     3666801      3309005      3309005   \n",
       "18 2016-12-31 3545773     3805616     3898549      3545773      3545773   \n",
       "19 2017-12-31 3782020     4032387     4123829      3782020      3782020   \n",
       "20 2018-12-31 4018273     4269409     4360259      4018273      4018273   \n",
       "21 2019-12-31 4312188     4578474     4668296      4312188      4312188   \n",
       "22 2020-12-31 4606909     4867458     4957180      4606909      4606909   \n",
       "23 2021-12-31 4900824     5146756     5242938      4900824      4900824   \n",
       "24 2022-12-31 5194739     5444440     5534483      5194739      5194739   \n",
       "25 2023-12-31 5488655     5753883     5846170      5488655      5488655   \n",
       "26 2024-12-31 5783375     6041265     6135534      5783375      5783375   \n",
       "27 2025-12-31 6077291     6323619     6414396      6071118      6083646   \n",
       "28 2026-12-31 6371206     6619541     6721804      6351861      6393533   \n",
       "\n",
       "    additive_terms  additive_terms_lower  additive_terms_upper  yearly  \\\n",
       "0           297142                297142                297142  297142   \n",
       "1           312234                312234                312234  312234   \n",
       "2           305977                305977                305977  305977   \n",
       "3           295056                295056                295056  295056   \n",
       "4           297142                297142                297142  297142   \n",
       "5           312234                312234                312234  312234   \n",
       "6           305977                305977                305977  305977   \n",
       "7           295056                295056                295056  295056   \n",
       "8           297142                297142                297142  297142   \n",
       "9           312234                312234                312234  312234   \n",
       "10          305977                305977                305977  305977   \n",
       "11          295056                295056                295056  295056   \n",
       "12          297142                297142                297142  297142   \n",
       "13          312234                312234                312234  312234   \n",
       "14          305977                305977                305977  305977   \n",
       "15          295056                295056                295056  295056   \n",
       "16          297142                297142                297142  297142   \n",
       "17          312234                312234                312234  312234   \n",
       "18          305977                305977                305977  305977   \n",
       "19          295056                295056                295056  295056   \n",
       "20          297142                297142                297142  297142   \n",
       "21          312234                312234                312234  312234   \n",
       "22          305977                305977                305977  305977   \n",
       "23          295056                295056                295056  295056   \n",
       "24          297142                297142                297142  297142   \n",
       "25          312234                312234                312234  312234   \n",
       "26          305977                305977                305977  305977   \n",
       "27          295056                295056                295056  295056   \n",
       "28          297142                297142                297142  297142   \n",
       "\n",
       "    yearly_lower  yearly_upper  multiplicative_terms  \\\n",
       "0         297142        297142                     0   \n",
       "1         312234        312234                     0   \n",
       "2         305977        305977                     0   \n",
       "3         295056        295056                     0   \n",
       "4         297142        297142                     0   \n",
       "5         312234        312234                     0   \n",
       "6         305977        305977                     0   \n",
       "7         295056        295056                     0   \n",
       "8         297142        297142                     0   \n",
       "9         312234        312234                     0   \n",
       "10        305977        305977                     0   \n",
       "11        295056        295056                     0   \n",
       "12        297142        297142                     0   \n",
       "13        312234        312234                     0   \n",
       "14        305977        305977                     0   \n",
       "15        295056        295056                     0   \n",
       "16        297142        297142                     0   \n",
       "17        312234        312234                     0   \n",
       "18        305977        305977                     0   \n",
       "19        295056        295056                     0   \n",
       "20        297142        297142                     0   \n",
       "21        312234        312234                     0   \n",
       "22        305977        305977                     0   \n",
       "23        295056        295056                     0   \n",
       "24        297142        297142                     0   \n",
       "25        312234        312234                     0   \n",
       "26        305977        305977                     0   \n",
       "27        295056        295056                     0   \n",
       "28        297142        297142                     0   \n",
       "\n",
       "    multiplicative_terms_lower  multiplicative_terms_upper    yhat  \n",
       "0                            0                           0  959171  \n",
       "1                            0                           0 1123665  \n",
       "2                            0                           0 1267220  \n",
       "3                            0                           0 1405614  \n",
       "4                            0                           0 1534653  \n",
       "5                            0                           0 1676475  \n",
       "6                            0                           0 1797295  \n",
       "7                            0                           0 1913104  \n",
       "8                            0                           0 2041946  \n",
       "9                            0                           0 2226987  \n",
       "10                           0                           0 2391145  \n",
       "11                           0                           0 2550174  \n",
       "12                           0                           0 2722210  \n",
       "13                           0                           0 2907251  \n",
       "14                           0                           0 3071409  \n",
       "15                           0                           0 3230453  \n",
       "16                           0                           0 3402605  \n",
       "17                           0                           0 3621239  \n",
       "18                           0                           0 3851750  \n",
       "19                           0                           0 4077076  \n",
       "20                           0                           0 4315415  \n",
       "21                           0                           0 4624422  \n",
       "22                           0                           0 4912885  \n",
       "23                           0                           0 5195880  \n",
       "24                           0                           0 5491881  \n",
       "25                           0                           0 5800888  \n",
       "26                           0                           0 6089352  \n",
       "27                           0                           0 6372347  \n",
       "28                           0                           0 6668348  "
      ]
     },
     "execution_count": 27,
     "metadata": {},
     "output_type": "execute_result"
    }
   ],
   "source": [
    "m = Prophet()\n",
    "m.fit(df_autos_historicos)  # df is a pandas.DataFrame with 'y' and 'ds' columns\n",
    "future = m.make_future_dataframe(periods=2, freq='Y') \n",
    "m.predict(future)"
   ]
  },
  {
   "cell_type": "code",
   "execution_count": 28,
   "metadata": {},
   "outputs": [
    {
     "data": {
      "text/html": [
       "<div>\n",
       "<style scoped>\n",
       "    .dataframe tbody tr th:only-of-type {\n",
       "        vertical-align: middle;\n",
       "    }\n",
       "\n",
       "    .dataframe tbody tr th {\n",
       "        vertical-align: top;\n",
       "    }\n",
       "\n",
       "    .dataframe thead th {\n",
       "        text-align: right;\n",
       "    }\n",
       "</style>\n",
       "<table border=\"1\" class=\"dataframe\">\n",
       "  <thead>\n",
       "    <tr style=\"text-align: right;\">\n",
       "      <th></th>\n",
       "      <th>ds</th>\n",
       "      <th>yhat</th>\n",
       "      <th>yhat_lower</th>\n",
       "      <th>yhat_upper</th>\n",
       "    </tr>\n",
       "  </thead>\n",
       "  <tbody>\n",
       "    <tr>\n",
       "      <th>24</th>\n",
       "      <td>2022-12-31</td>\n",
       "      <td>5491881</td>\n",
       "      <td>5447460</td>\n",
       "      <td>5538619</td>\n",
       "    </tr>\n",
       "    <tr>\n",
       "      <th>25</th>\n",
       "      <td>2023-12-31</td>\n",
       "      <td>5800888</td>\n",
       "      <td>5756473</td>\n",
       "      <td>5846841</td>\n",
       "    </tr>\n",
       "    <tr>\n",
       "      <th>26</th>\n",
       "      <td>2024-12-31</td>\n",
       "      <td>6089352</td>\n",
       "      <td>6044537</td>\n",
       "      <td>6136598</td>\n",
       "    </tr>\n",
       "    <tr>\n",
       "      <th>27</th>\n",
       "      <td>2025-12-31</td>\n",
       "      <td>6372347</td>\n",
       "      <td>6324662</td>\n",
       "      <td>6415923</td>\n",
       "    </tr>\n",
       "    <tr>\n",
       "      <th>28</th>\n",
       "      <td>2026-12-31</td>\n",
       "      <td>6668348</td>\n",
       "      <td>6619527</td>\n",
       "      <td>6723046</td>\n",
       "    </tr>\n",
       "  </tbody>\n",
       "</table>\n",
       "</div>"
      ],
      "text/plain": [
       "           ds    yhat  yhat_lower  yhat_upper\n",
       "24 2022-12-31 5491881     5447460     5538619\n",
       "25 2023-12-31 5800888     5756473     5846841\n",
       "26 2024-12-31 6089352     6044537     6136598\n",
       "27 2025-12-31 6372347     6324662     6415923\n",
       "28 2026-12-31 6668348     6619527     6723046"
      ]
     },
     "execution_count": 28,
     "metadata": {},
     "output_type": "execute_result"
    }
   ],
   "source": [
    "forecast = m.predict(future)\n",
    "forecast[['ds', 'yhat', 'yhat_lower', 'yhat_upper']].tail()"
   ]
  },
  {
   "cell_type": "code",
   "execution_count": 29,
   "metadata": {},
   "outputs": [
    {
     "data": {
      "text/html": [
       "<div>\n",
       "<style scoped>\n",
       "    .dataframe tbody tr th:only-of-type {\n",
       "        vertical-align: middle;\n",
       "    }\n",
       "\n",
       "    .dataframe tbody tr th {\n",
       "        vertical-align: top;\n",
       "    }\n",
       "\n",
       "    .dataframe thead th {\n",
       "        text-align: right;\n",
       "    }\n",
       "</style>\n",
       "<table border=\"1\" class=\"dataframe\">\n",
       "  <thead>\n",
       "    <tr style=\"text-align: right;\">\n",
       "      <th></th>\n",
       "      <th>ds</th>\n",
       "      <th>yhat</th>\n",
       "      <th>yhat_lower</th>\n",
       "      <th>yhat_upper</th>\n",
       "      <th>autos</th>\n",
       "    </tr>\n",
       "  </thead>\n",
       "  <tbody>\n",
       "    <tr>\n",
       "      <th>22</th>\n",
       "      <td>2020-12-31</td>\n",
       "      <td>4912885</td>\n",
       "      <td>4864426</td>\n",
       "      <td>4960970</td>\n",
       "      <td>4842367</td>\n",
       "    </tr>\n",
       "    <tr>\n",
       "      <th>23</th>\n",
       "      <td>2021-12-31</td>\n",
       "      <td>5195880</td>\n",
       "      <td>5150854</td>\n",
       "      <td>5243394</td>\n",
       "      <td>5152448</td>\n",
       "    </tr>\n",
       "    <tr>\n",
       "      <th>24</th>\n",
       "      <td>2022-12-31</td>\n",
       "      <td>5491881</td>\n",
       "      <td>5447460</td>\n",
       "      <td>5538619</td>\n",
       "      <td>5463996</td>\n",
       "    </tr>\n",
       "    <tr>\n",
       "      <th>25</th>\n",
       "      <td>2023-12-31</td>\n",
       "      <td>5800888</td>\n",
       "      <td>5756473</td>\n",
       "      <td>5846841</td>\n",
       "      <td>5810888</td>\n",
       "    </tr>\n",
       "    <tr>\n",
       "      <th>26</th>\n",
       "      <td>2024-12-31</td>\n",
       "      <td>6089352</td>\n",
       "      <td>6044537</td>\n",
       "      <td>6136598</td>\n",
       "      <td>6160988</td>\n",
       "    </tr>\n",
       "  </tbody>\n",
       "</table>\n",
       "</div>"
      ],
      "text/plain": [
       "           ds    yhat  yhat_lower  yhat_upper   autos\n",
       "22 2020-12-31 4912885     4864426     4960970 4842367\n",
       "23 2021-12-31 5195880     5150854     5243394 5152448\n",
       "24 2022-12-31 5491881     5447460     5538619 5463996\n",
       "25 2023-12-31 5800888     5756473     5846841 5810888\n",
       "26 2024-12-31 6089352     6044537     6136598 6160988"
      ]
     },
     "execution_count": 29,
     "metadata": {},
     "output_type": "execute_result"
    }
   ],
   "source": [
    "df = forecast[['ds', 'yhat', 'yhat_lower', 'yhat_upper']]\n",
    "df['autos'] = df_autos_historicos['y']\n",
    "df = df[df['autos'].notnull() & df['yhat'].notnull()]\n",
    "df.tail(5)"
   ]
  },
  {
   "cell_type": "code",
   "execution_count": 36,
   "metadata": {},
   "outputs": [
    {
     "data": {
      "image/png": "[encoded data removed]",
      "text/plain": [
       "<Figure size 1400x700 with 1 Axes>"
      ]
     },
     "metadata": {},
     "output_type": "display_data"
    }
   ],
   "source": [
    "plt.figure(figsize=(14, 7))\n",
    "sns.lineplot(data=df[1:], x=\"ds\", y=\"autos\", label=\"Valores Reales\", color=\"blue\", linewidth=2) # valores reales\n",
    "sns.lineplot(data=df[1:], x=\"ds\", y=\"yhat\", label=\"Predicciones PROPHET\", color=\"red\", linestyle=\"--\", linewidth=2) # predicciones\n",
    "plt.title(\"Comparación de Predicciones vs Valores Reales en Parque Vehicular\", fontsize=16)\n",
    "plt.ylabel(\"Vehículos\", fontsize=14)\n",
    "plt.legend(fontsize=12)\n",
    "plt.grid(True, linestyle=\"--\", alpha=0.6) # formato cuadriculado\n",
    "plt.tight_layout()\n",
    "plt.show()"
   ]
  },
  {
   "cell_type": "code",
   "execution_count": 31,
   "metadata": {},
   "outputs": [
    {
     "name": "stdout",
     "output_type": "stream",
     "text": [
      "MAE: 27953.415849852558\n",
      "MAPE: 1.20%\n",
      "RMSE: 35695.90172282073\n"
     ]
    }
   ],
   "source": [
    "# Seleccionar las columnas relevantes\n",
    "y_real = df['autos']\n",
    "y_pred = df['yhat']\n",
    "\n",
    "# Cálculo de MAE\n",
    "mae = mean_absolute_error(y_real, y_pred)\n",
    "mape = mean_absolute_percentage_error(y_real, y_pred)\n",
    "rmse = np.sqrt(mean_squared_error(y_real, y_pred))\n",
    "\n",
    "# Imprimir los resultados\n",
    "print(f\"MAE: {mae}\")\n",
    "print(f\"MAPE: {mape * 100:.2f}%\")\n",
    "print(f\"RMSE: {rmse}\")"
   ]
  },
  {
   "cell_type": "markdown",
   "metadata": {},
   "source": [
    "    - Se puede evidenciar un modelo mucho más ajustado, con resultados más reducidos y que de igual forma siguen el patrón de la serie de datos."
   ]
  },
  {
   "cell_type": "code",
   "execution_count": 32,
   "metadata": {},
   "outputs": [
    {
     "data": {
      "application/vnd.plotly.v1+json": {
       "config": {
        "plotlyServerURL": "https://plot.ly"
       },
       "data": [
        {
         "marker": {
          "color": "black",
          "size": 4
         },
         "mode": "markers",
         "name": "Actual",
         "type": "scatter",
         "x": [
          "1998-12-31T00:00:00",
          "1999-12-31T00:00:00",
          "2000-12-31T00:00:00",
          "2001-12-31T00:00:00",
          "2002-12-31T00:00:00",
          "2003-12-31T00:00:00",
          "2004-12-31T00:00:00",
          "2005-12-31T00:00:00",
          "2006-12-31T00:00:00",
          "2007-12-31T00:00:00",
          "2008-12-31T00:00:00",
          "2009-12-31T00:00:00",
          "2010-12-31T00:00:00",
          "2011-12-31T00:00:00",
          "2012-12-31T00:00:00",
          "2013-12-31T00:00:00",
          "2014-12-31T00:00:00",
          "2015-12-31T00:00:00",
          "2016-12-31T00:00:00",
          "2017-12-31T00:00:00",
          "2018-12-31T00:00:00",
          "2019-12-31T00:00:00",
          "2020-12-31T00:00:00",
          "2021-12-31T00:00:00",
          "2022-12-31T00:00:00",
          "2023-12-31T00:00:00",
          "2024-12-31T00:00:00"
         ],
         "y": [
          936083,
          1090833,
          1294998,
          1436165,
          1611023,
          1680382,
          1746756,
          1900564,
          1971011,
          2234307,
          2429562,
          2570220,
          2734740,
          2917573,
          3052686,
          3215773,
          3398662,
          3612964,
          3854038,
          4097338,
          4350884,
          4634876,
          4842367,
          5152448,
          5463996,
          5810888,
          6160988
         ]
        },
        {
         "hoverinfo": "skip",
         "line": {
          "width": 0
         },
         "mode": "lines",
         "type": "scatter",
         "x": [
          "1998-12-31T00:00:00",
          "1999-12-31T00:00:00",
          "2000-12-31T00:00:00",
          "2001-12-31T00:00:00",
          "2002-12-31T00:00:00",
          "2003-12-31T00:00:00",
          "2004-12-31T00:00:00",
          "2005-12-31T00:00:00",
          "2006-12-31T00:00:00",
          "2007-12-31T00:00:00",
          "2008-12-31T00:00:00",
          "2009-12-31T00:00:00",
          "2010-12-31T00:00:00",
          "2011-12-31T00:00:00",
          "2012-12-31T00:00:00",
          "2013-12-31T00:00:00",
          "2014-12-31T00:00:00",
          "2015-12-31T00:00:00",
          "2016-12-31T00:00:00",
          "2017-12-31T00:00:00",
          "2018-12-31T00:00:00",
          "2019-12-31T00:00:00",
          "2020-12-31T00:00:00",
          "2021-12-31T00:00:00",
          "2022-12-31T00:00:00",
          "2023-12-31T00:00:00",
          "2024-12-31T00:00:00",
          "2025-12-31T00:00:00",
          "2026-12-31T00:00:00"
         ],
         "y": [
          914846.4968094422,
          1076698.4898422488,
          1223692.9053067765,
          1363695.9265877192,
          1490981.166615998,
          1633101.5587477563,
          1750584.5424538886,
          1869929.132133187,
          1994860.7028657915,
          2177888.791394773,
          2346136.241577862,
          2506917.3084543934,
          2673257.424187268,
          2861357.2027556053,
          3023596.9380270666,
          3184320.6887739296,
          3358843.28973825,
          3574518.911575954,
          3807178.868816815,
          4031156.815552916,
          4271894.538365582,
          4579689.311657985,
          4864426.482139568,
          5150853.81493735,
          5447460.039709492,
          5756472.832177828,
          6044537.131904446,
          6324662.480601173,
          6619526.5454130685
         ]
        },
        {
         "fill": "tonexty",
         "fillcolor": "rgba(0, 114, 178, 0.2)",
         "line": {
          "color": "#0072B2",
          "width": 2
         },
         "mode": "lines",
         "name": "Predicted",
         "type": "scatter",
         "x": [
          "1998-12-31T00:00:00",
          "1999-12-31T00:00:00",
          "2000-12-31T00:00:00",
          "2001-12-31T00:00:00",
          "2002-12-31T00:00:00",
          "2003-12-31T00:00:00",
          "2004-12-31T00:00:00",
          "2005-12-31T00:00:00",
          "2006-12-31T00:00:00",
          "2007-12-31T00:00:00",
          "2008-12-31T00:00:00",
          "2009-12-31T00:00:00",
          "2010-12-31T00:00:00",
          "2011-12-31T00:00:00",
          "2012-12-31T00:00:00",
          "2013-12-31T00:00:00",
          "2014-12-31T00:00:00",
          "2015-12-31T00:00:00",
          "2016-12-31T00:00:00",
          "2017-12-31T00:00:00",
          "2018-12-31T00:00:00",
          "2019-12-31T00:00:00",
          "2020-12-31T00:00:00",
          "2021-12-31T00:00:00",
          "2022-12-31T00:00:00",
          "2023-12-31T00:00:00",
          "2024-12-31T00:00:00",
          "2025-12-31T00:00:00",
          "2026-12-31T00:00:00"
         ],
         "y": [
          959170.9777577044,
          1123665.41552388,
          1267220.4023545994,
          1405614.0675720475,
          1534652.9776056646,
          1676474.6444398158,
          1797294.7431694313,
          1913104.1531258747,
          2041945.5928095216,
          2226986.5852479087,
          2391144.7857057266,
          2550173.887014138,
          2722209.5611797255,
          2907250.9200732606,
          3071409.121287056,
          3230453.369210083,
          3402604.892137913,
          3621238.963549464,
          3851749.664052656,
          4077076.4447553386,
          4315414.62452904,
          4624421.664755164,
          4912885.178867439,
          5195879.96169082,
          5491881.317333164,
          5800888.357559444,
          6089351.871671801,
          6372346.65449493,
          6668348.010137288
         ]
        },
        {
         "fill": "tonexty",
         "fillcolor": "rgba(0, 114, 178, 0.2)",
         "hoverinfo": "skip",
         "line": {
          "width": 0
         },
         "mode": "lines",
         "type": "scatter",
         "x": [
          "1998-12-31T00:00:00",
          "1999-12-31T00:00:00",
          "2000-12-31T00:00:00",
          "2001-12-31T00:00:00",
          "2002-12-31T00:00:00",
          "2003-12-31T00:00:00",
          "2004-12-31T00:00:00",
          "2005-12-31T00:00:00",
          "2006-12-31T00:00:00",
          "2007-12-31T00:00:00",
          "2008-12-31T00:00:00",
          "2009-12-31T00:00:00",
          "2010-12-31T00:00:00",
          "2011-12-31T00:00:00",
          "2012-12-31T00:00:00",
          "2013-12-31T00:00:00",
          "2014-12-31T00:00:00",
          "2015-12-31T00:00:00",
          "2016-12-31T00:00:00",
          "2017-12-31T00:00:00",
          "2018-12-31T00:00:00",
          "2019-12-31T00:00:00",
          "2020-12-31T00:00:00",
          "2021-12-31T00:00:00",
          "2022-12-31T00:00:00",
          "2023-12-31T00:00:00",
          "2024-12-31T00:00:00",
          "2025-12-31T00:00:00",
          "2026-12-31T00:00:00"
         ],
         "y": [
          1003534.5142269107,
          1171346.2751542092,
          1314344.5212484468,
          1449567.9613169704,
          1582362.1735972583,
          1724928.514020684,
          1837978.8957284028,
          1959494.577419293,
          2085627.817675571,
          2274443.7867441694,
          2438820.58133265,
          2601397.4390588207,
          2770613.7935815877,
          2953283.9386135144,
          3115148.3381850435,
          3275141.3006035313,
          3449724.8312853947,
          3671010.41474821,
          3898207.3558364213,
          4123987.025179615,
          4359132.355353845,
          4670439.164102273,
          4960969.988666836,
          5243394.198156095,
          5538619.287272055,
          5846841.141309351,
          6136597.769661429,
          6415923.257625107,
          6723046.498849921
         ]
        }
       ],
       "layout": {
        "height": 600,
        "showlegend": false,
        "template": {
         "data": {
          "bar": [
           {
            "error_x": {
             "color": "#2a3f5f"
            },
            "error_y": {
             "color": "#2a3f5f"
            },
            "marker": {
             "line": {
              "color": "#E5ECF6",
              "width": 0.5
             },
             "pattern": {
              "fillmode": "overlay",
              "size": 10,
              "solidity": 0.2
             }
            },
            "type": "bar"
           }
          ],
          "barpolar": [
           {
            "marker": {
             "line": {
              "color": "#E5ECF6",
              "width": 0.5
             },
             "pattern": {
              "fillmode": "overlay",
              "size": 10,
              "solidity": 0.2
             }
            },
            "type": "barpolar"
           }
          ],
          "carpet": [
           {
            "aaxis": {
             "endlinecolor": "#2a3f5f",
             "gridcolor": "white",
             "linecolor": "white",
             "minorgridcolor": "white",
             "startlinecolor": "#2a3f5f"
            },
            "baxis": {
             "endlinecolor": "#2a3f5f",
             "gridcolor": "white",
             "linecolor": "white",
             "minorgridcolor": "white",
             "startlinecolor": "#2a3f5f"
            },
            "type": "carpet"
           }
          ],
          "choropleth": [
           {
            "colorbar": {
             "outlinewidth": 0,
             "ticks": ""
            },
            "type": "choropleth"
           }
          ],
          "contour": [
           {
            "colorbar": {
             "outlinewidth": 0,
             "ticks": ""
            },
            "colorscale": [
             [
              0,
              "#0d0887"
             ],
             [
              0.1111111111111111,
              "#46039f"
             ],
             [
              0.2222222222222222,
              "#7201a8"
             ],
             [
              0.3333333333333333,
              "#9c179e"
             ],
             [
              0.4444444444444444,
              "#bd3786"
             ],
             [
              0.5555555555555556,
              "#d8576b"
             ],
             [
              0.6666666666666666,
              "#ed7953"
             ],
             [
              0.7777777777777778,
              "#fb9f3a"
             ],
             [
              0.8888888888888888,
              "#fdca26"
             ],
             [
              1,
              "#f0f921"
             ]
            ],
            "type": "contour"
           }
          ],
          "contourcarpet": [
           {
            "colorbar": {
             "outlinewidth": 0,
             "ticks": ""
            },
            "type": "contourcarpet"
           }
          ],
          "heatmap": [
           {
            "colorbar": {
             "outlinewidth": 0,
             "ticks": ""
            },
            "colorscale": [
             [
              0,
              "#0d0887"
             ],
             [
              0.1111111111111111,
              "#46039f"
             ],
             [
              0.2222222222222222,
              "#7201a8"
             ],
             [
              0.3333333333333333,
              "#9c179e"
             ],
             [
              0.4444444444444444,
              "#bd3786"
             ],
             [
              0.5555555555555556,
              "#d8576b"
             ],
             [
              0.6666666666666666,
              "#ed7953"
             ],
             [
              0.7777777777777778,
              "#fb9f3a"
             ],
             [
              0.8888888888888888,
              "#fdca26"
             ],
             [
              1,
              "#f0f921"
             ]
            ],
            "type": "heatmap"
           }
          ],
          "heatmapgl": [
           {
            "colorbar": {
             "outlinewidth": 0,
             "ticks": ""
            },
            "colorscale": [
             [
              0,
              "#0d0887"
             ],
             [
              0.1111111111111111,
              "#46039f"
             ],
             [
              0.2222222222222222,
              "#7201a8"
             ],
             [
              0.3333333333333333,
              "#9c179e"
             ],
             [
              0.4444444444444444,
              "#bd3786"
             ],
             [
              0.5555555555555556,
              "#d8576b"
             ],
             [
              0.6666666666666666,
              "#ed7953"
             ],
             [
              0.7777777777777778,
              "#fb9f3a"
             ],
             [
              0.8888888888888888,
              "#fdca26"
             ],
             [
              1,
              "#f0f921"
             ]
            ],
            "type": "heatmapgl"
           }
          ],
          "histogram": [
           {
            "marker": {
             "pattern": {
              "fillmode": "overlay",
              "size": 10,
              "solidity": 0.2
             }
            },
            "type": "histogram"
           }
          ],
          "histogram2d": [
           {
            "colorbar": {
             "outlinewidth": 0,
             "ticks": ""
            },
            "colorscale": [
             [
              0,
              "#0d0887"
             ],
             [
              0.1111111111111111,
              "#46039f"
             ],
             [
              0.2222222222222222,
              "#7201a8"
             ],
             [
              0.3333333333333333,
              "#9c179e"
             ],
             [
              0.4444444444444444,
              "#bd3786"
             ],
             [
              0.5555555555555556,
              "#d8576b"
             ],
             [
              0.6666666666666666,
              "#ed7953"
             ],
             [
              0.7777777777777778,
              "#fb9f3a"
             ],
             [
              0.8888888888888888,
              "#fdca26"
             ],
             [
              1,
              "#f0f921"
             ]
            ],
            "type": "histogram2d"
           }
          ],
          "histogram2dcontour": [
           {
            "colorbar": {
             "outlinewidth": 0,
             "ticks": ""
            },
            "colorscale": [
             [
              0,
              "#0d0887"
             ],
             [
              0.1111111111111111,
              "#46039f"
             ],
             [
              0.2222222222222222,
              "#7201a8"
             ],
             [
              0.3333333333333333,
              "#9c179e"
             ],
             [
              0.4444444444444444,
              "#bd3786"
             ],
             [
              0.5555555555555556,
              "#d8576b"
             ],
             [
              0.6666666666666666,
              "#ed7953"
             ],
             [
              0.7777777777777778,
              "#fb9f3a"
             ],
             [
              0.8888888888888888,
              "#fdca26"
             ],
             [
              1,
              "#f0f921"
             ]
            ],
            "type": "histogram2dcontour"
           }
          ],
          "mesh3d": [
           {
            "colorbar": {
             "outlinewidth": 0,
             "ticks": ""
            },
            "type": "mesh3d"
           }
          ],
          "parcoords": [
           {
            "line": {
             "colorbar": {
              "outlinewidth": 0,
              "ticks": ""
             }
            },
            "type": "parcoords"
           }
          ],
          "pie": [
           {
            "automargin": true,
            "type": "pie"
           }
          ],
          "scatter": [
           {
            "fillpattern": {
             "fillmode": "overlay",
             "size": 10,
             "solidity": 0.2
            },
            "type": "scatter"
           }
          ],
          "scatter3d": [
           {
            "line": {
             "colorbar": {
              "outlinewidth": 0,
              "ticks": ""
             }
            },
            "marker": {
             "colorbar": {
              "outlinewidth": 0,
              "ticks": ""
             }
            },
            "type": "scatter3d"
           }
          ],
          "scattercarpet": [
           {
            "marker": {
             "colorbar": {
              "outlinewidth": 0,
              "ticks": ""
             }
            },
            "type": "scattercarpet"
           }
          ],
          "scattergeo": [
           {
            "marker": {
             "colorbar": {
              "outlinewidth": 0,
              "ticks": ""
             }
            },
            "type": "scattergeo"
           }
          ],
          "scattergl": [
           {
            "marker": {
             "colorbar": {
              "outlinewidth": 0,
              "ticks": ""
             }
            },
            "type": "scattergl"
           }
          ],
          "scattermapbox": [
           {
            "marker": {
             "colorbar": {
              "outlinewidth": 0,
              "ticks": ""
             }
            },
            "type": "scattermapbox"
           }
          ],
          "scatterpolar": [
           {
            "marker": {
             "colorbar": {
              "outlinewidth": 0,
              "ticks": ""
             }
            },
            "type": "scatterpolar"
           }
          ],
          "scatterpolargl": [
           {
            "marker": {
             "colorbar": {
              "outlinewidth": 0,
              "ticks": ""
             }
            },
            "type": "scatterpolargl"
           }
          ],
          "scatterternary": [
           {
            "marker": {
             "colorbar": {
              "outlinewidth": 0,
              "ticks": ""
             }
            },
            "type": "scatterternary"
           }
          ],
          "surface": [
           {
            "colorbar": {
             "outlinewidth": 0,
             "ticks": ""
            },
            "colorscale": [
             [
              0,
              "#0d0887"
             ],
             [
              0.1111111111111111,
              "#46039f"
             ],
             [
              0.2222222222222222,
              "#7201a8"
             ],
             [
              0.3333333333333333,
              "#9c179e"
             ],
             [
              0.4444444444444444,
              "#bd3786"
             ],
             [
              0.5555555555555556,
              "#d8576b"
             ],
             [
              0.6666666666666666,
              "#ed7953"
             ],
             [
              0.7777777777777778,
              "#fb9f3a"
             ],
             [
              0.8888888888888888,
              "#fdca26"
             ],
             [
              1,
              "#f0f921"
             ]
            ],
            "type": "surface"
           }
          ],
          "table": [
           {
            "cells": {
             "fill": {
              "color": "#EBF0F8"
             },
             "line": {
              "color": "white"
             }
            },
            "header": {
             "fill": {
              "color": "#C8D4E3"
             },
             "line": {
              "color": "white"
             }
            },
            "type": "table"
           }
          ]
         },
         "layout": {
          "annotationdefaults": {
           "arrowcolor": "#2a3f5f",
           "arrowhead": 0,
           "arrowwidth": 1
          },
          "autotypenumbers": "strict",
          "coloraxis": {
           "colorbar": {
            "outlinewidth": 0,
            "ticks": ""
           }
          },
          "colorscale": {
           "diverging": [
            [
             0,
             "#8e0152"
            ],
            [
             0.1,
             "#c51b7d"
            ],
            [
             0.2,
             "#de77ae"
            ],
            [
             0.3,
             "#f1b6da"
            ],
            [
             0.4,
             "#fde0ef"
            ],
            [
             0.5,
             "#f7f7f7"
            ],
            [
             0.6,
             "#e6f5d0"
            ],
            [
             0.7,
             "#b8e186"
            ],
            [
             0.8,
             "#7fbc41"
            ],
            [
             0.9,
             "#4d9221"
            ],
            [
             1,
             "#276419"
            ]
           ],
           "sequential": [
            [
             0,
             "#0d0887"
            ],
            [
             0.1111111111111111,
             "#46039f"
            ],
            [
             0.2222222222222222,
             "#7201a8"
            ],
            [
             0.3333333333333333,
             "#9c179e"
            ],
            [
             0.4444444444444444,
             "#bd3786"
            ],
            [
             0.5555555555555556,
             "#d8576b"
            ],
            [
             0.6666666666666666,
             "#ed7953"
            ],
            [
             0.7777777777777778,
             "#fb9f3a"
            ],
            [
             0.8888888888888888,
             "#fdca26"
            ],
            [
             1,
             "#f0f921"
            ]
           ],
           "sequentialminus": [
            [
             0,
             "#0d0887"
            ],
            [
             0.1111111111111111,
             "#46039f"
            ],
            [
             0.2222222222222222,
             "#7201a8"
            ],
            [
             0.3333333333333333,
             "#9c179e"
            ],
            [
             0.4444444444444444,
             "#bd3786"
            ],
            [
             0.5555555555555556,
             "#d8576b"
            ],
            [
             0.6666666666666666,
             "#ed7953"
            ],
            [
             0.7777777777777778,
             "#fb9f3a"
            ],
            [
             0.8888888888888888,
             "#fdca26"
            ],
            [
             1,
             "#f0f921"
            ]
           ]
          },
          "colorway": [
           "#636efa",
           "#EF553B",
           "#00cc96",
           "#ab63fa",
           "#FFA15A",
           "#19d3f3",
           "#FF6692",
           "#B6E880",
           "#FF97FF",
           "#FECB52"
          ],
          "font": {
           "color": "#2a3f5f"
          },
          "geo": {
           "bgcolor": "white",
           "lakecolor": "white",
           "landcolor": "#E5ECF6",
           "showlakes": true,
           "showland": true,
           "subunitcolor": "white"
          },
          "hoverlabel": {
           "align": "left"
          },
          "hovermode": "closest",
          "mapbox": {
           "style": "light"
          },
          "paper_bgcolor": "white",
          "plot_bgcolor": "#E5ECF6",
          "polar": {
           "angularaxis": {
            "gridcolor": "white",
            "linecolor": "white",
            "ticks": ""
           },
           "bgcolor": "#E5ECF6",
           "radialaxis": {
            "gridcolor": "white",
            "linecolor": "white",
            "ticks": ""
           }
          },
          "scene": {
           "xaxis": {
            "backgroundcolor": "#E5ECF6",
            "gridcolor": "white",
            "gridwidth": 2,
            "linecolor": "white",
            "showbackground": true,
            "ticks": "",
            "zerolinecolor": "white"
           },
           "yaxis": {
            "backgroundcolor": "#E5ECF6",
            "gridcolor": "white",
            "gridwidth": 2,
            "linecolor": "white",
            "showbackground": true,
            "ticks": "",
            "zerolinecolor": "white"
           },
           "zaxis": {
            "backgroundcolor": "#E5ECF6",
            "gridcolor": "white",
            "gridwidth": 2,
            "linecolor": "white",
            "showbackground": true,
            "ticks": "",
            "zerolinecolor": "white"
           }
          },
          "shapedefaults": {
           "line": {
            "color": "#2a3f5f"
           }
          },
          "ternary": {
           "aaxis": {
            "gridcolor": "white",
            "linecolor": "white",
            "ticks": ""
           },
           "baxis": {
            "gridcolor": "white",
            "linecolor": "white",
            "ticks": ""
           },
           "bgcolor": "#E5ECF6",
           "caxis": {
            "gridcolor": "white",
            "linecolor": "white",
            "ticks": ""
           }
          },
          "title": {
           "x": 0.05
          },
          "xaxis": {
           "automargin": true,
           "gridcolor": "white",
           "linecolor": "white",
           "ticks": "",
           "title": {
            "standoff": 15
           },
           "zerolinecolor": "white",
           "zerolinewidth": 2
          },
          "yaxis": {
           "automargin": true,
           "gridcolor": "white",
           "linecolor": "white",
           "ticks": "",
           "title": {
            "standoff": 15
           },
           "zerolinecolor": "white",
           "zerolinewidth": 2
          }
         }
        },
        "width": 900,
        "xaxis": {
         "rangeselector": {
          "buttons": [
           {
            "count": 7,
            "label": "1w",
            "step": "day",
            "stepmode": "backward"
           },
           {
            "count": 1,
            "label": "1m",
            "step": "month",
            "stepmode": "backward"
           },
           {
            "count": 6,
            "label": "6m",
            "step": "month",
            "stepmode": "backward"
           },
           {
            "count": 1,
            "label": "1y",
            "step": "year",
            "stepmode": "backward"
           },
           {
            "step": "all"
           }
          ]
         },
         "rangeslider": {
          "visible": true
         },
         "title": {
          "text": "ds"
         },
         "type": "date"
        },
        "yaxis": {
         "title": {
          "text": "y"
         }
        }
       }
      }
     },
     "metadata": {},
     "output_type": "display_data"
    }
   ],
   "source": [
    "from prophet.plot import plot_plotly, plot_components_plotly\n",
    "\n",
    "plot_plotly(m, forecast)"
   ]
  },
  {
   "cell_type": "markdown",
   "metadata": {},
   "source": [
    "## Tendencias"
   ]
  },
  {
   "cell_type": "code",
   "execution_count": 33,
   "metadata": {},
   "outputs": [
    {
     "data": {
      "application/vnd.plotly.v1+json": {
       "config": {
        "plotlyServerURL": "https://plot.ly"
       },
       "data": [
        {
         "line": {
          "color": "#0072B2",
          "width": 2
         },
         "mode": "lines",
         "name": "trend",
         "type": "scatter",
         "x": [
          "1998-12-31T00:00:00",
          "1999-12-31T00:00:00",
          "2000-12-31T00:00:00",
          "2001-12-31T00:00:00",
          "2002-12-31T00:00:00",
          "2003-12-31T00:00:00",
          "2004-12-31T00:00:00",
          "2005-12-31T00:00:00",
          "2006-12-31T00:00:00",
          "2007-12-31T00:00:00",
          "2008-12-31T00:00:00",
          "2009-12-31T00:00:00",
          "2010-12-31T00:00:00",
          "2011-12-31T00:00:00",
          "2012-12-31T00:00:00",
          "2013-12-31T00:00:00",
          "2014-12-31T00:00:00",
          "2015-12-31T00:00:00",
          "2016-12-31T00:00:00",
          "2017-12-31T00:00:00",
          "2018-12-31T00:00:00",
          "2019-12-31T00:00:00",
          "2020-12-31T00:00:00",
          "2021-12-31T00:00:00",
          "2022-12-31T00:00:00",
          "2023-12-31T00:00:00",
          "2024-12-31T00:00:00",
          "2025-12-31T00:00:00",
          "2026-12-31T00:00:00"
         ],
         "xaxis": "x",
         "y": [
          662028.96554,
          811431.7243896578,
          961243.8059831243,
          1110558.0496869714,
          1237510.9653880012,
          1364240.9533056854,
          1491318.146797755,
          1618048.1352408219,
          1744803.5805917815,
          1914752.8941135884,
          2085168.1893342119,
          2255117.8691291222,
          2425067.5489620636,
          2595017.2289391686,
          2765432.524915519,
          2935397.3513250193,
          3105462.87992024,
          3309005.272415176,
          3545773.067681082,
          3782020.4268702995,
          4018272.6123113427,
          4312187.9736210685,
          4606908.582496027,
          4900823.943805753,
          5194739.30511548,
          5488654.666425205,
          5783375.275300164,
          6077290.6366098905,
          6371205.997919615
         ],
         "yaxis": "y"
        },
        {
         "line": {
          "color": "rgba(0, 114, 178, 0.2)",
          "width": 0
         },
         "mode": "lines",
         "name": "trend_upper",
         "type": "scatter",
         "x": [
          "1998-12-31T00:00:00",
          "1999-12-31T00:00:00",
          "2000-12-31T00:00:00",
          "2001-12-31T00:00:00",
          "2002-12-31T00:00:00",
          "2003-12-31T00:00:00",
          "2004-12-31T00:00:00",
          "2005-12-31T00:00:00",
          "2006-12-31T00:00:00",
          "2007-12-31T00:00:00",
          "2008-12-31T00:00:00",
          "2009-12-31T00:00:00",
          "2010-12-31T00:00:00",
          "2011-12-31T00:00:00",
          "2012-12-31T00:00:00",
          "2013-12-31T00:00:00",
          "2014-12-31T00:00:00",
          "2015-12-31T00:00:00",
          "2016-12-31T00:00:00",
          "2017-12-31T00:00:00",
          "2018-12-31T00:00:00",
          "2019-12-31T00:00:00",
          "2020-12-31T00:00:00",
          "2021-12-31T00:00:00",
          "2022-12-31T00:00:00",
          "2023-12-31T00:00:00",
          "2024-12-31T00:00:00",
          "2025-12-31T00:00:00",
          "2026-12-31T00:00:00"
         ],
         "xaxis": "x",
         "y": [
          662028.96554,
          811431.7243896578,
          961243.8059831243,
          1110558.0496869714,
          1237510.9653880012,
          1364240.9533056854,
          1491318.146797755,
          1618048.1352408219,
          1744803.5805917815,
          1914752.8941135884,
          2085168.1893342119,
          2255117.8691291222,
          2425067.5489620636,
          2595017.2289391686,
          2765432.524915519,
          2935397.3513250193,
          3105462.87992024,
          3309005.272415176,
          3545773.067681082,
          3782020.4268702995,
          4018272.6123113427,
          4312187.9736210685,
          4606908.582496027,
          4900823.943805753,
          5194739.30511548,
          5488654.666425205,
          5783375.275300164,
          6084609.205640036,
          6395552.241161291
         ],
         "yaxis": "y"
        },
        {
         "fill": "tonexty",
         "fillcolor": "rgba(0, 114, 178, 0.2)",
         "line": {
          "color": "rgba(0, 114, 178, 0.2)",
          "width": 0
         },
         "mode": "lines",
         "name": "trend_lower",
         "type": "scatter",
         "x": [
          "1998-12-31T00:00:00",
          "1999-12-31T00:00:00",
          "2000-12-31T00:00:00",
          "2001-12-31T00:00:00",
          "2002-12-31T00:00:00",
          "2003-12-31T00:00:00",
          "2004-12-31T00:00:00",
          "2005-12-31T00:00:00",
          "2006-12-31T00:00:00",
          "2007-12-31T00:00:00",
          "2008-12-31T00:00:00",
          "2009-12-31T00:00:00",
          "2010-12-31T00:00:00",
          "2011-12-31T00:00:00",
          "2012-12-31T00:00:00",
          "2013-12-31T00:00:00",
          "2014-12-31T00:00:00",
          "2015-12-31T00:00:00",
          "2016-12-31T00:00:00",
          "2017-12-31T00:00:00",
          "2018-12-31T00:00:00",
          "2019-12-31T00:00:00",
          "2020-12-31T00:00:00",
          "2021-12-31T00:00:00",
          "2022-12-31T00:00:00",
          "2023-12-31T00:00:00",
          "2024-12-31T00:00:00",
          "2025-12-31T00:00:00",
          "2026-12-31T00:00:00"
         ],
         "xaxis": "x",
         "y": [
          662028.96554,
          811431.7243896578,
          961243.8059831243,
          1110558.0496869714,
          1237510.9653880012,
          1364240.9533056854,
          1491318.146797755,
          1618048.1352408219,
          1744803.5805917815,
          1914752.8941135884,
          2085168.1893342119,
          2255117.8691291222,
          2425067.5489620636,
          2595017.2289391686,
          2765432.524915519,
          2935397.3513250193,
          3105462.87992024,
          3309005.272415176,
          3545773.067681082,
          3782020.4268702995,
          4018272.6123113427,
          4312187.9736210685,
          4606908.582496027,
          4900823.943805753,
          5194739.30511548,
          5488654.666425205,
          5783375.275300164,
          6070367.301785113,
          6350308.998809628
         ],
         "yaxis": "y"
        },
        {
         "line": {
          "color": "#0072B2",
          "width": 2
         },
         "mode": "lines",
         "name": "yearly",
         "type": "scatter",
         "x": [
          "2017-01-01T00:00:00",
          "2017-01-02T00:00:59.178082",
          "2017-01-03T00:01:58.356164",
          "2017-01-04T00:02:57.534246",
          "2017-01-05T00:03:56.712328",
          "2017-01-06T00:04:55.890411",
          "2017-01-07T00:05:55.068493",
          "2017-01-08T00:06:54.246575",
          "2017-01-09T00:07:53.424657",
          "2017-01-10T00:08:52.602739",
          "2017-01-11T00:09:51.780822",
          "2017-01-12T00:10:50.958904",
          "2017-01-13T00:11:50.136986",
          "2017-01-14T00:12:49.315068",
          "2017-01-15T00:13:48.493150",
          "2017-01-16T00:14:47.671232",
          "2017-01-17T00:15:46.849315",
          "2017-01-18T00:16:46.027397",
          "2017-01-19T00:17:45.205479",
          "2017-01-20T00:18:44.383561",
          "2017-01-21T00:19:43.561643",
          "2017-01-22T00:20:42.739726",
          "2017-01-23T00:21:41.917808",
          "2017-01-24T00:22:41.095890",
          "2017-01-25T00:23:40.273972",
          "2017-01-26T00:24:39.452054",
          "2017-01-27T00:25:38.630137",
          "2017-01-28T00:26:37.808219",
          "2017-01-29T00:27:36.986301",
          "2017-01-30T00:28:36.164383",
          "2017-01-31T00:29:35.342465",
          "2017-02-01T00:30:34.520547",
          "2017-02-02T00:31:33.698630",
          "2017-02-03T00:32:32.876712",
          "2017-02-04T00:33:32.054794",
          "2017-02-05T00:34:31.232876",
          "2017-02-06T00:35:30.410958",
          "2017-02-07T00:36:29.589041",
          "2017-02-08T00:37:28.767123",
          "2017-02-09T00:38:27.945205",
          "2017-02-10T00:39:27.123287",
          "2017-02-11T00:40:26.301369",
          "2017-02-12T00:41:25.479452",
          "2017-02-13T00:42:24.657534",
          "2017-02-14T00:43:23.835616",
          "2017-02-15T00:44:23.013698",
          "2017-02-16T00:45:22.191780",
          "2017-02-17T00:46:21.369862",
          "2017-02-18T00:47:20.547945",
          "2017-02-19T00:48:19.726027",
          "2017-02-20T00:49:18.904109",
          "2017-02-21T00:50:18.082191",
          "2017-02-22T00:51:17.260273",
          "2017-02-23T00:52:16.438356",
          "2017-02-24T00:53:15.616438",
          "2017-02-25T00:54:14.794520",
          "2017-02-26T00:55:13.972602",
          "2017-02-27T00:56:13.150684",
          "2017-02-28T00:57:12.328767",
          "2017-03-01T00:58:11.506849",
          "2017-03-02T00:59:10.684931",
          "2017-03-03T01:00:09.863013",
          "2017-03-04T01:01:09.041095",
          "2017-03-05T01:02:08.219177",
          "2017-03-06T01:03:07.397260",
          "2017-03-07T01:04:06.575342",
          "2017-03-08T01:05:05.753424",
          "2017-03-09T01:06:04.931506",
          "2017-03-10T01:07:04.109588",
          "2017-03-11T01:08:03.287671",
          "2017-03-12T01:09:02.465753",
          "2017-03-13T01:10:01.643835",
          "2017-03-14T01:11:00.821917",
          "2017-03-15T01:12:00",
          "2017-03-16T01:12:59.178082",
          "2017-03-17T01:13:58.356164",
          "2017-03-18T01:14:57.534246",
          "2017-03-19T01:15:56.712328",
          "2017-03-20T01:16:55.890411",
          "2017-03-21T01:17:55.068493",
          "2017-03-22T01:18:54.246575",
          "2017-03-23T01:19:53.424657",
          "2017-03-24T01:20:52.602739",
          "2017-03-25T01:21:51.780822",
          "2017-03-26T01:22:50.958904",
          "2017-03-27T01:23:50.136986",
          "2017-03-28T01:24:49.315068",
          "2017-03-29T01:25:48.493150",
          "2017-03-30T01:26:47.671232",
          "2017-03-31T01:27:46.849315",
          "2017-04-01T01:28:46.027397",
          "2017-04-02T01:29:45.205479",
          "2017-04-03T01:30:44.383561",
          "2017-04-04T01:31:43.561643",
          "2017-04-05T01:32:42.739726",
          "2017-04-06T01:33:41.917808",
          "2017-04-07T01:34:41.095890",
          "2017-04-08T01:35:40.273972",
          "2017-04-09T01:36:39.452054",
          "2017-04-10T01:37:38.630137",
          "2017-04-11T01:38:37.808219",
          "2017-04-12T01:39:36.986301",
          "2017-04-13T01:40:36.164383",
          "2017-04-14T01:41:35.342465",
          "2017-04-15T01:42:34.520547",
          "2017-04-16T01:43:33.698630",
          "2017-04-17T01:44:32.876712",
          "2017-04-18T01:45:32.054794",
          "2017-04-19T01:46:31.232876",
          "2017-04-20T01:47:30.410958",
          "2017-04-21T01:48:29.589041",
          "2017-04-22T01:49:28.767123",
          "2017-04-23T01:50:27.945205",
          "2017-04-24T01:51:27.123287",
          "2017-04-25T01:52:26.301369",
          "2017-04-26T01:53:25.479452",
          "2017-04-27T01:54:24.657534",
          "2017-04-28T01:55:23.835616",
          "2017-04-29T01:56:23.013698",
          "2017-04-30T01:57:22.191780",
          "2017-05-01T01:58:21.369862",
          "2017-05-02T01:59:20.547945",
          "2017-05-03T02:00:19.726027",
          "2017-05-04T02:01:18.904109",
          "2017-05-05T02:02:18.082191",
          "2017-05-06T02:03:17.260273",
          "2017-05-07T02:04:16.438356",
          "2017-05-08T02:05:15.616438",
          "2017-05-09T02:06:14.794520",
          "2017-05-10T02:07:13.972602",
          "2017-05-11T02:08:13.150684",
          "2017-05-12T02:09:12.328767",
          "2017-05-13T02:10:11.506849",
          "2017-05-14T02:11:10.684931",
          "2017-05-15T02:12:09.863013",
          "2017-05-16T02:13:09.041095",
          "2017-05-17T02:14:08.219177",
          "2017-05-18T02:15:07.397260",
          "2017-05-19T02:16:06.575342",
          "2017-05-20T02:17:05.753424",
          "2017-05-21T02:18:04.931506",
          "2017-05-22T02:19:04.109588",
          "2017-05-23T02:20:03.287671",
          "2017-05-24T02:21:02.465753",
          "2017-05-25T02:22:01.643835",
          "2017-05-26T02:23:00.821917",
          "2017-05-27T02:24:00",
          "2017-05-28T02:24:59.178082",
          "2017-05-29T02:25:58.356164",
          "2017-05-30T02:26:57.534246",
          "2017-05-31T02:27:56.712328",
          "2017-06-01T02:28:55.890411",
          "2017-06-02T02:29:55.068493",
          "2017-06-03T02:30:54.246575",
          "2017-06-04T02:31:53.424657",
          "2017-06-05T02:32:52.602739",
          "2017-06-06T02:33:51.780822",
          "2017-06-07T02:34:50.958904",
          "2017-06-08T02:35:50.136986",
          "2017-06-09T02:36:49.315068",
          "2017-06-10T02:37:48.493150",
          "2017-06-11T02:38:47.671232",
          "2017-06-12T02:39:46.849315",
          "2017-06-13T02:40:46.027397",
          "2017-06-14T02:41:45.205479",
          "2017-06-15T02:42:44.383561",
          "2017-06-16T02:43:43.561643",
          "2017-06-17T02:44:42.739726",
          "2017-06-18T02:45:41.917808",
          "2017-06-19T02:46:41.095890",
          "2017-06-20T02:47:40.273972",
          "2017-06-21T02:48:39.452054",
          "2017-06-22T02:49:38.630137",
          "2017-06-23T02:50:37.808219",
          "2017-06-24T02:51:36.986301",
          "2017-06-25T02:52:36.164383",
          "2017-06-26T02:53:35.342465",
          "2017-06-27T02:54:34.520547",
          "2017-06-28T02:55:33.698630",
          "2017-06-29T02:56:32.876712",
          "2017-06-30T02:57:32.054794",
          "2017-07-01T02:58:31.232876",
          "2017-07-02T02:59:30.410958",
          "2017-07-03T03:00:29.589041",
          "2017-07-04T03:01:28.767123",
          "2017-07-05T03:02:27.945205",
          "2017-07-06T03:03:27.123287",
          "2017-07-07T03:04:26.301369",
          "2017-07-08T03:05:25.479452",
          "2017-07-09T03:06:24.657534",
          "2017-07-10T03:07:23.835616",
          "2017-07-11T03:08:23.013698",
          "2017-07-12T03:09:22.191780",
          "2017-07-13T03:10:21.369862",
          "2017-07-14T03:11:20.547945",
          "2017-07-15T03:12:19.726027",
          "2017-07-16T03:13:18.904109",
          "2017-07-17T03:14:18.082191",
          "2017-07-18T03:15:17.260273",
          "2017-07-19T03:16:16.438356",
          "2017-07-20T03:17:15.616438",
          "2017-07-21T03:18:14.794520",
          "2017-07-22T03:19:13.972602",
          "2017-07-23T03:20:13.150684",
          "2017-07-24T03:21:12.328767",
          "2017-07-25T03:22:11.506849",
          "2017-07-26T03:23:10.684931",
          "2017-07-27T03:24:09.863013",
          "2017-07-28T03:25:09.041095",
          "2017-07-29T03:26:08.219177",
          "2017-07-30T03:27:07.397260",
          "2017-07-31T03:28:06.575342",
          "2017-08-01T03:29:05.753424",
          "2017-08-02T03:30:04.931506",
          "2017-08-03T03:31:04.109588",
          "2017-08-04T03:32:03.287671",
          "2017-08-05T03:33:02.465753",
          "2017-08-06T03:34:01.643835",
          "2017-08-07T03:35:00.821917",
          "2017-08-08T03:36:00",
          "2017-08-09T03:36:59.178082",
          "2017-08-10T03:37:58.356164",
          "2017-08-11T03:38:57.534246",
          "2017-08-12T03:39:56.712328",
          "2017-08-13T03:40:55.890411",
          "2017-08-14T03:41:55.068493",
          "2017-08-15T03:42:54.246575",
          "2017-08-16T03:43:53.424657",
          "2017-08-17T03:44:52.602739",
          "2017-08-18T03:45:51.780822",
          "2017-08-19T03:46:50.958904",
          "2017-08-20T03:47:50.136986",
          "2017-08-21T03:48:49.315068",
          "2017-08-22T03:49:48.493150",
          "2017-08-23T03:50:47.671232",
          "2017-08-24T03:51:46.849315",
          "2017-08-25T03:52:46.027397",
          "2017-08-26T03:53:45.205479",
          "2017-08-27T03:54:44.383561",
          "2017-08-28T03:55:43.561643",
          "2017-08-29T03:56:42.739726",
          "2017-08-30T03:57:41.917808",
          "2017-08-31T03:58:41.095890",
          "2017-09-01T03:59:40.273972",
          "2017-09-02T04:00:39.452054",
          "2017-09-03T04:01:38.630137",
          "2017-09-04T04:02:37.808219",
          "2017-09-05T04:03:36.986301",
          "2017-09-06T04:04:36.164383",
          "2017-09-07T04:05:35.342465",
          "2017-09-08T04:06:34.520547",
          "2017-09-09T04:07:33.698630",
          "2017-09-10T04:08:32.876712",
          "2017-09-11T04:09:32.054794",
          "2017-09-12T04:10:31.232876",
          "2017-09-13T04:11:30.410958",
          "2017-09-14T04:12:29.589041",
          "2017-09-15T04:13:28.767123",
          "2017-09-16T04:14:27.945205",
          "2017-09-17T04:15:27.123287",
          "2017-09-18T04:16:26.301369",
          "2017-09-19T04:17:25.479452",
          "2017-09-20T04:18:24.657534",
          "2017-09-21T04:19:23.835616",
          "2017-09-22T04:20:23.013698",
          "2017-09-23T04:21:22.191780",
          "2017-09-24T04:22:21.369862",
          "2017-09-25T04:23:20.547945",
          "2017-09-26T04:24:19.726027",
          "2017-09-27T04:25:18.904109",
          "2017-09-28T04:26:18.082191",
          "2017-09-29T04:27:17.260273",
          "2017-09-30T04:28:16.438356",
          "2017-10-01T04:29:15.616438",
          "2017-10-02T04:30:14.794520",
          "2017-10-03T04:31:13.972602",
          "2017-10-04T04:32:13.150684",
          "2017-10-05T04:33:12.328767",
          "2017-10-06T04:34:11.506849",
          "2017-10-07T04:35:10.684931",
          "2017-10-08T04:36:09.863013",
          "2017-10-09T04:37:09.041095",
          "2017-10-10T04:38:08.219177",
          "2017-10-11T04:39:07.397260",
          "2017-10-12T04:40:06.575342",
          "2017-10-13T04:41:05.753424",
          "2017-10-14T04:42:04.931506",
          "2017-10-15T04:43:04.109588",
          "2017-10-16T04:44:03.287671",
          "2017-10-17T04:45:02.465753",
          "2017-10-18T04:46:01.643835",
          "2017-10-19T04:47:00.821917",
          "2017-10-20T04:48:00",
          "2017-10-21T04:48:59.178082",
          "2017-10-22T04:49:58.356164",
          "2017-10-23T04:50:57.534246",
          "2017-10-24T04:51:56.712328",
          "2017-10-25T04:52:55.890411",
          "2017-10-26T04:53:55.068493",
          "2017-10-27T04:54:54.246575",
          "2017-10-28T04:55:53.424657",
          "2017-10-29T04:56:52.602739",
          "2017-10-30T04:57:51.780822",
          "2017-10-31T04:58:50.958904",
          "2017-11-01T04:59:50.136986",
          "2017-11-02T05:00:49.315068",
          "2017-11-03T05:01:48.493150",
          "2017-11-04T05:02:47.671232",
          "2017-11-05T05:03:46.849315",
          "2017-11-06T05:04:46.027397",
          "2017-11-07T05:05:45.205479",
          "2017-11-08T05:06:44.383561",
          "2017-11-09T05:07:43.561643",
          "2017-11-10T05:08:42.739726",
          "2017-11-11T05:09:41.917808",
          "2017-11-12T05:10:41.095890",
          "2017-11-13T05:11:40.273972",
          "2017-11-14T05:12:39.452054",
          "2017-11-15T05:13:38.630137",
          "2017-11-16T05:14:37.808219",
          "2017-11-17T05:15:36.986301",
          "2017-11-18T05:16:36.164383",
          "2017-11-19T05:17:35.342465",
          "2017-11-20T05:18:34.520547",
          "2017-11-21T05:19:33.698630",
          "2017-11-22T05:20:32.876712",
          "2017-11-23T05:21:32.054794",
          "2017-11-24T05:22:31.232876",
          "2017-11-25T05:23:30.410958",
          "2017-11-26T05:24:29.589041",
          "2017-11-27T05:25:28.767123",
          "2017-11-28T05:26:27.945205",
          "2017-11-29T05:27:27.123287",
          "2017-11-30T05:28:26.301369",
          "2017-12-01T05:29:25.479452",
          "2017-12-02T05:30:24.657534",
          "2017-12-03T05:31:23.835616",
          "2017-12-04T05:32:23.013698",
          "2017-12-05T05:33:22.191780",
          "2017-12-06T05:34:21.369862",
          "2017-12-07T05:35:20.547945",
          "2017-12-08T05:36:19.726027",
          "2017-12-09T05:37:18.904109",
          "2017-12-10T05:38:18.082191",
          "2017-12-11T05:39:17.260273",
          "2017-12-12T05:40:16.438356",
          "2017-12-13T05:41:15.616438",
          "2017-12-14T05:42:14.794520",
          "2017-12-15T05:43:13.972602",
          "2017-12-16T05:44:13.150684",
          "2017-12-17T05:45:12.328767",
          "2017-12-18T05:46:11.506849",
          "2017-12-19T05:47:10.684931",
          "2017-12-20T05:48:09.863013",
          "2017-12-21T05:49:09.041095",
          "2017-12-22T05:50:08.219177",
          "2017-12-23T05:51:07.397260",
          "2017-12-24T05:52:06.575342",
          "2017-12-25T05:53:05.753424",
          "2017-12-26T05:54:04.931506",
          "2017-12-27T05:55:04.109588",
          "2017-12-28T05:56:03.287671",
          "2017-12-29T05:57:02.465753",
          "2017-12-30T05:58:01.643835",
          "2017-12-31T05:59:00.821917"
         ],
         "xaxis": "x2",
         "y": [
          478936.0914914495,
          854430.8674212917,
          1421579.386159832,
          2164094.170922022,
          3060675.7942403606,
          4085589.5428507165,
          5209374.91889541,
          6399588.866294507,
          7621759.435801426,
          8840264.458020914,
          10019303.50080415,
          11123860.820881624,
          12120656.486688873,
          12978993.784232061,
          13671649.17252013,
          14175550.654963898,
          14472402.72360193,
          14549169.022073742,
          14398412.1932342,
          14018489.22316677,
          13413579.627605109,
          12593566.348240104,
          11573762.758121526,
          10374481.26864109,
          9020542.824836342,
          7540529.082053083,
          5966074.574171969,
          4331016.112683387,
          2670502.03587608,
          1020054.0011646517,
          -585279.5022242969,
          -2111939.54647938,
          -3528635.2616101694,
          -4807149.886497683,
          -5923050.110400046,
          -6856226.256512939,
          -7591437.431457087,
          -8118590.94567295,
          -8432947.555506201,
          -8535167.153417263,
          -8431206.711894706,
          -8132086.732245624,
          -7653510.070217538,
          -7015369.488831972,
          -6241146.417893433,
          -5357210.537418229,
          -4392103.937815531,
          -3375674.5392570402,
          -2338287.4858950004,
          -1309986.2502808478,
          -319685.69914713316,
          605600.668036272,
          1441416.1886027483,
          2166539.7260387223,
          2763456.3580837576,
          3218770.6979652154,
          3523487.052217845,
          3673162.3079958996,
          3667922.4248719467,
          3512365.2947804625,
          3215320.3580840654,
          2789503.959632619,
          2251061.268282225,
          1619051.7361311615,
          914797.8750079953,
          161241.55085276882,
          -617763.2217124901,
          -1398165.2267077272,
          -2156432.1025169827,
          -2870195.2389385975,
          -3518935.5662962436,
          -4084516.0950408704,
          -4551678.962844767,
          -4908443.942513161,
          -5146385.150720336,
          -5260837.8044795925,
          -5250948.436669894,
          -5119633.845574137,
          -4873424.361589853,
          -4522197.880675253,
          -4078840.6961057093,
          -3558782.844161149,
          -2979504.120597595,
          -2359968.4291887367,
          -1720026.0717315997,
          -1079791.468120381,
          -459059.193307794,
          123334.79173560736,
          650040.1328176799,
          1105703.1364408897,
          1477406.5140785559,
          1755009.31800186,
          1931439.6140879237,
          2002846.5467035999,
          1968675.3457613555,
          1831636.501387092,
          1597572.884769497,
          1275248.4309794046,
          876022.6822622467,
          413476.18400299444,
          -97038.87071298755,
          -638894.3088500089,
          -1194720.9361700672,
          -1746927.5468829393,
          -2278284.3570515774,
          -2772424.8165181084,
          -3214346.748971035,
          -3590863.4622105793,
          -3890973.5398973613,
          -4106201.733905792,
          -4230814.436620957,
          -4261971.172123395,
          -4199780.640223985,
          -4047262.9910682444,
          -3810232.982837021,
          -3497079.505047838,
          -3118484.2927047284,
          -2687065.3142197966,
          -2216959.352972261,
          -1723389.1522988433,
          -1222146.5617944428,
          -729116.3612563097,
          -259775.0860746132,
          171287.88279631088,
          550821.6160683052,
          867298.7109604503,
          1111286.613101519,
          1275706.6040809762,
          1356040.303510546,
          1350450.2668509264,
          1259814.7318705963,
          1087684.2652670178,
          840144.1286174372,
          525608.1550130387,
          154537.77329008706,
          -260905.3001211278,
          -707232.4489568098,
          -1170088.709332674,
          -1634690.0662162288,
          -2086294.5745268718,
          -2510664.7199263833,
          -2894515.4034523796,
          -3225908.239582997,
          -3494645.150881235,
          -3692560.694926982,
          -3813772.0943572684,
          -3854851.8773695068,
          -3814921.8469200083,
          -3695670.5819594194,
          -3501284.846974094,
          -3238306.8544483623,
          -2915417.462075082,
          -2543148.777818357,
          -2133562.190314351,
          -1699836.4102914052,
          -1255864.4703807724,
          -815809.2202116705,
          -393656.0318837153,
          -2768.37521844609,
          344513.69417511515,
          637286.2098988508,
          866402.1520632103,
          1024759.3250871686,
          1107518.9972769087,
          1112249.4273760668,
          1039002.055341493,
          890299.073167624,
          671049.4927782856,
          388388.99131721794,
          51445.92837196808,
          -328934.5501812824,
          -740559.3085022494,
          -1170259.5323646455,
          -1604311.7278077286,
          -2028871.9958566818,
          -2430418.0253550755,
          -2796157.8468287205,
          -3114461.186880156,
          -3375207.277132827,
          -3570108.5904815164,
          -3692972.898037821,
          -3739893.480711262,
          -3709380.666363746,
          -3602402.2347012614,
          -3422354.841134724,
          -3174957.124952007,
          -2868065.8272192194,
          -2511443.17114076,
          -2116428.071134146,
          -1695592.2545277665,
          -1262340.5217333161,
          -830482.6837064795,
          -413817.04925579764,
          -25664.013681393586,
          321535.9776937702,
          616622.4406071824,
          850070.168203397,
          1014295.1514787838,
          1103891.725150204,
          1115819.721105357,
          1049497.7197670802,
          906829.8304495313,
          692151.9417873647,
          412097.66360023746,
          75408.76837862647,
          -307354.3539006623,
          -724128.7295414147,
          -1161728.273907718,
          -1606262.12075508,
          -2043550.9240908988,
          -2459605.0894355816,
          -2841047.410036483,
          -3175543.7814793005,
          -3452197.658825485,
          -3661902.9128752854,
          -3797630.9754529935,
          -3854677.3020993634,
          -3830810.7488647397,
          -3726359.213110946,
          -3544209.807423137,
          -3289740.3592538578,
          -2970650.2974121794,
          -2596737.831734768,
          -2179600.689463389,
          -1732280.2759445393,
          -1268853.0119077645,
          -804013.6459419401,
          -352582.91923749895,
          70938.22096357029,
          452833.9085386496,
          780611.687554018,
          1043407.9729663854,
          1232331.1686784464,
          1340774.886412877,
          1364630.4173585249,
          1302438.8597336097,
          1155455.6292646052,
          927640.2815929741,
          625543.5214499489,
          258128.16766081864,
          -163493.9781619486,
          -626393.5158900577,
          -1116220.290151057,
          -1617619.4648949406,
          -2114739.5978535023,
          -2591704.1799324495,
          -3033116.3471728344,
          -3424547.662433798,
          -3753004.6129436246,
          -4007336.954462494,
          -4178629.729348666,
          -4260490.4612735845,
          -4249280.852748983,
          -4144258.9874621723,
          -3947640.419267848,
          -3664554.537363092,
          -3302920.813877072,
          -2873232.382963638,
          -2388257.832416904,
          -1862662.6256747544,
          -1312598.190091964,
          -755178.7669009274,
          -207982.86414475416,
          311495.72444265883,
          786400.2086000411,
          1201023.6572140947,
          1541347.1895017198,
          1795476.9828403753,
          1954049.867883641,
          2010560.238953738,
          1961601.9583045333,
          1807022.6289299938,
          1549972.8567324404,
          1196858.9495119164,
          757193.8347184077,
          243350.34448520446,
          -329783.7704843659,
          -945198.9695180006,
          -1584295.0032137486,
          -2227402.564021536,
          -2854378.1516861124,
          -3445222.7603137046,
          -3980672.464329585,
          -4442844.091729399,
          -4815779.897230004,
          -5085977.966883875,
          -5242849.685559829,
          -5279096.315265707,
          -5190992.489602433,
          -4978569.510745086,
          -4645682.889507618,
          -4199970.329488587,
          -3652687.4024129002,
          -3018465.2134830947,
          -2314898.0951689654,
          -1562098.0899978965,
          -782135.961434658,
          1580.4138535946981,
          764987.4427038564,
          1484035.6836718519,
          2135460.3008737443,
          2697453.5095286802,
          3150352.351340152,
          3477267.692145424,
          3664645.6856315597,
          3702734.6932947873,
          3585971.170917032,
          3313228.338363491,
          2887955.4633313944,
          2318178.120655329,
          1616403.0783100366,
          799326.016339606,
          -112520.24246119839,
          -1095263.3114913593,
          -2122286.000812871,
          -3164920.7294586464,
          -4193153.0238756086,
          -5176495.774680782,
          -6084769.707911839,
          -6888949.006074544,
          -7561976.302769621,
          -8079541.070254808,
          -8420767.145116525,
          -8568874.451147716,
          -8511675.744662564,
          -8241987.9905822575,
          -7757899.067691608,
          -7062926.289697938,
          -6165971.19552656,
          -5081181.547317527,
          -3827645.5219171285,
          -2428953.59580877,
          -912616.3698341369,
          690539.5780383444,
          2347247.371712571,
          4022574.491734766,
          5680835.019784243,
          7286530.572588279,
          8805201.894828016,
          10204443.55615983,
          11454683.859583072,
          12529988.107237946,
          13408750.208763532,
          14074278.658654874,
          14515219.39213906,
          14725912.009023191,
          14706515.74369441,
          14463022.415749071,
          14007104.222407166,
          13355800.256279906,
          12531099.089828718,
          11559310.027392441,
          10470390.192893514,
          9297137.838123355,
          8074300.037228178,
          6837697.760039712,
          5623179.272627194,
          4465712.558856853,
          3398430.541853396,
          2451738.9938961565,
          1652489.176686393,
          1023289.3921401792,
          581840.4459440027,
          340497.6418365413,
          305928.262049723
         ],
         "yaxis": "y2"
        }
       ],
       "layout": {
        "height": 400,
        "showlegend": false,
        "template": {
         "data": {
          "bar": [
           {
            "error_x": {
             "color": "#2a3f5f"
            },
            "error_y": {
             "color": "#2a3f5f"
            },
            "marker": {
             "line": {
              "color": "#E5ECF6",
              "width": 0.5
             },
             "pattern": {
              "fillmode": "overlay",
              "size": 10,
              "solidity": 0.2
             }
            },
            "type": "bar"
           }
          ],
          "barpolar": [
           {
            "marker": {
             "line": {
              "color": "#E5ECF6",
              "width": 0.5
             },
             "pattern": {
              "fillmode": "overlay",
              "size": 10,
              "solidity": 0.2
             }
            },
            "type": "barpolar"
           }
          ],
          "carpet": [
           {
            "aaxis": {
             "endlinecolor": "#2a3f5f",
             "gridcolor": "white",
             "linecolor": "white",
             "minorgridcolor": "white",
             "startlinecolor": "#2a3f5f"
            },
            "baxis": {
             "endlinecolor": "#2a3f5f",
             "gridcolor": "white",
             "linecolor": "white",
             "minorgridcolor": "white",
             "startlinecolor": "#2a3f5f"
            },
            "type": "carpet"
           }
          ],
          "choropleth": [
           {
            "colorbar": {
             "outlinewidth": 0,
             "ticks": ""
            },
            "type": "choropleth"
           }
          ],
          "contour": [
           {
            "colorbar": {
             "outlinewidth": 0,
             "ticks": ""
            },
            "colorscale": [
             [
              0,
              "#0d0887"
             ],
             [
              0.1111111111111111,
              "#46039f"
             ],
             [
              0.2222222222222222,
              "#7201a8"
             ],
             [
              0.3333333333333333,
              "#9c179e"
             ],
             [
              0.4444444444444444,
              "#bd3786"
             ],
             [
              0.5555555555555556,
              "#d8576b"
             ],
             [
              0.6666666666666666,
              "#ed7953"
             ],
             [
              0.7777777777777778,
              "#fb9f3a"
             ],
             [
              0.8888888888888888,
              "#fdca26"
             ],
             [
              1,
              "#f0f921"
             ]
            ],
            "type": "contour"
           }
          ],
          "contourcarpet": [
           {
            "colorbar": {
             "outlinewidth": 0,
             "ticks": ""
            },
            "type": "contourcarpet"
           }
          ],
          "heatmap": [
           {
            "colorbar": {
             "outlinewidth": 0,
             "ticks": ""
            },
            "colorscale": [
             [
              0,
              "#0d0887"
             ],
             [
              0.1111111111111111,
              "#46039f"
             ],
             [
              0.2222222222222222,
              "#7201a8"
             ],
             [
              0.3333333333333333,
              "#9c179e"
             ],
             [
              0.4444444444444444,
              "#bd3786"
             ],
             [
              0.5555555555555556,
              "#d8576b"
             ],
             [
              0.6666666666666666,
              "#ed7953"
             ],
             [
              0.7777777777777778,
              "#fb9f3a"
             ],
             [
              0.8888888888888888,
              "#fdca26"
             ],
             [
              1,
              "#f0f921"
             ]
            ],
            "type": "heatmap"
           }
          ],
          "heatmapgl": [
           {
            "colorbar": {
             "outlinewidth": 0,
             "ticks": ""
            },
            "colorscale": [
             [
              0,
              "#0d0887"
             ],
             [
              0.1111111111111111,
              "#46039f"
             ],
             [
              0.2222222222222222,
              "#7201a8"
             ],
             [
              0.3333333333333333,
              "#9c179e"
             ],
             [
              0.4444444444444444,
              "#bd3786"
             ],
             [
              0.5555555555555556,
              "#d8576b"
             ],
             [
              0.6666666666666666,
              "#ed7953"
             ],
             [
              0.7777777777777778,
              "#fb9f3a"
             ],
             [
              0.8888888888888888,
              "#fdca26"
             ],
             [
              1,
              "#f0f921"
             ]
            ],
            "type": "heatmapgl"
           }
          ],
          "histogram": [
           {
            "marker": {
             "pattern": {
              "fillmode": "overlay",
              "size": 10,
              "solidity": 0.2
             }
            },
            "type": "histogram"
           }
          ],
          "histogram2d": [
           {
            "colorbar": {
             "outlinewidth": 0,
             "ticks": ""
            },
            "colorscale": [
             [
              0,
              "#0d0887"
             ],
             [
              0.1111111111111111,
              "#46039f"
             ],
             [
              0.2222222222222222,
              "#7201a8"
             ],
             [
              0.3333333333333333,
              "#9c179e"
             ],
             [
              0.4444444444444444,
              "#bd3786"
             ],
             [
              0.5555555555555556,
              "#d8576b"
             ],
             [
              0.6666666666666666,
              "#ed7953"
             ],
             [
              0.7777777777777778,
              "#fb9f3a"
             ],
             [
              0.8888888888888888,
              "#fdca26"
             ],
             [
              1,
              "#f0f921"
             ]
            ],
            "type": "histogram2d"
           }
          ],
          "histogram2dcontour": [
           {
            "colorbar": {
             "outlinewidth": 0,
             "ticks": ""
            },
            "colorscale": [
             [
              0,
              "#0d0887"
             ],
             [
              0.1111111111111111,
              "#46039f"
             ],
             [
              0.2222222222222222,
              "#7201a8"
             ],
             [
              0.3333333333333333,
              "#9c179e"
             ],
             [
              0.4444444444444444,
              "#bd3786"
             ],
             [
              0.5555555555555556,
              "#d8576b"
             ],
             [
              0.6666666666666666,
              "#ed7953"
             ],
             [
              0.7777777777777778,
              "#fb9f3a"
             ],
             [
              0.8888888888888888,
              "#fdca26"
             ],
             [
              1,
              "#f0f921"
             ]
            ],
            "type": "histogram2dcontour"
           }
          ],
          "mesh3d": [
           {
            "colorbar": {
             "outlinewidth": 0,
             "ticks": ""
            },
            "type": "mesh3d"
           }
          ],
          "parcoords": [
           {
            "line": {
             "colorbar": {
              "outlinewidth": 0,
              "ticks": ""
             }
            },
            "type": "parcoords"
           }
          ],
          "pie": [
           {
            "automargin": true,
            "type": "pie"
           }
          ],
          "scatter": [
           {
            "fillpattern": {
             "fillmode": "overlay",
             "size": 10,
             "solidity": 0.2
            },
            "type": "scatter"
           }
          ],
          "scatter3d": [
           {
            "line": {
             "colorbar": {
              "outlinewidth": 0,
              "ticks": ""
             }
            },
            "marker": {
             "colorbar": {
              "outlinewidth": 0,
              "ticks": ""
             }
            },
            "type": "scatter3d"
           }
          ],
          "scattercarpet": [
           {
            "marker": {
             "colorbar": {
              "outlinewidth": 0,
              "ticks": ""
             }
            },
            "type": "scattercarpet"
           }
          ],
          "scattergeo": [
           {
            "marker": {
             "colorbar": {
              "outlinewidth": 0,
              "ticks": ""
             }
            },
            "type": "scattergeo"
           }
          ],
          "scattergl": [
           {
            "marker": {
             "colorbar": {
              "outlinewidth": 0,
              "ticks": ""
             }
            },
            "type": "scattergl"
           }
          ],
          "scattermapbox": [
           {
            "marker": {
             "colorbar": {
              "outlinewidth": 0,
              "ticks": ""
             }
            },
            "type": "scattermapbox"
           }
          ],
          "scatterpolar": [
           {
            "marker": {
             "colorbar": {
              "outlinewidth": 0,
              "ticks": ""
             }
            },
            "type": "scatterpolar"
           }
          ],
          "scatterpolargl": [
           {
            "marker": {
             "colorbar": {
              "outlinewidth": 0,
              "ticks": ""
             }
            },
            "type": "scatterpolargl"
           }
          ],
          "scatterternary": [
           {
            "marker": {
             "colorbar": {
              "outlinewidth": 0,
              "ticks": ""
             }
            },
            "type": "scatterternary"
           }
          ],
          "surface": [
           {
            "colorbar": {
             "outlinewidth": 0,
             "ticks": ""
            },
            "colorscale": [
             [
              0,
              "#0d0887"
             ],
             [
              0.1111111111111111,
              "#46039f"
             ],
             [
              0.2222222222222222,
              "#7201a8"
             ],
             [
              0.3333333333333333,
              "#9c179e"
             ],
             [
              0.4444444444444444,
              "#bd3786"
             ],
             [
              0.5555555555555556,
              "#d8576b"
             ],
             [
              0.6666666666666666,
              "#ed7953"
             ],
             [
              0.7777777777777778,
              "#fb9f3a"
             ],
             [
              0.8888888888888888,
              "#fdca26"
             ],
             [
              1,
              "#f0f921"
             ]
            ],
            "type": "surface"
           }
          ],
          "table": [
           {
            "cells": {
             "fill": {
              "color": "#EBF0F8"
             },
             "line": {
              "color": "white"
             }
            },
            "header": {
             "fill": {
              "color": "#C8D4E3"
             },
             "line": {
              "color": "white"
             }
            },
            "type": "table"
           }
          ]
         },
         "layout": {
          "annotationdefaults": {
           "arrowcolor": "#2a3f5f",
           "arrowhead": 0,
           "arrowwidth": 1
          },
          "autotypenumbers": "strict",
          "coloraxis": {
           "colorbar": {
            "outlinewidth": 0,
            "ticks": ""
           }
          },
          "colorscale": {
           "diverging": [
            [
             0,
             "#8e0152"
            ],
            [
             0.1,
             "#c51b7d"
            ],
            [
             0.2,
             "#de77ae"
            ],
            [
             0.3,
             "#f1b6da"
            ],
            [
             0.4,
             "#fde0ef"
            ],
            [
             0.5,
             "#f7f7f7"
            ],
            [
             0.6,
             "#e6f5d0"
            ],
            [
             0.7,
             "#b8e186"
            ],
            [
             0.8,
             "#7fbc41"
            ],
            [
             0.9,
             "#4d9221"
            ],
            [
             1,
             "#276419"
            ]
           ],
           "sequential": [
            [
             0,
             "#0d0887"
            ],
            [
             0.1111111111111111,
             "#46039f"
            ],
            [
             0.2222222222222222,
             "#7201a8"
            ],
            [
             0.3333333333333333,
             "#9c179e"
            ],
            [
             0.4444444444444444,
             "#bd3786"
            ],
            [
             0.5555555555555556,
             "#d8576b"
            ],
            [
             0.6666666666666666,
             "#ed7953"
            ],
            [
             0.7777777777777778,
             "#fb9f3a"
            ],
            [
             0.8888888888888888,
             "#fdca26"
            ],
            [
             1,
             "#f0f921"
            ]
           ],
           "sequentialminus": [
            [
             0,
             "#0d0887"
            ],
            [
             0.1111111111111111,
             "#46039f"
            ],
            [
             0.2222222222222222,
             "#7201a8"
            ],
            [
             0.3333333333333333,
             "#9c179e"
            ],
            [
             0.4444444444444444,
             "#bd3786"
            ],
            [
             0.5555555555555556,
             "#d8576b"
            ],
            [
             0.6666666666666666,
             "#ed7953"
            ],
            [
             0.7777777777777778,
             "#fb9f3a"
            ],
            [
             0.8888888888888888,
             "#fdca26"
            ],
            [
             1,
             "#f0f921"
            ]
           ]
          },
          "colorway": [
           "#636efa",
           "#EF553B",
           "#00cc96",
           "#ab63fa",
           "#FFA15A",
           "#19d3f3",
           "#FF6692",
           "#B6E880",
           "#FF97FF",
           "#FECB52"
          ],
          "font": {
           "color": "#2a3f5f"
          },
          "geo": {
           "bgcolor": "white",
           "lakecolor": "white",
           "landcolor": "#E5ECF6",
           "showlakes": true,
           "showland": true,
           "subunitcolor": "white"
          },
          "hoverlabel": {
           "align": "left"
          },
          "hovermode": "closest",
          "mapbox": {
           "style": "light"
          },
          "paper_bgcolor": "white",
          "plot_bgcolor": "#E5ECF6",
          "polar": {
           "angularaxis": {
            "gridcolor": "white",
            "linecolor": "white",
            "ticks": ""
           },
           "bgcolor": "#E5ECF6",
           "radialaxis": {
            "gridcolor": "white",
            "linecolor": "white",
            "ticks": ""
           }
          },
          "scene": {
           "xaxis": {
            "backgroundcolor": "#E5ECF6",
            "gridcolor": "white",
            "gridwidth": 2,
            "linecolor": "white",
            "showbackground": true,
            "ticks": "",
            "zerolinecolor": "white"
           },
           "yaxis": {
            "backgroundcolor": "#E5ECF6",
            "gridcolor": "white",
            "gridwidth": 2,
            "linecolor": "white",
            "showbackground": true,
            "ticks": "",
            "zerolinecolor": "white"
           },
           "zaxis": {
            "backgroundcolor": "#E5ECF6",
            "gridcolor": "white",
            "gridwidth": 2,
            "linecolor": "white",
            "showbackground": true,
            "ticks": "",
            "zerolinecolor": "white"
           }
          },
          "shapedefaults": {
           "line": {
            "color": "#2a3f5f"
           }
          },
          "ternary": {
           "aaxis": {
            "gridcolor": "white",
            "linecolor": "white",
            "ticks": ""
           },
           "baxis": {
            "gridcolor": "white",
            "linecolor": "white",
            "ticks": ""
           },
           "bgcolor": "#E5ECF6",
           "caxis": {
            "gridcolor": "white",
            "linecolor": "white",
            "ticks": ""
           }
          },
          "title": {
           "x": 0.05
          },
          "xaxis": {
           "automargin": true,
           "gridcolor": "white",
           "linecolor": "white",
           "ticks": "",
           "title": {
            "standoff": 15
           },
           "zerolinecolor": "white",
           "zerolinewidth": 2
          },
          "yaxis": {
           "automargin": true,
           "gridcolor": "white",
           "linecolor": "white",
           "ticks": "",
           "title": {
            "standoff": 15
           },
           "zerolinecolor": "white",
           "zerolinewidth": 2
          }
         }
        },
        "width": 900,
        "xaxis": {
         "anchor": "y",
         "domain": [
          0,
          1
         ],
         "range": [
          "1997-08-06T15:36:00",
          "2028-05-25T08:24:00"
         ],
         "type": "date"
        },
        "xaxis2": {
         "anchor": "y2",
         "domain": [
          0,
          1
         ],
         "range": [
          "2016-12-13T18:54:02.958904",
          "2018-01-18T11:04:57.863013"
         ],
         "tickformat": "%B %e",
         "type": "date"
        },
        "yaxis": {
         "anchor": "x",
         "domain": [
          0.575,
          1
         ],
         "rangemode": "normal",
         "title": {
          "text": "trend"
         },
         "zerolinecolor": "#AAA"
        },
        "yaxis2": {
         "anchor": "x2",
         "domain": [
          0,
          0.425
         ],
         "title": {
          "text": "yearly"
         },
         "zerolinecolor": "#AAA"
        }
       }
      }
     },
     "metadata": {},
     "output_type": "display_data"
    }
   ],
   "source": [
    "plot_components_plotly(m, forecast)"
   ]
  },
  {
   "cell_type": "markdown",
   "metadata": {},
   "source": [
    "- En la parte superior, se observa el comportamiento a largo plazo del modelo donde señala una tendencia ascendente. Es decir, el parque vehicular va en aumento.\n",
    "\n",
    "- En la parte inferior, se muestra la estacionalidad del modelo Esto tendría sentido en caso de tener los valores mensuales. Al no tener estos, se pueden ver dos picos claros: al principio y al final. Esto viene explicado por la tendencia que hemos comentado de aumento a través del tiempo."
   ]
  },
  {
   "cell_type": "code",
   "execution_count": 34,
   "metadata": {},
   "outputs": [],
   "source": [
    "predicciones = forecast[['ds', 'yhat']]\n",
    "predicciones.columns = ['fecha', 'predicciones']\n",
    "predicciones['year'] = predicciones['fecha'].dt.year\n",
    "predicciones = predicciones[['year', 'predicciones']]"
   ]
  },
  {
   "cell_type": "code",
   "execution_count": 35,
   "metadata": {},
   "outputs": [],
   "source": [
    "predicciones.to_csv('../../Datos/datos_predichos/df_parque_vehicular_predicciones.csv')"
   ]
  }
 ],
 "metadata": {
  "kernelspec": {
   "display_name": "Python 3",
   "language": "python",
   "name": "python3"
  },
  "language_info": {
   "codemirror_mode": {
    "name": "ipython",
    "version": 3
   },
   "file_extension": ".py",
   "mimetype": "text/x-python",
   "name": "python",
   "nbconvert_exporter": "python",
   "pygments_lexer": "ipython3",
   "version": "3.11.9"
  }
 },
 "nbformat": 4,
 "nbformat_minor": 2
}
