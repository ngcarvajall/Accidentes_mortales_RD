{
 "cells": [
  {
   "cell_type": "code",
   "execution_count": 2,
   "metadata": {},
   "outputs": [],
   "source": [
    "# Importamos las librerías que necesitamos\n",
    "\n",
    "# Librerías de extracción de datos\n",
    "# -----------------------------------------------------------------------\n",
    "\n",
    "%load_ext autoreload\n",
    "%autoreload 2\n",
    "\n",
    "# Importaciones:\n",
    "# Beautifulsoup\n",
    "from bs4 import BeautifulSoup\n",
    "\n",
    "# Requests\n",
    "import requests\n",
    "\n",
    "import pandas as pd\n",
    "import numpy as np\n",
    "\n",
    "from time import sleep\n",
    "\n",
    "# Importar librerías para automatización de navegadores web con Selenium\n",
    "# -----------------------------------------------------------------------\n",
    "from selenium import webdriver  # Selenium es una herramienta para automatizar la interacción con navegadores web.\n",
    "from webdriver_manager.chrome import ChromeDriverManager  # ChromeDriverManager gestiona la instalación del controlador de Chrome.\n",
    "from selenium.webdriver.common.keys import Keys  # Keys es útil para simular eventos de teclado en Selenium.\n",
    "from selenium.webdriver.support.ui import Select  # Select se utiliza para interactuar con elementos <select> en páginas web.\n",
    "from selenium.webdriver.support.ui import WebDriverWait\n",
    "from selenium.webdriver.support import expected_conditions as EC\n",
    "from selenium.common.exceptions import NoSuchElementException # Excepciones comunes de selenium que nos podemos encontrar \n",
    "\n",
    "import warnings\n",
    "warnings.filterwarnings('ignore')\n",
    "\n",
    "pd.set_option('display.max_columns', None)"
   ]
  },
  {
   "cell_type": "code",
   "execution_count": 2,
   "metadata": {},
   "outputs": [],
   "source": [
    "driver = webdriver.Chrome()\n",
    "url_accidentes = \"https://www.one.gob.do/datos-y-estadisticas/\"\n",
    "driver.get(url_accidentes)\n",
    "driver.maximize_window()\n",
    "\n",
    "sleep(1)  # Esperar un segundo entre cada scroll\n",
    "\n",
    "try: \n",
    "    driver.find_element(\"xpath\", '/html/body/div[7]/section/div/ul/li[2]/a').click()\n",
    "except:\n",
    "    print('No encuentro el botón')\n",
    "\n",
    "sleep(2)\n",
    "\n",
    "for i in range(2):\n",
    "    try:\n",
    "        driver.execute_script(\"window.scrollBy(0, 500);\")  # Desplazarse 1000 píxeles hacia abajo\n",
    "    except:\n",
    "        print('No he podido descender')\n",
    "\n",
    "try: \n",
    "    driver.find_element(\"xpath\", '/html/body/div[7]/section/div/div[3]/div[2]/div/div[2]/div[2]/div/div/div[2]/header/div[2]').click()\n",
    "except:\n",
    "    print('No encuentro el botón para ampliar')\n",
    "sleep(2)\n",
    "try: \n",
    "    driver.find_element(\"xpath\", '/html/body/div[7]/section/div/div[3]/div[2]/div/div[2]/div[2]/div/div/div[2]/div/header/div[1]').click()\n",
    "except:\n",
    "    print('No encuentro el botón para abrir pestañas')\n",
    "sleep(2)\n",
    "try:\n",
    "    driver.execute_script(\"window.scrollBy(0, 700);\")\n",
    "except:\n",
    "    print('No he podido descender')\n",
    "\n",
    "try: \n",
    "    driver.find_element(\"xpath\", '/html/body/div[7]/section/div/div[3]/div[2]/div/div[2]/div[2]/div/div/div[2]/div/div/div/div/div[2]/div/table/tbody/tr[6]/td/a').click()\n",
    "except:\n",
    "    print('No encuentro el botón para descargar') #descargo el libro de códigos de accidentes de tráfico, lasdefunciones\n",
    "\n",
    "try:\n",
    "    driver.execute_script(\"window.scrollBy(0, 500);\")\n",
    "except:\n",
    "    print('No he podido descender')\n",
    "\n",
    "try: \n",
    "    driver.find_element(\"xpath\", '/html/body/div[7]/section/div/div[3]/div[2]/div/div[2]/div[2]/div/div/div[2]/div/div/div/div/div[2]/div/table/tbody/tr[17]/td/a').click()\n",
    "except:\n",
    "    print('No encuentro el botón para descargar') #descargo las defunciones por accidentes de tráfico"
   ]
  },
  {
   "cell_type": "markdown",
   "metadata": {},
   "source": [
    "# Tablas de Bases de datos"
   ]
  },
  {
   "cell_type": "markdown",
   "metadata": {},
   "source": [
    "### Tabla principal"
   ]
  },
  {
   "cell_type": "code",
   "execution_count": 3,
   "metadata": {},
   "outputs": [],
   "source": [
    "df_principal = pd.read_csv('C:\\\\Users\\\\DELL\\\\Downloads\\\\BD_MUERTES_ACCIDENTES_2007-2023.csv')"
   ]
  },
  {
   "cell_type": "markdown",
   "metadata": {},
   "source": [
    "### Definir lo que significa cada columna\n",
    "\n",
    "- CAUSA_M: muerte en accidente.\n",
    "- REGION: region donde ocurrió.\n",
    "- PROVINCIA: provincia donde ocurrió.\n",
    "- DIASEMANA: día de la semana.\n",
    "- MESOCU: mes.\n",
    "- ANOOCU: año de ocurrencia.\n",
    "- RHORA: rango de hora.\n",
    "- TVIA: tipo de vía donde ocurrió.\n",
    "- TIPOACCIDENTE: tipo de accidente.\n",
    "- SALDOTRAG: salgo trágico.\n",
    "- MEDIOTRANS: medio de transporte.\n",
    "- VEHICHOQUE: vehículo con el que chocó.\n"
   ]
  },
  {
   "cell_type": "code",
   "execution_count": 7,
   "metadata": {},
   "outputs": [
    {
     "data": {
      "text/html": [
       "<div>\n",
       "<style scoped>\n",
       "    .dataframe tbody tr th:only-of-type {\n",
       "        vertical-align: middle;\n",
       "    }\n",
       "\n",
       "    .dataframe tbody tr th {\n",
       "        vertical-align: top;\n",
       "    }\n",
       "\n",
       "    .dataframe thead th {\n",
       "        text-align: right;\n",
       "    }\n",
       "</style>\n",
       "<table border=\"1\" class=\"dataframe\">\n",
       "  <thead>\n",
       "    <tr style=\"text-align: right;\">\n",
       "      <th></th>\n",
       "      <th>CAUSA_M</th>\n",
       "      <th>REGION</th>\n",
       "      <th>PROVINCIA</th>\n",
       "      <th>DIASEMANA</th>\n",
       "      <th>MESOCU</th>\n",
       "      <th>ANOOCU</th>\n",
       "      <th>RHORA</th>\n",
       "      <th>TVIA</th>\n",
       "      <th>SEXO</th>\n",
       "      <th>GRUPOEDAD</th>\n",
       "      <th>CONDIVICTIMA</th>\n",
       "      <th>TIPOACCIDENTE</th>\n",
       "      <th>MEDIOTRANS</th>\n",
       "      <th>ESTRECON</th>\n",
       "      <th>VEHICHOQUE</th>\n",
       "      <th>VEHICUVOLC</th>\n",
       "      <th>VEHICUATRO</th>\n",
       "      <th>VEHICAIDA</th>\n",
       "      <th>VEHIDESLI</th>\n",
       "      <th>APLASTAM</th>\n",
       "      <th>OTROACCIDEN</th>\n",
       "    </tr>\n",
       "  </thead>\n",
       "  <tbody>\n",
       "    <tr>\n",
       "      <th>0</th>\n",
       "      <td>V01-V99</td>\n",
       "      <td>1</td>\n",
       "      <td>9</td>\n",
       "      <td>6</td>\n",
       "      <td>1</td>\n",
       "      <td>2007</td>\n",
       "      <td>10</td>\n",
       "      <td>99</td>\n",
       "      <td>1</td>\n",
       "      <td>5</td>\n",
       "      <td>9</td>\n",
       "      <td>1</td>\n",
       "      <td>2</td>\n",
       "      <td></td>\n",
       "      <td>8</td>\n",
       "      <td></td>\n",
       "      <td></td>\n",
       "      <td></td>\n",
       "      <td></td>\n",
       "      <td></td>\n",
       "      <td></td>\n",
       "    </tr>\n",
       "    <tr>\n",
       "      <th>1</th>\n",
       "      <td>V01-V99</td>\n",
       "      <td>1</td>\n",
       "      <td>9</td>\n",
       "      <td>7</td>\n",
       "      <td>1</td>\n",
       "      <td>2007</td>\n",
       "      <td>1</td>\n",
       "      <td>4</td>\n",
       "      <td>1</td>\n",
       "      <td>12</td>\n",
       "      <td>9</td>\n",
       "      <td>1</td>\n",
       "      <td>2</td>\n",
       "      <td></td>\n",
       "      <td>1</td>\n",
       "      <td></td>\n",
       "      <td></td>\n",
       "      <td></td>\n",
       "      <td></td>\n",
       "      <td></td>\n",
       "      <td></td>\n",
       "    </tr>\n",
       "    <tr>\n",
       "      <th>2</th>\n",
       "      <td>V01-V99</td>\n",
       "      <td>1</td>\n",
       "      <td>9</td>\n",
       "      <td>4</td>\n",
       "      <td>2</td>\n",
       "      <td>2007</td>\n",
       "      <td>11</td>\n",
       "      <td>4</td>\n",
       "      <td>1</td>\n",
       "      <td>4</td>\n",
       "      <td>9</td>\n",
       "      <td>1</td>\n",
       "      <td>2</td>\n",
       "      <td></td>\n",
       "      <td>1</td>\n",
       "      <td></td>\n",
       "      <td></td>\n",
       "      <td></td>\n",
       "      <td></td>\n",
       "      <td></td>\n",
       "      <td></td>\n",
       "    </tr>\n",
       "    <tr>\n",
       "      <th>3</th>\n",
       "      <td>V01-V99</td>\n",
       "      <td>1</td>\n",
       "      <td>9</td>\n",
       "      <td>1</td>\n",
       "      <td>2</td>\n",
       "      <td>2007</td>\n",
       "      <td>6</td>\n",
       "      <td>99</td>\n",
       "      <td>1</td>\n",
       "      <td>1</td>\n",
       "      <td>9</td>\n",
       "      <td>3</td>\n",
       "      <td>25</td>\n",
       "      <td></td>\n",
       "      <td></td>\n",
       "      <td></td>\n",
       "      <td>3</td>\n",
       "      <td></td>\n",
       "      <td></td>\n",
       "      <td></td>\n",
       "      <td></td>\n",
       "    </tr>\n",
       "    <tr>\n",
       "      <th>4</th>\n",
       "      <td>V01-V99</td>\n",
       "      <td>1</td>\n",
       "      <td>9</td>\n",
       "      <td>4</td>\n",
       "      <td>3</td>\n",
       "      <td>2007</td>\n",
       "      <td>10</td>\n",
       "      <td>4</td>\n",
       "      <td>1</td>\n",
       "      <td>5</td>\n",
       "      <td>9</td>\n",
       "      <td>1</td>\n",
       "      <td>2</td>\n",
       "      <td></td>\n",
       "      <td>4</td>\n",
       "      <td></td>\n",
       "      <td></td>\n",
       "      <td></td>\n",
       "      <td></td>\n",
       "      <td></td>\n",
       "      <td></td>\n",
       "    </tr>\n",
       "  </tbody>\n",
       "</table>\n",
       "</div>"
      ],
      "text/plain": [
       "   CAUSA_M  REGION  PROVINCIA  DIASEMANA  MESOCU  ANOOCU  RHORA  TVIA  SEXO  \\\n",
       "0  V01-V99       1          9          6       1    2007     10    99     1   \n",
       "1  V01-V99       1          9          7       1    2007      1     4     1   \n",
       "2  V01-V99       1          9          4       2    2007     11     4     1   \n",
       "3  V01-V99       1          9          1       2    2007      6    99     1   \n",
       "4  V01-V99       1          9          4       3    2007     10     4     1   \n",
       "\n",
       "   GRUPOEDAD  CONDIVICTIMA  TIPOACCIDENTE  MEDIOTRANS ESTRECON VEHICHOQUE  \\\n",
       "0          5             9              1           2                   8   \n",
       "1         12             9              1           2                   1   \n",
       "2          4             9              1           2                   1   \n",
       "3          1             9              3          25                       \n",
       "4          5             9              1           2                   4   \n",
       "\n",
       "  VEHICUVOLC VEHICUATRO VEHICAIDA VEHIDESLI APLASTAM OTROACCIDEN  \n",
       "0                                                                 \n",
       "1                                                                 \n",
       "2                                                                 \n",
       "3                     3                                           \n",
       "4                                                                 "
      ]
     },
     "execution_count": 7,
     "metadata": {},
     "output_type": "execute_result"
    }
   ],
   "source": [
    "df_principal.head()"
   ]
  },
  {
   "cell_type": "code",
   "execution_count": 8,
   "metadata": {},
   "outputs": [
    {
     "data": {
      "text/plain": [
       "CAUSA_M\n",
       "V01-V99    31351\n",
       "Name: count, dtype: int64"
      ]
     },
     "execution_count": 8,
     "metadata": {},
     "output_type": "execute_result"
    }
   ],
   "source": [
    "df_principal['CAUSA_M'].value_counts()"
   ]
  },
  {
   "cell_type": "markdown",
   "metadata": {},
   "source": [
    "### Tablas secundarias"
   ]
  },
  {
   "cell_type": "code",
   "execution_count": 9,
   "metadata": {},
   "outputs": [],
   "source": [
    "driver = webdriver.Chrome()\n",
    "url_defunciones = \"file:///C:/Users/DELL/Downloads/Libro%20de%20c%C3%B3digos%20de%20defunciones%20en%20accidentes%20de%20tr%C3%A1nsito%202007_2023.htm\"\n",
    "driver.get(url_defunciones)\n",
    "driver.maximize_window()\n",
    "\n",
    "sleep(1)  # Esperar un segundo entre cada scroll"
   ]
  },
  {
   "cell_type": "code",
   "execution_count": 10,
   "metadata": {},
   "outputs": [],
   "source": [
    "sopa_defunciones = BeautifulSoup(driver.page_source)\n"
   ]
  },
  {
   "cell_type": "code",
   "execution_count": 11,
   "metadata": {},
   "outputs": [],
   "source": [
    "lista_tablas = sopa_defunciones.findAll('div', {'class': 'itemBody'})\n"
   ]
  },
  {
   "cell_type": "code",
   "execution_count": 12,
   "metadata": {},
   "outputs": [
    {
     "data": {
      "text/plain": [
       "<div class=\"itemBody\">\n",
       "<table aria-label=\"CAUSA_M\" class=\"Default PivotTable\" data-col-labels=\"Valor\" data-collabelheight=\"1\" data-column-dimension=\"Valores;\" data-decimal-char=\".\" data-layer-dimension=\"\" data-lookname=\"Default\" data-maxcolwidth=\"72\" data-numcols=\"1\" data-numrows=\"3\" data-row-dimension=\"Atributos;\" data-row-labels=\"Atributos estándar Etiqueta; Formato;Valores válidos V01-V99\" data-rowlabels=\"Corner\" data-rowlabelwidth=\"2\" role=\"complementary\" style=\"width:280px\" summary=\"CAUSA_M, tabla, 1 niveles de cabeceras de columna y 2 niveles de cabeceras de fila, tabla con 3 columnas y 5 filas\">\n",
       "<caption class=\"title\" style=\"width:280px\">CAUSA_M<span class=\"details\">CAUSA_M, tabla, 1 niveles de cabeceras de columna y 2 niveles de cabeceras de fila, tabla con 3 columnas y 5 filas</span></caption>\n",
       "<tbody class=\"PivotBody defaultLayer innerFrameBd\">\n",
       "<tr>\n",
       "<td class=\"cornerLabels\" colspan=\"2\"> </td>\n",
       "<td class=\"columnLabels dataAreaLeft vCC role3\">Valor</td>\n",
       "</tr>\n",
       "<tr>\n",
       "<td class=\"rowLabels dataAreaTop role2\" rowspan=\"2\">Atributos estándar</td>\n",
       "<td class=\"rowLabels dataAreaTop vCR role3\">Etiqueta</td>\n",
       "<td class=\"e dataAreaTop dataAreaLeft vCC\" style=\"text-align:left;\">Muerte en accidente de tráfico</td>\n",
       "</tr>\n",
       "<tr>\n",
       "<td class=\"rowLabels hCR vCR role3\">Formato</td>\n",
       "<td class=\"o dataAreaLeft hCR vCC\" style=\"text-align:left;\">A7</td>\n",
       "</tr>\n",
       "<tr>\n",
       "<td class=\"rowLabels hCR role2\">Valores válidos</td>\n",
       "<td class=\"rowLabels hCR vCR role3\">V01-V99</td>\n",
       "<td class=\"e dataAreaLeft hCR vCC\" style=\"text-align:left;\">Muerte en accidente de tránsito terrestre</td>\n",
       "</tr>\n",
       "<tr>\n",
       "<td style=\"width:119px;padding:0px;border-spacing:0px\"></td>\n",
       "<td style=\"width:65px;padding:0px;border-spacing:0px\"></td>\n",
       "<td style=\"width:96px;padding:0px;border-spacing:0px\"></td>\n",
       "</tr>\n",
       "</tbody>\n",
       "</table>\n",
       "</div>"
      ]
     },
     "execution_count": 12,
     "metadata": {},
     "output_type": "execute_result"
    }
   ],
   "source": [
    "lista_tablas[0]"
   ]
  },
  {
   "cell_type": "code",
   "execution_count": 90,
   "metadata": {},
   "outputs": [
    {
     "name": "stdout",
     "output_type": "stream",
     "text": [
      "Se generaron 21 DataFrames.\n"
     ]
    }
   ],
   "source": [
    "dataframes = []\n",
    "\n",
    "# Iterar sobre cada tabla en la lista\n",
    "for i, tabla in enumerate(lista_tablas):\n",
    "    # Extraer las filas (tr) dentro de cada tabla\n",
    "    rows = tabla.find_all('tr')\n",
    "\n",
    "    # Extraer los datos de las celdas\n",
    "    data = []\n",
    "    for row in rows:\n",
    "        cells = row.find_all('td')\n",
    "        data.append([cell.get_text(strip=True) for cell in cells if cell.get_text(strip=True)])\n",
    "\n",
    "    # Crear un DataFrame con los datos\n",
    "    df = pd.DataFrame(data)\n",
    "\n",
    "    # Guardar el DataFrame en la lista\n",
    "    dataframes.append(df)\n",
    "\n",
    "    # # Si quieres guardar cada DataFrame como CSV:\n",
    "    # df.to_csv(f'tabla_{i}.csv', index=False)\n",
    "\n",
    "# Ver cuántos DataFrames se generaron\n",
    "print(f\"Se generaron {len(dataframes)} DataFrames.\")"
   ]
  },
  {
   "cell_type": "code",
   "execution_count": 91,
   "metadata": {},
   "outputs": [
    {
     "data": {
      "text/plain": [
       "list"
      ]
     },
     "execution_count": 91,
     "metadata": {},
     "output_type": "execute_result"
    }
   ],
   "source": [
    "type(dataframes)"
   ]
  },
  {
   "cell_type": "code",
   "execution_count": 92,
   "metadata": {},
   "outputs": [],
   "source": [
    "df_region = dataframes[1]\n",
    "df_provincia = dataframes[2]\n",
    "df_diasem = dataframes[3]\n",
    "df_mes = dataframes[4]\n",
    "df_anio = dataframes[5]\n",
    "df_rhora = dataframes[6]\n",
    "df_tipovia = dataframes[7]\n",
    "df_genero = dataframes[8]\n",
    "df_gedad = dataframes[9]\n",
    "df_victima = dataframes[10]\n",
    "df_accidente = dataframes[11]\n",
    "df_mediot = dataframes[12]\n",
    "df_estrello = dataframes[13]\n",
    "df_vehichoque = dataframes[14]"
   ]
  },
  {
   "cell_type": "code",
   "execution_count": 93,
   "metadata": {},
   "outputs": [],
   "source": [
    "dataframes_list = [\n",
    "    df_region, df_provincia, df_diasem, df_mes, df_anio, df_rhora,\n",
    "    df_tipovia, df_genero, df_gedad, df_victima, df_accidente,\n",
    "    df_mediot, df_estrello, df_vehichoque\n",
    "]\n",
    "\n",
    "for i, df in enumerate(dataframes_list):\n",
    "    # Recortar las filas a partir de la fila 3\n",
    "    df = df.iloc[3:]\n",
    "    \n",
    "    # Mover el valor de la columna 2 a la columna 1 en la primera fila\n",
    "    df.iloc[0, 1] = df.iloc[0, 2]\n",
    "    df.iloc[0,0] = 1\n",
    "    \n",
    "    # Seleccionar solo la columna 1\n",
    "    df = df[[0,1]]\n",
    "    df = df[:-1]\n",
    "    df.columns = ['Valor', 'Significado']\n",
    "    \n",
    "    # Reiniciar el índice\n",
    "    df.reset_index(drop=True, inplace=True)\n",
    "    \n",
    "    # Guardar el DataFrame transformado de nuevo en la lista\n",
    "    dataframes_list[i] = df\n",
    "\n",
    "# Asignar los DataFrames de vuelta a sus variables\n",
    "df_region, df_provincia, df_diasem, df_mes, df_anio, df_rhora, \\\n",
    "df_tipovia, df_genero, df_gedad, df_victima, df_accidente, \\\n",
    "df_mediot, df_estrello, df_vehichoque = dataframes_list\n"
   ]
  },
  {
   "cell_type": "code",
   "execution_count": null,
   "metadata": {},
   "outputs": [],
   "source": []
  }
 ],
 "metadata": {
  "kernelspec": {
   "display_name": "Python 3",
   "language": "python",
   "name": "python3"
  },
  "language_info": {
   "codemirror_mode": {
    "name": "ipython",
    "version": 3
   },
   "file_extension": ".py",
   "mimetype": "text/x-python",
   "name": "python",
   "nbconvert_exporter": "python",
   "pygments_lexer": "ipython3",
   "version": "3.11.9"
  }
 },
 "nbformat": 4,
 "nbformat_minor": 2
}
