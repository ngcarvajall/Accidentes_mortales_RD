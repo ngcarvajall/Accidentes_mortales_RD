{
 "cells": [
  {
   "cell_type": "markdown",
   "metadata": {
    "vscode": {
     "languageId": "plaintext"
    }
   },
   "source": [
    "## Carga de datos añadidos"
   ]
  },
  {
   "cell_type": "code",
   "execution_count": 25,
   "metadata": {},
   "outputs": [
    {
     "name": "stdout",
     "output_type": "stream",
     "text": [
      "The autoreload extension is already loaded. To reload it, use:\n",
      "  %reload_ext autoreload\n"
     ]
    }
   ],
   "source": [
    "%load_ext autoreload\n",
    "%autoreload 2\n",
    "\n",
    "# Librerías para tratamiento de datos\n",
    "\n",
    "import pandas as pd\n",
    "pd.set_option('display.max_columns', None) # Parámetro que modifica la visualización de los DFs\n",
    "\n",
    "# Librería para el acceso a variables y funciones\n",
    "import sys\n",
    "sys.path.append(\"../\")\n",
    "from src import soporte_funciones_BBDD as sfbd #Archivo .py donde encontraremos todas nuestras funciones.\n",
    "from src import soporte_variables_añadidos as sva\n",
    "\n",
    "# Librería para trabajar con bases de datos SQL\n",
    "import psycopg2\n",
    "from psycopg2 import OperationalError, errorcodes, errors\n",
    "\n",
    "# Librería para ignorar avisos\n",
    "import warnings\n",
    "warnings.filterwarnings(\"ignore\") # Ignora TODOS los avisos"
   ]
  },
  {
   "cell_type": "markdown",
   "metadata": {},
   "source": [
    "## Crear tuplas"
   ]
  },
  {
   "cell_type": "code",
   "execution_count": 35,
   "metadata": {},
   "outputs": [],
   "source": [
    "rutas = [\"../Datos/datos_plus/antiguedad_pvehicular.csv\", # aqui meto los csv que voy a cargar, rutas\n",
    "\"../Datos/datos_plus/defunciones_esp.csv\",\n",
    "\"../Datos/datos_plus/parque_vehicular_esp.csv\",\n",
    "\"../Datos/datos_plus/parquev_genero_prov.csv\", \n",
    "\"../Datos/datos_plus/parquev_privado_publico.csv\", \n",
    "\"../Datos/datos_parquev/df_2023_sinp.csv\"]\n",
    "lista_antiguos, lista_defunciones_es, lista_parquev_es, lista_parquev_genero, lista_publico_privado, lista_prov_2023 = sfbd.csvs_a_tuplas(rutas)"
   ]
  },
  {
   "cell_type": "markdown",
   "metadata": {},
   "source": [
    "## Creación de tablas"
   ]
  },
  {
   "cell_type": "code",
   "execution_count": 7,
   "metadata": {},
   "outputs": [
    {
     "name": "stdout",
     "output_type": "stream",
     "text": [
      "Commit realizado\n"
     ]
    }
   ],
   "source": [
    "sfbd.dbeaver_commit(sfbd.dbeaver_conexion(\"proyecto_final\"),sva.query_creacion_parque_vehicular_es)"
   ]
  },
  {
   "cell_type": "code",
   "execution_count": 8,
   "metadata": {},
   "outputs": [
    {
     "name": "stdout",
     "output_type": "stream",
     "text": [
      "Commit realizado\n"
     ]
    }
   ],
   "source": [
    "sfbd.dbeaver_commit(sfbd.dbeaver_conexion(\"proyecto_final\"),sva.query_creacion_defunciones_es)"
   ]
  },
  {
   "cell_type": "code",
   "execution_count": 9,
   "metadata": {},
   "outputs": [
    {
     "name": "stdout",
     "output_type": "stream",
     "text": [
      "Commit realizado\n"
     ]
    }
   ],
   "source": [
    "sfbd.dbeaver_commit(sfbd.dbeaver_conexion(\"proyecto_final\"),sva.query_creacion_antiguedad_pveh)"
   ]
  },
  {
   "cell_type": "code",
   "execution_count": 10,
   "metadata": {},
   "outputs": [
    {
     "name": "stdout",
     "output_type": "stream",
     "text": [
      "Commit realizado\n"
     ]
    }
   ],
   "source": [
    "sfbd.dbeaver_commit(sfbd.dbeaver_conexion(\"proyecto_final\"),sva.query_creacion_genero_provincia)"
   ]
  },
  {
   "cell_type": "code",
   "execution_count": 11,
   "metadata": {},
   "outputs": [
    {
     "name": "stdout",
     "output_type": "stream",
     "text": [
      "Commit realizado\n"
     ]
    }
   ],
   "source": [
    "sfbd.dbeaver_commit(sfbd.dbeaver_conexion(\"proyecto_final\"),sva.query_creacion_propietario)"
   ]
  },
  {
   "cell_type": "code",
   "execution_count": 12,
   "metadata": {},
   "outputs": [
    {
     "name": "stdout",
     "output_type": "stream",
     "text": [
      "Commit realizado\n"
     ]
    }
   ],
   "source": [
    "sfbd.dbeaver_commit(sfbd.dbeaver_conexion(\"proyecto_final\"),sva.query_creacion_parqueveh_2023)"
   ]
  },
  {
   "cell_type": "markdown",
   "metadata": {},
   "source": [
    "## Inserciones"
   ]
  },
  {
   "cell_type": "code",
   "execution_count": 13,
   "metadata": {},
   "outputs": [
    {
     "name": "stdout",
     "output_type": "stream",
     "text": [
      "Commit realizado\n"
     ]
    }
   ],
   "source": [
    "sfbd.dbeaver_commitmany(sfbd.dbeaver_conexion(\"proyecto_final\"),sva.query_inser_parque_vehicular_es,lista_parquev_es)"
   ]
  },
  {
   "cell_type": "code",
   "execution_count": 14,
   "metadata": {},
   "outputs": [
    {
     "name": "stdout",
     "output_type": "stream",
     "text": [
      "Commit realizado\n"
     ]
    }
   ],
   "source": [
    "sfbd.dbeaver_commitmany(sfbd.dbeaver_conexion(\"proyecto_final\"),sva.query_inser_defunciones_es,lista_defunciones_es)"
   ]
  },
  {
   "cell_type": "code",
   "execution_count": 15,
   "metadata": {},
   "outputs": [
    {
     "name": "stdout",
     "output_type": "stream",
     "text": [
      "Commit realizado\n"
     ]
    }
   ],
   "source": [
    "sfbd.dbeaver_commitmany(sfbd.dbeaver_conexion(\"proyecto_final\"),sva.query_inser_antiguedad_pveh,lista_antiguos)"
   ]
  },
  {
   "cell_type": "code",
   "execution_count": 16,
   "metadata": {},
   "outputs": [
    {
     "name": "stdout",
     "output_type": "stream",
     "text": [
      "Commit realizado\n"
     ]
    }
   ],
   "source": [
    "sfbd.dbeaver_commitmany(sfbd.dbeaver_conexion(\"proyecto_final\"),sva.query_inser_genero_provincia,lista_parquev_genero)"
   ]
  },
  {
   "cell_type": "code",
   "execution_count": 17,
   "metadata": {},
   "outputs": [
    {
     "name": "stdout",
     "output_type": "stream",
     "text": [
      "Commit realizado\n"
     ]
    }
   ],
   "source": [
    "sfbd.dbeaver_commitmany(sfbd.dbeaver_conexion(\"proyecto_final\"),sva.query_inser_propietario,lista_publico_privado)"
   ]
  },
  {
   "cell_type": "code",
   "execution_count": 18,
   "metadata": {},
   "outputs": [
    {
     "name": "stdout",
     "output_type": "stream",
     "text": [
      "Commit realizado\n"
     ]
    }
   ],
   "source": [
    "sfbd.dbeaver_commitmany(sfbd.dbeaver_conexion(\"proyecto_final\"),sva.query_inser_pveh_2023,lista_prov_2023)"
   ]
  }
 ],
 "metadata": {
  "kernelspec": {
   "display_name": "Python 3",
   "language": "python",
   "name": "python3"
  },
  "language_info": {
   "codemirror_mode": {
    "name": "ipython",
    "version": 3
   },
   "file_extension": ".py",
   "mimetype": "text/x-python",
   "name": "python",
   "nbconvert_exporter": "python",
   "pygments_lexer": "ipython3",
   "version": "3.11.9"
  }
 },
 "nbformat": 4,
 "nbformat_minor": 2
}
